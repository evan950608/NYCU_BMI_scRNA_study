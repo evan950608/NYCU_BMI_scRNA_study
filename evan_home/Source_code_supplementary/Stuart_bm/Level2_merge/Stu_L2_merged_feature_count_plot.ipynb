{
 "cells": [
  {
   "cell_type": "code",
   "execution_count": 2,
   "metadata": {},
   "outputs": [],
   "source": [
    "import scanpy as sc\n",
    "import pandas as pd\n",
    "import numpy as np\n",
    "import matplotlib.pyplot as plt"
   ]
  },
  {
   "cell_type": "code",
   "execution_count": 3,
   "metadata": {},
   "outputs": [
    {
     "name": "stdout",
     "output_type": "stream",
     "text": [
      "Original adata: (30011, 17009)\n",
      "all cell types: ['CD14_Mono', 'CD16_Mono', 'CD4_Memory', 'CD4_Naive', 'CD56_bright_NK', 'CD8_Effector_1', 'CD8_Effector_2', 'CD8_Memory_1', 'CD8_Memory_2', 'CD8_Naive', 'GMP', 'HSC', 'LMPP', 'MAIT', 'Memory_B', 'NK', 'Naive_B', 'Plasmablast', 'Prog_B_1', 'Prog_B_2', 'Prog_DC', 'Prog_Mk', 'Prog_RBC', 'Treg', 'cDC2', 'gdT', 'pDC']\n",
      "====================\n"
     ]
    }
   ],
   "source": [
    "adata = sc.read_h5ad('/Users/evanli/Documents/Research_datasets/Stuart_GSE128639/Stuart_bm_v2.h5ad')\n",
    "print('Original adata:', adata.shape)\n",
    "label = adata.obs['celltype.l2'].tolist()\n",
    "types = np.unique(label).tolist()\n",
    "print('all cell types:', types)\n",
    "print('====================')\n",
    "# del adata\n"
   ]
  },
  {
   "cell_type": "code",
   "execution_count": 4,
   "metadata": {},
   "outputs": [
    {
     "data": {
      "text/html": [
       "<div>\n",
       "<style scoped>\n",
       "    .dataframe tbody tr th:only-of-type {\n",
       "        vertical-align: middle;\n",
       "    }\n",
       "\n",
       "    .dataframe tbody tr th {\n",
       "        vertical-align: top;\n",
       "    }\n",
       "\n",
       "    .dataframe thead th {\n",
       "        text-align: right;\n",
       "    }\n",
       "</style>\n",
       "<table border=\"1\" class=\"dataframe\">\n",
       "  <thead>\n",
       "    <tr style=\"text-align: right;\">\n",
       "      <th></th>\n",
       "      <th>celltype.l1</th>\n",
       "      <th>celltype.l2</th>\n",
       "      <th>nCount_RNA</th>\n",
       "      <th>nFeature_RNA</th>\n",
       "      <th>nCount_ADT</th>\n",
       "      <th>nFeature_ADT</th>\n",
       "      <th>lane</th>\n",
       "      <th>donor</th>\n",
       "      <th>RNA.weight</th>\n",
       "    </tr>\n",
       "  </thead>\n",
       "  <tbody>\n",
       "    <tr>\n",
       "      <th>a_AAACCTGAGCTTATCG.1</th>\n",
       "      <td>Progenitor_cells</td>\n",
       "      <td>Prog_RBC</td>\n",
       "      <td>7546</td>\n",
       "      <td>2136</td>\n",
       "      <td>1350</td>\n",
       "      <td>25</td>\n",
       "      <td>HumanHTO4</td>\n",
       "      <td>batch1</td>\n",
       "      <td>0.487299</td>\n",
       "    </tr>\n",
       "    <tr>\n",
       "      <th>a_AAACCTGAGGTGGGTT.1</th>\n",
       "      <td>T_cell</td>\n",
       "      <td>gdT</td>\n",
       "      <td>1029</td>\n",
       "      <td>437</td>\n",
       "      <td>2970</td>\n",
       "      <td>25</td>\n",
       "      <td>HumanHTO1</td>\n",
       "      <td>batch1</td>\n",
       "      <td>0.245543</td>\n",
       "    </tr>\n",
       "    <tr>\n",
       "      <th>a_AAACCTGAGTACATGA.1</th>\n",
       "      <td>T_cell</td>\n",
       "      <td>CD4_Naive</td>\n",
       "      <td>1111</td>\n",
       "      <td>429</td>\n",
       "      <td>2474</td>\n",
       "      <td>23</td>\n",
       "      <td>HumanHTO5</td>\n",
       "      <td>batch1</td>\n",
       "      <td>0.501680</td>\n",
       "    </tr>\n",
       "    <tr>\n",
       "      <th>a_AAACCTGCAAACCTAC.1</th>\n",
       "      <td>T_cell</td>\n",
       "      <td>CD4_Memory</td>\n",
       "      <td>2741</td>\n",
       "      <td>851</td>\n",
       "      <td>4799</td>\n",
       "      <td>25</td>\n",
       "      <td>HumanHTO3</td>\n",
       "      <td>batch1</td>\n",
       "      <td>0.431308</td>\n",
       "    </tr>\n",
       "    <tr>\n",
       "      <th>a_AAACCTGCAAGGTGTG.1</th>\n",
       "      <td>Mono&amp;DC</td>\n",
       "      <td>CD14_Mono</td>\n",
       "      <td>2099</td>\n",
       "      <td>843</td>\n",
       "      <td>5434</td>\n",
       "      <td>25</td>\n",
       "      <td>HumanHTO2</td>\n",
       "      <td>batch1</td>\n",
       "      <td>0.572097</td>\n",
       "    </tr>\n",
       "  </tbody>\n",
       "</table>\n",
       "</div>"
      ],
      "text/plain": [
       "                           celltype.l1 celltype.l2  nCount_RNA  nFeature_RNA  \\\n",
       "a_AAACCTGAGCTTATCG.1  Progenitor_cells    Prog_RBC        7546          2136   \n",
       "a_AAACCTGAGGTGGGTT.1            T_cell         gdT        1029           437   \n",
       "a_AAACCTGAGTACATGA.1            T_cell   CD4_Naive        1111           429   \n",
       "a_AAACCTGCAAACCTAC.1            T_cell  CD4_Memory        2741           851   \n",
       "a_AAACCTGCAAGGTGTG.1           Mono&DC   CD14_Mono        2099           843   \n",
       "\n",
       "                      nCount_ADT  nFeature_ADT       lane   donor  RNA.weight  \n",
       "a_AAACCTGAGCTTATCG.1        1350            25  HumanHTO4  batch1    0.487299  \n",
       "a_AAACCTGAGGTGGGTT.1        2970            25  HumanHTO1  batch1    0.245543  \n",
       "a_AAACCTGAGTACATGA.1        2474            23  HumanHTO5  batch1    0.501680  \n",
       "a_AAACCTGCAAACCTAC.1        4799            25  HumanHTO3  batch1    0.431308  \n",
       "a_AAACCTGCAAGGTGTG.1        5434            25  HumanHTO2  batch1    0.572097  "
      ]
     },
     "execution_count": 4,
     "metadata": {},
     "output_type": "execute_result"
    }
   ],
   "source": [
    "adata.obs.head()"
   ]
  },
  {
   "cell_type": "code",
   "execution_count": 5,
   "metadata": {},
   "outputs": [
    {
     "data": {
      "text/plain": [
       "Index(['FO538757.2', 'AP006222.2', 'RP4-669L17.10', 'RP11-206L10.9',\n",
       "       'LINC00115', 'FAM41C', 'SAMD11', 'NOC2L', 'KLHL17', 'PLEKHN1',\n",
       "       ...\n",
       "       'FAM19A5', 'RP3-522J7.6', 'CITF22-1A6.3', 'MOV10L1', 'MIR99AHG',\n",
       "       'AP000223.42', 'DSCR9', 'AP001626.2', 'AP001046.5', 'AC004556.1'],\n",
       "      dtype='object', length=17009)"
      ]
     },
     "execution_count": 5,
     "metadata": {},
     "output_type": "execute_result"
    }
   ],
   "source": [
    "adata.var_names"
   ]
  },
  {
   "cell_type": "markdown",
   "metadata": {},
   "source": [
    "## Read features"
   ]
  },
  {
   "cell_type": "code",
   "execution_count": 6,
   "metadata": {},
   "outputs": [],
   "source": [
    "import os\n",
    "os.chdir('/Users/evanli/Documents/EvanPys/Progress/Stuart_bm/Level2_onlylog1p/feature_selection')\n",
    "\n",
    "features_dict = {}\n",
    "# Read features for each celltype\n",
    "for celltype in types:\n",
    "    try:\n",
    "        feature_df = pd.read_csv(f'{celltype}_features.txt', names=['Gene', 'Weight', 'Tendency'], sep='\\t')\n",
    "        features_dict[celltype] = feature_df\n",
    "    except:\n",
    "        print('skipping:', celltype)\n",
    "        continue\n",
    "    # print(celltype, 'Feature count:', feature_df.shape[0])\n",
    "    # print(celltype, 'Positive feature count:', feature_df[feature_df['Tendency'] == 1].shape[0])\n",
    "    # print('------------------')"
   ]
  },
  {
   "cell_type": "code",
   "execution_count": 7,
   "metadata": {},
   "outputs": [
    {
     "data": {
      "text/html": [
       "<div>\n",
       "<style scoped>\n",
       "    .dataframe tbody tr th:only-of-type {\n",
       "        vertical-align: middle;\n",
       "    }\n",
       "\n",
       "    .dataframe tbody tr th {\n",
       "        vertical-align: top;\n",
       "    }\n",
       "\n",
       "    .dataframe thead th {\n",
       "        text-align: right;\n",
       "    }\n",
       "</style>\n",
       "<table border=\"1\" class=\"dataframe\">\n",
       "  <thead>\n",
       "    <tr style=\"text-align: right;\">\n",
       "      <th></th>\n",
       "      <th>Feature_count</th>\n",
       "      <th>Positive_feature_count</th>\n",
       "    </tr>\n",
       "  </thead>\n",
       "  <tbody>\n",
       "    <tr>\n",
       "      <th>CD14_Mono</th>\n",
       "      <td>19</td>\n",
       "      <td>9</td>\n",
       "    </tr>\n",
       "    <tr>\n",
       "      <th>CD16_Mono</th>\n",
       "      <td>23</td>\n",
       "      <td>7</td>\n",
       "    </tr>\n",
       "    <tr>\n",
       "      <th>CD4_Memory</th>\n",
       "      <td>112</td>\n",
       "      <td>57</td>\n",
       "    </tr>\n",
       "    <tr>\n",
       "      <th>CD4_Naive</th>\n",
       "      <td>95</td>\n",
       "      <td>48</td>\n",
       "    </tr>\n",
       "    <tr>\n",
       "      <th>CD56_bright_NK</th>\n",
       "      <td>8</td>\n",
       "      <td>0</td>\n",
       "    </tr>\n",
       "    <tr>\n",
       "      <th>CD8_Effector_1</th>\n",
       "      <td>14</td>\n",
       "      <td>3</td>\n",
       "    </tr>\n",
       "    <tr>\n",
       "      <th>CD8_Effector_2</th>\n",
       "      <td>24</td>\n",
       "      <td>6</td>\n",
       "    </tr>\n",
       "    <tr>\n",
       "      <th>CD8_Memory_1</th>\n",
       "      <td>8</td>\n",
       "      <td>1</td>\n",
       "    </tr>\n",
       "    <tr>\n",
       "      <th>CD8_Memory_2</th>\n",
       "      <td>10</td>\n",
       "      <td>2</td>\n",
       "    </tr>\n",
       "    <tr>\n",
       "      <th>CD8_Naive</th>\n",
       "      <td>170</td>\n",
       "      <td>75</td>\n",
       "    </tr>\n",
       "    <tr>\n",
       "      <th>GMP</th>\n",
       "      <td>19</td>\n",
       "      <td>12</td>\n",
       "    </tr>\n",
       "    <tr>\n",
       "      <th>HSC</th>\n",
       "      <td>27</td>\n",
       "      <td>12</td>\n",
       "    </tr>\n",
       "    <tr>\n",
       "      <th>LMPP</th>\n",
       "      <td>15</td>\n",
       "      <td>8</td>\n",
       "    </tr>\n",
       "    <tr>\n",
       "      <th>MAIT</th>\n",
       "      <td>5</td>\n",
       "      <td>2</td>\n",
       "    </tr>\n",
       "    <tr>\n",
       "      <th>Memory_B</th>\n",
       "      <td>16</td>\n",
       "      <td>8</td>\n",
       "    </tr>\n",
       "    <tr>\n",
       "      <th>NK</th>\n",
       "      <td>12</td>\n",
       "      <td>3</td>\n",
       "    </tr>\n",
       "    <tr>\n",
       "      <th>Naive_B</th>\n",
       "      <td>23</td>\n",
       "      <td>11</td>\n",
       "    </tr>\n",
       "    <tr>\n",
       "      <th>Plasmablast</th>\n",
       "      <td>12</td>\n",
       "      <td>6</td>\n",
       "    </tr>\n",
       "    <tr>\n",
       "      <th>Prog_B_1</th>\n",
       "      <td>8</td>\n",
       "      <td>0</td>\n",
       "    </tr>\n",
       "    <tr>\n",
       "      <th>Prog_B_2</th>\n",
       "      <td>26</td>\n",
       "      <td>12</td>\n",
       "    </tr>\n",
       "    <tr>\n",
       "      <th>Prog_DC</th>\n",
       "      <td>35</td>\n",
       "      <td>11</td>\n",
       "    </tr>\n",
       "    <tr>\n",
       "      <th>Prog_Mk</th>\n",
       "      <td>32</td>\n",
       "      <td>16</td>\n",
       "    </tr>\n",
       "    <tr>\n",
       "      <th>Prog_RBC</th>\n",
       "      <td>10</td>\n",
       "      <td>7</td>\n",
       "    </tr>\n",
       "    <tr>\n",
       "      <th>Treg</th>\n",
       "      <td>9</td>\n",
       "      <td>0</td>\n",
       "    </tr>\n",
       "    <tr>\n",
       "      <th>cDC2</th>\n",
       "      <td>24</td>\n",
       "      <td>10</td>\n",
       "    </tr>\n",
       "    <tr>\n",
       "      <th>gdT</th>\n",
       "      <td>11</td>\n",
       "      <td>5</td>\n",
       "    </tr>\n",
       "    <tr>\n",
       "      <th>pDC</th>\n",
       "      <td>29</td>\n",
       "      <td>9</td>\n",
       "    </tr>\n",
       "  </tbody>\n",
       "</table>\n",
       "</div>"
      ],
      "text/plain": [
       "                Feature_count  Positive_feature_count\n",
       "CD14_Mono                  19                       9\n",
       "CD16_Mono                  23                       7\n",
       "CD4_Memory                112                      57\n",
       "CD4_Naive                  95                      48\n",
       "CD56_bright_NK              8                       0\n",
       "CD8_Effector_1             14                       3\n",
       "CD8_Effector_2             24                       6\n",
       "CD8_Memory_1                8                       1\n",
       "CD8_Memory_2               10                       2\n",
       "CD8_Naive                 170                      75\n",
       "GMP                        19                      12\n",
       "HSC                        27                      12\n",
       "LMPP                       15                       8\n",
       "MAIT                        5                       2\n",
       "Memory_B                   16                       8\n",
       "NK                         12                       3\n",
       "Naive_B                    23                      11\n",
       "Plasmablast                12                       6\n",
       "Prog_B_1                    8                       0\n",
       "Prog_B_2                   26                      12\n",
       "Prog_DC                    35                      11\n",
       "Prog_Mk                    32                      16\n",
       "Prog_RBC                   10                       7\n",
       "Treg                        9                       0\n",
       "cDC2                       24                      10\n",
       "gdT                        11                       5\n",
       "pDC                        29                       9"
      ]
     },
     "execution_count": 7,
     "metadata": {},
     "output_type": "execute_result"
    }
   ],
   "source": [
    "count_df = pd.DataFrame(columns=['Feature_count', 'Positive_feature_count'])\n",
    "for celltype in features_dict.keys():\n",
    "    feature_df = features_dict[celltype]\n",
    "    feature_count = feature_df.shape[0]\n",
    "    positive_count = feature_df[feature_df['Tendency'] == 1].shape[0]\n",
    "    count_df.loc[celltype] = [feature_count, positive_count]\n",
    "count_df"
   ]
  },
  {
   "cell_type": "code",
   "execution_count": 8,
   "metadata": {},
   "outputs": [
    {
     "name": "stdout",
     "output_type": "stream",
     "text": [
      "dict_keys(['CD8_Effector', 'CD8_Memory', 'Prog_B'])\n"
     ]
    },
    {
     "data": {
      "text/html": [
       "<div>\n",
       "<style scoped>\n",
       "    .dataframe tbody tr th:only-of-type {\n",
       "        vertical-align: middle;\n",
       "    }\n",
       "\n",
       "    .dataframe tbody tr th {\n",
       "        vertical-align: top;\n",
       "    }\n",
       "\n",
       "    .dataframe thead th {\n",
       "        text-align: right;\n",
       "    }\n",
       "</style>\n",
       "<table border=\"1\" class=\"dataframe\">\n",
       "  <thead>\n",
       "    <tr style=\"text-align: right;\">\n",
       "      <th></th>\n",
       "      <th>Feature_count</th>\n",
       "      <th>Positive_feature_count</th>\n",
       "    </tr>\n",
       "  </thead>\n",
       "  <tbody>\n",
       "    <tr>\n",
       "      <th>CD8_Effector</th>\n",
       "      <td>19</td>\n",
       "      <td>3</td>\n",
       "    </tr>\n",
       "    <tr>\n",
       "      <th>CD8_Memory</th>\n",
       "      <td>9</td>\n",
       "      <td>1</td>\n",
       "    </tr>\n",
       "    <tr>\n",
       "      <th>Prog_B</th>\n",
       "      <td>24</td>\n",
       "      <td>10</td>\n",
       "    </tr>\n",
       "  </tbody>\n",
       "</table>\n",
       "</div>"
      ],
      "text/plain": [
       "              Feature_count  Positive_feature_count\n",
       "CD8_Effector             19                       3\n",
       "CD8_Memory                9                       1\n",
       "Prog_B                   24                      10"
      ]
     },
     "execution_count": 8,
     "metadata": {},
     "output_type": "execute_result"
    }
   ],
   "source": [
    "# Read merged L2 features\n",
    "os.chdir('/Users/evanli/Documents/EvanPys/Progress/Stuart_bm/Level2_merge/feature_selection')\n",
    "\n",
    "features_dict_merged = {}\n",
    "# Read features for each celltype\n",
    "cts = ['CD8_Effector', 'CD8_Memory', 'Prog_B']\n",
    "for celltype in cts:\n",
    "    try:\n",
    "        feature_df = pd.read_csv(f'{celltype}_features.txt', names=['Gene', 'Weight', 'Tendency'], sep='\\t')\n",
    "        features_dict_merged[celltype] = feature_df\n",
    "    except:\n",
    "        print('skipping:', celltype)\n",
    "        continue\n",
    "\n",
    "print(features_dict_merged.keys())\n",
    "\n",
    "count_df_merged = pd.DataFrame(columns=['Feature_count', 'Positive_feature_count'])\n",
    "for celltype in features_dict_merged.keys():\n",
    "    feature_df = features_dict_merged[celltype]\n",
    "    feature_count = feature_df.shape[0]\n",
    "    positive_count = feature_df[feature_df['Tendency'] == 1].shape[0]\n",
    "    count_df_merged.loc[celltype] = [feature_count, positive_count]\n",
    "count_df_merged"
   ]
  },
  {
   "cell_type": "code",
   "execution_count": 9,
   "metadata": {},
   "outputs": [
    {
     "data": {
      "text/html": [
       "<div>\n",
       "<style scoped>\n",
       "    .dataframe tbody tr th:only-of-type {\n",
       "        vertical-align: middle;\n",
       "    }\n",
       "\n",
       "    .dataframe tbody tr th {\n",
       "        vertical-align: top;\n",
       "    }\n",
       "\n",
       "    .dataframe thead th {\n",
       "        text-align: right;\n",
       "    }\n",
       "</style>\n",
       "<table border=\"1\" class=\"dataframe\">\n",
       "  <thead>\n",
       "    <tr style=\"text-align: right;\">\n",
       "      <th></th>\n",
       "      <th>Feature_count</th>\n",
       "      <th>Positive_feature_count</th>\n",
       "    </tr>\n",
       "  </thead>\n",
       "  <tbody>\n",
       "    <tr>\n",
       "      <th>CD8_Effector</th>\n",
       "      <td>19</td>\n",
       "      <td>3</td>\n",
       "    </tr>\n",
       "    <tr>\n",
       "      <th>CD8_Effector_1</th>\n",
       "      <td>14</td>\n",
       "      <td>3</td>\n",
       "    </tr>\n",
       "    <tr>\n",
       "      <th>CD8_Effector_2</th>\n",
       "      <td>24</td>\n",
       "      <td>6</td>\n",
       "    </tr>\n",
       "    <tr>\n",
       "      <th>CD8_Memory</th>\n",
       "      <td>9</td>\n",
       "      <td>1</td>\n",
       "    </tr>\n",
       "    <tr>\n",
       "      <th>CD8_Memory_1</th>\n",
       "      <td>8</td>\n",
       "      <td>1</td>\n",
       "    </tr>\n",
       "    <tr>\n",
       "      <th>CD8_Memory_2</th>\n",
       "      <td>10</td>\n",
       "      <td>2</td>\n",
       "    </tr>\n",
       "    <tr>\n",
       "      <th>Prog_B</th>\n",
       "      <td>24</td>\n",
       "      <td>10</td>\n",
       "    </tr>\n",
       "    <tr>\n",
       "      <th>Prog_B_1</th>\n",
       "      <td>8</td>\n",
       "      <td>0</td>\n",
       "    </tr>\n",
       "    <tr>\n",
       "      <th>Prog_B_2</th>\n",
       "      <td>26</td>\n",
       "      <td>12</td>\n",
       "    </tr>\n",
       "  </tbody>\n",
       "</table>\n",
       "</div>"
      ],
      "text/plain": [
       "                Feature_count  Positive_feature_count\n",
       "CD8_Effector               19                       3\n",
       "CD8_Effector_1             14                       3\n",
       "CD8_Effector_2             24                       6\n",
       "CD8_Memory                  9                       1\n",
       "CD8_Memory_1                8                       1\n",
       "CD8_Memory_2               10                       2\n",
       "Prog_B                     24                      10\n",
       "Prog_B_1                    8                       0\n",
       "Prog_B_2                   26                      12"
      ]
     },
     "execution_count": 9,
     "metadata": {},
     "output_type": "execute_result"
    }
   ],
   "source": [
    "rows_to_append = ['CD8_Effector_1', 'CD8_Effector_2', 'CD8_Memory_1', 'CD8_Memory_2', 'Prog_B_1', 'Prog_B_2']\n",
    "count_df_merged = pd.concat([count_df_merged, count_df.loc[rows_to_append, :]])\n",
    "count_df_merged.sort_index(inplace=True)\n",
    "count_df_merged"
   ]
  },
  {
   "cell_type": "code",
   "execution_count": 10,
   "metadata": {},
   "outputs": [
    {
     "data": {
      "image/png": "[encoded data removed]",
      "text/plain": [
       "<Figure size 800x600 with 1 Axes>"
      ]
     },
     "metadata": {},
     "output_type": "display_data"
    }
   ],
   "source": [
    "# Sort count_df by 'Feature_count' in descending order\n",
    "# count_df = count_df.sort_values('Feature_count', ascending=False)\n",
    "\n",
    "# plot barplot\n",
    "fig, ax = plt.subplots(figsize=(8, 6))\n",
    "x = np.arange(len(count_df_merged.index))\n",
    "bar_width = 0.4\n",
    "\n",
    "ax.bar(x - bar_width/2, count_df_merged['Feature_count'], bar_width, label='Feature count')\n",
    "ax.bar(x + bar_width/2, count_df_merged['Positive_feature_count'], bar_width, label='Positive feature count')\n",
    "\n",
    "# Add the values to each bar\n",
    "for i, v in enumerate(count_df_merged['Feature_count']):\n",
    "    plt.text(i-0.4, v, str(v), fontsize=8)\n",
    "for i, v in enumerate(count_df_merged['Positive_feature_count']):\n",
    "    plt.text(i, v, str(v), fontsize=8)\n",
    "\n",
    "ax.set_xticks(x)\n",
    "ax.set_xticklabels(count_df_merged.index)\n",
    "plt.xticks(rotation=90)\n",
    "plt.title('Level2 feature count for each celltype')\n",
    "ax.legend(fontsize='small')\n",
    "# plt.savefig('L2_feature_count.png', dpi=300, bbox_inches='tight')\n",
    "plt.show()"
   ]
  },
  {
   "cell_type": "markdown",
   "metadata": {},
   "source": [
    "## Plot cell number"
   ]
  },
  {
   "cell_type": "code",
   "execution_count": 12,
   "metadata": {},
   "outputs": [
    {
     "data": {
      "text/plain": [
       "CD4_Memory        3329\n",
       "CD4_Naive         4370\n",
       "CD8_Effector_1     571\n",
       "CD8_Effector_2     303\n",
       "CD8_Memory_1       438\n",
       "CD8_Memory_2       549\n",
       "CD8_Naive         3835\n",
       "CD14_Mono         6435\n",
       "CD16_Mono          427\n",
       "CD56_bright_NK     125\n",
       "GMP                739\n",
       "HSC                258\n",
       "LMPP               287\n",
       "MAIT               514\n",
       "Memory_B          1620\n",
       "NK                1251\n",
       "Naive_B           1892\n",
       "Plasmablast        221\n",
       "Prog_B_1           142\n",
       "Prog_B_2           126\n",
       "Prog_DC            260\n",
       "Prog_Mk            121\n",
       "Prog_RBC           745\n",
       "Treg               291\n",
       "cDC2               474\n",
       "gdT                366\n",
       "pDC                322\n",
       "Name: celltype.l2, dtype: int64"
      ]
     },
     "execution_count": 12,
     "metadata": {},
     "output_type": "execute_result"
    }
   ],
   "source": [
    "counts = adata.obs['celltype.l2'].value_counts()\n",
    "counts = counts.sort_index()\n",
    "counts"
   ]
  },
  {
   "cell_type": "code",
   "execution_count": 13,
   "metadata": {},
   "outputs": [
    {
     "data": {
      "text/plain": [
       "30011"
      ]
     },
     "execution_count": 13,
     "metadata": {},
     "output_type": "execute_result"
    }
   ],
   "source": [
    "sum(counts)"
   ]
  },
  {
   "cell_type": "code",
   "execution_count": 21,
   "metadata": {},
   "outputs": [
    {
     "data": {
      "text/plain": [
       "CD8_Effector_1    571\n",
       "CD8_Effector_2    303\n",
       "CD8_Memory_1      438\n",
       "CD8_Memory_2      549\n",
       "Prog_B_1          142\n",
       "Prog_B_2          126\n",
       "Name: celltype.l2, dtype: int64"
      ]
     },
     "execution_count": 21,
     "metadata": {},
     "output_type": "execute_result"
    }
   ],
   "source": [
    "# Plot merged L2 feature count\n",
    "subtypes = ['CD8_Effector_1', 'CD8_Effector_2', 'CD8_Memory_1', 'CD8_Memory_2', 'Prog_B_1', 'Prog_B_2']\n",
    "subtype_counts = counts.loc[subtypes]\n",
    "subtype_counts\n"
   ]
  },
  {
   "cell_type": "code",
   "execution_count": 22,
   "metadata": {},
   "outputs": [
    {
     "name": "stdout",
     "output_type": "stream",
     "text": [
      "CD8_Effector    874\n",
      "CD8_Memory      987\n",
      "Prog_B          268\n",
      "Name: celltype.l2, dtype: int64\n"
     ]
    },
    {
     "data": {
      "text/plain": [
       "CD8_Effector      874\n",
       "CD8_Effector_1    571\n",
       "CD8_Effector_2    303\n",
       "CD8_Memory        987\n",
       "CD8_Memory_1      438\n",
       "CD8_Memory_2      549\n",
       "Prog_B            268\n",
       "Prog_B_1          142\n",
       "Prog_B_2          126\n",
       "Name: celltype.l2, dtype: int64"
      ]
     },
     "execution_count": 22,
     "metadata": {},
     "output_type": "execute_result"
    }
   ],
   "source": [
    "# Define a dictionary to map subtypes to larger types\n",
    "merge_dict = {\n",
    "    'CD8_Effector_1': 'CD8_Effector',\n",
    "    'CD8_Effector_2': 'CD8_Effector',\n",
    "    'CD8_Memory_1': 'CD8_Memory',\n",
    "    'CD8_Memory_2': 'CD8_Memory',\n",
    "    'Prog_B_1': 'Prog_B',\n",
    "    'Prog_B_2': 'Prog_B'\n",
    "}\n",
    "\n",
    "# Replace subtypes with larger types\n",
    "merged_counts_larger_types = subtype_counts.rename(index=merge_dict)\n",
    "\n",
    "# Combine cell counts for larger types\n",
    "combined_counts = merged_counts_larger_types.groupby(level=0).sum()\n",
    "\n",
    "print(combined_counts)\n",
    "\n",
    "merged_counts = pd.concat([subtype_counts, combined_counts])\n",
    "merged_counts.sort_index(inplace=True)\n",
    "merged_counts"
   ]
  },
  {
   "cell_type": "code",
   "execution_count": 28,
   "metadata": {},
   "outputs": [
    {
     "data": {
      "image/png": "[encoded data removed]",
      "text/plain": [
       "<Figure size 640x480 with 1 Axes>"
      ]
     },
     "metadata": {},
     "output_type": "display_data"
    }
   ],
   "source": [
    "import seaborn as sns\n",
    "\n",
    "# Get the default color palette\n",
    "palette = sns.color_palette()\n",
    "\n",
    "# Create a color list where 1-3 bars, 4-6 bars, 7-9 bars have different colors\n",
    "colors = [palette[0]]*3 + [palette[1]]*3 + [palette[2]]*3\n",
    "\n",
    "merged_counts.plot(kind='bar', color=colors)\n",
    "plt.title('Level 2 merged subtypes cell counts')\n",
    "plt.ylabel('Counts')\n",
    "plt.show()"
   ]
  }
 ],
 "metadata": {
  "kernelspec": {
   "display_name": "Python 3",
   "language": "python",
   "name": "python3"
  },
  "language_info": {
   "codemirror_mode": {
    "name": "ipython",
    "version": 3
   },
   "file_extension": ".py",
   "mimetype": "text/x-python",
   "name": "python",
   "nbconvert_exporter": "python",
   "pygments_lexer": "ipython3",
   "version": "3.9.12"
  }
 },
 "nbformat": 4,
 "nbformat_minor": 2
}

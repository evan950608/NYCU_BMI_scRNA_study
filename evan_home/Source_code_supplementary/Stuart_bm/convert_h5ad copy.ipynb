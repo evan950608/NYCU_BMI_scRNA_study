{
 "cells": [
  {
   "cell_type": "code",
   "execution_count": 1,
   "id": "89371395",
   "metadata": {},
   "outputs": [],
   "source": [
    "import logging\n",
    "import anndata\n",
    "import scanpy as sc\n",
    "import os\n",
    "import csv\n",
    "import gzip"
   ]
  },
  {
   "cell_type": "code",
   "execution_count": 2,
   "id": "e106e94a",
   "metadata": {},
   "outputs": [],
   "source": [
    "dataset_dir = '/Users/evanli/Documents/Research_datasets/Stuart_GSE128639/Stuart_GSE128639_RAW'\n",
    "data_file = \"GSM3681518_MNC_RNA_counts.tsv\"\n",
    "var_names_file = \"\"\n",
    "obs_names_file = \"\"\n",
    "output_h5ad_file = \"Stuart_bm.h5ad\"\n",
    "\n",
    "data_path = os.path.join(dataset_dir,data_file)\n",
    "var_names_path = os.path.join(dataset_dir,var_names_file)\n",
    "obs_names_path = os.path.join(dataset_dir,obs_names_file)\n",
    "output_h5ad_path = os.path.join(dataset_dir,output_h5ad_file)"
   ]
  },
  {
   "cell_type": "code",
   "execution_count": null,
   "id": "eeba932e",
   "metadata": {},
   "outputs": [],
   "source": [
    "with open(var_names_path, \"r\") as var_file:\n",
    "    var_read = csv.reader(var_file, delimiter='\\t')\n",
    "    var_names = []\n",
    "    for row in var_read:\n",
    "        var_names.append(row[1])"
   ]
  },
  {
   "cell_type": "code",
   "execution_count": 11,
   "id": "d6b9bbd9",
   "metadata": {},
   "outputs": [],
   "source": [
    "with open(obs_names_path, \"r\") as obs_file:\n",
    "    obs_read = csv.reader(obs_file, delimiter='\\t')\n",
    "    obs_names = []\n",
    "    for row in obs_read:\n",
    "        obs_names.append(row[0])"
   ]
  },
  {
   "cell_type": "code",
   "execution_count": 7,
   "id": "833e7b47",
   "metadata": {},
   "outputs": [],
   "source": [
    "adata = sc.read(data_path) "
   ]
  },
  {
   "cell_type": "code",
   "execution_count": 9,
   "id": "76b96899",
   "metadata": {},
   "outputs": [],
   "source": [
    "adata = adata.transpose()"
   ]
  },
  {
   "cell_type": "code",
   "execution_count": 10,
   "id": "fe279a1d",
   "metadata": {},
   "outputs": [
    {
     "data": {
      "text/plain": [
       "(33454, 17009)"
      ]
     },
     "execution_count": 10,
     "metadata": {},
     "output_type": "execute_result"
    }
   ],
   "source": [
    "adata.shape\n",
    "# (33454, 17009)\n",
    "# 33454 cells, 17009 genes"
   ]
  },
  {
   "cell_type": "code",
   "execution_count": 11,
   "id": "ab8066f5",
   "metadata": {},
   "outputs": [
    {
     "data": {
      "text/plain": [
       "Index(['FO538757.2', 'AP006222.2', 'RP4-669L17.10', 'RP11-206L10.9',\n",
       "       'LINC00115', 'FAM41C', 'SAMD11', 'NOC2L', 'KLHL17', 'PLEKHN1',\n",
       "       ...\n",
       "       'FAM19A5', 'RP3-522J7.6', 'CITF22-1A6.3', 'MOV10L1', 'MIR99AHG',\n",
       "       'AP000223.42', 'DSCR9', 'AP001626.2', 'AP001046.5', 'AC004556.1'],\n",
       "      dtype='object', length=17009)"
      ]
     },
     "execution_count": 11,
     "metadata": {},
     "output_type": "execute_result"
    }
   ],
   "source": [
    "adata.var_names  # genes"
   ]
  },
  {
   "cell_type": "code",
   "execution_count": 12,
   "id": "13d860e4",
   "metadata": {},
   "outputs": [
    {
     "data": {
      "text/plain": [
       "Index(['a_AAACCTGAGCTTATCG.1', 'a_AAACCTGAGGTGGGTT.1', 'a_AAACCTGAGTACATGA.1',\n",
       "       'a_AAACCTGCAAACCTAC.1', 'a_AAACCTGCAAGGTGTG.1', 'a_AAACCTGCACGGTAGA.1',\n",
       "       'a_AAACCTGCACTTGGAT.1', 'a_AAACCTGCAGATGAGC.1', 'a_AAACCTGCAGATGGGT.1',\n",
       "       'a_AAACCTGCAGCCTTGG.1',\n",
       "       ...\n",
       "       'b_TTTGTCATCAACACTG.1', 'b_TTTGTCATCACTTATC.1', 'b_TTTGTCATCAGCGACC.1',\n",
       "       'b_TTTGTCATCATAGCAC.1', 'b_TTTGTCATCCAAATGC.1', 'b_TTTGTCATCCGAGCCA.1',\n",
       "       'b_TTTGTCATCCGTAGGC.1', 'b_TTTGTCATCCTCGCAT.1', 'b_TTTGTCATCGCCGTGA.1',\n",
       "       'b_TTTGTCATCTACGAGT.1'],\n",
       "      dtype='object', length=33454)"
      ]
     },
     "execution_count": 12,
     "metadata": {},
     "output_type": "execute_result"
    }
   ],
   "source": [
    "adata.obs_names  # cells"
   ]
  },
  {
   "cell_type": "code",
   "execution_count": 22,
   "id": "a9e03167",
   "metadata": {},
   "outputs": [
    {
     "data": {
      "text/html": [
       "<div>\n",
       "<style scoped>\n",
       "    .dataframe tbody tr th:only-of-type {\n",
       "        vertical-align: middle;\n",
       "    }\n",
       "\n",
       "    .dataframe tbody tr th {\n",
       "        vertical-align: top;\n",
       "    }\n",
       "\n",
       "    .dataframe thead th {\n",
       "        text-align: right;\n",
       "    }\n",
       "</style>\n",
       "<table border=\"1\" class=\"dataframe\">\n",
       "  <thead>\n",
       "    <tr style=\"text-align: right;\">\n",
       "      <th></th>\n",
       "      <th>orig.ident</th>\n",
       "      <th>nCount_RNA</th>\n",
       "      <th>nFeature_RNA</th>\n",
       "      <th>nCount_ADT</th>\n",
       "      <th>nFeature_ADT</th>\n",
       "      <th>lane</th>\n",
       "      <th>donor</th>\n",
       "      <th>celltype.l1</th>\n",
       "      <th>celltype.l2</th>\n",
       "      <th>RNA.weight</th>\n",
       "      <th>ADT.weight</th>\n",
       "      <th>wsnn_res.2</th>\n",
       "      <th>seurat_clusters</th>\n",
       "    </tr>\n",
       "  </thead>\n",
       "  <tbody>\n",
       "    <tr>\n",
       "      <th>a_AAACCTGAGCTTATCG.1</th>\n",
       "      <td>bmcite</td>\n",
       "      <td>7546</td>\n",
       "      <td>2136</td>\n",
       "      <td>1350</td>\n",
       "      <td>25</td>\n",
       "      <td>HumanHTO4</td>\n",
       "      <td>batch1</td>\n",
       "      <td>Progenitor cells</td>\n",
       "      <td>Prog_RBC</td>\n",
       "      <td>0.487299</td>\n",
       "      <td>0.512701</td>\n",
       "      <td>19</td>\n",
       "      <td>19</td>\n",
       "    </tr>\n",
       "    <tr>\n",
       "      <th>a_AAACCTGAGGTGGGTT.1</th>\n",
       "      <td>bmcite</td>\n",
       "      <td>1029</td>\n",
       "      <td>437</td>\n",
       "      <td>2970</td>\n",
       "      <td>25</td>\n",
       "      <td>HumanHTO1</td>\n",
       "      <td>batch1</td>\n",
       "      <td>T cell</td>\n",
       "      <td>gdT</td>\n",
       "      <td>0.245543</td>\n",
       "      <td>0.754457</td>\n",
       "      <td>10</td>\n",
       "      <td>10</td>\n",
       "    </tr>\n",
       "    <tr>\n",
       "      <th>a_AAACCTGAGTACATGA.1</th>\n",
       "      <td>bmcite</td>\n",
       "      <td>1111</td>\n",
       "      <td>429</td>\n",
       "      <td>2474</td>\n",
       "      <td>23</td>\n",
       "      <td>HumanHTO5</td>\n",
       "      <td>batch1</td>\n",
       "      <td>T cell</td>\n",
       "      <td>CD4 Naive</td>\n",
       "      <td>0.501680</td>\n",
       "      <td>0.498320</td>\n",
       "      <td>1</td>\n",
       "      <td>1</td>\n",
       "    </tr>\n",
       "    <tr>\n",
       "      <th>a_AAACCTGCAAACCTAC.1</th>\n",
       "      <td>bmcite</td>\n",
       "      <td>2741</td>\n",
       "      <td>851</td>\n",
       "      <td>4799</td>\n",
       "      <td>25</td>\n",
       "      <td>HumanHTO3</td>\n",
       "      <td>batch1</td>\n",
       "      <td>T cell</td>\n",
       "      <td>CD4 Memory</td>\n",
       "      <td>0.431308</td>\n",
       "      <td>0.568692</td>\n",
       "      <td>4</td>\n",
       "      <td>4</td>\n",
       "    </tr>\n",
       "    <tr>\n",
       "      <th>a_AAACCTGCAAGGTGTG.1</th>\n",
       "      <td>bmcite</td>\n",
       "      <td>2099</td>\n",
       "      <td>843</td>\n",
       "      <td>5434</td>\n",
       "      <td>25</td>\n",
       "      <td>HumanHTO2</td>\n",
       "      <td>batch1</td>\n",
       "      <td>Mono/DC</td>\n",
       "      <td>CD14 Mono</td>\n",
       "      <td>0.572097</td>\n",
       "      <td>0.427903</td>\n",
       "      <td>2</td>\n",
       "      <td>2</td>\n",
       "    </tr>\n",
       "  </tbody>\n",
       "</table>\n",
       "</div>"
      ],
      "text/plain": [
       "                     orig.ident  nCount_RNA  nFeature_RNA  nCount_ADT  \\\n",
       "a_AAACCTGAGCTTATCG.1     bmcite        7546          2136        1350   \n",
       "a_AAACCTGAGGTGGGTT.1     bmcite        1029           437        2970   \n",
       "a_AAACCTGAGTACATGA.1     bmcite        1111           429        2474   \n",
       "a_AAACCTGCAAACCTAC.1     bmcite        2741           851        4799   \n",
       "a_AAACCTGCAAGGTGTG.1     bmcite        2099           843        5434   \n",
       "\n",
       "                      nFeature_ADT       lane   donor       celltype.l1  \\\n",
       "a_AAACCTGAGCTTATCG.1            25  HumanHTO4  batch1  Progenitor cells   \n",
       "a_AAACCTGAGGTGGGTT.1            25  HumanHTO1  batch1            T cell   \n",
       "a_AAACCTGAGTACATGA.1            23  HumanHTO5  batch1            T cell   \n",
       "a_AAACCTGCAAACCTAC.1            25  HumanHTO3  batch1            T cell   \n",
       "a_AAACCTGCAAGGTGTG.1            25  HumanHTO2  batch1           Mono/DC   \n",
       "\n",
       "                     celltype.l2  RNA.weight  ADT.weight  wsnn_res.2  \\\n",
       "a_AAACCTGAGCTTATCG.1    Prog_RBC    0.487299    0.512701          19   \n",
       "a_AAACCTGAGGTGGGTT.1         gdT    0.245543    0.754457          10   \n",
       "a_AAACCTGAGTACATGA.1   CD4 Naive    0.501680    0.498320           1   \n",
       "a_AAACCTGCAAACCTAC.1  CD4 Memory    0.431308    0.568692           4   \n",
       "a_AAACCTGCAAGGTGTG.1   CD14 Mono    0.572097    0.427903           2   \n",
       "\n",
       "                      seurat_clusters  \n",
       "a_AAACCTGAGCTTATCG.1               19  \n",
       "a_AAACCTGAGGTGGGTT.1               10  \n",
       "a_AAACCTGAGTACATGA.1                1  \n",
       "a_AAACCTGCAAACCTAC.1                4  \n",
       "a_AAACCTGCAAGGTGTG.1                2  "
      ]
     },
     "execution_count": 22,
     "metadata": {},
     "output_type": "execute_result"
    }
   ],
   "source": [
    "import pandas as pd\n",
    "import numpy as np\n",
    "\n",
    "# Metadata\n",
    "metadata = pd.read_csv('/Users/evanli/Documents/EvanPys/Progress/Stuart_bm/Stuart_metadata.csv', index_col=0)\n",
    "metadata.index = metadata.index.str.replace(\"-\", \".\")\n",
    "\n",
    "metadata.head()  # 30672 cells (rows)"
   ]
  },
  {
   "cell_type": "code",
   "execution_count": 23,
   "id": "f49b41b3",
   "metadata": {},
   "outputs": [
    {
     "data": {
      "text/plain": [
       "(30672, 13)"
      ]
     },
     "execution_count": 23,
     "metadata": {},
     "output_type": "execute_result"
    }
   ],
   "source": [
    "metadata.shape"
   ]
  },
  {
   "cell_type": "code",
   "execution_count": 29,
   "id": "7d87d054",
   "metadata": {},
   "outputs": [
    {
     "name": "stdout",
     "output_type": "stream",
     "text": [
      "No of common cells that are present in both the metadata (30672) and the adata (33454):\n",
      "30011\n",
      "(30011, 17009)\n",
      "(30011, 13)\n"
     ]
    }
   ],
   "source": [
    "# Convert the pandas Index objects to sets and find the intersection\n",
    "common_elements = set(metadata.index).intersection(set(adata.obs_names))\n",
    "print('No of common cells that are present in both the metadata (30672) and the adata (33454):')\n",
    "print(len(common_elements))\n",
    "\n",
    "# Filter the adata object to only include the cells that are present in the metadata\n",
    "adata_common = adata[adata.obs_names.isin(metadata.index), :]\n",
    "print(adata_common.shape)\n",
    "# Filter the metadata object to only include the cells that are present in the adata\n",
    "metadata_common = metadata.loc[adata_common.obs_names, :]\n",
    "print(metadata_common.shape)"
   ]
  },
  {
   "cell_type": "code",
   "execution_count": 31,
   "id": "74129e91",
   "metadata": {},
   "outputs": [
    {
     "data": {
      "text/plain": [
       "Index(['orig.ident', 'nCount_RNA', 'nFeature_RNA', 'nCount_ADT',\n",
       "       'nFeature_ADT', 'lane', 'donor', 'celltype.l1', 'celltype.l2',\n",
       "       'RNA.weight', 'ADT.weight', 'wsnn_res.2', 'seurat_clusters'],\n",
       "      dtype='object')"
      ]
     },
     "execution_count": 31,
     "metadata": {},
     "output_type": "execute_result"
    }
   ],
   "source": [
    "metadata_common.columns"
   ]
  },
  {
   "cell_type": "code",
   "execution_count": 32,
   "id": "7283e723",
   "metadata": {},
   "outputs": [
    {
     "name": "stderr",
     "output_type": "stream",
     "text": [
      "/var/folders/t1/zclr_f3s57j185f2tblqgwt00000gn/T/ipykernel_64477/3093595328.py:1: ImplicitModificationWarning: Trying to modify attribute `.obs` of view, initializing view as actual.\n",
      "  adata_common.obs['celltype.l1'] = metadata_common['celltype.l1'].tolist()\n"
     ]
    }
   ],
   "source": [
    "adata_common.obs['celltype.l1'] = metadata_common['celltype.l1'].tolist()\n",
    "adata_common.obs['celltype.l2'] = metadata_common['celltype.l2'].tolist()\n",
    "adata_common.obs['nCount_RNA'] = metadata_common['nCount_RNA'].tolist()\n",
    "adata_common.obs['nFeature_RNA'] = metadata_common['nFeature_RNA'].tolist()\n",
    "adata_common.obs['nCount_ADT'] = metadata_common['nCount_ADT'].tolist()\n",
    "adata_common.obs['nFeature_ADT'] = metadata_common['nFeature_ADT'].tolist()\n",
    "adata_common.obs['lane'] = metadata_common['lane'].tolist()\n",
    "adata_common.obs['donor'] = metadata_common['donor'].tolist()\n",
    "adata_common.obs['RNA.weight'] = metadata_common['RNA.weight'].tolist()"
   ]
  },
  {
   "cell_type": "code",
   "execution_count": 43,
   "id": "2b0d3641",
   "metadata": {},
   "outputs": [
    {
     "data": {
      "text/html": [
       "<div>\n",
       "<style scoped>\n",
       "    .dataframe tbody tr th:only-of-type {\n",
       "        vertical-align: middle;\n",
       "    }\n",
       "\n",
       "    .dataframe tbody tr th {\n",
       "        vertical-align: top;\n",
       "    }\n",
       "\n",
       "    .dataframe thead th {\n",
       "        text-align: right;\n",
       "    }\n",
       "</style>\n",
       "<table border=\"1\" class=\"dataframe\">\n",
       "  <thead>\n",
       "    <tr style=\"text-align: right;\">\n",
       "      <th></th>\n",
       "      <th>celltype.l1</th>\n",
       "      <th>celltype.l2</th>\n",
       "      <th>nCount_RNA</th>\n",
       "      <th>nFeature_RNA</th>\n",
       "      <th>nCount_ADT</th>\n",
       "      <th>nFeature_ADT</th>\n",
       "      <th>lane</th>\n",
       "      <th>donor</th>\n",
       "      <th>RNA.weight</th>\n",
       "    </tr>\n",
       "  </thead>\n",
       "  <tbody>\n",
       "    <tr>\n",
       "      <th>a_AAACCTGAGCTTATCG.1</th>\n",
       "      <td>Progenitor cells</td>\n",
       "      <td>Prog_RBC</td>\n",
       "      <td>7546</td>\n",
       "      <td>2136</td>\n",
       "      <td>1350</td>\n",
       "      <td>25</td>\n",
       "      <td>HumanHTO4</td>\n",
       "      <td>batch1</td>\n",
       "      <td>0.487299</td>\n",
       "    </tr>\n",
       "    <tr>\n",
       "      <th>a_AAACCTGAGGTGGGTT.1</th>\n",
       "      <td>T cell</td>\n",
       "      <td>gdT</td>\n",
       "      <td>1029</td>\n",
       "      <td>437</td>\n",
       "      <td>2970</td>\n",
       "      <td>25</td>\n",
       "      <td>HumanHTO1</td>\n",
       "      <td>batch1</td>\n",
       "      <td>0.245543</td>\n",
       "    </tr>\n",
       "    <tr>\n",
       "      <th>a_AAACCTGAGTACATGA.1</th>\n",
       "      <td>T cell</td>\n",
       "      <td>CD4 Naive</td>\n",
       "      <td>1111</td>\n",
       "      <td>429</td>\n",
       "      <td>2474</td>\n",
       "      <td>23</td>\n",
       "      <td>HumanHTO5</td>\n",
       "      <td>batch1</td>\n",
       "      <td>0.501680</td>\n",
       "    </tr>\n",
       "    <tr>\n",
       "      <th>a_AAACCTGCAAACCTAC.1</th>\n",
       "      <td>T cell</td>\n",
       "      <td>CD4 Memory</td>\n",
       "      <td>2741</td>\n",
       "      <td>851</td>\n",
       "      <td>4799</td>\n",
       "      <td>25</td>\n",
       "      <td>HumanHTO3</td>\n",
       "      <td>batch1</td>\n",
       "      <td>0.431308</td>\n",
       "    </tr>\n",
       "    <tr>\n",
       "      <th>a_AAACCTGCAAGGTGTG.1</th>\n",
       "      <td>Mono/DC</td>\n",
       "      <td>CD14 Mono</td>\n",
       "      <td>2099</td>\n",
       "      <td>843</td>\n",
       "      <td>5434</td>\n",
       "      <td>25</td>\n",
       "      <td>HumanHTO2</td>\n",
       "      <td>batch1</td>\n",
       "      <td>0.572097</td>\n",
       "    </tr>\n",
       "  </tbody>\n",
       "</table>\n",
       "</div>"
      ],
      "text/plain": [
       "                           celltype.l1 celltype.l2  nCount_RNA  nFeature_RNA  \\\n",
       "a_AAACCTGAGCTTATCG.1  Progenitor cells    Prog_RBC        7546          2136   \n",
       "a_AAACCTGAGGTGGGTT.1            T cell         gdT        1029           437   \n",
       "a_AAACCTGAGTACATGA.1            T cell   CD4 Naive        1111           429   \n",
       "a_AAACCTGCAAACCTAC.1            T cell  CD4 Memory        2741           851   \n",
       "a_AAACCTGCAAGGTGTG.1           Mono/DC   CD14 Mono        2099           843   \n",
       "\n",
       "                      nCount_ADT  nFeature_ADT       lane   donor  RNA.weight  \n",
       "a_AAACCTGAGCTTATCG.1        1350            25  HumanHTO4  batch1    0.487299  \n",
       "a_AAACCTGAGGTGGGTT.1        2970            25  HumanHTO1  batch1    0.245543  \n",
       "a_AAACCTGAGTACATGA.1        2474            23  HumanHTO5  batch1    0.501680  \n",
       "a_AAACCTGCAAACCTAC.1        4799            25  HumanHTO3  batch1    0.431308  \n",
       "a_AAACCTGCAAGGTGTG.1        5434            25  HumanHTO2  batch1    0.572097  "
      ]
     },
     "execution_count": 43,
     "metadata": {},
     "output_type": "execute_result"
    }
   ],
   "source": [
    "adata_common.obs.head()"
   ]
  },
  {
   "cell_type": "code",
   "execution_count": 44,
   "id": "a75f94d7",
   "metadata": {},
   "outputs": [
    {
     "name": "stdout",
     "output_type": "stream",
     "text": [
      "Row 0, Column 23, Value 1.0\n",
      "Row 0, Column 31, Value 1.0\n",
      "Row 0, Column 49, Value 1.0\n",
      "Row 0, Column 50, Value 1.0\n",
      "Row 0, Column 58, Value 1.0\n",
      "Row 0, Column 59, Value 2.0\n",
      "Row 0, Column 75, Value 1.0\n",
      "Row 0, Column 77, Value 1.0\n",
      "Row 0, Column 78, Value 1.0\n",
      "Row 0, Column 84, Value 19.0\n",
      "Row 0, Column 88, Value 1.0\n",
      "Row 0, Column 94, Value 1.0\n",
      "Row 0, Column 101, Value 1.0\n",
      "Row 0, Column 106, Value 1.0\n",
      "Row 0, Column 108, Value 1.0\n",
      "Row 0, Column 110, Value 7.0\n",
      "Row 0, Column 136, Value 1.0\n",
      "Row 0, Column 138, Value 2.0\n",
      "Row 0, Column 147, Value 1.0\n",
      "Row 0, Column 162, Value 1.0\n"
     ]
    }
   ],
   "source": [
    "# Briefly view adata.X\n",
    "rows, cols = adata_common.X[:5,:].nonzero()\n",
    "i = 0\n",
    "for row, col in zip(rows, cols):\n",
    "    if i == 20: break\n",
    "    print(f'Row {row}, Column {col}, Value {adata_common.X[row, col]}')\n",
    "    i += 1\n"
   ]
  },
  {
   "cell_type": "code",
   "execution_count": 45,
   "id": "2f7343fa",
   "metadata": {},
   "outputs": [
    {
     "data": {
      "text/plain": [
       "'/Users/evanli/Documents/Research_datasets/Stuart_GSE128639/Stuart_GSE128639_RAW/Stuart_bm.h5ad'"
      ]
     },
     "execution_count": 45,
     "metadata": {},
     "output_type": "execute_result"
    }
   ],
   "source": [
    "output_h5ad_path"
   ]
  },
  {
   "cell_type": "code",
   "execution_count": 46,
   "id": "14646eda",
   "metadata": {},
   "outputs": [
    {
     "data": {
      "text/plain": [
       "(30011, 17009)"
      ]
     },
     "execution_count": 46,
     "metadata": {},
     "output_type": "execute_result"
    }
   ],
   "source": [
    "adata_common.shape"
   ]
  },
  {
   "cell_type": "code",
   "execution_count": 47,
   "id": "9e2cd9b2",
   "metadata": {},
   "outputs": [],
   "source": [
    "adata_common.write(filename=output_h5ad_path)"
   ]
  },
  {
   "cell_type": "code",
   "execution_count": null,
   "id": "0ed483bc",
   "metadata": {},
   "outputs": [],
   "source": []
  }
 ],
 "metadata": {
  "kernelspec": {
   "display_name": "Python 3 (ipykernel)",
   "language": "python",
   "name": "python3"
  },
  "language_info": {
   "codemirror_mode": {
    "name": "ipython",
    "version": 3
   },
   "file_extension": ".py",
   "mimetype": "text/x-python",
   "name": "python",
   "nbconvert_exporter": "python",
   "pygments_lexer": "ipython3",
   "version": "3.10.10"
  }
 },
 "nbformat": 4,
 "nbformat_minor": 5
}

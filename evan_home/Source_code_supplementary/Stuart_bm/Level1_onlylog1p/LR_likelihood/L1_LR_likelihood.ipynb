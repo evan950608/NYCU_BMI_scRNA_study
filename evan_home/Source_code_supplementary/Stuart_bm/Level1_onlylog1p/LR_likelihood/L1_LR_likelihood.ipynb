{
 "cells": [
  {
   "cell_type": "code",
   "execution_count": 1,
   "metadata": {
    "tags": []
   },
   "outputs": [],
   "source": [
    "import pandas as pd\n",
    "import numpy as np\n",
    "import matplotlib.pyplot as plt\n",
    "import pickle\n",
    "import os\n",
    "import sys\n",
    "\n",
    "from sklearn.linear_model import LogisticRegression\n",
    "from sklearn.model_selection import train_test_split"
   ]
  },
  {
   "cell_type": "code",
   "execution_count": 2,
   "metadata": {},
   "outputs": [
    {
     "data": {
      "text/plain": [
       "(30011, 17009)"
      ]
     },
     "execution_count": 2,
     "metadata": {},
     "output_type": "execute_result"
    }
   ],
   "source": [
    "import scanpy as sc\n",
    "# import scvelo as scv\n",
    "\n",
    "# read the full GSE dataset\n",
    "data = sc.read_h5ad('/Users/evanli/Documents/Research_datasets/Stuart_GSE128639/Stuart_bm_v2.h5ad')\n",
    "data.shape"
   ]
  },
  {
   "cell_type": "code",
   "execution_count": 3,
   "metadata": {},
   "outputs": [],
   "source": [
    "### Raw counts were not normalizaed\n",
    "# CPM\n",
    "sc.pp.normalize_total(data, target_sum=1e6)\n",
    "\n",
    "# log1p\n",
    "sc.pp.log1p(data)"
   ]
  },
  {
   "cell_type": "code",
   "execution_count": 4,
   "metadata": {},
   "outputs": [
    {
     "name": "stdout",
     "output_type": "stream",
     "text": [
      "['B_cell', 'Mono&DC', 'NK', 'Progenitor_cells', 'T_cell']\n"
     ]
    }
   ],
   "source": [
    "# data.obs['celltype.l1'] = data.obs['celltype.l1'].str.replace(' ', '_')\n",
    "\n",
    "label = data.obs['celltype.l1'].tolist()\n",
    "types = np.unique(label).tolist()\n",
    "# types = [s.replace(' ', '_') for s in types]\n",
    "print(types)"
   ]
  },
  {
   "cell_type": "markdown",
   "metadata": {},
   "source": [
    "## Cell count for each type"
   ]
  },
  {
   "cell_type": "code",
   "execution_count": 11,
   "metadata": {},
   "outputs": [
    {
     "data": {
      "text/plain": [
       "T_cell              14566\n",
       "Mono&DC              7658\n",
       "B_cell               3733\n",
       "Progenitor_cells     2678\n",
       "NK                   1376\n",
       "Name: celltype.l1, dtype: int64"
      ]
     },
     "execution_count": 11,
     "metadata": {},
     "output_type": "execute_result"
    }
   ],
   "source": [
    "data.obs['celltype.l1'].value_counts()"
   ]
  },
  {
   "cell_type": "markdown",
   "metadata": {},
   "source": [
    "## Read features"
   ]
  },
  {
   "cell_type": "code",
   "execution_count": 5,
   "metadata": {},
   "outputs": [],
   "source": [
    "# Level 1 ADlasso features by loss difference convergence\n",
    "import os\n",
    "os.chdir('/Users/evanli/Documents/EvanPys/Progress/Stuart_bm/Level1_onlylog1p/feature_selection')\n",
    "\n",
    "features_dict = {}\n",
    "# Read features for each celltype\n",
    "for celltype in types:\n",
    "    try:\n",
    "        feature_df = pd.read_csv(f'{celltype}_features.txt', names=['Gene', 'Weight', 'Tendency'], sep='\\t')\n",
    "        features_dict[celltype] = feature_df\n",
    "    except:\n",
    "        print('skipping:', celltype)\n",
    "        continue\n",
    "    # print(celltype, 'Feature count:', feature_df.shape[0])\n",
    "    # print(celltype, 'Positive feature count:', feature_df[feature_df['Tendency'] == 1].shape[0])\n",
    "    # print('------------------')"
   ]
  },
  {
   "cell_type": "code",
   "execution_count": 7,
   "metadata": {},
   "outputs": [
    {
     "data": {
      "text/html": [
       "<div>\n",
       "<style scoped>\n",
       "    .dataframe tbody tr th:only-of-type {\n",
       "        vertical-align: middle;\n",
       "    }\n",
       "\n",
       "    .dataframe tbody tr th {\n",
       "        vertical-align: top;\n",
       "    }\n",
       "\n",
       "    .dataframe thead th {\n",
       "        text-align: right;\n",
       "    }\n",
       "</style>\n",
       "<table border=\"1\" class=\"dataframe\">\n",
       "  <thead>\n",
       "    <tr style=\"text-align: right;\">\n",
       "      <th></th>\n",
       "      <th>Gene</th>\n",
       "      <th>Weight</th>\n",
       "      <th>Tendency</th>\n",
       "    </tr>\n",
       "  </thead>\n",
       "  <tbody>\n",
       "    <tr>\n",
       "      <th>0</th>\n",
       "      <td>CD52</td>\n",
       "      <td>0.485839</td>\n",
       "      <td>1</td>\n",
       "    </tr>\n",
       "    <tr>\n",
       "      <th>1</th>\n",
       "      <td>TMSB10</td>\n",
       "      <td>-0.231432</td>\n",
       "      <td>0</td>\n",
       "    </tr>\n",
       "    <tr>\n",
       "      <th>2</th>\n",
       "      <td>IGKC</td>\n",
       "      <td>0.588110</td>\n",
       "      <td>1</td>\n",
       "    </tr>\n",
       "    <tr>\n",
       "      <th>3</th>\n",
       "      <td>CD74</td>\n",
       "      <td>1.350799</td>\n",
       "      <td>1</td>\n",
       "    </tr>\n",
       "    <tr>\n",
       "      <th>4</th>\n",
       "      <td>LTB</td>\n",
       "      <td>0.219740</td>\n",
       "      <td>1</td>\n",
       "    </tr>\n",
       "  </tbody>\n",
       "</table>\n",
       "</div>"
      ],
      "text/plain": [
       "     Gene    Weight  Tendency\n",
       "0    CD52  0.485839         1\n",
       "1  TMSB10 -0.231432         0\n",
       "2    IGKC  0.588110         1\n",
       "3    CD74  1.350799         1\n",
       "4     LTB  0.219740         1"
      ]
     },
     "execution_count": 7,
     "metadata": {},
     "output_type": "execute_result"
    }
   ],
   "source": [
    "features_dict['B_cell'].head()"
   ]
  },
  {
   "cell_type": "code",
   "execution_count": 6,
   "metadata": {},
   "outputs": [
    {
     "data": {
      "text/html": [
       "<div>\n",
       "<style scoped>\n",
       "    .dataframe tbody tr th:only-of-type {\n",
       "        vertical-align: middle;\n",
       "    }\n",
       "\n",
       "    .dataframe tbody tr th {\n",
       "        vertical-align: top;\n",
       "    }\n",
       "\n",
       "    .dataframe thead th {\n",
       "        text-align: right;\n",
       "    }\n",
       "</style>\n",
       "<table border=\"1\" class=\"dataframe\">\n",
       "  <thead>\n",
       "    <tr style=\"text-align: right;\">\n",
       "      <th></th>\n",
       "      <th>Feature_count</th>\n",
       "      <th>Positive_feature_count</th>\n",
       "    </tr>\n",
       "  </thead>\n",
       "  <tbody>\n",
       "    <tr>\n",
       "      <th>B_cell</th>\n",
       "      <td>16</td>\n",
       "      <td>8</td>\n",
       "    </tr>\n",
       "    <tr>\n",
       "      <th>Mono&amp;DC</th>\n",
       "      <td>20</td>\n",
       "      <td>8</td>\n",
       "    </tr>\n",
       "    <tr>\n",
       "      <th>NK</th>\n",
       "      <td>13</td>\n",
       "      <td>3</td>\n",
       "    </tr>\n",
       "    <tr>\n",
       "      <th>Progenitor_cells</th>\n",
       "      <td>33</td>\n",
       "      <td>23</td>\n",
       "    </tr>\n",
       "    <tr>\n",
       "      <th>T_cell</th>\n",
       "      <td>29</td>\n",
       "      <td>16</td>\n",
       "    </tr>\n",
       "  </tbody>\n",
       "</table>\n",
       "</div>"
      ],
      "text/plain": [
       "                  Feature_count  Positive_feature_count\n",
       "B_cell                       16                       8\n",
       "Mono&DC                      20                       8\n",
       "NK                           13                       3\n",
       "Progenitor_cells             33                      23\n",
       "T_cell                       29                      16"
      ]
     },
     "execution_count": 6,
     "metadata": {},
     "output_type": "execute_result"
    }
   ],
   "source": [
    "count_df = pd.DataFrame(columns=['Feature_count', 'Positive_feature_count'])\n",
    "for celltype in features_dict.keys():\n",
    "    feature_df = features_dict[celltype]\n",
    "    feature_count = feature_df.shape[0]\n",
    "    positive_count = feature_df[feature_df['Tendency'] == 1].shape[0]\n",
    "    count_df.loc[celltype] = [feature_count, positive_count]\n",
    "count_df"
   ]
  },
  {
   "cell_type": "markdown",
   "metadata": {},
   "source": [
    "## Get likelihood from LR model"
   ]
  },
  {
   "cell_type": "code",
   "execution_count": 8,
   "metadata": {},
   "outputs": [],
   "source": [
    "def LR_likelihood(data, all_features_dict, celltype):\n",
    "    print('====================')\n",
    "    print('Celltype:', celltype)\n",
    "    # subset data to celltype features\n",
    "    X = data[:, all_features_dict[celltype]['Gene'].tolist()].X\n",
    "    # Binary label\n",
    "    y = [1 if i==celltype else 0 for i in data.obs['celltype.l1'].tolist()]\n",
    "\n",
    "    X_train, X_test, y_train, y_test = train_test_split(X, y, test_size=0.2, random_state=0, stratify=y)\n",
    "\n",
    "    clf = LogisticRegression(penalty='l2', solver='lbfgs', C=1.0, max_iter=1000)\n",
    "    clf.fit(X_train, y_train)\n",
    "\n",
    "    decision_scores = clf.decision_function(X)  # >0: predict celltype, <0: predict not celltype\n",
    "    print('decision_scores > 0:', sum(decision_scores > 0))  # decision_scores > 0 的有幾個\n",
    "\n",
    "    ### calculate the likelihood of the positive class for each observation in X based on the decision scores\n",
    "    likelihood = 1 / (1 + np.exp(-decision_scores))\n",
    "    print('likelihood > 0.5:', sum(likelihood > 0.5))  # >0.5: predict celltype, <0.5: predict not celltype\n",
    "    print(type(likelihood), likelihood.shape)\n",
    "    #do the row-wise softmax\n",
    "    # likelihood = np.exp(likelihood)/np.sum(np.exp(likelihood),1,keepdims=True)\n",
    "    \n",
    "    # likelihood is a 1-D array with the same length as the number of cells\n",
    "    return likelihood\n"
   ]
  },
  {
   "cell_type": "code",
   "execution_count": 9,
   "metadata": {},
   "outputs": [
    {
     "name": "stdout",
     "output_type": "stream",
     "text": [
      "====================\n",
      "Celltype: B_cell\n",
      "decision_scores > 0: 3720\n",
      "likelihood > 0.5: 3720\n",
      "<class 'numpy.ndarray'> (30011,)\n"
     ]
    },
    {
     "data": {
      "text/plain": [
       "(30011,)"
      ]
     },
     "execution_count": 9,
     "metadata": {},
     "output_type": "execute_result"
    }
   ],
   "source": [
    "celltype = 'B_cell'  # original 3733 B cells\n",
    "B_likelihood = LR_likelihood(data, features_dict, celltype)\n",
    "B_likelihood.shape"
   ]
  },
  {
   "cell_type": "code",
   "execution_count": 12,
   "metadata": {},
   "outputs": [
    {
     "name": "stdout",
     "output_type": "stream",
     "text": [
      "====================\n",
      "Celltype: B_cell\n",
      "decision_scores > 0: 3720\n",
      "likelihood > 0.5: 3720\n",
      "<class 'numpy.ndarray'> (30011,)\n",
      "====================\n",
      "Celltype: Mono&DC\n",
      "decision_scores > 0: 7693\n",
      "likelihood > 0.5: 7693\n",
      "<class 'numpy.ndarray'> (30011,)\n",
      "====================\n",
      "Celltype: NK\n",
      "decision_scores > 0: 1362\n",
      "likelihood > 0.5: 1362\n",
      "<class 'numpy.ndarray'> (30011,)\n",
      "====================\n",
      "Celltype: Progenitor_cells\n",
      "decision_scores > 0: 2533\n",
      "likelihood > 0.5: 2533\n",
      "<class 'numpy.ndarray'> (30011,)\n",
      "====================\n",
      "Celltype: T_cell\n",
      "decision_scores > 0: 14594\n",
      "likelihood > 0.5: 14594\n",
      "<class 'numpy.ndarray'> (30011,)\n"
     ]
    }
   ],
   "source": [
    "likelihood_dict = {}\n",
    "for celltype in types:\n",
    "    likelihood_dict[celltype] = LR_likelihood(data, features_dict, celltype)"
   ]
  },
  {
   "cell_type": "code",
   "execution_count": 13,
   "metadata": {},
   "outputs": [
    {
     "name": "stdout",
     "output_type": "stream",
     "text": [
      "(30011, 5)\n"
     ]
    },
    {
     "data": {
      "text/html": [
       "<div>\n",
       "<style scoped>\n",
       "    .dataframe tbody tr th:only-of-type {\n",
       "        vertical-align: middle;\n",
       "    }\n",
       "\n",
       "    .dataframe tbody tr th {\n",
       "        vertical-align: top;\n",
       "    }\n",
       "\n",
       "    .dataframe thead th {\n",
       "        text-align: right;\n",
       "    }\n",
       "</style>\n",
       "<table border=\"1\" class=\"dataframe\">\n",
       "  <thead>\n",
       "    <tr style=\"text-align: right;\">\n",
       "      <th></th>\n",
       "      <th>B_cell</th>\n",
       "      <th>Mono&amp;DC</th>\n",
       "      <th>NK</th>\n",
       "      <th>Progenitor_cells</th>\n",
       "      <th>T_cell</th>\n",
       "    </tr>\n",
       "  </thead>\n",
       "  <tbody>\n",
       "    <tr>\n",
       "      <th>0</th>\n",
       "      <td>5.508213e-04</td>\n",
       "      <td>2.458989e-03</td>\n",
       "      <td>0.000012</td>\n",
       "      <td>0.998093</td>\n",
       "      <td>0.015331</td>\n",
       "    </tr>\n",
       "    <tr>\n",
       "      <th>1</th>\n",
       "      <td>4.149614e-07</td>\n",
       "      <td>1.106687e-03</td>\n",
       "      <td>0.000187</td>\n",
       "      <td>0.000512</td>\n",
       "      <td>0.998783</td>\n",
       "    </tr>\n",
       "    <tr>\n",
       "      <th>2</th>\n",
       "      <td>2.756064e-06</td>\n",
       "      <td>7.827886e-07</td>\n",
       "      <td>0.000089</td>\n",
       "      <td>0.000096</td>\n",
       "      <td>0.998951</td>\n",
       "    </tr>\n",
       "    <tr>\n",
       "      <th>3</th>\n",
       "      <td>4.664967e-03</td>\n",
       "      <td>5.042658e-04</td>\n",
       "      <td>0.000008</td>\n",
       "      <td>0.000110</td>\n",
       "      <td>0.999280</td>\n",
       "    </tr>\n",
       "    <tr>\n",
       "      <th>4</th>\n",
       "      <td>6.815213e-04</td>\n",
       "      <td>9.952050e-01</td>\n",
       "      <td>0.000031</td>\n",
       "      <td>0.018804</td>\n",
       "      <td>0.000041</td>\n",
       "    </tr>\n",
       "  </tbody>\n",
       "</table>\n",
       "</div>"
      ],
      "text/plain": [
       "         B_cell       Mono&DC        NK  Progenitor_cells    T_cell\n",
       "0  5.508213e-04  2.458989e-03  0.000012          0.998093  0.015331\n",
       "1  4.149614e-07  1.106687e-03  0.000187          0.000512  0.998783\n",
       "2  2.756064e-06  7.827886e-07  0.000089          0.000096  0.998951\n",
       "3  4.664967e-03  5.042658e-04  0.000008          0.000110  0.999280\n",
       "4  6.815213e-04  9.952050e-01  0.000031          0.018804  0.000041"
      ]
     },
     "execution_count": 13,
     "metadata": {},
     "output_type": "execute_result"
    }
   ],
   "source": [
    "# turn likelihood_dict into dataframe\n",
    "likelihood_df = pd.DataFrame(likelihood_dict)\n",
    "print(likelihood_df.shape)\n",
    "likelihood_df.head()"
   ]
  },
  {
   "cell_type": "code",
   "execution_count": 14,
   "metadata": {},
   "outputs": [
    {
     "data": {
      "text/plain": [
       "0        1.016446\n",
       "1        1.000589\n",
       "2        0.999140\n",
       "3        1.004567\n",
       "4        1.014762\n",
       "           ...   \n",
       "30006    1.023630\n",
       "30007    1.000222\n",
       "30008    1.000056\n",
       "30009    1.001151\n",
       "30010    1.007043\n",
       "Length: 30011, dtype: float64"
      ]
     },
     "execution_count": 14,
     "metadata": {},
     "output_type": "execute_result"
    }
   ],
   "source": [
    "# row sum\n",
    "likelihood_df.sum(axis=1)\n"
   ]
  },
  {
   "cell_type": "code",
   "execution_count": 16,
   "metadata": {},
   "outputs": [],
   "source": [
    "os.chdir('/Users/evanli/Documents/EvanPys/Progress/Stuart_bm/Level1_onlylog1p/LR_likelihood')\n",
    "likelihood_df.to_csv('L1_likelihood_df.csv')"
   ]
  },
  {
   "cell_type": "markdown",
   "metadata": {},
   "source": [
    "### 20231227: add softmax operation to likelihood, poor result"
   ]
  },
  {
   "cell_type": "code",
   "execution_count": 17,
   "metadata": {},
   "outputs": [
    {
     "data": {
      "text/plain": [
       "(30011, 5)"
      ]
     },
     "execution_count": 17,
     "metadata": {},
     "output_type": "execute_result"
    }
   ],
   "source": [
    "# Applying row-wise softmax\n",
    "def softmax(x):\n",
    "    e_x = np.exp(x - np.max(x))\n",
    "    return e_x / e_x.sum(axis=1, keepdims=True)\n",
    "\n",
    "likelihood_softmax = pd.DataFrame(softmax(likelihood_df.values), columns=likelihood_df.columns)\n",
    "likelihood_softmax.shape"
   ]
  },
  {
   "cell_type": "markdown",
   "metadata": {},
   "source": [
    "## Odds ratio: (1st_type / 2nd_type) >= 1.5"
   ]
  },
  {
   "cell_type": "code",
   "execution_count": 19,
   "metadata": {},
   "outputs": [
    {
     "data": {
      "text/plain": [
       "(30011, 6)"
      ]
     },
     "execution_count": 19,
     "metadata": {},
     "output_type": "execute_result"
    }
   ],
   "source": [
    "largest_values = []\n",
    "second_largest_values = []\n",
    "largest_columns = []\n",
    "second_largest_columns = []\n",
    "odds_ratio_list = []\n",
    "assignments = []\n",
    "\n",
    "# for index, row in likelihood_softmax.iterrows():\n",
    "for index, row in likelihood_df.iterrows():\n",
    "    # find 1st and 2nd largest values and their corresponding columns\n",
    "    largest_value = row.max()\n",
    "    largest_column = row.idxmax()\n",
    "    second_largest_value = row.nlargest(2).iloc[-1]\n",
    "    second_largest_column = row.nlargest(2).index[-1]\n",
    "    \n",
    "    largest_values.append(largest_value)\n",
    "    second_largest_values.append(second_largest_value)\n",
    "    largest_columns.append(largest_column)\n",
    "    second_largest_columns.append(second_largest_column)\n",
    "\n",
    "    # calculate odds ratio\n",
    "    odds_ratio = largest_value / second_largest_value\n",
    "    if odds_ratio >= 1.5:\n",
    "        assign = largest_column\n",
    "    else:\n",
    "        assign = 'Uncertain'\n",
    "    odds_ratio_list.append(odds_ratio)\n",
    "    assignments.append(assign)\n",
    "\n",
    "result_df = pd.DataFrame({'Largest Value': largest_values, 'Largest Column': largest_columns,\n",
    "                          'Second Largest Value': second_largest_values, 'Second Largest Column': second_largest_columns, \n",
    "                          'Odds Ratio': odds_ratio_list, 'Assignment': assignments})\n",
    "result_df.shape\n"
   ]
  },
  {
   "cell_type": "code",
   "execution_count": 20,
   "metadata": {},
   "outputs": [
    {
     "data": {
      "text/html": [
       "<div>\n",
       "<style scoped>\n",
       "    .dataframe tbody tr th:only-of-type {\n",
       "        vertical-align: middle;\n",
       "    }\n",
       "\n",
       "    .dataframe tbody tr th {\n",
       "        vertical-align: top;\n",
       "    }\n",
       "\n",
       "    .dataframe thead th {\n",
       "        text-align: right;\n",
       "    }\n",
       "</style>\n",
       "<table border=\"1\" class=\"dataframe\">\n",
       "  <thead>\n",
       "    <tr style=\"text-align: right;\">\n",
       "      <th></th>\n",
       "      <th>Largest Value</th>\n",
       "      <th>Largest Column</th>\n",
       "      <th>Second Largest Value</th>\n",
       "      <th>Second Largest Column</th>\n",
       "      <th>Odds Ratio</th>\n",
       "      <th>Assignment</th>\n",
       "    </tr>\n",
       "  </thead>\n",
       "  <tbody>\n",
       "    <tr>\n",
       "      <th>0</th>\n",
       "      <td>0.998093</td>\n",
       "      <td>Progenitor_cells</td>\n",
       "      <td>0.015331</td>\n",
       "      <td>T_cell</td>\n",
       "      <td>65.102567</td>\n",
       "      <td>Progenitor_cells</td>\n",
       "    </tr>\n",
       "    <tr>\n",
       "      <th>1</th>\n",
       "      <td>0.998783</td>\n",
       "      <td>T_cell</td>\n",
       "      <td>0.001107</td>\n",
       "      <td>Mono&amp;DC</td>\n",
       "      <td>902.498227</td>\n",
       "      <td>T_cell</td>\n",
       "    </tr>\n",
       "    <tr>\n",
       "      <th>2</th>\n",
       "      <td>0.998951</td>\n",
       "      <td>T_cell</td>\n",
       "      <td>0.000096</td>\n",
       "      <td>Progenitor_cells</td>\n",
       "      <td>10394.825267</td>\n",
       "      <td>T_cell</td>\n",
       "    </tr>\n",
       "    <tr>\n",
       "      <th>3</th>\n",
       "      <td>0.999280</td>\n",
       "      <td>T_cell</td>\n",
       "      <td>0.004665</td>\n",
       "      <td>B_cell</td>\n",
       "      <td>214.209480</td>\n",
       "      <td>T_cell</td>\n",
       "    </tr>\n",
       "    <tr>\n",
       "      <th>4</th>\n",
       "      <td>0.995205</td>\n",
       "      <td>Mono&amp;DC</td>\n",
       "      <td>0.018804</td>\n",
       "      <td>Progenitor_cells</td>\n",
       "      <td>52.925640</td>\n",
       "      <td>Mono&amp;DC</td>\n",
       "    </tr>\n",
       "    <tr>\n",
       "      <th>5</th>\n",
       "      <td>0.953161</td>\n",
       "      <td>B_cell</td>\n",
       "      <td>0.011695</td>\n",
       "      <td>Progenitor_cells</td>\n",
       "      <td>81.499834</td>\n",
       "      <td>B_cell</td>\n",
       "    </tr>\n",
       "    <tr>\n",
       "      <th>6</th>\n",
       "      <td>0.991157</td>\n",
       "      <td>T_cell</td>\n",
       "      <td>0.000525</td>\n",
       "      <td>Mono&amp;DC</td>\n",
       "      <td>1889.359522</td>\n",
       "      <td>T_cell</td>\n",
       "    </tr>\n",
       "    <tr>\n",
       "      <th>7</th>\n",
       "      <td>0.988900</td>\n",
       "      <td>Mono&amp;DC</td>\n",
       "      <td>0.005964</td>\n",
       "      <td>Progenitor_cells</td>\n",
       "      <td>165.810927</td>\n",
       "      <td>Mono&amp;DC</td>\n",
       "    </tr>\n",
       "    <tr>\n",
       "      <th>8</th>\n",
       "      <td>0.996466</td>\n",
       "      <td>B_cell</td>\n",
       "      <td>0.049554</td>\n",
       "      <td>T_cell</td>\n",
       "      <td>20.108860</td>\n",
       "      <td>B_cell</td>\n",
       "    </tr>\n",
       "    <tr>\n",
       "      <th>9</th>\n",
       "      <td>0.999995</td>\n",
       "      <td>T_cell</td>\n",
       "      <td>0.009007</td>\n",
       "      <td>Progenitor_cells</td>\n",
       "      <td>111.021709</td>\n",
       "      <td>T_cell</td>\n",
       "    </tr>\n",
       "    <tr>\n",
       "      <th>10</th>\n",
       "      <td>0.997159</td>\n",
       "      <td>T_cell</td>\n",
       "      <td>0.000720</td>\n",
       "      <td>Progenitor_cells</td>\n",
       "      <td>1384.376769</td>\n",
       "      <td>T_cell</td>\n",
       "    </tr>\n",
       "    <tr>\n",
       "      <th>11</th>\n",
       "      <td>0.999635</td>\n",
       "      <td>Progenitor_cells</td>\n",
       "      <td>0.000746</td>\n",
       "      <td>Mono&amp;DC</td>\n",
       "      <td>1340.714234</td>\n",
       "      <td>Progenitor_cells</td>\n",
       "    </tr>\n",
       "    <tr>\n",
       "      <th>12</th>\n",
       "      <td>0.999320</td>\n",
       "      <td>Mono&amp;DC</td>\n",
       "      <td>0.000957</td>\n",
       "      <td>B_cell</td>\n",
       "      <td>1043.807724</td>\n",
       "      <td>Mono&amp;DC</td>\n",
       "    </tr>\n",
       "    <tr>\n",
       "      <th>13</th>\n",
       "      <td>0.999910</td>\n",
       "      <td>T_cell</td>\n",
       "      <td>0.017061</td>\n",
       "      <td>Progenitor_cells</td>\n",
       "      <td>58.608463</td>\n",
       "      <td>T_cell</td>\n",
       "    </tr>\n",
       "    <tr>\n",
       "      <th>14</th>\n",
       "      <td>0.996911</td>\n",
       "      <td>Mono&amp;DC</td>\n",
       "      <td>0.002000</td>\n",
       "      <td>B_cell</td>\n",
       "      <td>498.343611</td>\n",
       "      <td>Mono&amp;DC</td>\n",
       "    </tr>\n",
       "    <tr>\n",
       "      <th>15</th>\n",
       "      <td>0.999867</td>\n",
       "      <td>T_cell</td>\n",
       "      <td>0.001740</td>\n",
       "      <td>Progenitor_cells</td>\n",
       "      <td>574.505797</td>\n",
       "      <td>T_cell</td>\n",
       "    </tr>\n",
       "    <tr>\n",
       "      <th>16</th>\n",
       "      <td>0.998643</td>\n",
       "      <td>T_cell</td>\n",
       "      <td>0.000098</td>\n",
       "      <td>Progenitor_cells</td>\n",
       "      <td>10209.535387</td>\n",
       "      <td>T_cell</td>\n",
       "    </tr>\n",
       "    <tr>\n",
       "      <th>17</th>\n",
       "      <td>0.992841</td>\n",
       "      <td>T_cell</td>\n",
       "      <td>0.464426</td>\n",
       "      <td>B_cell</td>\n",
       "      <td>2.137781</td>\n",
       "      <td>T_cell</td>\n",
       "    </tr>\n",
       "    <tr>\n",
       "      <th>18</th>\n",
       "      <td>0.998513</td>\n",
       "      <td>Mono&amp;DC</td>\n",
       "      <td>0.011788</td>\n",
       "      <td>B_cell</td>\n",
       "      <td>84.703507</td>\n",
       "      <td>Mono&amp;DC</td>\n",
       "    </tr>\n",
       "    <tr>\n",
       "      <th>19</th>\n",
       "      <td>0.082935</td>\n",
       "      <td>T_cell</td>\n",
       "      <td>0.017470</td>\n",
       "      <td>Mono&amp;DC</td>\n",
       "      <td>4.747267</td>\n",
       "      <td>T_cell</td>\n",
       "    </tr>\n",
       "  </tbody>\n",
       "</table>\n",
       "</div>"
      ],
      "text/plain": [
       "    Largest Value    Largest Column  Second Largest Value  \\\n",
       "0        0.998093  Progenitor_cells              0.015331   \n",
       "1        0.998783            T_cell              0.001107   \n",
       "2        0.998951            T_cell              0.000096   \n",
       "3        0.999280            T_cell              0.004665   \n",
       "4        0.995205           Mono&DC              0.018804   \n",
       "5        0.953161            B_cell              0.011695   \n",
       "6        0.991157            T_cell              0.000525   \n",
       "7        0.988900           Mono&DC              0.005964   \n",
       "8        0.996466            B_cell              0.049554   \n",
       "9        0.999995            T_cell              0.009007   \n",
       "10       0.997159            T_cell              0.000720   \n",
       "11       0.999635  Progenitor_cells              0.000746   \n",
       "12       0.999320           Mono&DC              0.000957   \n",
       "13       0.999910            T_cell              0.017061   \n",
       "14       0.996911           Mono&DC              0.002000   \n",
       "15       0.999867            T_cell              0.001740   \n",
       "16       0.998643            T_cell              0.000098   \n",
       "17       0.992841            T_cell              0.464426   \n",
       "18       0.998513           Mono&DC              0.011788   \n",
       "19       0.082935            T_cell              0.017470   \n",
       "\n",
       "   Second Largest Column    Odds Ratio        Assignment  \n",
       "0                 T_cell     65.102567  Progenitor_cells  \n",
       "1                Mono&DC    902.498227            T_cell  \n",
       "2       Progenitor_cells  10394.825267            T_cell  \n",
       "3                 B_cell    214.209480            T_cell  \n",
       "4       Progenitor_cells     52.925640           Mono&DC  \n",
       "5       Progenitor_cells     81.499834            B_cell  \n",
       "6                Mono&DC   1889.359522            T_cell  \n",
       "7       Progenitor_cells    165.810927           Mono&DC  \n",
       "8                 T_cell     20.108860            B_cell  \n",
       "9       Progenitor_cells    111.021709            T_cell  \n",
       "10      Progenitor_cells   1384.376769            T_cell  \n",
       "11               Mono&DC   1340.714234  Progenitor_cells  \n",
       "12                B_cell   1043.807724           Mono&DC  \n",
       "13      Progenitor_cells     58.608463            T_cell  \n",
       "14                B_cell    498.343611           Mono&DC  \n",
       "15      Progenitor_cells    574.505797            T_cell  \n",
       "16      Progenitor_cells  10209.535387            T_cell  \n",
       "17                B_cell      2.137781            T_cell  \n",
       "18                B_cell     84.703507           Mono&DC  \n",
       "19               Mono&DC      4.747267            T_cell  "
      ]
     },
     "execution_count": 20,
     "metadata": {},
     "output_type": "execute_result"
    }
   ],
   "source": [
    "result_df.head(20)"
   ]
  },
  {
   "cell_type": "code",
   "execution_count": 21,
   "metadata": {},
   "outputs": [
    {
     "data": {
      "text/plain": [
       "686"
      ]
     },
     "execution_count": 21,
     "metadata": {},
     "output_type": "execute_result"
    }
   ],
   "source": [
    "sum(result_df['Assignment'] == 'Uncertain')"
   ]
  },
  {
   "cell_type": "code",
   "execution_count": 22,
   "metadata": {},
   "outputs": [
    {
     "data": {
      "text/plain": [
       "0.02285828529539169"
      ]
     },
     "execution_count": 22,
     "metadata": {},
     "output_type": "execute_result"
    }
   ],
   "source": [
    "686/len(result_df)"
   ]
  },
  {
   "cell_type": "markdown",
   "metadata": {},
   "source": [
    "## Confusion heatmap"
   ]
  },
  {
   "cell_type": "code",
   "execution_count": 24,
   "metadata": {},
   "outputs": [],
   "source": [
    "import pandas as pd\n",
    "\n",
    "# Get the true labels\n",
    "true_labels = data.obs['celltype.l1'].tolist()\n",
    "\n",
    "# Get the predicted labels\n",
    "predicted_labels = result_df['Assignment'].tolist()\n",
    "\n",
    "# Create the confusion matrix\n",
    "cm = pd.crosstab(true_labels, predicted_labels, rownames=['True'], colnames=['Predicted'], margins=False)\n",
    "\n",
    "# reorder columns\n",
    "cm = cm.reindex(types + ['Uncertain'], axis=1)\n",
    "\n",
    "# replace NaN with 0\n",
    "cm = cm.fillna(0)\n",
    "cm = cm.astype(int)\n"
   ]
  },
  {
   "cell_type": "code",
   "execution_count": 25,
   "metadata": {},
   "outputs": [
    {
     "data": {
      "text/plain": [
       "(5, 6)"
      ]
     },
     "execution_count": 25,
     "metadata": {},
     "output_type": "execute_result"
    }
   ],
   "source": [
    "cm.shape"
   ]
  },
  {
   "cell_type": "code",
   "execution_count": 26,
   "metadata": {},
   "outputs": [
    {
     "data": {
      "text/html": [
       "<div>\n",
       "<style scoped>\n",
       "    .dataframe tbody tr th:only-of-type {\n",
       "        vertical-align: middle;\n",
       "    }\n",
       "\n",
       "    .dataframe tbody tr th {\n",
       "        vertical-align: top;\n",
       "    }\n",
       "\n",
       "    .dataframe thead th {\n",
       "        text-align: right;\n",
       "    }\n",
       "</style>\n",
       "<table border=\"1\" class=\"dataframe\">\n",
       "  <thead>\n",
       "    <tr style=\"text-align: right;\">\n",
       "      <th>Predicted</th>\n",
       "      <th>B_cell</th>\n",
       "      <th>Mono&amp;DC</th>\n",
       "      <th>NK</th>\n",
       "      <th>Progenitor_cells</th>\n",
       "      <th>T_cell</th>\n",
       "      <th>Uncertain</th>\n",
       "    </tr>\n",
       "    <tr>\n",
       "      <th>True</th>\n",
       "      <th></th>\n",
       "      <th></th>\n",
       "      <th></th>\n",
       "      <th></th>\n",
       "      <th></th>\n",
       "      <th></th>\n",
       "    </tr>\n",
       "  </thead>\n",
       "  <tbody>\n",
       "    <tr>\n",
       "      <th>B_cell</th>\n",
       "      <td>3597</td>\n",
       "      <td>11</td>\n",
       "      <td>1</td>\n",
       "      <td>14</td>\n",
       "      <td>18</td>\n",
       "      <td>92</td>\n",
       "    </tr>\n",
       "    <tr>\n",
       "      <th>Mono&amp;DC</th>\n",
       "      <td>21</td>\n",
       "      <td>7454</td>\n",
       "      <td>1</td>\n",
       "      <td>68</td>\n",
       "      <td>3</td>\n",
       "      <td>111</td>\n",
       "    </tr>\n",
       "    <tr>\n",
       "      <th>NK</th>\n",
       "      <td>2</td>\n",
       "      <td>11</td>\n",
       "      <td>1146</td>\n",
       "      <td>5</td>\n",
       "      <td>73</td>\n",
       "      <td>139</td>\n",
       "    </tr>\n",
       "    <tr>\n",
       "      <th>Progenitor_cells</th>\n",
       "      <td>39</td>\n",
       "      <td>104</td>\n",
       "      <td>4</td>\n",
       "      <td>2275</td>\n",
       "      <td>19</td>\n",
       "      <td>237</td>\n",
       "    </tr>\n",
       "    <tr>\n",
       "      <th>T_cell</th>\n",
       "      <td>2</td>\n",
       "      <td>10</td>\n",
       "      <td>31</td>\n",
       "      <td>9</td>\n",
       "      <td>14407</td>\n",
       "      <td>107</td>\n",
       "    </tr>\n",
       "  </tbody>\n",
       "</table>\n",
       "</div>"
      ],
      "text/plain": [
       "Predicted         B_cell  Mono&DC    NK  Progenitor_cells  T_cell  Uncertain\n",
       "True                                                                        \n",
       "B_cell              3597       11     1                14      18         92\n",
       "Mono&DC               21     7454     1                68       3        111\n",
       "NK                     2       11  1146                 5      73        139\n",
       "Progenitor_cells      39      104     4              2275      19        237\n",
       "T_cell                 2       10    31                 9   14407        107"
      ]
     },
     "execution_count": 26,
     "metadata": {},
     "output_type": "execute_result"
    }
   ],
   "source": [
    "cm"
   ]
  },
  {
   "cell_type": "code",
   "execution_count": 29,
   "metadata": {},
   "outputs": [],
   "source": [
    "# export confusion matrix\n",
    "cm.to_csv('L1_OR_confusion_matrix.csv')"
   ]
  },
  {
   "cell_type": "code",
   "execution_count": 30,
   "metadata": {
    "tags": []
   },
   "outputs": [
    {
     "data": {
      "image/png": "[encoded data removed]",
      "text/plain": [
       "<Figure size 1000x700 with 2 Axes>"
      ]
     },
     "metadata": {},
     "output_type": "display_data"
    }
   ],
   "source": [
    "import seaborn as sns\n",
    "import matplotlib.pyplot as plt\n",
    "\n",
    "plt.figure(figsize=(10, 7))\n",
    "sns.heatmap(cm, annot=True, fmt='d', cmap='Blues')\n",
    "plt.title('LR Prediction Confusion Matrix')\n",
    "plt.xlabel('Predicted')\n",
    "plt.ylabel('True')\n",
    "plt.show()\n"
   ]
  },
  {
   "cell_type": "code",
   "execution_count": 31,
   "metadata": {
    "tags": []
   },
   "outputs": [
    {
     "data": {
      "text/plain": [
       "True\n",
       "B_cell               3733\n",
       "Mono&DC              7658\n",
       "NK                   1376\n",
       "Progenitor_cells     2678\n",
       "T_cell              14566\n",
       "dtype: int64"
      ]
     },
     "execution_count": 31,
     "metadata": {},
     "output_type": "execute_result"
    }
   ],
   "source": [
    "row_sum = cm.sum(axis=1)\n",
    "row_sum\n"
   ]
  },
  {
   "cell_type": "code",
   "execution_count": 32,
   "metadata": {
    "tags": []
   },
   "outputs": [
    {
     "data": {
      "image/png": "[encoded data removed]",
      "text/plain": [
       "<Figure size 1000x700 with 2 Axes>"
      ]
     },
     "metadata": {},
     "output_type": "display_data"
    }
   ],
   "source": [
    "cm_proportion = cm.div(row_sum, axis=0)\n",
    "cm_proportion *= 100\n",
    "plt.figure(figsize=(10, 7))\n",
    "sns.heatmap(cm_proportion, fmt=\".2f\", annot=True, cmap='Blues')\n",
    "plt.title('LR Prediction Confusion Matrix (Proportion %)')\n",
    "plt.show()"
   ]
  },
  {
   "cell_type": "markdown",
   "metadata": {},
   "source": [
    "## Calculate accuracy"
   ]
  },
  {
   "cell_type": "code",
   "execution_count": 33,
   "metadata": {},
   "outputs": [
    {
     "data": {
      "text/plain": [
       "0.9622804971510446"
      ]
     },
     "execution_count": 33,
     "metadata": {},
     "output_type": "execute_result"
    }
   ],
   "source": [
    "accuracy = sum(np.diag(cm)) / cm.values.sum()\n",
    "accuracy"
   ]
  },
  {
   "cell_type": "code",
   "execution_count": 34,
   "metadata": {},
   "outputs": [
    {
     "data": {
      "text/plain": [
       "30011"
      ]
     },
     "execution_count": 34,
     "metadata": {},
     "output_type": "execute_result"
    }
   ],
   "source": [
    "cm.values.sum()"
   ]
  },
  {
   "cell_type": "markdown",
   "metadata": {},
   "source": [
    "## Use predict_proba to calculate likelihood"
   ]
  },
  {
   "cell_type": "code",
   "execution_count": 62,
   "metadata": {},
   "outputs": [],
   "source": [
    "def new_LR_likelihood(data, all_features_dict, celltype):\n",
    "    print('====================')\n",
    "    print('Celltype:', celltype)\n",
    "    # subset data to celltype features\n",
    "    X = data[:, all_features_dict[celltype]['Gene'].tolist()].X\n",
    "    # Binary label\n",
    "    y = [1 if i==celltype else 0 for i in data.obs['celltype.l1'].tolist()]\n",
    "\n",
    "    X_train, X_test, y_train, y_test = train_test_split(X, y, test_size=0.2, random_state=0, stratify=y)\n",
    "\n",
    "    clf = LogisticRegression(penalty='l2', solver='lbfgs', C=1.0, max_iter=1000)\n",
    "    clf.fit(X_train, y_train)\n",
    "\n",
    "    # likelihood of the positive class for each observation\n",
    "    likelihood = clf.predict_proba(X)[:, 1]  # >0.5: predict celltype, <0.5: predict not celltype\n",
    "    print('likelihood > 0.5:', sum(likelihood > 0.5))  # decision_scores > 0 的有幾個\n",
    "\n",
    "    return likelihood\n"
   ]
  },
  {
   "cell_type": "code",
   "execution_count": 59,
   "metadata": {},
   "outputs": [
    {
     "name": "stdout",
     "output_type": "stream",
     "text": [
      "====================\n",
      "Celltype: B_cell\n"
     ]
    }
   ],
   "source": [
    "celltype = 'B_cell'\n",
    "likelihood = new_LR_likelihood(data, features_dict, celltype)"
   ]
  },
  {
   "cell_type": "code",
   "execution_count": 61,
   "metadata": {},
   "outputs": [
    {
     "data": {
      "text/plain": [
       "3720"
      ]
     },
     "execution_count": 61,
     "metadata": {},
     "output_type": "execute_result"
    }
   ],
   "source": [
    "sum(likelihood >= 0.5)"
   ]
  },
  {
   "cell_type": "code",
   "execution_count": 63,
   "metadata": {},
   "outputs": [
    {
     "name": "stdout",
     "output_type": "stream",
     "text": [
      "====================\n",
      "Celltype: B_cell\n",
      "likelihood > 0.5: 3720\n",
      "====================\n",
      "Celltype: Mono&DC\n",
      "likelihood > 0.5: 7693\n",
      "====================\n",
      "Celltype: NK\n",
      "likelihood > 0.5: 1362\n",
      "====================\n",
      "Celltype: Progenitor_cells\n",
      "likelihood > 0.5: 2533\n",
      "====================\n",
      "Celltype: T_cell\n",
      "likelihood > 0.5: 14594\n"
     ]
    }
   ],
   "source": [
    "likelihood_dict = {}\n",
    "for celltype in types:\n",
    "    likelihood_dict[celltype] = new_LR_likelihood(data, features_dict, celltype)"
   ]
  },
  {
   "cell_type": "code",
   "execution_count": 66,
   "metadata": {},
   "outputs": [
    {
     "name": "stdout",
     "output_type": "stream",
     "text": [
      "(30011, 5)\n"
     ]
    },
    {
     "data": {
      "text/html": [
       "<div>\n",
       "<style scoped>\n",
       "    .dataframe tbody tr th:only-of-type {\n",
       "        vertical-align: middle;\n",
       "    }\n",
       "\n",
       "    .dataframe tbody tr th {\n",
       "        vertical-align: top;\n",
       "    }\n",
       "\n",
       "    .dataframe thead th {\n",
       "        text-align: right;\n",
       "    }\n",
       "</style>\n",
       "<table border=\"1\" class=\"dataframe\">\n",
       "  <thead>\n",
       "    <tr style=\"text-align: right;\">\n",
       "      <th></th>\n",
       "      <th>B_cell</th>\n",
       "      <th>Mono&amp;DC</th>\n",
       "      <th>NK</th>\n",
       "      <th>Progenitor_cells</th>\n",
       "      <th>T_cell</th>\n",
       "    </tr>\n",
       "  </thead>\n",
       "  <tbody>\n",
       "    <tr>\n",
       "      <th>0</th>\n",
       "      <td>5.508213e-04</td>\n",
       "      <td>2.458989e-03</td>\n",
       "      <td>0.000012</td>\n",
       "      <td>0.998093</td>\n",
       "      <td>0.015331</td>\n",
       "    </tr>\n",
       "    <tr>\n",
       "      <th>1</th>\n",
       "      <td>4.149614e-07</td>\n",
       "      <td>1.106687e-03</td>\n",
       "      <td>0.000187</td>\n",
       "      <td>0.000512</td>\n",
       "      <td>0.998783</td>\n",
       "    </tr>\n",
       "    <tr>\n",
       "      <th>2</th>\n",
       "      <td>2.756064e-06</td>\n",
       "      <td>7.827886e-07</td>\n",
       "      <td>0.000089</td>\n",
       "      <td>0.000096</td>\n",
       "      <td>0.998951</td>\n",
       "    </tr>\n",
       "    <tr>\n",
       "      <th>3</th>\n",
       "      <td>4.664967e-03</td>\n",
       "      <td>5.042658e-04</td>\n",
       "      <td>0.000008</td>\n",
       "      <td>0.000110</td>\n",
       "      <td>0.999280</td>\n",
       "    </tr>\n",
       "    <tr>\n",
       "      <th>4</th>\n",
       "      <td>6.815213e-04</td>\n",
       "      <td>9.952050e-01</td>\n",
       "      <td>0.000031</td>\n",
       "      <td>0.018804</td>\n",
       "      <td>0.000041</td>\n",
       "    </tr>\n",
       "  </tbody>\n",
       "</table>\n",
       "</div>"
      ],
      "text/plain": [
       "         B_cell       Mono&DC        NK  Progenitor_cells    T_cell\n",
       "0  5.508213e-04  2.458989e-03  0.000012          0.998093  0.015331\n",
       "1  4.149614e-07  1.106687e-03  0.000187          0.000512  0.998783\n",
       "2  2.756064e-06  7.827886e-07  0.000089          0.000096  0.998951\n",
       "3  4.664967e-03  5.042658e-04  0.000008          0.000110  0.999280\n",
       "4  6.815213e-04  9.952050e-01  0.000031          0.018804  0.000041"
      ]
     },
     "execution_count": 66,
     "metadata": {},
     "output_type": "execute_result"
    }
   ],
   "source": [
    "# turn likelihood_dict into dataframe\n",
    "likelihood_df = pd.DataFrame(likelihood_dict)\n",
    "print(likelihood_df.shape)\n",
    "likelihood_df.head()"
   ]
  },
  {
   "cell_type": "code",
   "execution_count": 65,
   "metadata": {},
   "outputs": [
    {
     "data": {
      "text/plain": [
       "0        1.016446\n",
       "1        1.000589\n",
       "2        0.999140\n",
       "3        1.004567\n",
       "4        1.014762\n",
       "           ...   \n",
       "30006    1.023630\n",
       "30007    1.000222\n",
       "30008    1.000056\n",
       "30009    1.001151\n",
       "30010    1.007043\n",
       "Length: 30011, dtype: float64"
      ]
     },
     "execution_count": 65,
     "metadata": {},
     "output_type": "execute_result"
    }
   ],
   "source": [
    "# row sum\n",
    "likelihood_df.sum(axis=1)\n"
   ]
  },
  {
   "cell_type": "code",
   "execution_count": 67,
   "metadata": {},
   "outputs": [
    {
     "data": {
      "text/plain": [
       "(30011, 6)"
      ]
     },
     "execution_count": 67,
     "metadata": {},
     "output_type": "execute_result"
    }
   ],
   "source": [
    "largest_values = []\n",
    "second_largest_values = []\n",
    "largest_columns = []\n",
    "second_largest_columns = []\n",
    "odds_ratio_list = []\n",
    "assignments = []\n",
    "\n",
    "# for index, row in likelihood_softmax.iterrows():\n",
    "for index, row in likelihood_df.iterrows():\n",
    "    # find 1st and 2nd largest values and their corresponding columns\n",
    "    largest_value = row.max()\n",
    "    largest_column = row.idxmax()\n",
    "    second_largest_value = row.nlargest(2).iloc[-1]\n",
    "    second_largest_column = row.nlargest(2).index[-1]\n",
    "    \n",
    "    largest_values.append(largest_value)\n",
    "    second_largest_values.append(second_largest_value)\n",
    "    largest_columns.append(largest_column)\n",
    "    second_largest_columns.append(second_largest_column)\n",
    "\n",
    "    # calculate odds ratio\n",
    "    odds_ratio = largest_value / second_largest_value\n",
    "    if odds_ratio >= 1.5:\n",
    "        assign = largest_column\n",
    "    else:\n",
    "        assign = 'Uncertain'\n",
    "    odds_ratio_list.append(odds_ratio)\n",
    "    assignments.append(assign)\n",
    "\n",
    "result_df = pd.DataFrame({'Largest Value': largest_values, 'Largest Column': largest_columns,\n",
    "                          'Second Largest Value': second_largest_values, 'Second Largest Column': second_largest_columns, \n",
    "                          'Odds Ratio': odds_ratio_list, 'Assignment': assignments})\n",
    "result_df.shape\n"
   ]
  },
  {
   "cell_type": "code",
   "execution_count": 68,
   "metadata": {},
   "outputs": [
    {
     "data": {
      "text/html": [
       "<div>\n",
       "<style scoped>\n",
       "    .dataframe tbody tr th:only-of-type {\n",
       "        vertical-align: middle;\n",
       "    }\n",
       "\n",
       "    .dataframe tbody tr th {\n",
       "        vertical-align: top;\n",
       "    }\n",
       "\n",
       "    .dataframe thead th {\n",
       "        text-align: right;\n",
       "    }\n",
       "</style>\n",
       "<table border=\"1\" class=\"dataframe\">\n",
       "  <thead>\n",
       "    <tr style=\"text-align: right;\">\n",
       "      <th></th>\n",
       "      <th>Largest Value</th>\n",
       "      <th>Largest Column</th>\n",
       "      <th>Second Largest Value</th>\n",
       "      <th>Second Largest Column</th>\n",
       "      <th>Odds Ratio</th>\n",
       "      <th>Assignment</th>\n",
       "    </tr>\n",
       "  </thead>\n",
       "  <tbody>\n",
       "    <tr>\n",
       "      <th>0</th>\n",
       "      <td>0.998093</td>\n",
       "      <td>Progenitor_cells</td>\n",
       "      <td>0.015331</td>\n",
       "      <td>T_cell</td>\n",
       "      <td>65.102567</td>\n",
       "      <td>Progenitor_cells</td>\n",
       "    </tr>\n",
       "    <tr>\n",
       "      <th>1</th>\n",
       "      <td>0.998783</td>\n",
       "      <td>T_cell</td>\n",
       "      <td>0.001107</td>\n",
       "      <td>Mono&amp;DC</td>\n",
       "      <td>902.498227</td>\n",
       "      <td>T_cell</td>\n",
       "    </tr>\n",
       "    <tr>\n",
       "      <th>2</th>\n",
       "      <td>0.998951</td>\n",
       "      <td>T_cell</td>\n",
       "      <td>0.000096</td>\n",
       "      <td>Progenitor_cells</td>\n",
       "      <td>10394.825267</td>\n",
       "      <td>T_cell</td>\n",
       "    </tr>\n",
       "    <tr>\n",
       "      <th>3</th>\n",
       "      <td>0.999280</td>\n",
       "      <td>T_cell</td>\n",
       "      <td>0.004665</td>\n",
       "      <td>B_cell</td>\n",
       "      <td>214.209480</td>\n",
       "      <td>T_cell</td>\n",
       "    </tr>\n",
       "    <tr>\n",
       "      <th>4</th>\n",
       "      <td>0.995205</td>\n",
       "      <td>Mono&amp;DC</td>\n",
       "      <td>0.018804</td>\n",
       "      <td>Progenitor_cells</td>\n",
       "      <td>52.925640</td>\n",
       "      <td>Mono&amp;DC</td>\n",
       "    </tr>\n",
       "    <tr>\n",
       "      <th>5</th>\n",
       "      <td>0.953161</td>\n",
       "      <td>B_cell</td>\n",
       "      <td>0.011695</td>\n",
       "      <td>Progenitor_cells</td>\n",
       "      <td>81.499834</td>\n",
       "      <td>B_cell</td>\n",
       "    </tr>\n",
       "    <tr>\n",
       "      <th>6</th>\n",
       "      <td>0.991157</td>\n",
       "      <td>T_cell</td>\n",
       "      <td>0.000525</td>\n",
       "      <td>Mono&amp;DC</td>\n",
       "      <td>1889.359522</td>\n",
       "      <td>T_cell</td>\n",
       "    </tr>\n",
       "    <tr>\n",
       "      <th>7</th>\n",
       "      <td>0.988900</td>\n",
       "      <td>Mono&amp;DC</td>\n",
       "      <td>0.005964</td>\n",
       "      <td>Progenitor_cells</td>\n",
       "      <td>165.810927</td>\n",
       "      <td>Mono&amp;DC</td>\n",
       "    </tr>\n",
       "    <tr>\n",
       "      <th>8</th>\n",
       "      <td>0.996466</td>\n",
       "      <td>B_cell</td>\n",
       "      <td>0.049554</td>\n",
       "      <td>T_cell</td>\n",
       "      <td>20.108860</td>\n",
       "      <td>B_cell</td>\n",
       "    </tr>\n",
       "    <tr>\n",
       "      <th>9</th>\n",
       "      <td>0.999995</td>\n",
       "      <td>T_cell</td>\n",
       "      <td>0.009007</td>\n",
       "      <td>Progenitor_cells</td>\n",
       "      <td>111.021709</td>\n",
       "      <td>T_cell</td>\n",
       "    </tr>\n",
       "    <tr>\n",
       "      <th>10</th>\n",
       "      <td>0.997159</td>\n",
       "      <td>T_cell</td>\n",
       "      <td>0.000720</td>\n",
       "      <td>Progenitor_cells</td>\n",
       "      <td>1384.376769</td>\n",
       "      <td>T_cell</td>\n",
       "    </tr>\n",
       "    <tr>\n",
       "      <th>11</th>\n",
       "      <td>0.999635</td>\n",
       "      <td>Progenitor_cells</td>\n",
       "      <td>0.000746</td>\n",
       "      <td>Mono&amp;DC</td>\n",
       "      <td>1340.714234</td>\n",
       "      <td>Progenitor_cells</td>\n",
       "    </tr>\n",
       "    <tr>\n",
       "      <th>12</th>\n",
       "      <td>0.999320</td>\n",
       "      <td>Mono&amp;DC</td>\n",
       "      <td>0.000957</td>\n",
       "      <td>B_cell</td>\n",
       "      <td>1043.807724</td>\n",
       "      <td>Mono&amp;DC</td>\n",
       "    </tr>\n",
       "    <tr>\n",
       "      <th>13</th>\n",
       "      <td>0.999910</td>\n",
       "      <td>T_cell</td>\n",
       "      <td>0.017061</td>\n",
       "      <td>Progenitor_cells</td>\n",
       "      <td>58.608463</td>\n",
       "      <td>T_cell</td>\n",
       "    </tr>\n",
       "    <tr>\n",
       "      <th>14</th>\n",
       "      <td>0.996911</td>\n",
       "      <td>Mono&amp;DC</td>\n",
       "      <td>0.002000</td>\n",
       "      <td>B_cell</td>\n",
       "      <td>498.343611</td>\n",
       "      <td>Mono&amp;DC</td>\n",
       "    </tr>\n",
       "    <tr>\n",
       "      <th>15</th>\n",
       "      <td>0.999867</td>\n",
       "      <td>T_cell</td>\n",
       "      <td>0.001740</td>\n",
       "      <td>Progenitor_cells</td>\n",
       "      <td>574.505797</td>\n",
       "      <td>T_cell</td>\n",
       "    </tr>\n",
       "    <tr>\n",
       "      <th>16</th>\n",
       "      <td>0.998643</td>\n",
       "      <td>T_cell</td>\n",
       "      <td>0.000098</td>\n",
       "      <td>Progenitor_cells</td>\n",
       "      <td>10209.535387</td>\n",
       "      <td>T_cell</td>\n",
       "    </tr>\n",
       "    <tr>\n",
       "      <th>17</th>\n",
       "      <td>0.992841</td>\n",
       "      <td>T_cell</td>\n",
       "      <td>0.464426</td>\n",
       "      <td>B_cell</td>\n",
       "      <td>2.137781</td>\n",
       "      <td>T_cell</td>\n",
       "    </tr>\n",
       "    <tr>\n",
       "      <th>18</th>\n",
       "      <td>0.998513</td>\n",
       "      <td>Mono&amp;DC</td>\n",
       "      <td>0.011788</td>\n",
       "      <td>B_cell</td>\n",
       "      <td>84.703507</td>\n",
       "      <td>Mono&amp;DC</td>\n",
       "    </tr>\n",
       "    <tr>\n",
       "      <th>19</th>\n",
       "      <td>0.082935</td>\n",
       "      <td>T_cell</td>\n",
       "      <td>0.017470</td>\n",
       "      <td>Mono&amp;DC</td>\n",
       "      <td>4.747267</td>\n",
       "      <td>T_cell</td>\n",
       "    </tr>\n",
       "  </tbody>\n",
       "</table>\n",
       "</div>"
      ],
      "text/plain": [
       "    Largest Value    Largest Column  Second Largest Value  \\\n",
       "0        0.998093  Progenitor_cells              0.015331   \n",
       "1        0.998783            T_cell              0.001107   \n",
       "2        0.998951            T_cell              0.000096   \n",
       "3        0.999280            T_cell              0.004665   \n",
       "4        0.995205           Mono&DC              0.018804   \n",
       "5        0.953161            B_cell              0.011695   \n",
       "6        0.991157            T_cell              0.000525   \n",
       "7        0.988900           Mono&DC              0.005964   \n",
       "8        0.996466            B_cell              0.049554   \n",
       "9        0.999995            T_cell              0.009007   \n",
       "10       0.997159            T_cell              0.000720   \n",
       "11       0.999635  Progenitor_cells              0.000746   \n",
       "12       0.999320           Mono&DC              0.000957   \n",
       "13       0.999910            T_cell              0.017061   \n",
       "14       0.996911           Mono&DC              0.002000   \n",
       "15       0.999867            T_cell              0.001740   \n",
       "16       0.998643            T_cell              0.000098   \n",
       "17       0.992841            T_cell              0.464426   \n",
       "18       0.998513           Mono&DC              0.011788   \n",
       "19       0.082935            T_cell              0.017470   \n",
       "\n",
       "   Second Largest Column    Odds Ratio        Assignment  \n",
       "0                 T_cell     65.102567  Progenitor_cells  \n",
       "1                Mono&DC    902.498227            T_cell  \n",
       "2       Progenitor_cells  10394.825267            T_cell  \n",
       "3                 B_cell    214.209480            T_cell  \n",
       "4       Progenitor_cells     52.925640           Mono&DC  \n",
       "5       Progenitor_cells     81.499834            B_cell  \n",
       "6                Mono&DC   1889.359522            T_cell  \n",
       "7       Progenitor_cells    165.810927           Mono&DC  \n",
       "8                 T_cell     20.108860            B_cell  \n",
       "9       Progenitor_cells    111.021709            T_cell  \n",
       "10      Progenitor_cells   1384.376769            T_cell  \n",
       "11               Mono&DC   1340.714234  Progenitor_cells  \n",
       "12                B_cell   1043.807724           Mono&DC  \n",
       "13      Progenitor_cells     58.608463            T_cell  \n",
       "14                B_cell    498.343611           Mono&DC  \n",
       "15      Progenitor_cells    574.505797            T_cell  \n",
       "16      Progenitor_cells  10209.535387            T_cell  \n",
       "17                B_cell      2.137781            T_cell  \n",
       "18                B_cell     84.703507           Mono&DC  \n",
       "19               Mono&DC      4.747267            T_cell  "
      ]
     },
     "execution_count": 68,
     "metadata": {},
     "output_type": "execute_result"
    }
   ],
   "source": [
    "result_df.head(20)"
   ]
  },
  {
   "cell_type": "code",
   "execution_count": 69,
   "metadata": {},
   "outputs": [
    {
     "data": {
      "text/plain": [
       "686"
      ]
     },
     "execution_count": 69,
     "metadata": {},
     "output_type": "execute_result"
    }
   ],
   "source": [
    "sum(result_df['Assignment'] == 'Uncertain')"
   ]
  },
  {
   "cell_type": "code",
   "execution_count": 70,
   "metadata": {},
   "outputs": [
    {
     "data": {
      "text/plain": [
       "0.02285828529539169"
      ]
     },
     "execution_count": 70,
     "metadata": {},
     "output_type": "execute_result"
    }
   ],
   "source": [
    "686/len(result_df)"
   ]
  },
  {
   "cell_type": "code",
   "execution_count": 71,
   "metadata": {},
   "outputs": [],
   "source": [
    "import pandas as pd\n",
    "\n",
    "# Get the true labels\n",
    "true_labels = data.obs['celltype.l1'].tolist()\n",
    "\n",
    "# Get the predicted labels\n",
    "predicted_labels = result_df['Assignment'].tolist()\n",
    "\n",
    "# Create the confusion matrix\n",
    "cm = pd.crosstab(true_labels, predicted_labels, rownames=['True'], colnames=['Predicted'], margins=False)\n",
    "\n",
    "# reorder columns\n",
    "cm = cm.reindex(types + ['Uncertain'], axis=1)\n",
    "\n",
    "# replace NaN with 0\n",
    "cm = cm.fillna(0)\n",
    "cm = cm.astype(int)\n"
   ]
  },
  {
   "cell_type": "code",
   "execution_count": 72,
   "metadata": {},
   "outputs": [
    {
     "data": {
      "text/html": [
       "<div>\n",
       "<style scoped>\n",
       "    .dataframe tbody tr th:only-of-type {\n",
       "        vertical-align: middle;\n",
       "    }\n",
       "\n",
       "    .dataframe tbody tr th {\n",
       "        vertical-align: top;\n",
       "    }\n",
       "\n",
       "    .dataframe thead th {\n",
       "        text-align: right;\n",
       "    }\n",
       "</style>\n",
       "<table border=\"1\" class=\"dataframe\">\n",
       "  <thead>\n",
       "    <tr style=\"text-align: right;\">\n",
       "      <th>Predicted</th>\n",
       "      <th>B_cell</th>\n",
       "      <th>Mono&amp;DC</th>\n",
       "      <th>NK</th>\n",
       "      <th>Progenitor_cells</th>\n",
       "      <th>T_cell</th>\n",
       "      <th>Uncertain</th>\n",
       "    </tr>\n",
       "    <tr>\n",
       "      <th>True</th>\n",
       "      <th></th>\n",
       "      <th></th>\n",
       "      <th></th>\n",
       "      <th></th>\n",
       "      <th></th>\n",
       "      <th></th>\n",
       "    </tr>\n",
       "  </thead>\n",
       "  <tbody>\n",
       "    <tr>\n",
       "      <th>B_cell</th>\n",
       "      <td>3597</td>\n",
       "      <td>11</td>\n",
       "      <td>1</td>\n",
       "      <td>14</td>\n",
       "      <td>18</td>\n",
       "      <td>92</td>\n",
       "    </tr>\n",
       "    <tr>\n",
       "      <th>Mono&amp;DC</th>\n",
       "      <td>21</td>\n",
       "      <td>7454</td>\n",
       "      <td>1</td>\n",
       "      <td>68</td>\n",
       "      <td>3</td>\n",
       "      <td>111</td>\n",
       "    </tr>\n",
       "    <tr>\n",
       "      <th>NK</th>\n",
       "      <td>2</td>\n",
       "      <td>11</td>\n",
       "      <td>1146</td>\n",
       "      <td>5</td>\n",
       "      <td>73</td>\n",
       "      <td>139</td>\n",
       "    </tr>\n",
       "    <tr>\n",
       "      <th>Progenitor_cells</th>\n",
       "      <td>39</td>\n",
       "      <td>104</td>\n",
       "      <td>4</td>\n",
       "      <td>2275</td>\n",
       "      <td>19</td>\n",
       "      <td>237</td>\n",
       "    </tr>\n",
       "    <tr>\n",
       "      <th>T_cell</th>\n",
       "      <td>2</td>\n",
       "      <td>10</td>\n",
       "      <td>31</td>\n",
       "      <td>9</td>\n",
       "      <td>14407</td>\n",
       "      <td>107</td>\n",
       "    </tr>\n",
       "  </tbody>\n",
       "</table>\n",
       "</div>"
      ],
      "text/plain": [
       "Predicted         B_cell  Mono&DC    NK  Progenitor_cells  T_cell  Uncertain\n",
       "True                                                                        \n",
       "B_cell              3597       11     1                14      18         92\n",
       "Mono&DC               21     7454     1                68       3        111\n",
       "NK                     2       11  1146                 5      73        139\n",
       "Progenitor_cells      39      104     4              2275      19        237\n",
       "T_cell                 2       10    31                 9   14407        107"
      ]
     },
     "execution_count": 72,
     "metadata": {},
     "output_type": "execute_result"
    }
   ],
   "source": [
    "cm"
   ]
  },
  {
   "cell_type": "code",
   "execution_count": 74,
   "metadata": {},
   "outputs": [
    {
     "data": {
      "text/plain": [
       "True\n",
       "B_cell               3733\n",
       "Mono&DC              7658\n",
       "NK                   1376\n",
       "Progenitor_cells     2678\n",
       "T_cell              14566\n",
       "dtype: int64"
      ]
     },
     "execution_count": 74,
     "metadata": {},
     "output_type": "execute_result"
    }
   ],
   "source": [
    "row_sum = cm.sum(axis=1)\n",
    "row_sum\n"
   ]
  },
  {
   "cell_type": "code",
   "execution_count": 75,
   "metadata": {},
   "outputs": [
    {
     "data": {
      "image/png": "[encoded data removed]",
      "text/plain": [
       "<Figure size 1000x700 with 2 Axes>"
      ]
     },
     "metadata": {},
     "output_type": "display_data"
    }
   ],
   "source": [
    "cm_proportion = cm.div(row_sum, axis=0)\n",
    "cm_proportion *= 100\n",
    "plt.figure(figsize=(10, 7))\n",
    "sns.heatmap(cm_proportion, fmt=\".2f\", annot=True, cmap='Blues')\n",
    "plt.title('LR Prediction Confusion Matrix (Proportion %)')\n",
    "plt.show()"
   ]
  },
  {
   "cell_type": "markdown",
   "metadata": {},
   "source": [
    "## Calculate accuracy"
   ]
  },
  {
   "cell_type": "code",
   "execution_count": 76,
   "metadata": {},
   "outputs": [
    {
     "data": {
      "text/plain": [
       "0.9622804971510446"
      ]
     },
     "execution_count": 76,
     "metadata": {},
     "output_type": "execute_result"
    }
   ],
   "source": [
    "accuracy = sum(np.diag(cm)) / cm.values.sum()\n",
    "accuracy"
   ]
  },
  {
   "cell_type": "code",
   "execution_count": 77,
   "metadata": {},
   "outputs": [
    {
     "data": {
      "text/plain": [
       "30011"
      ]
     },
     "execution_count": 77,
     "metadata": {},
     "output_type": "execute_result"
    }
   ],
   "source": [
    "cm.values.sum()"
   ]
  },
  {
   "cell_type": "code",
   "execution_count": null,
   "metadata": {},
   "outputs": [],
   "source": []
  }
 ],
 "metadata": {
  "kernelspec": {
   "display_name": "Python 3 (ipykernel)",
   "language": "python",
   "name": "python3"
  },
  "language_info": {
   "codemirror_mode": {
    "name": "ipython",
    "version": 3
   },
   "file_extension": ".py",
   "mimetype": "text/x-python",
   "name": "python",
   "nbconvert_exporter": "python",
   "pygments_lexer": "ipython3",
   "version": "3.9.12"
  }
 },
 "nbformat": 4,
 "nbformat_minor": 4
}

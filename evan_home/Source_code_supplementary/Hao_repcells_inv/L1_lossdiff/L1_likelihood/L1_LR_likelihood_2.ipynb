{
 "cells": [
  {
   "cell_type": "code",
   "execution_count": 1,
   "metadata": {
    "tags": []
   },
   "outputs": [],
   "source": [
    "import pandas as pd\n",
    "import numpy as np\n",
    "import matplotlib.pyplot as plt\n",
    "import pickle\n",
    "import os\n",
    "import sys\n",
    "\n",
    "from sklearn.linear_model import LogisticRegression\n",
    "from sklearn.model_selection import train_test_split"
   ]
  },
  {
   "cell_type": "code",
   "execution_count": 8,
   "metadata": {},
   "outputs": [
    {
     "data": {
      "text/plain": [
       "(161764, 33538)"
      ]
     },
     "execution_count": 8,
     "metadata": {},
     "output_type": "execute_result"
    }
   ],
   "source": [
    "import scanpy as sc\n",
    "# import scvelo as scv\n",
    "\n",
    "# read the full GSE dataset\n",
    "data = sc.read_h5ad('/Users/evanli/Documents/Research_datasets/PBMC_Hao/GSE164378_Hao/Hao_PBMC_GSE164378.h5ad')\n",
    "# data = sc.read_h5ad(r\"C:\\Users\\evanlee\\Documents\\Research_datasets\\GSE164378\\Hao_PBMC_GSE164378.h5ad\")\n",
    "data.shape"
   ]
  },
  {
   "cell_type": "code",
   "execution_count": 8,
   "metadata": {},
   "outputs": [],
   "source": [
    "### Raw counts were not normalizaed\n",
    "# CPM\n",
    "sc.pp.normalize_total(data, target_sum=1e6)\n",
    "\n",
    "# log1p\n",
    "sc.pp.log1p(data)"
   ]
  },
  {
   "cell_type": "code",
   "execution_count": 9,
   "metadata": {},
   "outputs": [
    {
     "name": "stdout",
     "output_type": "stream",
     "text": [
      "['B', 'CD4_T', 'CD8_T', 'DC', 'Mono', 'NK', 'other', 'other_T']\n"
     ]
    }
   ],
   "source": [
    "data.obs['celltype.l1'] = data.obs['celltype.l1'].str.replace(' ', '_')\n",
    "\n",
    "label = data.obs['celltype.l1'].tolist()\n",
    "types = np.unique(label).tolist()\n",
    "# types = [s.replace(' ', '_') for s in types]\n",
    "print(types)"
   ]
  },
  {
   "cell_type": "markdown",
   "metadata": {},
   "source": [
    "## Read features"
   ]
  },
  {
   "cell_type": "code",
   "execution_count": 10,
   "metadata": {},
   "outputs": [],
   "source": [
    "# Level 1 ADlasso features by loss difference convergence\n",
    "import os\n",
    "# os.chdir('/Users/evanli/Documents/EvanPys/Progress/PBMC_Hao_GSE/L1_by_lossdiff/feature_selection')\n",
    "os.chdir(r\"C:\\Users\\evanlee\\Documents\\GitHub\\EvanPys\\Progress\\PBMC_Hao_GSE\\L1_by_lossdiff\\feature_selection\")\n",
    "\n",
    "types = ['B', 'CD4_T', 'CD8_T', 'DC', 'Mono', 'NK', 'other', 'other_T']\n",
    "features_dict = {}\n",
    "# Read features for each celltype\n",
    "for celltype in types:\n",
    "    try:\n",
    "        feature_df = pd.read_csv(f'{celltype}_features.txt', names=['Gene', 'Weight', 'Tendency'], sep='\\t')\n",
    "        features_dict[celltype] = feature_df\n",
    "    except:\n",
    "        print('skipping:', celltype)\n",
    "        continue\n",
    "    # print(celltype, 'Feature count:', feature_df.shape[0])\n",
    "    # print(celltype, 'Positive feature count:', feature_df[feature_df['Tendency'] == 1].shape[0])\n",
    "    # print('------------------')"
   ]
  },
  {
   "cell_type": "code",
   "execution_count": 11,
   "metadata": {},
   "outputs": [
    {
     "data": {
      "text/html": [
       "<div>\n",
       "<style scoped>\n",
       "    .dataframe tbody tr th:only-of-type {\n",
       "        vertical-align: middle;\n",
       "    }\n",
       "\n",
       "    .dataframe tbody tr th {\n",
       "        vertical-align: top;\n",
       "    }\n",
       "\n",
       "    .dataframe thead th {\n",
       "        text-align: right;\n",
       "    }\n",
       "</style>\n",
       "<table border=\"1\" class=\"dataframe\">\n",
       "  <thead>\n",
       "    <tr style=\"text-align: right;\">\n",
       "      <th></th>\n",
       "      <th>Feature_count</th>\n",
       "      <th>Positive_feature_count</th>\n",
       "    </tr>\n",
       "  </thead>\n",
       "  <tbody>\n",
       "    <tr>\n",
       "      <th>B</th>\n",
       "      <td>13</td>\n",
       "      <td>7</td>\n",
       "    </tr>\n",
       "    <tr>\n",
       "      <th>CD4_T</th>\n",
       "      <td>200</td>\n",
       "      <td>83</td>\n",
       "    </tr>\n",
       "    <tr>\n",
       "      <th>CD8_T</th>\n",
       "      <td>25</td>\n",
       "      <td>6</td>\n",
       "    </tr>\n",
       "    <tr>\n",
       "      <th>DC</th>\n",
       "      <td>25</td>\n",
       "      <td>15</td>\n",
       "    </tr>\n",
       "    <tr>\n",
       "      <th>Mono</th>\n",
       "      <td>21</td>\n",
       "      <td>11</td>\n",
       "    </tr>\n",
       "    <tr>\n",
       "      <th>NK</th>\n",
       "      <td>28</td>\n",
       "      <td>14</td>\n",
       "    </tr>\n",
       "    <tr>\n",
       "      <th>other</th>\n",
       "      <td>42</td>\n",
       "      <td>27</td>\n",
       "    </tr>\n",
       "    <tr>\n",
       "      <th>other_T</th>\n",
       "      <td>61</td>\n",
       "      <td>26</td>\n",
       "    </tr>\n",
       "  </tbody>\n",
       "</table>\n",
       "</div>"
      ],
      "text/plain": [
       "         Feature_count  Positive_feature_count\n",
       "B                   13                       7\n",
       "CD4_T              200                      83\n",
       "CD8_T               25                       6\n",
       "DC                  25                      15\n",
       "Mono                21                      11\n",
       "NK                  28                      14\n",
       "other               42                      27\n",
       "other_T             61                      26"
      ]
     },
     "execution_count": 11,
     "metadata": {},
     "output_type": "execute_result"
    }
   ],
   "source": [
    "count_df = pd.DataFrame(columns=['Feature_count', 'Positive_feature_count'])\n",
    "for celltype in features_dict.keys():\n",
    "    feature_df = features_dict[celltype]\n",
    "    feature_count = feature_df.shape[0]\n",
    "    positive_count = feature_df[feature_df['Tendency'] == 1].shape[0]\n",
    "    count_df.loc[celltype] = [feature_count, positive_count]\n",
    "count_df"
   ]
  },
  {
   "cell_type": "markdown",
   "metadata": {},
   "source": [
    "## Get likelihood from LR model"
   ]
  },
  {
   "cell_type": "code",
   "execution_count": 18,
   "metadata": {},
   "outputs": [],
   "source": [
    "def LR_likelihood(data, all_features_dict, celltype):\n",
    "    print('====================')\n",
    "    print('Celltype:', celltype)\n",
    "    # subset data to celltype features\n",
    "    X = data[:, all_features_dict[celltype]['Gene'].tolist()].X\n",
    "    # Binary label\n",
    "    y = [1 if i==celltype else 0 for i in data.obs['celltype.l1'].tolist()]\n",
    "\n",
    "    X_train, X_test, y_train, y_test = train_test_split(X, y, test_size=0.2, random_state=0, stratify=y)\n",
    "\n",
    "    clf = LogisticRegression(penalty='l2', solver='lbfgs', C=1.0, max_iter=1000)\n",
    "    clf.fit(X_train, y_train)\n",
    "\n",
    "    decision_scores = clf.decision_function(X)  # >0: predict celltype, <0: predict not celltype\n",
    "    print('decision_scores > 0:', sum(decision_scores > 0))\n",
    "\n",
    "    # calculate the likelihood of the positive class for each observation in X based on the decision scores\n",
    "    likelihood = 1 / (1 + np.exp(-decision_scores))\n",
    "    print('likelihood > 0.5:', sum(likelihood > 0.5))  # >0.5: predict celltype, <0.5: predict not celltype\n",
    "    print(type(likelihood), likelihood.shape)\n",
    "    #do the row-wise softmax\n",
    "    # likelihood = np.exp(likelihood)/np.sum(np.exp(likelihood),1,keepdims=True)\n",
    "    \n",
    "    return likelihood\n"
   ]
  },
  {
   "cell_type": "code",
   "execution_count": 19,
   "metadata": {},
   "outputs": [
    {
     "name": "stdout",
     "output_type": "stream",
     "text": [
      "====================\n",
      "Celltype: B\n",
      "decision_scores > 0: 13797\n",
      "likelihood > 0.5: 13797\n",
      "<class 'numpy.ndarray'> (161764,)\n"
     ]
    },
    {
     "data": {
      "text/plain": [
       "(161764,)"
      ]
     },
     "execution_count": 19,
     "metadata": {},
     "output_type": "execute_result"
    }
   ],
   "source": [
    "celltype = 'B'\n",
    "B_likelihood = LR_likelihood(data, features_dict, celltype)\n",
    "B_likelihood.shape"
   ]
  },
  {
   "cell_type": "code",
   "execution_count": 20,
   "metadata": {},
   "outputs": [
    {
     "name": "stdout",
     "output_type": "stream",
     "text": [
      "====================\n",
      "Celltype: B\n",
      "decision_scores > 0: 13797\n",
      "likelihood > 0.5: 13797\n",
      "<class 'numpy.ndarray'> (161764,)\n",
      "====================\n",
      "Celltype: CD4_T\n",
      "decision_scores > 0: 41021\n",
      "likelihood > 0.5: 41021\n",
      "<class 'numpy.ndarray'> (161764,)\n",
      "====================\n",
      "Celltype: CD8_T\n",
      "decision_scores > 0: 24604\n",
      "likelihood > 0.5: 24604\n",
      "<class 'numpy.ndarray'> (161764,)\n",
      "====================\n",
      "Celltype: DC\n",
      "decision_scores > 0: 3557\n",
      "likelihood > 0.5: 3557\n",
      "<class 'numpy.ndarray'> (161764,)\n",
      "====================\n",
      "Celltype: Mono\n",
      "decision_scores > 0: 49941\n",
      "likelihood > 0.5: 49941\n",
      "<class 'numpy.ndarray'> (161764,)\n",
      "====================\n",
      "Celltype: NK\n",
      "decision_scores > 0: 18711\n",
      "likelihood > 0.5: 18711\n",
      "<class 'numpy.ndarray'> (161764,)\n",
      "====================\n",
      "Celltype: other\n",
      "decision_scores > 0: 2743\n",
      "likelihood > 0.5: 2743\n",
      "<class 'numpy.ndarray'> (161764,)\n",
      "====================\n",
      "Celltype: other_T\n",
      "decision_scores > 0: 5700\n",
      "likelihood > 0.5: 5700\n",
      "<class 'numpy.ndarray'> (161764,)\n"
     ]
    }
   ],
   "source": [
    "likelihood_dict = {}\n",
    "for celltype in types:\n",
    "    likelihood_dict[celltype] = LR_likelihood(data, features_dict, celltype)"
   ]
  },
  {
   "cell_type": "code",
   "execution_count": 21,
   "metadata": {},
   "outputs": [
    {
     "data": {
      "text/plain": [
       "celltype.l1\n",
       "Mono       49010\n",
       "CD4_T      41001\n",
       "CD8_T      25469\n",
       "NK         18664\n",
       "B          13800\n",
       "other_T     6789\n",
       "DC          3589\n",
       "other       3442\n",
       "Name: count, dtype: int64"
      ]
     },
     "execution_count": 21,
     "metadata": {},
     "output_type": "execute_result"
    }
   ],
   "source": [
    "data.obs['celltype.l1'].value_counts()"
   ]
  },
  {
   "cell_type": "code",
   "execution_count": 56,
   "metadata": {},
   "outputs": [
    {
     "data": {
      "text/html": [
       "<div>\n",
       "<style scoped>\n",
       "    .dataframe tbody tr th:only-of-type {\n",
       "        vertical-align: middle;\n",
       "    }\n",
       "\n",
       "    .dataframe tbody tr th {\n",
       "        vertical-align: top;\n",
       "    }\n",
       "\n",
       "    .dataframe thead th {\n",
       "        text-align: right;\n",
       "    }\n",
       "</style>\n",
       "<table border=\"1\" class=\"dataframe\">\n",
       "  <thead>\n",
       "    <tr style=\"text-align: right;\">\n",
       "      <th></th>\n",
       "      <th>B</th>\n",
       "      <th>CD4_T</th>\n",
       "      <th>CD8_T</th>\n",
       "      <th>DC</th>\n",
       "      <th>Mono</th>\n",
       "      <th>NK</th>\n",
       "      <th>other</th>\n",
       "      <th>other_T</th>\n",
       "    </tr>\n",
       "  </thead>\n",
       "  <tbody>\n",
       "    <tr>\n",
       "      <th>0</th>\n",
       "      <td>1.404770e-06</td>\n",
       "      <td>0.000095</td>\n",
       "      <td>0.000347</td>\n",
       "      <td>9.861753e-06</td>\n",
       "      <td>9.436343e-01</td>\n",
       "      <td>2.385146e-06</td>\n",
       "      <td>0.002143</td>\n",
       "      <td>0.000071</td>\n",
       "    </tr>\n",
       "    <tr>\n",
       "      <th>1</th>\n",
       "      <td>5.349328e-07</td>\n",
       "      <td>0.997527</td>\n",
       "      <td>0.013055</td>\n",
       "      <td>1.222594e-14</td>\n",
       "      <td>2.342952e-10</td>\n",
       "      <td>2.234398e-06</td>\n",
       "      <td>0.004022</td>\n",
       "      <td>0.001214</td>\n",
       "    </tr>\n",
       "    <tr>\n",
       "      <th>2</th>\n",
       "      <td>4.825896e-06</td>\n",
       "      <td>0.010334</td>\n",
       "      <td>0.998874</td>\n",
       "      <td>5.509071e-14</td>\n",
       "      <td>5.731363e-12</td>\n",
       "      <td>2.098368e-05</td>\n",
       "      <td>0.003307</td>\n",
       "      <td>0.008626</td>\n",
       "    </tr>\n",
       "    <tr>\n",
       "      <th>3</th>\n",
       "      <td>6.481929e-07</td>\n",
       "      <td>0.000123</td>\n",
       "      <td>0.010338</td>\n",
       "      <td>1.085362e-13</td>\n",
       "      <td>4.362391e-10</td>\n",
       "      <td>9.998705e-01</td>\n",
       "      <td>0.001026</td>\n",
       "      <td>0.008453</td>\n",
       "    </tr>\n",
       "    <tr>\n",
       "      <th>4</th>\n",
       "      <td>3.412856e-08</td>\n",
       "      <td>0.000912</td>\n",
       "      <td>0.994669</td>\n",
       "      <td>1.715550e-18</td>\n",
       "      <td>1.307734e-07</td>\n",
       "      <td>2.185635e-07</td>\n",
       "      <td>0.006052</td>\n",
       "      <td>0.005609</td>\n",
       "    </tr>\n",
       "  </tbody>\n",
       "</table>\n",
       "</div>"
      ],
      "text/plain": [
       "              B     CD4_T     CD8_T            DC          Mono            NK  \\\n",
       "0  1.404770e-06  0.000095  0.000347  9.861753e-06  9.436343e-01  2.385146e-06   \n",
       "1  5.349328e-07  0.997527  0.013055  1.222594e-14  2.342952e-10  2.234398e-06   \n",
       "2  4.825896e-06  0.010334  0.998874  5.509071e-14  5.731363e-12  2.098368e-05   \n",
       "3  6.481929e-07  0.000123  0.010338  1.085362e-13  4.362391e-10  9.998705e-01   \n",
       "4  3.412856e-08  0.000912  0.994669  1.715550e-18  1.307734e-07  2.185635e-07   \n",
       "\n",
       "      other   other_T  \n",
       "0  0.002143  0.000071  \n",
       "1  0.004022  0.001214  \n",
       "2  0.003307  0.008626  \n",
       "3  0.001026  0.008453  \n",
       "4  0.006052  0.005609  "
      ]
     },
     "execution_count": 56,
     "metadata": {},
     "output_type": "execute_result"
    }
   ],
   "source": [
    "# turn likelihood_dict into dataframe\n",
    "likelihood_df = pd.DataFrame(likelihood_dict)\n",
    "likelihood_df.head()"
   ]
  },
  {
   "cell_type": "code",
   "execution_count": 3,
   "metadata": {},
   "outputs": [
    {
     "data": {
      "text/html": [
       "<div>\n",
       "<style scoped>\n",
       "    .dataframe tbody tr th:only-of-type {\n",
       "        vertical-align: middle;\n",
       "    }\n",
       "\n",
       "    .dataframe tbody tr th {\n",
       "        vertical-align: top;\n",
       "    }\n",
       "\n",
       "    .dataframe thead th {\n",
       "        text-align: right;\n",
       "    }\n",
       "</style>\n",
       "<table border=\"1\" class=\"dataframe\">\n",
       "  <thead>\n",
       "    <tr style=\"text-align: right;\">\n",
       "      <th></th>\n",
       "      <th>B</th>\n",
       "      <th>CD4_T</th>\n",
       "      <th>CD8_T</th>\n",
       "      <th>DC</th>\n",
       "      <th>Mono</th>\n",
       "      <th>NK</th>\n",
       "      <th>other</th>\n",
       "      <th>other_T</th>\n",
       "    </tr>\n",
       "  </thead>\n",
       "  <tbody>\n",
       "    <tr>\n",
       "      <th>0</th>\n",
       "      <td>1.404770e-06</td>\n",
       "      <td>0.000095</td>\n",
       "      <td>0.000347</td>\n",
       "      <td>9.861753e-06</td>\n",
       "      <td>9.436343e-01</td>\n",
       "      <td>2.385146e-06</td>\n",
       "      <td>0.002143</td>\n",
       "      <td>0.000071</td>\n",
       "    </tr>\n",
       "    <tr>\n",
       "      <th>1</th>\n",
       "      <td>5.349328e-07</td>\n",
       "      <td>0.997527</td>\n",
       "      <td>0.013055</td>\n",
       "      <td>1.222594e-14</td>\n",
       "      <td>2.342952e-10</td>\n",
       "      <td>2.234398e-06</td>\n",
       "      <td>0.004022</td>\n",
       "      <td>0.001214</td>\n",
       "    </tr>\n",
       "    <tr>\n",
       "      <th>2</th>\n",
       "      <td>4.825896e-06</td>\n",
       "      <td>0.010334</td>\n",
       "      <td>0.998874</td>\n",
       "      <td>5.509071e-14</td>\n",
       "      <td>5.731363e-12</td>\n",
       "      <td>2.098368e-05</td>\n",
       "      <td>0.003307</td>\n",
       "      <td>0.008626</td>\n",
       "    </tr>\n",
       "    <tr>\n",
       "      <th>3</th>\n",
       "      <td>6.481929e-07</td>\n",
       "      <td>0.000123</td>\n",
       "      <td>0.010338</td>\n",
       "      <td>1.085362e-13</td>\n",
       "      <td>4.362391e-10</td>\n",
       "      <td>9.998705e-01</td>\n",
       "      <td>0.001026</td>\n",
       "      <td>0.008453</td>\n",
       "    </tr>\n",
       "    <tr>\n",
       "      <th>4</th>\n",
       "      <td>3.412856e-08</td>\n",
       "      <td>0.000912</td>\n",
       "      <td>0.994669</td>\n",
       "      <td>1.715550e-18</td>\n",
       "      <td>1.307734e-07</td>\n",
       "      <td>2.185635e-07</td>\n",
       "      <td>0.006052</td>\n",
       "      <td>0.005609</td>\n",
       "    </tr>\n",
       "  </tbody>\n",
       "</table>\n",
       "</div>"
      ],
      "text/plain": [
       "              B     CD4_T     CD8_T            DC          Mono            NK  \\\n",
       "0  1.404770e-06  0.000095  0.000347  9.861753e-06  9.436343e-01  2.385146e-06   \n",
       "1  5.349328e-07  0.997527  0.013055  1.222594e-14  2.342952e-10  2.234398e-06   \n",
       "2  4.825896e-06  0.010334  0.998874  5.509071e-14  5.731363e-12  2.098368e-05   \n",
       "3  6.481929e-07  0.000123  0.010338  1.085362e-13  4.362391e-10  9.998705e-01   \n",
       "4  3.412856e-08  0.000912  0.994669  1.715550e-18  1.307734e-07  2.185635e-07   \n",
       "\n",
       "      other   other_T  \n",
       "0  0.002143  0.000071  \n",
       "1  0.004022  0.001214  \n",
       "2  0.003307  0.008626  \n",
       "3  0.001026  0.008453  \n",
       "4  0.006052  0.005609  "
      ]
     },
     "execution_count": 3,
     "metadata": {},
     "output_type": "execute_result"
    }
   ],
   "source": [
    "likelihood_df = pd.read_csv('L1_likelihood_df.csv')\n",
    "likelihood_df.head()"
   ]
  },
  {
   "cell_type": "code",
   "execution_count": 4,
   "metadata": {},
   "outputs": [
    {
     "data": {
      "text/plain": [
       "0         0.946304\n",
       "1         1.015821\n",
       "2         1.021167\n",
       "3         1.019812\n",
       "4         1.007242\n",
       "            ...   \n",
       "161759    1.054958\n",
       "161760    1.003057\n",
       "161761    1.003284\n",
       "161762    0.995774\n",
       "161763    0.962423\n",
       "Length: 161764, dtype: float64"
      ]
     },
     "execution_count": 4,
     "metadata": {},
     "output_type": "execute_result"
    }
   ],
   "source": [
    "# row sum\n",
    "likelihood_df.sum(axis=1)\n"
   ]
  },
  {
   "cell_type": "markdown",
   "metadata": {},
   "source": [
    "### 20231227: add softmax operation to likelihood, poor result"
   ]
  },
  {
   "cell_type": "code",
   "execution_count": 58,
   "metadata": {},
   "outputs": [
    {
     "data": {
      "text/plain": [
       "(161764, 8)"
      ]
     },
     "execution_count": 58,
     "metadata": {},
     "output_type": "execute_result"
    }
   ],
   "source": [
    "# Applying row-wise softmax\n",
    "def softmax(x):\n",
    "    e_x = np.exp(x - np.max(x))\n",
    "    return e_x / e_x.sum(axis=1, keepdims=True)\n",
    "\n",
    "likelihood_softmax = pd.DataFrame(softmax(likelihood_df.values), columns=likelihood_df.columns)\n",
    "likelihood_softmax.shape"
   ]
  },
  {
   "cell_type": "code",
   "execution_count": 33,
   "metadata": {},
   "outputs": [
    {
     "data": {
      "text/plain": [
       "(161764, 8)"
      ]
     },
     "execution_count": 33,
     "metadata": {},
     "output_type": "execute_result"
    }
   ],
   "source": [
    "# row-wise softmax\n",
    "# likelihood_softmax = likelihood_df.values\n",
    "# likelihood_softmax = np.exp(likelihood_softmax)/np.sum(np.exp(likelihood_softmax),1,keepdims=True)\n",
    "# likelihood_softmax = pd.DataFrame(likelihood_softmax, columns=likelihood_df.columns)\n",
    "# likelihood_softmax.shape"
   ]
  },
  {
   "cell_type": "code",
   "execution_count": 59,
   "metadata": {},
   "outputs": [
    {
     "data": {
      "text/html": [
       "<div>\n",
       "<style scoped>\n",
       "    .dataframe tbody tr th:only-of-type {\n",
       "        vertical-align: middle;\n",
       "    }\n",
       "\n",
       "    .dataframe tbody tr th {\n",
       "        vertical-align: top;\n",
       "    }\n",
       "\n",
       "    .dataframe thead th {\n",
       "        text-align: right;\n",
       "    }\n",
       "</style>\n",
       "<table border=\"1\" class=\"dataframe\">\n",
       "  <thead>\n",
       "    <tr style=\"text-align: right;\">\n",
       "      <th></th>\n",
       "      <th>B</th>\n",
       "      <th>CD4_T</th>\n",
       "      <th>CD8_T</th>\n",
       "      <th>DC</th>\n",
       "      <th>Mono</th>\n",
       "      <th>NK</th>\n",
       "      <th>other</th>\n",
       "      <th>other_T</th>\n",
       "    </tr>\n",
       "  </thead>\n",
       "  <tbody>\n",
       "    <tr>\n",
       "      <th>0</th>\n",
       "      <td>0.104472</td>\n",
       "      <td>0.104482</td>\n",
       "      <td>0.104508</td>\n",
       "      <td>0.104473</td>\n",
       "      <td>0.268419</td>\n",
       "      <td>0.104472</td>\n",
       "      <td>0.104696</td>\n",
       "      <td>0.104479</td>\n",
       "    </tr>\n",
       "    <tr>\n",
       "      <th>1</th>\n",
       "      <td>0.102775</td>\n",
       "      <td>0.278682</td>\n",
       "      <td>0.104126</td>\n",
       "      <td>0.102775</td>\n",
       "      <td>0.102775</td>\n",
       "      <td>0.102776</td>\n",
       "      <td>0.103190</td>\n",
       "      <td>0.102900</td>\n",
       "    </tr>\n",
       "    <tr>\n",
       "      <th>2</th>\n",
       "      <td>0.102695</td>\n",
       "      <td>0.103761</td>\n",
       "      <td>0.278839</td>\n",
       "      <td>0.102695</td>\n",
       "      <td>0.102695</td>\n",
       "      <td>0.102697</td>\n",
       "      <td>0.103035</td>\n",
       "      <td>0.103584</td>\n",
       "    </tr>\n",
       "    <tr>\n",
       "      <th>3</th>\n",
       "      <td>0.102691</td>\n",
       "      <td>0.102704</td>\n",
       "      <td>0.103758</td>\n",
       "      <td>0.102691</td>\n",
       "      <td>0.102691</td>\n",
       "      <td>0.279107</td>\n",
       "      <td>0.102796</td>\n",
       "      <td>0.103563</td>\n",
       "    </tr>\n",
       "    <tr>\n",
       "      <th>4</th>\n",
       "      <td>0.102918</td>\n",
       "      <td>0.103012</td>\n",
       "      <td>0.278274</td>\n",
       "      <td>0.102918</td>\n",
       "      <td>0.102918</td>\n",
       "      <td>0.102918</td>\n",
       "      <td>0.103543</td>\n",
       "      <td>0.103497</td>\n",
       "    </tr>\n",
       "    <tr>\n",
       "      <th>...</th>\n",
       "      <td>...</td>\n",
       "      <td>...</td>\n",
       "      <td>...</td>\n",
       "      <td>...</td>\n",
       "      <td>...</td>\n",
       "      <td>...</td>\n",
       "      <td>...</td>\n",
       "      <td>...</td>\n",
       "    </tr>\n",
       "    <tr>\n",
       "      <th>161759</th>\n",
       "      <td>0.102555</td>\n",
       "      <td>0.104413</td>\n",
       "      <td>0.274912</td>\n",
       "      <td>0.102554</td>\n",
       "      <td>0.102557</td>\n",
       "      <td>0.102554</td>\n",
       "      <td>0.102644</td>\n",
       "      <td>0.107811</td>\n",
       "    </tr>\n",
       "    <tr>\n",
       "      <th>161760</th>\n",
       "      <td>0.102927</td>\n",
       "      <td>0.102918</td>\n",
       "      <td>0.102950</td>\n",
       "      <td>0.102918</td>\n",
       "      <td>0.278969</td>\n",
       "      <td>0.102956</td>\n",
       "      <td>0.103443</td>\n",
       "      <td>0.102919</td>\n",
       "    </tr>\n",
       "    <tr>\n",
       "      <th>161761</th>\n",
       "      <td>0.279613</td>\n",
       "      <td>0.102885</td>\n",
       "      <td>0.102959</td>\n",
       "      <td>0.102864</td>\n",
       "      <td>0.102911</td>\n",
       "      <td>0.102864</td>\n",
       "      <td>0.103041</td>\n",
       "      <td>0.102864</td>\n",
       "    </tr>\n",
       "    <tr>\n",
       "      <th>161762</th>\n",
       "      <td>0.103463</td>\n",
       "      <td>0.103404</td>\n",
       "      <td>0.103408</td>\n",
       "      <td>0.104440</td>\n",
       "      <td>0.274063</td>\n",
       "      <td>0.103395</td>\n",
       "      <td>0.104432</td>\n",
       "      <td>0.103394</td>\n",
       "    </tr>\n",
       "    <tr>\n",
       "      <th>161763</th>\n",
       "      <td>0.104035</td>\n",
       "      <td>0.104051</td>\n",
       "      <td>0.104089</td>\n",
       "      <td>0.104109</td>\n",
       "      <td>0.271420</td>\n",
       "      <td>0.104038</td>\n",
       "      <td>0.104223</td>\n",
       "      <td>0.104035</td>\n",
       "    </tr>\n",
       "  </tbody>\n",
       "</table>\n",
       "<p>161764 rows × 8 columns</p>\n",
       "</div>"
      ],
      "text/plain": [
       "               B     CD4_T     CD8_T        DC      Mono        NK     other  \\\n",
       "0       0.104472  0.104482  0.104508  0.104473  0.268419  0.104472  0.104696   \n",
       "1       0.102775  0.278682  0.104126  0.102775  0.102775  0.102776  0.103190   \n",
       "2       0.102695  0.103761  0.278839  0.102695  0.102695  0.102697  0.103035   \n",
       "3       0.102691  0.102704  0.103758  0.102691  0.102691  0.279107  0.102796   \n",
       "4       0.102918  0.103012  0.278274  0.102918  0.102918  0.102918  0.103543   \n",
       "...          ...       ...       ...       ...       ...       ...       ...   \n",
       "161759  0.102555  0.104413  0.274912  0.102554  0.102557  0.102554  0.102644   \n",
       "161760  0.102927  0.102918  0.102950  0.102918  0.278969  0.102956  0.103443   \n",
       "161761  0.279613  0.102885  0.102959  0.102864  0.102911  0.102864  0.103041   \n",
       "161762  0.103463  0.103404  0.103408  0.104440  0.274063  0.103395  0.104432   \n",
       "161763  0.104035  0.104051  0.104089  0.104109  0.271420  0.104038  0.104223   \n",
       "\n",
       "         other_T  \n",
       "0       0.104479  \n",
       "1       0.102900  \n",
       "2       0.103584  \n",
       "3       0.103563  \n",
       "4       0.103497  \n",
       "...          ...  \n",
       "161759  0.107811  \n",
       "161760  0.102919  \n",
       "161761  0.102864  \n",
       "161762  0.103394  \n",
       "161763  0.104035  \n",
       "\n",
       "[161764 rows x 8 columns]"
      ]
     },
     "execution_count": 59,
     "metadata": {},
     "output_type": "execute_result"
    }
   ],
   "source": [
    "likelihood_softmax"
   ]
  },
  {
   "cell_type": "code",
   "execution_count": 60,
   "metadata": {},
   "outputs": [
    {
     "data": {
      "text/plain": [
       "0         1.0\n",
       "1         1.0\n",
       "2         1.0\n",
       "3         1.0\n",
       "4         1.0\n",
       "         ... \n",
       "161759    1.0\n",
       "161760    1.0\n",
       "161761    1.0\n",
       "161762    1.0\n",
       "161763    1.0\n",
       "Length: 161764, dtype: float64"
      ]
     },
     "execution_count": 60,
     "metadata": {},
     "output_type": "execute_result"
    }
   ],
   "source": [
    "likelihood_softmax.sum(axis=1)\n",
    "\n"
   ]
  },
  {
   "cell_type": "code",
   "execution_count": 36,
   "metadata": {},
   "outputs": [],
   "source": [
    "os.chdir(r\"C:\\Users\\evanlee\\Documents\\GitHub\\EvanPys\\Progress\\PBMC_Hao_GSE\\L1_by_lossdiff\\LR_likelihood\")\n",
    "\n",
    "likelihood_softmax.to_csv('L1_likelihood_softmax_df.csv', index=False)"
   ]
  },
  {
   "cell_type": "markdown",
   "metadata": {},
   "source": [
    "## (1st_type / 2nd_type) >= 1.5"
   ]
  },
  {
   "cell_type": "code",
   "execution_count": 37,
   "metadata": {},
   "outputs": [
    {
     "data": {
      "text/plain": [
       "(161764, 6)"
      ]
     },
     "execution_count": 37,
     "metadata": {},
     "output_type": "execute_result"
    }
   ],
   "source": [
    "largest_values = []\n",
    "second_largest_values = []\n",
    "largest_columns = []\n",
    "second_largest_columns = []\n",
    "odds_ratio_list = []\n",
    "assignments = []\n",
    "\n",
    "# for index, row in likelihood_softmax.iterrows():\n",
    "for index, row in likelihood_df.iterrows():\n",
    "    # find 1st and 2nd largest values and their corresponding columns\n",
    "    largest_value = row.max()\n",
    "    largest_column = row.idxmax()\n",
    "    second_largest_value = row.nlargest(2).iloc[-1]\n",
    "    second_largest_column = row.nlargest(2).index[-1]\n",
    "    \n",
    "    largest_values.append(largest_value)\n",
    "    second_largest_values.append(second_largest_value)\n",
    "    largest_columns.append(largest_column)\n",
    "    second_largest_columns.append(second_largest_column)\n",
    "\n",
    "    # calculate odds ratio\n",
    "    odds_ratio = largest_value / second_largest_value\n",
    "    if odds_ratio >= 1.5:\n",
    "        assign = largest_column\n",
    "    else:\n",
    "        assign = 'Uncertain'\n",
    "    odds_ratio_list.append(odds_ratio)\n",
    "    assignments.append(assign)\n",
    "\n",
    "result_df = pd.DataFrame({'Largest Value': largest_values, 'Largest Column': largest_columns,\n",
    "                          'Second Largest Value': second_largest_values, 'Second Largest Column': second_largest_columns, \n",
    "                          'Odds Ratio': odds_ratio_list, 'Assignment': assignments})\n",
    "result_df.shape\n"
   ]
  },
  {
   "cell_type": "code",
   "execution_count": 38,
   "metadata": {},
   "outputs": [
    {
     "data": {
      "text/html": [
       "<div>\n",
       "<style scoped>\n",
       "    .dataframe tbody tr th:only-of-type {\n",
       "        vertical-align: middle;\n",
       "    }\n",
       "\n",
       "    .dataframe tbody tr th {\n",
       "        vertical-align: top;\n",
       "    }\n",
       "\n",
       "    .dataframe thead th {\n",
       "        text-align: right;\n",
       "    }\n",
       "</style>\n",
       "<table border=\"1\" class=\"dataframe\">\n",
       "  <thead>\n",
       "    <tr style=\"text-align: right;\">\n",
       "      <th></th>\n",
       "      <th>Largest Value</th>\n",
       "      <th>Largest Column</th>\n",
       "      <th>Second Largest Value</th>\n",
       "      <th>Second Largest Column</th>\n",
       "      <th>Odds Ratio</th>\n",
       "      <th>Assignment</th>\n",
       "    </tr>\n",
       "  </thead>\n",
       "  <tbody>\n",
       "    <tr>\n",
       "      <th>0</th>\n",
       "      <td>0.268419</td>\n",
       "      <td>Mono</td>\n",
       "      <td>0.104696</td>\n",
       "      <td>other</td>\n",
       "      <td>2.563802</td>\n",
       "      <td>Mono</td>\n",
       "    </tr>\n",
       "    <tr>\n",
       "      <th>1</th>\n",
       "      <td>0.278682</td>\n",
       "      <td>CD4_T</td>\n",
       "      <td>0.104126</td>\n",
       "      <td>CD8_T</td>\n",
       "      <td>2.676397</td>\n",
       "      <td>CD4_T</td>\n",
       "    </tr>\n",
       "    <tr>\n",
       "      <th>2</th>\n",
       "      <td>0.278839</td>\n",
       "      <td>CD8_T</td>\n",
       "      <td>0.103761</td>\n",
       "      <td>CD4_T</td>\n",
       "      <td>2.687309</td>\n",
       "      <td>CD8_T</td>\n",
       "    </tr>\n",
       "    <tr>\n",
       "      <th>3</th>\n",
       "      <td>0.279107</td>\n",
       "      <td>NK</td>\n",
       "      <td>0.103758</td>\n",
       "      <td>CD8_T</td>\n",
       "      <td>2.689978</td>\n",
       "      <td>NK</td>\n",
       "    </tr>\n",
       "    <tr>\n",
       "      <th>4</th>\n",
       "      <td>0.278274</td>\n",
       "      <td>CD8_T</td>\n",
       "      <td>0.103543</td>\n",
       "      <td>other</td>\n",
       "      <td>2.687516</td>\n",
       "      <td>CD8_T</td>\n",
       "    </tr>\n",
       "    <tr>\n",
       "      <th>5</th>\n",
       "      <td>0.197526</td>\n",
       "      <td>CD8_T</td>\n",
       "      <td>0.115211</td>\n",
       "      <td>other_T</td>\n",
       "      <td>1.714464</td>\n",
       "      <td>CD8_T</td>\n",
       "    </tr>\n",
       "    <tr>\n",
       "      <th>6</th>\n",
       "      <td>0.276959</td>\n",
       "      <td>Mono</td>\n",
       "      <td>0.103424</td>\n",
       "      <td>other</td>\n",
       "      <td>2.677887</td>\n",
       "      <td>Mono</td>\n",
       "    </tr>\n",
       "    <tr>\n",
       "      <th>7</th>\n",
       "      <td>0.279251</td>\n",
       "      <td>B</td>\n",
       "      <td>0.103436</td>\n",
       "      <td>other</td>\n",
       "      <td>2.699742</td>\n",
       "      <td>B</td>\n",
       "    </tr>\n",
       "    <tr>\n",
       "      <th>8</th>\n",
       "      <td>0.279075</td>\n",
       "      <td>NK</td>\n",
       "      <td>0.104223</td>\n",
       "      <td>other_T</td>\n",
       "      <td>2.677664</td>\n",
       "      <td>NK</td>\n",
       "    </tr>\n",
       "    <tr>\n",
       "      <th>9</th>\n",
       "      <td>0.277877</td>\n",
       "      <td>CD8_T</td>\n",
       "      <td>0.107912</td>\n",
       "      <td>CD4_T</td>\n",
       "      <td>2.575044</td>\n",
       "      <td>CD8_T</td>\n",
       "    </tr>\n",
       "    <tr>\n",
       "      <th>10</th>\n",
       "      <td>0.265082</td>\n",
       "      <td>CD4_T</td>\n",
       "      <td>0.111071</td>\n",
       "      <td>CD8_T</td>\n",
       "      <td>2.386597</td>\n",
       "      <td>CD4_T</td>\n",
       "    </tr>\n",
       "    <tr>\n",
       "      <th>11</th>\n",
       "      <td>0.246705</td>\n",
       "      <td>CD4_T</td>\n",
       "      <td>0.108929</td>\n",
       "      <td>CD8_T</td>\n",
       "      <td>2.264815</td>\n",
       "      <td>CD4_T</td>\n",
       "    </tr>\n",
       "    <tr>\n",
       "      <th>12</th>\n",
       "      <td>0.199709</td>\n",
       "      <td>CD4_T</td>\n",
       "      <td>0.118333</td>\n",
       "      <td>CD8_T</td>\n",
       "      <td>1.687685</td>\n",
       "      <td>CD4_T</td>\n",
       "    </tr>\n",
       "    <tr>\n",
       "      <th>13</th>\n",
       "      <td>0.274263</td>\n",
       "      <td>B</td>\n",
       "      <td>0.119845</td>\n",
       "      <td>CD8_T</td>\n",
       "      <td>2.288488</td>\n",
       "      <td>B</td>\n",
       "    </tr>\n",
       "    <tr>\n",
       "      <th>14</th>\n",
       "      <td>0.259015</td>\n",
       "      <td>Mono</td>\n",
       "      <td>0.106179</td>\n",
       "      <td>other</td>\n",
       "      <td>2.439427</td>\n",
       "      <td>Mono</td>\n",
       "    </tr>\n",
       "    <tr>\n",
       "      <th>15</th>\n",
       "      <td>0.275142</td>\n",
       "      <td>CD4_T</td>\n",
       "      <td>0.108177</td>\n",
       "      <td>other_T</td>\n",
       "      <td>2.543439</td>\n",
       "      <td>CD4_T</td>\n",
       "    </tr>\n",
       "    <tr>\n",
       "      <th>16</th>\n",
       "      <td>0.273582</td>\n",
       "      <td>other_T</td>\n",
       "      <td>0.110800</td>\n",
       "      <td>CD8_T</td>\n",
       "      <td>2.469142</td>\n",
       "      <td>other_T</td>\n",
       "    </tr>\n",
       "    <tr>\n",
       "      <th>17</th>\n",
       "      <td>0.278830</td>\n",
       "      <td>NK</td>\n",
       "      <td>0.103075</td>\n",
       "      <td>CD8_T</td>\n",
       "      <td>2.705118</td>\n",
       "      <td>NK</td>\n",
       "    </tr>\n",
       "    <tr>\n",
       "      <th>18</th>\n",
       "      <td>0.233023</td>\n",
       "      <td>CD4_T</td>\n",
       "      <td>0.110619</td>\n",
       "      <td>CD8_T</td>\n",
       "      <td>2.106528</td>\n",
       "      <td>CD4_T</td>\n",
       "    </tr>\n",
       "    <tr>\n",
       "      <th>19</th>\n",
       "      <td>0.279502</td>\n",
       "      <td>NK</td>\n",
       "      <td>0.103043</td>\n",
       "      <td>other</td>\n",
       "      <td>2.712476</td>\n",
       "      <td>NK</td>\n",
       "    </tr>\n",
       "  </tbody>\n",
       "</table>\n",
       "</div>"
      ],
      "text/plain": [
       "    Largest Value Largest Column  Second Largest Value Second Largest Column  \\\n",
       "0        0.268419           Mono              0.104696                 other   \n",
       "1        0.278682          CD4_T              0.104126                 CD8_T   \n",
       "2        0.278839          CD8_T              0.103761                 CD4_T   \n",
       "3        0.279107             NK              0.103758                 CD8_T   \n",
       "4        0.278274          CD8_T              0.103543                 other   \n",
       "5        0.197526          CD8_T              0.115211               other_T   \n",
       "6        0.276959           Mono              0.103424                 other   \n",
       "7        0.279251              B              0.103436                 other   \n",
       "8        0.279075             NK              0.104223               other_T   \n",
       "9        0.277877          CD8_T              0.107912                 CD4_T   \n",
       "10       0.265082          CD4_T              0.111071                 CD8_T   \n",
       "11       0.246705          CD4_T              0.108929                 CD8_T   \n",
       "12       0.199709          CD4_T              0.118333                 CD8_T   \n",
       "13       0.274263              B              0.119845                 CD8_T   \n",
       "14       0.259015           Mono              0.106179                 other   \n",
       "15       0.275142          CD4_T              0.108177               other_T   \n",
       "16       0.273582        other_T              0.110800                 CD8_T   \n",
       "17       0.278830             NK              0.103075                 CD8_T   \n",
       "18       0.233023          CD4_T              0.110619                 CD8_T   \n",
       "19       0.279502             NK              0.103043                 other   \n",
       "\n",
       "    Odds Ratio Assignment  \n",
       "0     2.563802       Mono  \n",
       "1     2.676397      CD4_T  \n",
       "2     2.687309      CD8_T  \n",
       "3     2.689978         NK  \n",
       "4     2.687516      CD8_T  \n",
       "5     1.714464      CD8_T  \n",
       "6     2.677887       Mono  \n",
       "7     2.699742          B  \n",
       "8     2.677664         NK  \n",
       "9     2.575044      CD8_T  \n",
       "10    2.386597      CD4_T  \n",
       "11    2.264815      CD4_T  \n",
       "12    1.687685      CD4_T  \n",
       "13    2.288488          B  \n",
       "14    2.439427       Mono  \n",
       "15    2.543439      CD4_T  \n",
       "16    2.469142    other_T  \n",
       "17    2.705118         NK  \n",
       "18    2.106528      CD4_T  \n",
       "19    2.712476         NK  "
      ]
     },
     "execution_count": 38,
     "metadata": {},
     "output_type": "execute_result"
    }
   ],
   "source": [
    "result_df.head(20)"
   ]
  },
  {
   "cell_type": "code",
   "execution_count": 39,
   "metadata": {},
   "outputs": [
    {
     "data": {
      "text/plain": [
       "12915"
      ]
     },
     "execution_count": 39,
     "metadata": {},
     "output_type": "execute_result"
    }
   ],
   "source": [
    "sum(result_df['Assignment'] == 'Uncertain')"
   ]
  },
  {
   "cell_type": "code",
   "execution_count": 40,
   "metadata": {},
   "outputs": [
    {
     "data": {
      "text/plain": [
       "0.07983853020449544"
      ]
     },
     "execution_count": 40,
     "metadata": {},
     "output_type": "execute_result"
    }
   ],
   "source": [
    "12915/len(result_df)"
   ]
  },
  {
   "cell_type": "markdown",
   "metadata": {},
   "source": [
    "## Assign the celltype with the largest likelihood (no odds ratio)"
   ]
  },
  {
   "cell_type": "code",
   "execution_count": 5,
   "metadata": {},
   "outputs": [
    {
     "data": {
      "text/plain": [
       "(161764, 3)"
      ]
     },
     "execution_count": 5,
     "metadata": {},
     "output_type": "execute_result"
    }
   ],
   "source": [
    "largest_values = []\n",
    "largest_columns = []\n",
    "assignments = []\n",
    "for index, row in likelihood_df.iterrows():\n",
    "    # find largest value and their corresponding columns\n",
    "    largest_value = row.max()\n",
    "    largest_column = row.idxmax()\n",
    "    largest_values.append(largest_value)\n",
    "    largest_columns.append(largest_column)\n",
    "\n",
    "    assign = largest_column\n",
    "    assignments.append(assign)\n",
    "\n",
    "result_df = pd.DataFrame({'Largest Value': largest_values, 'Largest Column': largest_columns, 'Assignment': assignments})\n",
    "result_df.shape\n"
   ]
  },
  {
   "cell_type": "code",
   "execution_count": 6,
   "metadata": {},
   "outputs": [
    {
     "data": {
      "text/html": [
       "<div>\n",
       "<style scoped>\n",
       "    .dataframe tbody tr th:only-of-type {\n",
       "        vertical-align: middle;\n",
       "    }\n",
       "\n",
       "    .dataframe tbody tr th {\n",
       "        vertical-align: top;\n",
       "    }\n",
       "\n",
       "    .dataframe thead th {\n",
       "        text-align: right;\n",
       "    }\n",
       "</style>\n",
       "<table border=\"1\" class=\"dataframe\">\n",
       "  <thead>\n",
       "    <tr style=\"text-align: right;\">\n",
       "      <th></th>\n",
       "      <th>Largest Value</th>\n",
       "      <th>Largest Column</th>\n",
       "      <th>Assignment</th>\n",
       "    </tr>\n",
       "  </thead>\n",
       "  <tbody>\n",
       "    <tr>\n",
       "      <th>0</th>\n",
       "      <td>0.943634</td>\n",
       "      <td>Mono</td>\n",
       "      <td>Mono</td>\n",
       "    </tr>\n",
       "    <tr>\n",
       "      <th>1</th>\n",
       "      <td>0.997527</td>\n",
       "      <td>CD4_T</td>\n",
       "      <td>CD4_T</td>\n",
       "    </tr>\n",
       "    <tr>\n",
       "      <th>2</th>\n",
       "      <td>0.998874</td>\n",
       "      <td>CD8_T</td>\n",
       "      <td>CD8_T</td>\n",
       "    </tr>\n",
       "    <tr>\n",
       "      <th>3</th>\n",
       "      <td>0.999871</td>\n",
       "      <td>NK</td>\n",
       "      <td>NK</td>\n",
       "    </tr>\n",
       "    <tr>\n",
       "      <th>4</th>\n",
       "      <td>0.994669</td>\n",
       "      <td>CD8_T</td>\n",
       "      <td>CD8_T</td>\n",
       "    </tr>\n",
       "    <tr>\n",
       "      <th>5</th>\n",
       "      <td>0.546333</td>\n",
       "      <td>CD8_T</td>\n",
       "      <td>CD8_T</td>\n",
       "    </tr>\n",
       "    <tr>\n",
       "      <th>6</th>\n",
       "      <td>0.986612</td>\n",
       "      <td>Mono</td>\n",
       "      <td>Mono</td>\n",
       "    </tr>\n",
       "    <tr>\n",
       "      <th>7</th>\n",
       "      <td>0.998959</td>\n",
       "      <td>B</td>\n",
       "      <td>B</td>\n",
       "    </tr>\n",
       "    <tr>\n",
       "      <th>8</th>\n",
       "      <td>0.999251</td>\n",
       "      <td>NK</td>\n",
       "      <td>NK</td>\n",
       "    </tr>\n",
       "    <tr>\n",
       "      <th>9</th>\n",
       "      <td>0.998975</td>\n",
       "      <td>CD8_T</td>\n",
       "      <td>CD8_T</td>\n",
       "    </tr>\n",
       "    <tr>\n",
       "      <th>10</th>\n",
       "      <td>0.937174</td>\n",
       "      <td>CD4_T</td>\n",
       "      <td>CD4_T</td>\n",
       "    </tr>\n",
       "    <tr>\n",
       "      <th>11</th>\n",
       "      <td>0.831896</td>\n",
       "      <td>CD4_T</td>\n",
       "      <td>CD4_T</td>\n",
       "    </tr>\n",
       "    <tr>\n",
       "      <th>12</th>\n",
       "      <td>0.563848</td>\n",
       "      <td>CD4_T</td>\n",
       "      <td>CD4_T</td>\n",
       "    </tr>\n",
       "    <tr>\n",
       "      <th>13</th>\n",
       "      <td>0.999975</td>\n",
       "      <td>B</td>\n",
       "      <td>B</td>\n",
       "    </tr>\n",
       "    <tr>\n",
       "      <th>14</th>\n",
       "      <td>0.895347</td>\n",
       "      <td>Mono</td>\n",
       "      <td>Mono</td>\n",
       "    </tr>\n",
       "    <tr>\n",
       "      <th>15</th>\n",
       "      <td>0.997266</td>\n",
       "      <td>CD4_T</td>\n",
       "      <td>CD4_T</td>\n",
       "    </tr>\n",
       "    <tr>\n",
       "      <th>16</th>\n",
       "      <td>0.982404</td>\n",
       "      <td>other_T</td>\n",
       "      <td>other_T</td>\n",
       "    </tr>\n",
       "    <tr>\n",
       "      <th>17</th>\n",
       "      <td>0.995794</td>\n",
       "      <td>NK</td>\n",
       "      <td>NK</td>\n",
       "    </tr>\n",
       "    <tr>\n",
       "      <th>18</th>\n",
       "      <td>0.756859</td>\n",
       "      <td>CD4_T</td>\n",
       "      <td>CD4_T</td>\n",
       "    </tr>\n",
       "    <tr>\n",
       "      <th>19</th>\n",
       "      <td>0.999322</td>\n",
       "      <td>NK</td>\n",
       "      <td>NK</td>\n",
       "    </tr>\n",
       "  </tbody>\n",
       "</table>\n",
       "</div>"
      ],
      "text/plain": [
       "    Largest Value Largest Column Assignment\n",
       "0        0.943634           Mono       Mono\n",
       "1        0.997527          CD4_T      CD4_T\n",
       "2        0.998874          CD8_T      CD8_T\n",
       "3        0.999871             NK         NK\n",
       "4        0.994669          CD8_T      CD8_T\n",
       "5        0.546333          CD8_T      CD8_T\n",
       "6        0.986612           Mono       Mono\n",
       "7        0.998959              B          B\n",
       "8        0.999251             NK         NK\n",
       "9        0.998975          CD8_T      CD8_T\n",
       "10       0.937174          CD4_T      CD4_T\n",
       "11       0.831896          CD4_T      CD4_T\n",
       "12       0.563848          CD4_T      CD4_T\n",
       "13       0.999975              B          B\n",
       "14       0.895347           Mono       Mono\n",
       "15       0.997266          CD4_T      CD4_T\n",
       "16       0.982404        other_T    other_T\n",
       "17       0.995794             NK         NK\n",
       "18       0.756859          CD4_T      CD4_T\n",
       "19       0.999322             NK         NK"
      ]
     },
     "execution_count": 6,
     "metadata": {},
     "output_type": "execute_result"
    }
   ],
   "source": [
    "result_df.head(20)"
   ]
  },
  {
   "cell_type": "code",
   "execution_count": 13,
   "metadata": {},
   "outputs": [
    {
     "data": {
      "text/plain": [
       "0"
      ]
     },
     "execution_count": 13,
     "metadata": {},
     "output_type": "execute_result"
    }
   ],
   "source": [
    "# count 'uncertain'\n",
    "sum(result_df['Assignment'] == 'Uncertain')"
   ]
  },
  {
   "cell_type": "markdown",
   "metadata": {},
   "source": [
    "## Confusion heatmap"
   ]
  },
  {
   "cell_type": "code",
   "execution_count": 18,
   "metadata": {},
   "outputs": [],
   "source": [
    "import pandas as pd\n",
    "\n",
    "# Get the true labels\n",
    "true_labels = data.obs['celltype.l1'].tolist()\n",
    "\n",
    "# Get the predicted labels\n",
    "predicted_labels = result_df['Assignment'].tolist()\n",
    "\n",
    "# Create the confusion matrix\n",
    "cm = pd.crosstab(true_labels, predicted_labels, rownames=['True'], colnames=['Predicted'], margins=False)\n",
    "\n",
    "# reorder columns\n",
    "cm = cm.reindex(types + ['Uncertain'], axis=1)\n",
    "\n",
    "# replace NaN with 0\n",
    "cm = cm.fillna(0)\n",
    "cm = cm.astype(int)\n"
   ]
  },
  {
   "cell_type": "code",
   "execution_count": 19,
   "metadata": {},
   "outputs": [
    {
     "data": {
      "text/plain": [
       "(8, 9)"
      ]
     },
     "execution_count": 19,
     "metadata": {},
     "output_type": "execute_result"
    }
   ],
   "source": [
    "cm.shape"
   ]
  },
  {
   "cell_type": "code",
   "execution_count": 20,
   "metadata": {},
   "outputs": [
    {
     "data": {
      "text/html": [
       "<div>\n",
       "<style scoped>\n",
       "    .dataframe tbody tr th:only-of-type {\n",
       "        vertical-align: middle;\n",
       "    }\n",
       "\n",
       "    .dataframe tbody tr th {\n",
       "        vertical-align: top;\n",
       "    }\n",
       "\n",
       "    .dataframe thead th {\n",
       "        text-align: right;\n",
       "    }\n",
       "</style>\n",
       "<table border=\"1\" class=\"dataframe\">\n",
       "  <thead>\n",
       "    <tr style=\"text-align: right;\">\n",
       "      <th>Predicted</th>\n",
       "      <th>B</th>\n",
       "      <th>CD4_T</th>\n",
       "      <th>CD8_T</th>\n",
       "      <th>DC</th>\n",
       "      <th>Mono</th>\n",
       "      <th>NK</th>\n",
       "      <th>other</th>\n",
       "      <th>other_T</th>\n",
       "      <th>Uncertain</th>\n",
       "    </tr>\n",
       "    <tr>\n",
       "      <th>True</th>\n",
       "      <th></th>\n",
       "      <th></th>\n",
       "      <th></th>\n",
       "      <th></th>\n",
       "      <th></th>\n",
       "      <th></th>\n",
       "      <th></th>\n",
       "      <th></th>\n",
       "      <th></th>\n",
       "    </tr>\n",
       "  </thead>\n",
       "  <tbody>\n",
       "    <tr>\n",
       "      <th>B</th>\n",
       "      <td>13774</td>\n",
       "      <td>2</td>\n",
       "      <td>5</td>\n",
       "      <td>0</td>\n",
       "      <td>4</td>\n",
       "      <td>7</td>\n",
       "      <td>7</td>\n",
       "      <td>1</td>\n",
       "      <td>0</td>\n",
       "    </tr>\n",
       "    <tr>\n",
       "      <th>CD4_T</th>\n",
       "      <td>4</td>\n",
       "      <td>40397</td>\n",
       "      <td>362</td>\n",
       "      <td>0</td>\n",
       "      <td>4</td>\n",
       "      <td>10</td>\n",
       "      <td>9</td>\n",
       "      <td>215</td>\n",
       "      <td>0</td>\n",
       "    </tr>\n",
       "    <tr>\n",
       "      <th>CD8_T</th>\n",
       "      <td>2</td>\n",
       "      <td>1255</td>\n",
       "      <td>23718</td>\n",
       "      <td>1</td>\n",
       "      <td>2</td>\n",
       "      <td>122</td>\n",
       "      <td>2</td>\n",
       "      <td>367</td>\n",
       "      <td>0</td>\n",
       "    </tr>\n",
       "    <tr>\n",
       "      <th>DC</th>\n",
       "      <td>1</td>\n",
       "      <td>4</td>\n",
       "      <td>1</td>\n",
       "      <td>3336</td>\n",
       "      <td>242</td>\n",
       "      <td>1</td>\n",
       "      <td>4</td>\n",
       "      <td>0</td>\n",
       "      <td>0</td>\n",
       "    </tr>\n",
       "    <tr>\n",
       "      <th>Mono</th>\n",
       "      <td>5</td>\n",
       "      <td>26</td>\n",
       "      <td>17</td>\n",
       "      <td>63</td>\n",
       "      <td>48838</td>\n",
       "      <td>17</td>\n",
       "      <td>42</td>\n",
       "      <td>2</td>\n",
       "      <td>0</td>\n",
       "    </tr>\n",
       "    <tr>\n",
       "      <th>NK</th>\n",
       "      <td>0</td>\n",
       "      <td>16</td>\n",
       "      <td>72</td>\n",
       "      <td>0</td>\n",
       "      <td>4</td>\n",
       "      <td>18518</td>\n",
       "      <td>4</td>\n",
       "      <td>50</td>\n",
       "      <td>0</td>\n",
       "    </tr>\n",
       "    <tr>\n",
       "      <th>other</th>\n",
       "      <td>15</td>\n",
       "      <td>164</td>\n",
       "      <td>37</td>\n",
       "      <td>5</td>\n",
       "      <td>623</td>\n",
       "      <td>37</td>\n",
       "      <td>2531</td>\n",
       "      <td>30</td>\n",
       "      <td>0</td>\n",
       "    </tr>\n",
       "    <tr>\n",
       "      <th>other_T</th>\n",
       "      <td>1</td>\n",
       "      <td>433</td>\n",
       "      <td>800</td>\n",
       "      <td>0</td>\n",
       "      <td>1</td>\n",
       "      <td>317</td>\n",
       "      <td>4</td>\n",
       "      <td>5233</td>\n",
       "      <td>0</td>\n",
       "    </tr>\n",
       "  </tbody>\n",
       "</table>\n",
       "</div>"
      ],
      "text/plain": [
       "Predicted      B  CD4_T  CD8_T    DC   Mono     NK  other  other_T  Uncertain\n",
       "True                                                                         \n",
       "B          13774      2      5     0      4      7      7        1          0\n",
       "CD4_T          4  40397    362     0      4     10      9      215          0\n",
       "CD8_T          2   1255  23718     1      2    122      2      367          0\n",
       "DC             1      4      1  3336    242      1      4        0          0\n",
       "Mono           5     26     17    63  48838     17     42        2          0\n",
       "NK             0     16     72     0      4  18518      4       50          0\n",
       "other         15    164     37     5    623     37   2531       30          0\n",
       "other_T        1    433    800     0      1    317      4     5233          0"
      ]
     },
     "execution_count": 20,
     "metadata": {},
     "output_type": "execute_result"
    }
   ],
   "source": [
    "cm"
   ]
  },
  {
   "cell_type": "code",
   "execution_count": 3,
   "metadata": {
    "tags": []
   },
   "outputs": [
    {
     "data": {
      "text/html": [
       "<div>\n",
       "<style scoped>\n",
       "    .dataframe tbody tr th:only-of-type {\n",
       "        vertical-align: middle;\n",
       "    }\n",
       "\n",
       "    .dataframe tbody tr th {\n",
       "        vertical-align: top;\n",
       "    }\n",
       "\n",
       "    .dataframe thead th {\n",
       "        text-align: right;\n",
       "    }\n",
       "</style>\n",
       "<table border=\"1\" class=\"dataframe\">\n",
       "  <thead>\n",
       "    <tr style=\"text-align: right;\">\n",
       "      <th></th>\n",
       "      <th>B</th>\n",
       "      <th>CD4_T</th>\n",
       "      <th>CD8_T</th>\n",
       "      <th>DC</th>\n",
       "      <th>Mono</th>\n",
       "      <th>NK</th>\n",
       "      <th>other</th>\n",
       "      <th>other_T</th>\n",
       "      <th>Uncertain</th>\n",
       "    </tr>\n",
       "    <tr>\n",
       "      <th>True</th>\n",
       "      <th></th>\n",
       "      <th></th>\n",
       "      <th></th>\n",
       "      <th></th>\n",
       "      <th></th>\n",
       "      <th></th>\n",
       "      <th></th>\n",
       "      <th></th>\n",
       "      <th></th>\n",
       "    </tr>\n",
       "  </thead>\n",
       "  <tbody>\n",
       "    <tr>\n",
       "      <th>B</th>\n",
       "      <td>13704</td>\n",
       "      <td>2</td>\n",
       "      <td>2</td>\n",
       "      <td>0</td>\n",
       "      <td>3</td>\n",
       "      <td>2</td>\n",
       "      <td>5</td>\n",
       "      <td>0</td>\n",
       "      <td>82</td>\n",
       "    </tr>\n",
       "    <tr>\n",
       "      <th>CD4_T</th>\n",
       "      <td>1</td>\n",
       "      <td>39892</td>\n",
       "      <td>236</td>\n",
       "      <td>0</td>\n",
       "      <td>2</td>\n",
       "      <td>8</td>\n",
       "      <td>5</td>\n",
       "      <td>139</td>\n",
       "      <td>718</td>\n",
       "    </tr>\n",
       "    <tr>\n",
       "      <th>CD8_T</th>\n",
       "      <td>1</td>\n",
       "      <td>836</td>\n",
       "      <td>22238</td>\n",
       "      <td>0</td>\n",
       "      <td>2</td>\n",
       "      <td>68</td>\n",
       "      <td>0</td>\n",
       "      <td>262</td>\n",
       "      <td>2062</td>\n",
       "    </tr>\n",
       "    <tr>\n",
       "      <th>DC</th>\n",
       "      <td>0</td>\n",
       "      <td>2</td>\n",
       "      <td>1</td>\n",
       "      <td>3090</td>\n",
       "      <td>140</td>\n",
       "      <td>0</td>\n",
       "      <td>4</td>\n",
       "      <td>0</td>\n",
       "      <td>352</td>\n",
       "    </tr>\n",
       "    <tr>\n",
       "      <th>Mono</th>\n",
       "      <td>1</td>\n",
       "      <td>22</td>\n",
       "      <td>9</td>\n",
       "      <td>24</td>\n",
       "      <td>48679</td>\n",
       "      <td>5</td>\n",
       "      <td>31</td>\n",
       "      <td>1</td>\n",
       "      <td>238</td>\n",
       "    </tr>\n",
       "    <tr>\n",
       "      <th>NK</th>\n",
       "      <td>0</td>\n",
       "      <td>15</td>\n",
       "      <td>46</td>\n",
       "      <td>0</td>\n",
       "      <td>3</td>\n",
       "      <td>18312</td>\n",
       "      <td>2</td>\n",
       "      <td>32</td>\n",
       "      <td>254</td>\n",
       "    </tr>\n",
       "    <tr>\n",
       "      <th>other</th>\n",
       "      <td>9</td>\n",
       "      <td>140</td>\n",
       "      <td>28</td>\n",
       "      <td>1</td>\n",
       "      <td>535</td>\n",
       "      <td>23</td>\n",
       "      <td>2483</td>\n",
       "      <td>20</td>\n",
       "      <td>203</td>\n",
       "    </tr>\n",
       "    <tr>\n",
       "      <th>other_T</th>\n",
       "      <td>0</td>\n",
       "      <td>317</td>\n",
       "      <td>436</td>\n",
       "      <td>0</td>\n",
       "      <td>0</td>\n",
       "      <td>174</td>\n",
       "      <td>2</td>\n",
       "      <td>4653</td>\n",
       "      <td>1207</td>\n",
       "    </tr>\n",
       "  </tbody>\n",
       "</table>\n",
       "</div>"
      ],
      "text/plain": [
       "             B  CD4_T  CD8_T    DC   Mono     NK  other  other_T  Uncertain\n",
       "True                                                                       \n",
       "B        13704      2      2     0      3      2      5        0         82\n",
       "CD4_T        1  39892    236     0      2      8      5      139        718\n",
       "CD8_T        1    836  22238     0      2     68      0      262       2062\n",
       "DC           0      2      1  3090    140      0      4        0        352\n",
       "Mono         1     22      9    24  48679      5     31        1        238\n",
       "NK           0     15     46     0      3  18312      2       32        254\n",
       "other        9    140     28     1    535     23   2483       20        203\n",
       "other_T      0    317    436     0      0    174      2     4653       1207"
      ]
     },
     "execution_count": 3,
     "metadata": {},
     "output_type": "execute_result"
    }
   ],
   "source": [
    "# cm = pd.read_csv('L1_LR_confusion_matrix.csv', index_col=0)\n",
    "# cm"
   ]
  },
  {
   "cell_type": "code",
   "execution_count": 51,
   "metadata": {},
   "outputs": [],
   "source": [
    "# export confusion matrix\n",
    "# cm.to_csv('L1_LR_confusion_matrix.csv')"
   ]
  },
  {
   "cell_type": "code",
   "execution_count": 21,
   "metadata": {
    "tags": []
   },
   "outputs": [
    {
     "data": {
      "image/png": "[encoded data removed]",
      "text/plain": [
       "<Figure size 1000x700 with 2 Axes>"
      ]
     },
     "metadata": {},
     "output_type": "display_data"
    }
   ],
   "source": [
    "import seaborn as sns\n",
    "import matplotlib.pyplot as plt\n",
    "\n",
    "plt.figure(figsize=(10, 7))\n",
    "sns.heatmap(cm, annot=True, fmt='d', cmap='Blues')\n",
    "plt.title('LR Prediction Confusion Matrix')\n",
    "plt.xlabel('Predicted')\n",
    "plt.ylabel('True')\n",
    "plt.show()\n"
   ]
  },
  {
   "cell_type": "code",
   "execution_count": 22,
   "metadata": {
    "tags": []
   },
   "outputs": [
    {
     "data": {
      "text/plain": [
       "True\n",
       "B          13800\n",
       "CD4_T      41001\n",
       "CD8_T      25469\n",
       "DC          3589\n",
       "Mono       49010\n",
       "NK         18664\n",
       "other       3442\n",
       "other_T     6789\n",
       "dtype: int64"
      ]
     },
     "execution_count": 22,
     "metadata": {},
     "output_type": "execute_result"
    }
   ],
   "source": [
    "row_sum = cm.sum(axis=1)\n",
    "row_sum\n"
   ]
  },
  {
   "cell_type": "code",
   "execution_count": 23,
   "metadata": {
    "tags": []
   },
   "outputs": [
    {
     "data": {
      "image/png": "[encoded data removed]",
      "text/plain": [
       "<Figure size 1000x700 with 2 Axes>"
      ]
     },
     "metadata": {},
     "output_type": "display_data"
    }
   ],
   "source": [
    "cm_proportion = cm.div(row_sum, axis=0)\n",
    "cm_proportion *= 100\n",
    "plt.figure(figsize=(10, 7))\n",
    "sns.heatmap(cm_proportion, fmt=\".2f\", annot=True, cmap='Blues')\n",
    "plt.title('LR Prediction Confusion Matrix (Proportion %)')\n",
    "plt.show()"
   ]
  },
  {
   "cell_type": "markdown",
   "metadata": {},
   "source": [
    "## Calculate accuracy"
   ]
  },
  {
   "cell_type": "code",
   "execution_count": 24,
   "metadata": {},
   "outputs": [
    {
     "data": {
      "text/plain": [
       "0.9665005810934447"
      ]
     },
     "execution_count": 24,
     "metadata": {},
     "output_type": "execute_result"
    }
   ],
   "source": [
    "accuracy = sum(np.diag(cm)) / cm.values.sum()\n",
    "accuracy"
   ]
  },
  {
   "cell_type": "code",
   "execution_count": 25,
   "metadata": {},
   "outputs": [
    {
     "data": {
      "text/plain": [
       "161764"
      ]
     },
     "execution_count": 25,
     "metadata": {},
     "output_type": "execute_result"
    }
   ],
   "source": [
    "cm.values.sum()"
   ]
  }
 ],
 "metadata": {
  "kernelspec": {
   "display_name": "Python 3 (ipykernel)",
   "language": "python",
   "name": "python3"
  },
  "language_info": {
   "codemirror_mode": {
    "name": "ipython",
    "version": 3
   },
   "file_extension": ".py",
   "mimetype": "text/x-python",
   "name": "python",
   "nbconvert_exporter": "python",
   "pygments_lexer": "ipython3",
   "version": "3.9.12"
  }
 },
 "nbformat": 4,
 "nbformat_minor": 4
}

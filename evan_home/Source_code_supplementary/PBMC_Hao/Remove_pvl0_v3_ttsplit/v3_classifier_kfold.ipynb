{
 "cells": [
  {
   "cell_type": "code",
   "execution_count": 1,
   "metadata": {},
   "outputs": [],
   "source": [
    "# import os\n",
    "# os.chdir('/Users/evanli/Documents/EvanPys/Progress/')\n",
    "\n",
    "# from ADlasso2 import AD2_w_utils as ad\n",
    "import numpy as np\n",
    "import matplotlib.pyplot as plt\n",
    "import pandas as pd\n",
    "import time\n",
    "import scipy\n",
    "import sklearn\n",
    "import copy\n",
    "import importlib\n"
   ]
  },
  {
   "cell_type": "code",
   "execution_count": 2,
   "metadata": {},
   "outputs": [],
   "source": [
    "from sklearn.linear_model import LogisticRegression\n",
    "from sklearn.model_selection import train_test_split\n",
    "\n",
    "from sklearn.metrics import accuracy_score\n",
    "from sklearn.metrics import precision_score\n",
    "from sklearn.metrics import f1_score\n",
    "from sklearn.metrics import roc_curve, auc\n"
   ]
  },
  {
   "cell_type": "code",
   "execution_count": 3,
   "metadata": {},
   "outputs": [
    {
     "data": {
      "text/plain": [
       "(161764, 20568)"
      ]
     },
     "execution_count": 3,
     "metadata": {},
     "output_type": "execute_result"
    }
   ],
   "source": [
    "import scanpy as sc\n",
    "import scvelo as scv\n",
    "\n",
    "# data = sc.read('/home/evanlee/PBMC_Hao/Hao_PBMC_level1_rep_cells.h5ad')\n",
    "data = sc.read('/Users/evanli/Documents/Research_datasets/PBMC_Hao/Hao_PBMC.h5ad')\n",
    "data.shape"
   ]
  },
  {
   "cell_type": "code",
   "execution_count": 4,
   "metadata": {},
   "outputs": [
    {
     "data": {
      "text/plain": [
       "(161764, 20568)"
      ]
     },
     "execution_count": 4,
     "metadata": {},
     "output_type": "execute_result"
    }
   ],
   "source": [
    "data.shape"
   ]
  },
  {
   "cell_type": "code",
   "execution_count": 5,
   "metadata": {},
   "outputs": [],
   "source": [
    "# CPM\n",
    "sc.pp.normalize_total(data, target_sum=1e6)\n",
    "\n",
    "# log1p\n",
    "sc.pp.log1p(data)"
   ]
  },
  {
   "cell_type": "code",
   "execution_count": 6,
   "metadata": {},
   "outputs": [
    {
     "data": {
      "text/plain": [
       "['B', 'CD4_T', 'CD8_T', 'DC', 'Mono', 'NK', 'other', 'other_T']"
      ]
     },
     "execution_count": 6,
     "metadata": {},
     "output_type": "execute_result"
    }
   ],
   "source": [
    "data.obs['celltype.l1'] = data.obs['celltype.l1'].str.replace(' ', '_')\n",
    "\n",
    "label = data.obs['celltype.l1'].tolist()\n",
    "types = np.unique(label).tolist()\n",
    "# types = [s.replace(' ', '_') for s in types]\n",
    "types"
   ]
  },
  {
   "cell_type": "code",
   "execution_count": 7,
   "metadata": {},
   "outputs": [
    {
     "name": "stdout",
     "output_type": "stream",
     "text": [
      "B Feature count: 17\n",
      "B Positive feature count: 9\n",
      "------------------\n",
      "CD4_T Feature count: 1786\n",
      "CD4_T Positive feature count: 36\n",
      "------------------\n",
      "CD8_T Feature count: 26\n",
      "CD8_T Positive feature count: 9\n",
      "------------------\n",
      "DC Feature count: 19\n",
      "DC Positive feature count: 10\n",
      "------------------\n",
      "Mono Feature count: 18\n",
      "Mono Positive feature count: 11\n",
      "------------------\n",
      "NK Feature count: 28\n",
      "NK Positive feature count: 15\n",
      "------------------\n",
      "other Feature count: 5\n",
      "other Positive feature count: 4\n",
      "------------------\n",
      "other_T Feature count: 76\n",
      "other_T Positive feature count: 28\n",
      "------------------\n"
     ]
    }
   ],
   "source": [
    "import os\n",
    "os.chdir('/Users/evanli/Documents/EvanPys/Progress/PBMC_Hao/Remove_pvl0_v3_ttsplit/lambda_decision_ignore_section/v3_feature_selection')\n",
    "\n",
    "features_dict = {}\n",
    "# Read features for each celltype\n",
    "for celltype in types:\n",
    "    try:\n",
    "        feature_df = pd.read_csv(f'{celltype}_features.txt', names=['Gene', 'Weight', 'Tendency'], sep='\\t')\n",
    "        features_dict[celltype] = feature_df\n",
    "    except:\n",
    "        print('skipping:', celltype)\n",
    "        continue\n",
    "    print(celltype, 'Feature count:', feature_df.shape[0])\n",
    "    print(celltype, 'Positive feature count:', feature_df[feature_df['Tendency'] == 1].shape[0])\n",
    "    print('------------------')"
   ]
  },
  {
   "cell_type": "markdown",
   "metadata": {},
   "source": [
    "### B cells: k-fold CV"
   ]
  },
  {
   "cell_type": "code",
   "execution_count": 24,
   "metadata": {},
   "outputs": [],
   "source": [
    "celltype = 'B'\n",
    "\n",
    "# subset data to celltype features\n",
    "X = data[:, features_dict[celltype]['Gene'].tolist()].X  # 17 features for B cells\n",
    "# Binary label\n",
    "y = [1 if i==celltype else 0 for i in data.obs['celltype.l1'].tolist()]"
   ]
  },
  {
   "cell_type": "code",
   "execution_count": 25,
   "metadata": {},
   "outputs": [
    {
     "name": "stdout",
     "output_type": "stream",
     "text": [
      "(129411, 17)\n",
      "(32353, 17)\n",
      "129411\n",
      "32353\n"
     ]
    }
   ],
   "source": [
    "X_train, X_test, y_train, y_test = train_test_split(X, y, test_size=0.2, random_state=0, stratify=y)\n",
    "\n",
    "print(X_train.shape)\n",
    "print(X_test.shape)\n",
    "print(len(y_train))\n",
    "print(len(y_test))"
   ]
  },
  {
   "cell_type": "code",
   "execution_count": 10,
   "metadata": {},
   "outputs": [],
   "source": [
    "from sklearn.linear_model import LogisticRegression\n",
    "from sklearn.model_selection import cross_val_score, cross_validate, KFold\n",
    "\n",
    "clf = LogisticRegression(penalty='l2', solver='lbfgs', C=1.0)\n",
    "clf.fit(X_train, y_train)\n",
    "\n",
    "# Kfold cross validation\n",
    "scoring = {\n",
    "    'accuracy': 'accuracy',\n",
    "    'precision': 'precision',\n",
    "    'f1_score': 'f1',\n",
    "    'roc_auc': 'roc_auc'\n",
    "}\n",
    "\n",
    "cv_results = cross_validate(clf, X, y, cv=5, scoring=scoring)"
   ]
  },
  {
   "cell_type": "code",
   "execution_count": 11,
   "metadata": {},
   "outputs": [
    {
     "data": {
      "text/plain": [
       "{'fit_time': array([0.54071522, 0.53153896, 0.45986104, 0.46070814, 0.44732213]),\n",
       " 'score_time': array([0.04089499, 0.03820014, 0.03923988, 0.038378  , 0.03817487]),\n",
       " 'test_accuracy': array([0.99882546, 0.99876364, 0.99925818, 0.99932   , 0.99941271]),\n",
       " 'test_precision': array([0.99454942, 0.99382716, 0.99457701, 0.99637418, 0.99782056]),\n",
       " 'test_f1_score': array([0.99310595, 0.99274574, 0.99565689, 0.99601305, 0.9965536 ]),\n",
       " 'test_roc_auc': array([0.99975027, 0.99971922, 0.99994445, 0.9999373 , 0.99997354])}"
      ]
     },
     "execution_count": 11,
     "metadata": {},
     "output_type": "execute_result"
    }
   ],
   "source": [
    "cv_results"
   ]
  },
  {
   "cell_type": "code",
   "execution_count": 13,
   "metadata": {},
   "outputs": [
    {
     "name": "stdout",
     "output_type": "stream",
     "text": [
      "Accuracy:  0.9991159979767575\n",
      "Precision:  0.995429665837454\n",
      "F1 Score:  0.9948150464480563\n",
      "ROC AUC:  0.9998649576035007\n"
     ]
    }
   ],
   "source": [
    "print(\"Accuracy: \", np.mean(cv_results['test_accuracy']))\n",
    "print(\"Precision: \", np.mean(cv_results['test_precision']))\n",
    "print(\"F1 Score: \", np.mean(cv_results['test_f1_score']))\n",
    "print(\"ROC AUC: \", np.mean(cv_results['test_roc_auc']))"
   ]
  },
  {
   "cell_type": "code",
   "execution_count": 36,
   "metadata": {},
   "outputs": [
    {
     "name": "stdout",
     "output_type": "stream",
     "text": [
      "Accuracy:  0.9991407238669691\n",
      "Precision:  0.9958739829063852\n",
      "F1 Score:  0.9949598453197387\n",
      "ROC AUC:  0.9998703892299222\n"
     ]
    }
   ],
   "source": [
    "# Use KFold()\n",
    "clf = LogisticRegression(penalty='l2', solver='lbfgs', C=1.0)\n",
    "clf.fit(X_train, y_train)\n",
    "\n",
    "k = 5\n",
    "kf = KFold(n_splits=k, shuffle=True, random_state=0)\n",
    "\n",
    "# Perform k-fold cross-validation with multiple metrics\n",
    "cross_val_results = cross_validate(clf, X, y, cv=kf, scoring=scoring)\n",
    "\n",
    "print(\"Accuracy: \", np.mean(cross_val_results['test_accuracy']))\n",
    "print(\"Precision: \", np.mean(cross_val_results['test_precision']))\n",
    "print(\"F1 Score: \", np.mean(cross_val_results['test_f1_score']))\n",
    "print(\"ROC AUC: \", np.mean(cross_val_results['test_roc_auc']))"
   ]
  },
  {
   "cell_type": "code",
   "execution_count": 37,
   "metadata": {},
   "outputs": [
    {
     "name": "stdout",
     "output_type": "stream",
     "text": [
      "Accuracy:  0.9991407227204915\n",
      "Precision:  0.9959340996740178\n",
      "F1 Score:  0.9949581993950355\n",
      "ROC AUC:  0.9998688063863558\n"
     ]
    }
   ],
   "source": [
    "from sklearn.model_selection import StratifiedKFold\n",
    "# Use StratifiedKFold()\n",
    "clf = LogisticRegression(penalty='l2', solver='lbfgs', C=1.0)\n",
    "clf.fit(X_train, y_train)\n",
    "\n",
    "k = 5\n",
    "skf = StratifiedKFold(n_splits=k, shuffle=True, random_state=0)\n",
    "\n",
    "# Perform k-fold cross-validation with multiple metrics\n",
    "cross_val_results = cross_validate(clf, X, y, cv=skf, scoring=scoring)\n",
    "\n",
    "print(\"Accuracy: \", np.mean(cross_val_results['test_accuracy']))\n",
    "print(\"Precision: \", np.mean(cross_val_results['test_precision']))\n",
    "print(\"F1 Score: \", np.mean(cross_val_results['test_f1_score']))\n",
    "print(\"ROC AUC: \", np.mean(cross_val_results['test_roc_auc']))"
   ]
  },
  {
   "cell_type": "markdown",
   "metadata": {},
   "source": [
    "## K-fold CV for all celltypes (all features)"
   ]
  },
  {
   "cell_type": "code",
   "execution_count": 14,
   "metadata": {},
   "outputs": [],
   "source": [
    "def LR_kfold(data, all_features_dict, celltype, k=5):\n",
    "    # subset data to celltype features\n",
    "    X = data[:, features_dict[celltype]['Gene'].tolist()].X\n",
    "    # Binary label\n",
    "    y = [1 if i==celltype else 0 for i in data.obs['celltype.l1'].tolist()]\n",
    "\n",
    "    X_train, X_test, y_train, y_test = train_test_split(X, y, test_size=0.2, random_state=0, stratify=y)\n",
    "\n",
    "    clf = LogisticRegression(penalty='l2', solver='lbfgs', C=1.0)\n",
    "    clf.fit(X_train, y_train)\n",
    "\n",
    "    # Kfold cross validation\n",
    "    scoring = {\n",
    "        'accuracy': 'accuracy',\n",
    "        'precision': 'precision',\n",
    "        'f1_score': 'f1',\n",
    "        'roc_auc': 'roc_auc'\n",
    "    }\n",
    "    cv_results = cross_validate(clf, X, y, cv=5, scoring=scoring)\n",
    "\n",
    "    mean_accuracy = np.mean(cv_results['test_accuracy'])\n",
    "    mean_precision = np.mean(cv_results['test_precision'])\n",
    "    mean_f1 = np.mean(cv_results['test_f1_score'])\n",
    "    mean_auc = np.mean(cv_results['test_roc_auc'])\n",
    "    mean_metrics = [mean_accuracy, mean_precision, mean_f1, mean_auc]\n",
    "\n",
    "    return mean_metrics"
   ]
  },
  {
   "cell_type": "code",
   "execution_count": 15,
   "metadata": {},
   "outputs": [
    {
     "data": {
      "text/plain": [
       "['B', 'CD4_T', 'CD8_T', 'DC', 'Mono', 'NK', 'other', 'other_T']"
      ]
     },
     "execution_count": 15,
     "metadata": {},
     "output_type": "execute_result"
    }
   ],
   "source": [
    "types"
   ]
  },
  {
   "cell_type": "code",
   "execution_count": 19,
   "metadata": {},
   "outputs": [
    {
     "name": "stdout",
     "output_type": "stream",
     "text": [
      "====================\n",
      "K-fold CV for: B\n",
      "[0.9991159979767575, 0.995429665837454, 0.9948150464480563, 0.9998649576035007]\n",
      "====================\n",
      "K-fold CV for: CD4_T\n",
      "[0.9600962365101248, 0.9223411506967206, 0.9218422640724426, 0.9918969459337325]\n",
      "====================\n",
      "K-fold CV for: CD8_T\n",
      "[0.9709453453363113, 0.9204581377681059, 0.906245404916155, 0.9899107717934228]\n",
      "====================\n",
      "K-fold CV for: DC\n",
      "[0.9966679859948137, 0.9311382304175353, 0.9243836854219708, 0.9985043247574723]\n",
      "====================\n",
      "K-fold CV for: Mono\n",
      "[0.9894043162143445, 0.9735691316568916, 0.9826792304762508, 0.9976218842933884]\n",
      "====================\n",
      "K-fold CV for: NK\n",
      "[0.9919944998198196, 0.9661188794170608, 0.9653304879140837, 0.9987098660623005]\n",
      "====================\n",
      "K-fold CV for: other\n",
      "[0.9897875991362959, 0.7961741180917278, 0.7348319869543268, 0.8915122382760341]\n",
      "====================\n",
      "K-fold CV for: other_T\n",
      "[0.9810340836921885, 0.8379646368272999, 0.7504139737632867, 0.9810332167478627]\n"
     ]
    }
   ],
   "source": [
    "os.chdir('/Users/evanli/Documents/EvanPys/Progress/PBMC_Hao/Remove_pvl0_v3_ttsplit/lambda_decision_ignore_section/classifiers/Kfold')\n",
    "\n",
    "all_metrics = pd.DataFrame(columns=['Accuracy', 'Precision', 'F1-score', 'ROC-AUC'])\n",
    "for celltype in types:\n",
    "    print('====================')\n",
    "    print('K-fold CV for:', celltype)\n",
    "    metrics = LR_kfold(data, features_dict, celltype, k=5)  # metrics is a list\n",
    "    print(metrics)\n",
    "    all_metrics = pd.concat([all_metrics, pd.DataFrame([metrics], columns=['Accuracy', 'Precision', 'F1-score', 'ROC-AUC'])], axis=0)\n"
   ]
  },
  {
   "cell_type": "code",
   "execution_count": 21,
   "metadata": {},
   "outputs": [
    {
     "data": {
      "text/html": [
       "<div>\n",
       "<style scoped>\n",
       "    .dataframe tbody tr th:only-of-type {\n",
       "        vertical-align: middle;\n",
       "    }\n",
       "\n",
       "    .dataframe tbody tr th {\n",
       "        vertical-align: top;\n",
       "    }\n",
       "\n",
       "    .dataframe thead th {\n",
       "        text-align: right;\n",
       "    }\n",
       "</style>\n",
       "<table border=\"1\" class=\"dataframe\">\n",
       "  <thead>\n",
       "    <tr style=\"text-align: right;\">\n",
       "      <th></th>\n",
       "      <th>Accuracy</th>\n",
       "      <th>Precision</th>\n",
       "      <th>F1-score</th>\n",
       "      <th>ROC-AUC</th>\n",
       "    </tr>\n",
       "  </thead>\n",
       "  <tbody>\n",
       "    <tr>\n",
       "      <th>B</th>\n",
       "      <td>0.999116</td>\n",
       "      <td>0.995430</td>\n",
       "      <td>0.994815</td>\n",
       "      <td>0.999865</td>\n",
       "    </tr>\n",
       "    <tr>\n",
       "      <th>CD4_T</th>\n",
       "      <td>0.960096</td>\n",
       "      <td>0.922341</td>\n",
       "      <td>0.921842</td>\n",
       "      <td>0.991897</td>\n",
       "    </tr>\n",
       "    <tr>\n",
       "      <th>CD8_T</th>\n",
       "      <td>0.970945</td>\n",
       "      <td>0.920458</td>\n",
       "      <td>0.906245</td>\n",
       "      <td>0.989911</td>\n",
       "    </tr>\n",
       "    <tr>\n",
       "      <th>DC</th>\n",
       "      <td>0.996668</td>\n",
       "      <td>0.931138</td>\n",
       "      <td>0.924384</td>\n",
       "      <td>0.998504</td>\n",
       "    </tr>\n",
       "    <tr>\n",
       "      <th>Mono</th>\n",
       "      <td>0.989404</td>\n",
       "      <td>0.973569</td>\n",
       "      <td>0.982679</td>\n",
       "      <td>0.997622</td>\n",
       "    </tr>\n",
       "    <tr>\n",
       "      <th>NK</th>\n",
       "      <td>0.991994</td>\n",
       "      <td>0.966119</td>\n",
       "      <td>0.965330</td>\n",
       "      <td>0.998710</td>\n",
       "    </tr>\n",
       "    <tr>\n",
       "      <th>other</th>\n",
       "      <td>0.989788</td>\n",
       "      <td>0.796174</td>\n",
       "      <td>0.734832</td>\n",
       "      <td>0.891512</td>\n",
       "    </tr>\n",
       "    <tr>\n",
       "      <th>other_T</th>\n",
       "      <td>0.981034</td>\n",
       "      <td>0.837965</td>\n",
       "      <td>0.750414</td>\n",
       "      <td>0.981033</td>\n",
       "    </tr>\n",
       "  </tbody>\n",
       "</table>\n",
       "</div>"
      ],
      "text/plain": [
       "         Accuracy  Precision  F1-score   ROC-AUC\n",
       "B        0.999116   0.995430  0.994815  0.999865\n",
       "CD4_T    0.960096   0.922341  0.921842  0.991897\n",
       "CD8_T    0.970945   0.920458  0.906245  0.989911\n",
       "DC       0.996668   0.931138  0.924384  0.998504\n",
       "Mono     0.989404   0.973569  0.982679  0.997622\n",
       "NK       0.991994   0.966119  0.965330  0.998710\n",
       "other    0.989788   0.796174  0.734832  0.891512\n",
       "other_T  0.981034   0.837965  0.750414  0.981033"
      ]
     },
     "execution_count": 21,
     "metadata": {},
     "output_type": "execute_result"
    }
   ],
   "source": [
    "all_metrics.index = types\n",
    "all_metrics"
   ]
  },
  {
   "cell_type": "code",
   "execution_count": 22,
   "metadata": {},
   "outputs": [],
   "source": [
    "all_metrics.to_csv('Kfold_metrics.csv')"
   ]
  },
  {
   "cell_type": "code",
   "execution_count": 23,
   "metadata": {},
   "outputs": [
    {
     "data": {
      "text/plain": [
       "<matplotlib.legend.Legend at 0x17a8a1220>"
      ]
     },
     "execution_count": 23,
     "metadata": {},
     "output_type": "execute_result"
    },
    {
     "data": {
      "image/png": "[encoded data removed]",
      "text/plain": [
       "<Figure size 800x600 with 1 Axes>"
      ]
     },
     "metadata": {},
     "output_type": "display_data"
    }
   ],
   "source": [
    "# Plot metrics for each celltype\n",
    "ax = all_metrics.plot.bar(rot=0, figsize=(8,6), title='One vs. Rest Logistic Regression K-fold CV (all features)')\n",
    "ax.legend(loc='center left', bbox_to_anchor=(1.0, 0.5))"
   ]
  },
  {
   "cell_type": "code",
   "execution_count": null,
   "metadata": {},
   "outputs": [],
   "source": []
  }
 ],
 "metadata": {
  "kernelspec": {
   "display_name": "base",
   "language": "python",
   "name": "python3"
  },
  "language_info": {
   "codemirror_mode": {
    "name": "ipython",
    "version": 3
   },
   "file_extension": ".py",
   "mimetype": "text/x-python",
   "name": "python",
   "nbconvert_exporter": "python",
   "pygments_lexer": "ipython3",
   "version": "3.9.12"
  }
 },
 "nbformat": 4,
 "nbformat_minor": 2
}

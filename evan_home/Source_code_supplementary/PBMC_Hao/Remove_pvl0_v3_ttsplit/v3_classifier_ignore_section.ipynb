{
 "cells": [
  {
   "cell_type": "code",
   "execution_count": 1,
   "metadata": {},
   "outputs": [],
   "source": [
    "# import os\n",
    "# os.chdir('/Users/evanli/Documents/EvanPys/Progress/')\n",
    "\n",
    "# from ADlasso2 import AD2_w_utils as ad\n",
    "import numpy as np\n",
    "import matplotlib.pyplot as plt\n",
    "import pandas as pd\n",
    "import time\n",
    "import scipy\n",
    "import sklearn\n",
    "import copy\n",
    "import importlib\n"
   ]
  },
  {
   "cell_type": "code",
   "execution_count": 2,
   "metadata": {},
   "outputs": [],
   "source": [
    "from sklearn.linear_model import LogisticRegression\n",
    "from sklearn.model_selection import train_test_split\n",
    "\n",
    "from sklearn.metrics import accuracy_score\n",
    "from sklearn.metrics import precision_score\n",
    "from sklearn.metrics import f1_score\n",
    "from sklearn.metrics import roc_curve, auc\n"
   ]
  },
  {
   "cell_type": "code",
   "execution_count": 3,
   "metadata": {},
   "outputs": [
    {
     "data": {
      "text/plain": [
       "(161764, 20568)"
      ]
     },
     "execution_count": 3,
     "metadata": {},
     "output_type": "execute_result"
    }
   ],
   "source": [
    "import scanpy as sc\n",
    "import scvelo as scv\n",
    "\n",
    "# data = sc.read('/home/evanlee/PBMC_Hao/Hao_PBMC_level1_rep_cells.h5ad')\n",
    "data = sc.read('/Users/evanli/Documents/Research_datasets/PBMC_Hao/Hao_PBMC.h5ad')\n",
    "data.shape"
   ]
  },
  {
   "cell_type": "code",
   "execution_count": 4,
   "metadata": {},
   "outputs": [
    {
     "data": {
      "text/plain": [
       "(161764, 20568)"
      ]
     },
     "execution_count": 4,
     "metadata": {},
     "output_type": "execute_result"
    }
   ],
   "source": [
    "data.shape"
   ]
  },
  {
   "cell_type": "code",
   "execution_count": 5,
   "metadata": {},
   "outputs": [],
   "source": [
    "# CPM\n",
    "sc.pp.normalize_total(data, target_sum=1e6)\n",
    "\n",
    "# log1p\n",
    "sc.pp.log1p(data)"
   ]
  },
  {
   "cell_type": "code",
   "execution_count": 6,
   "metadata": {},
   "outputs": [
    {
     "data": {
      "text/plain": [
       "['B', 'CD4_T', 'CD8_T', 'DC', 'Mono', 'NK', 'other', 'other_T']"
      ]
     },
     "execution_count": 6,
     "metadata": {},
     "output_type": "execute_result"
    }
   ],
   "source": [
    "data.obs['celltype.l1'] = data.obs['celltype.l1'].str.replace(' ', '_')\n",
    "\n",
    "label = data.obs['celltype.l1'].tolist()\n",
    "types = np.unique(label).tolist()\n",
    "# types = [s.replace(' ', '_') for s in types]\n",
    "types"
   ]
  },
  {
   "cell_type": "code",
   "execution_count": 7,
   "metadata": {},
   "outputs": [
    {
     "name": "stdout",
     "output_type": "stream",
     "text": [
      "/Users/evanli/Documents/EvanPys/Progress/PBMC_Hao/Remove_pvl0_v3_ttsplit\n"
     ]
    }
   ],
   "source": [
    "!pwd"
   ]
  },
  {
   "cell_type": "code",
   "execution_count": 8,
   "metadata": {},
   "outputs": [
    {
     "name": "stdout",
     "output_type": "stream",
     "text": [
      "B Feature count: 17\n",
      "B Positive feature count: 9\n",
      "------------------\n",
      "CD4_T Feature count: 1786\n",
      "CD4_T Positive feature count: 36\n",
      "------------------\n",
      "CD8_T Feature count: 26\n",
      "CD8_T Positive feature count: 9\n",
      "------------------\n",
      "DC Feature count: 19\n",
      "DC Positive feature count: 10\n",
      "------------------\n",
      "Mono Feature count: 18\n",
      "Mono Positive feature count: 11\n",
      "------------------\n",
      "NK Feature count: 28\n",
      "NK Positive feature count: 15\n",
      "------------------\n",
      "other Feature count: 5\n",
      "other Positive feature count: 4\n",
      "------------------\n",
      "other_T Feature count: 76\n",
      "other_T Positive feature count: 28\n",
      "------------------\n"
     ]
    }
   ],
   "source": [
    "import os\n",
    "os.chdir('/Users/evanli/Documents/EvanPys/Progress/PBMC_Hao/Remove_pvl0_v3_ttsplit/lambda_decision_ignore_section/v3_feature_selection')\n",
    "\n",
    "features_dict = {}\n",
    "# Read features for each celltype\n",
    "for celltype in types:\n",
    "    try:\n",
    "        feature_df = pd.read_csv(f'{celltype}_features.txt', names=['Gene', 'Weight', 'Tendency'], sep='\\t')\n",
    "        features_dict[celltype] = feature_df\n",
    "    except:\n",
    "        print('skipping:', celltype)\n",
    "        continue\n",
    "    print(celltype, 'Feature count:', feature_df.shape[0])\n",
    "    print(celltype, 'Positive feature count:', feature_df[feature_df['Tendency'] == 1].shape[0])\n",
    "    print('------------------')"
   ]
  },
  {
   "cell_type": "code",
   "execution_count": 9,
   "metadata": {},
   "outputs": [
    {
     "data": {
      "text/plain": [
       "dict_keys(['B', 'CD4_T', 'CD8_T', 'DC', 'Mono', 'NK', 'other', 'other_T'])"
      ]
     },
     "execution_count": 9,
     "metadata": {},
     "output_type": "execute_result"
    }
   ],
   "source": [
    "features_dict.keys()"
   ]
  },
  {
   "cell_type": "markdown",
   "metadata": {},
   "source": [
    "## LR model for each celltype (e.g. B cells)"
   ]
  },
  {
   "cell_type": "code",
   "execution_count": 10,
   "metadata": {},
   "outputs": [],
   "source": [
    "celltype = 'B'\n",
    "\n",
    "# subset data to celltype features\n",
    "X = data[:, features_dict[celltype]['Gene'].tolist()].X  # 17 features for B cells\n",
    "# Binary label\n",
    "y = [1 if i==celltype else 0 for i in data.obs['celltype.l1'].tolist()]"
   ]
  },
  {
   "cell_type": "code",
   "execution_count": 16,
   "metadata": {},
   "outputs": [
    {
     "data": {
      "text/plain": [
       "(161764, 17)"
      ]
     },
     "execution_count": 16,
     "metadata": {},
     "output_type": "execute_result"
    }
   ],
   "source": [
    "X.shape"
   ]
  },
  {
   "cell_type": "code",
   "execution_count": 11,
   "metadata": {},
   "outputs": [
    {
     "name": "stdout",
     "output_type": "stream",
     "text": [
      "(129411, 17)\n",
      "(32353, 17)\n",
      "129411\n",
      "32353\n"
     ]
    }
   ],
   "source": [
    "X_train, X_test, y_train, y_test = train_test_split(X, y, test_size=0.2, random_state=0, stratify=y)\n",
    "\n",
    "print(X_train.shape)\n",
    "print(X_test.shape)\n",
    "print(len(y_train))\n",
    "print(len(y_test))"
   ]
  },
  {
   "cell_type": "code",
   "execution_count": 12,
   "metadata": {},
   "outputs": [
    {
     "data": {
      "text/plain": [
       "LogisticRegression()"
      ]
     },
     "execution_count": 12,
     "metadata": {},
     "output_type": "execute_result"
    }
   ],
   "source": [
    "clf = LogisticRegression(penalty='l2', solver='lbfgs', C=1.0)\n",
    "clf.fit(X_train, y_train)"
   ]
  },
  {
   "cell_type": "code",
   "execution_count": 13,
   "metadata": {},
   "outputs": [
    {
     "name": "stdout",
     "output_type": "stream",
     "text": [
      "Accuracy: 99.91%\n",
      "Precision: 99.46%\n",
      "F1: 99.49%\n",
      "ROC-AUC: 0.9998184059391249\n"
     ]
    }
   ],
   "source": [
    "y_pred = clf.predict(X_test)\n",
    "\n",
    "accuracy = accuracy_score(y_test, y_pred)\n",
    "print(\"Accuracy: {:.2f}%\".format(accuracy * 100))\n",
    "precision = precision_score(y_test, y_pred)  # average='macro'\n",
    "print(\"Precision: {:.2f}%\".format(precision * 100))\n",
    "f1 = f1_score(y_test, y_pred)\n",
    "print(\"F1: {:.2f}%\".format(f1 * 100))\n",
    "\n",
    "# AUC-ROC\n",
    "y_pred_prob = clf.predict_proba(X_test)[:, 1]\n",
    "fpr, tpr, thresholds = roc_curve(y_test, y_pred_prob)\n",
    "roc_auc = auc(fpr, tpr)\n",
    "print('ROC-AUC:', roc_auc)"
   ]
  },
  {
   "cell_type": "code",
   "execution_count": 14,
   "metadata": {},
   "outputs": [
    {
     "data": {
      "image/png": "[encoded data removed]",
      "text/plain": [
       "<Figure size 800x600 with 1 Axes>"
      ]
     },
     "metadata": {},
     "output_type": "display_data"
    }
   ],
   "source": [
    "# Plot ROC\n",
    "plt.figure(figsize=(8, 6))\n",
    "plt.plot(fpr, tpr, label='ROC curve (area = %0.4f)' % roc_auc)\n",
    "plt.plot([0, 1], [0, 1], 'k--')\n",
    "plt.xlim([-0.05, 1.0])\n",
    "plt.ylim([-0.05, 1.05])\n",
    "plt.xlabel('False Positive Rate', fontsize=18)\n",
    "plt.ylabel('True Positive Rate', fontsize=18)\n",
    "plt.title('ROC curve', fontsize=18)\n",
    "plt.legend(loc=\"lower right\")\n",
    "plt.show()\n"
   ]
  },
  {
   "cell_type": "code",
   "execution_count": 15,
   "metadata": {},
   "outputs": [
    {
     "data": {
      "text/plain": [
       "array([[-0.16309671,  0.34545244, -0.26263518,  0.34050093,  0.3282183 ,\n",
       "         0.33953807, -0.09215408,  0.28160108,  0.52394131,  0.04041433,\n",
       "         3.26845003, -0.29433993,  0.11375673,  0.43580387, -0.17845087,\n",
       "         0.6867258 ,  0.3060501 ]])"
      ]
     },
     "execution_count": 15,
     "metadata": {},
     "output_type": "execute_result"
    }
   ],
   "source": [
    "clf.coef_"
   ]
  },
  {
   "cell_type": "markdown",
   "metadata": {},
   "source": [
    "### LR model with only Positive features (B cells)"
   ]
  },
  {
   "cell_type": "code",
   "execution_count": 17,
   "metadata": {},
   "outputs": [],
   "source": [
    "celltype = 'B'\n",
    "positive = features_dict[celltype][features_dict[celltype]['Tendency'] == 1]['Gene'].tolist()\n",
    "# subset data to celltype features\n",
    "X = data[:, positive].X  # 9 positive features for B cells\n",
    "# Binary label\n",
    "y = [1 if i==celltype else 0 for i in data.obs['celltype.l1'].tolist()]"
   ]
  },
  {
   "cell_type": "code",
   "execution_count": 18,
   "metadata": {},
   "outputs": [
    {
     "data": {
      "text/plain": [
       "(161764, 9)"
      ]
     },
     "execution_count": 18,
     "metadata": {},
     "output_type": "execute_result"
    }
   ],
   "source": [
    "X.shape"
   ]
  },
  {
   "cell_type": "code",
   "execution_count": 19,
   "metadata": {},
   "outputs": [
    {
     "data": {
      "text/plain": [
       "LogisticRegression()"
      ]
     },
     "execution_count": 19,
     "metadata": {},
     "output_type": "execute_result"
    }
   ],
   "source": [
    "X_train, X_test, y_train, y_test = train_test_split(X, y, test_size=0.2, random_state=0, stratify=y)\n",
    "\n",
    "clf_positive = LogisticRegression(penalty='l2', solver='lbfgs', C=1.0)\n",
    "clf_positive.fit(X_train, y_train)"
   ]
  },
  {
   "cell_type": "code",
   "execution_count": 20,
   "metadata": {},
   "outputs": [
    {
     "name": "stdout",
     "output_type": "stream",
     "text": [
      "Accuracy: 99.86%\n",
      "Precision: 99.35%\n",
      "F1: 99.18%\n",
      "ROC-AUC: 0.9998095294764675\n"
     ]
    }
   ],
   "source": [
    "y_pred = clf_positive.predict(X_test)\n",
    "\n",
    "accuracy = accuracy_score(y_test, y_pred)\n",
    "print(\"Accuracy: {:.2f}%\".format(accuracy * 100))\n",
    "precision = precision_score(y_test, y_pred)  # average='macro'\n",
    "print(\"Precision: {:.2f}%\".format(precision * 100))\n",
    "f1 = f1_score(y_test, y_pred)\n",
    "print(\"F1: {:.2f}%\".format(f1 * 100))\n",
    "\n",
    "# AUC-ROC\n",
    "y_pred_prob = clf_positive.predict_proba(X_test)[:, 1]\n",
    "fpr, tpr, thresholds = roc_curve(y_test, y_pred_prob)\n",
    "roc_auc = auc(fpr, tpr)\n",
    "print('ROC-AUC:', roc_auc)"
   ]
  },
  {
   "cell_type": "markdown",
   "metadata": {},
   "source": [
    "### B cells: k-fold CV"
   ]
  },
  {
   "cell_type": "code",
   "execution_count": null,
   "metadata": {},
   "outputs": [],
   "source": [
    "celltype = 'B'\n",
    "\n",
    "# subset data to celltype features\n",
    "X = data[:, features_dict[celltype]['Gene'].tolist()].X  # 17 features for B cells\n",
    "# Binary label\n",
    "y = [1 if i==celltype else 0 for i in data.obs['celltype.l1'].tolist()]"
   ]
  },
  {
   "cell_type": "code",
   "execution_count": null,
   "metadata": {},
   "outputs": [],
   "source": [
    "from sklearn.linear_model import LogisticRegression\n",
    "from sklearn.model_selection import cross_val_score, cross_validate, KFold\n",
    "\n",
    "clf = LogisticRegression(penalty='l2', solver='lbfgs', C=1.0)\n",
    "# clf.fit(X_train, y_train)\n",
    "\n",
    "# KFold cross validation\n",
    "k = 5\n",
    "kf = KFold(n_splits=k, shuffle=True, random_state=0)\n",
    "\n",
    "cross_val_results = cross_val_score(clf, X, y, cv=kf, scoring='accuracy')"
   ]
  },
  {
   "cell_type": "code",
   "execution_count": null,
   "metadata": {},
   "outputs": [],
   "source": [
    "# Print the accuracy for each fold\n",
    "for i, acc in enumerate(cross_val_results):\n",
    "    print(f\"Fold {i+1}: Accuracy = {acc}\")\n",
    "\n",
    "# Calculate and print the mean accuracy across all folds\n",
    "mean_accuracy = np.mean(cross_val_results)\n",
    "print(f\"Mean Accuracy: {mean_accuracy:.4f}\")"
   ]
  },
  {
   "cell_type": "code",
   "execution_count": null,
   "metadata": {},
   "outputs": [],
   "source": [
    "k = 5\n",
    "kf = KFold(n_splits=k, shuffle=True, random_state=0)\n",
    "\n",
    "# Perform k-fold cross-validation with multiple metrics\n",
    "cross_val_results = cross_validate(clf, X, y, cv=kf, scoring=['accuracy', 'precision', 'f1'])\n"
   ]
  },
  {
   "cell_type": "code",
   "execution_count": null,
   "metadata": {},
   "outputs": [],
   "source": [
    "cross_val_results"
   ]
  },
  {
   "cell_type": "code",
   "execution_count": null,
   "metadata": {},
   "outputs": [],
   "source": [
    "# Calculate and print the mean results across all folds\n",
    "mean_accuracy = np.mean(cross_val_results['test_accuracy'])\n",
    "mean_precision = np.mean(cross_val_results['test_precision'])\n",
    "mean_f1_score = np.mean(cross_val_results['test_f1'])\n",
    "print(f\"Mean Accuracy: {mean_accuracy:.4f}, Mean Precision: {mean_precision:.4f}, Mean F1-score: {mean_f1_score:.4f}\")"
   ]
  },
  {
   "cell_type": "markdown",
   "metadata": {},
   "source": [
    "## Function: LR model for each cell type"
   ]
  },
  {
   "cell_type": "markdown",
   "metadata": {},
   "source": [
    "### all features"
   ]
  },
  {
   "cell_type": "code",
   "execution_count": 21,
   "metadata": {},
   "outputs": [],
   "source": [
    "def LR_classifier(data, all_features_dict, celltype):\n",
    "    print('==================')\n",
    "    print('Constructing classifier for:', celltype)\n",
    "    # subset data to celltype features\n",
    "    celltype_features = all_features_dict[celltype]['Gene'].tolist()\n",
    "    X = data[:, celltype_features].X\n",
    "    print(X.shape)\n",
    "    # Binary label\n",
    "    y = [1 if i==celltype else 0 for i in data.obs['celltype.l1'].tolist()]\n",
    "\n",
    "    X_train, X_test, y_train, y_test = train_test_split(X, y, test_size=0.2, random_state=0, stratify=y)\n",
    "    \n",
    "    # train classifier\n",
    "    clf = LogisticRegression(penalty='l2', solver='lbfgs', C=1.0)\n",
    "    clf.fit(X_train, y_train)\n",
    "\n",
    "    # evaluate classifier\n",
    "    y_pred = clf.predict(X_test)\n",
    "    accuracy = accuracy_score(y_test, y_pred)\n",
    "    print(\"Accuracy: {:.2f}%\".format(accuracy * 100))\n",
    "    precision = precision_score(y_test, y_pred)  # average='macro'\n",
    "    print(\"Precision: {:.2f}%\".format(precision * 100))\n",
    "    f1 = f1_score(y_test, y_pred)\n",
    "    print(\"F1: {:.2f}%\".format(f1 * 100))\n",
    "    # AUC-ROC\n",
    "    y_pred_prob = clf.predict_proba(X_test)[:, 1]\n",
    "    fpr, tpr, thresholds = roc_curve(y_test, y_pred_prob)\n",
    "    roc_auc = auc(fpr, tpr)\n",
    "    print('ROC-AUC:', roc_auc)\n",
    "\n",
    "    # model metrics\n",
    "    metrics = [accuracy, precision, f1, roc_auc]\n",
    "\n",
    "    return clf, metrics"
   ]
  },
  {
   "cell_type": "code",
   "execution_count": 22,
   "metadata": {},
   "outputs": [
    {
     "name": "stdout",
     "output_type": "stream",
     "text": [
      "==================\n",
      "Constructing classifier for: B\n",
      "(161764, 17)\n",
      "Accuracy: 99.91%\n",
      "Precision: 99.46%\n",
      "F1: 99.49%\n",
      "ROC-AUC: 0.9998184059391249\n",
      "==================\n",
      "Constructing classifier for: CD4_T\n",
      "(161764, 1786)\n",
      "Accuracy: 96.23%\n",
      "Precision: 92.53%\n",
      "F1: 92.56%\n",
      "ROC-AUC: 0.9922163029790775\n",
      "==================\n",
      "Constructing classifier for: CD8_T\n",
      "(161764, 26)\n",
      "Accuracy: 97.10%\n",
      "Precision: 92.51%\n",
      "F1: 90.60%\n",
      "ROC-AUC: 0.9898862174709864\n",
      "==================\n",
      "Constructing classifier for: DC\n",
      "(161764, 19)\n",
      "Accuracy: 99.68%\n",
      "Precision: 93.86%\n",
      "F1: 92.67%\n",
      "ROC-AUC: 0.9975783142767457\n",
      "==================\n",
      "Constructing classifier for: Mono\n",
      "(161764, 18)\n",
      "Accuracy: 99.01%\n",
      "Precision: 97.41%\n",
      "F1: 98.39%\n",
      "ROC-AUC: 0.9972389772644474\n",
      "==================\n",
      "Constructing classifier for: NK\n",
      "(161764, 28)\n",
      "Accuracy: 99.18%\n",
      "Precision: 96.49%\n",
      "F1: 96.46%\n",
      "ROC-AUC: 0.9984656087330349\n",
      "==================\n",
      "Constructing classifier for: other\n",
      "(161764, 5)\n",
      "Accuracy: 99.05%\n",
      "Precision: 82.42%\n",
      "F1: 75.82%\n",
      "ROC-AUC: 0.8955906262508309\n",
      "==================\n",
      "Constructing classifier for: other_T\n",
      "(161764, 76)\n",
      "Accuracy: 98.16%\n",
      "Precision: 84.11%\n",
      "F1: 76.03%\n",
      "ROC-AUC: 0.9828004706920994\n"
     ]
    }
   ],
   "source": [
    "import pickle\n",
    "os.chdir('/Users/evanli/Documents/EvanPys/Progress/PBMC_Hao/Remove_pvl0_v3_ttsplit/lambda_decision_ignore_section/classifiers')\n",
    "\n",
    "all_metrics = pd.DataFrame(columns=['Accuracy', 'Precision', 'F1-score', 'ROC-AUC'])\n",
    "for celltype in types:\n",
    "    clf, metrics = LR_classifier(data, features_dict, celltype)\n",
    "    metrics_df = pd.DataFrame([metrics], columns=['Accuracy', 'Precision', 'F1-score', 'ROC-AUC'], index=[celltype])\n",
    "    all_metrics = pd.concat([all_metrics, metrics_df])\n",
    "    # print(all_metrics)\n",
    "\n",
    "    filename = f'LR_{celltype}_l1_a.01.pkl'\n",
    "    with open(filename, 'wb') as f:\n",
    "        pickle.dump(clf, f)"
   ]
  },
  {
   "cell_type": "code",
   "execution_count": 23,
   "metadata": {},
   "outputs": [],
   "source": [
    "all_metrics.to_csv('LR_all_features_metrics.csv')"
   ]
  },
  {
   "cell_type": "code",
   "execution_count": 24,
   "metadata": {},
   "outputs": [
    {
     "data": {
      "text/plain": [
       "<matplotlib.legend.Legend at 0x177c62d30>"
      ]
     },
     "execution_count": 24,
     "metadata": {},
     "output_type": "execute_result"
    },
    {
     "data": {
      "image/png": "[encoded data removed]",
      "text/plain": [
       "<Figure size 800x600 with 1 Axes>"
      ]
     },
     "metadata": {},
     "output_type": "display_data"
    }
   ],
   "source": [
    "# Plot metrics for each celltype\n",
    "ax = all_metrics.plot.bar(rot=0, figsize=(8,6), title='One vs. Rest Logistic Regression Classifier Metrics (all features)')\n",
    "ax.legend(loc='center left', bbox_to_anchor=(1.0, 0.5))"
   ]
  },
  {
   "cell_type": "markdown",
   "metadata": {},
   "source": [
    "### positive features"
   ]
  },
  {
   "cell_type": "code",
   "execution_count": 25,
   "metadata": {},
   "outputs": [],
   "source": [
    "def LR_positive_classifier(data, all_features_dict, celltype):\n",
    "    print('==================')\n",
    "    print('Constructing classifier for:', celltype)\n",
    "    # subset data to celltype features\n",
    "    # celltype_features = all_features_dict[celltype]['Gene'].tolist()\n",
    "    positive = all_features_dict[celltype][all_features_dict[celltype]['Tendency'] == 1]['Gene'].tolist()\n",
    "    X = data[:, positive].X\n",
    "    print(X.shape)\n",
    "    # Binary label\n",
    "    y = [1 if i==celltype else 0 for i in data.obs['celltype.l1'].tolist()]\n",
    "\n",
    "    X_train, X_test, y_train, y_test = train_test_split(X, y, test_size=0.2, random_state=0, stratify=y)\n",
    "    \n",
    "    # train classifier\n",
    "    clf = LogisticRegression(penalty='l2', solver='lbfgs', C=1.0)\n",
    "    clf.fit(X_train, y_train)\n",
    "\n",
    "    # evaluate classifier\n",
    "    y_pred = clf.predict(X_test)\n",
    "    accuracy = accuracy_score(y_test, y_pred)\n",
    "    print(\"Accuracy: {:.2f}%\".format(accuracy * 100))\n",
    "    precision = precision_score(y_test, y_pred)  # average='macro'\n",
    "    print(\"Precision: {:.2f}%\".format(precision * 100))\n",
    "    f1 = f1_score(y_test, y_pred)\n",
    "    print(\"F1: {:.2f}%\".format(f1 * 100))\n",
    "    # AUC-ROC\n",
    "    y_pred_prob = clf.predict_proba(X_test)[:, 1]\n",
    "    fpr, tpr, thresholds = roc_curve(y_test, y_pred_prob)\n",
    "    roc_auc = auc(fpr, tpr)\n",
    "    print('ROC-AUC:', roc_auc)\n",
    "\n",
    "    # model metrics\n",
    "    metrics = [accuracy, precision, f1, roc_auc]\n",
    "\n",
    "    return clf, metrics"
   ]
  },
  {
   "cell_type": "code",
   "execution_count": 26,
   "metadata": {},
   "outputs": [
    {
     "name": "stdout",
     "output_type": "stream",
     "text": [
      "==================\n",
      "Constructing classifier for: B\n",
      "(161764, 9)\n",
      "Accuracy: 99.86%\n",
      "Precision: 99.35%\n",
      "F1: 99.18%\n",
      "ROC-AUC: 0.9998095294764675\n",
      "==================\n",
      "Constructing classifier for: CD4_T\n",
      "(161764, 36)\n",
      "Accuracy: 87.23%\n",
      "Precision: 74.39%\n",
      "F1: 75.01%\n",
      "ROC-AUC: 0.9443206721782782\n",
      "==================\n",
      "Constructing classifier for: CD8_T\n",
      "(161764, 9)\n",
      "Accuracy: 96.70%\n",
      "Precision: 89.61%\n",
      "F1: 89.49%\n",
      "ROC-AUC: 0.9870521146212892\n",
      "==================\n",
      "Constructing classifier for: DC\n",
      "(161764, 10)\n",
      "Accuracy: 99.56%\n",
      "Precision: 91.37%\n",
      "F1: 89.88%\n",
      "ROC-AUC: 0.9972290572349215\n",
      "==================\n",
      "Constructing classifier for: Mono\n",
      "(161764, 11)\n",
      "Accuracy: 98.28%\n",
      "Precision: 95.39%\n",
      "F1: 97.22%\n",
      "ROC-AUC: 0.9947061072686489\n",
      "==================\n",
      "Constructing classifier for: NK\n",
      "(161764, 15)\n",
      "Accuracy: 98.72%\n",
      "Precision: 94.19%\n",
      "F1: 94.47%\n",
      "ROC-AUC: 0.9972935308127804\n",
      "==================\n",
      "Constructing classifier for: other\n",
      "(161764, 4)\n",
      "Accuracy: 99.05%\n",
      "Precision: 82.45%\n",
      "F1: 75.92%\n",
      "ROC-AUC: 0.8985475673750272\n",
      "==================\n",
      "Constructing classifier for: other_T\n",
      "(161764, 28)\n",
      "Accuracy: 97.84%\n",
      "Precision: 82.02%\n",
      "F1: 70.72%\n",
      "ROC-AUC: 0.9754754496247553\n"
     ]
    }
   ],
   "source": [
    "import pickle\n",
    "os.chdir('/Users/evanli/Documents/EvanPys/Progress/PBMC_Hao/Remove_pvl0_v3_ttsplit/lambda_decision_ignore_section/classifiers_positive')\n",
    "\n",
    "all_metrics_positive = pd.DataFrame(columns=['Accuracy', 'Precision', 'F1-score', 'ROC-AUC'])\n",
    "for celltype in types:\n",
    "    clf, metrics = LR_positive_classifier(data, features_dict, celltype)\n",
    "    metrics_df = pd.DataFrame([metrics], columns=['Accuracy', 'Precision', 'F1-score', 'ROC-AUC'], index=[celltype])\n",
    "    all_metrics_positive = pd.concat([all_metrics_positive, metrics_df])\n",
    "    # print(all_metrics)\n",
    "\n",
    "    filename = f'LR_positive_{celltype}_l1_a.01.pkl'\n",
    "    with open(filename, 'wb') as f:\n",
    "        pickle.dump(clf, f)"
   ]
  },
  {
   "cell_type": "code",
   "execution_count": 27,
   "metadata": {},
   "outputs": [],
   "source": [
    "all_metrics_positive.to_csv('LR_positive_all_metrics.csv')"
   ]
  },
  {
   "cell_type": "code",
   "execution_count": 29,
   "metadata": {},
   "outputs": [
    {
     "data": {
      "text/plain": [
       "<matplotlib.legend.Legend at 0x17705c700>"
      ]
     },
     "execution_count": 29,
     "metadata": {},
     "output_type": "execute_result"
    },
    {
     "data": {
      "image/png": "[encoded data removed]",
      "text/plain": [
       "<Figure size 800x600 with 1 Axes>"
      ]
     },
     "metadata": {},
     "output_type": "display_data"
    }
   ],
   "source": [
    "# Plot metrics for each celltype\n",
    "ax = all_metrics_positive.plot.bar(rot=0, figsize=(8,6), title='One vs. Rest Logistic Regression Classifier Metrics (positive features)')\n",
    "ax.legend(loc='center left', bbox_to_anchor=(1.0, 0.5))"
   ]
  },
  {
   "cell_type": "code",
   "execution_count": null,
   "metadata": {},
   "outputs": [],
   "source": []
  }
 ],
 "metadata": {
  "kernelspec": {
   "display_name": "base",
   "language": "python",
   "name": "python3"
  },
  "language_info": {
   "codemirror_mode": {
    "name": "ipython",
    "version": 3
   },
   "file_extension": ".py",
   "mimetype": "text/x-python",
   "name": "python",
   "nbconvert_exporter": "python",
   "pygments_lexer": "ipython3",
   "version": "3.9.12"
  }
 },
 "nbformat": 4,
 "nbformat_minor": 2
}

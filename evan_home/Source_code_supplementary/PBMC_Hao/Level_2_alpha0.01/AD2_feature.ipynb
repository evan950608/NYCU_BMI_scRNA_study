{
 "cells": [
  {
   "cell_type": "code",
   "execution_count": null,
   "metadata": {},
   "outputs": [],
   "source": [
    "import os\n",
    "os.chdir('/home/evanlee/PBMC_Hao/')\n"
   ]
  },
  {
   "cell_type": "code",
   "execution_count": 1,
   "metadata": {},
   "outputs": [],
   "source": [
    "# import AD2_w_utils as ad2\n",
    "from AD2_w_utils import *\n",
    "import numpy as np\n",
    "import matplotlib.pyplot as plt\n",
    "import pandas as pd\n",
    "import os\n",
    "import time\n",
    "import scipy\n",
    "import scanpy as sc\n",
    "import sklearn\n",
    "import copy\n",
    "# %matplotlib inline\n"
   ]
  },
  {
   "cell_type": "code",
   "execution_count": null,
   "metadata": {},
   "outputs": [],
   "source": [
    "# Demo\n",
    "url_1 = 'https://raw.githubusercontent.com/YinchengChen23/ADlasso/main/data/crc_zeller/ASV_vst.txt'\n",
    "url_2 = 'https://raw.githubusercontent.com/YinchengChen23/ADlasso/main/data/crc_zeller/ASV_table.txt'\n",
    "url_3 = 'https://raw.githubusercontent.com/YinchengChen23/ADlasso/main/data/crc_zeller/metadata.txt'\n",
    "Data = pd.read_csv(url_1, sep=\"\\t\")\n",
    "Data = Data.T           # Variance-stabilizing transformation was conducted by DESeq2\n",
    "# we using z-normalization data as input-data\n",
    "Data_std = scipy.stats.zscore(Data, axis=0, ddof=0)\n",
    "RawData = pd.read_csv(url_2, sep=\"\\t\")\n",
    "RawData = RawData.T  # Raw count data, was used as an assessment of prevalence\n",
    "Cohort = pd.read_csv(url_3, sep=\"\\t\")                        # Metadata\n",
    "Label = Cohort['Class'].tolist()\n",
    "\n",
    "print('This data contains',\n",
    "      Data_std.shape[0], 'samples and', Data_std.shape[1], 'features')\n",
    "print(Label[0:10], np.unique(Label))\n",
    "\n",
    "# get_prevalence(data, [0,1,2, ..., 129])\n",
    "pvl0 = get_prevalence(RawData, np.arange(RawData.shape[0]))\n",
    "res0 = ADlasso2(lmbd=1e-5, alpha=0.9, echo=True)\n",
    "start = time.time()\n",
    "res0.fit(Data_std, Label, pvl0)  # .fit(X, y, prevalence)\n",
    "# minimum epoch =  9999 ; minimum lost =  6.27363842795603e-05 ; diff weight =  0.002454951871186495\n",
    "end = time.time()\n",
    "\n",
    "print('median of selected prevalence :', np.median(\n",
    "    [pvl0[i] for i, w in enumerate(res0.feature_set) if w != 0]))\n",
    "print('total selected feature :', np.sum(res0.feature_set))\n",
    "print(\"Total cost：%f sec\" % (end - start))\n",
    "\n",
    "# Export selection result\n",
    "res0.writeList('./demo_selectedList.txt', Data_std.columns)"
   ]
  },
  {
   "cell_type": "markdown",
   "metadata": {},
   "source": [
    "## Read PBMC dataset"
   ]
  },
  {
   "cell_type": "code",
   "execution_count": 2,
   "metadata": {},
   "outputs": [
    {
     "name": "stdout",
     "output_type": "stream",
     "text": [
      "(161764, 20568)\n"
     ]
    }
   ],
   "source": [
    "data_path = '/Users/evanli/Documents/Research_datasets/PBMC_Hao/'\n",
    "# os.chdir('/home/evanlee/PBMC_Hao/')\n",
    "# data_path = ''\n",
    "adata_raw = sc.read(data_path + 'Hao_PBMC.h5ad')\n",
    "print(adata_raw.shape)  # row is cells, column is gene\n",
    "# (161764, 20568)\n"
   ]
  },
  {
   "cell_type": "code",
   "execution_count": 3,
   "metadata": {},
   "outputs": [
    {
     "data": {
      "text/plain": [
       "{'B': ['B intermediate', 'B memory', 'B naive', 'Plasmablast'],\n",
       " 'CD4 T': ['CD4 CTL',\n",
       "  'CD4 Naive',\n",
       "  'CD4 Proliferating',\n",
       "  'CD4 TCM',\n",
       "  'CD4 TEM',\n",
       "  'Treg'],\n",
       " 'CD8 T': ['CD8 Naive', 'CD8 Proliferating', 'CD8 TCM', 'CD8 TEM'],\n",
       " 'DC': ['ASDC', 'cDC1', 'cDC2', 'pDC'],\n",
       " 'Mono': ['CD14 Mono', 'CD16 Mono'],\n",
       " 'NK': ['NK', 'NK Proliferating', 'NK_CD56bright'],\n",
       " 'other': ['Doublet', 'Eryth', 'HSPC', 'ILC', 'Platelet'],\n",
       " 'other T': ['MAIT', 'dnT', 'gdT']}"
      ]
     },
     "execution_count": 3,
     "metadata": {},
     "output_type": "execute_result"
    }
   ],
   "source": [
    "# Metadata\n",
    "types_l1 = adata_raw.obs['celltype.l1'].unique()  # 8\n",
    "types_l2 = adata_raw.obs['celltype.l2'].unique()  # 31\n",
    "types_l3 = adata_raw.obs['celltype.l3'].unique()  # 58\n",
    "\n",
    "celltype_df = adata_raw.obs[['celltype.l1', 'celltype.l2', 'cell_type']]\n",
    "celltype_df = celltype_df.sort_values(['celltype.l1', 'celltype.l2'])\n",
    "\n",
    "celltype_dict = {k: [] for k in sorted(types_l1)}\n",
    "for i in range(len(celltype_df)):\n",
    "    level_1 = celltype_df.iloc[i, 0]\n",
    "    level_2 = celltype_df.iloc[i, 1]\n",
    "    if level_2 not in celltype_dict[level_1]:\n",
    "        celltype_dict[level_1].append(level_2)\n",
    "\n",
    "celltype_dict"
   ]
  },
  {
   "cell_type": "code",
   "execution_count": 4,
   "metadata": {},
   "outputs": [],
   "source": [
    "# standardize expression data\n",
    "adata_std = copy.deepcopy(adata_raw)\n",
    "# Total-count normalize the data matrix X to 10,000 reads per cell\n",
    "sc.pp.normalize_total(adata_std, target_sum=1e4)\n",
    "# Log\n",
    "sc.pp.log1p(adata_std)\n"
   ]
  },
  {
   "cell_type": "code",
   "execution_count": null,
   "metadata": {},
   "outputs": [],
   "source": [
    "# create binary labels for B naive\n",
    "# TODO：create labels without creating adata_raw.obs['is B naive']\n",
    "# adata_raw.obs['is B naive'] = ['B_naive' if x ==\n",
    "#                                'B naive' else \"False\" for x in adata_raw.obs['celltype.l2']]\n",
    "# labels = adata_raw.obs['is B naive'].tolist()\n",
    "labels = [1 if x == 'B naive' else 0 for x in adata_raw.obs['celltype.l2']]\n",
    "\n",
    "# create index for B naive\n",
    "b_naive_indices = [idx for idx, cell_type in enumerate(\n",
    "    adata_raw.obs['celltype.l2']) if cell_type == 'B naive']\n"
   ]
  },
  {
   "cell_type": "code",
   "execution_count": null,
   "metadata": {},
   "outputs": [],
   "source": [
    "# pvl = get_prevalence(adata_raw.X, np.arange(adata_raw.shape[0]))\n",
    "pvl = get_prevalence(adata_raw.X, b_naive_indices)\n",
    "res = ADlasso2(lmbd=1e-5, echo=True, device='cpu')\n",
    "\n",
    "st = time.time()\n",
    "res.fit(adata_std.X, labels, pvl)  # .fit(X, y, prevalence)\n",
    "et = time.time()\n",
    "\n",
    "print('median of selected prevalence :', np.median(\n",
    "    [pvl[i] for i, w in enumerate(res.feature_set) if w != 0]))\n",
    "print('total selected feature :', np.sum(res.feature_set))\n",
    "print(\"Total cost：%f sec\" % (et - st))\n",
    "\n",
    "# write feature list\n",
    "res.writeList('./Bnaive_selectedList.txt', adata_std.X.columns)\n"
   ]
  },
  {
   "cell_type": "code",
   "execution_count": 9,
   "metadata": {},
   "outputs": [
    {
     "data": {
      "text/plain": [
       "Index(['ENSG00000238009', 'ENSG00000237491', 'ENSG00000225880',\n",
       "       'ENSG00000230368', 'ENSG00000188976', 'ENSG00000187961',\n",
       "       'ENSG00000187583', 'ENSG00000272512', 'ENSG00000188290',\n",
       "       'ENSG00000187608',\n",
       "       ...\n",
       "       'ENSG00000260213', 'ENSG00000274363', 'ENSG00000006042',\n",
       "       'ENSG00000101280', 'ENSG00000089101', 'ENSG00000267124',\n",
       "       'ENSG00000105523', 'ENSG00000282602', 'ENSG00000228404',\n",
       "       'ENSG00000228137'],\n",
       "      dtype='object', name='gene_ids', length=20568)"
      ]
     },
     "execution_count": 9,
     "metadata": {},
     "output_type": "execute_result"
    }
   ],
   "source": [
    "adata_std.var_names"
   ]
  },
  {
   "cell_type": "code",
   "execution_count": 10,
   "metadata": {},
   "outputs": [],
   "source": [
    "# Multithreaded version of ADLasso2 feature selection algorithm\n",
    "import time\n",
    "import numpy as np\n",
    "from typing import List\n",
    "from anndata import AnnData\n",
    "from concurrent.futures import ThreadPoolExecutor\n",
    "\n",
    "def select_features_by_celltype(adata_raw: AnnData, adata_std: AnnData, celltype: str) -> List[str]:\n",
    "    print('=====================')\n",
    "    print('Selecting features for', celltype)\n",
    "\n",
    "    # create binary labels for the given cell type\n",
    "    labels = [1 if x == celltype else 0 for x in adata_raw.obs['celltype.l2']]\n",
    "    \n",
    "    # create index for the given cell type\n",
    "    celltype_indices = [idx for idx, ct in enumerate(adata_raw.obs['celltype.l2']) if ct == celltype]\n",
    "    \n",
    "    # calculate prevalence of the given cell type\n",
    "    pvl = get_prevalence(adata_raw.X, celltype_indices)\n",
    "    \n",
    "    # run ADLasso2 algorithm to select features\n",
    "    res = ADlasso2(lmbd=1e-5, echo=True, device='cpu')\n",
    "    st = time.time()\n",
    "    res.fit(adata_std.X, labels, pvl)\n",
    "    et = time.time()\n",
    "    \n",
    "    # print summary statistics\n",
    "    median_pvl = np.median([pvl[i] for i, w in enumerate(res.feature_set) if w != 0])\n",
    "    total_features = np.sum(res.feature_set)\n",
    "    print('---------------------')\n",
    "    print('Summary statistics for ', celltype)\n",
    "    print(f\"Median of selected prevalence: {median_pvl}\")\n",
    "    print(f\"Total selected features: {total_features}\")\n",
    "    print(f\"Total cost: {et - st} sec\")\n",
    "    \n",
    "    # write feature list to file\n",
    "    feature_list = adata_raw.var_names[res.feature_set != 0]\n",
    "    try:\n",
    "        print('writing var_names')\n",
    "        res.writeList(f\"./{celltype}_selectedList.txt\", adata_std.var_names)\n",
    "    except:\n",
    "        print('writing feature_list')\n",
    "        res.writeList(f\"./{celltype}_selectedList.txt\", feature_list)\n",
    "    \n",
    "    return feature_list\n",
    "\n",
    "def select_features_by_celltype_multithread(adata_raw: AnnData, adata_std: AnnData, celltypes: List[str], max_workers: int = 4) -> List[List[str]]:\n",
    "    with ThreadPoolExecutor(max_workers=max_workers) as executor:\n",
    "        futures = [executor.submit(select_features_by_celltype, adata_raw, adata_std, celltype) for celltype in celltypes]\n",
    "        results = [future.result() for future in futures]\n",
    "    return results"
   ]
  },
  {
   "cell_type": "code",
   "execution_count": 11,
   "metadata": {},
   "outputs": [
    {
     "name": "stdout",
     "output_type": "stream",
     "text": [
      "=====================\n",
      "Selecting features for NK Proliferating\n",
      "---------------------\n",
      "Summary statistics for  NK Proliferating\n",
      "Median of selected prevalence: 0.09124087591240876\n",
      "Total selected features: 885\n",
      "Total cost: 1156.285015821457 sec\n",
      "writing var_names\n"
     ]
    }
   ],
   "source": [
    "# celltype_query = ['B intermediate', 'B memory', 'NK', 'NK Proliferating']\n",
    "celltype_query = ['NK Proliferating']\n",
    "\n",
    "results = select_features_by_celltype_multithread(adata_raw, adata_std, celltype_query, max_workers=4)\n",
    "\n",
    "# NK Proliferating has 885 features\n",
    "# res.writelist() resulting in 885 features, with responding weights"
   ]
  },
  {
   "cell_type": "code",
   "execution_count": 12,
   "metadata": {},
   "outputs": [
    {
     "data": {
      "text/plain": [
       "[Index(['ENSG00000157933', 'ENSG00000215788', 'ENSG00000049245',\n",
       "        'ENSG00000162444', 'ENSG00000054523', 'ENSG00000142657',\n",
       "        'ENSG00000177000', 'ENSG00000116691', 'ENSG00000159339',\n",
       "        'ENSG00000158825',\n",
       "        ...\n",
       "        'ENSG00000156273', 'ENSG00000156299', 'ENSG00000159128',\n",
       "        'ENSG00000205726', 'ENSG00000157557', 'ENSG00000183486',\n",
       "        'ENSG00000160216', 'ENSG00000227039', 'ENSG00000129195',\n",
       "        'ENSG00000237541'],\n",
       "       dtype='object', name='gene_ids', length=885)]"
      ]
     },
     "execution_count": 12,
     "metadata": {},
     "output_type": "execute_result"
    }
   ],
   "source": [
    "results"
   ]
  },
  {
   "cell_type": "code",
   "execution_count": null,
   "metadata": {},
   "outputs": [],
   "source": [
    "for i in range(4):\n",
    "    celltype = celltype_query[i]\n",
    "    print(celltype, len(results[i]))\n",
    "    filename = celltype + '_feature.txt'\n",
    "    np.savetxt(filename, results[i], fmt='%s', delimiter='\\t')"
   ]
  },
  {
   "cell_type": "code",
   "execution_count": null,
   "metadata": {},
   "outputs": [],
   "source": [
    "# Lambda tuning\n",
    "# auto_scale(X_input, X_raw, y, step=50)\n",
    "log_lmbd_range = auto_scale(adata_std.X, adata_raw.X, labels, step=50)\n",
    "\n",
    "lmbd_range = np.exp(log_lmbd_range)\n",
    "print(lmbd_range)\n"
   ]
  },
  {
   "cell_type": "code",
   "execution_count": null,
   "metadata": {},
   "outputs": [],
   "source": []
  }
 ],
 "metadata": {
  "kernelspec": {
   "display_name": "Python 3 (ipykernel)",
   "language": "python",
   "name": "python3"
  },
  "language_info": {
   "codemirror_mode": {
    "name": "ipython",
    "version": 3
   },
   "file_extension": ".py",
   "mimetype": "text/x-python",
   "name": "python",
   "nbconvert_exporter": "python",
   "pygments_lexer": "ipython3",
   "version": "3.9.12"
  },
  "orig_nbformat": 4
 },
 "nbformat": 4,
 "nbformat_minor": 2
}

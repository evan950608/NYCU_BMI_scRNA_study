{
 "cells": [
  {
   "cell_type": "markdown",
   "metadata": {},
   "source": [
    "## Feature selection using loss convergence\n",
    "At optimal lambda from previous weight difference lambda tuning"
   ]
  },
  {
   "cell_type": "code",
   "execution_count": 1,
   "metadata": {
    "tags": []
   },
   "outputs": [],
   "source": [
    "import os\n",
    "import sys\n",
    "# sys.path.append('/home/evanlee/PBMC_Hao')\n",
    "sys.path.append('/home/jovyan/work/GitHub/EvanPys/Progress')\n",
    "from ADlasso2 import AD2_w_utils_loss_nopvl as ad\n",
    "\n",
    "import numpy as np\n",
    "import pandas as pd\n",
    "from pathlib import Path\n",
    "import scanpy as sc\n",
    "import sklearn\n",
    "from scipy.sparse import csr_matrix\n",
    "from sklearn.metrics.cluster import adjusted_rand_score\n",
    "import copy\n",
    "import json\n",
    "import time\n",
    "import multiprocessing as mp\n"
   ]
  },
  {
   "cell_type": "code",
   "execution_count": 2,
   "metadata": {
    "tags": []
   },
   "outputs": [],
   "source": [
    "# %% Feature selection with optimal lambda\n",
    "def pipeline_feature_selection(data, celltype, label, opt_lmbd, output_path=''):\n",
    "    print('====================')\n",
    "    print('Starting job for {}'.format(celltype))\n",
    "    st = time.time()\n",
    "\n",
    "    # Binary classification of a celltype\n",
    "    celltype_label = [1 if x == celltype else 0 for x in label]\n",
    "    # create index for a celltype\n",
    "    celltype_indices = [idx for idx, label in enumerate(celltype_label) if label == 1]\n",
    "\n",
    "    # Find marker genes with optimal lambda\n",
    "    pvl = ad.get_prevalence(data.X, celltype_indices)\n",
    "    print('Fitting with optimal lambda:', opt_lmbd)\n",
    "    opt_res = ad.ADlasso2(lmbd=opt_lmbd, loss_threshold=1e-2, tol=1e-5, echo=True, device='cuda')  # cuda\n",
    "    opt_res.fit(data.X, celltype_label, pvl)\n",
    "    \n",
    "    # Export selection results\n",
    "    os.chdir(output_path)\n",
    "    opt_res.writeList(outpath=output_path+f'/{celltype}_features.txt', featureNameList=data.var_names)\n",
    "    print(f'{celltype} feature list exported.')\n",
    "\n",
    "    et = time.time()\n",
    "    elapsed = (et-st)/60\n",
    "    # print(f'Elapsed time for {celltype}: {elapsed} minutes')\n",
    "\n",
    "    # Ouput description\n",
    "    description = f'''Optimal lambda: {opt_lmbd}\n",
    "    median of selected prevalence: {np.median([pvl[i]  for i, w in enumerate(opt_res.feature_set) if w != 0])}\n",
    "    minimal loss: {opt_res.loss_}\n",
    "    minimal weight diff: {opt_res.convergence_}\n",
    "    total selected feature: {np.sum(opt_res.feature_set)}\n",
    "    Time elapsed: {elapsed}\\n'''\n",
    "    print('---Selection result for {}'.format(celltype))\n",
    "    print(description)\n",
    "\n",
    "    with open(f'{celltype}_description.txt', 'w') as f:\n",
    "        f.write(description)\n"
   ]
  },
  {
   "cell_type": "code",
   "execution_count": 3,
   "metadata": {
    "tags": []
   },
   "outputs": [],
   "source": [
    "# %% Multi-processing to run feature selection\n",
    "\n",
    "# Define a function to execute pipeline_feature_selection for a single cell type\n",
    "def run_pipeline_feature_selection(celltype):\n",
    "    st = time.time()\n",
    "    # Read adata\n",
    "    adata = sc.read_h5ad('/home/jovyan/work/Research_datasets/Hao_PBMC_level2_rep_cells.h5ad')\n",
    "    print('Original adata:', adata.shape)  # (32349, 20568)\n",
    "\n",
    "    ### Remove the genes whose expression is zero in all cells of this celltype\n",
    "    adata_celltype = adata[adata.obs['celltype.l2'] == celltype]\n",
    "    print('adata celltype shape:', adata_celltype.shape)\n",
    "\n",
    "    # Remove explicit zeros from the sparse matrix\n",
    "    adata_celltype.X.eliminate_zeros()\n",
    "\n",
    "    # Find the columns that are all zeros\n",
    "    all_zeros = np.where(adata_celltype.X.getnnz(axis=0) == 0)[0]\n",
    "\n",
    "    # Remove the columns that are all zeros from the anndata object\n",
    "    adata = adata[:, ~adata_celltype.var_names.isin(adata_celltype.var_names[all_zeros])]\n",
    "    print('adata shape after removing all zero columns for celltype cells:', adata.shape)\n",
    "    del adata_celltype, all_zeros\n",
    "\n",
    "    # L1 celltype as labels\n",
    "    label = adata.obs['celltype.l2'].tolist()\n",
    "\n",
    "\n",
    "    ### Read optimal lambda dictionary from json (v3 lambda_decision_new)\n",
    "    with open('/home/jovyan/work/GitHub/EvanPys/Progress/PBMC_Hao/Level2_loss_converge/L2_optimal_lambda.json', 'r') as f:\n",
    "        opt_lambda_dict = json.load(f)\n",
    "    opt_lmbd = opt_lambda_dict[celltype]\n",
    "    print('optimal lambda:', opt_lmbd)\n",
    "\n",
    "    pipeline_feature_selection(adata, celltype, label, opt_lmbd, output_path='/home/jovyan/work/GitHub/EvanPys/Progress/PBMC_Hao/test_without_prevalence')\n",
    "\n",
    "    et = time.time()\n",
    "    print(f'Elapsed time for {celltype}: {(et-st)/60:.2f} minutes')\n"
   ]
  },
  {
   "cell_type": "code",
   "execution_count": 4,
   "metadata": {
    "tags": []
   },
   "outputs": [
    {
     "name": "stdout",
     "output_type": "stream",
     "text": [
      "all cell types: ['ASDC', 'B_intermediate', 'B_memory', 'B_naive', 'CD14_Mono', 'CD16_Mono', 'CD4_CTL', 'CD4_Naive', 'CD4_Proliferating', 'CD4_TCM', 'CD4_TEM', 'CD8_Naive', 'CD8_Proliferating', 'CD8_TCM', 'CD8_TEM', 'Doublet', 'Eryth', 'HSPC', 'ILC', 'MAIT', 'NK', 'NK_CD56bright', 'NK_Proliferating', 'Plasmablast', 'Platelet', 'Treg', 'cDC1', 'cDC2', 'dnT', 'gdT', 'pDC']\n"
     ]
    }
   ],
   "source": [
    "# %% Main code\n",
    "adata = sc.read_h5ad('/home/jovyan/work/Research_datasets/Hao_PBMC_level2_rep_cells.h5ad')\n",
    "label = adata.obs['celltype.l2'].tolist()\n",
    "types = np.unique(label).tolist()\n",
    "print('all cell types:', types)\n"
   ]
  },
  {
   "cell_type": "code",
   "execution_count": 5,
   "metadata": {
    "tags": []
   },
   "outputs": [
    {
     "name": "stdout",
     "output_type": "stream",
     "text": [
      "Original adata: (32340, 20568)\n",
      "adata celltype shape: (15, 20568)\n",
      "adata shape after removing all zero columns for celltype cells: (32340, 9595)\n",
      "optimal lambda: 0.00014677992676220703\n",
      "====================\n",
      "Starting job for ASDC\n",
      "Fitting with optimal lambda: 0.00014677992676220703\n",
      "Convergence with loss threshold\n",
      "Convergence with loss threshold\n",
      "Converge history:`\n",
      "{0: 0.6931473016738892, 100: 0.02825481817126274, 200: 0.013114890083670616}\n",
      "minimum epoch =  247 ; minimum lost =  0.009952339343726635 ; diff weight =  0.0007679003174416721\n",
      "ASDC feature list exported.\n",
      "---Selection result for ASDC\n",
      "Optimal lambda: 0.00014677992676220703\n",
      "    median of selected prevalence: 0.26666666666666666\n",
      "    minimal loss: 0.009952339343726635\n",
      "    minimal weight diff: 0.0007679003174416721\n",
      "    total selected feature: 7757\n",
      "    Time elapsed: 2.0861826380093893\n",
      "\n",
      "Elapsed time for ASDC: 2.13 minutes\n"
     ]
    }
   ],
   "source": [
    "celltype = 'ASDC'\n",
    "run_pipeline_feature_selection(celltype)"
   ]
  },
  {
   "cell_type": "code",
   "execution_count": null,
   "metadata": {},
   "outputs": [],
   "source": []
  }
 ],
 "metadata": {
  "kernelspec": {
   "display_name": "Python 3 (ipykernel)",
   "language": "python",
   "name": "python3"
  },
  "language_info": {
   "codemirror_mode": {
    "name": "ipython",
    "version": 3
   },
   "file_extension": ".py",
   "mimetype": "text/x-python",
   "name": "python",
   "nbconvert_exporter": "python",
   "pygments_lexer": "ipython3",
   "version": "3.9.12"
  }
 },
 "nbformat": 4,
 "nbformat_minor": 4
}

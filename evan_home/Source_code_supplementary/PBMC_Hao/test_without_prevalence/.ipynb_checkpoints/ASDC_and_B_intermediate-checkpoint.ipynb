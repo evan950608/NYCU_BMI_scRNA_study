{
 "cells": [
  {
   "cell_type": "markdown",
   "metadata": {},
   "source": [
    "## Level2 ASDC cells: loss converged (< 1e-2)"
   ]
  },
  {
   "cell_type": "code",
   "execution_count": 1,
   "metadata": {},
   "outputs": [],
   "source": [
    "import numpy as np\n",
    "import matplotlib.pyplot as plt\n",
    "import pandas as pd\n",
    "import time\n",
    "import scipy\n",
    "import sklearn\n",
    "import copy\n",
    "import importlib\n"
   ]
  },
  {
   "cell_type": "code",
   "execution_count": 2,
   "metadata": {},
   "outputs": [
    {
     "name": "stdout",
     "output_type": "stream",
     "text": [
      "(32340, 20568)\n",
      "all cell types: ['ASDC', 'B_intermediate', 'B_memory', 'B_naive', 'CD14_Mono', 'CD16_Mono', 'CD4_CTL', 'CD4_Naive', 'CD4_Proliferating', 'CD4_TCM', 'CD4_TEM', 'CD8_Naive', 'CD8_Proliferating', 'CD8_TCM', 'CD8_TEM', 'Doublet', 'Eryth', 'HSPC', 'ILC', 'MAIT', 'NK', 'NK_CD56bright', 'NK_Proliferating', 'Plasmablast', 'Platelet', 'Treg', 'cDC1', 'cDC2', 'dnT', 'gdT', 'pDC']\n"
     ]
    }
   ],
   "source": [
    "import scanpy as sc\n",
    "# import scvelo as scv\n",
    "\n",
    "# use 20% representative cells\n",
    "adata = sc.read('/Users/evanli/Documents/Research_datasets/PBMC_Hao/Hao_PBMC_level2_rep_cells.h5ad')\n",
    "print(adata.shape)\n",
    "label = adata.obs['celltype.l2'].tolist()\n",
    "types = np.unique(label).tolist()\n",
    "print('all cell types:', types)\n"
   ]
  },
  {
   "cell_type": "code",
   "execution_count": 3,
   "metadata": {},
   "outputs": [
    {
     "name": "stdout",
     "output_type": "stream",
     "text": [
      "adata shape after removing all zero columns for celltype cells: (32340, 9595)\n"
     ]
    }
   ],
   "source": [
    "celltype = 'ASDC'\n",
    "\n",
    "# Binary classification of a celltype\n",
    "celltype_label = [1 if x == celltype else 0 for x in label]\n",
    "# create index for a celltype\n",
    "celltype_indices = [idx for idx, label in enumerate(celltype_label) if label == 1]\n",
    "\n",
    "### Remove the genes whose expression is zero\n",
    "adata = sc.read('/Users/evanli/Documents/Research_datasets/PBMC_Hao/Hao_PBMC_level2_rep_cells.h5ad')  # read again when running a new celltype\n",
    "adata_celltype = adata[adata.obs['celltype.l2'] == celltype]\n",
    "# Remove explicit zeros from the sparse matrix\n",
    "adata_celltype.X.eliminate_zeros()\n",
    "# Find the columns that are all zeros\n",
    "all_zeros = np.where(adata_celltype.X.getnnz(axis=0) == 0)[0]\n",
    "# Remove the columns that are all zeros from the annadata object\n",
    "adata = adata[:, ~adata_celltype.var_names.isin(adata_celltype.var_names[all_zeros])]\n",
    "print('adata shape after removing all zero columns for celltype cells:', adata.shape)\n",
    "del adata_celltype, all_zeros\n",
    "\n",
    "\n",
    "X = adata.X\n",
    "Y = celltype_label"
   ]
  },
  {
   "cell_type": "markdown",
   "metadata": {},
   "source": [
    "## Level2 B_intermediate cells: loss does not converge"
   ]
  },
  {
   "cell_type": "code",
   "execution_count": 4,
   "metadata": {},
   "outputs": [
    {
     "name": "stdout",
     "output_type": "stream",
     "text": [
      "adata shape after removing all zero columns for celltype cells: (32340, 15319)\n"
     ]
    }
   ],
   "source": [
    "celltype = 'B_intermediate'\n",
    "\n",
    "# Binary classification of a celltype\n",
    "celltype_label = [1 if x == celltype else 0 for x in label]\n",
    "# create index for a celltype\n",
    "celltype_indices = [idx for idx, label in enumerate(celltype_label) if label == 1]\n",
    "\n",
    "### Remove the genes whose expression is zero\n",
    "adata = sc.read('/Users/evanli/Documents/Research_datasets/PBMC_Hao/Hao_PBMC_level2_rep_cells.h5ad')  # read again when running a new celltype\n",
    "adata_celltype = adata[adata.obs['celltype.l2'] == celltype]\n",
    "# Remove explicit zeros from the sparse matrix\n",
    "adata_celltype.X.eliminate_zeros()\n",
    "# Find the columns that are all zeros\n",
    "all_zeros = np.where(adata_celltype.X.getnnz(axis=0) == 0)[0]\n",
    "# Remove the columns that are all zeros from the annadata object\n",
    "adata = adata[:, ~adata_celltype.var_names.isin(adata_celltype.var_names[all_zeros])]\n",
    "print('adata shape after removing all zero columns for celltype cells:', adata.shape)\n",
    "del adata_celltype, all_zeros\n",
    "\n",
    "\n",
    "X = adata.X\n",
    "Y = celltype_label"
   ]
  }
 ],
 "metadata": {
  "kernelspec": {
   "display_name": "base",
   "language": "python",
   "name": "python3"
  },
  "language_info": {
   "codemirror_mode": {
    "name": "ipython",
    "version": 3
   },
   "file_extension": ".py",
   "mimetype": "text/x-python",
   "name": "python",
   "nbconvert_exporter": "python",
   "pygments_lexer": "ipython3",
   "version": "3.9.12"
  }
 },
 "nbformat": 4,
 "nbformat_minor": 2
}

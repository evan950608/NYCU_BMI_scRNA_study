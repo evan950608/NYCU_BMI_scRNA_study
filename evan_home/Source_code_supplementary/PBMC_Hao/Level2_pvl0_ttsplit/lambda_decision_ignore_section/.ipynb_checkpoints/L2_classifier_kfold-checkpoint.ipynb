{
 "cells": [
  {
   "cell_type": "code",
   "execution_count": 1,
   "metadata": {
    "tags": []
   },
   "outputs": [],
   "source": [
    "# import os\n",
    "# os.chdir('/Users/evanli/Documents/EvanPys/Progress/')\n",
    "\n",
    "# from ADlasso2 import AD2_w_utils as ad\n",
    "import numpy as np\n",
    "import matplotlib.pyplot as plt\n",
    "import pandas as pd\n",
    "import time\n",
    "import scipy\n",
    "import sklearn\n",
    "import copy\n",
    "import importlib\n"
   ]
  },
  {
   "cell_type": "code",
   "execution_count": 2,
   "metadata": {
    "tags": []
   },
   "outputs": [],
   "source": [
    "from sklearn.linear_model import LogisticRegression\n",
    "from sklearn.model_selection import train_test_split\n",
    "\n",
    "from sklearn.metrics import accuracy_score\n",
    "from sklearn.metrics import precision_score\n",
    "from sklearn.metrics import f1_score\n",
    "from sklearn.metrics import roc_curve, auc\n"
   ]
  },
  {
   "cell_type": "code",
   "execution_count": 5,
   "metadata": {
    "tags": []
   },
   "outputs": [
    {
     "name": "stdout",
     "output_type": "stream",
     "text": [
      "/home/jovyan/work/GitHub/EvanPys/Progress/PBMC_Hao/Level2_pvl0_ttsplit/lambda_decision_ignore_section\n"
     ]
    }
   ],
   "source": [
    "!pwd"
   ]
  },
  {
   "cell_type": "code",
   "execution_count": null,
   "metadata": {},
   "outputs": [],
   "source": [
    "# C:\\Users\\evanlee\\Documents\\Research_datasets\n"
   ]
  },
  {
   "cell_type": "code",
   "execution_count": 8,
   "metadata": {
    "tags": []
   },
   "outputs": [
    {
     "data": {
      "text/plain": [
       "(161764, 20568)"
      ]
     },
     "execution_count": 8,
     "metadata": {},
     "output_type": "execute_result"
    }
   ],
   "source": [
    "import scanpy as sc\n",
    "# import scvelo as scv\n",
    "\n",
    "# data = sc.read('/home/evanlee/PBMC_Hao/Hao_PBMC_level1_rep_cells.h5ad')\n",
    "# data = sc.read('/Users/evanli/Documents/Research_datasets/PBMC_Hao/Hao_PBMC.h5ad')\n",
    "data = sc.read_h5ad('/home/jovyan/work/Research_datasets/Hao_PBMC.h5ad')\n",
    "data.shape"
   ]
  },
  {
   "cell_type": "code",
   "execution_count": 9,
   "metadata": {
    "tags": []
   },
   "outputs": [],
   "source": [
    "# CPM\n",
    "sc.pp.normalize_total(data, target_sum=1e6)\n",
    "\n",
    "# log1p\n",
    "sc.pp.log1p(data)"
   ]
  },
  {
   "cell_type": "code",
   "execution_count": 10,
   "metadata": {
    "tags": []
   },
   "outputs": [
    {
     "data": {
      "text/plain": [
       "['ASDC',\n",
       " 'B_intermediate',\n",
       " 'B_memory',\n",
       " 'B_naive',\n",
       " 'CD14_Mono',\n",
       " 'CD16_Mono',\n",
       " 'CD4_CTL',\n",
       " 'CD4_Naive',\n",
       " 'CD4_Proliferating',\n",
       " 'CD4_TCM',\n",
       " 'CD4_TEM',\n",
       " 'CD8_Naive',\n",
       " 'CD8_Proliferating',\n",
       " 'CD8_TCM',\n",
       " 'CD8_TEM',\n",
       " 'Doublet',\n",
       " 'Eryth',\n",
       " 'HSPC',\n",
       " 'ILC',\n",
       " 'MAIT',\n",
       " 'NK',\n",
       " 'NK_CD56bright',\n",
       " 'NK_Proliferating',\n",
       " 'Plasmablast',\n",
       " 'Platelet',\n",
       " 'Treg',\n",
       " 'cDC1',\n",
       " 'cDC2',\n",
       " 'dnT',\n",
       " 'gdT',\n",
       " 'pDC']"
      ]
     },
     "execution_count": 10,
     "metadata": {},
     "output_type": "execute_result"
    }
   ],
   "source": [
    "data.obs['celltype.l2'] = data.obs['celltype.l2'].str.replace(' ', '_')\n",
    "\n",
    "label = data.obs['celltype.l2'].tolist()\n",
    "types = np.unique(label).tolist()\n",
    "# types = [s.replace(' ', '_') for s in types]\n",
    "types"
   ]
  },
  {
   "cell_type": "code",
   "execution_count": 11,
   "metadata": {
    "tags": []
   },
   "outputs": [
    {
     "name": "stdout",
     "output_type": "stream",
     "text": [
      "ASDC Feature count: 10\n",
      "ASDC Positive feature count: 6\n",
      "------------------\n",
      "B_intermediate Feature count: 11\n",
      "B_intermediate Positive feature count: 8\n",
      "------------------\n",
      "B_memory Feature count: 20\n",
      "B_memory Positive feature count: 12\n",
      "------------------\n",
      "B_naive Feature count: 21\n",
      "B_naive Positive feature count: 12\n",
      "------------------\n",
      "CD14_Mono Feature count: 15\n",
      "CD14_Mono Positive feature count: 7\n",
      "------------------\n",
      "CD16_Mono Feature count: 38\n",
      "CD16_Mono Positive feature count: 20\n",
      "------------------\n",
      "CD4_CTL Feature count: 69\n",
      "CD4_CTL Positive feature count: 17\n",
      "------------------\n",
      "CD4_Naive Feature count: 75\n",
      "CD4_Naive Positive feature count: 35\n",
      "------------------\n",
      "CD4_Proliferating Feature count: 12\n",
      "CD4_Proliferating Positive feature count: 8\n",
      "------------------\n",
      "CD4_TCM Feature count: 57\n",
      "CD4_TCM Positive feature count: 29\n",
      "------------------\n",
      "CD4_TEM Feature count: 20\n",
      "CD4_TEM Positive feature count: 11\n",
      "------------------\n",
      "CD8_Naive Feature count: 38\n",
      "CD8_Naive Positive feature count: 16\n",
      "------------------\n",
      "CD8_Proliferating Feature count: 11\n",
      "CD8_Proliferating Positive feature count: 7\n",
      "------------------\n",
      "CD8_TCM Feature count: 11\n",
      "CD8_TCM Positive feature count: 0\n",
      "------------------\n",
      "CD8_TEM Feature count: 37\n",
      "CD8_TEM Positive feature count: 15\n",
      "------------------\n",
      "Doublet Feature count: 40\n",
      "Doublet Positive feature count: 8\n",
      "------------------\n",
      "Eryth Feature count: 5\n",
      "Eryth Positive feature count: 3\n",
      "------------------\n",
      "HSPC Feature count: 7\n",
      "HSPC Positive feature count: 0\n",
      "------------------\n",
      "ILC Feature count: 8\n",
      "ILC Positive feature count: 4\n",
      "------------------\n",
      "MAIT Feature count: 10\n",
      "MAIT Positive feature count: 5\n",
      "------------------\n",
      "NK Feature count: 27\n",
      "NK Positive feature count: 18\n",
      "------------------\n",
      "NK_CD56bright Feature count: 27\n",
      "NK_CD56bright Positive feature count: 13\n",
      "------------------\n",
      "NK_Proliferating Feature count: 15\n",
      "NK_Proliferating Positive feature count: 6\n",
      "------------------\n",
      "Plasmablast Feature count: 8\n",
      "Plasmablast Positive feature count: 3\n",
      "------------------\n",
      "Platelet Feature count: 6\n",
      "Platelet Positive feature count: 5\n",
      "------------------\n",
      "Treg Feature count: 7\n",
      "Treg Positive feature count: 0\n",
      "------------------\n",
      "cDC1 Feature count: 6\n",
      "cDC1 Positive feature count: 2\n",
      "------------------\n",
      "cDC2 Feature count: 6\n",
      "cDC2 Positive feature count: 3\n",
      "------------------\n",
      "dnT Feature count: 19\n",
      "dnT Positive feature count: 9\n",
      "------------------\n",
      "gdT Feature count: 17\n",
      "gdT Positive feature count: 8\n",
      "------------------\n",
      "pDC Feature count: 16\n",
      "pDC Positive feature count: 10\n",
      "------------------\n"
     ]
    }
   ],
   "source": [
    "import os\n",
    "# os.chdir('/Users/evanli/Documents/EvanPys/Progress/PBMC_Hao/Remove_pvl0_v3_ttsplit/lambda_decision_ignore_section/v3_feature_selection')\n",
    "os.chdir('/home/jovyan/work/GitHub/EvanPys/Progress/PBMC_Hao/Level2_pvl0_ttsplit/lambda_decision_ignore_section/L2_feature_selection')\n",
    "\n",
    "features_dict = {}\n",
    "# Read features for each celltype\n",
    "for celltype in types:\n",
    "    try:\n",
    "        feature_df = pd.read_csv(f'{celltype}_features.txt', names=['Gene', 'Weight', 'Tendency'], sep='\\t')\n",
    "        features_dict[celltype] = feature_df\n",
    "    except:\n",
    "        print('skipping:', celltype)\n",
    "        continue\n",
    "    print(celltype, 'Feature count:', feature_df.shape[0])\n",
    "    print(celltype, 'Positive feature count:', feature_df[feature_df['Tendency'] == 1].shape[0])\n",
    "    print('------------------')"
   ]
  },
  {
   "cell_type": "code",
   "execution_count": 26,
   "metadata": {
    "tags": []
   },
   "outputs": [
    {
     "data": {
      "text/html": [
       "<div>\n",
       "<style scoped>\n",
       "    .dataframe tbody tr th:only-of-type {\n",
       "        vertical-align: middle;\n",
       "    }\n",
       "\n",
       "    .dataframe tbody tr th {\n",
       "        vertical-align: top;\n",
       "    }\n",
       "\n",
       "    .dataframe thead th {\n",
       "        text-align: right;\n",
       "    }\n",
       "</style>\n",
       "<table border=\"1\" class=\"dataframe\">\n",
       "  <thead>\n",
       "    <tr style=\"text-align: right;\">\n",
       "      <th></th>\n",
       "      <th>Gene</th>\n",
       "      <th>Weight</th>\n",
       "      <th>Tendency</th>\n",
       "    </tr>\n",
       "  </thead>\n",
       "  <tbody>\n",
       "    <tr>\n",
       "      <th>0</th>\n",
       "      <td>ENSG00000124766</td>\n",
       "      <td>1.080176</td>\n",
       "      <td>1</td>\n",
       "    </tr>\n",
       "    <tr>\n",
       "      <th>1</th>\n",
       "      <td>ENSG00000204592</td>\n",
       "      <td>-0.177722</td>\n",
       "      <td>0</td>\n",
       "    </tr>\n",
       "    <tr>\n",
       "      <th>2</th>\n",
       "      <td>ENSG00000251562</td>\n",
       "      <td>-3.600542</td>\n",
       "      <td>0</td>\n",
       "    </tr>\n",
       "    <tr>\n",
       "      <th>3</th>\n",
       "      <td>ENSG00000166428</td>\n",
       "      <td>0.349985</td>\n",
       "      <td>1</td>\n",
       "    </tr>\n",
       "    <tr>\n",
       "      <th>4</th>\n",
       "      <td>ENSG00000166710</td>\n",
       "      <td>-0.741758</td>\n",
       "      <td>0</td>\n",
       "    </tr>\n",
       "    <tr>\n",
       "      <th>5</th>\n",
       "      <td>ENSG00000140968</td>\n",
       "      <td>0.266979</td>\n",
       "      <td>1</td>\n",
       "    </tr>\n",
       "    <tr>\n",
       "      <th>6</th>\n",
       "      <td>ENSG00000167641</td>\n",
       "      <td>2.488336</td>\n",
       "      <td>1</td>\n",
       "    </tr>\n",
       "    <tr>\n",
       "      <th>7</th>\n",
       "      <td>ENSG00000167601</td>\n",
       "      <td>1.766170</td>\n",
       "      <td>1</td>\n",
       "    </tr>\n",
       "    <tr>\n",
       "      <th>8</th>\n",
       "      <td>ENSG00000087086</td>\n",
       "      <td>-0.454120</td>\n",
       "      <td>0</td>\n",
       "    </tr>\n",
       "    <tr>\n",
       "      <th>9</th>\n",
       "      <td>ENSG00000239961</td>\n",
       "      <td>2.510959</td>\n",
       "      <td>1</td>\n",
       "    </tr>\n",
       "  </tbody>\n",
       "</table>\n",
       "</div>"
      ],
      "text/plain": [
       "              Gene    Weight  Tendency\n",
       "0  ENSG00000124766  1.080176         1\n",
       "1  ENSG00000204592 -0.177722         0\n",
       "2  ENSG00000251562 -3.600542         0\n",
       "3  ENSG00000166428  0.349985         1\n",
       "4  ENSG00000166710 -0.741758         0\n",
       "5  ENSG00000140968  0.266979         1\n",
       "6  ENSG00000167641  2.488336         1\n",
       "7  ENSG00000167601  1.766170         1\n",
       "8  ENSG00000087086 -0.454120         0\n",
       "9  ENSG00000239961  2.510959         1"
      ]
     },
     "execution_count": 26,
     "metadata": {},
     "output_type": "execute_result"
    }
   ],
   "source": [
    "features_dict['ASDC']"
   ]
  },
  {
   "cell_type": "markdown",
   "metadata": {},
   "source": [
    "### B_memory cells: k-fold CV"
   ]
  },
  {
   "cell_type": "code",
   "execution_count": 12,
   "metadata": {
    "tags": []
   },
   "outputs": [],
   "source": [
    "celltype = 'B_memory'\n",
    "\n",
    "# subset data to celltype features\n",
    "X = data[:, features_dict[celltype]['Gene'].tolist()].X  # 17 features for B cells\n",
    "# Binary label\n",
    "y = [1 if i==celltype else 0 for i in data.obs['celltype.l2'].tolist()]"
   ]
  },
  {
   "cell_type": "code",
   "execution_count": 18,
   "metadata": {
    "tags": []
   },
   "outputs": [
    {
     "name": "stdout",
     "output_type": "stream",
     "text": [
      "(129411, 20)\n",
      "(32353, 20)\n",
      "129411\n",
      "32353\n"
     ]
    }
   ],
   "source": [
    "X_train, X_test, y_train, y_test = train_test_split(X, y, test_size=0.2, random_state=0, stratify=y)\n",
    "\n",
    "print(X_train.shape)\n",
    "print(X_test.shape)\n",
    "print(len(y_train))\n",
    "print(len(y_test))"
   ]
  },
  {
   "cell_type": "code",
   "execution_count": 20,
   "metadata": {
    "tags": []
   },
   "outputs": [],
   "source": [
    "from sklearn.linear_model import LogisticRegression\n",
    "from sklearn.model_selection import cross_val_score, cross_validate, KFold\n",
    "\n",
    "clf = LogisticRegression(penalty='l2', solver='lbfgs', C=1.0, max_iter=1000)\n",
    "clf.fit(X_train, y_train)\n",
    "\n",
    "# Kfold cross validation\n",
    "scoring = {\n",
    "    'accuracy': 'accuracy',\n",
    "    'precision': 'precision',\n",
    "    'f1_score': 'f1',\n",
    "    'roc_auc': 'roc_auc'\n",
    "}\n",
    "\n",
    "cv_results = cross_validate(clf, X, y, cv=5, scoring=scoring)"
   ]
  },
  {
   "cell_type": "code",
   "execution_count": 21,
   "metadata": {
    "tags": []
   },
   "outputs": [
    {
     "data": {
      "text/plain": [
       "{'fit_time': array([1.80093479, 2.39070463, 1.75622129, 1.98795557, 1.68473125]),\n",
       " 'score_time': array([0.04004788, 0.0400753 , 0.04029012, 0.04007363, 0.04023576]),\n",
       " 'test_accuracy': array([0.99443637, 0.99406547, 0.99437456, 0.99422001, 0.99357072]),\n",
       " 'test_precision': array([0.90219224, 0.86614173, 0.87519747, 0.8778135 , 0.86504065]),\n",
       " 'test_f1_score': array([0.856     , 0.85139319, 0.85891473, 0.85379203, 0.83647799]),\n",
       " 'test_roc_auc': array([0.99715865, 0.99854468, 0.9984737 , 0.99844451, 0.99763831])}"
      ]
     },
     "execution_count": 21,
     "metadata": {},
     "output_type": "execute_result"
    }
   ],
   "source": [
    "cv_results"
   ]
  },
  {
   "cell_type": "code",
   "execution_count": 22,
   "metadata": {
    "tags": []
   },
   "outputs": [
    {
     "name": "stdout",
     "output_type": "stream",
     "text": [
      "Accuracy:  0.9941334254673263\n",
      "Precision:  0.8772771205400085\n",
      "F1 Score:  0.8513155859955178\n",
      "ROC AUC:  0.9980519698202871\n"
     ]
    }
   ],
   "source": [
    "print(\"Accuracy: \", np.mean(cv_results['test_accuracy']))\n",
    "print(\"Precision: \", np.mean(cv_results['test_precision']))\n",
    "print(\"F1 Score: \", np.mean(cv_results['test_f1_score']))\n",
    "print(\"ROC AUC: \", np.mean(cv_results['test_roc_auc']))"
   ]
  },
  {
   "cell_type": "code",
   "execution_count": 23,
   "metadata": {
    "tags": []
   },
   "outputs": [
    {
     "name": "stdout",
     "output_type": "stream",
     "text": [
      "Accuracy:  0.9942879784751438\n",
      "Precision:  0.8815116115266571\n",
      "F1 Score:  0.8550958469829857\n",
      "ROC AUC:  0.99812789359771\n"
     ]
    }
   ],
   "source": [
    "# Use KFold()\n",
    "# clf = LogisticRegression(penalty='l2', solver='lbfgs', C=1.0)\n",
    "# clf.fit(X_train, y_train)\n",
    "\n",
    "k = 5\n",
    "kf = KFold(n_splits=k, shuffle=True, random_state=0)\n",
    "\n",
    "# Perform k-fold cross-validation with multiple metrics\n",
    "cross_val_results = cross_validate(clf, X, y, cv=kf, scoring=scoring)\n",
    "\n",
    "print(\"Accuracy: \", np.mean(cross_val_results['test_accuracy']))\n",
    "print(\"Precision: \", np.mean(cross_val_results['test_precision']))\n",
    "print(\"F1 Score: \", np.mean(cross_val_results['test_f1_score']))\n",
    "print(\"ROC AUC: \", np.mean(cross_val_results['test_roc_auc']))"
   ]
  },
  {
   "cell_type": "code",
   "execution_count": 24,
   "metadata": {
    "tags": []
   },
   "outputs": [
    {
     "name": "stdout",
     "output_type": "stream",
     "text": [
      "Accuracy:  0.9943436099606335\n",
      "Precision:  0.8819115140488855\n",
      "F1 Score:  0.8567549553097894\n",
      "ROC AUC:  0.9980903702639672\n"
     ]
    }
   ],
   "source": [
    "from sklearn.model_selection import StratifiedKFold\n",
    "# Use StratifiedKFold()\n",
    "clf = LogisticRegression(penalty='l2', solver='lbfgs', C=1.0, max_iter=1000)\n",
    "clf.fit(X_train, y_train)\n",
    "\n",
    "k = 5\n",
    "skf = StratifiedKFold(n_splits=k, shuffle=True, random_state=0)\n",
    "\n",
    "# Perform k-fold cross-validation with multiple metrics\n",
    "cross_val_results = cross_validate(clf, X, y, cv=skf, scoring=scoring)\n",
    "\n",
    "print(\"Accuracy: \", np.mean(cross_val_results['test_accuracy']))\n",
    "print(\"Precision: \", np.mean(cross_val_results['test_precision']))\n",
    "print(\"F1 Score: \", np.mean(cross_val_results['test_f1_score']))\n",
    "print(\"ROC AUC: \", np.mean(cross_val_results['test_roc_auc']))"
   ]
  },
  {
   "cell_type": "markdown",
   "metadata": {},
   "source": [
    "## K-fold CV for all celltypes (all features)"
   ]
  },
  {
   "cell_type": "code",
   "execution_count": 30,
   "metadata": {
    "tags": []
   },
   "outputs": [],
   "source": [
    "import pickle\n",
    "\n",
    "def LR_kfold(data, all_features_dict, celltype, k=5):\n",
    "    # subset data to celltype features\n",
    "    X = data[:, features_dict[celltype]['Gene'].tolist()].X\n",
    "    # Binary label\n",
    "    y = [1 if i==celltype else 0 for i in data.obs['celltype.l2'].tolist()]\n",
    "\n",
    "    X_train, X_test, y_train, y_test = train_test_split(X, y, test_size=0.2, random_state=0, stratify=y)\n",
    "\n",
    "    clf = LogisticRegression(penalty='l2', solver='lbfgs', C=1.0, max_iter=1000)\n",
    "    clf.fit(X_train, y_train)\n",
    "\n",
    "    # Kfold cross validation\n",
    "    scoring = {\n",
    "        'accuracy': 'accuracy',\n",
    "        'precision': 'precision',\n",
    "        'f1_score': 'f1',\n",
    "        'roc_auc': 'roc_auc'\n",
    "    }\n",
    "    cv_results = cross_validate(clf, X, y, cv=5, scoring=scoring)\n",
    "\n",
    "    mean_accuracy = np.mean(cv_results['test_accuracy'])\n",
    "    mean_precision = np.mean(cv_results['test_precision'])\n",
    "    mean_f1 = np.mean(cv_results['test_f1_score'])\n",
    "    mean_auc = np.mean(cv_results['test_roc_auc'])\n",
    "    mean_metrics = [mean_accuracy, mean_precision, mean_f1, mean_auc]\n",
    "\n",
    "    return clf, mean_metrics"
   ]
  },
  {
   "cell_type": "code",
   "execution_count": 32,
   "metadata": {
    "tags": []
   },
   "outputs": [
    {
     "name": "stdout",
     "output_type": "stream",
     "text": [
      "====================\n",
      "K-fold CV for: ASDC\n",
      "[0.9998392712997873, 0.8873015873015874, 0.8060791826309067, 0.9992565067999266]\n",
      "====================\n",
      "K-fold CV for: B_intermediate\n",
      "[0.9878650359674465, 0.6565977836567098, 0.5049470427679205, 0.9895699048461994]\n",
      "====================\n",
      "K-fold CV for: B_memory\n",
      "[0.9941334254673263, 0.8772771205400085, 0.8513155859955178, 0.9980519698202871]\n",
      "====================\n",
      "K-fold CV for: B_naive\n",
      "[0.9957036136024578, 0.951071906864948, 0.9551664214120674, 0.9994259556205165]\n",
      "====================\n",
      "K-fold CV for: CD14_Mono\n",
      "[0.9872159387864148, 0.9679865158883191, 0.9759819559322842, 0.9983205044519504]\n",
      "====================\n",
      "K-fold CV for: CD16_Mono\n"
     ]
    },
    {
     "name": "stderr",
     "output_type": "stream",
     "text": [
      "/opt/conda/lib/python3.10/site-packages/sklearn/linear_model/_logistic.py:458: ConvergenceWarning: lbfgs failed to converge (status=1):\n",
      "STOP: TOTAL NO. of ITERATIONS REACHED LIMIT.\n",
      "\n",
      "Increase the number of iterations (max_iter) or scale the data as shown in:\n",
      "    https://scikit-learn.org/stable/modules/preprocessing.html\n",
      "Please also refer to the documentation for alternative solver options:\n",
      "    https://scikit-learn.org/stable/modules/linear_model.html#logistic-regression\n",
      "  n_iter_i = _check_optimize_result(\n"
     ]
    },
    {
     "name": "stdout",
     "output_type": "stream",
     "text": [
      "[0.9933792475044164, 0.9040878138740691, 0.9167203535241963, 0.9986895907577467]\n",
      "====================\n",
      "K-fold CV for: CD4_CTL\n"
     ]
    },
    {
     "name": "stderr",
     "output_type": "stream",
     "text": [
      "/opt/conda/lib/python3.10/site-packages/sklearn/linear_model/_logistic.py:458: ConvergenceWarning: lbfgs failed to converge (status=1):\n",
      "STOP: TOTAL NO. of ITERATIONS REACHED LIMIT.\n",
      "\n",
      "Increase the number of iterations (max_iter) or scale the data as shown in:\n",
      "    https://scikit-learn.org/stable/modules/preprocessing.html\n",
      "Please also refer to the documentation for alternative solver options:\n",
      "    https://scikit-learn.org/stable/modules/linear_model.html#logistic-regression\n",
      "  n_iter_i = _check_optimize_result(\n",
      "/opt/conda/lib/python3.10/site-packages/sklearn/linear_model/_logistic.py:458: ConvergenceWarning: lbfgs failed to converge (status=1):\n",
      "STOP: TOTAL NO. of ITERATIONS REACHED LIMIT.\n",
      "\n",
      "Increase the number of iterations (max_iter) or scale the data as shown in:\n",
      "    https://scikit-learn.org/stable/modules/preprocessing.html\n",
      "Please also refer to the documentation for alternative solver options:\n",
      "    https://scikit-learn.org/stable/modules/linear_model.html#logistic-regression\n",
      "  n_iter_i = _check_optimize_result(\n",
      "/opt/conda/lib/python3.10/site-packages/sklearn/linear_model/_logistic.py:458: ConvergenceWarning: lbfgs failed to converge (status=1):\n",
      "STOP: TOTAL NO. of ITERATIONS REACHED LIMIT.\n",
      "\n",
      "Increase the number of iterations (max_iter) or scale the data as shown in:\n",
      "    https://scikit-learn.org/stable/modules/preprocessing.html\n",
      "Please also refer to the documentation for alternative solver options:\n",
      "    https://scikit-learn.org/stable/modules/linear_model.html#logistic-regression\n",
      "  n_iter_i = _check_optimize_result(\n",
      "/opt/conda/lib/python3.10/site-packages/sklearn/linear_model/_logistic.py:458: ConvergenceWarning: lbfgs failed to converge (status=1):\n",
      "STOP: TOTAL NO. of ITERATIONS REACHED LIMIT.\n",
      "\n",
      "Increase the number of iterations (max_iter) or scale the data as shown in:\n",
      "    https://scikit-learn.org/stable/modules/preprocessing.html\n",
      "Please also refer to the documentation for alternative solver options:\n",
      "    https://scikit-learn.org/stable/modules/linear_model.html#logistic-regression\n",
      "  n_iter_i = _check_optimize_result(\n",
      "/opt/conda/lib/python3.10/site-packages/sklearn/linear_model/_logistic.py:458: ConvergenceWarning: lbfgs failed to converge (status=1):\n",
      "STOP: TOTAL NO. of ITERATIONS REACHED LIMIT.\n",
      "\n",
      "Increase the number of iterations (max_iter) or scale the data as shown in:\n",
      "    https://scikit-learn.org/stable/modules/preprocessing.html\n",
      "Please also refer to the documentation for alternative solver options:\n",
      "    https://scikit-learn.org/stable/modules/linear_model.html#logistic-regression\n",
      "  n_iter_i = _check_optimize_result(\n"
     ]
    },
    {
     "name": "stdout",
     "output_type": "stream",
     "text": [
      "[0.9953574331780146, 0.831606928233534, 0.7665567822674508, 0.9963727793594807]\n",
      "====================\n",
      "K-fold CV for: CD4_Naive\n",
      "[0.9518125832973263, 0.7971357607267054, 0.7748814691848062, 0.9800863929894355]\n",
      "====================\n",
      "K-fold CV for: CD4_Proliferating\n",
      "[0.9995178167655558, 0.6792820512820513, 0.6097584157047072, 0.9977136814195322]\n",
      "====================\n",
      "K-fold CV for: CD4_TCM\n"
     ]
    },
    {
     "name": "stderr",
     "output_type": "stream",
     "text": [
      "/opt/conda/lib/python3.10/site-packages/sklearn/linear_model/_logistic.py:458: ConvergenceWarning: lbfgs failed to converge (status=1):\n",
      "STOP: TOTAL NO. of ITERATIONS REACHED LIMIT.\n",
      "\n",
      "Increase the number of iterations (max_iter) or scale the data as shown in:\n",
      "    https://scikit-learn.org/stable/modules/preprocessing.html\n",
      "Please also refer to the documentation for alternative solver options:\n",
      "    https://scikit-learn.org/stable/modules/linear_model.html#logistic-regression\n",
      "  n_iter_i = _check_optimize_result(\n",
      "/opt/conda/lib/python3.10/site-packages/sklearn/linear_model/_logistic.py:458: ConvergenceWarning: lbfgs failed to converge (status=1):\n",
      "STOP: TOTAL NO. of ITERATIONS REACHED LIMIT.\n",
      "\n",
      "Increase the number of iterations (max_iter) or scale the data as shown in:\n",
      "    https://scikit-learn.org/stable/modules/preprocessing.html\n",
      "Please also refer to the documentation for alternative solver options:\n",
      "    https://scikit-learn.org/stable/modules/linear_model.html#logistic-regression\n",
      "  n_iter_i = _check_optimize_result(\n",
      "/opt/conda/lib/python3.10/site-packages/sklearn/linear_model/_logistic.py:458: ConvergenceWarning: lbfgs failed to converge (status=1):\n",
      "STOP: TOTAL NO. of ITERATIONS REACHED LIMIT.\n",
      "\n",
      "Increase the number of iterations (max_iter) or scale the data as shown in:\n",
      "    https://scikit-learn.org/stable/modules/preprocessing.html\n",
      "Please also refer to the documentation for alternative solver options:\n",
      "    https://scikit-learn.org/stable/modules/linear_model.html#logistic-regression\n",
      "  n_iter_i = _check_optimize_result(\n",
      "/opt/conda/lib/python3.10/site-packages/sklearn/linear_model/_logistic.py:458: ConvergenceWarning: lbfgs failed to converge (status=1):\n",
      "STOP: TOTAL NO. of ITERATIONS REACHED LIMIT.\n",
      "\n",
      "Increase the number of iterations (max_iter) or scale the data as shown in:\n",
      "    https://scikit-learn.org/stable/modules/preprocessing.html\n",
      "Please also refer to the documentation for alternative solver options:\n",
      "    https://scikit-learn.org/stable/modules/linear_model.html#logistic-regression\n",
      "  n_iter_i = _check_optimize_result(\n"
     ]
    },
    {
     "name": "stdout",
     "output_type": "stream",
     "text": [
      "[0.9533270851071253, 0.7791794354773925, 0.7340140701811443, 0.9766461943995989]\n",
      "====================\n",
      "K-fold CV for: CD4_TEM\n",
      "[0.9755013452691124, 0.6502243503026032, 0.2621926473476559, 0.9519418472744932]\n",
      "====================\n",
      "K-fold CV for: CD8_Naive\n",
      "[0.9864741387683585, 0.9153239102336899, 0.8965077896554456, 0.9942626147781499]\n",
      "====================\n",
      "K-fold CV for: CD8_Proliferating\n",
      "[0.9995178154279986, 0.5859584859584859, 0.49182567292149837, 0.9981371291286119]\n",
      "====================\n",
      "K-fold CV for: CD8_TCM\n"
     ]
    },
    {
     "name": "stderr",
     "output_type": "stream",
     "text": [
      "/opt/conda/lib/python3.10/site-packages/sklearn/metrics/_classification.py:1344: UndefinedMetricWarning: Precision is ill-defined and being set to 0.0 due to no predicted samples. Use `zero_division` parameter to control this behavior.\n",
      "  _warn_prf(average, modifier, msg_start, len(result))\n",
      "/opt/conda/lib/python3.10/site-packages/sklearn/metrics/_classification.py:1344: UndefinedMetricWarning: Precision is ill-defined and being set to 0.0 due to no predicted samples. Use `zero_division` parameter to control this behavior.\n",
      "  _warn_prf(average, modifier, msg_start, len(result))\n"
     ]
    },
    {
     "name": "stdout",
     "output_type": "stream",
     "text": [
      "[0.982078831612807, 0.0, 0.0, 0.7621729884025376]\n",
      "====================\n",
      "K-fold CV for: CD8_TEM\n"
     ]
    },
    {
     "name": "stderr",
     "output_type": "stream",
     "text": [
      "/opt/conda/lib/python3.10/site-packages/sklearn/linear_model/_logistic.py:458: ConvergenceWarning: lbfgs failed to converge (status=1):\n",
      "STOP: TOTAL NO. of ITERATIONS REACHED LIMIT.\n",
      "\n",
      "Increase the number of iterations (max_iter) or scale the data as shown in:\n",
      "    https://scikit-learn.org/stable/modules/preprocessing.html\n",
      "Please also refer to the documentation for alternative solver options:\n",
      "    https://scikit-learn.org/stable/modules/linear_model.html#logistic-regression\n",
      "  n_iter_i = _check_optimize_result(\n",
      "/opt/conda/lib/python3.10/site-packages/sklearn/linear_model/_logistic.py:458: ConvergenceWarning: lbfgs failed to converge (status=1):\n",
      "STOP: TOTAL NO. of ITERATIONS REACHED LIMIT.\n",
      "\n",
      "Increase the number of iterations (max_iter) or scale the data as shown in:\n",
      "    https://scikit-learn.org/stable/modules/preprocessing.html\n",
      "Please also refer to the documentation for alternative solver options:\n",
      "    https://scikit-learn.org/stable/modules/linear_model.html#logistic-regression\n",
      "  n_iter_i = _check_optimize_result(\n",
      "/opt/conda/lib/python3.10/site-packages/sklearn/linear_model/_logistic.py:458: ConvergenceWarning: lbfgs failed to converge (status=1):\n",
      "STOP: TOTAL NO. of ITERATIONS REACHED LIMIT.\n",
      "\n",
      "Increase the number of iterations (max_iter) or scale the data as shown in:\n",
      "    https://scikit-learn.org/stable/modules/preprocessing.html\n",
      "Please also refer to the documentation for alternative solver options:\n",
      "    https://scikit-learn.org/stable/modules/linear_model.html#logistic-regression\n",
      "  n_iter_i = _check_optimize_result(\n",
      "/opt/conda/lib/python3.10/site-packages/sklearn/linear_model/_logistic.py:458: ConvergenceWarning: lbfgs failed to converge (status=1):\n",
      "STOP: TOTAL NO. of ITERATIONS REACHED LIMIT.\n",
      "\n",
      "Increase the number of iterations (max_iter) or scale the data as shown in:\n",
      "    https://scikit-learn.org/stable/modules/preprocessing.html\n",
      "Please also refer to the documentation for alternative solver options:\n",
      "    https://scikit-learn.org/stable/modules/linear_model.html#logistic-regression\n",
      "  n_iter_i = _check_optimize_result(\n"
     ]
    },
    {
     "name": "stdout",
     "output_type": "stream",
     "text": [
      "[0.9789631892580986, 0.8724900234721892, 0.8514702686800388, 0.9912643991174426]\n",
      "====================\n",
      "K-fold CV for: Doublet\n"
     ]
    },
    {
     "name": "stderr",
     "output_type": "stream",
     "text": [
      "/opt/conda/lib/python3.10/site-packages/sklearn/linear_model/_logistic.py:458: ConvergenceWarning: lbfgs failed to converge (status=1):\n",
      "STOP: TOTAL NO. of ITERATIONS REACHED LIMIT.\n",
      "\n",
      "Increase the number of iterations (max_iter) or scale the data as shown in:\n",
      "    https://scikit-learn.org/stable/modules/preprocessing.html\n",
      "Please also refer to the documentation for alternative solver options:\n",
      "    https://scikit-learn.org/stable/modules/linear_model.html#logistic-regression\n",
      "  n_iter_i = _check_optimize_result(\n"
     ]
    },
    {
     "name": "stdout",
     "output_type": "stream",
     "text": [
      "[0.9966123470572199, 0.7583870967741935, 0.22334239811520645, 0.8922477573279302]\n",
      "====================\n",
      "K-fold CV for: Eryth\n",
      "[0.9998145446452573, 0.882077922077922, 0.8095986562879602, 0.9923702098594998]\n",
      "====================\n",
      "K-fold CV for: HSPC\n",
      "[0.9979909007057806, 0.6376164549304295, 0.23503033797325865, 0.9285996666118697]\n",
      "====================\n",
      "K-fold CV for: ILC\n",
      "[0.9992087239344125, 0.9, 0.07248677248677249, 0.9622832731772843]\n",
      "====================\n",
      "K-fold CV for: MAIT\n",
      "[0.9928785094862457, 0.8177149563995254, 0.7841007064257011, 0.9957774311105754]\n",
      "====================\n",
      "K-fold CV for: NK\n"
     ]
    },
    {
     "name": "stderr",
     "output_type": "stream",
     "text": [
      "/opt/conda/lib/python3.10/site-packages/sklearn/linear_model/_logistic.py:458: ConvergenceWarning: lbfgs failed to converge (status=1):\n",
      "STOP: TOTAL NO. of ITERATIONS REACHED LIMIT.\n",
      "\n",
      "Increase the number of iterations (max_iter) or scale the data as shown in:\n",
      "    https://scikit-learn.org/stable/modules/preprocessing.html\n",
      "Please also refer to the documentation for alternative solver options:\n",
      "    https://scikit-learn.org/stable/modules/linear_model.html#logistic-regression\n",
      "  n_iter_i = _check_optimize_result(\n"
     ]
    },
    {
     "name": "stdout",
     "output_type": "stream",
     "text": [
      "[0.9866657478413433, 0.9309174979344427, 0.9375904959035435, 0.998086709835461]\n",
      "====================\n",
      "K-fold CV for: NK_CD56bright\n",
      "[0.9974963509912582, 0.8232569725783438, 0.7724507099577352, 0.9981547832501685]\n",
      "====================\n",
      "K-fold CV for: NK_Proliferating\n",
      "[0.9985719939977773, 0.8382561049097108, 0.7743965086734972, 0.9975061327800703]\n",
      "====================\n",
      "K-fold CV for: Plasmablast\n",
      "[0.999826907685903, 0.9915481779566286, 0.9602630653738128, 0.9995161517286564]\n",
      "====================\n",
      "K-fold CV for: Platelet\n",
      "[0.9971068937144689, 0.8822002506130604, 0.9003167812237646, 0.9796661254029215]\n",
      "====================\n",
      "K-fold CV for: Treg\n",
      "[0.9840879326267424, 0.0, 0.0, 0.8856568892721783]\n",
      "====================\n",
      "K-fold CV for: cDC1\n",
      "[0.9999196361275926, 0.9580392156862745, 0.9580469511007207, 0.9995604713588246]\n",
      "====================\n",
      "K-fold CV for: cDC2\n",
      "[0.9969956227181467, 0.9102055789054123, 0.9019008419289675, 0.9986758778024105]\n",
      "====================\n",
      "K-fold CV for: dnT\n",
      "[0.9981887179546913, 0.8174720628209, 0.3859226688454012, 0.9609818522633834]\n",
      "====================\n",
      "K-fold CV for: gdT\n",
      "[0.9912526797384063, 0.8375503446142334, 0.7983559926247776, 0.9867379618006558]\n",
      "====================\n",
      "K-fold CV for: pDC\n",
      "[0.9998578176760118, 0.9816605255209907, 0.9867231788569223, 0.9999710717117031]\n"
     ]
    }
   ],
   "source": [
    "import pickle\n",
    "\n",
    "# os.chdir('/Users/evanli/Documents/EvanPys/Progress/PBMC_Hao/Remove_pvl0_v3_ttsplit/lambda_decision_ignore_section/classifiers/Kfold')\n",
    "os.chdir('/home/jovyan/work/GitHub/EvanPys/Progress/PBMC_Hao/Level2_pvl0_ttsplit/lambda_decision_ignore_section/classifiers_all')\n",
    "\n",
    "all_metrics = pd.DataFrame(columns=['Accuracy', 'Precision', 'F1-score', 'ROC-AUC'])\n",
    "for celltype in types:\n",
    "    print('====================')\n",
    "    print('K-fold CV for:', celltype)\n",
    "    clf, metrics = LR_kfold(data, features_dict, celltype, k=5)  # metrics is a list\n",
    "    print(metrics)\n",
    "    all_metrics = pd.concat([all_metrics, pd.DataFrame([metrics], columns=['Accuracy', 'Precision', 'F1-score', 'ROC-AUC'])], axis=0)\n",
    "    \n",
    "    # output LR model as pickle\n",
    "    filename = f'LR_{celltype}_l2.pkl'\n",
    "    with open(filename, 'wb') as f:\n",
    "        pickle.dump(clf, f)\n"
   ]
  },
  {
   "cell_type": "code",
   "execution_count": 33,
   "metadata": {
    "tags": []
   },
   "outputs": [
    {
     "data": {
      "text/html": [
       "<div>\n",
       "<style scoped>\n",
       "    .dataframe tbody tr th:only-of-type {\n",
       "        vertical-align: middle;\n",
       "    }\n",
       "\n",
       "    .dataframe tbody tr th {\n",
       "        vertical-align: top;\n",
       "    }\n",
       "\n",
       "    .dataframe thead th {\n",
       "        text-align: right;\n",
       "    }\n",
       "</style>\n",
       "<table border=\"1\" class=\"dataframe\">\n",
       "  <thead>\n",
       "    <tr style=\"text-align: right;\">\n",
       "      <th></th>\n",
       "      <th>Accuracy</th>\n",
       "      <th>Precision</th>\n",
       "      <th>F1-score</th>\n",
       "      <th>ROC-AUC</th>\n",
       "    </tr>\n",
       "  </thead>\n",
       "  <tbody>\n",
       "    <tr>\n",
       "      <th>ASDC</th>\n",
       "      <td>0.999839</td>\n",
       "      <td>0.887302</td>\n",
       "      <td>0.806079</td>\n",
       "      <td>0.999257</td>\n",
       "    </tr>\n",
       "    <tr>\n",
       "      <th>B_intermediate</th>\n",
       "      <td>0.987865</td>\n",
       "      <td>0.656598</td>\n",
       "      <td>0.504947</td>\n",
       "      <td>0.989570</td>\n",
       "    </tr>\n",
       "    <tr>\n",
       "      <th>B_memory</th>\n",
       "      <td>0.994133</td>\n",
       "      <td>0.877277</td>\n",
       "      <td>0.851316</td>\n",
       "      <td>0.998052</td>\n",
       "    </tr>\n",
       "    <tr>\n",
       "      <th>B_naive</th>\n",
       "      <td>0.995704</td>\n",
       "      <td>0.951072</td>\n",
       "      <td>0.955166</td>\n",
       "      <td>0.999426</td>\n",
       "    </tr>\n",
       "    <tr>\n",
       "      <th>CD14_Mono</th>\n",
       "      <td>0.987216</td>\n",
       "      <td>0.967987</td>\n",
       "      <td>0.975982</td>\n",
       "      <td>0.998321</td>\n",
       "    </tr>\n",
       "    <tr>\n",
       "      <th>CD16_Mono</th>\n",
       "      <td>0.993379</td>\n",
       "      <td>0.904088</td>\n",
       "      <td>0.916720</td>\n",
       "      <td>0.998690</td>\n",
       "    </tr>\n",
       "    <tr>\n",
       "      <th>CD4_CTL</th>\n",
       "      <td>0.995357</td>\n",
       "      <td>0.831607</td>\n",
       "      <td>0.766557</td>\n",
       "      <td>0.996373</td>\n",
       "    </tr>\n",
       "    <tr>\n",
       "      <th>CD4_Naive</th>\n",
       "      <td>0.951813</td>\n",
       "      <td>0.797136</td>\n",
       "      <td>0.774881</td>\n",
       "      <td>0.980086</td>\n",
       "    </tr>\n",
       "    <tr>\n",
       "      <th>CD4_Proliferating</th>\n",
       "      <td>0.999518</td>\n",
       "      <td>0.679282</td>\n",
       "      <td>0.609758</td>\n",
       "      <td>0.997714</td>\n",
       "    </tr>\n",
       "    <tr>\n",
       "      <th>CD4_TCM</th>\n",
       "      <td>0.953327</td>\n",
       "      <td>0.779179</td>\n",
       "      <td>0.734014</td>\n",
       "      <td>0.976646</td>\n",
       "    </tr>\n",
       "    <tr>\n",
       "      <th>CD4_TEM</th>\n",
       "      <td>0.975501</td>\n",
       "      <td>0.650224</td>\n",
       "      <td>0.262193</td>\n",
       "      <td>0.951942</td>\n",
       "    </tr>\n",
       "    <tr>\n",
       "      <th>CD8_Naive</th>\n",
       "      <td>0.986474</td>\n",
       "      <td>0.915324</td>\n",
       "      <td>0.896508</td>\n",
       "      <td>0.994263</td>\n",
       "    </tr>\n",
       "    <tr>\n",
       "      <th>CD8_Proliferating</th>\n",
       "      <td>0.999518</td>\n",
       "      <td>0.585958</td>\n",
       "      <td>0.491826</td>\n",
       "      <td>0.998137</td>\n",
       "    </tr>\n",
       "    <tr>\n",
       "      <th>CD8_TCM</th>\n",
       "      <td>0.982079</td>\n",
       "      <td>0.000000</td>\n",
       "      <td>0.000000</td>\n",
       "      <td>0.762173</td>\n",
       "    </tr>\n",
       "    <tr>\n",
       "      <th>CD8_TEM</th>\n",
       "      <td>0.978963</td>\n",
       "      <td>0.872490</td>\n",
       "      <td>0.851470</td>\n",
       "      <td>0.991264</td>\n",
       "    </tr>\n",
       "    <tr>\n",
       "      <th>Doublet</th>\n",
       "      <td>0.996612</td>\n",
       "      <td>0.758387</td>\n",
       "      <td>0.223342</td>\n",
       "      <td>0.892248</td>\n",
       "    </tr>\n",
       "    <tr>\n",
       "      <th>Eryth</th>\n",
       "      <td>0.999815</td>\n",
       "      <td>0.882078</td>\n",
       "      <td>0.809599</td>\n",
       "      <td>0.992370</td>\n",
       "    </tr>\n",
       "    <tr>\n",
       "      <th>HSPC</th>\n",
       "      <td>0.997991</td>\n",
       "      <td>0.637616</td>\n",
       "      <td>0.235030</td>\n",
       "      <td>0.928600</td>\n",
       "    </tr>\n",
       "    <tr>\n",
       "      <th>ILC</th>\n",
       "      <td>0.999209</td>\n",
       "      <td>0.900000</td>\n",
       "      <td>0.072487</td>\n",
       "      <td>0.962283</td>\n",
       "    </tr>\n",
       "    <tr>\n",
       "      <th>MAIT</th>\n",
       "      <td>0.992879</td>\n",
       "      <td>0.817715</td>\n",
       "      <td>0.784101</td>\n",
       "      <td>0.995777</td>\n",
       "    </tr>\n",
       "    <tr>\n",
       "      <th>NK</th>\n",
       "      <td>0.986666</td>\n",
       "      <td>0.930917</td>\n",
       "      <td>0.937590</td>\n",
       "      <td>0.998087</td>\n",
       "    </tr>\n",
       "    <tr>\n",
       "      <th>NK_CD56bright</th>\n",
       "      <td>0.997496</td>\n",
       "      <td>0.823257</td>\n",
       "      <td>0.772451</td>\n",
       "      <td>0.998155</td>\n",
       "    </tr>\n",
       "    <tr>\n",
       "      <th>NK_Proliferating</th>\n",
       "      <td>0.998572</td>\n",
       "      <td>0.838256</td>\n",
       "      <td>0.774397</td>\n",
       "      <td>0.997506</td>\n",
       "    </tr>\n",
       "    <tr>\n",
       "      <th>Plasmablast</th>\n",
       "      <td>0.999827</td>\n",
       "      <td>0.991548</td>\n",
       "      <td>0.960263</td>\n",
       "      <td>0.999516</td>\n",
       "    </tr>\n",
       "    <tr>\n",
       "      <th>Platelet</th>\n",
       "      <td>0.997107</td>\n",
       "      <td>0.882200</td>\n",
       "      <td>0.900317</td>\n",
       "      <td>0.979666</td>\n",
       "    </tr>\n",
       "    <tr>\n",
       "      <th>Treg</th>\n",
       "      <td>0.984088</td>\n",
       "      <td>0.000000</td>\n",
       "      <td>0.000000</td>\n",
       "      <td>0.885657</td>\n",
       "    </tr>\n",
       "    <tr>\n",
       "      <th>cDC1</th>\n",
       "      <td>0.999920</td>\n",
       "      <td>0.958039</td>\n",
       "      <td>0.958047</td>\n",
       "      <td>0.999560</td>\n",
       "    </tr>\n",
       "    <tr>\n",
       "      <th>cDC2</th>\n",
       "      <td>0.996996</td>\n",
       "      <td>0.910206</td>\n",
       "      <td>0.901901</td>\n",
       "      <td>0.998676</td>\n",
       "    </tr>\n",
       "    <tr>\n",
       "      <th>dnT</th>\n",
       "      <td>0.998189</td>\n",
       "      <td>0.817472</td>\n",
       "      <td>0.385923</td>\n",
       "      <td>0.960982</td>\n",
       "    </tr>\n",
       "    <tr>\n",
       "      <th>gdT</th>\n",
       "      <td>0.991253</td>\n",
       "      <td>0.837550</td>\n",
       "      <td>0.798356</td>\n",
       "      <td>0.986738</td>\n",
       "    </tr>\n",
       "    <tr>\n",
       "      <th>pDC</th>\n",
       "      <td>0.999858</td>\n",
       "      <td>0.981661</td>\n",
       "      <td>0.986723</td>\n",
       "      <td>0.999971</td>\n",
       "    </tr>\n",
       "  </tbody>\n",
       "</table>\n",
       "</div>"
      ],
      "text/plain": [
       "                   Accuracy  Precision  F1-score   ROC-AUC\n",
       "ASDC               0.999839   0.887302  0.806079  0.999257\n",
       "B_intermediate     0.987865   0.656598  0.504947  0.989570\n",
       "B_memory           0.994133   0.877277  0.851316  0.998052\n",
       "B_naive            0.995704   0.951072  0.955166  0.999426\n",
       "CD14_Mono          0.987216   0.967987  0.975982  0.998321\n",
       "CD16_Mono          0.993379   0.904088  0.916720  0.998690\n",
       "CD4_CTL            0.995357   0.831607  0.766557  0.996373\n",
       "CD4_Naive          0.951813   0.797136  0.774881  0.980086\n",
       "CD4_Proliferating  0.999518   0.679282  0.609758  0.997714\n",
       "CD4_TCM            0.953327   0.779179  0.734014  0.976646\n",
       "CD4_TEM            0.975501   0.650224  0.262193  0.951942\n",
       "CD8_Naive          0.986474   0.915324  0.896508  0.994263\n",
       "CD8_Proliferating  0.999518   0.585958  0.491826  0.998137\n",
       "CD8_TCM            0.982079   0.000000  0.000000  0.762173\n",
       "CD8_TEM            0.978963   0.872490  0.851470  0.991264\n",
       "Doublet            0.996612   0.758387  0.223342  0.892248\n",
       "Eryth              0.999815   0.882078  0.809599  0.992370\n",
       "HSPC               0.997991   0.637616  0.235030  0.928600\n",
       "ILC                0.999209   0.900000  0.072487  0.962283\n",
       "MAIT               0.992879   0.817715  0.784101  0.995777\n",
       "NK                 0.986666   0.930917  0.937590  0.998087\n",
       "NK_CD56bright      0.997496   0.823257  0.772451  0.998155\n",
       "NK_Proliferating   0.998572   0.838256  0.774397  0.997506\n",
       "Plasmablast        0.999827   0.991548  0.960263  0.999516\n",
       "Platelet           0.997107   0.882200  0.900317  0.979666\n",
       "Treg               0.984088   0.000000  0.000000  0.885657\n",
       "cDC1               0.999920   0.958039  0.958047  0.999560\n",
       "cDC2               0.996996   0.910206  0.901901  0.998676\n",
       "dnT                0.998189   0.817472  0.385923  0.960982\n",
       "gdT                0.991253   0.837550  0.798356  0.986738\n",
       "pDC                0.999858   0.981661  0.986723  0.999971"
      ]
     },
     "execution_count": 33,
     "metadata": {},
     "output_type": "execute_result"
    }
   ],
   "source": [
    "all_metrics.index = types\n",
    "all_metrics.to_csv('L2_Kfold_metrics.csv')\n",
    "all_metrics"
   ]
  },
  {
   "cell_type": "code",
   "execution_count": 40,
   "metadata": {
    "tags": []
   },
   "outputs": [
    {
     "data": {
      "image/png": "[encoded data removed]",
      "text/plain": [
       "<Figure size 1000x600 with 1 Axes>"
      ]
     },
     "metadata": {},
     "output_type": "display_data"
    },
    {
     "data": {
      "image/png": "[encoded data removed]",
      "text/plain": [
       "<Figure size 1000x600 with 1 Axes>"
      ]
     },
     "metadata": {},
     "output_type": "display_data"
    }
   ],
   "source": [
    "# Plot metrics for each celltype\n",
    "ax = all_metrics[:16].plot.bar(rot=0, figsize=(10, 6), title='One vs. Rest Logistic Regression 5-fold CV (all features)')\n",
    "ax.legend(loc='center left', bbox_to_anchor=(1.0, 0.5))\n",
    "# Rotate x-ticks by 90 degrees\n",
    "plt.xticks(rotation=90)\n",
    "plt.savefig('L2_classifier_Kfold_metrics_1.png', dpi=300, bbox_inches='tight')\n",
    "plt.show()\n",
    "\n",
    "# Plot second part\n",
    "ax = all_metrics[16:].plot.bar(rot=0, figsize=(10, 6), title='One vs. Rest Logistic Regression 5-fold CV (all features)')\n",
    "ax.legend(loc='center left', bbox_to_anchor=(1.0, 0.5))\n",
    "# Rotate x-ticks by 90 degrees\n",
    "plt.xticks(rotation=90)\n",
    "plt.savefig('L2_classifier_Kfold_metrics_2.png', dpi=300, bbox_inches='tight')\n",
    "plt.show()\n"
   ]
  },
  {
   "cell_type": "code",
   "execution_count": null,
   "metadata": {},
   "outputs": [],
   "source": []
  }
 ],
 "metadata": {
  "kernelspec": {
   "display_name": "Python 3 (ipykernel)",
   "language": "python",
   "name": "python3"
  },
  "language_info": {
   "codemirror_mode": {
    "name": "ipython",
    "version": 3
   },
   "file_extension": ".py",
   "mimetype": "text/x-python",
   "name": "python",
   "nbconvert_exporter": "python",
   "pygments_lexer": "ipython3",
   "version": "3.10.10"
  }
 },
 "nbformat": 4,
 "nbformat_minor": 4
}

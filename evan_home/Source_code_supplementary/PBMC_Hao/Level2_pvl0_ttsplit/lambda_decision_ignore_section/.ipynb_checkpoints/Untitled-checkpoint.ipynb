{
 "cells": [
  {
   "cell_type": "code",
   "execution_count": 1,
   "id": "ba6098e7-4fb8-4a07-99f0-ff8379fcb98e",
   "metadata": {
    "tags": []
   },
   "outputs": [
    {
     "name": "stdout",
     "output_type": "stream",
     "text": [
      "Original data shape: (161764, 20568)\n",
      "All cell types: ['ASDC', 'B_intermediate', 'B_memory', 'B_naive', 'CD14_Mono', 'CD16_Mono', 'CD4_CTL', 'CD4_Naive', 'CD4_Proliferating', 'CD4_TCM', 'CD4_TEM', 'CD8_Naive', 'CD8_Proliferating', 'CD8_TCM', 'CD8_TEM', 'Doublet', 'Eryth', 'HSPC', 'ILC', 'MAIT', 'NK', 'NK_CD56bright', 'NK_Proliferating', 'Plasmablast', 'Platelet', 'Treg', 'cDC1', 'cDC2', 'dnT', 'gdT', 'pDC']\n",
      "==================\n",
      "Reading features: ASDC\n",
      "==================\n",
      "Reading features: B_intermediate\n",
      "==================\n",
      "Reading features: B_memory\n",
      "==================\n",
      "Reading features: B_naive\n",
      "==================\n",
      "Reading features: CD14_Mono\n",
      "==================\n",
      "Reading features: CD16_Mono\n",
      "==================\n",
      "Reading features: CD4_CTL\n",
      "==================\n",
      "Reading features: CD4_Naive\n",
      "==================\n",
      "Reading features: CD4_Proliferating\n",
      "==================\n",
      "Reading features: CD4_TCM\n",
      "==================\n",
      "Reading features: CD4_TEM\n",
      "==================\n",
      "Reading features: CD8_Naive\n",
      "==================\n",
      "Reading features: CD8_Proliferating\n",
      "==================\n",
      "Reading features: CD8_TCM\n",
      "==================\n",
      "Reading features: CD8_TEM\n",
      "==================\n",
      "Reading features: Doublet\n",
      "==================\n",
      "Reading features: Eryth\n",
      "==================\n",
      "Reading features: HSPC\n",
      "==================\n",
      "Reading features: ILC\n",
      "==================\n",
      "Reading features: MAIT\n",
      "==================\n",
      "Reading features: NK\n",
      "==================\n",
      "Reading features: NK_CD56bright\n",
      "==================\n",
      "Reading features: NK_Proliferating\n",
      "==================\n",
      "Reading features: Plasmablast\n",
      "==================\n",
      "Reading features: Platelet\n",
      "==================\n",
      "Reading features: Treg\n",
      "==================\n",
      "Reading features: cDC1\n",
      "==================\n",
      "Reading features: cDC2\n",
      "==================\n",
      "Reading features: dnT\n",
      "==================\n",
      "Reading features: gdT\n",
      "==================\n",
      "Reading features: pDC\n"
     ]
    }
   ],
   "source": [
    "#%%\n",
    "import numpy as np\n",
    "import pandas as pd\n",
    "import matplotlib.pyplot as plt\n",
    "\n",
    "from sklearn.linear_model import LogisticRegression\n",
    "from sklearn.model_selection import train_test_split\n",
    "from sklearn.model_selection import StratifiedKFold\n",
    "from sklearn.model_selection import cross_validate, cross_val_score, KFold\n",
    "from sklearn.metrics import roc_auc_score, roc_curve, auc, precision_score, f1_score, accuracy_score\n",
    "\n",
    "import os\n",
    "import scanpy as sc\n",
    "\n",
    "#%% Load data\n",
    "data = sc.read_h5ad('/home/jovyan/work/Research_datasets/Hao_PBMC.h5ad')\n",
    "print('Original data shape:', data.shape)\n",
    "\n",
    "# CPM\n",
    "sc.pp.normalize_total(data, target_sum=1e6)\n",
    "# log1p\n",
    "sc.pp.log1p(data)\n",
    "\n",
    "data.obs['celltype.l2'] = data.obs['celltype.l2'].str.replace(' ', '_')\n",
    "label = data.obs['celltype.l2'].tolist()\n",
    "types = np.unique(label).tolist()\n",
    "# types = [s.replace(' ', '_') for s in types]\n",
    "print('All cell types:', types)\n",
    "\n",
    "\n",
    "#%% Read feature dict\n",
    "os.chdir('/home/jovyan/work/GitHub/EvanPys/Progress/PBMC_Hao/Level2_pvl0_ttsplit/lambda_decision_ignore_section/L2_feature_selection')\n",
    "\n",
    "features_dict = {}\n",
    "# Read features for each celltype\n",
    "for celltype in types:\n",
    "    try:\n",
    "        print('==================')\n",
    "        print('Reading features:', celltype)\n",
    "        feature_df = pd.read_csv(f'{celltype}_features.txt', names=['Gene', 'Weight', 'Tendency'], sep='\\t')\n",
    "        features_dict[celltype] = feature_df\n",
    "    except:\n",
    "        print('skipping:', celltype)\n",
    "        continue\n",
    "    # print(celltype, 'Feature count:', feature_df.shape[0])\n",
    "    # print(celltype, 'Positive feature count:', feature_df[feature_df['Tendency'] == 1].shape[0])\n",
    "    # print('------------------')\n"
   ]
  },
  {
   "cell_type": "code",
   "execution_count": 2,
   "id": "619f8086-d390-4e20-848e-77a06fa40dc9",
   "metadata": {
    "tags": []
   },
   "outputs": [
    {
     "data": {
      "text/html": [
       "<div>\n",
       "<style scoped>\n",
       "    .dataframe tbody tr th:only-of-type {\n",
       "        vertical-align: middle;\n",
       "    }\n",
       "\n",
       "    .dataframe tbody tr th {\n",
       "        vertical-align: top;\n",
       "    }\n",
       "\n",
       "    .dataframe thead th {\n",
       "        text-align: right;\n",
       "    }\n",
       "</style>\n",
       "<table border=\"1\" class=\"dataframe\">\n",
       "  <thead>\n",
       "    <tr style=\"text-align: right;\">\n",
       "      <th></th>\n",
       "      <th>Gene</th>\n",
       "      <th>Weight</th>\n",
       "      <th>Tendency</th>\n",
       "    </tr>\n",
       "  </thead>\n",
       "  <tbody>\n",
       "    <tr>\n",
       "      <th>0</th>\n",
       "      <td>ENSG00000145425</td>\n",
       "      <td>-0.000267</td>\n",
       "      <td>0</td>\n",
       "    </tr>\n",
       "    <tr>\n",
       "      <th>1</th>\n",
       "      <td>ENSG00000075624</td>\n",
       "      <td>-0.064940</td>\n",
       "      <td>0</td>\n",
       "    </tr>\n",
       "    <tr>\n",
       "      <th>2</th>\n",
       "      <td>ENSG00000205542</td>\n",
       "      <td>-0.073277</td>\n",
       "      <td>0</td>\n",
       "    </tr>\n",
       "    <tr>\n",
       "      <th>3</th>\n",
       "      <td>ENSG00000167996</td>\n",
       "      <td>-0.151998</td>\n",
       "      <td>0</td>\n",
       "    </tr>\n",
       "    <tr>\n",
       "      <th>4</th>\n",
       "      <td>ENSG00000251562</td>\n",
       "      <td>-1.111446</td>\n",
       "      <td>0</td>\n",
       "    </tr>\n",
       "    <tr>\n",
       "      <th>5</th>\n",
       "      <td>ENSG00000166710</td>\n",
       "      <td>-0.077830</td>\n",
       "      <td>0</td>\n",
       "    </tr>\n",
       "    <tr>\n",
       "      <th>6</th>\n",
       "      <td>ENSG00000087086</td>\n",
       "      <td>-0.168890</td>\n",
       "      <td>0</td>\n",
       "    </tr>\n",
       "    <tr>\n",
       "      <th>7</th>\n",
       "      <td>ENSG00000198804</td>\n",
       "      <td>-0.240188</td>\n",
       "      <td>0</td>\n",
       "    </tr>\n",
       "    <tr>\n",
       "      <th>8</th>\n",
       "      <td>ENSG00000198712</td>\n",
       "      <td>-0.133361</td>\n",
       "      <td>0</td>\n",
       "    </tr>\n",
       "    <tr>\n",
       "      <th>9</th>\n",
       "      <td>ENSG00000198899</td>\n",
       "      <td>-0.074783</td>\n",
       "      <td>0</td>\n",
       "    </tr>\n",
       "    <tr>\n",
       "      <th>10</th>\n",
       "      <td>ENSG00000198938</td>\n",
       "      <td>-0.077944</td>\n",
       "      <td>0</td>\n",
       "    </tr>\n",
       "  </tbody>\n",
       "</table>\n",
       "</div>"
      ],
      "text/plain": [
       "               Gene    Weight  Tendency\n",
       "0   ENSG00000145425 -0.000267         0\n",
       "1   ENSG00000075624 -0.064940         0\n",
       "2   ENSG00000205542 -0.073277         0\n",
       "3   ENSG00000167996 -0.151998         0\n",
       "4   ENSG00000251562 -1.111446         0\n",
       "5   ENSG00000166710 -0.077830         0\n",
       "6   ENSG00000087086 -0.168890         0\n",
       "7   ENSG00000198804 -0.240188         0\n",
       "8   ENSG00000198712 -0.133361         0\n",
       "9   ENSG00000198899 -0.074783         0\n",
       "10  ENSG00000198938 -0.077944         0"
      ]
     },
     "execution_count": 2,
     "metadata": {},
     "output_type": "execute_result"
    }
   ],
   "source": [
    "features_dict['CD8_TCM']"
   ]
  },
  {
   "cell_type": "code",
   "execution_count": 5,
   "id": "5cb03163-2896-46b5-b9b7-58a533ac8060",
   "metadata": {
    "tags": []
   },
   "outputs": [],
   "source": [
    "positive = features_dict['CD8_TCM'][features_dict['CD8_TCM']['Tendency'] == 1]['Gene'].tolist()\n",
    "X = data[:, positive].X"
   ]
  },
  {
   "cell_type": "code",
   "execution_count": 6,
   "id": "a01186f9-b37f-409e-853c-4ed5ddb5e62c",
   "metadata": {
    "tags": []
   },
   "outputs": [
    {
     "data": {
      "text/plain": [
       "<161764x0 sparse matrix of type '<class 'numpy.float32'>'\n",
       "\twith 0 stored elements in Compressed Sparse Row format>"
      ]
     },
     "execution_count": 6,
     "metadata": {},
     "output_type": "execute_result"
    }
   ],
   "source": [
    "X"
   ]
  },
  {
   "cell_type": "code",
   "execution_count": 9,
   "id": "4da133ee-fa45-4afd-b31e-856e664ff79a",
   "metadata": {
    "tags": []
   },
   "outputs": [
    {
     "data": {
      "text/plain": [
       "0"
      ]
     },
     "execution_count": 9,
     "metadata": {},
     "output_type": "execute_result"
    }
   ],
   "source": [
    "X.shape[1]"
   ]
  },
  {
   "cell_type": "code",
   "execution_count": 10,
   "id": "181bc93d-7371-4d0b-b597-6144ba1b3744",
   "metadata": {
    "tags": []
   },
   "outputs": [
    {
     "ename": "TypeError",
     "evalue": "sparse matrix length is ambiguous; use getnnz() or shape[0]",
     "output_type": "error",
     "traceback": [
      "\u001b[0;31m---------------------------------------------------------------------------\u001b[0m",
      "\u001b[0;31mTypeError\u001b[0m                                 Traceback (most recent call last)",
      "Cell \u001b[0;32mIn[10], line 1\u001b[0m\n\u001b[0;32m----> 1\u001b[0m \u001b[38;5;28;43mlen\u001b[39;49m\u001b[43m(\u001b[49m\u001b[43mX\u001b[49m\u001b[43m)\u001b[49m\n",
      "File \u001b[0;32m/opt/conda/lib/python3.10/site-packages/scipy/sparse/_base.py:345\u001b[0m, in \u001b[0;36mspmatrix.__len__\u001b[0;34m(self)\u001b[0m\n\u001b[1;32m    344\u001b[0m \u001b[38;5;28;01mdef\u001b[39;00m \u001b[38;5;21m__len__\u001b[39m(\u001b[38;5;28mself\u001b[39m):\n\u001b[0;32m--> 345\u001b[0m     \u001b[38;5;28;01mraise\u001b[39;00m \u001b[38;5;167;01mTypeError\u001b[39;00m(\u001b[38;5;124m\"\u001b[39m\u001b[38;5;124msparse matrix length is ambiguous; use getnnz()\u001b[39m\u001b[38;5;124m\"\u001b[39m\n\u001b[1;32m    346\u001b[0m                     \u001b[38;5;124m\"\u001b[39m\u001b[38;5;124m or shape[0]\u001b[39m\u001b[38;5;124m\"\u001b[39m)\n",
      "\u001b[0;31mTypeError\u001b[0m: sparse matrix length is ambiguous; use getnnz() or shape[0]"
     ]
    }
   ],
   "source": [
    "len(X)"
   ]
  }
 ],
 "metadata": {
  "kernelspec": {
   "display_name": "Python 3 (ipykernel)",
   "language": "python",
   "name": "python3"
  },
  "language_info": {
   "codemirror_mode": {
    "name": "ipython",
    "version": 3
   },
   "file_extension": ".py",
   "mimetype": "text/x-python",
   "name": "python",
   "nbconvert_exporter": "python",
   "pygments_lexer": "ipython3",
   "version": "3.10.10"
  }
 },
 "nbformat": 4,
 "nbformat_minor": 5
}

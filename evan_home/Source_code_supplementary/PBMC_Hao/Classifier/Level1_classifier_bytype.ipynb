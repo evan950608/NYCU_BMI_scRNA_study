{
 "cells": [
  {
   "cell_type": "code",
   "execution_count": 23,
   "metadata": {},
   "outputs": [],
   "source": [
    "# import os\n",
    "# os.chdir('/Users/evanli/Documents/EvanPys/Progress/')\n",
    "\n",
    "# from ADlasso2 import AD2_w_utils as ad\n",
    "import numpy as np\n",
    "import matplotlib.pyplot as plt\n",
    "import pandas as pd\n",
    "import time\n",
    "import scipy\n",
    "import sklearn\n",
    "import copy\n",
    "import importlib\n"
   ]
  },
  {
   "cell_type": "code",
   "execution_count": 24,
   "metadata": {},
   "outputs": [],
   "source": [
    "from sklearn.linear_model import LogisticRegression\n",
    "from sklearn.model_selection import train_test_split\n",
    "from sklearn.preprocessing import StandardScaler\n",
    "\n",
    "from sklearn.metrics import accuracy_score\n",
    "from sklearn.metrics import precision_score\n",
    "from sklearn.metrics import f1_score\n"
   ]
  },
  {
   "cell_type": "code",
   "execution_count": 25,
   "metadata": {},
   "outputs": [
    {
     "data": {
      "text/plain": [
       "(161764, 20568)"
      ]
     },
     "execution_count": 25,
     "metadata": {},
     "output_type": "execute_result"
    }
   ],
   "source": [
    "import scanpy as sc\n",
    "import scvelo as scv\n",
    "\n",
    "# data = sc.read('/home/evanlee/PBMC_Hao/Hao_PBMC_level1_rep_cells.h5ad')\n",
    "data = sc.read('/Users/evanli/Documents/Research_datasets/PBMC_Hao/Hao_PBMC.h5ad')\n",
    "data.shape"
   ]
  },
  {
   "cell_type": "code",
   "execution_count": 26,
   "metadata": {},
   "outputs": [
    {
     "data": {
      "text/plain": [
       "(161764, 20568)"
      ]
     },
     "execution_count": 26,
     "metadata": {},
     "output_type": "execute_result"
    }
   ],
   "source": [
    "data.shape"
   ]
  },
  {
   "cell_type": "code",
   "execution_count": 27,
   "metadata": {},
   "outputs": [],
   "source": [
    "# CPM\n",
    "sc.pp.normalize_total(data, target_sum=1e6)\n",
    "\n",
    "# log1p\n",
    "sc.pp.log1p(data)"
   ]
  },
  {
   "cell_type": "code",
   "execution_count": 28,
   "metadata": {},
   "outputs": [
    {
     "data": {
      "text/plain": [
       "['B', 'CD4 T', 'CD8 T', 'DC', 'Mono', 'NK', 'other', 'other T']"
      ]
     },
     "execution_count": 28,
     "metadata": {},
     "output_type": "execute_result"
    }
   ],
   "source": [
    "label = data.obs['celltype.l1'].tolist()\n",
    "types = np.unique(label).tolist()\n",
    "types"
   ]
  },
  {
   "cell_type": "code",
   "execution_count": 29,
   "metadata": {},
   "outputs": [
    {
     "name": "stdout",
     "output_type": "stream",
     "text": [
      "/Users/evanli/Documents/EvanPys/Progress/PBMC_Hao/Level_1_alpha0.01/Level1_result\n"
     ]
    }
   ],
   "source": [
    "!pwd"
   ]
  },
  {
   "cell_type": "code",
   "execution_count": 30,
   "metadata": {},
   "outputs": [
    {
     "name": "stdout",
     "output_type": "stream",
     "text": [
      "B Feature count: 17\n",
      "B Positive feature count: 9\n",
      "------------------\n",
      "CD4 T Feature count: 1786\n",
      "CD4 T Positive feature count: 36\n",
      "------------------\n",
      "CD8 T Feature count: 26\n",
      "CD8 T Positive feature count: 9\n",
      "------------------\n",
      "DC Feature count: 1\n",
      "DC Positive feature count: 0\n",
      "------------------\n",
      "Mono Feature count: 22\n",
      "Mono Positive feature count: 14\n",
      "------------------\n",
      "NK Feature count: 27\n",
      "NK Positive feature count: 15\n",
      "------------------\n",
      "other Feature count: 1\n",
      "other Positive feature count: 0\n",
      "------------------\n",
      "other T Feature count: 2\n",
      "other T Positive feature count: 0\n",
      "------------------\n"
     ]
    }
   ],
   "source": [
    "import os\n",
    "os.chdir('/Users/evanli/Documents/EvanPys/Progress/PBMC_Hao/Level_1_alpha0.01/Level1_result')\n",
    "\n",
    "features_dict = {}\n",
    "# Read features for each celltype\n",
    "for celltype in types:\n",
    "    try:\n",
    "        feature_df = pd.read_csv(f'./{celltype}/{celltype}_features.txt', names=['Gene', 'Weight', 'Tendency'], sep='\\t')\n",
    "        features_dict[celltype] = feature_df\n",
    "    except:\n",
    "        print('skipping:', celltype)\n",
    "        continue\n",
    "    print(celltype, 'Feature count:', feature_df.shape[0])\n",
    "    print(celltype, 'Positive feature count:', feature_df[feature_df['Tendency'] == 1].shape[0])\n",
    "    print('------------------')"
   ]
  },
  {
   "cell_type": "code",
   "execution_count": 31,
   "metadata": {},
   "outputs": [
    {
     "data": {
      "text/plain": [
       "dict_keys(['B', 'CD4 T', 'CD8 T', 'DC', 'Mono', 'NK', 'other', 'other T'])"
      ]
     },
     "execution_count": 31,
     "metadata": {},
     "output_type": "execute_result"
    }
   ],
   "source": [
    "features_dict.keys()"
   ]
  },
  {
   "cell_type": "markdown",
   "metadata": {},
   "source": [
    "## LR model for each celltype (e.g. B cells)"
   ]
  },
  {
   "cell_type": "code",
   "execution_count": 39,
   "metadata": {},
   "outputs": [],
   "source": [
    "celltype = 'B'\n",
    "\n",
    "# subset data to celltype features\n",
    "X = data[:, features_dict[celltype]['Gene'].tolist()].X  # 17 features for B cells\n",
    "# Binary label\n",
    "y = [1 if i==celltype else 0 for i in data.obs['celltype.l1'].tolist()]"
   ]
  },
  {
   "cell_type": "code",
   "execution_count": 27,
   "metadata": {},
   "outputs": [
    {
     "name": "stdout",
     "output_type": "stream",
     "text": [
      "(129411, 17)\n",
      "(32353, 17)\n",
      "129411\n",
      "32353\n"
     ]
    }
   ],
   "source": [
    "X_train, X_test, y_train, y_test = train_test_split(X, y, test_size=0.2, random_state=0, stratify=y)\n",
    "\n",
    "print(X_train.shape)\n",
    "print(X_test.shape)\n",
    "print(len(y_train))\n",
    "print(len(y_test))"
   ]
  },
  {
   "cell_type": "code",
   "execution_count": 28,
   "metadata": {},
   "outputs": [
    {
     "data": {
      "text/plain": [
       "LogisticRegression()"
      ]
     },
     "execution_count": 28,
     "metadata": {},
     "output_type": "execute_result"
    }
   ],
   "source": [
    "clf = LogisticRegression(penalty='l2', solver='lbfgs', C=1.0)\n",
    "clf.fit(X_train, y_train)"
   ]
  },
  {
   "cell_type": "code",
   "execution_count": 29,
   "metadata": {},
   "outputs": [
    {
     "name": "stdout",
     "output_type": "stream",
     "text": [
      "Accuracy: 99.91%\n",
      "Precision: 99.46%\n",
      "F1: 99.49%\n"
     ]
    }
   ],
   "source": [
    "y_pred = clf.predict(X_test)\n",
    "\n",
    "accuracy = accuracy_score(y_test, y_pred)\n",
    "print(\"Accuracy: {:.2f}%\".format(accuracy * 100))\n",
    "precision = precision_score(y_test, y_pred)  # average='macro'\n",
    "print(\"Precision: {:.2f}%\".format(precision * 100))\n",
    "f1 = f1_score(y_test, y_pred)\n",
    "print(\"F1: {:.2f}%\".format(f1 * 100))"
   ]
  },
  {
   "cell_type": "code",
   "execution_count": 30,
   "metadata": {},
   "outputs": [
    {
     "data": {
      "text/plain": [
       "array([[-0.16309671,  0.34545244, -0.26263518,  0.34050093,  0.3282183 ,\n",
       "         0.33953807, -0.09215408,  0.28160108,  0.52394131,  0.04041433,\n",
       "         3.26845003, -0.29433993,  0.11375673,  0.43580387, -0.17845087,\n",
       "         0.6867258 ,  0.3060501 ]])"
      ]
     },
     "execution_count": 30,
     "metadata": {},
     "output_type": "execute_result"
    }
   ],
   "source": [
    "clf.coef_"
   ]
  },
  {
   "cell_type": "markdown",
   "metadata": {},
   "source": [
    "### B cells: learning curve"
   ]
  },
  {
   "cell_type": "code",
   "execution_count": null,
   "metadata": {},
   "outputs": [],
   "source": [
    "celltype = 'B'\n",
    "\n",
    "# subset data to celltype features\n",
    "X = data[:, features_dict[celltype]['Gene'].tolist()].X  # 17 features for B cells\n",
    "# Binary label\n",
    "y = [1 if i==celltype else 0 for i in data.obs['celltype.l1'].tolist()]"
   ]
  },
  {
   "cell_type": "code",
   "execution_count": 46,
   "metadata": {},
   "outputs": [
    {
     "name": "stdout",
     "output_type": "stream",
     "text": [
      "[16176, 32352, 64705, 97058, 129411]\n"
     ]
    }
   ],
   "source": [
    "from sklearn.model_selection import learning_curve\n",
    "\n",
    "train_sizes = [int(161764*i) for i in [0.1, 0.2, 0.4, 0.6, 0.8]]\n",
    "print(train_sizes)\n",
    "\n",
    "train_sizes, train_scores, validation_scores = learning_curve(\n",
    "    estimator = LogisticRegression(penalty='l2', solver='lbfgs', C=1.0),\n",
    "    X = X, y = y, \n",
    "    train_sizes = train_sizes, cv = 5,\n",
    "    scoring = 'neg_mean_squared_error', \n",
    "    shuffle=True)\n"
   ]
  },
  {
   "cell_type": "code",
   "execution_count": 47,
   "metadata": {},
   "outputs": [
    {
     "name": "stdout",
     "output_type": "stream",
     "text": [
      "Train sizes:  [ 16176  32352  64705  97058 129411]\n",
      "Training scores:\n",
      "\n",
      " [[-0.00098912 -0.00080366 -0.00043274 -0.00098912 -0.00098912]\n",
      " [-0.00108185 -0.00068002 -0.00049456 -0.00111276 -0.00086548]\n",
      " [-0.00092729 -0.00077274 -0.00077274 -0.00088092 -0.00095819]\n",
      " [-0.00075213 -0.0006594  -0.00084486 -0.00083455 -0.00085516]\n",
      " [-0.00078819 -0.00070319 -0.00083455 -0.00089637 -0.00089637]]\n",
      "Validation scores:\n",
      "\n",
      " [[-0.00148363 -0.00173091 -0.00098909 -0.00095818 -0.00074184]\n",
      " [-0.00114363 -0.00139091 -0.00086545 -0.00058727 -0.00071093]\n",
      " [-0.00120545 -0.00132909 -0.00080363 -0.00058727 -0.0006182 ]\n",
      " [-0.00136    -0.00123636 -0.00074182 -0.00071091 -0.00068002]\n",
      " [-0.00117454 -0.00123636 -0.00074182 -0.00068    -0.00058729]]\n"
     ]
    }
   ],
   "source": [
    "print('Train sizes: ', train_sizes)\n",
    "print('Training scores:\\n\\n', train_scores)\n",
    "print('Validation scores:\\n\\n', validation_scores)"
   ]
  },
  {
   "cell_type": "code",
   "execution_count": 48,
   "metadata": {},
   "outputs": [
    {
     "name": "stdout",
     "output_type": "stream",
     "text": [
      "[0.00084075 0.00084693 0.00086238 0.00078922 0.00082373]\n",
      "\n",
      "[0.00118073 0.00093964 0.00090873 0.00094582 0.000884  ]\n"
     ]
    }
   ],
   "source": [
    "# mean value of each row\n",
    "train_scores_mean = -train_scores.mean(axis = 1)\n",
    "validation_scores_mean = -validation_scores.mean(axis = 1)\n",
    "print(train_scores_mean)\n",
    "print()\n",
    "print(validation_scores_mean)"
   ]
  },
  {
   "cell_type": "code",
   "execution_count": 51,
   "metadata": {},
   "outputs": [
    {
     "data": {
      "text/plain": [
       "<matplotlib.legend.Legend at 0x17e0dc5e0>"
      ]
     },
     "execution_count": 51,
     "metadata": {},
     "output_type": "execute_result"
    },
    {
     "data": {
      "image/png": "[encoded data removed]",
      "text/plain": [
       "<Figure size 800x550 with 1 Axes>"
      ]
     },
     "metadata": {},
     "output_type": "display_data"
    }
   ],
   "source": [
    "# Plot the learning curve\n",
    "import matplotlib.pyplot as plt\n",
    "\n",
    "plt.style.use('seaborn')\n",
    "plt.plot(train_sizes, train_scores_mean, label = 'Training error')\n",
    "plt.plot(train_sizes, validation_scores_mean, label = 'Validation error')\n",
    "plt.ylabel('MSE', fontsize = 14)\n",
    "plt.xlabel('Training set size', fontsize = 14)\n",
    "plt.title('Learning curves for B_cell logistic regression model', fontsize = 18, y = 1.03)\n",
    "plt.legend()"
   ]
  },
  {
   "cell_type": "markdown",
   "metadata": {},
   "source": [
    "### B cells: k-fold CV"
   ]
  },
  {
   "cell_type": "code",
   "execution_count": 10,
   "metadata": {},
   "outputs": [],
   "source": [
    "celltype = 'B'\n",
    "\n",
    "# subset data to celltype features\n",
    "X = data[:, features_dict[celltype]['Gene'].tolist()].X  # 17 features for B cells\n",
    "# Binary label\n",
    "y = [1 if i==celltype else 0 for i in data.obs['celltype.l1'].tolist()]"
   ]
  },
  {
   "cell_type": "code",
   "execution_count": 14,
   "metadata": {},
   "outputs": [],
   "source": [
    "from sklearn.linear_model import LogisticRegression\n",
    "from sklearn.model_selection import cross_val_score, cross_validate, KFold\n",
    "\n",
    "clf = LogisticRegression(penalty='l2', solver='lbfgs', C=1.0)\n",
    "# clf.fit(X_train, y_train)\n",
    "\n",
    "# KFold cross validation\n",
    "k = 5\n",
    "kf = KFold(n_splits=k, shuffle=True, random_state=0)\n",
    "\n",
    "cross_val_results = cross_val_score(clf, X, y, cv=kf, scoring='accuracy')"
   ]
  },
  {
   "cell_type": "code",
   "execution_count": 13,
   "metadata": {},
   "outputs": [
    {
     "name": "stdout",
     "output_type": "stream",
     "text": [
      "Fold 1: Accuracy = 0.999010910889253\n",
      "Fold 2: Accuracy = 0.9992272741322289\n",
      "Fold 3: Accuracy = 0.9990418199239638\n",
      "Fold 4: Accuracy = 0.9992272741322289\n",
      "Fold 5: Accuracy = 0.9991963402571711\n",
      "Mean Accuracy: 0.9991\n"
     ]
    }
   ],
   "source": [
    "# Print the accuracy for each fold\n",
    "for i, acc in enumerate(cross_val_results):\n",
    "    print(f\"Fold {i+1}: Accuracy = {acc}\")\n",
    "\n",
    "# Calculate and print the mean accuracy across all folds\n",
    "mean_accuracy = np.mean(cross_val_results)\n",
    "print(f\"Mean Accuracy: {mean_accuracy:.4f}\")"
   ]
  },
  {
   "cell_type": "code",
   "execution_count": 17,
   "metadata": {},
   "outputs": [],
   "source": [
    "k = 5\n",
    "kf = KFold(n_splits=k, shuffle=True, random_state=0)\n",
    "\n",
    "# Perform k-fold cross-validation with multiple metrics\n",
    "cross_val_results = cross_validate(clf, X, y, cv=kf, scoring=['accuracy', 'precision', 'f1'])\n"
   ]
  },
  {
   "cell_type": "code",
   "execution_count": 20,
   "metadata": {},
   "outputs": [
    {
     "data": {
      "text/plain": [
       "{'fit_time': array([0.42172527, 0.55084229, 0.39794087, 0.41575027, 0.43595386]),\n",
       " 'score_time': array([0.02806664, 0.02883363, 0.02737617, 0.02677178, 0.02868319]),\n",
       " 'test_accuracy': array([0.99901091, 0.99922727, 0.99904182, 0.99922727, 0.99919634]),\n",
       " 'test_precision': array([0.99422174, 0.99562682, 0.99530516, 0.99607423, 0.99814195]),\n",
       " 'test_f1': array([0.99422174, 0.99544544, 0.99440736, 0.99554129, 0.9951834 ])}"
      ]
     },
     "execution_count": 20,
     "metadata": {},
     "output_type": "execute_result"
    }
   ],
   "source": [
    "cross_val_results"
   ]
  },
  {
   "cell_type": "code",
   "execution_count": 22,
   "metadata": {},
   "outputs": [
    {
     "name": "stdout",
     "output_type": "stream",
     "text": [
      "Mean Accuracy: 0.9991, Mean Precision: 0.9959, Mean F1-score: 0.9950\n"
     ]
    }
   ],
   "source": [
    "# Calculate and print the mean results across all folds\n",
    "mean_accuracy = np.mean(cross_val_results['test_accuracy'])\n",
    "mean_precision = np.mean(cross_val_results['test_precision'])\n",
    "mean_f1_score = np.mean(cross_val_results['test_f1'])\n",
    "print(f\"Mean Accuracy: {mean_accuracy:.4f}, Mean Precision: {mean_precision:.4f}, Mean F1-score: {mean_f1_score:.4f}\")"
   ]
  },
  {
   "cell_type": "markdown",
   "metadata": {},
   "source": [
    "## Function: LR model for each cell type"
   ]
  },
  {
   "cell_type": "code",
   "execution_count": 33,
   "metadata": {},
   "outputs": [],
   "source": [
    "def LR_classifier(data, all_features, celltype):\n",
    "    print('Constructing classifier for:', celltype)\n",
    "    # subset data to celltype features\n",
    "    celltype_features = all_features[celltype]['Gene'].tolist()\n",
    "    X = data[:, celltype_features].X\n",
    "    # Binary label\n",
    "    y = [1 if i==celltype else 0 for i in data.obs['celltype.l1'].tolist()]\n",
    "\n",
    "    X_train, X_test, y_train, y_test = train_test_split(X, y, test_size=0.2, random_state=0, stratify=y)\n",
    "    \n",
    "    # train classifier\n",
    "    clf = LogisticRegression(penalty='l2', solver='lbfgs', C=1.0)\n",
    "    clf.fit(X_train, y_train)\n",
    "\n",
    "    # evaluate classifier\n",
    "    y_pred = clf.predict(X_test)\n",
    "    accuracy = accuracy_score(y_test, y_pred)\n",
    "    print(\"Accuracy: {:.2f}%\".format(accuracy * 100))\n",
    "    precision = precision_score(y_test, y_pred)  # average='macro'\n",
    "    print(\"Precision: {:.2f}%\".format(precision * 100))\n",
    "    f1 = f1_score(y_test, y_pred)\n",
    "    print(\"F1: {:.2f}%\".format(f1 * 100))\n",
    "\n",
    "    # model metrics\n",
    "    metrics = [accuracy, precision, f1]\n",
    "\n",
    "    return clf, metrics"
   ]
  },
  {
   "cell_type": "code",
   "execution_count": 33,
   "metadata": {},
   "outputs": [],
   "source": [
    "import pickle\n",
    "os.chdir('/Users/evanli/Documents/EvanPys/Progress/PBMC_Hao/Classifier')"
   ]
  },
  {
   "cell_type": "code",
   "execution_count": 34,
   "metadata": {},
   "outputs": [
    {
     "name": "stdout",
     "output_type": "stream",
     "text": [
      "Constructing classifier for: B\n",
      "Accuracy: 99.91%\n",
      "Precision: 99.46%\n",
      "F1: 99.49%\n",
      "------------------\n",
      "Constructing classifier for: CD4 T\n",
      "Accuracy: 96.23%\n",
      "Precision: 92.53%\n",
      "F1: 92.56%\n",
      "------------------\n",
      "Constructing classifier for: CD8 T\n",
      "Accuracy: 97.10%\n",
      "Precision: 92.51%\n",
      "F1: 90.60%\n",
      "------------------\n",
      "Constructing classifier for: DC\n",
      "Accuracy: 97.78%\n",
      "Precision: 0.00%\n",
      "F1: 0.00%\n",
      "------------------\n",
      "Constructing classifier for: Mono\n",
      "Accuracy: 99.02%\n",
      "Precision: 97.43%\n",
      "F1: 98.40%\n",
      "------------------\n",
      "Constructing classifier for: NK\n",
      "Accuracy: 99.18%\n",
      "Precision: 96.44%\n",
      "F1: 96.45%\n",
      "------------------\n",
      "Constructing classifier for: other\n",
      "Accuracy: 97.88%\n",
      "Precision: 100.00%\n",
      "F1: 0.58%\n",
      "------------------\n",
      "Constructing classifier for: other T\n",
      "Accuracy: 95.79%\n",
      "Precision: 0.00%\n",
      "F1: 0.00%\n",
      "------------------\n"
     ]
    }
   ],
   "source": [
    "import pickle\n",
    "\n",
    "all_metrics = {}\n",
    "for celltype in types:\n",
    "    clf, metrics = LR_classifier(data, features_dict, celltype)\n",
    "    all_metrics[celltype] = metrics\n",
    "\n",
    "    filename = f'LR_{celltype}_l1_a.01.pkl'.replace(' ', '_')\n",
    "    # with open(filename, 'wb') as f:\n",
    "    #     pickle.dump(clf, f)\n",
    "    print('------------------')"
   ]
  },
  {
   "cell_type": "code",
   "execution_count": 35,
   "metadata": {},
   "outputs": [
    {
     "data": {
      "text/plain": [
       "{'B': [0.9991345470280963, 0.9945691527878349, 0.9949293734154292],\n",
       " 'CD4 T': [0.9622909776527679, 0.9252985620277846, 0.9256369620870413],\n",
       " 'CD8 T': [0.9710073254412265, 0.9251227495908347, 0.906030855539972],\n",
       " 'DC': [0.9778073130776126, 0.0, 0.0],\n",
       " 'Mono': [0.9902018359966618, 0.9742974297429743, 0.9839907075400232],\n",
       " 'NK': [0.9918091058016258, 0.9643813604713444, 0.9645105129235302],\n",
       " 'other': [0.9787964021883596, 1.0, 0.005797101449275362],\n",
       " 'other T': [0.9579018947238278, 0.0, 0.0]}"
      ]
     },
     "execution_count": 35,
     "metadata": {},
     "output_type": "execute_result"
    }
   ],
   "source": [
    "# [accuracy, precision, f1]\n",
    "all_metrics"
   ]
  },
  {
   "cell_type": "code",
   "execution_count": 38,
   "metadata": {},
   "outputs": [
    {
     "data": {
      "text/html": [
       "<div>\n",
       "<style scoped>\n",
       "    .dataframe tbody tr th:only-of-type {\n",
       "        vertical-align: middle;\n",
       "    }\n",
       "\n",
       "    .dataframe tbody tr th {\n",
       "        vertical-align: top;\n",
       "    }\n",
       "\n",
       "    .dataframe thead th {\n",
       "        text-align: right;\n",
       "    }\n",
       "</style>\n",
       "<table border=\"1\" class=\"dataframe\">\n",
       "  <thead>\n",
       "    <tr style=\"text-align: right;\">\n",
       "      <th></th>\n",
       "      <th>B</th>\n",
       "      <th>CD4 T</th>\n",
       "      <th>CD8 T</th>\n",
       "      <th>DC</th>\n",
       "      <th>Mono</th>\n",
       "      <th>NK</th>\n",
       "      <th>other</th>\n",
       "      <th>other T</th>\n",
       "    </tr>\n",
       "  </thead>\n",
       "  <tbody>\n",
       "    <tr>\n",
       "      <th>Accuracy</th>\n",
       "      <td>0.999135</td>\n",
       "      <td>0.962291</td>\n",
       "      <td>0.971007</td>\n",
       "      <td>0.977807</td>\n",
       "      <td>0.990202</td>\n",
       "      <td>0.991809</td>\n",
       "      <td>0.978796</td>\n",
       "      <td>0.957902</td>\n",
       "    </tr>\n",
       "    <tr>\n",
       "      <th>Precision</th>\n",
       "      <td>0.994569</td>\n",
       "      <td>0.925299</td>\n",
       "      <td>0.925123</td>\n",
       "      <td>0.000000</td>\n",
       "      <td>0.974297</td>\n",
       "      <td>0.964381</td>\n",
       "      <td>1.000000</td>\n",
       "      <td>0.000000</td>\n",
       "    </tr>\n",
       "    <tr>\n",
       "      <th>F1</th>\n",
       "      <td>0.994929</td>\n",
       "      <td>0.925637</td>\n",
       "      <td>0.906031</td>\n",
       "      <td>0.000000</td>\n",
       "      <td>0.983991</td>\n",
       "      <td>0.964511</td>\n",
       "      <td>0.005797</td>\n",
       "      <td>0.000000</td>\n",
       "    </tr>\n",
       "  </tbody>\n",
       "</table>\n",
       "</div>"
      ],
      "text/plain": [
       "                  B     CD4 T     CD8 T        DC      Mono        NK  \\\n",
       "Accuracy   0.999135  0.962291  0.971007  0.977807  0.990202  0.991809   \n",
       "Precision  0.994569  0.925299  0.925123  0.000000  0.974297  0.964381   \n",
       "F1         0.994929  0.925637  0.906031  0.000000  0.983991  0.964511   \n",
       "\n",
       "              other   other T  \n",
       "Accuracy   0.978796  0.957902  \n",
       "Precision  1.000000  0.000000  \n",
       "F1         0.005797  0.000000  "
      ]
     },
     "execution_count": 38,
     "metadata": {},
     "output_type": "execute_result"
    }
   ],
   "source": [
    "metrics_df = pd.DataFrame(all_metrics, index=['Accuracy', 'Precision', 'F1'])\n",
    "metrics_df"
   ]
  },
  {
   "cell_type": "code",
   "execution_count": 43,
   "metadata": {},
   "outputs": [
    {
     "data": {
      "text/plain": [
       "<matplotlib.legend.Legend at 0x4386f3250>"
      ]
     },
     "execution_count": 43,
     "metadata": {},
     "output_type": "execute_result"
    },
    {
     "data": {
      "image/png": "[encoded data removed]",
      "text/plain": [
       "<Figure size 800x600 with 1 Axes>"
      ]
     },
     "metadata": {},
     "output_type": "display_data"
    }
   ],
   "source": [
    "# Plot metrics for each celltype\n",
    "ax = metrics_df.T.plot.bar(rot=0, figsize=(8,6), title='Logistic Regression Classifier Metrics')\n",
    "ax.legend(loc='center left', bbox_to_anchor=(1.0, 0.5))"
   ]
  },
  {
   "cell_type": "code",
   "execution_count": null,
   "metadata": {},
   "outputs": [],
   "source": []
  }
 ],
 "metadata": {
  "kernelspec": {
   "display_name": "base",
   "language": "python",
   "name": "python3"
  },
  "language_info": {
   "codemirror_mode": {
    "name": "ipython",
    "version": 3
   },
   "file_extension": ".py",
   "mimetype": "text/x-python",
   "name": "python",
   "nbconvert_exporter": "python",
   "pygments_lexer": "ipython3",
   "version": "3.9.12"
  }
 },
 "nbformat": 4,
 "nbformat_minor": 2
}

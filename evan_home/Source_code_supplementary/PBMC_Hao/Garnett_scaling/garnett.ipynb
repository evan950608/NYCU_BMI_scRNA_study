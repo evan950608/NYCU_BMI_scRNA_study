{
 "cells": [
  {
   "cell_type": "code",
   "execution_count": 1,
   "metadata": {},
   "outputs": [],
   "source": [
    "import scanpy as sc\n",
    "import pandas as pd\n",
    "import numpy as np\n",
    "import matplotlib.pyplot as plt"
   ]
  },
  {
   "cell_type": "code",
   "execution_count": 2,
   "metadata": {},
   "outputs": [
    {
     "data": {
      "text/plain": [
       "(161764, 20568)"
      ]
     },
     "execution_count": 2,
     "metadata": {},
     "output_type": "execute_result"
    }
   ],
   "source": [
    "data = sc.read_h5ad('/Users/evanli/Documents/Research_datasets/PBMC_Hao/Hao_PBMC.h5ad')\n",
    "data.shape"
   ]
  },
  {
   "cell_type": "code",
   "execution_count": 3,
   "metadata": {},
   "outputs": [],
   "source": [
    "# reverse log1p transformation\n",
    "# np.expm1: exp(x) - 1 (is the inverse function of log1p)\n",
    "data.X = np.expm1(data.X)"
   ]
  },
  {
   "cell_type": "code",
   "execution_count": 4,
   "metadata": {},
   "outputs": [
    {
     "data": {
      "text/plain": [
       "scipy.sparse.csr.csr_matrix"
      ]
     },
     "execution_count": 4,
     "metadata": {},
     "output_type": "execute_result"
    }
   ],
   "source": [
    "type(data.X)"
   ]
  },
  {
   "cell_type": "code",
   "execution_count": 5,
   "metadata": {},
   "outputs": [
    {
     "data": {
      "text/html": [
       "<div>\n",
       "<style scoped>\n",
       "    .dataframe tbody tr th:only-of-type {\n",
       "        vertical-align: middle;\n",
       "    }\n",
       "\n",
       "    .dataframe tbody tr th {\n",
       "        vertical-align: top;\n",
       "    }\n",
       "\n",
       "    .dataframe thead th {\n",
       "        text-align: right;\n",
       "    }\n",
       "</style>\n",
       "<table border=\"1\" class=\"dataframe\">\n",
       "  <thead>\n",
       "    <tr style=\"text-align: right;\">\n",
       "      <th></th>\n",
       "      <th>nCount_ADT</th>\n",
       "      <th>nFeature_ADT</th>\n",
       "      <th>nCount_RNA</th>\n",
       "      <th>nFeature_RNA</th>\n",
       "      <th>orig.ident</th>\n",
       "      <th>lane</th>\n",
       "      <th>donor_id</th>\n",
       "      <th>time</th>\n",
       "      <th>celltype.l1</th>\n",
       "      <th>celltype.l2</th>\n",
       "      <th>...</th>\n",
       "      <th>tissue_ontology_term_id</th>\n",
       "      <th>suspension_type</th>\n",
       "      <th>cell_type</th>\n",
       "      <th>assay</th>\n",
       "      <th>disease</th>\n",
       "      <th>organism</th>\n",
       "      <th>sex</th>\n",
       "      <th>tissue</th>\n",
       "      <th>self_reported_ethnicity</th>\n",
       "      <th>development_stage</th>\n",
       "    </tr>\n",
       "  </thead>\n",
       "  <tbody>\n",
       "    <tr>\n",
       "      <th>L1_AAACCCAAGAAACTCA</th>\n",
       "      <td>7430.0</td>\n",
       "      <td>221</td>\n",
       "      <td>10823.0</td>\n",
       "      <td>2915</td>\n",
       "      <td>P2_7</td>\n",
       "      <td>L1</td>\n",
       "      <td>P2</td>\n",
       "      <td>7</td>\n",
       "      <td>Mono</td>\n",
       "      <td>CD14 Mono</td>\n",
       "      <td>...</td>\n",
       "      <td>UBERON:0000178</td>\n",
       "      <td>cell</td>\n",
       "      <td>CD14-positive monocyte</td>\n",
       "      <td>10x 3' v3</td>\n",
       "      <td>normal</td>\n",
       "      <td>Homo sapiens</td>\n",
       "      <td>unknown</td>\n",
       "      <td>blood</td>\n",
       "      <td>unknown</td>\n",
       "      <td>unknown</td>\n",
       "    </tr>\n",
       "    <tr>\n",
       "      <th>L1_AAACCCAAGACATACA</th>\n",
       "      <td>5949.0</td>\n",
       "      <td>211</td>\n",
       "      <td>5864.0</td>\n",
       "      <td>1617</td>\n",
       "      <td>P1_7</td>\n",
       "      <td>L1</td>\n",
       "      <td>P1</td>\n",
       "      <td>7</td>\n",
       "      <td>CD4 T</td>\n",
       "      <td>CD4 TCM</td>\n",
       "      <td>...</td>\n",
       "      <td>UBERON:0000178</td>\n",
       "      <td>cell</td>\n",
       "      <td>central memory CD4-positive, alpha-beta T cell</td>\n",
       "      <td>10x 3' v3</td>\n",
       "      <td>normal</td>\n",
       "      <td>Homo sapiens</td>\n",
       "      <td>unknown</td>\n",
       "      <td>blood</td>\n",
       "      <td>unknown</td>\n",
       "      <td>unknown</td>\n",
       "    </tr>\n",
       "    <tr>\n",
       "      <th>L1_AAACCCACAACTGGTT</th>\n",
       "      <td>6547.0</td>\n",
       "      <td>217</td>\n",
       "      <td>5067.0</td>\n",
       "      <td>1381</td>\n",
       "      <td>P4_3</td>\n",
       "      <td>L1</td>\n",
       "      <td>P4</td>\n",
       "      <td>3</td>\n",
       "      <td>CD8 T</td>\n",
       "      <td>CD8 Naive</td>\n",
       "      <td>...</td>\n",
       "      <td>UBERON:0000178</td>\n",
       "      <td>cell</td>\n",
       "      <td>naive thymus-derived CD8-positive, alpha-beta ...</td>\n",
       "      <td>10x 3' v3</td>\n",
       "      <td>normal</td>\n",
       "      <td>Homo sapiens</td>\n",
       "      <td>unknown</td>\n",
       "      <td>blood</td>\n",
       "      <td>unknown</td>\n",
       "      <td>unknown</td>\n",
       "    </tr>\n",
       "    <tr>\n",
       "      <th>L1_AAACCCACACGTACTA</th>\n",
       "      <td>3508.0</td>\n",
       "      <td>207</td>\n",
       "      <td>4786.0</td>\n",
       "      <td>1890</td>\n",
       "      <td>P3_7</td>\n",
       "      <td>L1</td>\n",
       "      <td>P3</td>\n",
       "      <td>7</td>\n",
       "      <td>NK</td>\n",
       "      <td>NK</td>\n",
       "      <td>...</td>\n",
       "      <td>UBERON:0000178</td>\n",
       "      <td>cell</td>\n",
       "      <td>natural killer cell</td>\n",
       "      <td>10x 3' v3</td>\n",
       "      <td>normal</td>\n",
       "      <td>Homo sapiens</td>\n",
       "      <td>unknown</td>\n",
       "      <td>blood</td>\n",
       "      <td>unknown</td>\n",
       "      <td>unknown</td>\n",
       "    </tr>\n",
       "    <tr>\n",
       "      <th>L1_AAACCCACAGCATACT</th>\n",
       "      <td>6318.0</td>\n",
       "      <td>219</td>\n",
       "      <td>6505.0</td>\n",
       "      <td>1621</td>\n",
       "      <td>P4_7</td>\n",
       "      <td>L1</td>\n",
       "      <td>P4</td>\n",
       "      <td>7</td>\n",
       "      <td>CD8 T</td>\n",
       "      <td>CD8 Naive</td>\n",
       "      <td>...</td>\n",
       "      <td>UBERON:0000178</td>\n",
       "      <td>cell</td>\n",
       "      <td>naive thymus-derived CD8-positive, alpha-beta ...</td>\n",
       "      <td>10x 3' v3</td>\n",
       "      <td>normal</td>\n",
       "      <td>Homo sapiens</td>\n",
       "      <td>unknown</td>\n",
       "      <td>blood</td>\n",
       "      <td>unknown</td>\n",
       "      <td>unknown</td>\n",
       "    </tr>\n",
       "    <tr>\n",
       "      <th>L1_AAACCCACATCAGTCA</th>\n",
       "      <td>5195.0</td>\n",
       "      <td>213</td>\n",
       "      <td>4332.0</td>\n",
       "      <td>1633</td>\n",
       "      <td>P3_3</td>\n",
       "      <td>L1</td>\n",
       "      <td>P3</td>\n",
       "      <td>3</td>\n",
       "      <td>CD8 T</td>\n",
       "      <td>CD8 TEM</td>\n",
       "      <td>...</td>\n",
       "      <td>UBERON:0000178</td>\n",
       "      <td>cell</td>\n",
       "      <td>effector memory CD8-positive, alpha-beta T cell</td>\n",
       "      <td>10x 3' v3</td>\n",
       "      <td>normal</td>\n",
       "      <td>Homo sapiens</td>\n",
       "      <td>unknown</td>\n",
       "      <td>blood</td>\n",
       "      <td>unknown</td>\n",
       "      <td>unknown</td>\n",
       "    </tr>\n",
       "    <tr>\n",
       "      <th>L1_AAACCCACATCGGTTA</th>\n",
       "      <td>7507.0</td>\n",
       "      <td>223</td>\n",
       "      <td>9333.0</td>\n",
       "      <td>2672</td>\n",
       "      <td>P1_7</td>\n",
       "      <td>L1</td>\n",
       "      <td>P1</td>\n",
       "      <td>7</td>\n",
       "      <td>Mono</td>\n",
       "      <td>CD16 Mono</td>\n",
       "      <td>...</td>\n",
       "      <td>UBERON:0000178</td>\n",
       "      <td>cell</td>\n",
       "      <td>CD14-low, CD16-positive monocyte</td>\n",
       "      <td>10x 3' v3</td>\n",
       "      <td>normal</td>\n",
       "      <td>Homo sapiens</td>\n",
       "      <td>unknown</td>\n",
       "      <td>blood</td>\n",
       "      <td>unknown</td>\n",
       "      <td>unknown</td>\n",
       "    </tr>\n",
       "    <tr>\n",
       "      <th>L1_AAACCCACATGGATCT</th>\n",
       "      <td>8138.0</td>\n",
       "      <td>226</td>\n",
       "      <td>3589.0</td>\n",
       "      <td>1122</td>\n",
       "      <td>P4_3</td>\n",
       "      <td>L1</td>\n",
       "      <td>P4</td>\n",
       "      <td>3</td>\n",
       "      <td>B</td>\n",
       "      <td>B intermediate</td>\n",
       "      <td>...</td>\n",
       "      <td>UBERON:0000178</td>\n",
       "      <td>cell</td>\n",
       "      <td>B cell</td>\n",
       "      <td>10x 3' v3</td>\n",
       "      <td>normal</td>\n",
       "      <td>Homo sapiens</td>\n",
       "      <td>unknown</td>\n",
       "      <td>blood</td>\n",
       "      <td>unknown</td>\n",
       "      <td>unknown</td>\n",
       "    </tr>\n",
       "    <tr>\n",
       "      <th>L1_AAACCCAGTGGAACAC</th>\n",
       "      <td>2858.0</td>\n",
       "      <td>205</td>\n",
       "      <td>3251.0</td>\n",
       "      <td>1375</td>\n",
       "      <td>P1_3</td>\n",
       "      <td>L1</td>\n",
       "      <td>P1</td>\n",
       "      <td>3</td>\n",
       "      <td>NK</td>\n",
       "      <td>NK</td>\n",
       "      <td>...</td>\n",
       "      <td>UBERON:0000178</td>\n",
       "      <td>cell</td>\n",
       "      <td>natural killer cell</td>\n",
       "      <td>10x 3' v3</td>\n",
       "      <td>normal</td>\n",
       "      <td>Homo sapiens</td>\n",
       "      <td>unknown</td>\n",
       "      <td>blood</td>\n",
       "      <td>unknown</td>\n",
       "      <td>unknown</td>\n",
       "    </tr>\n",
       "    <tr>\n",
       "      <th>L1_AAACCCATCCACACCT</th>\n",
       "      <td>4501.0</td>\n",
       "      <td>210</td>\n",
       "      <td>3401.0</td>\n",
       "      <td>1200</td>\n",
       "      <td>P3_3</td>\n",
       "      <td>L1</td>\n",
       "      <td>P3</td>\n",
       "      <td>3</td>\n",
       "      <td>CD8 T</td>\n",
       "      <td>CD8 Naive</td>\n",
       "      <td>...</td>\n",
       "      <td>UBERON:0000178</td>\n",
       "      <td>cell</td>\n",
       "      <td>naive thymus-derived CD8-positive, alpha-beta ...</td>\n",
       "      <td>10x 3' v3</td>\n",
       "      <td>normal</td>\n",
       "      <td>Homo sapiens</td>\n",
       "      <td>unknown</td>\n",
       "      <td>blood</td>\n",
       "      <td>unknown</td>\n",
       "      <td>unknown</td>\n",
       "    </tr>\n",
       "  </tbody>\n",
       "</table>\n",
       "<p>10 rows × 32 columns</p>\n",
       "</div>"
      ],
      "text/plain": [
       "                     nCount_ADT  nFeature_ADT  nCount_RNA  nFeature_RNA  \\\n",
       "L1_AAACCCAAGAAACTCA      7430.0           221     10823.0          2915   \n",
       "L1_AAACCCAAGACATACA      5949.0           211      5864.0          1617   \n",
       "L1_AAACCCACAACTGGTT      6547.0           217      5067.0          1381   \n",
       "L1_AAACCCACACGTACTA      3508.0           207      4786.0          1890   \n",
       "L1_AAACCCACAGCATACT      6318.0           219      6505.0          1621   \n",
       "L1_AAACCCACATCAGTCA      5195.0           213      4332.0          1633   \n",
       "L1_AAACCCACATCGGTTA      7507.0           223      9333.0          2672   \n",
       "L1_AAACCCACATGGATCT      8138.0           226      3589.0          1122   \n",
       "L1_AAACCCAGTGGAACAC      2858.0           205      3251.0          1375   \n",
       "L1_AAACCCATCCACACCT      4501.0           210      3401.0          1200   \n",
       "\n",
       "                    orig.ident lane donor_id time celltype.l1     celltype.l2  \\\n",
       "L1_AAACCCAAGAAACTCA       P2_7   L1       P2    7        Mono       CD14 Mono   \n",
       "L1_AAACCCAAGACATACA       P1_7   L1       P1    7       CD4 T         CD4 TCM   \n",
       "L1_AAACCCACAACTGGTT       P4_3   L1       P4    3       CD8 T       CD8 Naive   \n",
       "L1_AAACCCACACGTACTA       P3_7   L1       P3    7          NK              NK   \n",
       "L1_AAACCCACAGCATACT       P4_7   L1       P4    7       CD8 T       CD8 Naive   \n",
       "L1_AAACCCACATCAGTCA       P3_3   L1       P3    3       CD8 T         CD8 TEM   \n",
       "L1_AAACCCACATCGGTTA       P1_7   L1       P1    7        Mono       CD16 Mono   \n",
       "L1_AAACCCACATGGATCT       P4_3   L1       P4    3           B  B intermediate   \n",
       "L1_AAACCCAGTGGAACAC       P1_3   L1       P1    3          NK              NK   \n",
       "L1_AAACCCATCCACACCT       P3_3   L1       P3    3       CD8 T       CD8 Naive   \n",
       "\n",
       "                     ... tissue_ontology_term_id suspension_type  \\\n",
       "L1_AAACCCAAGAAACTCA  ...          UBERON:0000178            cell   \n",
       "L1_AAACCCAAGACATACA  ...          UBERON:0000178            cell   \n",
       "L1_AAACCCACAACTGGTT  ...          UBERON:0000178            cell   \n",
       "L1_AAACCCACACGTACTA  ...          UBERON:0000178            cell   \n",
       "L1_AAACCCACAGCATACT  ...          UBERON:0000178            cell   \n",
       "L1_AAACCCACATCAGTCA  ...          UBERON:0000178            cell   \n",
       "L1_AAACCCACATCGGTTA  ...          UBERON:0000178            cell   \n",
       "L1_AAACCCACATGGATCT  ...          UBERON:0000178            cell   \n",
       "L1_AAACCCAGTGGAACAC  ...          UBERON:0000178            cell   \n",
       "L1_AAACCCATCCACACCT  ...          UBERON:0000178            cell   \n",
       "\n",
       "                                                             cell_type  \\\n",
       "L1_AAACCCAAGAAACTCA                             CD14-positive monocyte   \n",
       "L1_AAACCCAAGACATACA     central memory CD4-positive, alpha-beta T cell   \n",
       "L1_AAACCCACAACTGGTT  naive thymus-derived CD8-positive, alpha-beta ...   \n",
       "L1_AAACCCACACGTACTA                                natural killer cell   \n",
       "L1_AAACCCACAGCATACT  naive thymus-derived CD8-positive, alpha-beta ...   \n",
       "L1_AAACCCACATCAGTCA    effector memory CD8-positive, alpha-beta T cell   \n",
       "L1_AAACCCACATCGGTTA                   CD14-low, CD16-positive monocyte   \n",
       "L1_AAACCCACATGGATCT                                             B cell   \n",
       "L1_AAACCCAGTGGAACAC                                natural killer cell   \n",
       "L1_AAACCCATCCACACCT  naive thymus-derived CD8-positive, alpha-beta ...   \n",
       "\n",
       "                         assay disease      organism      sex tissue  \\\n",
       "L1_AAACCCAAGAAACTCA  10x 3' v3  normal  Homo sapiens  unknown  blood   \n",
       "L1_AAACCCAAGACATACA  10x 3' v3  normal  Homo sapiens  unknown  blood   \n",
       "L1_AAACCCACAACTGGTT  10x 3' v3  normal  Homo sapiens  unknown  blood   \n",
       "L1_AAACCCACACGTACTA  10x 3' v3  normal  Homo sapiens  unknown  blood   \n",
       "L1_AAACCCACAGCATACT  10x 3' v3  normal  Homo sapiens  unknown  blood   \n",
       "L1_AAACCCACATCAGTCA  10x 3' v3  normal  Homo sapiens  unknown  blood   \n",
       "L1_AAACCCACATCGGTTA  10x 3' v3  normal  Homo sapiens  unknown  blood   \n",
       "L1_AAACCCACATGGATCT  10x 3' v3  normal  Homo sapiens  unknown  blood   \n",
       "L1_AAACCCAGTGGAACAC  10x 3' v3  normal  Homo sapiens  unknown  blood   \n",
       "L1_AAACCCATCCACACCT  10x 3' v3  normal  Homo sapiens  unknown  blood   \n",
       "\n",
       "                    self_reported_ethnicity development_stage  \n",
       "L1_AAACCCAAGAAACTCA                 unknown           unknown  \n",
       "L1_AAACCCAAGACATACA                 unknown           unknown  \n",
       "L1_AAACCCACAACTGGTT                 unknown           unknown  \n",
       "L1_AAACCCACACGTACTA                 unknown           unknown  \n",
       "L1_AAACCCACAGCATACT                 unknown           unknown  \n",
       "L1_AAACCCACATCAGTCA                 unknown           unknown  \n",
       "L1_AAACCCACATCGGTTA                 unknown           unknown  \n",
       "L1_AAACCCACATGGATCT                 unknown           unknown  \n",
       "L1_AAACCCAGTGGAACAC                 unknown           unknown  \n",
       "L1_AAACCCATCCACACCT                 unknown           unknown  \n",
       "\n",
       "[10 rows x 32 columns]"
      ]
     },
     "execution_count": 5,
     "metadata": {},
     "output_type": "execute_result"
    }
   ],
   "source": [
    "data.obs.head(10)  # 161764"
   ]
  },
  {
   "cell_type": "code",
   "execution_count": 6,
   "metadata": {},
   "outputs": [
    {
     "data": {
      "text/plain": [
       "matrix([[6379.],\n",
       "        [5692.],\n",
       "        [5059.],\n",
       "        [4979.],\n",
       "        [5854.],\n",
       "        [4934.],\n",
       "        [6378.],\n",
       "        [4489.],\n",
       "        [4366.],\n",
       "        [4722.]], dtype=float32)"
      ]
     },
     "execution_count": 6,
     "metadata": {},
     "output_type": "execute_result"
    }
   ],
   "source": [
    "# row sum of data.X\n",
    "row_sum = data.X.sum(axis=1)\n",
    "row_sum[:10]  # equal to total_counts (not integer)"
   ]
  },
  {
   "cell_type": "code",
   "execution_count": 7,
   "metadata": {},
   "outputs": [
    {
     "data": {
      "text/plain": [
       "(161764, 1)"
      ]
     },
     "execution_count": 7,
     "metadata": {},
     "output_type": "execute_result"
    }
   ],
   "source": [
    "row_sum.shape"
   ]
  },
  {
   "cell_type": "code",
   "execution_count": 8,
   "metadata": {},
   "outputs": [
    {
     "data": {
      "text/plain": [
       "array([2547, 1614, 1375, 1884, 1620, 1628, 2543, 1123, 1376, 1215],\n",
       "      dtype=int32)"
      ]
     },
     "execution_count": 8,
     "metadata": {},
     "output_type": "execute_result"
    }
   ],
   "source": [
    "# assuming data.X is your sparse CSR matrix\n",
    "num_nonzero = data.X.getnnz(axis=1)\n",
    "num_nonzero[:10]"
   ]
  },
  {
   "cell_type": "code",
   "execution_count": 9,
   "metadata": {},
   "outputs": [],
   "source": [
    "# QC metrics\n",
    "sc.pp.calculate_qc_metrics(data, inplace=True)"
   ]
  },
  {
   "cell_type": "code",
   "execution_count": 10,
   "metadata": {},
   "outputs": [
    {
     "data": {
      "text/html": [
       "<div>\n",
       "<style scoped>\n",
       "    .dataframe tbody tr th:only-of-type {\n",
       "        vertical-align: middle;\n",
       "    }\n",
       "\n",
       "    .dataframe tbody tr th {\n",
       "        vertical-align: top;\n",
       "    }\n",
       "\n",
       "    .dataframe thead th {\n",
       "        text-align: right;\n",
       "    }\n",
       "</style>\n",
       "<table border=\"1\" class=\"dataframe\">\n",
       "  <thead>\n",
       "    <tr style=\"text-align: right;\">\n",
       "      <th></th>\n",
       "      <th>nCount_ADT</th>\n",
       "      <th>nFeature_ADT</th>\n",
       "      <th>nCount_RNA</th>\n",
       "      <th>nFeature_RNA</th>\n",
       "      <th>orig.ident</th>\n",
       "      <th>lane</th>\n",
       "      <th>donor_id</th>\n",
       "      <th>time</th>\n",
       "      <th>celltype.l1</th>\n",
       "      <th>celltype.l2</th>\n",
       "      <th>...</th>\n",
       "      <th>self_reported_ethnicity</th>\n",
       "      <th>development_stage</th>\n",
       "      <th>n_genes_by_counts</th>\n",
       "      <th>log1p_n_genes_by_counts</th>\n",
       "      <th>total_counts</th>\n",
       "      <th>log1p_total_counts</th>\n",
       "      <th>pct_counts_in_top_50_genes</th>\n",
       "      <th>pct_counts_in_top_100_genes</th>\n",
       "      <th>pct_counts_in_top_200_genes</th>\n",
       "      <th>pct_counts_in_top_500_genes</th>\n",
       "    </tr>\n",
       "  </thead>\n",
       "  <tbody>\n",
       "    <tr>\n",
       "      <th>L1_AAACCCAAGAAACTCA</th>\n",
       "      <td>7430.0</td>\n",
       "      <td>221</td>\n",
       "      <td>10823.0</td>\n",
       "      <td>2915</td>\n",
       "      <td>P2_7</td>\n",
       "      <td>L1</td>\n",
       "      <td>P2</td>\n",
       "      <td>7</td>\n",
       "      <td>Mono</td>\n",
       "      <td>CD14 Mono</td>\n",
       "      <td>...</td>\n",
       "      <td>unknown</td>\n",
       "      <td>unknown</td>\n",
       "      <td>2547</td>\n",
       "      <td>7.843064</td>\n",
       "      <td>6379.0</td>\n",
       "      <td>8.760923</td>\n",
       "      <td>33.531902</td>\n",
       "      <td>44.348644</td>\n",
       "      <td>54.350212</td>\n",
       "      <td>66.138893</td>\n",
       "    </tr>\n",
       "    <tr>\n",
       "      <th>L1_AAACCCAAGACATACA</th>\n",
       "      <td>5949.0</td>\n",
       "      <td>211</td>\n",
       "      <td>5864.0</td>\n",
       "      <td>1617</td>\n",
       "      <td>P1_7</td>\n",
       "      <td>L1</td>\n",
       "      <td>P1</td>\n",
       "      <td>7</td>\n",
       "      <td>CD4 T</td>\n",
       "      <td>CD4 TCM</td>\n",
       "      <td>...</td>\n",
       "      <td>unknown</td>\n",
       "      <td>unknown</td>\n",
       "      <td>1614</td>\n",
       "      <td>7.387090</td>\n",
       "      <td>5692.0</td>\n",
       "      <td>8.646993</td>\n",
       "      <td>44.448349</td>\n",
       "      <td>59.715390</td>\n",
       "      <td>68.499649</td>\n",
       "      <td>80.288124</td>\n",
       "    </tr>\n",
       "    <tr>\n",
       "      <th>L1_AAACCCACAACTGGTT</th>\n",
       "      <td>6547.0</td>\n",
       "      <td>217</td>\n",
       "      <td>5067.0</td>\n",
       "      <td>1381</td>\n",
       "      <td>P4_3</td>\n",
       "      <td>L1</td>\n",
       "      <td>P4</td>\n",
       "      <td>3</td>\n",
       "      <td>CD8 T</td>\n",
       "      <td>CD8 Naive</td>\n",
       "      <td>...</td>\n",
       "      <td>unknown</td>\n",
       "      <td>unknown</td>\n",
       "      <td>1375</td>\n",
       "      <td>7.226936</td>\n",
       "      <td>5059.0</td>\n",
       "      <td>8.529121</td>\n",
       "      <td>46.590235</td>\n",
       "      <td>62.976873</td>\n",
       "      <td>71.496343</td>\n",
       "      <td>82.704092</td>\n",
       "    </tr>\n",
       "    <tr>\n",
       "      <th>L1_AAACCCACACGTACTA</th>\n",
       "      <td>3508.0</td>\n",
       "      <td>207</td>\n",
       "      <td>4786.0</td>\n",
       "      <td>1890</td>\n",
       "      <td>P3_7</td>\n",
       "      <td>L1</td>\n",
       "      <td>P3</td>\n",
       "      <td>7</td>\n",
       "      <td>NK</td>\n",
       "      <td>NK</td>\n",
       "      <td>...</td>\n",
       "      <td>unknown</td>\n",
       "      <td>unknown</td>\n",
       "      <td>1884</td>\n",
       "      <td>7.541683</td>\n",
       "      <td>4979.0</td>\n",
       "      <td>8.513186</td>\n",
       "      <td>32.817835</td>\n",
       "      <td>44.466760</td>\n",
       "      <td>54.729865</td>\n",
       "      <td>69.250854</td>\n",
       "    </tr>\n",
       "    <tr>\n",
       "      <th>L1_AAACCCACAGCATACT</th>\n",
       "      <td>6318.0</td>\n",
       "      <td>219</td>\n",
       "      <td>6505.0</td>\n",
       "      <td>1621</td>\n",
       "      <td>P4_7</td>\n",
       "      <td>L1</td>\n",
       "      <td>P4</td>\n",
       "      <td>7</td>\n",
       "      <td>CD8 T</td>\n",
       "      <td>CD8 Naive</td>\n",
       "      <td>...</td>\n",
       "      <td>unknown</td>\n",
       "      <td>unknown</td>\n",
       "      <td>1620</td>\n",
       "      <td>7.390799</td>\n",
       "      <td>5854.0</td>\n",
       "      <td>8.675052</td>\n",
       "      <td>44.055347</td>\n",
       "      <td>61.120601</td>\n",
       "      <td>69.149300</td>\n",
       "      <td>80.645712</td>\n",
       "    </tr>\n",
       "    <tr>\n",
       "      <th>L1_AAACCCACATCAGTCA</th>\n",
       "      <td>5195.0</td>\n",
       "      <td>213</td>\n",
       "      <td>4332.0</td>\n",
       "      <td>1633</td>\n",
       "      <td>P3_3</td>\n",
       "      <td>L1</td>\n",
       "      <td>P3</td>\n",
       "      <td>3</td>\n",
       "      <td>CD8 T</td>\n",
       "      <td>CD8 TEM</td>\n",
       "      <td>...</td>\n",
       "      <td>unknown</td>\n",
       "      <td>unknown</td>\n",
       "      <td>1628</td>\n",
       "      <td>7.395722</td>\n",
       "      <td>4934.0</td>\n",
       "      <td>8.504107</td>\n",
       "      <td>37.474666</td>\n",
       "      <td>51.155249</td>\n",
       "      <td>62.910418</td>\n",
       "      <td>77.117957</td>\n",
       "    </tr>\n",
       "    <tr>\n",
       "      <th>L1_AAACCCACATCGGTTA</th>\n",
       "      <td>7507.0</td>\n",
       "      <td>223</td>\n",
       "      <td>9333.0</td>\n",
       "      <td>2672</td>\n",
       "      <td>P1_7</td>\n",
       "      <td>L1</td>\n",
       "      <td>P1</td>\n",
       "      <td>7</td>\n",
       "      <td>Mono</td>\n",
       "      <td>CD16 Mono</td>\n",
       "      <td>...</td>\n",
       "      <td>unknown</td>\n",
       "      <td>unknown</td>\n",
       "      <td>2543</td>\n",
       "      <td>7.841493</td>\n",
       "      <td>6378.0</td>\n",
       "      <td>8.760767</td>\n",
       "      <td>32.188774</td>\n",
       "      <td>43.571653</td>\n",
       "      <td>54.374412</td>\n",
       "      <td>66.556914</td>\n",
       "    </tr>\n",
       "    <tr>\n",
       "      <th>L1_AAACCCACATGGATCT</th>\n",
       "      <td>8138.0</td>\n",
       "      <td>226</td>\n",
       "      <td>3589.0</td>\n",
       "      <td>1122</td>\n",
       "      <td>P4_3</td>\n",
       "      <td>L1</td>\n",
       "      <td>P4</td>\n",
       "      <td>3</td>\n",
       "      <td>B</td>\n",
       "      <td>B intermediate</td>\n",
       "      <td>...</td>\n",
       "      <td>unknown</td>\n",
       "      <td>unknown</td>\n",
       "      <td>1123</td>\n",
       "      <td>7.024649</td>\n",
       "      <td>4489.0</td>\n",
       "      <td>8.409608</td>\n",
       "      <td>45.622633</td>\n",
       "      <td>62.396970</td>\n",
       "      <td>73.401648</td>\n",
       "      <td>86.121631</td>\n",
       "    </tr>\n",
       "    <tr>\n",
       "      <th>L1_AAACCCAGTGGAACAC</th>\n",
       "      <td>2858.0</td>\n",
       "      <td>205</td>\n",
       "      <td>3251.0</td>\n",
       "      <td>1375</td>\n",
       "      <td>P1_3</td>\n",
       "      <td>L1</td>\n",
       "      <td>P1</td>\n",
       "      <td>3</td>\n",
       "      <td>NK</td>\n",
       "      <td>NK</td>\n",
       "      <td>...</td>\n",
       "      <td>unknown</td>\n",
       "      <td>unknown</td>\n",
       "      <td>1376</td>\n",
       "      <td>7.227662</td>\n",
       "      <td>4366.0</td>\n",
       "      <td>8.381831</td>\n",
       "      <td>35.524508</td>\n",
       "      <td>46.930829</td>\n",
       "      <td>59.138800</td>\n",
       "      <td>78.401283</td>\n",
       "    </tr>\n",
       "    <tr>\n",
       "      <th>L1_AAACCCATCCACACCT</th>\n",
       "      <td>4501.0</td>\n",
       "      <td>210</td>\n",
       "      <td>3401.0</td>\n",
       "      <td>1200</td>\n",
       "      <td>P3_3</td>\n",
       "      <td>L1</td>\n",
       "      <td>P3</td>\n",
       "      <td>3</td>\n",
       "      <td>CD8 T</td>\n",
       "      <td>CD8 Naive</td>\n",
       "      <td>...</td>\n",
       "      <td>unknown</td>\n",
       "      <td>unknown</td>\n",
       "      <td>1215</td>\n",
       "      <td>7.103322</td>\n",
       "      <td>4722.0</td>\n",
       "      <td>8.460199</td>\n",
       "      <td>43.752647</td>\n",
       "      <td>58.788649</td>\n",
       "      <td>69.737399</td>\n",
       "      <td>84.858111</td>\n",
       "    </tr>\n",
       "  </tbody>\n",
       "</table>\n",
       "<p>10 rows × 40 columns</p>\n",
       "</div>"
      ],
      "text/plain": [
       "                     nCount_ADT  nFeature_ADT  nCount_RNA  nFeature_RNA  \\\n",
       "L1_AAACCCAAGAAACTCA      7430.0           221     10823.0          2915   \n",
       "L1_AAACCCAAGACATACA      5949.0           211      5864.0          1617   \n",
       "L1_AAACCCACAACTGGTT      6547.0           217      5067.0          1381   \n",
       "L1_AAACCCACACGTACTA      3508.0           207      4786.0          1890   \n",
       "L1_AAACCCACAGCATACT      6318.0           219      6505.0          1621   \n",
       "L1_AAACCCACATCAGTCA      5195.0           213      4332.0          1633   \n",
       "L1_AAACCCACATCGGTTA      7507.0           223      9333.0          2672   \n",
       "L1_AAACCCACATGGATCT      8138.0           226      3589.0          1122   \n",
       "L1_AAACCCAGTGGAACAC      2858.0           205      3251.0          1375   \n",
       "L1_AAACCCATCCACACCT      4501.0           210      3401.0          1200   \n",
       "\n",
       "                    orig.ident lane donor_id time celltype.l1     celltype.l2  \\\n",
       "L1_AAACCCAAGAAACTCA       P2_7   L1       P2    7        Mono       CD14 Mono   \n",
       "L1_AAACCCAAGACATACA       P1_7   L1       P1    7       CD4 T         CD4 TCM   \n",
       "L1_AAACCCACAACTGGTT       P4_3   L1       P4    3       CD8 T       CD8 Naive   \n",
       "L1_AAACCCACACGTACTA       P3_7   L1       P3    7          NK              NK   \n",
       "L1_AAACCCACAGCATACT       P4_7   L1       P4    7       CD8 T       CD8 Naive   \n",
       "L1_AAACCCACATCAGTCA       P3_3   L1       P3    3       CD8 T         CD8 TEM   \n",
       "L1_AAACCCACATCGGTTA       P1_7   L1       P1    7        Mono       CD16 Mono   \n",
       "L1_AAACCCACATGGATCT       P4_3   L1       P4    3           B  B intermediate   \n",
       "L1_AAACCCAGTGGAACAC       P1_3   L1       P1    3          NK              NK   \n",
       "L1_AAACCCATCCACACCT       P3_3   L1       P3    3       CD8 T       CD8 Naive   \n",
       "\n",
       "                     ... self_reported_ethnicity development_stage  \\\n",
       "L1_AAACCCAAGAAACTCA  ...                 unknown           unknown   \n",
       "L1_AAACCCAAGACATACA  ...                 unknown           unknown   \n",
       "L1_AAACCCACAACTGGTT  ...                 unknown           unknown   \n",
       "L1_AAACCCACACGTACTA  ...                 unknown           unknown   \n",
       "L1_AAACCCACAGCATACT  ...                 unknown           unknown   \n",
       "L1_AAACCCACATCAGTCA  ...                 unknown           unknown   \n",
       "L1_AAACCCACATCGGTTA  ...                 unknown           unknown   \n",
       "L1_AAACCCACATGGATCT  ...                 unknown           unknown   \n",
       "L1_AAACCCAGTGGAACAC  ...                 unknown           unknown   \n",
       "L1_AAACCCATCCACACCT  ...                 unknown           unknown   \n",
       "\n",
       "                     n_genes_by_counts  log1p_n_genes_by_counts total_counts  \\\n",
       "L1_AAACCCAAGAAACTCA               2547                 7.843064       6379.0   \n",
       "L1_AAACCCAAGACATACA               1614                 7.387090       5692.0   \n",
       "L1_AAACCCACAACTGGTT               1375                 7.226936       5059.0   \n",
       "L1_AAACCCACACGTACTA               1884                 7.541683       4979.0   \n",
       "L1_AAACCCACAGCATACT               1620                 7.390799       5854.0   \n",
       "L1_AAACCCACATCAGTCA               1628                 7.395722       4934.0   \n",
       "L1_AAACCCACATCGGTTA               2543                 7.841493       6378.0   \n",
       "L1_AAACCCACATGGATCT               1123                 7.024649       4489.0   \n",
       "L1_AAACCCAGTGGAACAC               1376                 7.227662       4366.0   \n",
       "L1_AAACCCATCCACACCT               1215                 7.103322       4722.0   \n",
       "\n",
       "                    log1p_total_counts pct_counts_in_top_50_genes  \\\n",
       "L1_AAACCCAAGAAACTCA           8.760923                  33.531902   \n",
       "L1_AAACCCAAGACATACA           8.646993                  44.448349   \n",
       "L1_AAACCCACAACTGGTT           8.529121                  46.590235   \n",
       "L1_AAACCCACACGTACTA           8.513186                  32.817835   \n",
       "L1_AAACCCACAGCATACT           8.675052                  44.055347   \n",
       "L1_AAACCCACATCAGTCA           8.504107                  37.474666   \n",
       "L1_AAACCCACATCGGTTA           8.760767                  32.188774   \n",
       "L1_AAACCCACATGGATCT           8.409608                  45.622633   \n",
       "L1_AAACCCAGTGGAACAC           8.381831                  35.524508   \n",
       "L1_AAACCCATCCACACCT           8.460199                  43.752647   \n",
       "\n",
       "                    pct_counts_in_top_100_genes pct_counts_in_top_200_genes  \\\n",
       "L1_AAACCCAAGAAACTCA                   44.348644                   54.350212   \n",
       "L1_AAACCCAAGACATACA                   59.715390                   68.499649   \n",
       "L1_AAACCCACAACTGGTT                   62.976873                   71.496343   \n",
       "L1_AAACCCACACGTACTA                   44.466760                   54.729865   \n",
       "L1_AAACCCACAGCATACT                   61.120601                   69.149300   \n",
       "L1_AAACCCACATCAGTCA                   51.155249                   62.910418   \n",
       "L1_AAACCCACATCGGTTA                   43.571653                   54.374412   \n",
       "L1_AAACCCACATGGATCT                   62.396970                   73.401648   \n",
       "L1_AAACCCAGTGGAACAC                   46.930829                   59.138800   \n",
       "L1_AAACCCATCCACACCT                   58.788649                   69.737399   \n",
       "\n",
       "                    pct_counts_in_top_500_genes  \n",
       "L1_AAACCCAAGAAACTCA                   66.138893  \n",
       "L1_AAACCCAAGACATACA                   80.288124  \n",
       "L1_AAACCCACAACTGGTT                   82.704092  \n",
       "L1_AAACCCACACGTACTA                   69.250854  \n",
       "L1_AAACCCACAGCATACT                   80.645712  \n",
       "L1_AAACCCACATCAGTCA                   77.117957  \n",
       "L1_AAACCCACATCGGTTA                   66.556914  \n",
       "L1_AAACCCACATGGATCT                   86.121631  \n",
       "L1_AAACCCAGTGGAACAC                   78.401283  \n",
       "L1_AAACCCATCCACACCT                   84.858111  \n",
       "\n",
       "[10 rows x 40 columns]"
      ]
     },
     "execution_count": 10,
     "metadata": {},
     "output_type": "execute_result"
    }
   ],
   "source": [
    "data.obs.head(10)"
   ]
  },
  {
   "cell_type": "markdown",
   "metadata": {},
   "source": [
    "## Garnett scaling on adata.X (not log transformed)"
   ]
  },
  {
   "cell_type": "code",
   "execution_count": 14,
   "metadata": {},
   "outputs": [],
   "source": [
    "from scipy.stats import gmean\n",
    "# a: total read counts per cell\n",
    "a = data.obs['total_counts']\n",
    "\n",
    "# assuming data.X is your sparse CSR matrix\n",
    "D = gmean(a) / np.median(data.X.getnnz(axis=1))"
   ]
  },
  {
   "cell_type": "code",
   "execution_count": 15,
   "metadata": {},
   "outputs": [
    {
     "data": {
      "text/plain": [
       "3.3108369956438457"
      ]
     },
     "execution_count": 15,
     "metadata": {},
     "output_type": "execute_result"
    }
   ],
   "source": [
    "D"
   ]
  },
  {
   "cell_type": "code",
   "execution_count": 16,
   "metadata": {},
   "outputs": [],
   "source": [
    "# Transform expression matrix M to N\n",
    "M = data.X\n",
    "median_g = np.median(M.getnnz(axis=1))\n",
    "# total read counts per cell / D * median_g\n",
    "f_j = M.sum(axis=1).A1 / (D * median_g)\n",
    "\n",
    "# transformed N\n",
    "N = M / f_j[:, None]  # convert 1D array f_j to 2D array"
   ]
  },
  {
   "cell_type": "code",
   "execution_count": 17,
   "metadata": {},
   "outputs": [
    {
     "data": {
      "text/plain": [
       "(161764,)"
      ]
     },
     "execution_count": 17,
     "metadata": {},
     "output_type": "execute_result"
    }
   ],
   "source": [
    "f_j.shape"
   ]
  },
  {
   "cell_type": "code",
   "execution_count": 19,
   "metadata": {},
   "outputs": [
    {
     "data": {
      "text/plain": [
       "array([0.95239896, 0.84982836, 0.75532   , 0.74337584, 0.8740153 ,\n",
       "       0.73665726, 0.95224965, 0.67021775, 0.65185356, 0.70500517],\n",
       "      dtype=float32)"
      ]
     },
     "execution_count": 19,
     "metadata": {},
     "output_type": "execute_result"
    }
   ],
   "source": [
    "f_j[:10]"
   ]
  },
  {
   "cell_type": "code",
   "execution_count": 27,
   "metadata": {},
   "outputs": [
    {
     "data": {
      "text/plain": [
       "array([1.2278616, 1.2938532, 1.2760862, 1.3383453, 1.2750411],\n",
       "      dtype=float32)"
      ]
     },
     "execution_count": 27,
     "metadata": {},
     "output_type": "execute_result"
    }
   ],
   "source": [
    "f_j[-5:]"
   ]
  },
  {
   "cell_type": "code",
   "execution_count": 20,
   "metadata": {},
   "outputs": [
    {
     "data": {
      "text/plain": [
       "scipy.sparse.csr.csr_matrix"
      ]
     },
     "execution_count": 20,
     "metadata": {},
     "output_type": "execute_result"
    }
   ],
   "source": [
    "type(M)"
   ]
  },
  {
   "cell_type": "code",
   "execution_count": 21,
   "metadata": {},
   "outputs": [
    {
     "data": {
      "text/plain": [
       "numpy.matrix"
      ]
     },
     "execution_count": 21,
     "metadata": {},
     "output_type": "execute_result"
    }
   ],
   "source": [
    "type(N)"
   ]
  },
  {
   "cell_type": "code",
   "execution_count": 22,
   "metadata": {},
   "outputs": [
    {
     "data": {
      "text/plain": [
       "(161764, 20568)"
      ]
     },
     "execution_count": 22,
     "metadata": {},
     "output_type": "execute_result"
    }
   ],
   "source": [
    "M.shape"
   ]
  },
  {
   "cell_type": "code",
   "execution_count": 23,
   "metadata": {},
   "outputs": [
    {
     "data": {
      "text/plain": [
       "(161764, 20568)"
      ]
     },
     "execution_count": 23,
     "metadata": {},
     "output_type": "execute_result"
    }
   ],
   "source": [
    "N.shape"
   ]
  },
  {
   "cell_type": "code",
   "execution_count": 26,
   "metadata": {},
   "outputs": [
    {
     "data": {
      "text/plain": [
       "array([[0., 1., 0., ..., 0., 0., 0.],\n",
       "       [0., 0., 0., ..., 0., 0., 0.],\n",
       "       [0., 0., 0., ..., 0., 0., 0.],\n",
       "       ...,\n",
       "       [0., 1., 0., ..., 0., 0., 0.],\n",
       "       [0., 0., 1., ..., 0., 0., 0.],\n",
       "       [0., 0., 0., ..., 0., 0., 0.]], dtype=float32)"
      ]
     },
     "execution_count": 26,
     "metadata": {},
     "output_type": "execute_result"
    }
   ],
   "source": [
    "M.toarray()"
   ]
  },
  {
   "cell_type": "code",
   "execution_count": 25,
   "metadata": {},
   "outputs": [
    {
     "data": {
      "text/plain": [
       "matrix([[0.       , 1.0499802, 0.       , ..., 0.       , 0.       ,\n",
       "         0.       ],\n",
       "        [0.       , 0.       , 0.       , ..., 0.       , 0.       ,\n",
       "         0.       ],\n",
       "        [0.       , 0.       , 0.       , ..., 0.       , 0.       ,\n",
       "         0.       ],\n",
       "        ...,\n",
       "        [0.       , 0.7836461, 0.       , ..., 0.       , 0.       ,\n",
       "         0.       ],\n",
       "        [0.       , 0.       , 0.7471913, ..., 0.       , 0.       ,\n",
       "         0.       ],\n",
       "        [0.       , 0.       , 0.       , ..., 0.       , 0.       ,\n",
       "         0.       ]], dtype=float32)"
      ]
     },
     "execution_count": 25,
     "metadata": {},
     "output_type": "execute_result"
    }
   ],
   "source": [
    "N"
   ]
  },
  {
   "cell_type": "code",
   "execution_count": 28,
   "metadata": {},
   "outputs": [],
   "source": [
    "# turn into function\n",
    "def garnett_scaling(M):\n",
    "    # M is the original expression matrix, in sparse CSR format\n",
    "    # transform expression matrix M to N\n",
    "\n",
    "    # a: total read counts per cell\n",
    "    a = data.obs['total_counts']\n",
    "\n",
    "    # calculate D from M, or take D as input??\n",
    "    D_size_factor = gmean(a) / np.median(M.getnnz(axis=1))\n",
    "\n",
    "    median_g = np.median(M.getnnz(axis=1))\n",
    "    f_j = M.sum(axis=1).A1 / (D_size_factor * median_g)\n",
    "    N = M / f_j[:, None]\n",
    "    \n",
    "    return N"
   ]
  }
 ],
 "metadata": {
  "kernelspec": {
   "display_name": "base",
   "language": "python",
   "name": "python3"
  },
  "language_info": {
   "codemirror_mode": {
    "name": "ipython",
    "version": 3
   },
   "file_extension": ".py",
   "mimetype": "text/x-python",
   "name": "python",
   "nbconvert_exporter": "python",
   "pygments_lexer": "ipython3",
   "version": "3.9.12"
  }
 },
 "nbformat": 4,
 "nbformat_minor": 2
}

{
 "cells": [
  {
   "cell_type": "markdown",
   "metadata": {},
   "source": [
    "## Load dataset"
   ]
  },
  {
   "cell_type": "code",
   "execution_count": 1,
   "metadata": {
    "metadata": {}
   },
   "outputs": [
    {
     "name": "stderr",
     "output_type": "stream",
     "text": [
      "/opt/anaconda3/lib/python3.9/site-packages/scipy/__init__.py:146: UserWarning: A NumPy version >=1.16.5 and <1.23.0 is required for this version of SciPy (detected version 1.26.4\n",
      "  warnings.warn(f\"A NumPy version >={np_minversion} and <{np_maxversion}\"\n"
     ]
    }
   ],
   "source": [
    "import scanpy as sc\n",
    "import scvelo as scv\n",
    "\n",
    "# data = scv.datasets.pancreas(file_path=r\"C:\\Users\\evanlee\\Documents\\Research_datasets\\Pancreas\\endocrinogenesis_day15.h5ad\")\n",
    "data = scv.datasets.pancreas(file_path='/Users/evanli/Documents/Research_datasets/endocrinogenesis_day15.h5ad')\n",
    "\n",
    "label = data.obs['clusters'].tolist()"
   ]
  },
  {
   "cell_type": "code",
   "execution_count": 2,
   "metadata": {
    "metadata": {}
   },
   "outputs": [
    {
     "data": {
      "text/plain": [
       "(3696, 27998)"
      ]
     },
     "execution_count": 2,
     "metadata": {},
     "output_type": "execute_result"
    }
   ],
   "source": [
    "data.shape"
   ]
  },
  {
   "cell_type": "code",
   "execution_count": 3,
   "metadata": {
    "metadata": {}
   },
   "outputs": [],
   "source": [
    "import os\n",
    "import numpy as np\n",
    "import matplotlib.pyplot as plt\n",
    "import pandas as pd\n",
    "import time\n",
    "import scipy\n",
    "import sklearn\n",
    "import copy"
   ]
  },
  {
   "cell_type": "code",
   "execution_count": 4,
   "metadata": {
    "metadata": {}
   },
   "outputs": [
    {
     "data": {
      "text/html": [
       "<div>\n",
       "<style scoped>\n",
       "    .dataframe tbody tr th:only-of-type {\n",
       "        vertical-align: middle;\n",
       "    }\n",
       "\n",
       "    .dataframe tbody tr th {\n",
       "        vertical-align: top;\n",
       "    }\n",
       "\n",
       "    .dataframe thead th {\n",
       "        text-align: right;\n",
       "    }\n",
       "</style>\n",
       "<table border=\"1\" class=\"dataframe\">\n",
       "  <thead>\n",
       "    <tr style=\"text-align: right;\">\n",
       "      <th></th>\n",
       "      <th>clusters_coarse</th>\n",
       "      <th>clusters</th>\n",
       "      <th>S_score</th>\n",
       "      <th>G2M_score</th>\n",
       "    </tr>\n",
       "    <tr>\n",
       "      <th>index</th>\n",
       "      <th></th>\n",
       "      <th></th>\n",
       "      <th></th>\n",
       "      <th></th>\n",
       "    </tr>\n",
       "  </thead>\n",
       "  <tbody>\n",
       "    <tr>\n",
       "      <th>AAACCTGAGAGGGATA</th>\n",
       "      <td>Pre-endocrine</td>\n",
       "      <td>Pre-endocrine</td>\n",
       "      <td>-0.224902</td>\n",
       "      <td>-0.252071</td>\n",
       "    </tr>\n",
       "    <tr>\n",
       "      <th>AAACCTGAGCCTTGAT</th>\n",
       "      <td>Ductal</td>\n",
       "      <td>Ductal</td>\n",
       "      <td>-0.014707</td>\n",
       "      <td>-0.232610</td>\n",
       "    </tr>\n",
       "    <tr>\n",
       "      <th>AAACCTGAGGCAATTA</th>\n",
       "      <td>Endocrine</td>\n",
       "      <td>Alpha</td>\n",
       "      <td>-0.171255</td>\n",
       "      <td>-0.286834</td>\n",
       "    </tr>\n",
       "    <tr>\n",
       "      <th>AAACCTGCATCATCCC</th>\n",
       "      <td>Ductal</td>\n",
       "      <td>Ductal</td>\n",
       "      <td>0.599244</td>\n",
       "      <td>0.191243</td>\n",
       "    </tr>\n",
       "    <tr>\n",
       "      <th>AAACCTGGTAAGTGGC</th>\n",
       "      <td>Ngn3 high EP</td>\n",
       "      <td>Ngn3 high EP</td>\n",
       "      <td>-0.179981</td>\n",
       "      <td>-0.126030</td>\n",
       "    </tr>\n",
       "  </tbody>\n",
       "</table>\n",
       "</div>"
      ],
      "text/plain": [
       "                 clusters_coarse       clusters   S_score  G2M_score\n",
       "index                                                               \n",
       "AAACCTGAGAGGGATA   Pre-endocrine  Pre-endocrine -0.224902  -0.252071\n",
       "AAACCTGAGCCTTGAT          Ductal         Ductal -0.014707  -0.232610\n",
       "AAACCTGAGGCAATTA       Endocrine          Alpha -0.171255  -0.286834\n",
       "AAACCTGCATCATCCC          Ductal         Ductal  0.599244   0.191243\n",
       "AAACCTGGTAAGTGGC    Ngn3 high EP   Ngn3 high EP -0.179981  -0.126030"
      ]
     },
     "execution_count": 4,
     "metadata": {},
     "output_type": "execute_result"
    }
   ],
   "source": [
    "data.obs.head()"
   ]
  },
  {
   "cell_type": "code",
   "execution_count": 33,
   "metadata": {
    "metadata": {}
   },
   "outputs": [
    {
     "data": {
      "text/plain": [
       "anndata._core.anndata.AnnData"
      ]
     },
     "execution_count": 33,
     "metadata": {},
     "output_type": "execute_result"
    }
   ],
   "source": [
    "top3 = data[:3]\n",
    "type(top3)"
   ]
  },
  {
   "cell_type": "code",
   "execution_count": 34,
   "metadata": {
    "metadata": {}
   },
   "outputs": [
    {
     "data": {
      "text/plain": [
       "numpy.ndarray"
      ]
     },
     "execution_count": 34,
     "metadata": {},
     "output_type": "execute_result"
    }
   ],
   "source": [
    "top3_X = top3.X.toarray()\n",
    "type(top3_X)"
   ]
  },
  {
   "cell_type": "code",
   "execution_count": 42,
   "metadata": {
    "metadata": {}
   },
   "outputs": [],
   "source": [
    "def jaccard_dense_mat(X, idx_1, idx_2):\n",
    "    a = X[idx_1]\n",
    "    b = X[idx_2]\n",
    "    a_idx = []\n",
    "    b_idx = []\n",
    "    a_count = b_count = 0\n",
    "    for i in range(len(a)):\n",
    "        if a[i] != 0:\n",
    "            a_idx.append(i)\n",
    "            a_count += 1\n",
    "        if b[i] != 0:\n",
    "            b_idx.append(i)\n",
    "            b_count += 1\n",
    "    \n",
    "    print(a_count, b_count)\n",
    "    inter = list(set(a_idx).intersection(b_idx))\n",
    "    union = list(set(a_idx).union(b_idx))\n",
    "    print('inter', len(inter))\n",
    "    print('union', len(union))\n",
    "    jaccard = len(inter) / len(union)\n",
    "    return jaccard"
   ]
  },
  {
   "cell_type": "code",
   "execution_count": 43,
   "metadata": {
    "metadata": {}
   },
   "outputs": [
    {
     "name": "stdout",
     "output_type": "stream",
     "text": [
      "2356 2613\n",
      "inter 1093\n",
      "union 3876\n"
     ]
    },
    {
     "data": {
      "text/plain": [
       "0.2819917440660475"
      ]
     },
     "execution_count": 43,
     "metadata": {},
     "output_type": "execute_result"
    }
   ],
   "source": [
    "j_01 = jaccard_dense_mat(top3_X, 0, 1)\n",
    "j_01"
   ]
  },
  {
   "cell_type": "code",
   "execution_count": 47,
   "metadata": {
    "metadata": {}
   },
   "outputs": [
    {
     "name": "stdout",
     "output_type": "stream",
     "text": [
      "2613 1984\n",
      "inter 937\n",
      "union 3660\n"
     ]
    },
    {
     "data": {
      "text/plain": [
       "0.25601092896174865"
      ]
     },
     "execution_count": 47,
     "metadata": {},
     "output_type": "execute_result"
    }
   ],
   "source": [
    "j_12 = jaccard_dense_mat(top3_X, 1, 2)\n",
    "j_12"
   ]
  },
  {
   "cell_type": "code",
   "execution_count": 48,
   "metadata": {
    "metadata": {}
   },
   "outputs": [
    {
     "name": "stdout",
     "output_type": "stream",
     "text": [
      "2356 1984\n",
      "inter 935\n",
      "union 3405\n"
     ]
    },
    {
     "data": {
      "text/plain": [
       "0.2745961820851689"
      ]
     },
     "execution_count": 48,
     "metadata": {},
     "output_type": "execute_result"
    }
   ],
   "source": [
    "j_02 = jaccard_dense_mat(top3_X, 0, 2)\n",
    "j_02"
   ]
  },
  {
   "cell_type": "code",
   "execution_count": 7,
   "metadata": {
    "metadata": {}
   },
   "outputs": [],
   "source": [
    "import numpy as np\n",
    "from scipy.sparse import csr_matrix\n",
    "from tqdm import tqdm\n",
    "\n",
    "def pairwise_jaccard(adata, idx_1, idx_2):\n",
    "    a = adata.X[idx_1].tocsr()\n",
    "    b = adata.X[idx_2].tocsr()\n",
    "    \n",
    "    # get the index of nonzero values in a and b\n",
    "    a_nonzero_idx = a.indices\n",
    "    b_nonzero_idx = b.indices\n",
    "    # print(len(a_nonzero_idx), len(b_nonzero_idx))\n",
    "\n",
    "    # Intersection and union of nonzero indices\n",
    "    intersection = len(np.intersect1d(a_nonzero_idx, b_nonzero_idx))\n",
    "    union = len(np.union1d(a_nonzero_idx, b_nonzero_idx))\n",
    "    # print('intersection', intersection)\n",
    "    # print('union', union)\n",
    "    \n",
    "    # Intersection and Union using efficient sparse operations\n",
    "    # intersection = a.multiply(b).count_nonzero()\n",
    "    # union = a + b\n",
    "    # union.data = np.where(union.data > 0, 1, 0)  # if value > 0, set to 1, else set to 0\n",
    "    # union = union.count_nonzero()\n",
    "\n",
    "    # Calculate Jaccard Index\n",
    "    jaccard = intersection / union if union != 0 else 0\n",
    "\n",
    "    return jaccard\n",
    "\n",
    "# To compute the Jaccard matrix for a subset of cells\n",
    "def compute_jaccard_matrix(adata, n_samples):\n",
    "    jaccard_matrix = np.zeros((n_samples, n_samples))\n",
    "    # for i in tqdm(range(n_samples), desc='Computing Jaccard indices'):\n",
    "    for i in range(n_samples):\n",
    "        for j in range(i, n_samples):\n",
    "            jaccard = pairwise_jaccard(adata, i, j)\n",
    "            jaccard_matrix[i, j] = jaccard\n",
    "            jaccard_matrix[j, i] = jaccard\n",
    "\n",
    "    return jaccard_matrix\n"
   ]
  },
  {
   "cell_type": "code",
   "execution_count": 8,
   "metadata": {
    "metadata": {}
   },
   "outputs": [
    {
     "name": "stdout",
     "output_type": "stream",
     "text": [
      "2356 2613\n",
      "intersection 1093\n",
      "union 3876\n",
      "0.2819917440660475\n",
      "0.0034439563751220703\n"
     ]
    }
   ],
   "source": [
    "st = time.time()\n",
    "print(pairwise_jaccard(data, 0, 1))\n",
    "et = time.time()\n",
    "print(et - st)"
   ]
  },
  {
   "cell_type": "code",
   "execution_count": 9,
   "metadata": {
    "metadata": {}
   },
   "outputs": [
    {
     "name": "stdout",
     "output_type": "stream",
     "text": [
      "2356 1984\n",
      "intersection 935\n",
      "union 3405\n",
      "0.2745961820851689\n",
      "0.0014858245849609375\n"
     ]
    }
   ],
   "source": [
    "st = time.time()\n",
    "print(pairwise_jaccard(data, 0, 2))\n",
    "et = time.time()\n",
    "print(et - st)"
   ]
  },
  {
   "cell_type": "code",
   "execution_count": 10,
   "metadata": {},
   "outputs": [
    {
     "name": "stdout",
     "output_type": "stream",
     "text": [
      "2613 1984\n",
      "intersection 937\n",
      "union 3660\n"
     ]
    },
    {
     "data": {
      "text/plain": [
       "0.25601092896174865"
      ]
     },
     "execution_count": 10,
     "metadata": {},
     "output_type": "execute_result"
    }
   ],
   "source": [
    "pairwise_jaccard(data, 1, 2)"
   ]
  },
  {
   "cell_type": "code",
   "execution_count": null,
   "metadata": {},
   "outputs": [],
   "source": [
    "\n",
    "# Usage\n",
    "n_samples = data.shape[0]  # or any smaller number if you want to limit the computation\n",
    "jaccard_matrix = compute_jaccard_matrix(data, n_samples)\n"
   ]
  },
  {
   "cell_type": "code",
   "execution_count": null,
   "metadata": {},
   "outputs": [],
   "source": [
    "jaccard_matrix.shape"
   ]
  },
  {
   "cell_type": "code",
   "execution_count": null,
   "metadata": {},
   "outputs": [],
   "source": [
    "np.savetxt(\"Pancreas_jaccard_matrix_1.csv\", jaccard_matrix, delimiter=\",\")"
   ]
  },
  {
   "cell_type": "markdown",
   "metadata": {},
   "source": [
    "## Multi-processing"
   ]
  },
  {
   "cell_type": "code",
   "execution_count": 5,
   "metadata": {
    "metadata": {}
   },
   "outputs": [
    {
     "data": {
      "text/plain": [
       "[slice(0, 462, None),\n",
       " slice(462, 924, None),\n",
       " slice(924, 1386, None),\n",
       " slice(1386, 1848, None),\n",
       " slice(1848, 2310, None),\n",
       " slice(2310, 2772, None),\n",
       " slice(2772, 3234, None),\n",
       " slice(3234, 3696, None)]"
      ]
     },
     "execution_count": 5,
     "metadata": {},
     "output_type": "execute_result"
    }
   ],
   "source": [
    "from sklearn.utils import gen_batches\n",
    "\n",
    "n_samples = data.shape[0]\n",
    "list(gen_batches(n_samples, n_samples // 8))"
   ]
  },
  {
   "cell_type": "code",
   "execution_count": 6,
   "metadata": {},
   "outputs": [
    {
     "name": "stdout",
     "output_type": "stream",
     "text": [
      "<class 'slice'>\n",
      "slice(0, 5, None)\n",
      "slice(5, 10, None)\n",
      "slice(10, 15, None)\n",
      "slice(15, 20, None)\n"
     ]
    }
   ],
   "source": [
    "batches = list(gen_batches(20, 20 // 4))\n",
    "print(type(batches[0]))\n",
    "for idx in batches:\n",
    "    print(idx)"
   ]
  },
  {
   "cell_type": "code",
   "execution_count": 7,
   "metadata": {},
   "outputs": [
    {
     "name": "stdout",
     "output_type": "stream",
     "text": [
      "15 15\n",
      "15 16\n",
      "15 17\n",
      "15 18\n",
      "15 19\n",
      "16 16\n",
      "16 17\n",
      "16 18\n",
      "16 19\n",
      "17 17\n",
      "17 18\n",
      "17 19\n",
      "18 18\n",
      "18 19\n",
      "19 19\n"
     ]
    }
   ],
   "source": [
    "start = batches[-1].start\n",
    "end = batches[-1].stop\n",
    "for i in range(start, end):\n",
    "    for j in range(i, 20):\n",
    "        print(i, j)"
   ]
  },
  {
   "cell_type": "code",
   "execution_count": 18,
   "metadata": {},
   "outputs": [],
   "source": [
    "import multiprocessing as mp\n",
    "from sklearn.utils import gen_batches\n",
    "from pathos.multiprocessing import ProcessingPool\n",
    "\n",
    "def pairwise_jaccard(adata, idx_1, idx_2):\n",
    "    a = adata.X[idx_1].tocsr()\n",
    "    b = adata.X[idx_2].tocsr()\n",
    "    \n",
    "    intersection = len(np.intersect1d(a.indices, b.indices))\n",
    "    union = len(np.union1d(a.indices, b.indices))\n",
    "    jaccard = intersection / union if union != 0 else 0\n",
    "    return jaccard\n",
    "\n",
    "def compute_jaccard_matrix_batch(args):\n",
    "    adata, batch_idx = args\n",
    "    print('=====Starting batch:', batch_idx)\n",
    "    n_samples = adata.shape[0]\n",
    "    start_idx = batch_idx.start\n",
    "    stop_idx = batch_idx.stop\n",
    "    # jaccard_matrix_batch = np.zeros((n_samples, n_samples))\n",
    "    jaccard_matrix_batch = np.zeros((stop_idx - start_idx, n_samples))\n",
    "    for i in range(start_idx, stop_idx):\n",
    "        for j in range(i, n_samples):\n",
    "            jaccard = pairwise_jaccard(adata, i, j)\n",
    "            jaccard_matrix_batch[i, j] = jaccard\n",
    "            # jaccard_matrix_batch[j, i] = jaccard\n",
    "    return jaccard_matrix_batch\n",
    "\n",
    "def parallel_jaccard(adata, num_splits=8):\n",
    "    n_samples = adata.shape[0]\n",
    "    batches = list(gen_batches(n_samples, n_samples // num_splits))\n",
    "    \n",
    "    # Map the compute function to each batch of indices\n",
    "    # pool = multiprocessing.Pool(processes=num_splits)\n",
    "    # results = pool.starmap(compute_jaccard_matrix, [(adata, batch) for batch in batches])\n",
    "    # pool.close()\n",
    "    # pool.join()\n",
    "    with ProcessingPool(processes=num_splits) as pool:\n",
    "        results = pool.map(compute_jaccard_matrix_batch, [(adata, batch) for batch in batches])\n",
    "\n",
    "    return results\n",
    "    # Combine results\n",
    "    # full_matrix = np.zeros((n_samples, n_samples))\n",
    "    # for i, idx in enumerate(indices):\n",
    "    #     full_matrix[np.ix_(idx, idx)] = results[i]\n",
    "    result_dict = {}\n",
    "    for i, idx in enumerate(batches):\n",
    "        result_dict[idx] = results[i]\n",
    "\n",
    "    return result_dict"
   ]
  },
  {
   "cell_type": "code",
   "execution_count": 11,
   "metadata": {},
   "outputs": [],
   "source": [
    "jaccard_matrix_para = parallel_jaccard(data)\n"
   ]
  },
  {
   "cell_type": "code",
   "execution_count": 12,
   "metadata": {},
   "outputs": [
    {
     "data": {
      "text/plain": [
       "list"
      ]
     },
     "execution_count": 12,
     "metadata": {},
     "output_type": "execute_result"
    }
   ],
   "source": [
    "type(jaccard_matrix_para)"
   ]
  },
  {
   "cell_type": "code",
   "execution_count": 14,
   "metadata": {},
   "outputs": [
    {
     "data": {
      "text/plain": [
       "numpy.ndarray"
      ]
     },
     "execution_count": 14,
     "metadata": {},
     "output_type": "execute_result"
    }
   ],
   "source": [
    "type(jaccard_matrix_para[0])"
   ]
  },
  {
   "cell_type": "code",
   "execution_count": 15,
   "metadata": {},
   "outputs": [
    {
     "data": {
      "text/plain": [
       "(3696, 3696)"
      ]
     },
     "execution_count": 15,
     "metadata": {},
     "output_type": "execute_result"
    }
   ],
   "source": [
    "jaccard_matrix_para[0].shape"
   ]
  },
  {
   "cell_type": "code",
   "execution_count": 17,
   "metadata": {},
   "outputs": [],
   "source": [
    "os.chdir('/Users/evanli/Downloads/temp0509/Pancreas_Jaccard')\n",
    "i = 0\n",
    "for mat in jaccard_matrix_para:\n",
    "    np.savetxt(f\"Pancreas_jaccard_matrix_{i}.csv\", mat, delimiter=\",\")\n",
    "    i += 1"
   ]
  },
  {
   "cell_type": "code",
   "execution_count": 19,
   "metadata": {},
   "outputs": [
    {
     "ename": "IndexError",
     "evalue": "index 462 is out of bounds for axis 0 with size 462",
     "output_type": "error",
     "traceback": [
      "\u001b[0;31m---------------------------------------------------------------------------\u001b[0m",
      "\u001b[0;31mRemoteTraceback\u001b[0m                           Traceback (most recent call last)",
      "\u001b[0;31mRemoteTraceback\u001b[0m: \n\"\"\"\nTraceback (most recent call last):\n  File \"/opt/anaconda3/lib/python3.9/site-packages/multiprocess/pool.py\", line 125, in worker\n    result = (True, func(*args, **kwds))\n  File \"/opt/anaconda3/lib/python3.9/site-packages/multiprocess/pool.py\", line 48, in mapstar\n    return list(map(*args))\n  File \"/opt/anaconda3/lib/python3.9/site-packages/pathos/helpers/mp_helper.py\", line 15, in <lambda>\n    func = lambda args: f(*args)\n  File \"/var/folders/t1/zclr_f3s57j185f2tblqgwt00000gn/T/ipykernel_1342/2985080915.py\", line 25, in compute_jaccard_matrix_batch\nIndexError: index 462 is out of bounds for axis 0 with size 462\n\"\"\"",
      "\nThe above exception was the direct cause of the following exception:\n",
      "\u001b[0;31mIndexError\u001b[0m                                Traceback (most recent call last)",
      "\u001b[0;32m/var/folders/t1/zclr_f3s57j185f2tblqgwt00000gn/T/ipykernel_1342/1315807946.py\u001b[0m in \u001b[0;36m<module>\u001b[0;34m\u001b[0m\n\u001b[1;32m      1\u001b[0m \u001b[0;31m# slight modify\u001b[0m\u001b[0;34m\u001b[0m\u001b[0;34m\u001b[0m\u001b[0m\n\u001b[0;32m----> 2\u001b[0;31m \u001b[0mjaccard_matrix_para2\u001b[0m \u001b[0;34m=\u001b[0m \u001b[0mparallel_jaccard\u001b[0m\u001b[0;34m(\u001b[0m\u001b[0mdata\u001b[0m\u001b[0;34m)\u001b[0m\u001b[0;34m\u001b[0m\u001b[0;34m\u001b[0m\u001b[0m\n\u001b[0m",
      "\u001b[0;32m/var/folders/t1/zclr_f3s57j185f2tblqgwt00000gn/T/ipykernel_1342/2985080915.py\u001b[0m in \u001b[0;36mparallel_jaccard\u001b[0;34m(adata, num_splits)\u001b[0m\n\u001b[1;32m     37\u001b[0m     \u001b[0;31m# pool.join()\u001b[0m\u001b[0;34m\u001b[0m\u001b[0;34m\u001b[0m\u001b[0m\n\u001b[1;32m     38\u001b[0m     \u001b[0;32mwith\u001b[0m \u001b[0mProcessingPool\u001b[0m\u001b[0;34m(\u001b[0m\u001b[0mprocesses\u001b[0m\u001b[0;34m=\u001b[0m\u001b[0mnum_splits\u001b[0m\u001b[0;34m)\u001b[0m \u001b[0;32mas\u001b[0m \u001b[0mpool\u001b[0m\u001b[0;34m:\u001b[0m\u001b[0;34m\u001b[0m\u001b[0;34m\u001b[0m\u001b[0m\n\u001b[0;32m---> 39\u001b[0;31m         \u001b[0mresults\u001b[0m \u001b[0;34m=\u001b[0m \u001b[0mpool\u001b[0m\u001b[0;34m.\u001b[0m\u001b[0mmap\u001b[0m\u001b[0;34m(\u001b[0m\u001b[0mcompute_jaccard_matrix_batch\u001b[0m\u001b[0;34m,\u001b[0m \u001b[0;34m[\u001b[0m\u001b[0;34m(\u001b[0m\u001b[0madata\u001b[0m\u001b[0;34m,\u001b[0m \u001b[0mbatch\u001b[0m\u001b[0;34m)\u001b[0m \u001b[0;32mfor\u001b[0m \u001b[0mbatch\u001b[0m \u001b[0;32min\u001b[0m \u001b[0mbatches\u001b[0m\u001b[0;34m]\u001b[0m\u001b[0;34m)\u001b[0m\u001b[0;34m\u001b[0m\u001b[0;34m\u001b[0m\u001b[0m\n\u001b[0m\u001b[1;32m     40\u001b[0m \u001b[0;34m\u001b[0m\u001b[0m\n\u001b[1;32m     41\u001b[0m     \u001b[0;32mreturn\u001b[0m \u001b[0mresults\u001b[0m\u001b[0;34m\u001b[0m\u001b[0;34m\u001b[0m\u001b[0m\n",
      "\u001b[0;32m/opt/anaconda3/lib/python3.9/site-packages/pathos/multiprocessing.py\u001b[0m in \u001b[0;36mmap\u001b[0;34m(self, f, *args, **kwds)\u001b[0m\n\u001b[1;32m    152\u001b[0m             \u001b[0;32mif\u001b[0m \u001b[0;32mnot\u001b[0m \u001b[0mOLD312a7\u001b[0m\u001b[0;34m:\u001b[0m\u001b[0;34m\u001b[0m\u001b[0;34m\u001b[0m\u001b[0m\n\u001b[1;32m    153\u001b[0m                 \u001b[0mwarnings\u001b[0m\u001b[0;34m.\u001b[0m\u001b[0mfilterwarnings\u001b[0m\u001b[0;34m(\u001b[0m\u001b[0;34m'ignore'\u001b[0m\u001b[0;34m,\u001b[0m \u001b[0mcategory\u001b[0m\u001b[0;34m=\u001b[0m\u001b[0mDeprecationWarning\u001b[0m\u001b[0;34m)\u001b[0m\u001b[0;34m\u001b[0m\u001b[0;34m\u001b[0m\u001b[0m\n\u001b[0;32m--> 154\u001b[0;31m             \u001b[0;32mreturn\u001b[0m \u001b[0m_pool\u001b[0m\u001b[0;34m.\u001b[0m\u001b[0mmap\u001b[0m\u001b[0;34m(\u001b[0m\u001b[0mstar\u001b[0m\u001b[0;34m(\u001b[0m\u001b[0mf\u001b[0m\u001b[0;34m)\u001b[0m\u001b[0;34m,\u001b[0m \u001b[0mzip\u001b[0m\u001b[0;34m(\u001b[0m\u001b[0;34m*\u001b[0m\u001b[0margs\u001b[0m\u001b[0;34m)\u001b[0m\u001b[0;34m,\u001b[0m \u001b[0;34m**\u001b[0m\u001b[0mkwds\u001b[0m\u001b[0;34m)\u001b[0m\u001b[0;34m\u001b[0m\u001b[0;34m\u001b[0m\u001b[0m\n\u001b[0m\u001b[1;32m    155\u001b[0m     \u001b[0mmap\u001b[0m\u001b[0;34m.\u001b[0m\u001b[0m__doc__\u001b[0m \u001b[0;34m=\u001b[0m \u001b[0mAbstractWorkerPool\u001b[0m\u001b[0;34m.\u001b[0m\u001b[0mmap\u001b[0m\u001b[0;34m.\u001b[0m\u001b[0m__doc__\u001b[0m\u001b[0;34m\u001b[0m\u001b[0;34m\u001b[0m\u001b[0m\n\u001b[1;32m    156\u001b[0m     \u001b[0;32mdef\u001b[0m \u001b[0mimap\u001b[0m\u001b[0;34m(\u001b[0m\u001b[0mself\u001b[0m\u001b[0;34m,\u001b[0m \u001b[0mf\u001b[0m\u001b[0;34m,\u001b[0m \u001b[0;34m*\u001b[0m\u001b[0margs\u001b[0m\u001b[0;34m,\u001b[0m \u001b[0;34m**\u001b[0m\u001b[0mkwds\u001b[0m\u001b[0;34m)\u001b[0m\u001b[0;34m:\u001b[0m\u001b[0;34m\u001b[0m\u001b[0;34m\u001b[0m\u001b[0m\n",
      "\u001b[0;32m/opt/anaconda3/lib/python3.9/site-packages/multiprocess/pool.py\u001b[0m in \u001b[0;36mmap\u001b[0;34m(self, func, iterable, chunksize)\u001b[0m\n\u001b[1;32m    362\u001b[0m         \u001b[0;32min\u001b[0m \u001b[0ma\u001b[0m \u001b[0mlist\u001b[0m \u001b[0mthat\u001b[0m \u001b[0;32mis\u001b[0m \u001b[0mreturned\u001b[0m\u001b[0;34m.\u001b[0m\u001b[0;34m\u001b[0m\u001b[0;34m\u001b[0m\u001b[0m\n\u001b[1;32m    363\u001b[0m         '''\n\u001b[0;32m--> 364\u001b[0;31m         \u001b[0;32mreturn\u001b[0m \u001b[0mself\u001b[0m\u001b[0;34m.\u001b[0m\u001b[0m_map_async\u001b[0m\u001b[0;34m(\u001b[0m\u001b[0mfunc\u001b[0m\u001b[0;34m,\u001b[0m \u001b[0miterable\u001b[0m\u001b[0;34m,\u001b[0m \u001b[0mmapstar\u001b[0m\u001b[0;34m,\u001b[0m \u001b[0mchunksize\u001b[0m\u001b[0;34m)\u001b[0m\u001b[0;34m.\u001b[0m\u001b[0mget\u001b[0m\u001b[0;34m(\u001b[0m\u001b[0;34m)\u001b[0m\u001b[0;34m\u001b[0m\u001b[0;34m\u001b[0m\u001b[0m\n\u001b[0m\u001b[1;32m    365\u001b[0m \u001b[0;34m\u001b[0m\u001b[0m\n\u001b[1;32m    366\u001b[0m     \u001b[0;32mdef\u001b[0m \u001b[0mstarmap\u001b[0m\u001b[0;34m(\u001b[0m\u001b[0mself\u001b[0m\u001b[0;34m,\u001b[0m \u001b[0mfunc\u001b[0m\u001b[0;34m,\u001b[0m \u001b[0miterable\u001b[0m\u001b[0;34m,\u001b[0m \u001b[0mchunksize\u001b[0m\u001b[0;34m=\u001b[0m\u001b[0;32mNone\u001b[0m\u001b[0;34m)\u001b[0m\u001b[0;34m:\u001b[0m\u001b[0;34m\u001b[0m\u001b[0;34m\u001b[0m\u001b[0m\n",
      "\u001b[0;32m/opt/anaconda3/lib/python3.9/site-packages/multiprocess/pool.py\u001b[0m in \u001b[0;36mget\u001b[0;34m(self, timeout)\u001b[0m\n\u001b[1;32m    769\u001b[0m             \u001b[0;32mreturn\u001b[0m \u001b[0mself\u001b[0m\u001b[0;34m.\u001b[0m\u001b[0m_value\u001b[0m\u001b[0;34m\u001b[0m\u001b[0;34m\u001b[0m\u001b[0m\n\u001b[1;32m    770\u001b[0m         \u001b[0;32melse\u001b[0m\u001b[0;34m:\u001b[0m\u001b[0;34m\u001b[0m\u001b[0;34m\u001b[0m\u001b[0m\n\u001b[0;32m--> 771\u001b[0;31m             \u001b[0;32mraise\u001b[0m \u001b[0mself\u001b[0m\u001b[0;34m.\u001b[0m\u001b[0m_value\u001b[0m\u001b[0;34m\u001b[0m\u001b[0;34m\u001b[0m\u001b[0m\n\u001b[0m\u001b[1;32m    772\u001b[0m \u001b[0;34m\u001b[0m\u001b[0m\n\u001b[1;32m    773\u001b[0m     \u001b[0;32mdef\u001b[0m \u001b[0m_set\u001b[0m\u001b[0;34m(\u001b[0m\u001b[0mself\u001b[0m\u001b[0;34m,\u001b[0m \u001b[0mi\u001b[0m\u001b[0;34m,\u001b[0m \u001b[0mobj\u001b[0m\u001b[0;34m)\u001b[0m\u001b[0;34m:\u001b[0m\u001b[0;34m\u001b[0m\u001b[0;34m\u001b[0m\u001b[0m\n",
      "\u001b[0;32m/opt/anaconda3/lib/python3.9/site-packages/multiprocess/pool.py\u001b[0m in \u001b[0;36mworker\u001b[0;34m()\u001b[0m\n\u001b[1;32m    123\u001b[0m         \u001b[0mjob\u001b[0m\u001b[0;34m,\u001b[0m \u001b[0mi\u001b[0m\u001b[0;34m,\u001b[0m \u001b[0mfunc\u001b[0m\u001b[0;34m,\u001b[0m \u001b[0margs\u001b[0m\u001b[0;34m,\u001b[0m \u001b[0mkwds\u001b[0m \u001b[0;34m=\u001b[0m \u001b[0mtask\u001b[0m\u001b[0;34m\u001b[0m\u001b[0;34m\u001b[0m\u001b[0m\n\u001b[1;32m    124\u001b[0m         \u001b[0;32mtry\u001b[0m\u001b[0;34m:\u001b[0m\u001b[0;34m\u001b[0m\u001b[0;34m\u001b[0m\u001b[0m\n\u001b[0;32m--> 125\u001b[0;31m             \u001b[0mresult\u001b[0m \u001b[0;34m=\u001b[0m \u001b[0;34m(\u001b[0m\u001b[0;32mTrue\u001b[0m\u001b[0;34m,\u001b[0m \u001b[0mfunc\u001b[0m\u001b[0;34m(\u001b[0m\u001b[0;34m*\u001b[0m\u001b[0margs\u001b[0m\u001b[0;34m,\u001b[0m \u001b[0;34m**\u001b[0m\u001b[0mkwds\u001b[0m\u001b[0;34m)\u001b[0m\u001b[0;34m)\u001b[0m\u001b[0;34m\u001b[0m\u001b[0;34m\u001b[0m\u001b[0m\n\u001b[0m\u001b[1;32m    126\u001b[0m         \u001b[0;32mexcept\u001b[0m \u001b[0mException\u001b[0m \u001b[0;32mas\u001b[0m \u001b[0me\u001b[0m\u001b[0;34m:\u001b[0m\u001b[0;34m\u001b[0m\u001b[0;34m\u001b[0m\u001b[0m\n\u001b[1;32m    127\u001b[0m             \u001b[0;32mif\u001b[0m \u001b[0mwrap_exception\u001b[0m \u001b[0;32mand\u001b[0m \u001b[0mfunc\u001b[0m \u001b[0;32mis\u001b[0m \u001b[0;32mnot\u001b[0m \u001b[0m_helper_reraises_exception\u001b[0m\u001b[0;34m:\u001b[0m\u001b[0;34m\u001b[0m\u001b[0;34m\u001b[0m\u001b[0m\n",
      "\u001b[0;32m/opt/anaconda3/lib/python3.9/site-packages/multiprocess/pool.py\u001b[0m in \u001b[0;36mmapstar\u001b[0;34m()\u001b[0m\n\u001b[1;32m     46\u001b[0m \u001b[0;34m\u001b[0m\u001b[0m\n\u001b[1;32m     47\u001b[0m \u001b[0;32mdef\u001b[0m \u001b[0mmapstar\u001b[0m\u001b[0;34m(\u001b[0m\u001b[0margs\u001b[0m\u001b[0;34m)\u001b[0m\u001b[0;34m:\u001b[0m\u001b[0;34m\u001b[0m\u001b[0;34m\u001b[0m\u001b[0m\n\u001b[0;32m---> 48\u001b[0;31m     \u001b[0;32mreturn\u001b[0m \u001b[0mlist\u001b[0m\u001b[0;34m(\u001b[0m\u001b[0mmap\u001b[0m\u001b[0;34m(\u001b[0m\u001b[0;34m*\u001b[0m\u001b[0margs\u001b[0m\u001b[0;34m)\u001b[0m\u001b[0;34m)\u001b[0m\u001b[0;34m\u001b[0m\u001b[0;34m\u001b[0m\u001b[0m\n\u001b[0m\u001b[1;32m     49\u001b[0m \u001b[0;34m\u001b[0m\u001b[0m\n\u001b[1;32m     50\u001b[0m \u001b[0;32mdef\u001b[0m \u001b[0mstarmapstar\u001b[0m\u001b[0;34m(\u001b[0m\u001b[0margs\u001b[0m\u001b[0;34m)\u001b[0m\u001b[0;34m:\u001b[0m\u001b[0;34m\u001b[0m\u001b[0;34m\u001b[0m\u001b[0m\n",
      "\u001b[0;32m/opt/anaconda3/lib/python3.9/site-packages/pathos/helpers/mp_helper.py\u001b[0m in \u001b[0;36m<lambda>\u001b[0;34m()\u001b[0m\n\u001b[1;32m     13\u001b[0m \u001b[0;32mdef\u001b[0m \u001b[0mstarargs\u001b[0m\u001b[0;34m(\u001b[0m\u001b[0mf\u001b[0m\u001b[0;34m)\u001b[0m\u001b[0;34m:\u001b[0m\u001b[0;34m\u001b[0m\u001b[0;34m\u001b[0m\u001b[0m\n\u001b[1;32m     14\u001b[0m     \u001b[0;34m\"\"\"decorator to convert a many-arg function to a single-arg function\"\"\"\u001b[0m\u001b[0;34m\u001b[0m\u001b[0;34m\u001b[0m\u001b[0m\n\u001b[0;32m---> 15\u001b[0;31m     \u001b[0mfunc\u001b[0m \u001b[0;34m=\u001b[0m \u001b[0;32mlambda\u001b[0m \u001b[0margs\u001b[0m\u001b[0;34m:\u001b[0m \u001b[0mf\u001b[0m\u001b[0;34m(\u001b[0m\u001b[0;34m*\u001b[0m\u001b[0margs\u001b[0m\u001b[0;34m)\u001b[0m\u001b[0;34m\u001b[0m\u001b[0;34m\u001b[0m\u001b[0m\n\u001b[0m\u001b[1;32m     16\u001b[0m    \u001b[0;31m#func.__module__ = f.__module__\u001b[0m\u001b[0;34m\u001b[0m\u001b[0;34m\u001b[0m\u001b[0m\n\u001b[1;32m     17\u001b[0m    \u001b[0;31m#func.__name__ = f.__name__\u001b[0m\u001b[0;34m\u001b[0m\u001b[0;34m\u001b[0m\u001b[0m\n",
      "\u001b[0;32m/var/folders/t1/zclr_f3s57j185f2tblqgwt00000gn/T/ipykernel_1342/2985080915.py\u001b[0m in \u001b[0;36mcompute_jaccard_matrix_batch\u001b[0;34m()\u001b[0m\n\u001b[1;32m     23\u001b[0m         \u001b[0;32mfor\u001b[0m \u001b[0mj\u001b[0m \u001b[0;32min\u001b[0m \u001b[0mrange\u001b[0m\u001b[0;34m(\u001b[0m\u001b[0mi\u001b[0m\u001b[0;34m,\u001b[0m \u001b[0mn_samples\u001b[0m\u001b[0;34m)\u001b[0m\u001b[0;34m:\u001b[0m\u001b[0;34m\u001b[0m\u001b[0;34m\u001b[0m\u001b[0m\n\u001b[1;32m     24\u001b[0m             \u001b[0mjaccard\u001b[0m \u001b[0;34m=\u001b[0m \u001b[0mpairwise_jaccard\u001b[0m\u001b[0;34m(\u001b[0m\u001b[0madata\u001b[0m\u001b[0;34m,\u001b[0m \u001b[0mi\u001b[0m\u001b[0;34m,\u001b[0m \u001b[0mj\u001b[0m\u001b[0;34m)\u001b[0m\u001b[0;34m\u001b[0m\u001b[0;34m\u001b[0m\u001b[0m\n\u001b[0;32m---> 25\u001b[0;31m             \u001b[0mjaccard_matrix_batch\u001b[0m\u001b[0;34m[\u001b[0m\u001b[0mi\u001b[0m\u001b[0;34m,\u001b[0m \u001b[0mj\u001b[0m\u001b[0;34m]\u001b[0m \u001b[0;34m=\u001b[0m \u001b[0mjaccard\u001b[0m\u001b[0;34m\u001b[0m\u001b[0;34m\u001b[0m\u001b[0m\n\u001b[0m\u001b[1;32m     26\u001b[0m             \u001b[0;31m# jaccard_matrix_batch[j, i] = jaccard\u001b[0m\u001b[0;34m\u001b[0m\u001b[0;34m\u001b[0m\u001b[0m\n\u001b[1;32m     27\u001b[0m     \u001b[0;32mreturn\u001b[0m \u001b[0mjaccard_matrix_batch\u001b[0m\u001b[0;34m\u001b[0m\u001b[0;34m\u001b[0m\u001b[0m\n",
      "\u001b[0;31mIndexError\u001b[0m: index 462 is out of bounds for axis 0 with size 462"
     ]
    }
   ],
   "source": [
    "# slight modify\n",
    "jaccard_matrix_para2 = parallel_jaccard(data)\n"
   ]
  },
  {
   "cell_type": "markdown",
   "metadata": {},
   "source": [
    "## Pancreas_jaccard_matrix_1"
   ]
  },
  {
   "cell_type": "code",
   "execution_count": 54,
   "metadata": {
    "metadata": {}
   },
   "outputs": [
    {
     "data": {
      "text/html": [
       "<div>\n",
       "<style scoped>\n",
       "    .dataframe tbody tr th:only-of-type {\n",
       "        vertical-align: middle;\n",
       "    }\n",
       "\n",
       "    .dataframe tbody tr th {\n",
       "        vertical-align: top;\n",
       "    }\n",
       "\n",
       "    .dataframe thead th {\n",
       "        text-align: right;\n",
       "    }\n",
       "</style>\n",
       "<table border=\"1\" class=\"dataframe\">\n",
       "  <thead>\n",
       "    <tr style=\"text-align: right;\">\n",
       "      <th></th>\n",
       "      <th>0</th>\n",
       "      <th>1</th>\n",
       "      <th>2</th>\n",
       "      <th>3</th>\n",
       "      <th>4</th>\n",
       "      <th>5</th>\n",
       "      <th>6</th>\n",
       "      <th>7</th>\n",
       "      <th>8</th>\n",
       "      <th>9</th>\n",
       "      <th>...</th>\n",
       "      <th>3686</th>\n",
       "      <th>3687</th>\n",
       "      <th>3688</th>\n",
       "      <th>3689</th>\n",
       "      <th>3690</th>\n",
       "      <th>3691</th>\n",
       "      <th>3692</th>\n",
       "      <th>3693</th>\n",
       "      <th>3694</th>\n",
       "      <th>3695</th>\n",
       "    </tr>\n",
       "  </thead>\n",
       "  <tbody>\n",
       "    <tr>\n",
       "      <th>0</th>\n",
       "      <td>1.000000</td>\n",
       "      <td>0.281992</td>\n",
       "      <td>0.274596</td>\n",
       "      <td>0.281258</td>\n",
       "      <td>0.279630</td>\n",
       "      <td>0.284236</td>\n",
       "      <td>0.322736</td>\n",
       "      <td>0.286192</td>\n",
       "      <td>0.296943</td>\n",
       "      <td>0.278922</td>\n",
       "      <td>...</td>\n",
       "      <td>0.285937</td>\n",
       "      <td>0.271801</td>\n",
       "      <td>0.293593</td>\n",
       "      <td>0.278644</td>\n",
       "      <td>0.311831</td>\n",
       "      <td>0.326824</td>\n",
       "      <td>0.292937</td>\n",
       "      <td>0.264040</td>\n",
       "      <td>0.318106</td>\n",
       "      <td>0.312383</td>\n",
       "    </tr>\n",
       "    <tr>\n",
       "      <th>1</th>\n",
       "      <td>0.281992</td>\n",
       "      <td>1.000000</td>\n",
       "      <td>0.256011</td>\n",
       "      <td>0.337488</td>\n",
       "      <td>0.278219</td>\n",
       "      <td>0.343825</td>\n",
       "      <td>0.314057</td>\n",
       "      <td>0.356837</td>\n",
       "      <td>0.338734</td>\n",
       "      <td>0.328210</td>\n",
       "      <td>...</td>\n",
       "      <td>0.326801</td>\n",
       "      <td>0.276155</td>\n",
       "      <td>0.349007</td>\n",
       "      <td>0.251384</td>\n",
       "      <td>0.304832</td>\n",
       "      <td>0.320493</td>\n",
       "      <td>0.316347</td>\n",
       "      <td>0.314184</td>\n",
       "      <td>0.311505</td>\n",
       "      <td>0.296836</td>\n",
       "    </tr>\n",
       "    <tr>\n",
       "      <th>2</th>\n",
       "      <td>0.274596</td>\n",
       "      <td>0.256011</td>\n",
       "      <td>1.000000</td>\n",
       "      <td>0.247168</td>\n",
       "      <td>0.257494</td>\n",
       "      <td>0.258302</td>\n",
       "      <td>0.288374</td>\n",
       "      <td>0.254710</td>\n",
       "      <td>0.256318</td>\n",
       "      <td>0.253154</td>\n",
       "      <td>...</td>\n",
       "      <td>0.257268</td>\n",
       "      <td>0.249839</td>\n",
       "      <td>0.264607</td>\n",
       "      <td>0.267427</td>\n",
       "      <td>0.279740</td>\n",
       "      <td>0.280574</td>\n",
       "      <td>0.260368</td>\n",
       "      <td>0.248346</td>\n",
       "      <td>0.289586</td>\n",
       "      <td>0.301665</td>\n",
       "    </tr>\n",
       "    <tr>\n",
       "      <th>3</th>\n",
       "      <td>0.281258</td>\n",
       "      <td>0.337488</td>\n",
       "      <td>0.247168</td>\n",
       "      <td>1.000000</td>\n",
       "      <td>0.267433</td>\n",
       "      <td>0.347485</td>\n",
       "      <td>0.316067</td>\n",
       "      <td>0.358319</td>\n",
       "      <td>0.364387</td>\n",
       "      <td>0.326551</td>\n",
       "      <td>...</td>\n",
       "      <td>0.315346</td>\n",
       "      <td>0.260085</td>\n",
       "      <td>0.347265</td>\n",
       "      <td>0.247579</td>\n",
       "      <td>0.301469</td>\n",
       "      <td>0.316827</td>\n",
       "      <td>0.307104</td>\n",
       "      <td>0.297883</td>\n",
       "      <td>0.314467</td>\n",
       "      <td>0.294498</td>\n",
       "    </tr>\n",
       "    <tr>\n",
       "      <th>4</th>\n",
       "      <td>0.279630</td>\n",
       "      <td>0.278219</td>\n",
       "      <td>0.257494</td>\n",
       "      <td>0.267433</td>\n",
       "      <td>1.000000</td>\n",
       "      <td>0.282045</td>\n",
       "      <td>0.302241</td>\n",
       "      <td>0.276340</td>\n",
       "      <td>0.275870</td>\n",
       "      <td>0.286497</td>\n",
       "      <td>...</td>\n",
       "      <td>0.281908</td>\n",
       "      <td>0.284953</td>\n",
       "      <td>0.310181</td>\n",
       "      <td>0.260098</td>\n",
       "      <td>0.304801</td>\n",
       "      <td>0.321308</td>\n",
       "      <td>0.324532</td>\n",
       "      <td>0.273706</td>\n",
       "      <td>0.302111</td>\n",
       "      <td>0.289117</td>\n",
       "    </tr>\n",
       "  </tbody>\n",
       "</table>\n",
       "<p>5 rows × 3696 columns</p>\n",
       "</div>"
      ],
      "text/plain": [
       "       0         1         2         3         4         5         6     \\\n",
       "0  1.000000  0.281992  0.274596  0.281258  0.279630  0.284236  0.322736   \n",
       "1  0.281992  1.000000  0.256011  0.337488  0.278219  0.343825  0.314057   \n",
       "2  0.274596  0.256011  1.000000  0.247168  0.257494  0.258302  0.288374   \n",
       "3  0.281258  0.337488  0.247168  1.000000  0.267433  0.347485  0.316067   \n",
       "4  0.279630  0.278219  0.257494  0.267433  1.000000  0.282045  0.302241   \n",
       "\n",
       "       7         8         9     ...      3686      3687      3688      3689  \\\n",
       "0  0.286192  0.296943  0.278922  ...  0.285937  0.271801  0.293593  0.278644   \n",
       "1  0.356837  0.338734  0.328210  ...  0.326801  0.276155  0.349007  0.251384   \n",
       "2  0.254710  0.256318  0.253154  ...  0.257268  0.249839  0.264607  0.267427   \n",
       "3  0.358319  0.364387  0.326551  ...  0.315346  0.260085  0.347265  0.247579   \n",
       "4  0.276340  0.275870  0.286497  ...  0.281908  0.284953  0.310181  0.260098   \n",
       "\n",
       "       3690      3691      3692      3693      3694      3695  \n",
       "0  0.311831  0.326824  0.292937  0.264040  0.318106  0.312383  \n",
       "1  0.304832  0.320493  0.316347  0.314184  0.311505  0.296836  \n",
       "2  0.279740  0.280574  0.260368  0.248346  0.289586  0.301665  \n",
       "3  0.301469  0.316827  0.307104  0.297883  0.314467  0.294498  \n",
       "4  0.304801  0.321308  0.324532  0.273706  0.302111  0.289117  \n",
       "\n",
       "[5 rows x 3696 columns]"
      ]
     },
     "execution_count": 54,
     "metadata": {},
     "output_type": "execute_result"
    }
   ],
   "source": [
    "pancreas_matrix = pd.read_csv(r\"C:\\Users\\evanlee\\Documents\\Research_datasets\\larger_files_100M\\Pancreas_jaccard_matrix_1.csv\", header=None)\n",
    "pancreas_matrix.head()"
   ]
  },
  {
   "cell_type": "code",
   "execution_count": 60,
   "metadata": {
    "metadata": {}
   },
   "outputs": [
    {
     "data": {
      "image/png": "[encoded data removed]",
      "text/plain": [
       "<Figure size 640x480 with 1 Axes>"
      ]
     },
     "metadata": {},
     "output_type": "display_data"
    }
   ],
   "source": [
    "data.obsp['distances'] = pancreas_matrix.values\n",
    "sc.pl.umap(data, color='clusters')"
   ]
  },
  {
   "cell_type": "code",
   "execution_count": null,
   "metadata": {},
   "outputs": [],
   "source": []
  }
 ],
 "metadata": {
  "kernelspec": {
   "display_name": "base",
   "language": "python",
   "name": "python3"
  },
  "language_info": {
   "codemirror_mode": {
    "name": "ipython",
    "version": 3
   },
   "file_extension": ".py",
   "mimetype": "text/x-python",
   "name": "python",
   "nbconvert_exporter": "python",
   "pygments_lexer": "ipython3",
   "version": "3.9.12"
  }
 },
 "nbformat": 4,
 "nbformat_minor": 2
}

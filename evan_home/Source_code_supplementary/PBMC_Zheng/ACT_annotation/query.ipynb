{
 "cells": [
  {
   "cell_type": "code",
   "execution_count": 1,
   "metadata": {
    "metadata": {}
   },
   "outputs": [
    {
     "name": "stderr",
     "output_type": "stream",
     "text": [
      "/opt/anaconda3/lib/python3.9/site-packages/scipy/__init__.py:146: UserWarning: A NumPy version >=1.16.5 and <1.23.0 is required for this version of SciPy (detected version 1.26.4\n",
      "  warnings.warn(f\"A NumPy version >={np_minversion} and <{np_maxversion}\"\n"
     ]
    }
   ],
   "source": [
    "import numpy as np\n",
    "import pandas as pd\n",
    "import matplotlib.pyplot as plt\n",
    "import scanpy as sc\n",
    "import os"
   ]
  },
  {
   "cell_type": "markdown",
   "metadata": {},
   "source": [
    "## Read PreLect features"
   ]
  },
  {
   "cell_type": "code",
   "execution_count": 2,
   "metadata": {
    "metadata": {}
   },
   "outputs": [
    {
     "name": "stdout",
     "output_type": "stream",
     "text": [
      "['Leiden_0', 'Leiden_1', 'Leiden_2', 'Leiden_3', 'Leiden_4', 'Leiden_5', 'Leiden_6', 'Leiden_7', 'Leiden_8', 'Leiden_9', 'Leiden_10', 'Leiden_11', 'Leiden_12', 'Leiden_13', 'Leiden_14', 'Leiden_15']\n"
     ]
    }
   ],
   "source": [
    "clusters = [f'Leiden_{i}' for i in range(0, 16)]\n",
    "print(clusters)"
   ]
  },
  {
   "cell_type": "code",
   "execution_count": 4,
   "metadata": {
    "metadata": {}
   },
   "outputs": [
    {
     "data": {
      "text/plain": [
       "'Leiden_0'"
      ]
     },
     "execution_count": 4,
     "metadata": {},
     "output_type": "execute_result"
    }
   ],
   "source": [
    "clusters[0]"
   ]
  },
  {
   "cell_type": "code",
   "execution_count": 7,
   "metadata": {
    "metadata": {}
   },
   "outputs": [
    {
     "data": {
      "text/html": [
       "<div>\n",
       "<style scoped>\n",
       "    .dataframe tbody tr th:only-of-type {\n",
       "        vertical-align: middle;\n",
       "    }\n",
       "\n",
       "    .dataframe tbody tr th {\n",
       "        vertical-align: top;\n",
       "    }\n",
       "\n",
       "    .dataframe thead th {\n",
       "        text-align: right;\n",
       "    }\n",
       "</style>\n",
       "<table border=\"1\" class=\"dataframe\">\n",
       "  <thead>\n",
       "    <tr style=\"text-align: right;\">\n",
       "      <th></th>\n",
       "      <th>Gene</th>\n",
       "      <th>Weight</th>\n",
       "      <th>Tendency</th>\n",
       "      <th>Symbol</th>\n",
       "    </tr>\n",
       "  </thead>\n",
       "  <tbody>\n",
       "    <tr>\n",
       "      <th>0</th>\n",
       "      <td>ENSG00000142669</td>\n",
       "      <td>0.046448</td>\n",
       "      <td>1</td>\n",
       "      <td>SH3BGRL3</td>\n",
       "    </tr>\n",
       "    <tr>\n",
       "      <th>1</th>\n",
       "      <td>ENSG00000169442</td>\n",
       "      <td>0.279994</td>\n",
       "      <td>1</td>\n",
       "      <td>CD52</td>\n",
       "    </tr>\n",
       "    <tr>\n",
       "      <th>2</th>\n",
       "      <td>ENSG00000122406</td>\n",
       "      <td>0.041489</td>\n",
       "      <td>1</td>\n",
       "      <td>RPL5</td>\n",
       "    </tr>\n",
       "    <tr>\n",
       "      <th>3</th>\n",
       "      <td>ENSG00000197747</td>\n",
       "      <td>0.116894</td>\n",
       "      <td>1</td>\n",
       "      <td>S100A10</td>\n",
       "    </tr>\n",
       "    <tr>\n",
       "      <th>4</th>\n",
       "      <td>ENSG00000196154</td>\n",
       "      <td>1.376208</td>\n",
       "      <td>1</td>\n",
       "      <td>S100A4</td>\n",
       "    </tr>\n",
       "    <tr>\n",
       "      <th>...</th>\n",
       "      <td>...</td>\n",
       "      <td>...</td>\n",
       "      <td>...</td>\n",
       "      <td>...</td>\n",
       "    </tr>\n",
       "    <tr>\n",
       "      <th>92</th>\n",
       "      <td>ENSG00000198888</td>\n",
       "      <td>-0.057154</td>\n",
       "      <td>0</td>\n",
       "      <td>MT-ND1</td>\n",
       "    </tr>\n",
       "    <tr>\n",
       "      <th>93</th>\n",
       "      <td>ENSG00000198804</td>\n",
       "      <td>-0.265438</td>\n",
       "      <td>0</td>\n",
       "      <td>MT-CO1</td>\n",
       "    </tr>\n",
       "    <tr>\n",
       "      <th>94</th>\n",
       "      <td>ENSG00000198712</td>\n",
       "      <td>-0.183598</td>\n",
       "      <td>0</td>\n",
       "      <td>MT-CO2</td>\n",
       "    </tr>\n",
       "    <tr>\n",
       "      <th>95</th>\n",
       "      <td>ENSG00000198938</td>\n",
       "      <td>-0.117060</td>\n",
       "      <td>0</td>\n",
       "      <td>MT-CO3</td>\n",
       "    </tr>\n",
       "    <tr>\n",
       "      <th>96</th>\n",
       "      <td>ENSG00000198886</td>\n",
       "      <td>-0.044109</td>\n",
       "      <td>0</td>\n",
       "      <td>MT-ND4</td>\n",
       "    </tr>\n",
       "  </tbody>\n",
       "</table>\n",
       "<p>97 rows × 4 columns</p>\n",
       "</div>"
      ],
      "text/plain": [
       "               Gene    Weight  Tendency    Symbol\n",
       "0   ENSG00000142669  0.046448         1  SH3BGRL3\n",
       "1   ENSG00000169442  0.279994         1      CD52\n",
       "2   ENSG00000122406  0.041489         1      RPL5\n",
       "3   ENSG00000197747  0.116894         1   S100A10\n",
       "4   ENSG00000196154  1.376208         1    S100A4\n",
       "..              ...       ...       ...       ...\n",
       "92  ENSG00000198888 -0.057154         0    MT-ND1\n",
       "93  ENSG00000198804 -0.265438         0    MT-CO1\n",
       "94  ENSG00000198712 -0.183598         0    MT-CO2\n",
       "95  ENSG00000198938 -0.117060         0    MT-CO3\n",
       "96  ENSG00000198886 -0.044109         0    MT-ND4\n",
       "\n",
       "[97 rows x 4 columns]"
      ]
     },
     "execution_count": 7,
     "metadata": {},
     "output_type": "execute_result"
    }
   ],
   "source": [
    "os.chdir('/Users/evanli/Documents/EvanPys/Progress/PBMC_Zheng/Leiden_HVG_PreLect/feature_selection_symbol')\n",
    "df = pd.read_csv('Leiden_0_features_symbol.txt', names=['Gene', 'Weight', 'Tendency', 'Symbol'], sep='\\t', header=0)\n",
    "df"
   ]
  },
  {
   "cell_type": "code",
   "execution_count": 8,
   "metadata": {
    "metadata": {}
   },
   "outputs": [
    {
     "name": "stdout",
     "output_type": "stream",
     "text": [
      "Leiden_0_features_symbol.txt\n",
      "Leiden_1_features_symbol.txt\n",
      "Leiden_2_features_symbol.txt\n",
      "Leiden_3_features_symbol.txt\n",
      "Leiden_4_features_symbol.txt\n",
      "Leiden_5_features_symbol.txt\n",
      "Leiden_6_features_symbol.txt\n",
      "Leiden_7_features_symbol.txt\n",
      "Leiden_8_features_symbol.txt\n",
      "Leiden_9_features_symbol.txt\n",
      "Leiden_10_features_symbol.txt\n",
      "Leiden_11_features_symbol.txt\n",
      "Leiden_12_features_symbol.txt\n",
      "Leiden_13_features_symbol.txt\n",
      "Leiden_14_features_symbol.txt\n",
      "Leiden_15_features_symbol.txt\n"
     ]
    },
    {
     "data": {
      "text/html": [
       "<div>\n",
       "<style scoped>\n",
       "    .dataframe tbody tr th:only-of-type {\n",
       "        vertical-align: middle;\n",
       "    }\n",
       "\n",
       "    .dataframe tbody tr th {\n",
       "        vertical-align: top;\n",
       "    }\n",
       "\n",
       "    .dataframe thead th {\n",
       "        text-align: right;\n",
       "    }\n",
       "</style>\n",
       "<table border=\"1\" class=\"dataframe\">\n",
       "  <thead>\n",
       "    <tr style=\"text-align: right;\">\n",
       "      <th></th>\n",
       "      <th>Feature_count</th>\n",
       "      <th>Positive_feature_count</th>\n",
       "    </tr>\n",
       "  </thead>\n",
       "  <tbody>\n",
       "    <tr>\n",
       "      <th>Leiden_0</th>\n",
       "      <td>97</td>\n",
       "      <td>45</td>\n",
       "    </tr>\n",
       "    <tr>\n",
       "      <th>Leiden_1</th>\n",
       "      <td>21</td>\n",
       "      <td>12</td>\n",
       "    </tr>\n",
       "    <tr>\n",
       "      <th>Leiden_2</th>\n",
       "      <td>141</td>\n",
       "      <td>79</td>\n",
       "    </tr>\n",
       "    <tr>\n",
       "      <th>Leiden_3</th>\n",
       "      <td>89</td>\n",
       "      <td>46</td>\n",
       "    </tr>\n",
       "    <tr>\n",
       "      <th>Leiden_4</th>\n",
       "      <td>152</td>\n",
       "      <td>106</td>\n",
       "    </tr>\n",
       "    <tr>\n",
       "      <th>Leiden_5</th>\n",
       "      <td>17</td>\n",
       "      <td>7</td>\n",
       "    </tr>\n",
       "    <tr>\n",
       "      <th>Leiden_6</th>\n",
       "      <td>22</td>\n",
       "      <td>6</td>\n",
       "    </tr>\n",
       "    <tr>\n",
       "      <th>Leiden_7</th>\n",
       "      <td>12</td>\n",
       "      <td>4</td>\n",
       "    </tr>\n",
       "    <tr>\n",
       "      <th>Leiden_8</th>\n",
       "      <td>7</td>\n",
       "      <td>5</td>\n",
       "    </tr>\n",
       "    <tr>\n",
       "      <th>Leiden_9</th>\n",
       "      <td>7</td>\n",
       "      <td>3</td>\n",
       "    </tr>\n",
       "    <tr>\n",
       "      <th>Leiden_10</th>\n",
       "      <td>4</td>\n",
       "      <td>0</td>\n",
       "    </tr>\n",
       "    <tr>\n",
       "      <th>Leiden_11</th>\n",
       "      <td>5</td>\n",
       "      <td>0</td>\n",
       "    </tr>\n",
       "    <tr>\n",
       "      <th>Leiden_12</th>\n",
       "      <td>2</td>\n",
       "      <td>0</td>\n",
       "    </tr>\n",
       "    <tr>\n",
       "      <th>Leiden_13</th>\n",
       "      <td>2</td>\n",
       "      <td>0</td>\n",
       "    </tr>\n",
       "    <tr>\n",
       "      <th>Leiden_14</th>\n",
       "      <td>7</td>\n",
       "      <td>0</td>\n",
       "    </tr>\n",
       "    <tr>\n",
       "      <th>Leiden_15</th>\n",
       "      <td>5</td>\n",
       "      <td>0</td>\n",
       "    </tr>\n",
       "  </tbody>\n",
       "</table>\n",
       "</div>"
      ],
      "text/plain": [
       "           Feature_count  Positive_feature_count\n",
       "Leiden_0              97                      45\n",
       "Leiden_1              21                      12\n",
       "Leiden_2             141                      79\n",
       "Leiden_3              89                      46\n",
       "Leiden_4             152                     106\n",
       "Leiden_5              17                       7\n",
       "Leiden_6              22                       6\n",
       "Leiden_7              12                       4\n",
       "Leiden_8               7                       5\n",
       "Leiden_9               7                       3\n",
       "Leiden_10              4                       0\n",
       "Leiden_11              5                       0\n",
       "Leiden_12              2                       0\n",
       "Leiden_13              2                       0\n",
       "Leiden_14              7                       0\n",
       "Leiden_15              5                       0"
      ]
     },
     "execution_count": 8,
     "metadata": {},
     "output_type": "execute_result"
    }
   ],
   "source": [
    "os.chdir('/Users/evanli/Documents/EvanPys/Progress/PBMC_Zheng/Leiden_HVG_PreLect/feature_selection_symbol')\n",
    "\n",
    "features_dict = {}\n",
    "# Read features for each celltype\n",
    "for celltype in clusters:\n",
    "    try:\n",
    "        file = f'{celltype}_features_symbol.txt'\n",
    "        print(file)\n",
    "        feature_df = pd.read_csv(file, names=['Gene', 'Weight', 'Tendency', 'Symbol'], sep='\\t', header=0)\n",
    "        feature_df['abs_weight'] = feature_df['Weight'].abs()\n",
    "        feature_df = feature_df.sort_values(by=['Tendency', 'abs_weight'], ascending=[False, False])\n",
    "        feature_df.drop(columns=['abs_weight'], inplace=True)\n",
    "        features_dict[celltype] = feature_df\n",
    "    except:\n",
    "        print('skipping:', celltype)\n",
    "        continue\n",
    "    # print(celltype, 'Feature count:', feature_df.shape[0])\n",
    "    # print(celltype, 'Positive feature count:', feature_df[feature_df['Tendency'] == 1].shape[0])\n",
    "    # print('------------------')\n",
    "\n",
    "count_df = pd.DataFrame(columns=['Feature_count', 'Positive_feature_count'])\n",
    "for celltype in features_dict.keys():\n",
    "    feature_df = features_dict[celltype]\n",
    "    feature_count = feature_df.shape[0]\n",
    "    positive_count = feature_df[feature_df['Tendency'] == 1].shape[0]\n",
    "    count_df.loc[celltype] = [feature_count, positive_count]\n",
    "count_df"
   ]
  },
  {
   "cell_type": "code",
   "execution_count": 11,
   "metadata": {
    "metadata": {}
   },
   "outputs": [],
   "source": [
    "# write to query for ACT\n",
    "text = ''\n",
    "for celltype in clusters:\n",
    "    features = features_dict[celltype]['Symbol'].tolist()\n",
    "    features = ', '.join(features)\n",
    "    # print(features)\n",
    "    text_celltype = f'Clus_{celltype}: {features}\\n'\n",
    "    text += text_celltype"
   ]
  },
  {
   "cell_type": "code",
   "execution_count": 12,
   "metadata": {
    "metadata": {}
   },
   "outputs": [
    {
     "name": "stdout",
     "output_type": "stream",
     "text": [
      "Clus_Leiden_0: IL32, S100A4, LTB, FXYD5, FTH1, LDHB, CD52, B2M, VIM, GSTK1, TPT1, PLP2, ANXA1, RPL36, S100A10, EEF1A1, HINT1, JUNB, PFN1, CD99, RPS27, IER2, RPSA, RPS25, RPL4, RPL30, IL7R, SH3BGRL3, GAPDH, RPL5, RPL29, RPL36A, RPS29, EEF2, RPL14, GIMAP7, RPL9, GLTSCR2, ITM2B, CD3E, COTL1, RPS27A, RPL35, PPDPF, TAGLN2, CCL5, CD74, RPL13, MALAT1, RPS2, CYBA, FTL, MT-CO1, CTSW, RPS14, HCST, HLA-B, RPS19, CD7, RPS24, MT-CO2, RPS9, TMSB4X, COX4I1, SERF2, MT-CO3, RPL28, ACTB, MYL6, RPL19, RPS15, HLA-C, CORO1A, CFL1, MT-ND1, TMSB10, RPL34, RPS23, MT-ND4, RPL15, ACTG1, UBB, PTMA, ARPC3, LIMD2, ID2, ATP5E, RPL13A, ARPC2, EIF3K, PTPRCAP, RPS16, RPL10, RPS5, EEF1D, BTG1, GMFG\n",
      "Clus_Leiden_1: CCL5, GZMK, IL32, DUSP1, JUN, LTB, DUSP2, JUNB, FOS, RPLP0, EEF1A1, S100A4, GNLY, TMSB4X, TMSB10, FTH1, OAZ1, MALAT1, B2M, CD74, ARHGDIB\n",
      "Clus_Leiden_2: JUN, ACTB, LTB, S100A4, PFN1, IER2, LDHB, RPL34, JUNB, CD3D, GIMAP7, TPT1, CD27, EEF1A1, RPS25, RPL36, FTH1, NOSIP, CD3E, PABPC1, FXYD5, RPL5, CD52, RPL9, RPL22, RPS15A, RPL11, GSTK1, HINT1, TMEM66, EEF2, TMSB10, NPM1, RPL35A, CORO1B, RPL30, RPS29, RPL4, RPS20, RNASET2, SRSF5, AES, RPL29, BTG1, RPS13, CD3G, VIM, HSPA8, RPL24, CNBP, TRAF3IP3, GLTSCR2, RPS12, RPL31, RPL36A, RPS27A, TOMM7, RPS27, LCK, RPL32, COMMD6, RPL37, RPS16, DDX5, RPL17, RPS4X, RPL7, RPS10, BTF3, CCNI, RPLP2, RPSA, RPS6, RPL6, GNB2L1, EEF1B2, RPL14, YBX1, ACTG1, IL32, CD74, FTL, CCL5, CYBA, RPS2, RPL10, MT-CO1, CTSW, MALAT1, HLA-B, RPS19, MT-CO2, RPL13A, TMSB4X, HLA-C, MT-ND1, SH3BGRL3, B2M, RPS24, COX4I1, PTPRCAP, HLA-A, LSP1, CLIC1, ARPC3, UBB, RPL13, MT-CO3, RPS9, HCST, ARPC2, MT-ND4, SERF2, RPL3, DUSP1, RPL15, CD7, GSTP1, MYL6, EIF3K, RPLP1, IFITM2, S100A6, HLA-E, RPL19, GZMM, MT-ND2, PTMA, MT-ATP6, ATP5L, RPS14, CFL1, RPLP0, RPL26, OAZ1, RPL7A, ARHGDIB, RPS23, RPL8, RPL21, RPS3\n",
      "Clus_Leiden_3: MALAT1, RPL11, RPS27, RPL32, LTB, LDHB, BTG1, TMSB10, RPL30, RPS25, RPL4, GIMAP7, CD3E, RPS3A, RPL31, CD3D, NOSIP, RPS15A, TPT1, RPS14, RPS29, RPS27A, RPL9, RPL21, JUNB, GLTSCR2, RPL7, RPL3, AES, RPL35A, RPL24, RPS13, RPS20, TMEM66, CD27, RPL36, RPL38, RPL18A, H3F3B, RPL22, GAPDH, RPLP2, TOMM7, TMSB4X, RPL13A, RPS12, JUN, IL32, S100A4, ACTB, CD74, PFN1, OAZ1, RPLP1, IER2, MT-CO1, HLA-A, HLA-B, CYBA, FTL, UBB, MT-CO3, SH3BGRL3, FTH1, HCST, MT-CO2, HLA-C, MT-ND2, RPL7A, MT-ND4, PTPRCAP, RPSA, MT-ND1, RPS19, RPL12, RPS11, B2M, RPS24, SERF2, CD37, ARPC3, RPL15, ARPC1B, MT-CYB, YBX1, FAU, RPL23A, SLC25A6, DUSP1\n",
      "Clus_Leiden_4: CD8B, IL32, RP11-291B21.2, S100B, CD8A, ACTB, CTSW, RGS10, RPL32, RPS5, CD7, RPS13, TMEM66, NOSIP, TMSB10, CD3D, CCR7, RPL22, JUNB, NPM1, CD27, CD3E, RPS25, RPL34, RPL31, GYPC, RPL10A, LDHB, RPL5, RPL7, RPLP1, EIF4A2, FTL, GNB2L1, RPS6, MT-ND4, RPL38, GIMAP7, COX4I1, RPS19, RPS12, RPS28, RPL12, SNRPD2, MT-CO2, RPS9, EEF2, EEF1B2, RPL4, PABPC1, RPL35A, C6orf48, RPL18, SELL, RPS24, NACA, EEF1A1, RPS26, RPL36, RPS20, PFDN5, EIF3K, RPL28, ARHGDIB, RPL37A, PTMA, RPS14, RPS3A, RPL14, BTF3, HNRNPA1, RPL9, ACTG1, RPS16, RPL21, CORO1A, MT-CO3, ST13, BTG1, LIMD2, RPL19, RPS8, MT-CO1, RPL13, UBA52, RPL18A, RPS4X, RPL3, RPL8, RPS27A, RPS15, DDX5, RPL7A, RPLP2, RPL11, RPSA, TPT1, RPL15, RPL29, HSPA8, RPL37, MT-CYB, MT-ND2, RPL17, GPSM3, TRAF3IP3, S100A4, CCL5, B2M, TMSB4X, LTB, FTH1, IER2, S100A6, MALAT1, CD74, CLIC1, CD99, RPL13A, GAPDH, CYBA, HLA-B, SH3BGRL3, JUN, H3F3B, PTPRCAP, HLA-A, PFN1, UBC, OAZ1, EIF1, RPS3, HLA-C, CD52, DUSP1, TAGLN2, CD37, CALM1, MYL6, S100A10, CHCHD2, IFITM2, RPS18, EMP3, FAU, FXYD5, LSP1, RPL26, RPLP0, UBB, RAC2, CFL1\n",
      "Clus_Leiden_5: GZMH, CCL5, GNLY, CD3D, IL32, CD52, S100A4, RPL13, MALAT1, RPL10, ACTB, RPLP1, TMSB4X, MT-CO1, PTMA, B2M, FTH1\n",
      "Clus_Leiden_6: GNLY, FCER1G, NKG7, CLIC3, CD7, TYROBP, CCL5, S100A4, RPS2, TMSB4X, RPS27, RPS12, RPS14, RPL13A, FTL, RPS4X, RPS3, RPS18, MALAT1, RPL18A, RPL21, RPS19\n",
      "Clus_Leiden_7: CD79A, CD74, CD79B, HLA-DRA, TMSB4X, B2M, TMSB10, ACTB, FTH1, FTL, RPS14, RPS2\n",
      "Clus_Leiden_8: S100A9, CST3, S100A8, LYZ, HLA-DRB1, B2M, MALAT1\n",
      "Clus_Leiden_9: LST1, AIF1, FCER1G, RPL13, RPL13A, RPLP1, TMSB4X\n",
      "Clus_Leiden_10: MALAT1, TMSB4X, B2M, RPL13\n",
      "Clus_Leiden_11: MALAT1, RPL13, RPL10, TMSB4X, FTL\n",
      "Clus_Leiden_12: B2M, TMSB4X\n",
      "Clus_Leiden_13: MALAT1, TMSB4X\n",
      "Clus_Leiden_14: MALAT1, TMSB4X, RPL13, B2M, RPS2, RPL10, RPL13A\n",
      "Clus_Leiden_15: MALAT1, TMSB4X, RPL13, RPS2, RPL10\n",
      "\n"
     ]
    }
   ],
   "source": [
    "print(text)"
   ]
  },
  {
   "cell_type": "code",
   "execution_count": null,
   "metadata": {},
   "outputs": [],
   "source": [
    "# write query to txt\n",
    "# os.chdir('/Users/evanli/Documents/EvanPys/Progress/PBMC_Hao_batch/Level2_log_inv/ACT_annotation')\n",
    "# with open('L2_query.txt', 'w') as f:\n",
    "#     f.write(text)"
   ]
  },
  {
   "cell_type": "code",
   "execution_count": null,
   "metadata": {},
   "outputs": [],
   "source": []
  }
 ],
 "metadata": {
  "kernelspec": {
   "display_name": "base",
   "language": "python",
   "name": "python3"
  },
  "language_info": {
   "codemirror_mode": {
    "name": "ipython",
    "version": 3
   },
   "file_extension": ".py",
   "mimetype": "text/x-python",
   "name": "python",
   "nbconvert_exporter": "python",
   "pygments_lexer": "ipython3",
   "version": "3.9.12"
  }
 },
 "nbformat": 4,
 "nbformat_minor": 2
}

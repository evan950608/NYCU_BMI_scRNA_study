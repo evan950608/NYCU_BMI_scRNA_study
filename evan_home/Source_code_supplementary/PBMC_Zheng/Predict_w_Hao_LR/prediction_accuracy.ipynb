{
 "cells": [
  {
   "cell_type": "code",
   "execution_count": 1,
   "metadata": {},
   "outputs": [
    {
     "name": "stderr",
     "output_type": "stream",
     "text": [
      "/opt/anaconda3/lib/python3.9/site-packages/scipy/__init__.py:146: UserWarning: A NumPy version >=1.16.5 and <1.23.0 is required for this version of SciPy (detected version 1.26.4\n",
      "  warnings.warn(f\"A NumPy version >={np_minversion} and <{np_maxversion}\"\n"
     ]
    }
   ],
   "source": [
    "import pandas as pd\n",
    "import numpy as np\n",
    "import matplotlib.pyplot as plt\n",
    "import scanpy as sc"
   ]
  },
  {
   "cell_type": "code",
   "execution_count": 2,
   "metadata": {},
   "outputs": [],
   "source": [
    "from sklearn.linear_model import LogisticRegression\n",
    "from sklearn.model_selection import train_test_split\n",
    "\n",
    "from sklearn.model_selection import cross_val_score, cross_validate, KFold\n",
    "from sklearn.metrics import make_scorer, matthews_corrcoef"
   ]
  },
  {
   "cell_type": "code",
   "execution_count": 15,
   "metadata": {},
   "outputs": [
    {
     "data": {
      "text/html": [
       "<div>\n",
       "<style scoped>\n",
       "    .dataframe tbody tr th:only-of-type {\n",
       "        vertical-align: middle;\n",
       "    }\n",
       "\n",
       "    .dataframe tbody tr th {\n",
       "        vertical-align: top;\n",
       "    }\n",
       "\n",
       "    .dataframe thead th {\n",
       "        text-align: right;\n",
       "    }\n",
       "</style>\n",
       "<table border=\"1\" class=\"dataframe\">\n",
       "  <thead>\n",
       "    <tr style=\"text-align: right;\">\n",
       "      <th></th>\n",
       "      <th>B</th>\n",
       "      <th>CD4_T</th>\n",
       "      <th>CD8_T</th>\n",
       "      <th>DC</th>\n",
       "      <th>Mono</th>\n",
       "      <th>NK</th>\n",
       "      <th>other</th>\n",
       "      <th>other_T</th>\n",
       "    </tr>\n",
       "  </thead>\n",
       "  <tbody>\n",
       "    <tr>\n",
       "      <th>AAACATACACCCAA-1</th>\n",
       "      <td>1.055932e-19</td>\n",
       "      <td>1.000000</td>\n",
       "      <td>0.953149</td>\n",
       "      <td>1.025037e-19</td>\n",
       "      <td>2.383494e-10</td>\n",
       "      <td>1.101509e-13</td>\n",
       "      <td>3.695499e-21</td>\n",
       "      <td>1.081192e-03</td>\n",
       "    </tr>\n",
       "    <tr>\n",
       "      <th>AAACATACCCCTCA-1</th>\n",
       "      <td>1.922833e-33</td>\n",
       "      <td>0.999689</td>\n",
       "      <td>0.998860</td>\n",
       "      <td>7.930619e-30</td>\n",
       "      <td>1.298092e-11</td>\n",
       "      <td>9.833114e-22</td>\n",
       "      <td>4.044491e-31</td>\n",
       "      <td>5.129632e-08</td>\n",
       "    </tr>\n",
       "    <tr>\n",
       "      <th>AAACATACCGGAGA-1</th>\n",
       "      <td>3.740313e-36</td>\n",
       "      <td>1.000000</td>\n",
       "      <td>0.000458</td>\n",
       "      <td>7.263669e-36</td>\n",
       "      <td>9.195744e-13</td>\n",
       "      <td>5.463452e-32</td>\n",
       "      <td>9.730696e-29</td>\n",
       "      <td>3.547924e-16</td>\n",
       "    </tr>\n",
       "    <tr>\n",
       "      <th>AAACATACTAACCG-1</th>\n",
       "      <td>9.993695e-01</td>\n",
       "      <td>1.000000</td>\n",
       "      <td>0.003460</td>\n",
       "      <td>1.613095e-02</td>\n",
       "      <td>1.142677e-08</td>\n",
       "      <td>3.982728e-09</td>\n",
       "      <td>1.492544e-11</td>\n",
       "      <td>9.780305e-05</td>\n",
       "    </tr>\n",
       "    <tr>\n",
       "      <th>AAACATACTCTTCA-1</th>\n",
       "      <td>7.041269e-28</td>\n",
       "      <td>1.000000</td>\n",
       "      <td>0.981772</td>\n",
       "      <td>1.183579e-17</td>\n",
       "      <td>9.094504e-08</td>\n",
       "      <td>6.331480e-12</td>\n",
       "      <td>1.038114e-16</td>\n",
       "      <td>2.017316e-03</td>\n",
       "    </tr>\n",
       "  </tbody>\n",
       "</table>\n",
       "</div>"
      ],
      "text/plain": [
       "                             B     CD4_T     CD8_T            DC  \\\n",
       "AAACATACACCCAA-1  1.055932e-19  1.000000  0.953149  1.025037e-19   \n",
       "AAACATACCCCTCA-1  1.922833e-33  0.999689  0.998860  7.930619e-30   \n",
       "AAACATACCGGAGA-1  3.740313e-36  1.000000  0.000458  7.263669e-36   \n",
       "AAACATACTAACCG-1  9.993695e-01  1.000000  0.003460  1.613095e-02   \n",
       "AAACATACTCTTCA-1  7.041269e-28  1.000000  0.981772  1.183579e-17   \n",
       "\n",
       "                          Mono            NK         other       other_T  \n",
       "AAACATACACCCAA-1  2.383494e-10  1.101509e-13  3.695499e-21  1.081192e-03  \n",
       "AAACATACCCCTCA-1  1.298092e-11  9.833114e-22  4.044491e-31  5.129632e-08  \n",
       "AAACATACCGGAGA-1  9.195744e-13  5.463452e-32  9.730696e-29  3.547924e-16  \n",
       "AAACATACTAACCG-1  1.142677e-08  3.982728e-09  1.492544e-11  9.780305e-05  \n",
       "AAACATACTCTTCA-1  9.094504e-08  6.331480e-12  1.038114e-16  2.017316e-03  "
      ]
     },
     "execution_count": 15,
     "metadata": {},
     "output_type": "execute_result"
    }
   ],
   "source": [
    "likelihood_df = pd.read_csv('predict_w_Hao_PreLect_top50_likelihood.csv', index_col=0)\n",
    "likelihood_df.head()"
   ]
  },
  {
   "cell_type": "code",
   "execution_count": 4,
   "metadata": {},
   "outputs": [
    {
     "data": {
      "text/plain": [
       "AAACATACACCCAA-1    1.954231\n",
       "AAACATACCCCTCA-1    1.998549\n",
       "AAACATACCGGAGA-1    1.000458\n",
       "AAACATACTAACCG-1    2.019058\n",
       "AAACATACTCTTCA-1    1.983789\n",
       "                      ...   \n",
       "TTTGCATGAGCCTA-8    1.999563\n",
       "TTTGCATGCTAGCA-8    2.178249\n",
       "TTTGCATGCTGCAA-8    0.168826\n",
       "TTTGCATGGCTCCT-8    0.015731\n",
       "TTTGCATGTGGTAC-8    1.000222\n",
       "Length: 68579, dtype: float64"
      ]
     },
     "execution_count": 4,
     "metadata": {},
     "output_type": "execute_result"
    }
   ],
   "source": [
    "likelihood_df.sum(axis=1)"
   ]
  },
  {
   "cell_type": "code",
   "execution_count": 5,
   "metadata": {},
   "outputs": [
    {
     "data": {
      "text/plain": [
       "(68579, 32738)"
      ]
     },
     "execution_count": 5,
     "metadata": {},
     "output_type": "execute_result"
    }
   ],
   "source": [
    "# Read Zheng query dataset\n",
    "query_adata = sc.read_h5ad('/Users/evanli/Documents/Research_datasets/PBMC_68k_Zheng/Zheng_PBMC.h5ad')\n",
    "query_adata.shape"
   ]
  },
  {
   "cell_type": "code",
   "execution_count": 6,
   "metadata": {},
   "outputs": [
    {
     "data": {
      "text/html": [
       "<div>\n",
       "<style scoped>\n",
       "    .dataframe tbody tr th:only-of-type {\n",
       "        vertical-align: middle;\n",
       "    }\n",
       "\n",
       "    .dataframe tbody tr th {\n",
       "        vertical-align: top;\n",
       "    }\n",
       "\n",
       "    .dataframe thead th {\n",
       "        text-align: right;\n",
       "    }\n",
       "</style>\n",
       "<table border=\"1\" class=\"dataframe\">\n",
       "  <thead>\n",
       "    <tr style=\"text-align: right;\">\n",
       "      <th></th>\n",
       "      <th>celltype</th>\n",
       "      <th>TSNE.1</th>\n",
       "      <th>TSNE.2</th>\n",
       "    </tr>\n",
       "  </thead>\n",
       "  <tbody>\n",
       "    <tr>\n",
       "      <th>AAACATACACCCAA-1</th>\n",
       "      <td>CD8+ Cytotoxic T</td>\n",
       "      <td>7.565540</td>\n",
       "      <td>0.441370</td>\n",
       "    </tr>\n",
       "    <tr>\n",
       "      <th>AAACATACCCCTCA-1</th>\n",
       "      <td>CD8+/CD45RA+ Naive Cytotoxic</td>\n",
       "      <td>2.552626</td>\n",
       "      <td>-25.786672</td>\n",
       "    </tr>\n",
       "    <tr>\n",
       "      <th>AAACATACCGGAGA-1</th>\n",
       "      <td>CD4+/CD45RO+ Memory</td>\n",
       "      <td>-5.771831</td>\n",
       "      <td>11.830846</td>\n",
       "    </tr>\n",
       "    <tr>\n",
       "      <th>AAACATACTAACCG-1</th>\n",
       "      <td>CD19+ B</td>\n",
       "      <td>1.762556</td>\n",
       "      <td>25.979346</td>\n",
       "    </tr>\n",
       "    <tr>\n",
       "      <th>AAACATACTCTTCA-1</th>\n",
       "      <td>CD4+/CD25 T Reg</td>\n",
       "      <td>-16.793856</td>\n",
       "      <td>-16.589970</td>\n",
       "    </tr>\n",
       "  </tbody>\n",
       "</table>\n",
       "</div>"
      ],
      "text/plain": [
       "                                      celltype     TSNE.1     TSNE.2\n",
       "AAACATACACCCAA-1              CD8+ Cytotoxic T   7.565540   0.441370\n",
       "AAACATACCCCTCA-1  CD8+/CD45RA+ Naive Cytotoxic   2.552626 -25.786672\n",
       "AAACATACCGGAGA-1           CD4+/CD45RO+ Memory  -5.771831  11.830846\n",
       "AAACATACTAACCG-1                       CD19+ B   1.762556  25.979346\n",
       "AAACATACTCTTCA-1               CD4+/CD25 T Reg -16.793856 -16.589970"
      ]
     },
     "execution_count": 6,
     "metadata": {},
     "output_type": "execute_result"
    }
   ],
   "source": [
    "query_adata.obs.head()"
   ]
  },
  {
   "cell_type": "code",
   "execution_count": 9,
   "metadata": {},
   "outputs": [
    {
     "data": {
      "text/plain": [
       "{'CD8+ Cytotoxic T': 'CD8_T',\n",
       " 'CD8+/CD45RA+ Naive Cytotoxic': 'CD8_T',\n",
       " 'CD4+/CD45RO+ Memory': 'CD4_T',\n",
       " 'CD19+ B': 'B',\n",
       " 'CD4+/CD25 T Reg': 'CD4_T',\n",
       " 'CD56+ NK': 'NK',\n",
       " 'CD4+ T Helper2': 'CD4_T',\n",
       " 'CD4+/CD45RA+/CD25- Naive T': 'CD4_T',\n",
       " 'CD34+': 'other_T',\n",
       " 'Dendritic': 'DC',\n",
       " 'CD14+ Monocyte': 'Mono'}"
      ]
     },
     "execution_count": 9,
     "metadata": {},
     "output_type": "execute_result"
    }
   ],
   "source": [
    "unique_types = query_adata.obs['celltype'].unique().tolist()\n",
    "super_type_dict = {unique_types[0]: 'CD8_T', \n",
    "                   unique_types[1]: 'CD8_T', \n",
    "                   unique_types[2]: 'CD4_T', \n",
    "                   unique_types[3]: 'B', \n",
    "                   unique_types[4]: 'CD4_T', \n",
    "                   unique_types[5]: 'NK', \n",
    "                   unique_types[6]: 'CD4_T',\n",
    "                   unique_types[7]: 'CD4_T',\n",
    "                   unique_types[8]: 'other_T',\n",
    "                   unique_types[9]: 'DC', \n",
    "                   unique_types[10]: 'Mono',}\n",
    "super_type_dict"
   ]
  },
  {
   "cell_type": "code",
   "execution_count": 10,
   "metadata": {},
   "outputs": [
    {
     "data": {
      "text/html": [
       "<div>\n",
       "<style scoped>\n",
       "    .dataframe tbody tr th:only-of-type {\n",
       "        vertical-align: middle;\n",
       "    }\n",
       "\n",
       "    .dataframe tbody tr th {\n",
       "        vertical-align: top;\n",
       "    }\n",
       "\n",
       "    .dataframe thead th {\n",
       "        text-align: right;\n",
       "    }\n",
       "</style>\n",
       "<table border=\"1\" class=\"dataframe\">\n",
       "  <thead>\n",
       "    <tr style=\"text-align: right;\">\n",
       "      <th></th>\n",
       "      <th>celltype</th>\n",
       "      <th>TSNE.1</th>\n",
       "      <th>TSNE.2</th>\n",
       "      <th>super_type</th>\n",
       "    </tr>\n",
       "  </thead>\n",
       "  <tbody>\n",
       "    <tr>\n",
       "      <th>AAACATACACCCAA-1</th>\n",
       "      <td>CD8+ Cytotoxic T</td>\n",
       "      <td>7.565540</td>\n",
       "      <td>0.441370</td>\n",
       "      <td>CD8_T</td>\n",
       "    </tr>\n",
       "    <tr>\n",
       "      <th>AAACATACCCCTCA-1</th>\n",
       "      <td>CD8+/CD45RA+ Naive Cytotoxic</td>\n",
       "      <td>2.552626</td>\n",
       "      <td>-25.786672</td>\n",
       "      <td>CD8_T</td>\n",
       "    </tr>\n",
       "    <tr>\n",
       "      <th>AAACATACCGGAGA-1</th>\n",
       "      <td>CD4+/CD45RO+ Memory</td>\n",
       "      <td>-5.771831</td>\n",
       "      <td>11.830846</td>\n",
       "      <td>CD4_T</td>\n",
       "    </tr>\n",
       "    <tr>\n",
       "      <th>AAACATACTAACCG-1</th>\n",
       "      <td>CD19+ B</td>\n",
       "      <td>1.762556</td>\n",
       "      <td>25.979346</td>\n",
       "      <td>B</td>\n",
       "    </tr>\n",
       "    <tr>\n",
       "      <th>AAACATACTCTTCA-1</th>\n",
       "      <td>CD4+/CD25 T Reg</td>\n",
       "      <td>-16.793856</td>\n",
       "      <td>-16.589970</td>\n",
       "      <td>CD4_T</td>\n",
       "    </tr>\n",
       "  </tbody>\n",
       "</table>\n",
       "</div>"
      ],
      "text/plain": [
       "                                      celltype     TSNE.1     TSNE.2  \\\n",
       "AAACATACACCCAA-1              CD8+ Cytotoxic T   7.565540   0.441370   \n",
       "AAACATACCCCTCA-1  CD8+/CD45RA+ Naive Cytotoxic   2.552626 -25.786672   \n",
       "AAACATACCGGAGA-1           CD4+/CD45RO+ Memory  -5.771831  11.830846   \n",
       "AAACATACTAACCG-1                       CD19+ B   1.762556  25.979346   \n",
       "AAACATACTCTTCA-1               CD4+/CD25 T Reg -16.793856 -16.589970   \n",
       "\n",
       "                 super_type  \n",
       "AAACATACACCCAA-1      CD8_T  \n",
       "AAACATACCCCTCA-1      CD8_T  \n",
       "AAACATACCGGAGA-1      CD4_T  \n",
       "AAACATACTAACCG-1          B  \n",
       "AAACATACTCTTCA-1      CD4_T  "
      ]
     },
     "execution_count": 10,
     "metadata": {},
     "output_type": "execute_result"
    }
   ],
   "source": [
    "# Map from \"celltype\" to \"super_type\" using the dictionary\n",
    "query_adata.obs['super_type'] = query_adata.obs['celltype'].map(super_type_dict)\n",
    "query_adata.obs.head()"
   ]
  },
  {
   "cell_type": "code",
   "execution_count": 16,
   "metadata": {},
   "outputs": [
    {
     "data": {
      "text/html": [
       "<div>\n",
       "<style scoped>\n",
       "    .dataframe tbody tr th:only-of-type {\n",
       "        vertical-align: middle;\n",
       "    }\n",
       "\n",
       "    .dataframe tbody tr th {\n",
       "        vertical-align: top;\n",
       "    }\n",
       "\n",
       "    .dataframe thead th {\n",
       "        text-align: right;\n",
       "    }\n",
       "</style>\n",
       "<table border=\"1\" class=\"dataframe\">\n",
       "  <thead>\n",
       "    <tr style=\"text-align: right;\">\n",
       "      <th></th>\n",
       "      <th>assignment</th>\n",
       "      <th>super_type</th>\n",
       "    </tr>\n",
       "  </thead>\n",
       "  <tbody>\n",
       "    <tr>\n",
       "      <th>AAACATACACCCAA-1</th>\n",
       "      <td>CD4_T</td>\n",
       "      <td>CD8_T</td>\n",
       "    </tr>\n",
       "    <tr>\n",
       "      <th>AAACATACCCCTCA-1</th>\n",
       "      <td>CD4_T</td>\n",
       "      <td>CD8_T</td>\n",
       "    </tr>\n",
       "    <tr>\n",
       "      <th>AAACATACCGGAGA-1</th>\n",
       "      <td>CD4_T</td>\n",
       "      <td>CD4_T</td>\n",
       "    </tr>\n",
       "    <tr>\n",
       "      <th>AAACATACTAACCG-1</th>\n",
       "      <td>CD4_T</td>\n",
       "      <td>B</td>\n",
       "    </tr>\n",
       "    <tr>\n",
       "      <th>AAACATACTCTTCA-1</th>\n",
       "      <td>CD4_T</td>\n",
       "      <td>CD4_T</td>\n",
       "    </tr>\n",
       "  </tbody>\n",
       "</table>\n",
       "</div>"
      ],
      "text/plain": [
       "                 assignment super_type\n",
       "AAACATACACCCAA-1      CD4_T      CD8_T\n",
       "AAACATACCCCTCA-1      CD4_T      CD8_T\n",
       "AAACATACCGGAGA-1      CD4_T      CD4_T\n",
       "AAACATACTAACCG-1      CD4_T          B\n",
       "AAACATACTCTTCA-1      CD4_T      CD4_T"
      ]
     },
     "execution_count": 16,
     "metadata": {},
     "output_type": "execute_result"
    }
   ],
   "source": [
    "# Add \"assignment\" column with the column name of the max value in each row\n",
    "assignment_df = pd.DataFrame({'assignment': likelihood_df.idxmax(axis=1), \n",
    "                              'super_type': query_adata.obs['super_type']})\n",
    "assignment_df.head()"
   ]
  },
  {
   "cell_type": "code",
   "execution_count": 17,
   "metadata": {},
   "outputs": [
    {
     "data": {
      "text/plain": [
       "assignment\n",
       "CD4_T      49196\n",
       "CD8_T      14244\n",
       "Mono        1657\n",
       "DC          1585\n",
       "NK           859\n",
       "other        646\n",
       "other_T      202\n",
       "B            190\n",
       "Name: count, dtype: int64"
      ]
     },
     "execution_count": 17,
     "metadata": {},
     "output_type": "execute_result"
    }
   ],
   "source": [
    "assignment_df['assignment'].value_counts()"
   ]
  },
  {
   "cell_type": "code",
   "execution_count": 18,
   "metadata": {},
   "outputs": [
    {
     "data": {
      "text/plain": [
       "super_type\n",
       "CD8_T      37439\n",
       "CD4_T      11218\n",
       "NK          8776\n",
       "B           5908\n",
       "Mono        2862\n",
       "DC          2099\n",
       "other_T      277\n",
       "Name: count, dtype: int64"
      ]
     },
     "execution_count": 18,
     "metadata": {},
     "output_type": "execute_result"
    }
   ],
   "source": [
    "query_adata.obs['super_type'].value_counts()"
   ]
  },
  {
   "cell_type": "code",
   "execution_count": 25,
   "metadata": {},
   "outputs": [
    {
     "data": {
      "image/png": "[encoded data removed]",
      "text/plain": [
       "<Figure size 1000x700 with 2 Axes>"
      ]
     },
     "metadata": {},
     "output_type": "display_data"
    }
   ],
   "source": [
    "from sklearn.metrics import confusion_matrix\n",
    "import seaborn as sns\n",
    "import matplotlib.pyplot as plt\n",
    "import pandas as pd\n",
    "\n",
    "# Calculate the confusion matrix\n",
    "# cm = confusion_matrix(assignment_df['super_type'], assignment_df['assignment'])  # (label, predicted)\n",
    "cm = pd.crosstab(assignment_df['super_type'], assignment_df['assignment'])\n",
    "cm\n",
    "\n",
    "# Plot the confusion matrix\n",
    "plt.figure(figsize=(10,7))\n",
    "# sns.heatmap(cm, annot=True, fmt='d', cmap='Blues', xticklabels=set(assignment_df['assignment']), yticklabels=set(assignment_df['assignment']))\n",
    "sns.heatmap(cm, annot=True, fmt='d', cmap='Blues')\n",
    "plt.xlabel('Predicted')\n",
    "plt.ylabel('True Label')\n",
    "plt.show()"
   ]
  },
  {
   "cell_type": "code",
   "execution_count": 26,
   "metadata": {},
   "outputs": [
    {
     "data": {
      "text/plain": [
       "0.30523921317021246"
      ]
     },
     "execution_count": 26,
     "metadata": {},
     "output_type": "execute_result"
    }
   ],
   "source": [
    "# Calculate the accuracy\n",
    "# devide the sum of the diagonal by the sum of all elements\n",
    "accuracy = np.trace(cm) / np.sum(cm.values)\n",
    "accuracy"
   ]
  },
  {
   "cell_type": "code",
   "execution_count": null,
   "metadata": {},
   "outputs": [],
   "source": []
  }
 ],
 "metadata": {
  "kernelspec": {
   "display_name": "base",
   "language": "python",
   "name": "python3"
  },
  "language_info": {
   "codemirror_mode": {
    "name": "ipython",
    "version": 3
   },
   "file_extension": ".py",
   "mimetype": "text/x-python",
   "name": "python",
   "nbconvert_exporter": "python",
   "pygments_lexer": "ipython3",
   "version": "3.9.12"
  }
 },
 "nbformat": 4,
 "nbformat_minor": 2
}

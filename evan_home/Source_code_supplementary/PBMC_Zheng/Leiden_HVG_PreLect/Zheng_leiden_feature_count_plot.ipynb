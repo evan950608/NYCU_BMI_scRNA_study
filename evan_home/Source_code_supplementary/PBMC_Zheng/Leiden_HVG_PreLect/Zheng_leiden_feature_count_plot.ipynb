{
 "cells": [
  {
   "cell_type": "code",
   "execution_count": 1,
   "metadata": {},
   "outputs": [],
   "source": [
    "import scanpy as sc\n",
    "import pandas as pd\n",
    "import numpy as np\n",
    "import matplotlib.pyplot as plt"
   ]
  },
  {
   "cell_type": "code",
   "execution_count": 14,
   "metadata": {},
   "outputs": [
    {
     "name": "stdout",
     "output_type": "stream",
     "text": [
      "Original adata: (68579, 32738)\n",
      "all leiden: ['Leiden_0', 'Leiden_1', 'Leiden_10', 'Leiden_11', 'Leiden_12', 'Leiden_13', 'Leiden_14', 'Leiden_15', 'Leiden_2', 'Leiden_3', 'Leiden_4', 'Leiden_5', 'Leiden_6', 'Leiden_7', 'Leiden_8', 'Leiden_9']\n",
      "====================\n"
     ]
    }
   ],
   "source": [
    "adata = sc.read_h5ad(r\"C:\\Users\\evanlee\\Documents\\Research_datasets\\PBMC_68k_Zheng\\Zheng_PBMC.h5ad\")\n",
    "print('Original adata:', adata.shape)\n",
    "# label = adata.obs['celltype.l1'].tolist()\n",
    "# types = np.unique(label).tolist()\n",
    "adata_leiden = sc.read_h5ad(r\"C:\\Users\\evanlee\\Documents\\Research_datasets\\PBMC_68k_Zheng\\Zheng_PBMC_HVG2000_leiden_subset.h5ad\")\n",
    "label_leiden = adata_leiden.obs['leiden_cluster'].tolist()\n",
    "# add leiden clusters to the original adata\n",
    "adata.obs['leiden_cluster'] = label_leiden\n",
    "unique_leiden = np.unique(label_leiden).tolist()\n",
    "\n",
    "print('all leiden:', unique_leiden)\n",
    "print('====================')\n",
    "# del adata\n"
   ]
  },
  {
   "cell_type": "code",
   "execution_count": 15,
   "metadata": {},
   "outputs": [
    {
     "data": {
      "text/html": [
       "<div>\n",
       "<style scoped>\n",
       "    .dataframe tbody tr th:only-of-type {\n",
       "        vertical-align: middle;\n",
       "    }\n",
       "\n",
       "    .dataframe tbody tr th {\n",
       "        vertical-align: top;\n",
       "    }\n",
       "\n",
       "    .dataframe thead th {\n",
       "        text-align: right;\n",
       "    }\n",
       "</style>\n",
       "<table border=\"1\" class=\"dataframe\">\n",
       "  <thead>\n",
       "    <tr style=\"text-align: right;\">\n",
       "      <th></th>\n",
       "      <th>celltype</th>\n",
       "      <th>TSNE.1</th>\n",
       "      <th>TSNE.2</th>\n",
       "      <th>leiden_cluster</th>\n",
       "    </tr>\n",
       "  </thead>\n",
       "  <tbody>\n",
       "    <tr>\n",
       "      <th>AAACATACACCCAA-1</th>\n",
       "      <td>CD8+ Cytotoxic T</td>\n",
       "      <td>7.565540</td>\n",
       "      <td>0.441370</td>\n",
       "      <td>Leiden_1</td>\n",
       "    </tr>\n",
       "    <tr>\n",
       "      <th>AAACATACCCCTCA-1</th>\n",
       "      <td>CD8+/CD45RA+ Naive Cytotoxic</td>\n",
       "      <td>2.552626</td>\n",
       "      <td>-25.786672</td>\n",
       "      <td>Leiden_4</td>\n",
       "    </tr>\n",
       "    <tr>\n",
       "      <th>AAACATACCGGAGA-1</th>\n",
       "      <td>CD4+/CD45RO+ Memory</td>\n",
       "      <td>-5.771831</td>\n",
       "      <td>11.830846</td>\n",
       "      <td>Leiden_0</td>\n",
       "    </tr>\n",
       "    <tr>\n",
       "      <th>AAACATACTAACCG-1</th>\n",
       "      <td>CD19+ B</td>\n",
       "      <td>1.762556</td>\n",
       "      <td>25.979346</td>\n",
       "      <td>Leiden_7</td>\n",
       "    </tr>\n",
       "    <tr>\n",
       "      <th>AAACATACTCTTCA-1</th>\n",
       "      <td>CD4+/CD25 T Reg</td>\n",
       "      <td>-16.793856</td>\n",
       "      <td>-16.589970</td>\n",
       "      <td>Leiden_3</td>\n",
       "    </tr>\n",
       "  </tbody>\n",
       "</table>\n",
       "</div>"
      ],
      "text/plain": [
       "                                      celltype     TSNE.1     TSNE.2  \\\n",
       "AAACATACACCCAA-1              CD8+ Cytotoxic T   7.565540   0.441370   \n",
       "AAACATACCCCTCA-1  CD8+/CD45RA+ Naive Cytotoxic   2.552626 -25.786672   \n",
       "AAACATACCGGAGA-1           CD4+/CD45RO+ Memory  -5.771831  11.830846   \n",
       "AAACATACTAACCG-1                       CD19+ B   1.762556  25.979346   \n",
       "AAACATACTCTTCA-1               CD4+/CD25 T Reg -16.793856 -16.589970   \n",
       "\n",
       "                 leiden_cluster  \n",
       "AAACATACACCCAA-1       Leiden_1  \n",
       "AAACATACCCCTCA-1       Leiden_4  \n",
       "AAACATACCGGAGA-1       Leiden_0  \n",
       "AAACATACTAACCG-1       Leiden_7  \n",
       "AAACATACTCTTCA-1       Leiden_3  "
      ]
     },
     "execution_count": 15,
     "metadata": {},
     "output_type": "execute_result"
    }
   ],
   "source": [
    "adata.obs.head()"
   ]
  },
  {
   "cell_type": "code",
   "execution_count": 4,
   "metadata": {},
   "outputs": [
    {
     "data": {
      "text/plain": [
       "Index(['ENSG00000243485', 'ENSG00000237613', 'ENSG00000186092',\n",
       "       'ENSG00000238009', 'ENSG00000239945', 'ENSG00000237683',\n",
       "       'ENSG00000239906', 'ENSG00000241599', 'ENSG00000228463',\n",
       "       'ENSG00000237094',\n",
       "       ...\n",
       "       'ENSG00000217792', 'ENSG00000268276', 'ENSG00000148828',\n",
       "       'ENSG00000215700', 'ENSG00000215699', 'ENSG00000215635',\n",
       "       'ENSG00000268590', 'ENSG00000251180', 'ENSG00000215616',\n",
       "       'ENSG00000215611'],\n",
       "      dtype='object', length=32738)"
      ]
     },
     "execution_count": 4,
     "metadata": {},
     "output_type": "execute_result"
    }
   ],
   "source": [
    "adata.var_names"
   ]
  },
  {
   "cell_type": "markdown",
   "metadata": {},
   "source": [
    "## Read features"
   ]
  },
  {
   "cell_type": "code",
   "execution_count": 6,
   "metadata": {},
   "outputs": [],
   "source": [
    "import os\n",
    "os.chdir(r\"C:\\Users\\evanlee\\Documents\\GitHub\\EvanPys\\Progress\\PBMC_Zheng\\Leiden_HVG_PreLect\\feature_selection\")\n",
    "\n",
    "features_dict = {}\n",
    "# Read features for each celltype\n",
    "for clus in unique_leiden:\n",
    "    try:\n",
    "        feature_df = pd.read_csv(f'{clus}_features.txt', names=['Gene', 'Weight', 'Tendency'], sep='\\t')\n",
    "        features_dict[clus] = feature_df\n",
    "    except:\n",
    "        print('skipping:', clus)\n",
    "        continue\n",
    "    # print(celltype, 'Feature count:', feature_df.shape[0])\n",
    "    # print(celltype, 'Positive feature count:', feature_df[feature_df['Tendency'] == 1].shape[0])\n",
    "    # print('------------------')"
   ]
  },
  {
   "cell_type": "code",
   "execution_count": 9,
   "metadata": {},
   "outputs": [
    {
     "data": {
      "text/html": [
       "<div>\n",
       "<style scoped>\n",
       "    .dataframe tbody tr th:only-of-type {\n",
       "        vertical-align: middle;\n",
       "    }\n",
       "\n",
       "    .dataframe tbody tr th {\n",
       "        vertical-align: top;\n",
       "    }\n",
       "\n",
       "    .dataframe thead th {\n",
       "        text-align: right;\n",
       "    }\n",
       "</style>\n",
       "<table border=\"1\" class=\"dataframe\">\n",
       "  <thead>\n",
       "    <tr style=\"text-align: right;\">\n",
       "      <th></th>\n",
       "      <th>Feature_count</th>\n",
       "      <th>Positive_feature_count</th>\n",
       "    </tr>\n",
       "  </thead>\n",
       "  <tbody>\n",
       "    <tr>\n",
       "      <th>Leiden_0</th>\n",
       "      <td>97</td>\n",
       "      <td>45</td>\n",
       "    </tr>\n",
       "    <tr>\n",
       "      <th>Leiden_1</th>\n",
       "      <td>21</td>\n",
       "      <td>12</td>\n",
       "    </tr>\n",
       "    <tr>\n",
       "      <th>Leiden_2</th>\n",
       "      <td>141</td>\n",
       "      <td>79</td>\n",
       "    </tr>\n",
       "    <tr>\n",
       "      <th>Leiden_3</th>\n",
       "      <td>89</td>\n",
       "      <td>46</td>\n",
       "    </tr>\n",
       "    <tr>\n",
       "      <th>Leiden_4</th>\n",
       "      <td>152</td>\n",
       "      <td>106</td>\n",
       "    </tr>\n",
       "    <tr>\n",
       "      <th>Leiden_5</th>\n",
       "      <td>17</td>\n",
       "      <td>7</td>\n",
       "    </tr>\n",
       "    <tr>\n",
       "      <th>Leiden_6</th>\n",
       "      <td>22</td>\n",
       "      <td>6</td>\n",
       "    </tr>\n",
       "    <tr>\n",
       "      <th>Leiden_7</th>\n",
       "      <td>12</td>\n",
       "      <td>4</td>\n",
       "    </tr>\n",
       "    <tr>\n",
       "      <th>Leiden_8</th>\n",
       "      <td>7</td>\n",
       "      <td>5</td>\n",
       "    </tr>\n",
       "    <tr>\n",
       "      <th>Leiden_9</th>\n",
       "      <td>7</td>\n",
       "      <td>3</td>\n",
       "    </tr>\n",
       "    <tr>\n",
       "      <th>Leiden_10</th>\n",
       "      <td>4</td>\n",
       "      <td>0</td>\n",
       "    </tr>\n",
       "    <tr>\n",
       "      <th>Leiden_11</th>\n",
       "      <td>5</td>\n",
       "      <td>0</td>\n",
       "    </tr>\n",
       "    <tr>\n",
       "      <th>Leiden_12</th>\n",
       "      <td>2</td>\n",
       "      <td>0</td>\n",
       "    </tr>\n",
       "    <tr>\n",
       "      <th>Leiden_13</th>\n",
       "      <td>2</td>\n",
       "      <td>0</td>\n",
       "    </tr>\n",
       "    <tr>\n",
       "      <th>Leiden_14</th>\n",
       "      <td>7</td>\n",
       "      <td>0</td>\n",
       "    </tr>\n",
       "    <tr>\n",
       "      <th>Leiden_15</th>\n",
       "      <td>5</td>\n",
       "      <td>0</td>\n",
       "    </tr>\n",
       "  </tbody>\n",
       "</table>\n",
       "</div>"
      ],
      "text/plain": [
       "           Feature_count  Positive_feature_count\n",
       "Leiden_0              97                      45\n",
       "Leiden_1              21                      12\n",
       "Leiden_2             141                      79\n",
       "Leiden_3              89                      46\n",
       "Leiden_4             152                     106\n",
       "Leiden_5              17                       7\n",
       "Leiden_6              22                       6\n",
       "Leiden_7              12                       4\n",
       "Leiden_8               7                       5\n",
       "Leiden_9               7                       3\n",
       "Leiden_10              4                       0\n",
       "Leiden_11              5                       0\n",
       "Leiden_12              2                       0\n",
       "Leiden_13              2                       0\n",
       "Leiden_14              7                       0\n",
       "Leiden_15              5                       0"
      ]
     },
     "execution_count": 9,
     "metadata": {},
     "output_type": "execute_result"
    }
   ],
   "source": [
    "count_df = pd.DataFrame(columns=['Feature_count', 'Positive_feature_count'])\n",
    "for celltype in features_dict.keys():\n",
    "    feature_df = features_dict[celltype]\n",
    "    feature_count = feature_df.shape[0]\n",
    "    positive_count = feature_df[feature_df['Tendency'] == 1].shape[0]\n",
    "    count_df.loc[celltype] = [feature_count, positive_count]\n",
    "count_df"
   ]
  },
  {
   "cell_type": "code",
   "execution_count": 11,
   "metadata": {},
   "outputs": [
    {
     "data": {
      "image/png": "[encoded data removed]",
      "text/plain": [
       "<Figure size 800x600 with 1 Axes>"
      ]
     },
     "metadata": {},
     "output_type": "display_data"
    }
   ],
   "source": [
    "# Sort count_df by 'Feature_count' in descending order\n",
    "# count_df = count_df.sort_values('Feature_count', ascending=False)\n",
    "\n",
    "# plot barplot\n",
    "fig, ax = plt.subplots(figsize=(8, 6))\n",
    "x = np.arange(len(count_df.index))\n",
    "bar_width = 0.4\n",
    "\n",
    "ax.bar(x - bar_width/2, count_df['Feature_count'], bar_width, label='Feature count')\n",
    "ax.bar(x + bar_width/2, count_df['Positive_feature_count'], bar_width, label='Positive feature count')\n",
    "\n",
    "# Add the values to each bar\n",
    "for i, v in enumerate(count_df['Feature_count']):\n",
    "    plt.text(i-0.3, v, str(v), fontsize=8)\n",
    "for i, v in enumerate(count_df['Positive_feature_count']):\n",
    "    plt.text(i+0.1, v, str(v), fontsize=8)\n",
    "\n",
    "ax.set_xticks(x)\n",
    "ax.set_xticklabels(count_df.index)\n",
    "plt.xticks(rotation=90)\n",
    "plt.title('Feature count for each leiden cluster')\n",
    "ax.legend()\n",
    "# plt.savefig('L2_feature_count.png', dpi=300, bbox_inches='tight')\n",
    "plt.show()"
   ]
  },
  {
   "cell_type": "markdown",
   "metadata": {},
   "source": [
    "## Plot cell number"
   ]
  },
  {
   "cell_type": "code",
   "execution_count": 17,
   "metadata": {},
   "outputs": [
    {
     "data": {
      "text/plain": [
       "leiden_cluster\n",
       "Leiden_0     11601\n",
       "Leiden_1      9488\n",
       "Leiden_2      9408\n",
       "Leiden_3      9046\n",
       "Leiden_4      8167\n",
       "Leiden_5      6801\n",
       "Leiden_6      4578\n",
       "Leiden_7      3815\n",
       "Leiden_8      2893\n",
       "Leiden_9      1767\n",
       "Leiden_10      364\n",
       "Leiden_11      216\n",
       "Leiden_12      164\n",
       "Leiden_13      145\n",
       "Leiden_14       77\n",
       "Leiden_15       49\n",
       "Name: count, dtype: int64"
      ]
     },
     "execution_count": 17,
     "metadata": {},
     "output_type": "execute_result"
    }
   ],
   "source": [
    "counts = adata.obs['leiden_cluster'].value_counts()\n",
    "# counts = counts.sort_index()\n",
    "counts"
   ]
  },
  {
   "cell_type": "code",
   "execution_count": 18,
   "metadata": {},
   "outputs": [
    {
     "data": {
      "text/plain": [
       "68579"
      ]
     },
     "execution_count": 18,
     "metadata": {},
     "output_type": "execute_result"
    }
   ],
   "source": [
    "sum(counts)"
   ]
  },
  {
   "cell_type": "code",
   "execution_count": 19,
   "metadata": {},
   "outputs": [
    {
     "data": {
      "image/png": "[encoded data removed]",
      "text/plain": [
       "<Figure size 640x480 with 1 Axes>"
      ]
     },
     "metadata": {},
     "output_type": "display_data"
    }
   ],
   "source": [
    "counts.plot(kind='bar')\n",
    "plt.title('Leiden cluster cell counts')\n",
    "plt.ylabel('Counts')\n",
    "plt.show()"
   ]
  },
  {
   "cell_type": "code",
   "execution_count": null,
   "metadata": {},
   "outputs": [],
   "source": []
  }
 ],
 "metadata": {
  "kernelspec": {
   "display_name": "Python 3",
   "language": "python",
   "name": "python3"
  },
  "language_info": {
   "codemirror_mode": {
    "name": "ipython",
    "version": 3
   },
   "file_extension": ".py",
   "mimetype": "text/x-python",
   "name": "python",
   "nbconvert_exporter": "python",
   "pygments_lexer": "ipython3",
   "version": "3.9.12"
  }
 },
 "nbformat": 4,
 "nbformat_minor": 2
}

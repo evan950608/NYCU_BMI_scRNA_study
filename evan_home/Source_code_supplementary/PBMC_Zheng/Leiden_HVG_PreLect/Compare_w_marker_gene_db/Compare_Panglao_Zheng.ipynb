{
 "cells": [
  {
   "cell_type": "code",
   "execution_count": 1,
   "metadata": {},
   "outputs": [],
   "source": [
    "import numpy as np\n",
    "import matplotlib.pyplot as plt\n",
    "import pandas as pd\n",
    "import os"
   ]
  },
  {
   "cell_type": "code",
   "execution_count": 3,
   "metadata": {},
   "outputs": [
    {
     "data": {
      "text/html": [
       "<div>\n",
       "<style scoped>\n",
       "    .dataframe tbody tr th:only-of-type {\n",
       "        vertical-align: middle;\n",
       "    }\n",
       "\n",
       "    .dataframe tbody tr th {\n",
       "        vertical-align: top;\n",
       "    }\n",
       "\n",
       "    .dataframe thead th {\n",
       "        text-align: right;\n",
       "    }\n",
       "</style>\n",
       "<table border=\"1\" class=\"dataframe\">\n",
       "  <thead>\n",
       "    <tr style=\"text-align: right;\">\n",
       "      <th></th>\n",
       "      <th>species</th>\n",
       "      <th>official gene symbol</th>\n",
       "      <th>cell type</th>\n",
       "      <th>nicknames</th>\n",
       "      <th>ubiquitousness index</th>\n",
       "      <th>product description</th>\n",
       "      <th>gene type</th>\n",
       "      <th>canonical marker</th>\n",
       "      <th>germ layer</th>\n",
       "      <th>organ</th>\n",
       "      <th>sensitivity_human</th>\n",
       "      <th>sensitivity_mouse</th>\n",
       "      <th>specificity_human</th>\n",
       "      <th>specificity_mouse</th>\n",
       "    </tr>\n",
       "  </thead>\n",
       "  <tbody>\n",
       "    <tr>\n",
       "      <th>0</th>\n",
       "      <td>Mm Hs</td>\n",
       "      <td>CTRB1</td>\n",
       "      <td>Acinar cells</td>\n",
       "      <td>CTRB</td>\n",
       "      <td>0.017</td>\n",
       "      <td>chymotrypsinogen B1</td>\n",
       "      <td>protein-coding gene</td>\n",
       "      <td>1.0</td>\n",
       "      <td>Endoderm</td>\n",
       "      <td>Pancreas</td>\n",
       "      <td>1.000000</td>\n",
       "      <td>0.957143</td>\n",
       "      <td>0.000629</td>\n",
       "      <td>0.015920</td>\n",
       "    </tr>\n",
       "    <tr>\n",
       "      <th>1</th>\n",
       "      <td>Mm Hs</td>\n",
       "      <td>KLK1</td>\n",
       "      <td>Acinar cells</td>\n",
       "      <td>Klk6</td>\n",
       "      <td>0.013</td>\n",
       "      <td>kallikrein 1</td>\n",
       "      <td>protein-coding gene</td>\n",
       "      <td>1.0</td>\n",
       "      <td>Endoderm</td>\n",
       "      <td>Pancreas</td>\n",
       "      <td>0.833333</td>\n",
       "      <td>0.314286</td>\n",
       "      <td>0.005031</td>\n",
       "      <td>0.012826</td>\n",
       "    </tr>\n",
       "    <tr>\n",
       "      <th>2</th>\n",
       "      <td>Mm Hs</td>\n",
       "      <td>RBPJL</td>\n",
       "      <td>Acinar cells</td>\n",
       "      <td>RBP-L|SUHL|RBPSUHL</td>\n",
       "      <td>0.001</td>\n",
       "      <td>recombination signal binding protein for immun...</td>\n",
       "      <td>protein-coding gene</td>\n",
       "      <td>1.0</td>\n",
       "      <td>Endoderm</td>\n",
       "      <td>Pancreas</td>\n",
       "      <td>0.000000</td>\n",
       "      <td>0.000000</td>\n",
       "      <td>0.000000</td>\n",
       "      <td>0.000000</td>\n",
       "    </tr>\n",
       "    <tr>\n",
       "      <th>3</th>\n",
       "      <td>Mm Hs</td>\n",
       "      <td>PTF1A</td>\n",
       "      <td>Acinar cells</td>\n",
       "      <td>PTF1-p48|bHLHa29</td>\n",
       "      <td>0.001</td>\n",
       "      <td>pancreas associated transcription factor 1a</td>\n",
       "      <td>protein-coding gene</td>\n",
       "      <td>1.0</td>\n",
       "      <td>Endoderm</td>\n",
       "      <td>Pancreas</td>\n",
       "      <td>0.000000</td>\n",
       "      <td>0.157143</td>\n",
       "      <td>0.000629</td>\n",
       "      <td>0.000773</td>\n",
       "    </tr>\n",
       "    <tr>\n",
       "      <th>4</th>\n",
       "      <td>Mm</td>\n",
       "      <td>TRY4</td>\n",
       "      <td>Acinar cells</td>\n",
       "      <td>NaN</td>\n",
       "      <td>0.007</td>\n",
       "      <td>trypsin 4</td>\n",
       "      <td>protein coding gene</td>\n",
       "      <td>1.0</td>\n",
       "      <td>Endoderm</td>\n",
       "      <td>Pancreas</td>\n",
       "      <td>NaN</td>\n",
       "      <td>NaN</td>\n",
       "      <td>NaN</td>\n",
       "      <td>NaN</td>\n",
       "    </tr>\n",
       "  </tbody>\n",
       "</table>\n",
       "</div>"
      ],
      "text/plain": [
       "  species official gene symbol     cell type           nicknames  \\\n",
       "0   Mm Hs                CTRB1  Acinar cells                CTRB   \n",
       "1   Mm Hs                 KLK1  Acinar cells                Klk6   \n",
       "2   Mm Hs                RBPJL  Acinar cells  RBP-L|SUHL|RBPSUHL   \n",
       "3   Mm Hs                PTF1A  Acinar cells    PTF1-p48|bHLHa29   \n",
       "4      Mm                 TRY4  Acinar cells                 NaN   \n",
       "\n",
       "   ubiquitousness index                                product description  \\\n",
       "0                 0.017                                chymotrypsinogen B1   \n",
       "1                 0.013                                       kallikrein 1   \n",
       "2                 0.001  recombination signal binding protein for immun...   \n",
       "3                 0.001        pancreas associated transcription factor 1a   \n",
       "4                 0.007                                          trypsin 4   \n",
       "\n",
       "             gene type  canonical marker germ layer     organ  \\\n",
       "0  protein-coding gene               1.0   Endoderm  Pancreas   \n",
       "1  protein-coding gene               1.0   Endoderm  Pancreas   \n",
       "2  protein-coding gene               1.0   Endoderm  Pancreas   \n",
       "3  protein-coding gene               1.0   Endoderm  Pancreas   \n",
       "4  protein coding gene               1.0   Endoderm  Pancreas   \n",
       "\n",
       "   sensitivity_human  sensitivity_mouse  specificity_human  specificity_mouse  \n",
       "0           1.000000           0.957143           0.000629           0.015920  \n",
       "1           0.833333           0.314286           0.005031           0.012826  \n",
       "2           0.000000           0.000000           0.000000           0.000000  \n",
       "3           0.000000           0.157143           0.000629           0.000773  \n",
       "4                NaN                NaN                NaN                NaN  "
      ]
     },
     "execution_count": 3,
     "metadata": {},
     "output_type": "execute_result"
    }
   ],
   "source": [
    "df = pd.read_csv('PanglaoDB_markers_27_Mar_2020.tsv', sep='\\t')\n",
    "df.head()"
   ]
  },
  {
   "cell_type": "code",
   "execution_count": 4,
   "metadata": {},
   "outputs": [
    {
     "data": {
      "text/plain": [
       "(8286, 14)"
      ]
     },
     "execution_count": 4,
     "metadata": {},
     "output_type": "execute_result"
    }
   ],
   "source": [
    "df.shape"
   ]
  },
  {
   "cell_type": "code",
   "execution_count": 5,
   "metadata": {},
   "outputs": [
    {
     "data": {
      "text/plain": [
       "30"
      ]
     },
     "execution_count": 5,
     "metadata": {},
     "output_type": "execute_result"
    }
   ],
   "source": [
    "interested_types = [\n",
    "    \"Platelets\",\n",
    "    \"Erythroblasts\",\n",
    "    \"Erythroid-like and erythroid precursor cells\",\n",
    "    'Hematopoietic stem cells',\n",
    "    \"B cells\",\n",
    "    \"B cells memory\",\n",
    "    \"B cells naive\",\n",
    "    \"Basophils\",\n",
    "    \"Dendritic cells\",\n",
    "    \"Eosinophils\",\n",
    "    \"Gamma delta T cells\",\n",
    "    \"Macrophages\",\n",
    "    \"Mast cells\",\n",
    "    \"Megakaryocytes\",\n",
    "    \"Monocytes\",\n",
    "    \"Myeloid-derived suppressor cells\",\n",
    "    \"Natural killer T cells\",\n",
    "    \"Neutrophils\",\n",
    "    \"NK cells\",\n",
    "    \"Nuocytes\",\n",
    "    \"Plasma cells\",\n",
    "    \"Plasmacytoid dendritic cells\",\n",
    "    \"Red pulp macrophages\",\n",
    "    \"T cells\",\n",
    "    \"T cells naive\",\n",
    "    \"T cytotoxic cells\",\n",
    "    \"T follicular helper cells\",\n",
    "    \"T helper cells\",\n",
    "    \"T memory cells\",\n",
    "    \"T regulatory cells\"\n",
    "]\n",
    "\n",
    "len(interested_types)"
   ]
  },
  {
   "cell_type": "code",
   "execution_count": 6,
   "metadata": {},
   "outputs": [
    {
     "data": {
      "text/plain": [
       "(1859, 14)"
      ]
     },
     "execution_count": 6,
     "metadata": {},
     "output_type": "execute_result"
    }
   ],
   "source": [
    "# Filter the dataframe for rows where the 'species' column includes 'Hs' and\n",
    "# the 'cell type' column is in the list of interested_types\n",
    "marker_genes = df[df['species'].str.contains('Hs') & df['cell type'].isin(interested_types)]\n",
    "marker_genes.shape"
   ]
  },
  {
   "cell_type": "code",
   "execution_count": 7,
   "metadata": {},
   "outputs": [
    {
     "data": {
      "text/plain": [
       "30"
      ]
     },
     "execution_count": 7,
     "metadata": {},
     "output_type": "execute_result"
    }
   ],
   "source": [
    "len(marker_genes['cell type'].unique())"
   ]
  },
  {
   "cell_type": "code",
   "execution_count": 8,
   "metadata": {},
   "outputs": [
    {
     "data": {
      "text/plain": [
       "Mast cells                                      142\n",
       "Platelets                                       130\n",
       "Macrophages                                     128\n",
       "Dendritic cells                                 121\n",
       "Monocytes                                        99\n",
       "B cells                                          98\n",
       "T cells                                          95\n",
       "Hematopoietic stem cells                         88\n",
       "Plasma cells                                     86\n",
       "NK cells                                         80\n",
       "Basophils                                        73\n",
       "Erythroid-like and erythroid precursor cells     70\n",
       "Neutrophils                                      69\n",
       "B cells naive                                    69\n",
       "B cells memory                                   66\n",
       "Gamma delta T cells                              66\n",
       "T helper cells                                   60\n",
       "T memory cells                                   55\n",
       "Plasmacytoid dendritic cells                     55\n",
       "Megakaryocytes                                   48\n",
       "Eosinophils                                      27\n",
       "Erythroblasts                                    26\n",
       "Natural killer T cells                           23\n",
       "T regulatory cells                               21\n",
       "Myeloid-derived suppressor cells                 15\n",
       "T follicular helper cells                        13\n",
       "Red pulp macrophages                             12\n",
       "Nuocytes                                         12\n",
       "T cytotoxic cells                                 8\n",
       "T cells naive                                     4\n",
       "Name: cell type, dtype: int64"
      ]
     },
     "execution_count": 8,
     "metadata": {},
     "output_type": "execute_result"
    }
   ],
   "source": [
    "marker_genes['cell type'].value_counts()"
   ]
  },
  {
   "cell_type": "markdown",
   "metadata": {},
   "source": [
    "## Read PreLect features"
   ]
  },
  {
   "cell_type": "code",
   "execution_count": 9,
   "metadata": {},
   "outputs": [],
   "source": [
    "import os\n",
    "os.chdir('/Users/evanli/Documents/EvanPys/Progress/PBMC_Zheng/Leiden_HVG_PreLect/feature_selection')\n",
    "\n",
    "leiden_clusters = [f'Leiden_{i}' for i in range(16)]\n",
    "features_dict = {}\n",
    "# Read features for each celltype\n",
    "for celltype in leiden_clusters:\n",
    "    try:\n",
    "        feature_df = pd.read_csv(f'{celltype}_features.txt', names=['Gene', 'Weight', 'Tendency'], sep='\\t')\n",
    "        features_dict[celltype] = feature_df\n",
    "    except:\n",
    "        print('skipping:', celltype)\n",
    "        continue\n",
    "    # print(celltype, 'Feature count:', feature_df.shape[0])\n",
    "    # print(celltype, 'Positive feature count:', feature_df[feature_df['Tendency'] == 1].shape[0])\n",
    "    # print('------------------')"
   ]
  },
  {
   "cell_type": "code",
   "execution_count": 10,
   "metadata": {},
   "outputs": [
    {
     "data": {
      "text/html": [
       "<div>\n",
       "<style scoped>\n",
       "    .dataframe tbody tr th:only-of-type {\n",
       "        vertical-align: middle;\n",
       "    }\n",
       "\n",
       "    .dataframe tbody tr th {\n",
       "        vertical-align: top;\n",
       "    }\n",
       "\n",
       "    .dataframe thead th {\n",
       "        text-align: right;\n",
       "    }\n",
       "</style>\n",
       "<table border=\"1\" class=\"dataframe\">\n",
       "  <thead>\n",
       "    <tr style=\"text-align: right;\">\n",
       "      <th></th>\n",
       "      <th>Gene</th>\n",
       "      <th>Weight</th>\n",
       "      <th>Tendency</th>\n",
       "    </tr>\n",
       "  </thead>\n",
       "  <tbody>\n",
       "    <tr>\n",
       "      <th>0</th>\n",
       "      <td>ENSG00000142669</td>\n",
       "      <td>0.046448</td>\n",
       "      <td>1</td>\n",
       "    </tr>\n",
       "    <tr>\n",
       "      <th>1</th>\n",
       "      <td>ENSG00000169442</td>\n",
       "      <td>0.279994</td>\n",
       "      <td>1</td>\n",
       "    </tr>\n",
       "    <tr>\n",
       "      <th>2</th>\n",
       "      <td>ENSG00000122406</td>\n",
       "      <td>0.041489</td>\n",
       "      <td>1</td>\n",
       "    </tr>\n",
       "    <tr>\n",
       "      <th>3</th>\n",
       "      <td>ENSG00000197747</td>\n",
       "      <td>0.116894</td>\n",
       "      <td>1</td>\n",
       "    </tr>\n",
       "    <tr>\n",
       "      <th>4</th>\n",
       "      <td>ENSG00000196154</td>\n",
       "      <td>1.376208</td>\n",
       "      <td>1</td>\n",
       "    </tr>\n",
       "    <tr>\n",
       "      <th>...</th>\n",
       "      <td>...</td>\n",
       "      <td>...</td>\n",
       "      <td>...</td>\n",
       "    </tr>\n",
       "    <tr>\n",
       "      <th>92</th>\n",
       "      <td>ENSG00000198888</td>\n",
       "      <td>-0.057154</td>\n",
       "      <td>0</td>\n",
       "    </tr>\n",
       "    <tr>\n",
       "      <th>93</th>\n",
       "      <td>ENSG00000198804</td>\n",
       "      <td>-0.265438</td>\n",
       "      <td>0</td>\n",
       "    </tr>\n",
       "    <tr>\n",
       "      <th>94</th>\n",
       "      <td>ENSG00000198712</td>\n",
       "      <td>-0.183598</td>\n",
       "      <td>0</td>\n",
       "    </tr>\n",
       "    <tr>\n",
       "      <th>95</th>\n",
       "      <td>ENSG00000198938</td>\n",
       "      <td>-0.117060</td>\n",
       "      <td>0</td>\n",
       "    </tr>\n",
       "    <tr>\n",
       "      <th>96</th>\n",
       "      <td>ENSG00000198886</td>\n",
       "      <td>-0.044109</td>\n",
       "      <td>0</td>\n",
       "    </tr>\n",
       "  </tbody>\n",
       "</table>\n",
       "<p>97 rows × 3 columns</p>\n",
       "</div>"
      ],
      "text/plain": [
       "               Gene    Weight  Tendency\n",
       "0   ENSG00000142669  0.046448         1\n",
       "1   ENSG00000169442  0.279994         1\n",
       "2   ENSG00000122406  0.041489         1\n",
       "3   ENSG00000197747  0.116894         1\n",
       "4   ENSG00000196154  1.376208         1\n",
       "..              ...       ...       ...\n",
       "92  ENSG00000198888 -0.057154         0\n",
       "93  ENSG00000198804 -0.265438         0\n",
       "94  ENSG00000198712 -0.183598         0\n",
       "95  ENSG00000198938 -0.117060         0\n",
       "96  ENSG00000198886 -0.044109         0\n",
       "\n",
       "[97 rows x 3 columns]"
      ]
     },
     "execution_count": 10,
     "metadata": {},
     "output_type": "execute_result"
    }
   ],
   "source": [
    "features_dict['Leiden_0']"
   ]
  },
  {
   "cell_type": "markdown",
   "metadata": {},
   "source": [
    "## Convert Ensembl to Gene symbol"
   ]
  },
  {
   "cell_type": "code",
   "execution_count": 11,
   "metadata": {},
   "outputs": [
    {
     "data": {
      "text/plain": [
       "(68579, 32738)"
      ]
     },
     "execution_count": 11,
     "metadata": {},
     "output_type": "execute_result"
    }
   ],
   "source": [
    "import scanpy as sc\n",
    "\n",
    "adata = sc.read_h5ad('/Users/evanli/Documents/Research_datasets/PBMC_68k_Zheng/Zheng_PBMC.h5ad')\n",
    "adata.shape"
   ]
  },
  {
   "cell_type": "code",
   "execution_count": 12,
   "metadata": {},
   "outputs": [
    {
     "data": {
      "text/html": [
       "<div>\n",
       "<style scoped>\n",
       "    .dataframe tbody tr th:only-of-type {\n",
       "        vertical-align: middle;\n",
       "    }\n",
       "\n",
       "    .dataframe tbody tr th {\n",
       "        vertical-align: top;\n",
       "    }\n",
       "\n",
       "    .dataframe thead th {\n",
       "        text-align: right;\n",
       "    }\n",
       "</style>\n",
       "<table border=\"1\" class=\"dataframe\">\n",
       "  <thead>\n",
       "    <tr style=\"text-align: right;\">\n",
       "      <th></th>\n",
       "      <th>gene_symbols</th>\n",
       "    </tr>\n",
       "  </thead>\n",
       "  <tbody>\n",
       "    <tr>\n",
       "      <th>ENSG00000243485</th>\n",
       "      <td>MIR1302-10</td>\n",
       "    </tr>\n",
       "    <tr>\n",
       "      <th>ENSG00000237613</th>\n",
       "      <td>FAM138A</td>\n",
       "    </tr>\n",
       "    <tr>\n",
       "      <th>ENSG00000186092</th>\n",
       "      <td>OR4F5</td>\n",
       "    </tr>\n",
       "    <tr>\n",
       "      <th>ENSG00000238009</th>\n",
       "      <td>RP11-34P13.7</td>\n",
       "    </tr>\n",
       "    <tr>\n",
       "      <th>ENSG00000239945</th>\n",
       "      <td>RP11-34P13.8</td>\n",
       "    </tr>\n",
       "  </tbody>\n",
       "</table>\n",
       "</div>"
      ],
      "text/plain": [
       "                 gene_symbols\n",
       "ENSG00000243485    MIR1302-10\n",
       "ENSG00000237613       FAM138A\n",
       "ENSG00000186092         OR4F5\n",
       "ENSG00000238009  RP11-34P13.7\n",
       "ENSG00000239945  RP11-34P13.8"
      ]
     },
     "execution_count": 12,
     "metadata": {},
     "output_type": "execute_result"
    }
   ],
   "source": [
    "adata.var.head()"
   ]
  },
  {
   "cell_type": "code",
   "execution_count": 13,
   "metadata": {},
   "outputs": [
    {
     "data": {
      "text/html": [
       "<div>\n",
       "<style scoped>\n",
       "    .dataframe tbody tr th:only-of-type {\n",
       "        vertical-align: middle;\n",
       "    }\n",
       "\n",
       "    .dataframe tbody tr th {\n",
       "        vertical-align: top;\n",
       "    }\n",
       "\n",
       "    .dataframe thead th {\n",
       "        text-align: right;\n",
       "    }\n",
       "</style>\n",
       "<table border=\"1\" class=\"dataframe\">\n",
       "  <thead>\n",
       "    <tr style=\"text-align: right;\">\n",
       "      <th></th>\n",
       "      <th>Ensembl</th>\n",
       "      <th>Gene_symbol</th>\n",
       "    </tr>\n",
       "  </thead>\n",
       "  <tbody>\n",
       "    <tr>\n",
       "      <th>0</th>\n",
       "      <td>ENSG00000243485</td>\n",
       "      <td>MIR1302-10</td>\n",
       "    </tr>\n",
       "    <tr>\n",
       "      <th>1</th>\n",
       "      <td>ENSG00000237613</td>\n",
       "      <td>FAM138A</td>\n",
       "    </tr>\n",
       "    <tr>\n",
       "      <th>2</th>\n",
       "      <td>ENSG00000186092</td>\n",
       "      <td>OR4F5</td>\n",
       "    </tr>\n",
       "    <tr>\n",
       "      <th>3</th>\n",
       "      <td>ENSG00000238009</td>\n",
       "      <td>RP11-34P13.7</td>\n",
       "    </tr>\n",
       "    <tr>\n",
       "      <th>4</th>\n",
       "      <td>ENSG00000239945</td>\n",
       "      <td>RP11-34P13.8</td>\n",
       "    </tr>\n",
       "  </tbody>\n",
       "</table>\n",
       "</div>"
      ],
      "text/plain": [
       "           Ensembl   Gene_symbol\n",
       "0  ENSG00000243485    MIR1302-10\n",
       "1  ENSG00000237613       FAM138A\n",
       "2  ENSG00000186092         OR4F5\n",
       "3  ENSG00000238009  RP11-34P13.7\n",
       "4  ENSG00000239945  RP11-34P13.8"
      ]
     },
     "execution_count": 13,
     "metadata": {},
     "output_type": "execute_result"
    }
   ],
   "source": [
    "conversion_df = pd.DataFrame({'Ensembl': adata.var_names.tolist(), \n",
    "                              'Gene_symbol': adata.var['gene_symbols'].tolist()})\n",
    "conversion_df.head()"
   ]
  },
  {
   "cell_type": "code",
   "execution_count": 14,
   "metadata": {},
   "outputs": [
    {
     "data": {
      "text/plain": [
       "(32738, 2)"
      ]
     },
     "execution_count": 14,
     "metadata": {},
     "output_type": "execute_result"
    }
   ],
   "source": [
    "conversion_df.shape"
   ]
  },
  {
   "cell_type": "code",
   "execution_count": 15,
   "metadata": {},
   "outputs": [],
   "source": [
    "def convert_gene_names(feature_df, ensemble_to_symbol_df):\n",
    "    converted = feature_df.copy()\n",
    "    converted['Symbol'] = converted['Gene'].map(ensemble_to_symbol_df.set_index('Ensembl')['Gene_symbol'])\n",
    "    return converted"
   ]
  },
  {
   "cell_type": "code",
   "execution_count": 16,
   "metadata": {},
   "outputs": [
    {
     "name": "stdout",
     "output_type": "stream",
     "text": [
      "Leiden_0 (97, 4)\n",
      "Leiden_1 (21, 4)\n",
      "Leiden_2 (141, 4)\n",
      "Leiden_3 (89, 4)\n",
      "Leiden_4 (152, 4)\n",
      "Leiden_5 (17, 4)\n",
      "Leiden_6 (22, 4)\n",
      "Leiden_7 (12, 4)\n",
      "Leiden_8 (7, 4)\n",
      "Leiden_9 (7, 4)\n",
      "Leiden_10 (4, 4)\n",
      "Leiden_11 (5, 4)\n",
      "Leiden_12 (2, 4)\n",
      "Leiden_13 (2, 4)\n",
      "Leiden_14 (7, 4)\n",
      "Leiden_15 (5, 4)\n"
     ]
    }
   ],
   "source": [
    "new_features_dict = {}\n",
    "\n",
    "for cls in leiden_clusters:\n",
    "    new_features_dict[cls] = convert_gene_names(features_dict[cls], conversion_df)\n",
    "    print(cls, new_features_dict[cls].shape)"
   ]
  },
  {
   "cell_type": "code",
   "execution_count": 17,
   "metadata": {},
   "outputs": [
    {
     "data": {
      "text/html": [
       "<div>\n",
       "<style scoped>\n",
       "    .dataframe tbody tr th:only-of-type {\n",
       "        vertical-align: middle;\n",
       "    }\n",
       "\n",
       "    .dataframe tbody tr th {\n",
       "        vertical-align: top;\n",
       "    }\n",
       "\n",
       "    .dataframe thead th {\n",
       "        text-align: right;\n",
       "    }\n",
       "</style>\n",
       "<table border=\"1\" class=\"dataframe\">\n",
       "  <thead>\n",
       "    <tr style=\"text-align: right;\">\n",
       "      <th></th>\n",
       "      <th>Gene</th>\n",
       "      <th>Weight</th>\n",
       "      <th>Tendency</th>\n",
       "      <th>Symbol</th>\n",
       "    </tr>\n",
       "  </thead>\n",
       "  <tbody>\n",
       "    <tr>\n",
       "      <th>0</th>\n",
       "      <td>ENSG00000142669</td>\n",
       "      <td>0.046448</td>\n",
       "      <td>1</td>\n",
       "      <td>SH3BGRL3</td>\n",
       "    </tr>\n",
       "    <tr>\n",
       "      <th>1</th>\n",
       "      <td>ENSG00000169442</td>\n",
       "      <td>0.279994</td>\n",
       "      <td>1</td>\n",
       "      <td>CD52</td>\n",
       "    </tr>\n",
       "    <tr>\n",
       "      <th>2</th>\n",
       "      <td>ENSG00000122406</td>\n",
       "      <td>0.041489</td>\n",
       "      <td>1</td>\n",
       "      <td>RPL5</td>\n",
       "    </tr>\n",
       "    <tr>\n",
       "      <th>3</th>\n",
       "      <td>ENSG00000197747</td>\n",
       "      <td>0.116894</td>\n",
       "      <td>1</td>\n",
       "      <td>S100A10</td>\n",
       "    </tr>\n",
       "    <tr>\n",
       "      <th>4</th>\n",
       "      <td>ENSG00000196154</td>\n",
       "      <td>1.376208</td>\n",
       "      <td>1</td>\n",
       "      <td>S100A4</td>\n",
       "    </tr>\n",
       "  </tbody>\n",
       "</table>\n",
       "</div>"
      ],
      "text/plain": [
       "              Gene    Weight  Tendency    Symbol\n",
       "0  ENSG00000142669  0.046448         1  SH3BGRL3\n",
       "1  ENSG00000169442  0.279994         1      CD52\n",
       "2  ENSG00000122406  0.041489         1      RPL5\n",
       "3  ENSG00000197747  0.116894         1   S100A10\n",
       "4  ENSG00000196154  1.376208         1    S100A4"
      ]
     },
     "execution_count": 17,
     "metadata": {},
     "output_type": "execute_result"
    }
   ],
   "source": [
    "new_features_dict['Leiden_0'].head()"
   ]
  },
  {
   "cell_type": "code",
   "execution_count": 18,
   "metadata": {},
   "outputs": [
    {
     "name": "stdout",
     "output_type": "stream",
     "text": [
      "/Users/evanli/Documents/EvanPys/Progress/PBMC_Zheng/Leiden_HVG_PreLect/feature_selection\n"
     ]
    }
   ],
   "source": [
    "!pwd"
   ]
  },
  {
   "cell_type": "code",
   "execution_count": 20,
   "metadata": {},
   "outputs": [
    {
     "name": "stdout",
     "output_type": "stream",
     "text": [
      "Leiden_0\n",
      "Leiden_1\n",
      "Leiden_2\n",
      "Leiden_3\n",
      "Leiden_4\n",
      "Leiden_5\n",
      "Leiden_6\n",
      "Leiden_7\n",
      "Leiden_8\n",
      "Leiden_9\n",
      "Leiden_10\n",
      "Leiden_11\n",
      "Leiden_12\n",
      "Leiden_13\n",
      "Leiden_14\n",
      "Leiden_15\n"
     ]
    }
   ],
   "source": [
    "# export all df in new_features_dict to txt\n",
    "for key, value in new_features_dict.items():\n",
    "    print(key)\n",
    "    # print(type(value))\n",
    "    value.to_csv(f'{key}_features_symbol.txt', sep='\\t', index=False)"
   ]
  },
  {
   "cell_type": "markdown",
   "metadata": {},
   "source": [
    "## Check if gene names in adata is compatible with gene names in DB"
   ]
  },
  {
   "cell_type": "code",
   "execution_count": 21,
   "metadata": {},
   "outputs": [
    {
     "data": {
      "text/plain": [
       "590"
      ]
     },
     "execution_count": 21,
     "metadata": {},
     "output_type": "execute_result"
    }
   ],
   "source": [
    "all_symbol = []\n",
    "for cls in leiden_clusters:\n",
    "    all_symbol.extend(new_features_dict[cls]['Symbol'].tolist())\n",
    "len(all_symbol)"
   ]
  },
  {
   "cell_type": "code",
   "execution_count": 22,
   "metadata": {},
   "outputs": [
    {
     "name": "stdout",
     "output_type": "stream",
     "text": [
      "all_genes_unique: 222\n",
      "db_all_genes_unique: 1188\n",
      "common_genes: 49\n"
     ]
    }
   ],
   "source": [
    "# adata 裡面gene 和 DB裡面gene的交集\n",
    "print('all_genes_unique:', len(set(all_symbol)))\n",
    "db_all_genes = marker_genes['official gene symbol'].tolist()\n",
    "db_all_genes_unique = list(set(db_all_genes))\n",
    "print('db_all_genes_unique:', len(db_all_genes_unique))\n",
    "common_genes = list(set(all_symbol) & set(db_all_genes))\n",
    "print('common_genes:', len(common_genes))\n",
    "\n"
   ]
  },
  {
   "cell_type": "code",
   "execution_count": 23,
   "metadata": {},
   "outputs": [
    {
     "data": {
      "text/plain": [
       "173"
      ]
     },
     "execution_count": 23,
     "metadata": {},
     "output_type": "execute_result"
    }
   ],
   "source": [
    "missing = list(set(all_symbol) - set(common_genes))  # 590-49\n",
    "len(missing)"
   ]
  },
  {
   "cell_type": "markdown",
   "metadata": {},
   "source": [
    "## Compare PreLect features in every Leiden cluster to marker gene DB"
   ]
  },
  {
   "cell_type": "markdown",
   "metadata": {},
   "source": [
    "### Find common between (unique PreLect feature) and (marker genes)\n",
    "Then subset the marker_genes dataframe with these common genes  \n",
    "There may be duplicate genes in marker_genes that corresponds to different cell types"
   ]
  },
  {
   "cell_type": "code",
   "execution_count": 24,
   "metadata": {},
   "outputs": [
    {
     "data": {
      "text/html": [
       "<div>\n",
       "<style scoped>\n",
       "    .dataframe tbody tr th:only-of-type {\n",
       "        vertical-align: middle;\n",
       "    }\n",
       "\n",
       "    .dataframe tbody tr th {\n",
       "        vertical-align: top;\n",
       "    }\n",
       "\n",
       "    .dataframe thead th {\n",
       "        text-align: right;\n",
       "    }\n",
       "</style>\n",
       "<table border=\"1\" class=\"dataframe\">\n",
       "  <thead>\n",
       "    <tr style=\"text-align: right;\">\n",
       "      <th></th>\n",
       "      <th>Gene</th>\n",
       "      <th>Weight</th>\n",
       "      <th>Tendency</th>\n",
       "      <th>Symbol</th>\n",
       "    </tr>\n",
       "  </thead>\n",
       "  <tbody>\n",
       "    <tr>\n",
       "      <th>0</th>\n",
       "      <td>ENSG00000142669</td>\n",
       "      <td>0.046448</td>\n",
       "      <td>1</td>\n",
       "      <td>SH3BGRL3</td>\n",
       "    </tr>\n",
       "    <tr>\n",
       "      <th>1</th>\n",
       "      <td>ENSG00000169442</td>\n",
       "      <td>0.279994</td>\n",
       "      <td>1</td>\n",
       "      <td>CD52</td>\n",
       "    </tr>\n",
       "    <tr>\n",
       "      <th>2</th>\n",
       "      <td>ENSG00000122406</td>\n",
       "      <td>0.041489</td>\n",
       "      <td>1</td>\n",
       "      <td>RPL5</td>\n",
       "    </tr>\n",
       "    <tr>\n",
       "      <th>3</th>\n",
       "      <td>ENSG00000197747</td>\n",
       "      <td>0.116894</td>\n",
       "      <td>1</td>\n",
       "      <td>S100A10</td>\n",
       "    </tr>\n",
       "    <tr>\n",
       "      <th>4</th>\n",
       "      <td>ENSG00000196154</td>\n",
       "      <td>1.376208</td>\n",
       "      <td>1</td>\n",
       "      <td>S100A4</td>\n",
       "    </tr>\n",
       "  </tbody>\n",
       "</table>\n",
       "</div>"
      ],
      "text/plain": [
       "              Gene    Weight  Tendency    Symbol\n",
       "0  ENSG00000142669  0.046448         1  SH3BGRL3\n",
       "1  ENSG00000169442  0.279994         1      CD52\n",
       "2  ENSG00000122406  0.041489         1      RPL5\n",
       "3  ENSG00000197747  0.116894         1   S100A10\n",
       "4  ENSG00000196154  1.376208         1    S100A4"
      ]
     },
     "execution_count": 24,
     "metadata": {},
     "output_type": "execute_result"
    }
   ],
   "source": [
    "new_features_dict['Leiden_0'].head()"
   ]
  },
  {
   "cell_type": "code",
   "execution_count": 25,
   "metadata": {},
   "outputs": [
    {
     "data": {
      "text/html": [
       "<div>\n",
       "<style scoped>\n",
       "    .dataframe tbody tr th:only-of-type {\n",
       "        vertical-align: middle;\n",
       "    }\n",
       "\n",
       "    .dataframe tbody tr th {\n",
       "        vertical-align: top;\n",
       "    }\n",
       "\n",
       "    .dataframe thead th {\n",
       "        text-align: right;\n",
       "    }\n",
       "</style>\n",
       "<table border=\"1\" class=\"dataframe\">\n",
       "  <thead>\n",
       "    <tr style=\"text-align: right;\">\n",
       "      <th></th>\n",
       "      <th>species</th>\n",
       "      <th>official gene symbol</th>\n",
       "      <th>cell type</th>\n",
       "      <th>nicknames</th>\n",
       "      <th>ubiquitousness index</th>\n",
       "      <th>product description</th>\n",
       "      <th>gene type</th>\n",
       "      <th>canonical marker</th>\n",
       "      <th>germ layer</th>\n",
       "      <th>organ</th>\n",
       "      <th>sensitivity_human</th>\n",
       "      <th>sensitivity_mouse</th>\n",
       "      <th>specificity_human</th>\n",
       "      <th>specificity_mouse</th>\n",
       "    </tr>\n",
       "  </thead>\n",
       "  <tbody>\n",
       "    <tr>\n",
       "      <th>421</th>\n",
       "      <td>Mm Hs</td>\n",
       "      <td>CD2</td>\n",
       "      <td>B cells</td>\n",
       "      <td>NaN</td>\n",
       "      <td>0.040</td>\n",
       "      <td>CD2 molecule</td>\n",
       "      <td>protein-coding gene</td>\n",
       "      <td>NaN</td>\n",
       "      <td>Mesoderm</td>\n",
       "      <td>Immune system</td>\n",
       "      <td>0.000000</td>\n",
       "      <td>0.213178</td>\n",
       "      <td>0.095847</td>\n",
       "      <td>0.026554</td>\n",
       "    </tr>\n",
       "    <tr>\n",
       "      <th>422</th>\n",
       "      <td>Mm Hs</td>\n",
       "      <td>CD5</td>\n",
       "      <td>B cells</td>\n",
       "      <td>NaN</td>\n",
       "      <td>0.004</td>\n",
       "      <td>CD5 molecule</td>\n",
       "      <td>protein-coding gene</td>\n",
       "      <td>1.0</td>\n",
       "      <td>Mesoderm</td>\n",
       "      <td>Immune system</td>\n",
       "      <td>0.000000</td>\n",
       "      <td>0.000000</td>\n",
       "      <td>0.004153</td>\n",
       "      <td>0.004502</td>\n",
       "    </tr>\n",
       "    <tr>\n",
       "      <th>423</th>\n",
       "      <td>Mm Hs</td>\n",
       "      <td>MS4A1</td>\n",
       "      <td>B cells</td>\n",
       "      <td>Bp35|MS4A2|CD20</td>\n",
       "      <td>0.014</td>\n",
       "      <td>membrane spanning 4-domains A1</td>\n",
       "      <td>protein-coding gene</td>\n",
       "      <td>1.0</td>\n",
       "      <td>Mesoderm</td>\n",
       "      <td>Immune system</td>\n",
       "      <td>0.483871</td>\n",
       "      <td>0.620155</td>\n",
       "      <td>0.011182</td>\n",
       "      <td>0.001566</td>\n",
       "    </tr>\n",
       "    <tr>\n",
       "      <th>424</th>\n",
       "      <td>Mm Hs</td>\n",
       "      <td>CR2</td>\n",
       "      <td>B cells</td>\n",
       "      <td>CD21|C3DR</td>\n",
       "      <td>0.001</td>\n",
       "      <td>complement C3d receptor 2</td>\n",
       "      <td>protein-coding gene</td>\n",
       "      <td>1.0</td>\n",
       "      <td>Mesoderm</td>\n",
       "      <td>Immune system</td>\n",
       "      <td>0.048387</td>\n",
       "      <td>0.034884</td>\n",
       "      <td>0.000000</td>\n",
       "      <td>0.000000</td>\n",
       "    </tr>\n",
       "    <tr>\n",
       "      <th>425</th>\n",
       "      <td>Mm Hs</td>\n",
       "      <td>CD22</td>\n",
       "      <td>B cells</td>\n",
       "      <td>SIGLEC-2|SIGLEC2</td>\n",
       "      <td>0.003</td>\n",
       "      <td>CD22 molecule</td>\n",
       "      <td>protein-coding gene</td>\n",
       "      <td>1.0</td>\n",
       "      <td>Mesoderm</td>\n",
       "      <td>Immune system</td>\n",
       "      <td>0.096774</td>\n",
       "      <td>0.127907</td>\n",
       "      <td>0.001278</td>\n",
       "      <td>0.000196</td>\n",
       "    </tr>\n",
       "  </tbody>\n",
       "</table>\n",
       "</div>"
      ],
      "text/plain": [
       "    species official gene symbol cell type         nicknames  \\\n",
       "421   Mm Hs                  CD2   B cells               NaN   \n",
       "422   Mm Hs                  CD5   B cells               NaN   \n",
       "423   Mm Hs                MS4A1   B cells   Bp35|MS4A2|CD20   \n",
       "424   Mm Hs                  CR2   B cells         CD21|C3DR   \n",
       "425   Mm Hs                 CD22   B cells  SIGLEC-2|SIGLEC2   \n",
       "\n",
       "     ubiquitousness index             product description  \\\n",
       "421                 0.040                    CD2 molecule   \n",
       "422                 0.004                    CD5 molecule   \n",
       "423                 0.014  membrane spanning 4-domains A1   \n",
       "424                 0.001       complement C3d receptor 2   \n",
       "425                 0.003                   CD22 molecule   \n",
       "\n",
       "               gene type  canonical marker germ layer          organ  \\\n",
       "421  protein-coding gene               NaN   Mesoderm  Immune system   \n",
       "422  protein-coding gene               1.0   Mesoderm  Immune system   \n",
       "423  protein-coding gene               1.0   Mesoderm  Immune system   \n",
       "424  protein-coding gene               1.0   Mesoderm  Immune system   \n",
       "425  protein-coding gene               1.0   Mesoderm  Immune system   \n",
       "\n",
       "     sensitivity_human  sensitivity_mouse  specificity_human  \\\n",
       "421           0.000000           0.213178           0.095847   \n",
       "422           0.000000           0.000000           0.004153   \n",
       "423           0.483871           0.620155           0.011182   \n",
       "424           0.048387           0.034884           0.000000   \n",
       "425           0.096774           0.127907           0.001278   \n",
       "\n",
       "     specificity_mouse  \n",
       "421           0.026554  \n",
       "422           0.004502  \n",
       "423           0.001566  \n",
       "424           0.000000  \n",
       "425           0.000196  "
      ]
     },
     "execution_count": 25,
     "metadata": {},
     "output_type": "execute_result"
    }
   ],
   "source": [
    "marker_genes.head()"
   ]
  },
  {
   "cell_type": "code",
   "execution_count": 26,
   "metadata": {},
   "outputs": [],
   "source": [
    "set1 = set(new_features_dict['Leiden_0']['Symbol'].tolist())\n",
    "set2 = set(marker_genes['official gene symbol'].tolist())\n",
    "\n",
    "common = list(set1 & set2)"
   ]
  },
  {
   "cell_type": "code",
   "execution_count": 27,
   "metadata": {},
   "outputs": [
    {
     "data": {
      "text/plain": [
       "18"
      ]
     },
     "execution_count": 27,
     "metadata": {},
     "output_type": "execute_result"
    }
   ],
   "source": [
    "len(common)"
   ]
  },
  {
   "cell_type": "code",
   "execution_count": 28,
   "metadata": {},
   "outputs": [
    {
     "data": {
      "text/plain": [
       "(52, 14)"
      ]
     },
     "execution_count": 28,
     "metadata": {},
     "output_type": "execute_result"
    }
   ],
   "source": [
    "cdf = marker_genes[marker_genes['official gene symbol'].isin(common)]\n",
    "cdf.shape"
   ]
  },
  {
   "cell_type": "code",
   "execution_count": 36,
   "metadata": {},
   "outputs": [
    {
     "data": {
      "text/plain": [
       "18"
      ]
     },
     "execution_count": 36,
     "metadata": {},
     "output_type": "execute_result"
    }
   ],
   "source": [
    "len(set(cdf['official gene symbol'].tolist()))"
   ]
  },
  {
   "cell_type": "markdown",
   "metadata": {},
   "source": [
    "### Function for finding common genes"
   ]
  },
  {
   "cell_type": "code",
   "execution_count": 30,
   "metadata": {},
   "outputs": [],
   "source": [
    "def find_common_genes_in_leiden(features_df, marker_df):\n",
    "    set1 = set(features_df['Symbol'].tolist())\n",
    "    set2 = set(marker_df['official gene symbol'].tolist())\n",
    "    common = list(set1 & set2)\n",
    "    marker_df_common = marker_df[marker_df['official gene symbol'].isin(common)]\n",
    "\n",
    "    return common, marker_df_common"
   ]
  },
  {
   "cell_type": "code",
   "execution_count": 90,
   "metadata": {},
   "outputs": [
    {
     "name": "stdout",
     "output_type": "stream",
     "text": [
      "Leiden_0\n",
      "18 (52, 14)\n",
      "Leiden_1\n",
      "11 (33, 14)\n",
      "Leiden_2\n",
      "23 (69, 14)\n",
      "Leiden_3\n",
      "16 (47, 14)\n",
      "Leiden_4\n",
      "27 (88, 14)\n",
      "Leiden_5\n",
      "7 (27, 14)\n",
      "Leiden_6\n",
      "8 (26, 14)\n",
      "Leiden_7\n",
      "5 (15, 14)\n",
      "Leiden_8\n",
      "4 (22, 14)\n",
      "Leiden_9\n",
      "2 (4, 14)\n",
      "Leiden_10\n",
      "0 (0, 14)\n",
      "Leiden_11\n",
      "1 (1, 14)\n",
      "Leiden_12\n",
      "0 (0, 14)\n",
      "Leiden_13\n",
      "0 (0, 14)\n",
      "Leiden_14\n",
      "0 (0, 14)\n",
      "Leiden_15\n",
      "0 (0, 14)\n"
     ]
    }
   ],
   "source": [
    "os.chdir('/Users/evanli/Documents/EvanPys/Progress/PBMC_Zheng/Leiden_HVG_PreLect/Compare_w_marker_gene_db')\n",
    "\n",
    "for clus in leiden_clusters:\n",
    "    print(clus)\n",
    "    common_genes, common_df = find_common_genes_in_leiden(new_features_dict[clus], marker_genes)\n",
    "    print(len(common_genes), common_df.shape)\n",
    "    common_df.to_csv(f'{clus}_common_w_DB.csv', sep='\\t', index=False)"
   ]
  },
  {
   "cell_type": "markdown",
   "metadata": {},
   "source": [
    "## Print unmatched PreLect features"
   ]
  },
  {
   "cell_type": "code",
   "execution_count": 37,
   "metadata": {},
   "outputs": [
    {
     "data": {
      "text/html": [
       "<div>\n",
       "<style scoped>\n",
       "    .dataframe tbody tr th:only-of-type {\n",
       "        vertical-align: middle;\n",
       "    }\n",
       "\n",
       "    .dataframe tbody tr th {\n",
       "        vertical-align: top;\n",
       "    }\n",
       "\n",
       "    .dataframe thead th {\n",
       "        text-align: right;\n",
       "    }\n",
       "</style>\n",
       "<table border=\"1\" class=\"dataframe\">\n",
       "  <thead>\n",
       "    <tr style=\"text-align: right;\">\n",
       "      <th></th>\n",
       "      <th>Gene</th>\n",
       "      <th>Weight</th>\n",
       "      <th>Tendency</th>\n",
       "    </tr>\n",
       "  </thead>\n",
       "  <tbody>\n",
       "    <tr>\n",
       "      <th>0</th>\n",
       "      <td>ENSG00000142669</td>\n",
       "      <td>0.046448</td>\n",
       "      <td>1</td>\n",
       "    </tr>\n",
       "    <tr>\n",
       "      <th>1</th>\n",
       "      <td>ENSG00000169442</td>\n",
       "      <td>0.279994</td>\n",
       "      <td>1</td>\n",
       "    </tr>\n",
       "    <tr>\n",
       "      <th>2</th>\n",
       "      <td>ENSG00000122406</td>\n",
       "      <td>0.041489</td>\n",
       "      <td>1</td>\n",
       "    </tr>\n",
       "    <tr>\n",
       "      <th>3</th>\n",
       "      <td>ENSG00000197747</td>\n",
       "      <td>0.116894</td>\n",
       "      <td>1</td>\n",
       "    </tr>\n",
       "    <tr>\n",
       "      <th>4</th>\n",
       "      <td>ENSG00000196154</td>\n",
       "      <td>1.376208</td>\n",
       "      <td>1</td>\n",
       "    </tr>\n",
       "  </tbody>\n",
       "</table>\n",
       "</div>"
      ],
      "text/plain": [
       "              Gene    Weight  Tendency\n",
       "0  ENSG00000142669  0.046448         1\n",
       "1  ENSG00000169442  0.279994         1\n",
       "2  ENSG00000122406  0.041489         1\n",
       "3  ENSG00000197747  0.116894         1\n",
       "4  ENSG00000196154  1.376208         1"
      ]
     },
     "execution_count": 37,
     "metadata": {},
     "output_type": "execute_result"
    }
   ],
   "source": [
    "features_dict['Leiden_0'].head()"
   ]
  },
  {
   "cell_type": "code",
   "execution_count": 38,
   "metadata": {},
   "outputs": [
    {
     "data": {
      "text/html": [
       "<div>\n",
       "<style scoped>\n",
       "    .dataframe tbody tr th:only-of-type {\n",
       "        vertical-align: middle;\n",
       "    }\n",
       "\n",
       "    .dataframe tbody tr th {\n",
       "        vertical-align: top;\n",
       "    }\n",
       "\n",
       "    .dataframe thead th {\n",
       "        text-align: right;\n",
       "    }\n",
       "</style>\n",
       "<table border=\"1\" class=\"dataframe\">\n",
       "  <thead>\n",
       "    <tr style=\"text-align: right;\">\n",
       "      <th></th>\n",
       "      <th>Gene</th>\n",
       "      <th>Weight</th>\n",
       "      <th>Tendency</th>\n",
       "      <th>Symbol</th>\n",
       "    </tr>\n",
       "  </thead>\n",
       "  <tbody>\n",
       "    <tr>\n",
       "      <th>0</th>\n",
       "      <td>ENSG00000142669</td>\n",
       "      <td>0.046448</td>\n",
       "      <td>1</td>\n",
       "      <td>SH3BGRL3</td>\n",
       "    </tr>\n",
       "    <tr>\n",
       "      <th>1</th>\n",
       "      <td>ENSG00000169442</td>\n",
       "      <td>0.279994</td>\n",
       "      <td>1</td>\n",
       "      <td>CD52</td>\n",
       "    </tr>\n",
       "    <tr>\n",
       "      <th>2</th>\n",
       "      <td>ENSG00000122406</td>\n",
       "      <td>0.041489</td>\n",
       "      <td>1</td>\n",
       "      <td>RPL5</td>\n",
       "    </tr>\n",
       "    <tr>\n",
       "      <th>3</th>\n",
       "      <td>ENSG00000197747</td>\n",
       "      <td>0.116894</td>\n",
       "      <td>1</td>\n",
       "      <td>S100A10</td>\n",
       "    </tr>\n",
       "    <tr>\n",
       "      <th>4</th>\n",
       "      <td>ENSG00000196154</td>\n",
       "      <td>1.376208</td>\n",
       "      <td>1</td>\n",
       "      <td>S100A4</td>\n",
       "    </tr>\n",
       "  </tbody>\n",
       "</table>\n",
       "</div>"
      ],
      "text/plain": [
       "              Gene    Weight  Tendency    Symbol\n",
       "0  ENSG00000142669  0.046448         1  SH3BGRL3\n",
       "1  ENSG00000169442  0.279994         1      CD52\n",
       "2  ENSG00000122406  0.041489         1      RPL5\n",
       "3  ENSG00000197747  0.116894         1   S100A10\n",
       "4  ENSG00000196154  1.376208         1    S100A4"
      ]
     },
     "execution_count": 38,
     "metadata": {},
     "output_type": "execute_result"
    }
   ],
   "source": [
    "new_features_dict['Leiden_0'].head()"
   ]
  },
  {
   "cell_type": "code",
   "execution_count": 39,
   "metadata": {},
   "outputs": [
    {
     "name": "stdout",
     "output_type": "stream",
     "text": [
      "Leiden_0\n",
      "False positives: 79\n",
      "Leiden_1\n",
      "False positives: 10\n",
      "Leiden_2\n",
      "False positives: 118\n",
      "Leiden_3\n",
      "False positives: 73\n",
      "Leiden_4\n",
      "False positives: 125\n",
      "Leiden_5\n",
      "False positives: 10\n",
      "Leiden_6\n",
      "False positives: 14\n",
      "Leiden_7\n",
      "False positives: 7\n",
      "Leiden_8\n",
      "False positives: 3\n",
      "Leiden_9\n",
      "False positives: 5\n",
      "Leiden_10\n",
      "False positives: 4\n",
      "Leiden_11\n",
      "False positives: 4\n",
      "Leiden_12\n",
      "False positives: 2\n",
      "Leiden_13\n",
      "False positives: 2\n",
      "Leiden_14\n",
      "False positives: 7\n",
      "Leiden_15\n",
      "False positives: 5\n"
     ]
    }
   ],
   "source": [
    "false_positives_dict = {}\n",
    "for clus in leiden_clusters:\n",
    "    print(clus)\n",
    "    all_PreLect = new_features_dict[clus]['Symbol'].tolist()\n",
    "    all_DB = marker_genes['official gene symbol'].tolist()\n",
    "\n",
    "    ### False positives\n",
    "    # the genes that are in PreLect but not in the DB\n",
    "    false_positives = list(set(all_PreLect) - set(all_DB))\n",
    "    print('False positives:', len(false_positives))\n",
    "\n",
    "    false_positives_dict[clus] = false_positives\n",
    "    "
   ]
  },
  {
   "cell_type": "code",
   "execution_count": 40,
   "metadata": {},
   "outputs": [
    {
     "data": {
      "text/plain": [
       "['FOS',\n",
       " 'OAZ1',\n",
       " 'MALAT1',\n",
       " 'TMSB10',\n",
       " 'RPLP0',\n",
       " 'FTH1',\n",
       " 'JUN',\n",
       " 'TMSB4X',\n",
       " 'B2M',\n",
       " 'EEF1A1']"
      ]
     },
     "execution_count": 40,
     "metadata": {},
     "output_type": "execute_result"
    }
   ],
   "source": [
    "false_positives_dict['Leiden_1']"
   ]
  },
  {
   "cell_type": "code",
   "execution_count": 42,
   "metadata": {},
   "outputs": [
    {
     "data": {
      "image/png": "[encoded data removed]",
      "text/plain": [
       "<Figure size 1000x600 with 1 Axes>"
      ]
     },
     "metadata": {},
     "output_type": "display_data"
    }
   ],
   "source": [
    "# plot false positive counts in each cluster\n",
    "plt.figure(figsize=(10, 6))\n",
    "plt.bar(false_positives_dict.keys(), [len(fp) for fp in false_positives_dict.values()])\n",
    "plt.xticks(rotation=90)\n",
    "plt.ylabel('False positive count')\n",
    "plt.title('False positive counts in each cluster')\n",
    "plt.show()"
   ]
  },
  {
   "cell_type": "code",
   "execution_count": null,
   "metadata": {},
   "outputs": [],
   "source": []
  },
  {
   "cell_type": "code",
   "execution_count": null,
   "metadata": {},
   "outputs": [],
   "source": []
  }
 ],
 "metadata": {
  "kernelspec": {
   "display_name": "base",
   "language": "python",
   "name": "python3"
  },
  "language_info": {
   "codemirror_mode": {
    "name": "ipython",
    "version": 3
   },
   "file_extension": ".py",
   "mimetype": "text/x-python",
   "name": "python",
   "nbconvert_exporter": "python",
   "pygments_lexer": "ipython3",
   "version": "3.9.12"
  }
 },
 "nbformat": 4,
 "nbformat_minor": 2
}

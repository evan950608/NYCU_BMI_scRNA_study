{
 "cells": [
  {
   "cell_type": "code",
   "execution_count": 1,
   "metadata": {
    "tags": []
   },
   "outputs": [],
   "source": [
    "import os\n",
    "import sys\n",
    "import numpy as np\n",
    "import pandas as pd\n",
    "import matplotlib.pyplot as plt\n",
    "import json\n",
    "sys.path.append('/home/jovyan/work/GitHub/EvanPys/Progress')\n",
    "# sys.path.append(r'C:\\Users\\evanlee\\Documents\\GitHub\\EvanPys\\Progress')\n",
    "from ADlasso2 import AD2_w_utils_lossdiff as ad"
   ]
  },
  {
   "cell_type": "markdown",
   "metadata": {},
   "source": [
    "## Ignore section lambda decision\n",
    "(Feature 數量為零之後的lambda就不要了)"
   ]
  },
  {
   "cell_type": "code",
   "execution_count": 2,
   "metadata": {
    "tags": []
   },
   "outputs": [],
   "source": [
    "os.chdir('/home/jovyan/work/GitHub/EvanPys/Progress/PBMC_Zheng/Leiden_HVG_PreLect/tuning_result')"
   ]
  },
  {
   "cell_type": "code",
   "execution_count": 3,
   "metadata": {
    "tags": []
   },
   "outputs": [],
   "source": [
    "def ignore_section_lambda_decision(tuning_dict, celltype, version='new', output_dir=''):\n",
    "    if version == 'new':\n",
    "        # convert tuning_dict to old format\n",
    "        tuning_old_format = {}\n",
    "        for outer_key in tuning_dict.keys():\n",
    "            for inner_key, value in tuning_dict[outer_key].items():\n",
    "                if inner_key not in tuning_old_format.keys():\n",
    "                    tuning_old_format[inner_key] = []\n",
    "                tuning_old_format[inner_key].append(value)\n",
    "    else:\n",
    "        tuning_old_format = tuning_dict\n",
    "\n",
    "    for key in tuning_old_format.keys():\n",
    "        tuning_old_format[key] = np.array(tuning_old_format[key])\n",
    "        \n",
    "    # Find the index of feature_number start to become 0\n",
    "    cut_idx = len(tuning_old_format['Feature_number'])\n",
    "    for i in range(len(tuning_old_format['Feature_number'])):\n",
    "        if tuning_old_format['Feature_number'][i] == 0:\n",
    "            cut_idx = i\n",
    "            print(cut_idx)\n",
    "            break\n",
    "\n",
    "    trimmed_tuning = {}\n",
    "    for k in tuning_old_format.keys():\n",
    "        trimmed_tuning[k] = tuning_old_format[k][:cut_idx]\n",
    "\n",
    "    def plot_lambda_decision(tuning, celltype, opt_lmbd, cut_idx, savepath=''):\n",
    "        fig, ax1 = plt.subplots(figsize = (8, 5))\n",
    "        ax2 = ax1.twinx()\n",
    "\n",
    "        line1, = ax1.plot(np.exp(tuning['log_lambda_range']), tuning['loss_history'], marker='o', color='blue')\n",
    "        line2, = ax2.plot(np.exp(tuning['log_lambda_range']), tuning['Feature_number'], marker='o', color='orange')\n",
    "        ax1.set(xscale=\"log\")\n",
    "\n",
    "        # vertical line for optimal lambda\n",
    "        plt.axvline(x=opt_lmbd, color = 'black', linestyle=':')\n",
    "        \n",
    "        if cut_idx < len(tuning['log_lambda_range']):\n",
    "            # only plot the cut line when the cut_idx is not the last index\n",
    "            print('Cut:', np.exp(tuning['log_lambda_range'][cut_idx]))\n",
    "            # vertical line for cut lambda\n",
    "            plt.axvline(x=np.exp(tuning['log_lambda_range'][cut_idx]), color = 'red', linestyle=':')\n",
    "        \n",
    "        # horizontal line for feature number = 0\n",
    "        plt.axhline(y=0, color = 'black', linestyle='--')\n",
    "\n",
    "        ax1.set_xlabel(f\"lambda (optimal: {opt_lmbd})\")\n",
    "        ax1.set_ylabel(\"Loss\"); ax2.set_ylabel(\"Feature number\")\n",
    "        ax2.set_yscale(\"log\")\n",
    "        ax2.set_ylim(bottom=0.5, top=None)\n",
    "        ax1.set_title(f'{celltype} lambda decision')\n",
    "        plt.legend(handles=[line1, line2], labels=['BCE loss', 'Feature_number'], loc='upper left')\n",
    "\n",
    "        if savepath:\n",
    "            plt.savefig(savepath, dpi=300)\n",
    "\n",
    "    # Lambda decision from trimmed tuning result\n",
    "    opt_lmbd, fig = ad.lambda_decision(trimmed_tuning, k=2, savepath=output_dir + f'{celltype}_lambda_decision_trimmed.png')\n",
    "    print('Optimal lambda:', opt_lmbd)\n",
    "    log_opt_lmbd = np.log(opt_lmbd)\n",
    "\n",
    "    log_lambda_range = tuning_old_format['log_lambda_range']\n",
    "    opt_idx = np.where(log_lambda_range == log_opt_lmbd)[0][0]\n",
    "\n",
    "    feature_no_celltype = int(tuning_old_format['Feature_number'][opt_idx])\n",
    "    print('Feature no:', feature_no_celltype)\n",
    "\n",
    "    # Plot lambda vs. prevalence and lambda vs. loss\n",
    "    plot_lambda_decision(tuning_old_format, celltype, opt_lmbd, cut_idx, savepath=output_dir + f'{celltype}_lambda_decision_all.png')\n",
    "\n",
    "    return opt_lmbd, feature_no_celltype"
   ]
  },
  {
   "cell_type": "code",
   "execution_count": 4,
   "metadata": {
    "tags": []
   },
   "outputs": [],
   "source": [
    "opt_lmbd_dict = {}\n",
    "feature_no_dict = {}\n"
   ]
  },
  {
   "cell_type": "code",
   "execution_count": null,
   "metadata": {
    "tags": []
   },
   "outputs": [],
   "source": [
    "queue = [f'Leiden_{i}' for i in range(0, 16)]\n",
    "\n",
    "for cluster in queue:\n",
    "    tuning_file = f'{cluster}_tuning.json'\n",
    "    if not os.path.exists(tuning_file):\n",
    "        print(f\"File {tuning_file} does not exist. Skipping to the next cluster.\")\n",
    "        continue\n",
    "\n",
    "    print('====================')\n",
    "    print(f'Cell type: {cluster}')\n",
    "    with open(tuning_file) as f:\n",
    "        tuning = json.load(f)\n",
    "\n",
    "    output_dir = '/home/jovyan/work/GitHub/EvanPys/Progress/PBMC_Zheng/Leiden_HVG_PreLect/lambda_decision' + '/'\n",
    "    opt_lmbd, feature_no_celltype = ignore_section_lambda_decision(tuning, cluster, version='old', output_dir=output_dir)\n",
    "    opt_lmbd_dict[cluster] = opt_lmbd\n",
    "    feature_no_dict[cluster] = feature_no_celltype"
   ]
  },
  {
   "cell_type": "code",
   "execution_count": 7,
   "metadata": {
    "tags": []
   },
   "outputs": [
    {
     "data": {
      "text/plain": [
       "{'B_cell': 0.006812920690579613,\n",
       " 'Mono&DC': 0.010000000000000004,\n",
       " 'NK': 0.010000000000000004,\n",
       " 'Progenitor_cells': 0.004641588833612781,\n",
       " 'T_cell': 0.006812920690579613}"
      ]
     },
     "execution_count": 7,
     "metadata": {},
     "output_type": "execute_result"
    }
   ],
   "source": [
    "opt_lmbd_dict"
   ]
  },
  {
   "cell_type": "code",
   "execution_count": 8,
   "metadata": {
    "tags": []
   },
   "outputs": [
    {
     "data": {
      "text/plain": [
       "{'B_cell': 17, 'Mono&DC': 17, 'NK': 15, 'Progenitor_cells': 28, 'T_cell': 32}"
      ]
     },
     "execution_count": 8,
     "metadata": {},
     "output_type": "execute_result"
    }
   ],
   "source": [
    "feature_no_dict"
   ]
  },
  {
   "cell_type": "code",
   "execution_count": 9,
   "metadata": {
    "tags": []
   },
   "outputs": [],
   "source": [
    "os.chdir('/home/jovyan/work/GitHub/EvanPys/Progress/PBMC_Zheng/Leiden_HVG_PreLect')\n",
    "with open('Zheng_leiden_opt_lmbd.json', 'w') as f:\n",
    "    json.dump(opt_lmbd_dict, f)"
   ]
  },
  {
   "cell_type": "markdown",
   "metadata": {},
   "source": [
    "## Plot feature number"
   ]
  },
  {
   "cell_type": "code",
   "execution_count": 10,
   "metadata": {
    "tags": []
   },
   "outputs": [
    {
     "data": {
      "image/png": "[encoded data removed]",
      "text/plain": [
       "<Figure size 640x480 with 1 Axes>"
      ]
     },
     "metadata": {},
     "output_type": "display_data"
    }
   ],
   "source": [
    "import matplotlib.pyplot as plt\n",
    "\n",
    "# Extract the cell types and feature numbers from the dictionary\n",
    "cell_types = list(feature_no_dict.keys())\n",
    "feature_numbers = list(feature_no_dict.values())\n",
    "\n",
    "# Create a bar plot\n",
    "plt.bar(cell_types, feature_numbers)\n",
    "\n",
    "# Add labels for the y-values on top of each bar\n",
    "for i, v in enumerate(feature_numbers):\n",
    "    plt.text(i, v, str(v), ha='center', va='bottom')\n",
    "\n",
    "plt.xlabel('Cell Type')\n",
    "plt.ylabel('Feature Number')\n",
    "plt.title('Feature Number by Leiden clusters')\n",
    "\n",
    "# Display the plot\n",
    "plt.show()\n"
   ]
  },
  {
   "cell_type": "code",
   "execution_count": null,
   "metadata": {},
   "outputs": [],
   "source": []
  }
 ],
 "metadata": {
  "kernelspec": {
   "display_name": "Python 3 (ipykernel)",
   "language": "python",
   "name": "python3"
  },
  "language_info": {
   "codemirror_mode": {
    "name": "ipython",
    "version": 3
   },
   "file_extension": ".py",
   "mimetype": "text/x-python",
   "name": "python",
   "nbconvert_exporter": "python",
   "pygments_lexer": "ipython3",
   "version": "3.9.12"
  }
 },
 "nbformat": 4,
 "nbformat_minor": 4
}

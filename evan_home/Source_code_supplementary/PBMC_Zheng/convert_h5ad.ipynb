{
 "cells": [
  {
   "cell_type": "code",
   "execution_count": 1,
   "id": "89371395",
   "metadata": {},
   "outputs": [],
   "source": [
    "import logging\n",
    "import anndata\n",
    "import scanpy as sc\n",
    "import os\n",
    "import csv\n",
    "import gzip"
   ]
  },
  {
   "cell_type": "code",
   "execution_count": 2,
   "id": "e106e94a",
   "metadata": {},
   "outputs": [],
   "source": [
    "dataset_dir = \"/Users/evanli/Documents/Research_datasets/PBMC_68k_Zheng/filtered_matrices_mex/hg19\"\n",
    "data_file = \"matrix.mtx\"\n",
    "var_names_file = \"genes.tsv\"\n",
    "obs_names_file = \"barcodes.tsv\"\n",
    "output_h5ad_file = \"Zheng_PBMC.h5ad\"\n",
    "\n",
    "data_path = os.path.join(dataset_dir,data_file)\n",
    "var_names_path = os.path.join(dataset_dir,var_names_file)\n",
    "obs_names_path = os.path.join(dataset_dir,obs_names_file)\n",
    "output_h5ad_path = os.path.join(dataset_dir,output_h5ad_file)"
   ]
  },
  {
   "cell_type": "code",
   "execution_count": 3,
   "id": "eeba932e",
   "metadata": {},
   "outputs": [],
   "source": [
    "with open(var_names_path, \"r\") as var_file:\n",
    "    var_read = csv.reader(var_file, delimiter='\\t')\n",
    "    var_names = []\n",
    "    gene_symbols = []\n",
    "    for row in var_read:\n",
    "        var_names.append(row[0])\n",
    "        gene_symbols.append(row[1])"
   ]
  },
  {
   "cell_type": "code",
   "execution_count": 8,
   "id": "3c42c0c2",
   "metadata": {},
   "outputs": [
    {
     "data": {
      "text/plain": [
       "['ENSG00000243485',\n",
       " 'ENSG00000237613',\n",
       " 'ENSG00000186092',\n",
       " 'ENSG00000238009',\n",
       " 'ENSG00000239945',\n",
       " 'ENSG00000237683',\n",
       " 'ENSG00000239906',\n",
       " 'ENSG00000241599',\n",
       " 'ENSG00000228463',\n",
       " 'ENSG00000237094']"
      ]
     },
     "execution_count": 8,
     "metadata": {},
     "output_type": "execute_result"
    }
   ],
   "source": [
    "var_names[:10]"
   ]
  },
  {
   "cell_type": "code",
   "execution_count": 6,
   "id": "c0df6c0c",
   "metadata": {},
   "outputs": [
    {
     "data": {
      "text/plain": [
       "['MIR1302-10',\n",
       " 'FAM138A',\n",
       " 'OR4F5',\n",
       " 'RP11-34P13.7',\n",
       " 'RP11-34P13.8',\n",
       " 'AL627309.1',\n",
       " 'RP11-34P13.14',\n",
       " 'RP11-34P13.9',\n",
       " 'AP006222.2',\n",
       " 'RP4-669L17.10']"
      ]
     },
     "execution_count": 6,
     "metadata": {},
     "output_type": "execute_result"
    }
   ],
   "source": [
    "gene_symbols[:10]"
   ]
  },
  {
   "cell_type": "code",
   "execution_count": 4,
   "id": "d6b9bbd9",
   "metadata": {},
   "outputs": [],
   "source": [
    "with open(obs_names_path, \"r\") as obs_file:\n",
    "    obs_read = csv.reader(obs_file, delimiter='\\t')\n",
    "    obs_names = []\n",
    "    for row in obs_read:\n",
    "        obs_names.append(row[0])"
   ]
  },
  {
   "cell_type": "code",
   "execution_count": 8,
   "id": "833e7b47",
   "metadata": {},
   "outputs": [],
   "source": [
    "adata = sc.read(data_path) \n",
    "adata = adata.transpose()"
   ]
  },
  {
   "cell_type": "code",
   "execution_count": 9,
   "id": "033d7217",
   "metadata": {},
   "outputs": [],
   "source": [
    "adata.var_names = var_names\n",
    "adata.var_names_make_unique()\n",
    "adata.obs_names = obs_names\n",
    "adata.obs_names_make_unique()"
   ]
  },
  {
   "cell_type": "code",
   "execution_count": 10,
   "metadata": {},
   "outputs": [
    {
     "data": {
      "text/plain": [
       "(68579, 32738)"
      ]
     },
     "execution_count": 10,
     "metadata": {},
     "output_type": "execute_result"
    }
   ],
   "source": [
    "adata.shape"
   ]
  },
  {
   "cell_type": "code",
   "execution_count": 11,
   "id": "b5fbeb11",
   "metadata": {},
   "outputs": [],
   "source": [
    "import pandas as pd\n",
    "# meta = pd.read_csv(\"/home/yincheng23/Hao_PBMC/GSE164378_sc.meta.data_3P.csv\", index_col=0)\n",
    "annot = pd.read_csv(\"/Users/evanli/Documents/Research_datasets/PBMC_68k_Zheng/github_data/68k_pbmc_barcodes_annotation.tsv\", sep=\"\\t\", index_col=2)\n",
    "adata.obs['celltype'] = annot['celltype'].tolist()\n",
    "adata.obs['TSNE.1'] = annot['TSNE.1'].tolist()\n",
    "adata.obs['TSNE.2'] = annot['TSNE.2'].tolist()"
   ]
  },
  {
   "cell_type": "code",
   "execution_count": 15,
   "metadata": {},
   "outputs": [
    {
     "data": {
      "text/html": [
       "<div>\n",
       "<style scoped>\n",
       "    .dataframe tbody tr th:only-of-type {\n",
       "        vertical-align: middle;\n",
       "    }\n",
       "\n",
       "    .dataframe tbody tr th {\n",
       "        vertical-align: top;\n",
       "    }\n",
       "\n",
       "    .dataframe thead th {\n",
       "        text-align: right;\n",
       "    }\n",
       "</style>\n",
       "<table border=\"1\" class=\"dataframe\">\n",
       "  <thead>\n",
       "    <tr style=\"text-align: right;\">\n",
       "      <th></th>\n",
       "      <th>celltype</th>\n",
       "      <th>TSNE.1</th>\n",
       "      <th>TSNE.2</th>\n",
       "    </tr>\n",
       "  </thead>\n",
       "  <tbody>\n",
       "    <tr>\n",
       "      <th>AAACATACACCCAA-1</th>\n",
       "      <td>CD8+ Cytotoxic T</td>\n",
       "      <td>7.565540</td>\n",
       "      <td>0.441370</td>\n",
       "    </tr>\n",
       "    <tr>\n",
       "      <th>AAACATACCCCTCA-1</th>\n",
       "      <td>CD8+/CD45RA+ Naive Cytotoxic</td>\n",
       "      <td>2.552626</td>\n",
       "      <td>-25.786672</td>\n",
       "    </tr>\n",
       "    <tr>\n",
       "      <th>AAACATACCGGAGA-1</th>\n",
       "      <td>CD4+/CD45RO+ Memory</td>\n",
       "      <td>-5.771831</td>\n",
       "      <td>11.830846</td>\n",
       "    </tr>\n",
       "    <tr>\n",
       "      <th>AAACATACTAACCG-1</th>\n",
       "      <td>CD19+ B</td>\n",
       "      <td>1.762556</td>\n",
       "      <td>25.979346</td>\n",
       "    </tr>\n",
       "    <tr>\n",
       "      <th>AAACATACTCTTCA-1</th>\n",
       "      <td>CD4+/CD25 T Reg</td>\n",
       "      <td>-16.793856</td>\n",
       "      <td>-16.589970</td>\n",
       "    </tr>\n",
       "  </tbody>\n",
       "</table>\n",
       "</div>"
      ],
      "text/plain": [
       "                                      celltype     TSNE.1     TSNE.2\n",
       "AAACATACACCCAA-1              CD8+ Cytotoxic T   7.565540   0.441370\n",
       "AAACATACCCCTCA-1  CD8+/CD45RA+ Naive Cytotoxic   2.552626 -25.786672\n",
       "AAACATACCGGAGA-1           CD4+/CD45RO+ Memory  -5.771831  11.830846\n",
       "AAACATACTAACCG-1                       CD19+ B   1.762556  25.979346\n",
       "AAACATACTCTTCA-1               CD4+/CD25 T Reg -16.793856 -16.589970"
      ]
     },
     "execution_count": 15,
     "metadata": {},
     "output_type": "execute_result"
    }
   ],
   "source": [
    "adata.obs.head()"
   ]
  },
  {
   "cell_type": "code",
   "execution_count": 16,
   "id": "68e67129",
   "metadata": {},
   "outputs": [
    {
     "data": {
      "text/html": [
       "<div>\n",
       "<style scoped>\n",
       "    .dataframe tbody tr th:only-of-type {\n",
       "        vertical-align: middle;\n",
       "    }\n",
       "\n",
       "    .dataframe tbody tr th {\n",
       "        vertical-align: top;\n",
       "    }\n",
       "\n",
       "    .dataframe thead th {\n",
       "        text-align: right;\n",
       "    }\n",
       "</style>\n",
       "<table border=\"1\" class=\"dataframe\">\n",
       "  <thead>\n",
       "    <tr style=\"text-align: right;\">\n",
       "      <th></th>\n",
       "      <th>gene_symbols</th>\n",
       "    </tr>\n",
       "  </thead>\n",
       "  <tbody>\n",
       "    <tr>\n",
       "      <th>ENSG00000243485</th>\n",
       "      <td>MIR1302-10</td>\n",
       "    </tr>\n",
       "    <tr>\n",
       "      <th>ENSG00000237613</th>\n",
       "      <td>FAM138A</td>\n",
       "    </tr>\n",
       "    <tr>\n",
       "      <th>ENSG00000186092</th>\n",
       "      <td>OR4F5</td>\n",
       "    </tr>\n",
       "    <tr>\n",
       "      <th>ENSG00000238009</th>\n",
       "      <td>RP11-34P13.7</td>\n",
       "    </tr>\n",
       "    <tr>\n",
       "      <th>ENSG00000239945</th>\n",
       "      <td>RP11-34P13.8</td>\n",
       "    </tr>\n",
       "  </tbody>\n",
       "</table>\n",
       "</div>"
      ],
      "text/plain": [
       "                 gene_symbols\n",
       "ENSG00000243485    MIR1302-10\n",
       "ENSG00000237613       FAM138A\n",
       "ENSG00000186092         OR4F5\n",
       "ENSG00000238009  RP11-34P13.7\n",
       "ENSG00000239945  RP11-34P13.8"
      ]
     },
     "execution_count": 16,
     "metadata": {},
     "output_type": "execute_result"
    }
   ],
   "source": [
    "adata.var['gene_symbols'] = gene_symbols\n",
    "adata.var.head()"
   ]
  },
  {
   "cell_type": "code",
   "execution_count": 17,
   "metadata": {},
   "outputs": [
    {
     "name": "stdout",
     "output_type": "stream",
     "text": [
      "Row 0, Column 53, Value 1.0\n",
      "Row 0, Column 70, Value 1.0\n",
      "Row 0, Column 81, Value 1.0\n",
      "Row 0, Column 166, Value 1.0\n",
      "Row 0, Column 178, Value 3.0\n",
      "Row 0, Column 229, Value 1.0\n",
      "Row 0, Column 316, Value 1.0\n",
      "Row 0, Column 383, Value 1.0\n",
      "Row 0, Column 415, Value 1.0\n",
      "Row 0, Column 492, Value 10.0\n",
      "Row 0, Column 519, Value 2.0\n",
      "Row 0, Column 558, Value 1.0\n",
      "Row 0, Column 618, Value 1.0\n",
      "Row 0, Column 631, Value 1.0\n",
      "Row 0, Column 671, Value 1.0\n",
      "Row 0, Column 686, Value 2.0\n",
      "Row 0, Column 763, Value 1.0\n",
      "Row 0, Column 798, Value 1.0\n",
      "Row 0, Column 799, Value 2.0\n",
      "Row 0, Column 837, Value 1.0\n"
     ]
    }
   ],
   "source": [
    "# Briefly view adata.X\n",
    "rows, cols = adata.X[:5,:].nonzero()\n",
    "i = 0\n",
    "for row, col in zip(rows, cols):\n",
    "    if i == 20: break\n",
    "    print(f'Row {row}, Column {col}, Value {adata.X[row, col]}')\n",
    "    i += 1\n"
   ]
  },
  {
   "cell_type": "code",
   "execution_count": 18,
   "id": "c41a4af8",
   "metadata": {},
   "outputs": [
    {
     "data": {
      "text/plain": [
       "'/Users/evanli/Documents/Research_datasets/PBMC_68k_Zheng/filtered_matrices_mex/hg19/Zheng_PBMC.h5ad'"
      ]
     },
     "execution_count": 18,
     "metadata": {},
     "output_type": "execute_result"
    }
   ],
   "source": [
    "output_h5ad_path"
   ]
  },
  {
   "cell_type": "code",
   "execution_count": 19,
   "id": "9e2cd9b2",
   "metadata": {},
   "outputs": [],
   "source": [
    "adata.write(filename=output_h5ad_path)"
   ]
  },
  {
   "cell_type": "code",
   "execution_count": 20,
   "metadata": {},
   "outputs": [
    {
     "data": {
      "text/plain": [
       "(68579, 32738)"
      ]
     },
     "execution_count": 20,
     "metadata": {},
     "output_type": "execute_result"
    }
   ],
   "source": [
    "adata.shape"
   ]
  },
  {
   "cell_type": "code",
   "execution_count": null,
   "metadata": {},
   "outputs": [],
   "source": []
  }
 ],
 "metadata": {
  "kernelspec": {
   "display_name": "Python 3 (ipykernel)",
   "language": "python",
   "name": "python3"
  },
  "language_info": {
   "codemirror_mode": {
    "name": "ipython",
    "version": 3
   },
   "file_extension": ".py",
   "mimetype": "text/x-python",
   "name": "python",
   "nbconvert_exporter": "python",
   "pygments_lexer": "ipython3",
   "version": "3.9.12"
  }
 },
 "nbformat": 4,
 "nbformat_minor": 5
}

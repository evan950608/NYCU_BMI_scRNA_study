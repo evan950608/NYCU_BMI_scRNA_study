{
 "cells": [
  {
   "cell_type": "code",
   "execution_count": 10,
   "metadata": {},
   "outputs": [],
   "source": [
    "import numpy as np\n",
    "import matplotlib.pyplot as plt\n",
    "import pandas as pd\n",
    "import time\n",
    "import scipy\n",
    "import sklearn\n",
    "import copy\n",
    "import importlib\n"
   ]
  },
  {
   "cell_type": "code",
   "execution_count": 11,
   "metadata": {},
   "outputs": [],
   "source": [
    "from sklearn.linear_model import LogisticRegression\n",
    "from sklearn.model_selection import train_test_split\n",
    "\n",
    "from sklearn.metrics import accuracy_score, precision_score, recall_score, f1_score\n",
    "from sklearn.metrics import roc_curve, roc_auc_score, auc, precision_recall_curve, average_precision_score\n",
    "from sklearn.model_selection import cross_val_score, cross_validate, KFold\n",
    "from sklearn.metrics import make_scorer, matthews_corrcoef\n"
   ]
  },
  {
   "cell_type": "code",
   "execution_count": 12,
   "metadata": {},
   "outputs": [
    {
     "name": "stdout",
     "output_type": "stream",
     "text": [
      "Original adata: (161764, 33538)\n",
      "all cell types: ['B', 'CD4_T', 'CD8_T', 'DC', 'Mono', 'NK', 'other', 'other_T']\n",
      "====================\n"
     ]
    }
   ],
   "source": [
    "import scanpy as sc\n",
    "\n",
    "adata = sc.read_h5ad(r\"C:\\Users\\evanlee\\Documents\\Research_datasets\\PBMC_Hao\\GSE164378_Hao\\Harmony_and_ztrans\\Hao_Harmony_test_no_scale.h5ad\")\n",
    "print('Original adata:', adata.shape)\n",
    "adata.obs['celltype.l1'] = adata.obs['celltype.l1'].str.replace(' ', '_')\n",
    "label = adata.obs['celltype.l1'].tolist()\n",
    "types = np.unique(label).tolist()\n",
    "print('all cell types:', types)\n",
    "print('====================')\n",
    "# del adata\n"
   ]
  },
  {
   "cell_type": "code",
   "execution_count": 13,
   "metadata": {},
   "outputs": [
    {
     "name": "stdout",
     "output_type": "stream",
     "text": [
      "Row 0, Column 12, Value 0.4895154535770416\n",
      "Row 0, Column 43, Value 0.8167138695716858\n",
      "Row 0, Column 48, Value 0.8167138695716858\n",
      "Row 0, Column 53, Value 0.8167138695716858\n",
      "Row 0, Column 55, Value 1.424944519996643\n",
      "Row 0, Column 66, Value 0.4895154535770416\n",
      "Row 0, Column 77, Value 0.8167138695716858\n",
      "Row 0, Column 78, Value 1.424944519996643\n",
      "Row 0, Column 89, Value 0.8167138695716858\n",
      "Row 0, Column 93, Value 1.0628387928009033\n",
      "Row 0, Column 102, Value 0.8167138695716858\n",
      "Row 0, Column 154, Value 2.4626553058624268\n",
      "Row 0, Column 178, Value 0.8167138695716858\n",
      "Row 0, Column 185, Value 0.4895154535770416\n",
      "Row 0, Column 190, Value 0.4895154535770416\n",
      "Row 0, Column 201, Value 1.8004224300384521\n",
      "Row 0, Column 224, Value 0.8167138695716858\n",
      "Row 0, Column 240, Value 0.4895154535770416\n",
      "Row 0, Column 259, Value 0.4895154535770416\n",
      "Row 0, Column 261, Value 1.566353440284729\n"
     ]
    }
   ],
   "source": [
    "# Briefly view adata.X (raw counts)\n",
    "rows, cols = adata.X[:5,:].nonzero()\n",
    "i = 0\n",
    "for row, col in zip(rows, cols):\n",
    "    if i == 20: break\n",
    "    print(f'Row {row}, Column {col}, Value {adata.X[row, col]}')\n",
    "    i += 1\n"
   ]
  },
  {
   "cell_type": "markdown",
   "metadata": {},
   "source": [
    "## Scale genes"
   ]
  },
  {
   "cell_type": "code",
   "execution_count": 14,
   "metadata": {},
   "outputs": [],
   "source": [
    "# Scale each gene to unit variance\n",
    "sc.pp.scale(adata)"
   ]
  },
  {
   "cell_type": "code",
   "execution_count": 15,
   "metadata": {},
   "outputs": [
    {
     "data": {
      "text/html": [
       "<div>\n",
       "<style scoped>\n",
       "    .dataframe tbody tr th:only-of-type {\n",
       "        vertical-align: middle;\n",
       "    }\n",
       "\n",
       "    .dataframe tbody tr th {\n",
       "        vertical-align: top;\n",
       "    }\n",
       "\n",
       "    .dataframe thead th {\n",
       "        text-align: right;\n",
       "    }\n",
       "</style>\n",
       "<table border=\"1\" class=\"dataframe\">\n",
       "  <thead>\n",
       "    <tr style=\"text-align: right;\">\n",
       "      <th></th>\n",
       "      <th>celltype.l1</th>\n",
       "      <th>celltype.l2</th>\n",
       "      <th>celltype.l3</th>\n",
       "      <th>Batch</th>\n",
       "      <th>donor</th>\n",
       "      <th>time</th>\n",
       "      <th>lane</th>\n",
       "      <th>Phase</th>\n",
       "      <th>nCount_ADT</th>\n",
       "      <th>nFeature_ADT</th>\n",
       "      <th>nCount_RNA</th>\n",
       "      <th>nFeature_RNA</th>\n",
       "      <th>leiden</th>\n",
       "    </tr>\n",
       "  </thead>\n",
       "  <tbody>\n",
       "    <tr>\n",
       "      <th>L1_AAACCCAAGAAACTCA</th>\n",
       "      <td>Mono</td>\n",
       "      <td>CD14 Mono</td>\n",
       "      <td>CD14 Mono</td>\n",
       "      <td>Batch1</td>\n",
       "      <td>P2</td>\n",
       "      <td>7</td>\n",
       "      <td>L1</td>\n",
       "      <td>G1</td>\n",
       "      <td>7535</td>\n",
       "      <td>217</td>\n",
       "      <td>10823</td>\n",
       "      <td>2915</td>\n",
       "      <td>4</td>\n",
       "    </tr>\n",
       "    <tr>\n",
       "      <th>L1_AAACCCAAGACATACA</th>\n",
       "      <td>CD4_T</td>\n",
       "      <td>CD4 TCM</td>\n",
       "      <td>CD4 TCM_1</td>\n",
       "      <td>Batch1</td>\n",
       "      <td>P1</td>\n",
       "      <td>7</td>\n",
       "      <td>L1</td>\n",
       "      <td>G1</td>\n",
       "      <td>6013</td>\n",
       "      <td>209</td>\n",
       "      <td>5864</td>\n",
       "      <td>1617</td>\n",
       "      <td>2</td>\n",
       "    </tr>\n",
       "    <tr>\n",
       "      <th>L1_AAACCCACAACTGGTT</th>\n",
       "      <td>CD8_T</td>\n",
       "      <td>CD8 Naive</td>\n",
       "      <td>CD8 Naive</td>\n",
       "      <td>Batch1</td>\n",
       "      <td>P4</td>\n",
       "      <td>2</td>\n",
       "      <td>L1</td>\n",
       "      <td>S</td>\n",
       "      <td>6620</td>\n",
       "      <td>213</td>\n",
       "      <td>5067</td>\n",
       "      <td>1381</td>\n",
       "      <td>5</td>\n",
       "    </tr>\n",
       "    <tr>\n",
       "      <th>L1_AAACCCACACGTACTA</th>\n",
       "      <td>NK</td>\n",
       "      <td>NK</td>\n",
       "      <td>NK_2</td>\n",
       "      <td>Batch1</td>\n",
       "      <td>P3</td>\n",
       "      <td>7</td>\n",
       "      <td>L1</td>\n",
       "      <td>G1</td>\n",
       "      <td>3567</td>\n",
       "      <td>202</td>\n",
       "      <td>4786</td>\n",
       "      <td>1890</td>\n",
       "      <td>3</td>\n",
       "    </tr>\n",
       "    <tr>\n",
       "      <th>L1_AAACCCACAGCATACT</th>\n",
       "      <td>CD8_T</td>\n",
       "      <td>CD8 Naive</td>\n",
       "      <td>CD8 Naive</td>\n",
       "      <td>Batch1</td>\n",
       "      <td>P4</td>\n",
       "      <td>7</td>\n",
       "      <td>L1</td>\n",
       "      <td>G1</td>\n",
       "      <td>6402</td>\n",
       "      <td>215</td>\n",
       "      <td>6505</td>\n",
       "      <td>1621</td>\n",
       "      <td>5</td>\n",
       "    </tr>\n",
       "  </tbody>\n",
       "</table>\n",
       "</div>"
      ],
      "text/plain": [
       "                    celltype.l1 celltype.l2 celltype.l3   Batch donor  time  \\\n",
       "L1_AAACCCAAGAAACTCA        Mono   CD14 Mono   CD14 Mono  Batch1    P2     7   \n",
       "L1_AAACCCAAGACATACA       CD4_T     CD4 TCM   CD4 TCM_1  Batch1    P1     7   \n",
       "L1_AAACCCACAACTGGTT       CD8_T   CD8 Naive   CD8 Naive  Batch1    P4     2   \n",
       "L1_AAACCCACACGTACTA          NK          NK        NK_2  Batch1    P3     7   \n",
       "L1_AAACCCACAGCATACT       CD8_T   CD8 Naive   CD8 Naive  Batch1    P4     7   \n",
       "\n",
       "                    lane Phase  nCount_ADT  nFeature_ADT  nCount_RNA  \\\n",
       "L1_AAACCCAAGAAACTCA   L1    G1        7535           217       10823   \n",
       "L1_AAACCCAAGACATACA   L1    G1        6013           209        5864   \n",
       "L1_AAACCCACAACTGGTT   L1     S        6620           213        5067   \n",
       "L1_AAACCCACACGTACTA   L1    G1        3567           202        4786   \n",
       "L1_AAACCCACAGCATACT   L1    G1        6402           215        6505   \n",
       "\n",
       "                     nFeature_RNA leiden  \n",
       "L1_AAACCCAAGAAACTCA          2915      4  \n",
       "L1_AAACCCAAGACATACA          1617      2  \n",
       "L1_AAACCCACAACTGGTT          1381      5  \n",
       "L1_AAACCCACACGTACTA          1890      3  \n",
       "L1_AAACCCACAGCATACT          1621      5  "
      ]
     },
     "execution_count": 15,
     "metadata": {},
     "output_type": "execute_result"
    }
   ],
   "source": [
    "adata.obs.head()"
   ]
  },
  {
   "cell_type": "markdown",
   "metadata": {},
   "source": [
    "## Read features"
   ]
  },
  {
   "cell_type": "code",
   "execution_count": 16,
   "metadata": {},
   "outputs": [],
   "source": [
    "import os\n",
    "os.chdir(r\"C:\\Users\\evanlee\\Documents\\GitHub\\EvanPys\\Progress\\PBMC_Hao_ztrans_v2\\Level1\\feature_selection\")\n",
    "\n",
    "features_dict = {}\n",
    "# Read features for each celltype\n",
    "for celltype in types:\n",
    "    try:\n",
    "        feature_df = pd.read_csv(f'{celltype}_features.txt', names=['Gene', 'Weight', 'Tendency'], sep='\\t')\n",
    "        features_dict[celltype] = feature_df\n",
    "    except:\n",
    "        print('skipping:', celltype)\n",
    "        continue"
   ]
  },
  {
   "cell_type": "code",
   "execution_count": 17,
   "metadata": {},
   "outputs": [
    {
     "data": {
      "text/plain": [
       "dict_keys(['B', 'CD4_T', 'CD8_T', 'DC', 'Mono', 'NK', 'other', 'other_T'])"
      ]
     },
     "execution_count": 17,
     "metadata": {},
     "output_type": "execute_result"
    }
   ],
   "source": [
    "features_dict.keys()"
   ]
  },
  {
   "cell_type": "code",
   "execution_count": 18,
   "metadata": {},
   "outputs": [
    {
     "data": {
      "text/html": [
       "<div>\n",
       "<style scoped>\n",
       "    .dataframe tbody tr th:only-of-type {\n",
       "        vertical-align: middle;\n",
       "    }\n",
       "\n",
       "    .dataframe tbody tr th {\n",
       "        vertical-align: top;\n",
       "    }\n",
       "\n",
       "    .dataframe thead th {\n",
       "        text-align: right;\n",
       "    }\n",
       "</style>\n",
       "<table border=\"1\" class=\"dataframe\">\n",
       "  <thead>\n",
       "    <tr style=\"text-align: right;\">\n",
       "      <th></th>\n",
       "      <th>Feature_count</th>\n",
       "      <th>Positive_feature_count</th>\n",
       "    </tr>\n",
       "  </thead>\n",
       "  <tbody>\n",
       "    <tr>\n",
       "      <th>B</th>\n",
       "      <td>17</td>\n",
       "      <td>16</td>\n",
       "    </tr>\n",
       "    <tr>\n",
       "      <th>CD4_T</th>\n",
       "      <td>1719</td>\n",
       "      <td>813</td>\n",
       "    </tr>\n",
       "    <tr>\n",
       "      <th>CD8_T</th>\n",
       "      <td>7</td>\n",
       "      <td>5</td>\n",
       "    </tr>\n",
       "    <tr>\n",
       "      <th>DC</th>\n",
       "      <td>1250</td>\n",
       "      <td>579</td>\n",
       "    </tr>\n",
       "    <tr>\n",
       "      <th>Mono</th>\n",
       "      <td>73</td>\n",
       "      <td>65</td>\n",
       "    </tr>\n",
       "    <tr>\n",
       "      <th>NK</th>\n",
       "      <td>232</td>\n",
       "      <td>127</td>\n",
       "    </tr>\n",
       "    <tr>\n",
       "      <th>other</th>\n",
       "      <td>380</td>\n",
       "      <td>205</td>\n",
       "    </tr>\n",
       "    <tr>\n",
       "      <th>other_T</th>\n",
       "      <td>1097</td>\n",
       "      <td>568</td>\n",
       "    </tr>\n",
       "  </tbody>\n",
       "</table>\n",
       "</div>"
      ],
      "text/plain": [
       "         Feature_count  Positive_feature_count\n",
       "B                   17                      16\n",
       "CD4_T             1719                     813\n",
       "CD8_T                7                       5\n",
       "DC                1250                     579\n",
       "Mono                73                      65\n",
       "NK                 232                     127\n",
       "other              380                     205\n",
       "other_T           1097                     568"
      ]
     },
     "execution_count": 18,
     "metadata": {},
     "output_type": "execute_result"
    }
   ],
   "source": [
    "count_df = pd.DataFrame(columns=['Feature_count', 'Positive_feature_count'])\n",
    "for celltype in features_dict.keys():\n",
    "    feature_df = features_dict[celltype]\n",
    "    feature_count = feature_df.shape[0]\n",
    "    positive_count = feature_df[feature_df['Tendency'] == 1].shape[0]\n",
    "    count_df.loc[celltype] = [feature_count, positive_count]\n",
    "count_df"
   ]
  },
  {
   "cell_type": "markdown",
   "metadata": {},
   "source": [
    "## Build classifiers (K-fold CV)"
   ]
  },
  {
   "cell_type": "code",
   "execution_count": 19,
   "metadata": {},
   "outputs": [],
   "source": [
    "import pickle\n",
    "\n",
    "def LR_kfold(data, all_features_dict, celltype, k=5):\n",
    "    # subset data to celltype features\n",
    "    X = data[:, all_features_dict[celltype]['Gene'].tolist()].X\n",
    "    # Binary label\n",
    "    y = [1 if i==celltype else 0 for i in data.obs['celltype.l1'].tolist()]\n",
    "\n",
    "    X_train, X_test, y_train, y_test = train_test_split(X, y, test_size=0.2, random_state=0, stratify=y)\n",
    "\n",
    "    clf = LogisticRegression(penalty='l2', solver='lbfgs', C=1.0, max_iter=1000)\n",
    "    clf.fit(X_train, y_train)\n",
    "\n",
    "    # Kfold cross validation\n",
    "    scoring = {\n",
    "        'accuracy': 'accuracy',\n",
    "        'precision': 'precision',\n",
    "        'recall': 'recall',\n",
    "        'f1_score': 'f1',\n",
    "        'roc_auc': 'roc_auc',\n",
    "        'average_precision': 'average_precision',  # PR AUC\n",
    "        'mcc': make_scorer(matthews_corrcoef)\n",
    "    }\n",
    "    cv_results = cross_validate(clf, X, y, cv=5, scoring=scoring, n_jobs=32)\n",
    "\n",
    "    mean_accuracy = np.mean(cv_results['test_accuracy'])\n",
    "    mean_precision = np.mean(cv_results['test_precision'])\n",
    "    mean_recall = np.mean(cv_results['test_recall'])\n",
    "    mean_f1 = np.mean(cv_results['test_f1_score'])\n",
    "    mean_auc = np.mean(cv_results['test_roc_auc'])\n",
    "    mean_pr_auc = np.mean(cv_results['test_average_precision'])\n",
    "    mean_mcc = np.mean(cv_results['test_mcc'])\n",
    "    mean_metrics = [mean_accuracy, mean_precision, mean_recall, mean_f1, mean_auc, mean_pr_auc, mean_mcc]\n",
    "\n",
    "    return clf, mean_metrics"
   ]
  },
  {
   "cell_type": "code",
   "execution_count": 20,
   "metadata": {},
   "outputs": [
    {
     "name": "stdout",
     "output_type": "stream",
     "text": [
      "====================\n",
      "K-fold CV for: B\n",
      "[0.999313816754305, 0.9975292474837829, 0.9944202898550725, 0.9959687920762844, 0.9999534063760072, 0.9995866989717008, 0.9955973545646526]\n",
      "====================\n",
      "K-fold CV for: CD4_T\n",
      "[0.9893734293448663, 0.9784782833115017, 0.9798297530640225, 0.9790986324349973, 0.9987731280315625, 0.9961340748550276, 0.9720241544443718]\n",
      "====================\n",
      "K-fold CV for: CD8_T\n",
      "[0.9694122478517533, 0.9306963872209204, 0.8705097899909735, 0.899571583885605, 0.9859140717914199, 0.9525596222338126, 0.8822575364192919]\n",
      "====================\n",
      "K-fold CV for: DC\n",
      "[0.9981701744446607, 0.9622141371362, 0.9551396059874981, 0.958609904544204, 0.999704030369346, 0.9927032753398034, 0.9577093505765214]\n",
      "====================\n",
      "K-fold CV for: Mono\n",
      "[0.9935956080722781, 0.9843366261576177, 0.9946949602122016, 0.9894858436516449, 0.9987056024387908, 0.9952069150915145, 0.984912315687479]\n",
      "====================\n",
      "K-fold CV for: NK\n",
      "[0.9978363522838734, 0.9914183521634357, 0.989819873673838, 0.9906167986814207, 0.9998176206997009, 0.9985277540369497, 0.98939547247076]\n",
      "====================\n",
      "K-fold CV for: other\n",
      "[0.9942261602146425, 0.9423250595481674, 0.7756763256489013, 0.8496020502477141, 0.9572363420236272, 0.8736973172614751, 0.8515364990657982]\n",
      "====================\n",
      "K-fold CV for: other_T\n",
      "[0.9901584947504933, 0.9016779666057969, 0.8591800764703393, 0.8798357238498238, 0.9935048686388738, 0.9364496523155129, 0.8750289568253906]\n"
     ]
    }
   ],
   "source": [
    "os.chdir(r\"C:\\Users\\evanlee\\Documents\\GitHub\\EvanPys\\Progress\\PBMC_Hao_ztrans_v2\\Level1\\LR_classifiers_scaled\")\n",
    "\n",
    "cols = ['Accuracy', 'Precision', 'Recall', 'F1-score', 'ROC-AUC', 'PR-AUC', 'MCC']\n",
    "all_metrics = pd.DataFrame(columns=cols)\n",
    "for celltype in types:\n",
    "    print('====================')\n",
    "    print('K-fold CV for:', celltype)\n",
    "    clf, metrics = LR_kfold(adata, features_dict, celltype, k=5)  # metrics is a list\n",
    "    print(metrics)\n",
    "    \n",
    "    # Append metrics to all_metrics\n",
    "    all_metrics.loc[celltype] = metrics\n",
    "\n",
    "    # output LR model as pickle\n",
    "    filename = f'LR_{celltype}_Harmony_l1.pkl'\n",
    "    with open(filename, 'wb') as f:\n",
    "        pickle.dump(clf, f)\n"
   ]
  },
  {
   "cell_type": "code",
   "execution_count": 21,
   "metadata": {},
   "outputs": [
    {
     "data": {
      "text/html": [
       "<div>\n",
       "<style scoped>\n",
       "    .dataframe tbody tr th:only-of-type {\n",
       "        vertical-align: middle;\n",
       "    }\n",
       "\n",
       "    .dataframe tbody tr th {\n",
       "        vertical-align: top;\n",
       "    }\n",
       "\n",
       "    .dataframe thead th {\n",
       "        text-align: right;\n",
       "    }\n",
       "</style>\n",
       "<table border=\"1\" class=\"dataframe\">\n",
       "  <thead>\n",
       "    <tr style=\"text-align: right;\">\n",
       "      <th></th>\n",
       "      <th>Accuracy</th>\n",
       "      <th>Precision</th>\n",
       "      <th>Recall</th>\n",
       "      <th>F1-score</th>\n",
       "      <th>ROC-AUC</th>\n",
       "      <th>PR-AUC</th>\n",
       "      <th>MCC</th>\n",
       "    </tr>\n",
       "  </thead>\n",
       "  <tbody>\n",
       "    <tr>\n",
       "      <th>B</th>\n",
       "      <td>0.999314</td>\n",
       "      <td>0.997529</td>\n",
       "      <td>0.994420</td>\n",
       "      <td>0.995969</td>\n",
       "      <td>0.999953</td>\n",
       "      <td>0.999587</td>\n",
       "      <td>0.995597</td>\n",
       "    </tr>\n",
       "    <tr>\n",
       "      <th>CD4_T</th>\n",
       "      <td>0.989373</td>\n",
       "      <td>0.978478</td>\n",
       "      <td>0.979830</td>\n",
       "      <td>0.979099</td>\n",
       "      <td>0.998773</td>\n",
       "      <td>0.996134</td>\n",
       "      <td>0.972024</td>\n",
       "    </tr>\n",
       "    <tr>\n",
       "      <th>CD8_T</th>\n",
       "      <td>0.969412</td>\n",
       "      <td>0.930696</td>\n",
       "      <td>0.870510</td>\n",
       "      <td>0.899572</td>\n",
       "      <td>0.985914</td>\n",
       "      <td>0.952560</td>\n",
       "      <td>0.882258</td>\n",
       "    </tr>\n",
       "    <tr>\n",
       "      <th>DC</th>\n",
       "      <td>0.998170</td>\n",
       "      <td>0.962214</td>\n",
       "      <td>0.955140</td>\n",
       "      <td>0.958610</td>\n",
       "      <td>0.999704</td>\n",
       "      <td>0.992703</td>\n",
       "      <td>0.957709</td>\n",
       "    </tr>\n",
       "    <tr>\n",
       "      <th>Mono</th>\n",
       "      <td>0.993596</td>\n",
       "      <td>0.984337</td>\n",
       "      <td>0.994695</td>\n",
       "      <td>0.989486</td>\n",
       "      <td>0.998706</td>\n",
       "      <td>0.995207</td>\n",
       "      <td>0.984912</td>\n",
       "    </tr>\n",
       "    <tr>\n",
       "      <th>NK</th>\n",
       "      <td>0.997836</td>\n",
       "      <td>0.991418</td>\n",
       "      <td>0.989820</td>\n",
       "      <td>0.990617</td>\n",
       "      <td>0.999818</td>\n",
       "      <td>0.998528</td>\n",
       "      <td>0.989395</td>\n",
       "    </tr>\n",
       "    <tr>\n",
       "      <th>other</th>\n",
       "      <td>0.994226</td>\n",
       "      <td>0.942325</td>\n",
       "      <td>0.775676</td>\n",
       "      <td>0.849602</td>\n",
       "      <td>0.957236</td>\n",
       "      <td>0.873697</td>\n",
       "      <td>0.851536</td>\n",
       "    </tr>\n",
       "    <tr>\n",
       "      <th>other_T</th>\n",
       "      <td>0.990158</td>\n",
       "      <td>0.901678</td>\n",
       "      <td>0.859180</td>\n",
       "      <td>0.879836</td>\n",
       "      <td>0.993505</td>\n",
       "      <td>0.936450</td>\n",
       "      <td>0.875029</td>\n",
       "    </tr>\n",
       "  </tbody>\n",
       "</table>\n",
       "</div>"
      ],
      "text/plain": [
       "         Accuracy  Precision    Recall  F1-score   ROC-AUC    PR-AUC       MCC\n",
       "B        0.999314   0.997529  0.994420  0.995969  0.999953  0.999587  0.995597\n",
       "CD4_T    0.989373   0.978478  0.979830  0.979099  0.998773  0.996134  0.972024\n",
       "CD8_T    0.969412   0.930696  0.870510  0.899572  0.985914  0.952560  0.882258\n",
       "DC       0.998170   0.962214  0.955140  0.958610  0.999704  0.992703  0.957709\n",
       "Mono     0.993596   0.984337  0.994695  0.989486  0.998706  0.995207  0.984912\n",
       "NK       0.997836   0.991418  0.989820  0.990617  0.999818  0.998528  0.989395\n",
       "other    0.994226   0.942325  0.775676  0.849602  0.957236  0.873697  0.851536\n",
       "other_T  0.990158   0.901678  0.859180  0.879836  0.993505  0.936450  0.875029"
      ]
     },
     "execution_count": 21,
     "metadata": {},
     "output_type": "execute_result"
    }
   ],
   "source": [
    "all_metrics"
   ]
  },
  {
   "cell_type": "code",
   "execution_count": 23,
   "metadata": {},
   "outputs": [],
   "source": [
    "# save metrics\n",
    "all_metrics.index = types\n",
    "all_metrics.to_csv('LR_metrics_L1.csv')"
   ]
  },
  {
   "cell_type": "markdown",
   "metadata": {},
   "source": [
    "## Read saved .pkl"
   ]
  },
  {
   "cell_type": "markdown",
   "metadata": {
    "vscode": {
     "languageId": "plaintext"
    }
   },
   "source": [
    "## Plot classifier K-fold CV metrics"
   ]
  },
  {
   "cell_type": "code",
   "execution_count": 25,
   "metadata": {},
   "outputs": [
    {
     "data": {
      "text/plain": [
       "<matplotlib.legend.Legend at 0x1a3d7b13430>"
      ]
     },
     "execution_count": 25,
     "metadata": {},
     "output_type": "execute_result"
    },
    {
     "data": {
      "image/png": "[encoded data removed]",
      "text/plain": [
       "<Figure size 800x600 with 1 Axes>"
      ]
     },
     "metadata": {},
     "output_type": "display_data"
    }
   ],
   "source": [
    "cols = ['Precision', 'F1-score', 'ROC-AUC', 'PR-AUC', 'MCC']\n",
    "\n",
    "# Plot metrics for each celltype\n",
    "ax = all_metrics[cols].plot.bar(rot=90, figsize=(8,6), title='Logistic Regression using PreLect features (Level 1 cell types)')\n",
    "ax.legend(loc='center left', bbox_to_anchor=(1.0, 0.5))"
   ]
  },
  {
   "cell_type": "code",
   "execution_count": null,
   "metadata": {},
   "outputs": [],
   "source": []
  }
 ],
 "metadata": {
  "kernelspec": {
   "display_name": "Python 3",
   "language": "python",
   "name": "python3"
  },
  "language_info": {
   "codemirror_mode": {
    "name": "ipython",
    "version": 3
   },
   "file_extension": ".py",
   "mimetype": "text/x-python",
   "name": "python",
   "nbconvert_exporter": "python",
   "pygments_lexer": "ipython3",
   "version": "3.9.12"
  }
 },
 "nbformat": 4,
 "nbformat_minor": 2
}

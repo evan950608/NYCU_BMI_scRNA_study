{
 "cells": [
  {
   "cell_type": "code",
   "execution_count": 1,
   "metadata": {
    "tags": []
   },
   "outputs": [],
   "source": [
    "import pandas as pd\n",
    "import numpy as np\n",
    "import matplotlib.pyplot as plt\n",
    "import pickle\n",
    "import os\n",
    "import sys\n",
    "\n",
    "from sklearn.linear_model import LogisticRegression\n",
    "from sklearn.model_selection import train_test_split"
   ]
  },
  {
   "cell_type": "code",
   "execution_count": 2,
   "metadata": {},
   "outputs": [
    {
     "data": {
      "text/plain": [
       "(161764, 33538)"
      ]
     },
     "execution_count": 2,
     "metadata": {},
     "output_type": "execute_result"
    }
   ],
   "source": [
    "import scanpy as sc\n",
    "# import scvelo as scv\n",
    "\n",
    "# read the full GSE dataset\n",
    "adata = sc.read_h5ad(r\"C:\\Users\\evanlee\\Documents\\Research_datasets\\PBMC_Hao\\GSE164378_Hao\\Harmony_and_ztrans\\Hao_Harmony_test_no_scale.h5ad\")\n",
    "adata.shape"
   ]
  },
  {
   "cell_type": "code",
   "execution_count": 3,
   "metadata": {},
   "outputs": [
    {
     "name": "stdout",
     "output_type": "stream",
     "text": [
      "['B', 'CD4_T', 'CD8_T', 'DC', 'Mono', 'NK', 'other', 'other_T']\n"
     ]
    }
   ],
   "source": [
    "adata.obs['celltype.l1'] = adata.obs['celltype.l1'].str.replace(' ', '_')\n",
    "\n",
    "label = adata.obs['celltype.l1'].tolist()\n",
    "types = np.unique(label).tolist()\n",
    "print(types)"
   ]
  },
  {
   "cell_type": "code",
   "execution_count": 6,
   "metadata": {},
   "outputs": [
    {
     "name": "stdout",
     "output_type": "stream",
     "text": [
      "Row 0, Column 12, Value 0.4895154535770416\n",
      "Row 0, Column 43, Value 0.8167138695716858\n",
      "Row 0, Column 48, Value 0.8167138695716858\n",
      "Row 0, Column 53, Value 0.8167138695716858\n",
      "Row 0, Column 55, Value 1.424944519996643\n",
      "Row 0, Column 66, Value 0.4895154535770416\n",
      "Row 0, Column 77, Value 0.8167138695716858\n",
      "Row 0, Column 78, Value 1.424944519996643\n",
      "Row 0, Column 89, Value 0.8167138695716858\n",
      "Row 0, Column 93, Value 1.0628387928009033\n",
      "Row 0, Column 102, Value 0.8167138695716858\n",
      "Row 0, Column 154, Value 2.4626553058624268\n",
      "Row 0, Column 178, Value 0.8167138695716858\n",
      "Row 0, Column 185, Value 0.4895154535770416\n",
      "Row 0, Column 190, Value 0.4895154535770416\n",
      "Row 0, Column 201, Value 1.8004224300384521\n",
      "Row 0, Column 224, Value 0.8167138695716858\n",
      "Row 0, Column 240, Value 0.4895154535770416\n",
      "Row 0, Column 259, Value 0.4895154535770416\n",
      "Row 0, Column 261, Value 1.566353440284729\n"
     ]
    }
   ],
   "source": [
    "# Briefly view adata.X (raw counts)\n",
    "rows, cols = adata.X[:5,:].nonzero()\n",
    "i = 0\n",
    "for row, col in zip(rows, cols):\n",
    "    if i == 20: break\n",
    "    print(f'Row {row}, Column {col}, Value {adata.X[row, col]}')\n",
    "    i += 1\n"
   ]
  },
  {
   "cell_type": "markdown",
   "metadata": {},
   "source": [
    "## Scale genes"
   ]
  },
  {
   "cell_type": "code",
   "execution_count": 7,
   "metadata": {},
   "outputs": [],
   "source": [
    "# Scale each gene to unit variance\n",
    "sc.pp.scale(adata)"
   ]
  },
  {
   "cell_type": "markdown",
   "metadata": {},
   "source": [
    "## Read features"
   ]
  },
  {
   "cell_type": "code",
   "execution_count": 4,
   "metadata": {},
   "outputs": [],
   "source": [
    "import os\n",
    "os.chdir(r\"C:\\Users\\evanlee\\Documents\\GitHub\\EvanPys\\Progress\\PBMC_Hao_ztrans_v2\\Level1\\feature_selection\")\n",
    "\n",
    "features_dict = {}\n",
    "# Read features for each celltype\n",
    "for celltype in types:\n",
    "    try:\n",
    "        feature_df = pd.read_csv(f'{celltype}_features.txt', names=['Gene', 'Weight', 'Tendency'], sep='\\t')\n",
    "        features_dict[celltype] = feature_df\n",
    "    except:\n",
    "        print('skipping:', celltype)\n",
    "        continue"
   ]
  },
  {
   "cell_type": "code",
   "execution_count": 5,
   "metadata": {},
   "outputs": [
    {
     "data": {
      "text/html": [
       "<div>\n",
       "<style scoped>\n",
       "    .dataframe tbody tr th:only-of-type {\n",
       "        vertical-align: middle;\n",
       "    }\n",
       "\n",
       "    .dataframe tbody tr th {\n",
       "        vertical-align: top;\n",
       "    }\n",
       "\n",
       "    .dataframe thead th {\n",
       "        text-align: right;\n",
       "    }\n",
       "</style>\n",
       "<table border=\"1\" class=\"dataframe\">\n",
       "  <thead>\n",
       "    <tr style=\"text-align: right;\">\n",
       "      <th></th>\n",
       "      <th>Feature_count</th>\n",
       "      <th>Positive_feature_count</th>\n",
       "    </tr>\n",
       "  </thead>\n",
       "  <tbody>\n",
       "    <tr>\n",
       "      <th>B</th>\n",
       "      <td>17</td>\n",
       "      <td>16</td>\n",
       "    </tr>\n",
       "    <tr>\n",
       "      <th>CD4_T</th>\n",
       "      <td>1719</td>\n",
       "      <td>813</td>\n",
       "    </tr>\n",
       "    <tr>\n",
       "      <th>CD8_T</th>\n",
       "      <td>7</td>\n",
       "      <td>5</td>\n",
       "    </tr>\n",
       "    <tr>\n",
       "      <th>DC</th>\n",
       "      <td>1250</td>\n",
       "      <td>579</td>\n",
       "    </tr>\n",
       "    <tr>\n",
       "      <th>Mono</th>\n",
       "      <td>73</td>\n",
       "      <td>65</td>\n",
       "    </tr>\n",
       "    <tr>\n",
       "      <th>NK</th>\n",
       "      <td>232</td>\n",
       "      <td>127</td>\n",
       "    </tr>\n",
       "    <tr>\n",
       "      <th>other</th>\n",
       "      <td>380</td>\n",
       "      <td>205</td>\n",
       "    </tr>\n",
       "    <tr>\n",
       "      <th>other_T</th>\n",
       "      <td>1097</td>\n",
       "      <td>568</td>\n",
       "    </tr>\n",
       "  </tbody>\n",
       "</table>\n",
       "</div>"
      ],
      "text/plain": [
       "         Feature_count  Positive_feature_count\n",
       "B                   17                      16\n",
       "CD4_T             1719                     813\n",
       "CD8_T                7                       5\n",
       "DC                1250                     579\n",
       "Mono                73                      65\n",
       "NK                 232                     127\n",
       "other              380                     205\n",
       "other_T           1097                     568"
      ]
     },
     "execution_count": 5,
     "metadata": {},
     "output_type": "execute_result"
    }
   ],
   "source": [
    "count_df = pd.DataFrame(columns=['Feature_count', 'Positive_feature_count'])\n",
    "for celltype in features_dict.keys():\n",
    "    feature_df = features_dict[celltype]\n",
    "    feature_count = feature_df.shape[0]\n",
    "    positive_count = feature_df[feature_df['Tendency'] == 1].shape[0]\n",
    "    count_df.loc[celltype] = [feature_count, positive_count]\n",
    "count_df"
   ]
  },
  {
   "cell_type": "markdown",
   "metadata": {},
   "source": [
    "## Get likelihood from LR model"
   ]
  },
  {
   "cell_type": "code",
   "execution_count": 12,
   "metadata": {},
   "outputs": [],
   "source": [
    "def LR_likelihood_decision_score(data, all_features_dict, celltype):\n",
    "    print('====================')\n",
    "    print('Celltype:', celltype)\n",
    "    # subset data to celltype features\n",
    "    X = data[:, all_features_dict[celltype]['Gene'].tolist()].X\n",
    "    # Binary label\n",
    "    y = [1 if i==celltype else 0 for i in data.obs['celltype.l1'].tolist()]\n",
    "\n",
    "    X_train, X_test, y_train, y_test = train_test_split(X, y, test_size=0.2, random_state=0, stratify=y)\n",
    "\n",
    "    clf = LogisticRegression(penalty='l2', solver='lbfgs', C=1.0, max_iter=1000)\n",
    "    clf.fit(X_train, y_train)\n",
    "\n",
    "    decision_scores = clf.decision_function(X)  # >0: predict celltype, <0: predict not celltype\n",
    "    print('decision_scores > 0:', sum(decision_scores > 0))\n",
    "\n",
    "    # calculate the likelihood of the positive class for each observation in X based on the decision scores\n",
    "    likelihood = 1 / (1 + np.exp(-decision_scores))\n",
    "    print('likelihood > 0.5:', sum(likelihood > 0.5))  # >0.5: predict celltype, <0.5: predict not celltype\n",
    "    print(type(likelihood), likelihood.shape)\n",
    "    #do the row-wise softmax\n",
    "    # likelihood = np.exp(likelihood)/np.sum(np.exp(likelihood),1,keepdims=True)\n",
    "    \n",
    "    return likelihood\n",
    "\n",
    "\n",
    "def LR_likelihood_pred_prob(data, all_features_dict, celltype):\n",
    "    print('====================')\n",
    "    print('Celltype:', celltype)\n",
    "    # subset data to celltype features\n",
    "    X = data[:, all_features_dict[celltype]['Gene'].tolist()].X\n",
    "    # Binary label\n",
    "    y = [1 if i==celltype else 0 for i in data.obs['celltype.l1'].tolist()]\n",
    "\n",
    "    X_train, X_test, y_train, y_test = train_test_split(X, y, test_size=0.2, random_state=0, stratify=y)\n",
    "\n",
    "    clf = LogisticRegression(penalty='l2', solver='lbfgs', C=1.0, max_iter=1000)\n",
    "    clf.fit(X_train, y_train)\n",
    "\n",
    "    # likelihood of the positive class for each observation\n",
    "    likelihood = clf.predict_proba(X)[:, 1]  # >0.5: predict celltype, <0.5: predict not celltype\n",
    "    print('likelihood > 0.5:', sum(likelihood > 0.5))  # decision_scores > 0 的有幾個\n",
    "\n",
    "    return likelihood\n"
   ]
  },
  {
   "cell_type": "code",
   "execution_count": 13,
   "metadata": {},
   "outputs": [
    {
     "name": "stdout",
     "output_type": "stream",
     "text": [
      "====================\n",
      "Celltype: B\n",
      "likelihood > 0.5: 13763\n"
     ]
    },
    {
     "data": {
      "text/plain": [
       "(161764,)"
      ]
     },
     "execution_count": 13,
     "metadata": {},
     "output_type": "execute_result"
    }
   ],
   "source": [
    "celltype = 'B'\n",
    "B_likelihood = LR_likelihood_pred_prob(adata, features_dict, celltype)\n",
    "B_likelihood.shape"
   ]
  },
  {
   "cell_type": "code",
   "execution_count": 16,
   "metadata": {},
   "outputs": [
    {
     "data": {
      "text/plain": [
       "array([9.35793514e-06, 2.56421385e-05, 1.54474889e-05, 2.16310921e-05,\n",
       "       1.53430261e-05])"
      ]
     },
     "execution_count": 16,
     "metadata": {},
     "output_type": "execute_result"
    }
   ],
   "source": [
    "B_likelihood[:5]"
   ]
  },
  {
   "cell_type": "code",
   "execution_count": 17,
   "metadata": {},
   "outputs": [
    {
     "name": "stdout",
     "output_type": "stream",
     "text": [
      "====================\n",
      "Celltype: B\n",
      "likelihood > 0.5: 13763\n",
      "====================\n",
      "Celltype: CD4_T\n",
      "likelihood > 0.5: 41060\n",
      "====================\n",
      "Celltype: CD8_T\n",
      "likelihood > 0.5: 23819\n",
      "====================\n",
      "Celltype: DC\n",
      "likelihood > 0.5: 3578\n",
      "====================\n",
      "Celltype: Mono\n",
      "likelihood > 0.5: 49535\n",
      "====================\n",
      "Celltype: NK\n",
      "likelihood > 0.5: 18650\n",
      "====================\n",
      "Celltype: other\n",
      "likelihood > 0.5: 2855\n",
      "====================\n",
      "Celltype: other_T\n",
      "likelihood > 0.5: 6505\n"
     ]
    }
   ],
   "source": [
    "likelihood_dict = {}\n",
    "for celltype in types:\n",
    "    likelihood_dict[celltype] = LR_likelihood_pred_prob(adata, features_dict, celltype)"
   ]
  },
  {
   "cell_type": "code",
   "execution_count": 18,
   "metadata": {},
   "outputs": [
    {
     "data": {
      "text/html": [
       "<div>\n",
       "<style scoped>\n",
       "    .dataframe tbody tr th:only-of-type {\n",
       "        vertical-align: middle;\n",
       "    }\n",
       "\n",
       "    .dataframe tbody tr th {\n",
       "        vertical-align: top;\n",
       "    }\n",
       "\n",
       "    .dataframe thead th {\n",
       "        text-align: right;\n",
       "    }\n",
       "</style>\n",
       "<table border=\"1\" class=\"dataframe\">\n",
       "  <thead>\n",
       "    <tr style=\"text-align: right;\">\n",
       "      <th></th>\n",
       "      <th>B</th>\n",
       "      <th>CD4_T</th>\n",
       "      <th>CD8_T</th>\n",
       "      <th>DC</th>\n",
       "      <th>Mono</th>\n",
       "      <th>NK</th>\n",
       "      <th>other</th>\n",
       "      <th>other_T</th>\n",
       "    </tr>\n",
       "  </thead>\n",
       "  <tbody>\n",
       "    <tr>\n",
       "      <th>0</th>\n",
       "      <td>0.000009</td>\n",
       "      <td>6.263078e-10</td>\n",
       "      <td>0.002446</td>\n",
       "      <td>2.417709e-07</td>\n",
       "      <td>0.980386</td>\n",
       "      <td>1.339573e-06</td>\n",
       "      <td>0.000603</td>\n",
       "      <td>9.865340e-08</td>\n",
       "    </tr>\n",
       "    <tr>\n",
       "      <th>1</th>\n",
       "      <td>0.000026</td>\n",
       "      <td>9.999997e-01</td>\n",
       "      <td>0.031708</td>\n",
       "      <td>2.667327e-09</td>\n",
       "      <td>0.000097</td>\n",
       "      <td>8.716102e-06</td>\n",
       "      <td>0.001953</td>\n",
       "      <td>6.994405e-06</td>\n",
       "    </tr>\n",
       "    <tr>\n",
       "      <th>2</th>\n",
       "      <td>0.000015</td>\n",
       "      <td>9.403794e-09</td>\n",
       "      <td>0.999187</td>\n",
       "      <td>7.532286e-12</td>\n",
       "      <td>0.000083</td>\n",
       "      <td>3.535960e-07</td>\n",
       "      <td>0.000844</td>\n",
       "      <td>4.720462e-03</td>\n",
       "    </tr>\n",
       "    <tr>\n",
       "      <th>3</th>\n",
       "      <td>0.000022</td>\n",
       "      <td>1.913660e-11</td>\n",
       "      <td>0.006413</td>\n",
       "      <td>9.397976e-13</td>\n",
       "      <td>0.000016</td>\n",
       "      <td>9.999936e-01</td>\n",
       "      <td>0.002015</td>\n",
       "      <td>1.550197e-04</td>\n",
       "    </tr>\n",
       "    <tr>\n",
       "      <th>4</th>\n",
       "      <td>0.000015</td>\n",
       "      <td>1.262106e-10</td>\n",
       "      <td>0.998388</td>\n",
       "      <td>7.244680e-14</td>\n",
       "      <td>0.000066</td>\n",
       "      <td>1.424636e-06</td>\n",
       "      <td>0.003514</td>\n",
       "      <td>1.750332e-03</td>\n",
       "    </tr>\n",
       "  </tbody>\n",
       "</table>\n",
       "</div>"
      ],
      "text/plain": [
       "          B         CD4_T     CD8_T            DC      Mono            NK  \\\n",
       "0  0.000009  6.263078e-10  0.002446  2.417709e-07  0.980386  1.339573e-06   \n",
       "1  0.000026  9.999997e-01  0.031708  2.667327e-09  0.000097  8.716102e-06   \n",
       "2  0.000015  9.403794e-09  0.999187  7.532286e-12  0.000083  3.535960e-07   \n",
       "3  0.000022  1.913660e-11  0.006413  9.397976e-13  0.000016  9.999936e-01   \n",
       "4  0.000015  1.262106e-10  0.998388  7.244680e-14  0.000066  1.424636e-06   \n",
       "\n",
       "      other       other_T  \n",
       "0  0.000603  9.865340e-08  \n",
       "1  0.001953  6.994405e-06  \n",
       "2  0.000844  4.720462e-03  \n",
       "3  0.002015  1.550197e-04  \n",
       "4  0.003514  1.750332e-03  "
      ]
     },
     "execution_count": 18,
     "metadata": {},
     "output_type": "execute_result"
    }
   ],
   "source": [
    "# turn likelihood_dict into dataframe\n",
    "likelihood_df = pd.DataFrame(likelihood_dict)\n",
    "likelihood_df.head()"
   ]
  },
  {
   "cell_type": "code",
   "execution_count": 19,
   "metadata": {},
   "outputs": [
    {
     "data": {
      "text/plain": [
       "(161764, 8)"
      ]
     },
     "execution_count": 19,
     "metadata": {},
     "output_type": "execute_result"
    }
   ],
   "source": [
    "likelihood_df.shape"
   ]
  },
  {
   "cell_type": "code",
   "execution_count": 20,
   "metadata": {},
   "outputs": [
    {
     "data": {
      "text/plain": [
       "0         0.983446\n",
       "1         1.033800\n",
       "2         1.004850\n",
       "3         1.008614\n",
       "4         1.003736\n",
       "            ...   \n",
       "161759    0.983000\n",
       "161760    1.005598\n",
       "161761    1.004515\n",
       "161762    0.988887\n",
       "161763    0.998143\n",
       "Length: 161764, dtype: float64"
      ]
     },
     "execution_count": 20,
     "metadata": {},
     "output_type": "execute_result"
    }
   ],
   "source": [
    "# row sum\n",
    "likelihood_df.sum(axis=1)\n"
   ]
  },
  {
   "cell_type": "code",
   "execution_count": 22,
   "metadata": {},
   "outputs": [],
   "source": [
    "os.chdir(r\"C:\\Users\\evanlee\\Documents\\GitHub\\EvanPys\\Progress\\PBMC_Hao_ztrans_v2\\Level1\\LR_likelihood\")\n",
    "likelihood_df.to_csv('L1_likelihood_df.csv')"
   ]
  },
  {
   "cell_type": "markdown",
   "metadata": {
    "jp-MarkdownHeadingCollapsed": true,
    "tags": []
   },
   "source": [
    "## (1st_type / 2nd_type) >= 1.5"
   ]
  },
  {
   "cell_type": "code",
   "execution_count": null,
   "metadata": {},
   "outputs": [],
   "source": [
    "largest_values = []\n",
    "second_largest_values = []\n",
    "largest_columns = []\n",
    "second_largest_columns = []\n",
    "odds_ratio_list = []\n",
    "assignments = []\n",
    "\n",
    "# for index, row in likelihood_softmax.iterrows():\n",
    "for index, row in likelihood_df.iterrows():\n",
    "    # find 1st and 2nd largest values and their corresponding columns\n",
    "    largest_value = row.max()\n",
    "    largest_column = row.idxmax()\n",
    "    second_largest_value = row.nlargest(2).iloc[-1]\n",
    "    second_largest_column = row.nlargest(2).index[-1]\n",
    "    \n",
    "    largest_values.append(largest_value)\n",
    "    second_largest_values.append(second_largest_value)\n",
    "    largest_columns.append(largest_column)\n",
    "    second_largest_columns.append(second_largest_column)\n",
    "\n",
    "    # calculate odds ratio\n",
    "    odds_ratio = largest_value / second_largest_value\n",
    "    if odds_ratio >= 1.5:\n",
    "        assign = largest_column\n",
    "    else:\n",
    "        assign = 'Uncertain'\n",
    "    odds_ratio_list.append(odds_ratio)\n",
    "    assignments.append(assign)\n",
    "\n",
    "result_df = pd.DataFrame({'Largest Value': largest_values, 'Largest Column': largest_columns,\n",
    "                          'Second Largest Value': second_largest_values, 'Second Largest Column': second_largest_columns, \n",
    "                          'Odds Ratio': odds_ratio_list, 'Assignment': assignments})\n",
    "result_df.shape\n"
   ]
  },
  {
   "cell_type": "code",
   "execution_count": null,
   "metadata": {},
   "outputs": [],
   "source": [
    "result_df.head(20)"
   ]
  },
  {
   "cell_type": "code",
   "execution_count": null,
   "metadata": {},
   "outputs": [],
   "source": [
    "sum(result_df['Assignment'] == 'Uncertain')"
   ]
  },
  {
   "cell_type": "code",
   "execution_count": null,
   "metadata": {},
   "outputs": [],
   "source": [
    "12915/len(result_df)"
   ]
  },
  {
   "cell_type": "markdown",
   "metadata": {},
   "source": [
    "## Assign the celltype with the largest likelihood (no odds ratio)"
   ]
  },
  {
   "cell_type": "code",
   "execution_count": 23,
   "metadata": {},
   "outputs": [
    {
     "data": {
      "text/plain": [
       "(161764, 3)"
      ]
     },
     "execution_count": 23,
     "metadata": {},
     "output_type": "execute_result"
    }
   ],
   "source": [
    "largest_values = []\n",
    "largest_columns = []\n",
    "assignments = []\n",
    "for index, row in likelihood_df.iterrows():\n",
    "    # find largest value and their corresponding columns\n",
    "    largest_value = row.max()\n",
    "    largest_column = row.idxmax()\n",
    "    largest_values.append(largest_value)\n",
    "    largest_columns.append(largest_column)\n",
    "\n",
    "    assign = largest_column\n",
    "    assignments.append(assign)\n",
    "\n",
    "result_df = pd.DataFrame({'Largest Value': largest_values, 'Largest Column': largest_columns, 'Assignment': assignments})\n",
    "result_df.shape\n"
   ]
  },
  {
   "cell_type": "code",
   "execution_count": 24,
   "metadata": {},
   "outputs": [
    {
     "data": {
      "text/html": [
       "<div>\n",
       "<style scoped>\n",
       "    .dataframe tbody tr th:only-of-type {\n",
       "        vertical-align: middle;\n",
       "    }\n",
       "\n",
       "    .dataframe tbody tr th {\n",
       "        vertical-align: top;\n",
       "    }\n",
       "\n",
       "    .dataframe thead th {\n",
       "        text-align: right;\n",
       "    }\n",
       "</style>\n",
       "<table border=\"1\" class=\"dataframe\">\n",
       "  <thead>\n",
       "    <tr style=\"text-align: right;\">\n",
       "      <th></th>\n",
       "      <th>Largest Value</th>\n",
       "      <th>Largest Column</th>\n",
       "      <th>Assignment</th>\n",
       "    </tr>\n",
       "  </thead>\n",
       "  <tbody>\n",
       "    <tr>\n",
       "      <th>0</th>\n",
       "      <td>0.980386</td>\n",
       "      <td>Mono</td>\n",
       "      <td>Mono</td>\n",
       "    </tr>\n",
       "    <tr>\n",
       "      <th>1</th>\n",
       "      <td>1.000000</td>\n",
       "      <td>CD4_T</td>\n",
       "      <td>CD4_T</td>\n",
       "    </tr>\n",
       "    <tr>\n",
       "      <th>2</th>\n",
       "      <td>0.999187</td>\n",
       "      <td>CD8_T</td>\n",
       "      <td>CD8_T</td>\n",
       "    </tr>\n",
       "    <tr>\n",
       "      <th>3</th>\n",
       "      <td>0.999994</td>\n",
       "      <td>NK</td>\n",
       "      <td>NK</td>\n",
       "    </tr>\n",
       "    <tr>\n",
       "      <th>4</th>\n",
       "      <td>0.998388</td>\n",
       "      <td>CD8_T</td>\n",
       "      <td>CD8_T</td>\n",
       "    </tr>\n",
       "    <tr>\n",
       "      <th>5</th>\n",
       "      <td>0.437113</td>\n",
       "      <td>CD8_T</td>\n",
       "      <td>CD8_T</td>\n",
       "    </tr>\n",
       "    <tr>\n",
       "      <th>6</th>\n",
       "      <td>0.991715</td>\n",
       "      <td>Mono</td>\n",
       "      <td>Mono</td>\n",
       "    </tr>\n",
       "    <tr>\n",
       "      <th>7</th>\n",
       "      <td>0.999947</td>\n",
       "      <td>B</td>\n",
       "      <td>B</td>\n",
       "    </tr>\n",
       "    <tr>\n",
       "      <th>8</th>\n",
       "      <td>1.000000</td>\n",
       "      <td>NK</td>\n",
       "      <td>NK</td>\n",
       "    </tr>\n",
       "    <tr>\n",
       "      <th>9</th>\n",
       "      <td>0.999624</td>\n",
       "      <td>CD8_T</td>\n",
       "      <td>CD8_T</td>\n",
       "    </tr>\n",
       "    <tr>\n",
       "      <th>10</th>\n",
       "      <td>0.999017</td>\n",
       "      <td>CD4_T</td>\n",
       "      <td>CD4_T</td>\n",
       "    </tr>\n",
       "    <tr>\n",
       "      <th>11</th>\n",
       "      <td>0.992032</td>\n",
       "      <td>CD4_T</td>\n",
       "      <td>CD4_T</td>\n",
       "    </tr>\n",
       "    <tr>\n",
       "      <th>12</th>\n",
       "      <td>0.995572</td>\n",
       "      <td>CD4_T</td>\n",
       "      <td>CD4_T</td>\n",
       "    </tr>\n",
       "    <tr>\n",
       "      <th>13</th>\n",
       "      <td>1.000000</td>\n",
       "      <td>B</td>\n",
       "      <td>B</td>\n",
       "    </tr>\n",
       "    <tr>\n",
       "      <th>14</th>\n",
       "      <td>0.998188</td>\n",
       "      <td>Mono</td>\n",
       "      <td>Mono</td>\n",
       "    </tr>\n",
       "    <tr>\n",
       "      <th>15</th>\n",
       "      <td>0.999889</td>\n",
       "      <td>CD4_T</td>\n",
       "      <td>CD4_T</td>\n",
       "    </tr>\n",
       "    <tr>\n",
       "      <th>16</th>\n",
       "      <td>0.999998</td>\n",
       "      <td>other_T</td>\n",
       "      <td>other_T</td>\n",
       "    </tr>\n",
       "    <tr>\n",
       "      <th>17</th>\n",
       "      <td>0.999997</td>\n",
       "      <td>NK</td>\n",
       "      <td>NK</td>\n",
       "    </tr>\n",
       "    <tr>\n",
       "      <th>18</th>\n",
       "      <td>0.999995</td>\n",
       "      <td>CD4_T</td>\n",
       "      <td>CD4_T</td>\n",
       "    </tr>\n",
       "    <tr>\n",
       "      <th>19</th>\n",
       "      <td>0.999994</td>\n",
       "      <td>NK</td>\n",
       "      <td>NK</td>\n",
       "    </tr>\n",
       "  </tbody>\n",
       "</table>\n",
       "</div>"
      ],
      "text/plain": [
       "    Largest Value Largest Column Assignment\n",
       "0        0.980386           Mono       Mono\n",
       "1        1.000000          CD4_T      CD4_T\n",
       "2        0.999187          CD8_T      CD8_T\n",
       "3        0.999994             NK         NK\n",
       "4        0.998388          CD8_T      CD8_T\n",
       "5        0.437113          CD8_T      CD8_T\n",
       "6        0.991715           Mono       Mono\n",
       "7        0.999947              B          B\n",
       "8        1.000000             NK         NK\n",
       "9        0.999624          CD8_T      CD8_T\n",
       "10       0.999017          CD4_T      CD4_T\n",
       "11       0.992032          CD4_T      CD4_T\n",
       "12       0.995572          CD4_T      CD4_T\n",
       "13       1.000000              B          B\n",
       "14       0.998188           Mono       Mono\n",
       "15       0.999889          CD4_T      CD4_T\n",
       "16       0.999998        other_T    other_T\n",
       "17       0.999997             NK         NK\n",
       "18       0.999995          CD4_T      CD4_T\n",
       "19       0.999994             NK         NK"
      ]
     },
     "execution_count": 24,
     "metadata": {},
     "output_type": "execute_result"
    }
   ],
   "source": [
    "result_df.head(20)"
   ]
  },
  {
   "cell_type": "code",
   "execution_count": 25,
   "metadata": {},
   "outputs": [
    {
     "data": {
      "text/plain": [
       "0"
      ]
     },
     "execution_count": 25,
     "metadata": {},
     "output_type": "execute_result"
    }
   ],
   "source": [
    "# count 'uncertain'\n",
    "sum(result_df['Assignment'] == 'Uncertain')"
   ]
  },
  {
   "cell_type": "markdown",
   "metadata": {},
   "source": [
    "## Confusion heatmap"
   ]
  },
  {
   "cell_type": "code",
   "execution_count": 26,
   "metadata": {},
   "outputs": [],
   "source": [
    "import pandas as pd\n",
    "\n",
    "# Get the true labels\n",
    "true_labels = adata.obs['celltype.l1'].tolist()\n",
    "\n",
    "# Get the predicted labels\n",
    "predicted_labels = result_df['Assignment'].tolist()\n",
    "\n",
    "# Create the confusion matrix\n",
    "cm = pd.crosstab(true_labels, predicted_labels, rownames=['True'], colnames=['Predicted'], margins=False)\n",
    "\n",
    "# reorder columns\n",
    "# cm = cm.reindex(types + ['Uncertain'], axis=1)\n",
    "\n",
    "# replace NaN with 0\n",
    "cm = cm.fillna(0)\n",
    "cm = cm.astype(int)\n"
   ]
  },
  {
   "cell_type": "code",
   "execution_count": 27,
   "metadata": {},
   "outputs": [
    {
     "data": {
      "text/html": [
       "<div>\n",
       "<style scoped>\n",
       "    .dataframe tbody tr th:only-of-type {\n",
       "        vertical-align: middle;\n",
       "    }\n",
       "\n",
       "    .dataframe tbody tr th {\n",
       "        vertical-align: top;\n",
       "    }\n",
       "\n",
       "    .dataframe thead th {\n",
       "        text-align: right;\n",
       "    }\n",
       "</style>\n",
       "<table border=\"1\" class=\"dataframe\">\n",
       "  <thead>\n",
       "    <tr style=\"text-align: right;\">\n",
       "      <th>Predicted</th>\n",
       "      <th>B</th>\n",
       "      <th>CD4_T</th>\n",
       "      <th>CD8_T</th>\n",
       "      <th>DC</th>\n",
       "      <th>Mono</th>\n",
       "      <th>NK</th>\n",
       "      <th>other</th>\n",
       "      <th>other_T</th>\n",
       "    </tr>\n",
       "    <tr>\n",
       "      <th>True</th>\n",
       "      <th></th>\n",
       "      <th></th>\n",
       "      <th></th>\n",
       "      <th></th>\n",
       "      <th></th>\n",
       "      <th></th>\n",
       "      <th></th>\n",
       "      <th></th>\n",
       "    </tr>\n",
       "  </thead>\n",
       "  <tbody>\n",
       "    <tr>\n",
       "      <th>B</th>\n",
       "      <td>13780</td>\n",
       "      <td>1</td>\n",
       "      <td>4</td>\n",
       "      <td>0</td>\n",
       "      <td>7</td>\n",
       "      <td>3</td>\n",
       "      <td>5</td>\n",
       "      <td>0</td>\n",
       "    </tr>\n",
       "    <tr>\n",
       "      <th>CD4_T</th>\n",
       "      <td>1</td>\n",
       "      <td>40786</td>\n",
       "      <td>137</td>\n",
       "      <td>0</td>\n",
       "      <td>3</td>\n",
       "      <td>6</td>\n",
       "      <td>2</td>\n",
       "      <td>66</td>\n",
       "    </tr>\n",
       "    <tr>\n",
       "      <th>CD8_T</th>\n",
       "      <td>2</td>\n",
       "      <td>544</td>\n",
       "      <td>24427</td>\n",
       "      <td>0</td>\n",
       "      <td>3</td>\n",
       "      <td>66</td>\n",
       "      <td>7</td>\n",
       "      <td>420</td>\n",
       "    </tr>\n",
       "    <tr>\n",
       "      <th>DC</th>\n",
       "      <td>1</td>\n",
       "      <td>1</td>\n",
       "      <td>0</td>\n",
       "      <td>3550</td>\n",
       "      <td>35</td>\n",
       "      <td>0</td>\n",
       "      <td>2</td>\n",
       "      <td>0</td>\n",
       "    </tr>\n",
       "    <tr>\n",
       "      <th>Mono</th>\n",
       "      <td>7</td>\n",
       "      <td>7</td>\n",
       "      <td>9</td>\n",
       "      <td>23</td>\n",
       "      <td>48888</td>\n",
       "      <td>2</td>\n",
       "      <td>74</td>\n",
       "      <td>0</td>\n",
       "    </tr>\n",
       "    <tr>\n",
       "      <th>NK</th>\n",
       "      <td>0</td>\n",
       "      <td>14</td>\n",
       "      <td>50</td>\n",
       "      <td>0</td>\n",
       "      <td>0</td>\n",
       "      <td>18570</td>\n",
       "      <td>1</td>\n",
       "      <td>29</td>\n",
       "    </tr>\n",
       "    <tr>\n",
       "      <th>other</th>\n",
       "      <td>9</td>\n",
       "      <td>73</td>\n",
       "      <td>39</td>\n",
       "      <td>1</td>\n",
       "      <td>489</td>\n",
       "      <td>30</td>\n",
       "      <td>2784</td>\n",
       "      <td>17</td>\n",
       "    </tr>\n",
       "    <tr>\n",
       "      <th>other_T</th>\n",
       "      <td>3</td>\n",
       "      <td>103</td>\n",
       "      <td>425</td>\n",
       "      <td>0</td>\n",
       "      <td>2</td>\n",
       "      <td>44</td>\n",
       "      <td>1</td>\n",
       "      <td>6211</td>\n",
       "    </tr>\n",
       "  </tbody>\n",
       "</table>\n",
       "</div>"
      ],
      "text/plain": [
       "Predicted      B  CD4_T  CD8_T    DC   Mono     NK  other  other_T\n",
       "True                                                              \n",
       "B          13780      1      4     0      7      3      5        0\n",
       "CD4_T          1  40786    137     0      3      6      2       66\n",
       "CD8_T          2    544  24427     0      3     66      7      420\n",
       "DC             1      1      0  3550     35      0      2        0\n",
       "Mono           7      7      9    23  48888      2     74        0\n",
       "NK             0     14     50     0      0  18570      1       29\n",
       "other          9     73     39     1    489     30   2784       17\n",
       "other_T        3    103    425     0      2     44      1     6211"
      ]
     },
     "execution_count": 27,
     "metadata": {},
     "output_type": "execute_result"
    }
   ],
   "source": [
    "cm"
   ]
  },
  {
   "cell_type": "code",
   "execution_count": 29,
   "metadata": {},
   "outputs": [],
   "source": [
    "cm.to_csv('likelihood_assignment_confusion_matrix.csv')"
   ]
  },
  {
   "cell_type": "markdown",
   "metadata": {},
   "source": [
    "## Plot confusion matrix"
   ]
  },
  {
   "cell_type": "code",
   "execution_count": 2,
   "metadata": {
    "tags": []
   },
   "outputs": [],
   "source": [
    "os.chdir('./LR_likelihood')\n",
    "cm = pd.read_csv('likelihood_assignment_confusion_matrix.csv', index_col=0)"
   ]
  },
  {
   "cell_type": "code",
   "execution_count": 3,
   "metadata": {
    "tags": []
   },
   "outputs": [
    {
     "data": {
      "image/png": "[encoded data removed]",
      "text/plain": [
       "<Figure size 1000x1000 with 2 Axes>"
      ]
     },
     "metadata": {},
     "output_type": "display_data"
    }
   ],
   "source": [
    "import seaborn as sns\n",
    "import matplotlib.pyplot as plt\n",
    "\n",
    "plt.figure(figsize=(10, 10))\n",
    "sns.heatmap(cm, annot=True, fmt='d', cmap='Blues')\n",
    "plt.title('LR Prediction Confusion Matrix')\n",
    "plt.xlabel('Predicted')\n",
    "plt.ylabel('True')\n",
    "plt.show()\n"
   ]
  },
  {
   "cell_type": "code",
   "execution_count": 4,
   "metadata": {
    "tags": []
   },
   "outputs": [
    {
     "data": {
      "text/plain": [
       "True\n",
       "B          13800\n",
       "CD4_T      41001\n",
       "CD8_T      25469\n",
       "DC          3589\n",
       "Mono       49010\n",
       "NK         18664\n",
       "other       3442\n",
       "other_T     6789\n",
       "dtype: int64"
      ]
     },
     "execution_count": 4,
     "metadata": {},
     "output_type": "execute_result"
    }
   ],
   "source": [
    "row_sum = cm.sum(axis=1)\n",
    "row_sum\n"
   ]
  },
  {
   "cell_type": "code",
   "execution_count": 5,
   "metadata": {
    "tags": []
   },
   "outputs": [
    {
     "data": {
      "image/png": "[encoded data removed]",
      "text/plain": [
       "<Figure size 1000x1000 with 2 Axes>"
      ]
     },
     "metadata": {},
     "output_type": "display_data"
    }
   ],
   "source": [
    "cm_proportion = cm.div(row_sum, axis=0)\n",
    "cm_proportion *= 100\n",
    "plt.figure(figsize=(10, 10))\n",
    "sns.heatmap(cm_proportion, fmt=\".1f\", annot=True, cmap='Blues')\n",
    "plt.title('LR Prediction Confusion Matrix (Proportion %)')\n",
    "plt.savefig('cm_plot.png', dpi=300)\n",
    "plt.show()"
   ]
  },
  {
   "cell_type": "markdown",
   "metadata": {
    "tags": []
   },
   "source": [
    "## Calculate accuracy"
   ]
  },
  {
   "cell_type": "code",
   "execution_count": 6,
   "metadata": {
    "tags": []
   },
   "outputs": [
    {
     "data": {
      "text/plain": [
       "0.9828886526050296"
      ]
     },
     "execution_count": 6,
     "metadata": {},
     "output_type": "execute_result"
    }
   ],
   "source": [
    "accuracy = sum(np.diag(cm)) / cm.values.sum()\n",
    "accuracy"
   ]
  },
  {
   "cell_type": "code",
   "execution_count": 7,
   "metadata": {
    "tags": []
   },
   "outputs": [
    {
     "data": {
      "text/plain": [
       "161764"
      ]
     },
     "execution_count": 7,
     "metadata": {},
     "output_type": "execute_result"
    }
   ],
   "source": [
    "cm.values.sum()"
   ]
  },
  {
   "cell_type": "code",
   "execution_count": null,
   "metadata": {},
   "outputs": [],
   "source": []
  }
 ],
 "metadata": {
  "kernelspec": {
   "display_name": "Python 3 (ipykernel)",
   "language": "python",
   "name": "python3"
  },
  "language_info": {
   "codemirror_mode": {
    "name": "ipython",
    "version": 3
   },
   "file_extension": ".py",
   "mimetype": "text/x-python",
   "name": "python",
   "nbconvert_exporter": "python",
   "pygments_lexer": "ipython3",
   "version": "3.10.10"
  }
 },
 "nbformat": 4,
 "nbformat_minor": 4
}

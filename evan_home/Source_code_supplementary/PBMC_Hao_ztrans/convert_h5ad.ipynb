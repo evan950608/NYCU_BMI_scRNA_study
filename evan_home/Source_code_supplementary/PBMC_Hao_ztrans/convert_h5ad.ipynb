{
 "cells": [
  {
   "cell_type": "code",
   "execution_count": 1,
   "id": "89371395",
   "metadata": {},
   "outputs": [],
   "source": [
    "import logging\n",
    "import anndata\n",
    "import scanpy as sc\n",
    "import os\n",
    "import csv\n",
    "import gzip"
   ]
  },
  {
   "cell_type": "code",
   "execution_count": 2,
   "id": "e106e94a",
   "metadata": {},
   "outputs": [],
   "source": [
    "dataset_dir = r\"C:\\Users\\evanlee\\Documents\\Research_datasets\\PBMC_Hao\\GSE164378_Hao\\GSE164378_RAW\\GSM5008740_RNA_3P\"\n",
    "data_file = \"GSM5008737_RNA_3P-matrix.mtx\"\n",
    "var_names_file = \"GSM5008737_RNA_3P-features.tsv\"\n",
    "obs_names_file = \"GSM5008737_RNA_3P-barcodes.tsv\"\n",
    "output_h5ad_file = \"Hao_PBMC_GSE164378.h5ad\"\n",
    "\n",
    "data_path = os.path.join(dataset_dir,data_file)\n",
    "var_names_path = os.path.join(dataset_dir,var_names_file)\n",
    "obs_names_path = os.path.join(dataset_dir,obs_names_file)\n",
    "output_h5ad_path = os.path.join(dataset_dir,output_h5ad_file)"
   ]
  },
  {
   "cell_type": "code",
   "execution_count": 3,
   "id": "eeba932e",
   "metadata": {},
   "outputs": [],
   "source": [
    "with open(var_names_path, \"r\") as var_file:\n",
    "    var_read = csv.reader(var_file, delimiter='\\t')\n",
    "    var_names = []\n",
    "    for row in var_read:\n",
    "        var_names.append(row[1])"
   ]
  },
  {
   "cell_type": "code",
   "execution_count": 4,
   "id": "d6b9bbd9",
   "metadata": {},
   "outputs": [],
   "source": [
    "with open(obs_names_path, \"r\") as obs_file:\n",
    "    obs_read = csv.reader(obs_file, delimiter='\\t')\n",
    "    obs_names = []\n",
    "    for row in obs_read:\n",
    "        obs_names.append(row[0])"
   ]
  },
  {
   "cell_type": "code",
   "execution_count": 5,
   "id": "833e7b47",
   "metadata": {},
   "outputs": [],
   "source": [
    "adata = sc.read(data_path) \n",
    "adata = adata.transpose()"
   ]
  },
  {
   "cell_type": "code",
   "execution_count": 6,
   "id": "033d7217",
   "metadata": {},
   "outputs": [],
   "source": [
    "adata.var_names = var_names\n",
    "adata.var_names_make_unique()\n",
    "adata.obs_names = obs_names\n",
    "adata.obs_names_make_unique()"
   ]
  },
  {
   "cell_type": "code",
   "execution_count": 7,
   "metadata": {},
   "outputs": [
    {
     "data": {
      "text/plain": [
       "(161764, 33538)"
      ]
     },
     "execution_count": 7,
     "metadata": {},
     "output_type": "execute_result"
    }
   ],
   "source": [
    "adata.shape"
   ]
  },
  {
   "cell_type": "code",
   "execution_count": 8,
   "id": "b5fbeb11",
   "metadata": {},
   "outputs": [
    {
     "data": {
      "text/html": [
       "<div>\n",
       "<style scoped>\n",
       "    .dataframe tbody tr th:only-of-type {\n",
       "        vertical-align: middle;\n",
       "    }\n",
       "\n",
       "    .dataframe tbody tr th {\n",
       "        vertical-align: top;\n",
       "    }\n",
       "\n",
       "    .dataframe thead th {\n",
       "        text-align: right;\n",
       "    }\n",
       "</style>\n",
       "<table border=\"1\" class=\"dataframe\">\n",
       "  <thead>\n",
       "    <tr style=\"text-align: right;\">\n",
       "      <th></th>\n",
       "      <th>nCount_ADT</th>\n",
       "      <th>nFeature_ADT</th>\n",
       "      <th>nCount_RNA</th>\n",
       "      <th>nFeature_RNA</th>\n",
       "      <th>orig.ident</th>\n",
       "      <th>lane</th>\n",
       "      <th>donor</th>\n",
       "      <th>time</th>\n",
       "      <th>celltype.l1</th>\n",
       "      <th>celltype.l2</th>\n",
       "      <th>celltype.l3</th>\n",
       "      <th>Phase</th>\n",
       "      <th>Batch</th>\n",
       "    </tr>\n",
       "  </thead>\n",
       "  <tbody>\n",
       "    <tr>\n",
       "      <th>L1_AAACCCAAGAAACTCA</th>\n",
       "      <td>7535</td>\n",
       "      <td>217</td>\n",
       "      <td>10823</td>\n",
       "      <td>2915</td>\n",
       "      <td>SeuratProject</td>\n",
       "      <td>L1</td>\n",
       "      <td>P2</td>\n",
       "      <td>7</td>\n",
       "      <td>Mono</td>\n",
       "      <td>CD14 Mono</td>\n",
       "      <td>CD14 Mono</td>\n",
       "      <td>G1</td>\n",
       "      <td>Batch1</td>\n",
       "    </tr>\n",
       "    <tr>\n",
       "      <th>L1_AAACCCAAGACATACA</th>\n",
       "      <td>6013</td>\n",
       "      <td>209</td>\n",
       "      <td>5864</td>\n",
       "      <td>1617</td>\n",
       "      <td>SeuratProject</td>\n",
       "      <td>L1</td>\n",
       "      <td>P1</td>\n",
       "      <td>7</td>\n",
       "      <td>CD4 T</td>\n",
       "      <td>CD4 TCM</td>\n",
       "      <td>CD4 TCM_1</td>\n",
       "      <td>G1</td>\n",
       "      <td>Batch1</td>\n",
       "    </tr>\n",
       "    <tr>\n",
       "      <th>L1_AAACCCACAACTGGTT</th>\n",
       "      <td>6620</td>\n",
       "      <td>213</td>\n",
       "      <td>5067</td>\n",
       "      <td>1381</td>\n",
       "      <td>SeuratProject</td>\n",
       "      <td>L1</td>\n",
       "      <td>P4</td>\n",
       "      <td>2</td>\n",
       "      <td>CD8 T</td>\n",
       "      <td>CD8 Naive</td>\n",
       "      <td>CD8 Naive</td>\n",
       "      <td>S</td>\n",
       "      <td>Batch1</td>\n",
       "    </tr>\n",
       "    <tr>\n",
       "      <th>L1_AAACCCACACGTACTA</th>\n",
       "      <td>3567</td>\n",
       "      <td>202</td>\n",
       "      <td>4786</td>\n",
       "      <td>1890</td>\n",
       "      <td>SeuratProject</td>\n",
       "      <td>L1</td>\n",
       "      <td>P3</td>\n",
       "      <td>7</td>\n",
       "      <td>NK</td>\n",
       "      <td>NK</td>\n",
       "      <td>NK_2</td>\n",
       "      <td>G1</td>\n",
       "      <td>Batch1</td>\n",
       "    </tr>\n",
       "    <tr>\n",
       "      <th>L1_AAACCCACAGCATACT</th>\n",
       "      <td>6402</td>\n",
       "      <td>215</td>\n",
       "      <td>6505</td>\n",
       "      <td>1621</td>\n",
       "      <td>SeuratProject</td>\n",
       "      <td>L1</td>\n",
       "      <td>P4</td>\n",
       "      <td>7</td>\n",
       "      <td>CD8 T</td>\n",
       "      <td>CD8 Naive</td>\n",
       "      <td>CD8 Naive</td>\n",
       "      <td>G1</td>\n",
       "      <td>Batch1</td>\n",
       "    </tr>\n",
       "  </tbody>\n",
       "</table>\n",
       "</div>"
      ],
      "text/plain": [
       "                     nCount_ADT  nFeature_ADT  nCount_RNA  nFeature_RNA  \\\n",
       "L1_AAACCCAAGAAACTCA        7535           217       10823          2915   \n",
       "L1_AAACCCAAGACATACA        6013           209        5864          1617   \n",
       "L1_AAACCCACAACTGGTT        6620           213        5067          1381   \n",
       "L1_AAACCCACACGTACTA        3567           202        4786          1890   \n",
       "L1_AAACCCACAGCATACT        6402           215        6505          1621   \n",
       "\n",
       "                        orig.ident lane donor  time celltype.l1 celltype.l2  \\\n",
       "L1_AAACCCAAGAAACTCA  SeuratProject   L1    P2     7        Mono   CD14 Mono   \n",
       "L1_AAACCCAAGACATACA  SeuratProject   L1    P1     7       CD4 T     CD4 TCM   \n",
       "L1_AAACCCACAACTGGTT  SeuratProject   L1    P4     2       CD8 T   CD8 Naive   \n",
       "L1_AAACCCACACGTACTA  SeuratProject   L1    P3     7          NK          NK   \n",
       "L1_AAACCCACAGCATACT  SeuratProject   L1    P4     7       CD8 T   CD8 Naive   \n",
       "\n",
       "                    celltype.l3 Phase   Batch  \n",
       "L1_AAACCCAAGAAACTCA   CD14 Mono    G1  Batch1  \n",
       "L1_AAACCCAAGACATACA   CD4 TCM_1    G1  Batch1  \n",
       "L1_AAACCCACAACTGGTT   CD8 Naive     S  Batch1  \n",
       "L1_AAACCCACACGTACTA        NK_2    G1  Batch1  \n",
       "L1_AAACCCACAGCATACT   CD8 Naive    G1  Batch1  "
      ]
     },
     "execution_count": 8,
     "metadata": {},
     "output_type": "execute_result"
    }
   ],
   "source": [
    "import pandas as pd\n",
    "import numpy as np\n",
    "\n",
    "meta = pd.read_csv(r\"C:\\Users\\evanlee\\Documents\\Research_datasets\\PBMC_Hao\\GSE164378_Hao\\GSE164378_sc.meta.data_3P.csv\", index_col=0)\n",
    "meta.head()"
   ]
  },
  {
   "cell_type": "code",
   "execution_count": 9,
   "id": "17b5b4f0",
   "metadata": {},
   "outputs": [],
   "source": [
    "adata.obs['celltype.l1'] = meta['celltype.l1'].tolist()\n",
    "adata.obs['celltype.l2'] = meta['celltype.l2'].tolist()\n",
    "adata.obs['celltype.l3'] = meta['celltype.l3'].tolist()\n",
    "adata.obs['Batch'] = meta['Batch'].tolist()\n",
    "adata.obs['donor'] = meta['donor'].tolist()\n",
    "adata.obs['time'] = meta['time'].tolist()\n",
    "adata.obs['lane'] = meta['lane'].tolist()\n",
    "adata.obs['Phase'] = meta['Phase'].tolist()\n",
    "\n",
    "adata.obs['nCount_ADT'] = meta['nCount_ADT'].tolist()\n",
    "adata.obs['nFeature_ADT'] = meta['nFeature_ADT'].tolist()\n",
    "adata.obs['nCount_RNA'] = meta['nCount_RNA'].tolist()\n",
    "adata.obs['nFeature_RNA'] = meta['nFeature_RNA'].tolist()"
   ]
  },
  {
   "cell_type": "code",
   "execution_count": 10,
   "id": "9cfd1891",
   "metadata": {},
   "outputs": [],
   "source": [
    "# Get rid of spaces\n",
    "adata.obs['celltype.l1'] = adata.obs['celltype.l1'].str.replace(\" \", \"_\")\n",
    "adata.obs['celltype.l2'] = adata.obs['celltype.l2'].str.replace(\" \", \"_\")\n",
    "adata.obs['celltype.l3'] = adata.obs['celltype.l3'].str.replace(\" \", \"_\")"
   ]
  },
  {
   "cell_type": "code",
   "execution_count": 11,
   "metadata": {},
   "outputs": [
    {
     "data": {
      "text/html": [
       "<div>\n",
       "<style scoped>\n",
       "    .dataframe tbody tr th:only-of-type {\n",
       "        vertical-align: middle;\n",
       "    }\n",
       "\n",
       "    .dataframe tbody tr th {\n",
       "        vertical-align: top;\n",
       "    }\n",
       "\n",
       "    .dataframe thead th {\n",
       "        text-align: right;\n",
       "    }\n",
       "</style>\n",
       "<table border=\"1\" class=\"dataframe\">\n",
       "  <thead>\n",
       "    <tr style=\"text-align: right;\">\n",
       "      <th></th>\n",
       "      <th>celltype.l1</th>\n",
       "      <th>celltype.l2</th>\n",
       "      <th>celltype.l3</th>\n",
       "      <th>Batch</th>\n",
       "      <th>donor</th>\n",
       "      <th>time</th>\n",
       "      <th>lane</th>\n",
       "      <th>Phase</th>\n",
       "      <th>nCount_ADT</th>\n",
       "      <th>nFeature_ADT</th>\n",
       "      <th>nCount_RNA</th>\n",
       "      <th>nFeature_RNA</th>\n",
       "    </tr>\n",
       "  </thead>\n",
       "  <tbody>\n",
       "    <tr>\n",
       "      <th>L1_AAACCCAAGAAACTCA</th>\n",
       "      <td>Mono</td>\n",
       "      <td>CD14_Mono</td>\n",
       "      <td>CD14_Mono</td>\n",
       "      <td>Batch1</td>\n",
       "      <td>P2</td>\n",
       "      <td>7</td>\n",
       "      <td>L1</td>\n",
       "      <td>G1</td>\n",
       "      <td>7535</td>\n",
       "      <td>217</td>\n",
       "      <td>10823</td>\n",
       "      <td>2915</td>\n",
       "    </tr>\n",
       "    <tr>\n",
       "      <th>L1_AAACCCAAGACATACA</th>\n",
       "      <td>CD4_T</td>\n",
       "      <td>CD4_TCM</td>\n",
       "      <td>CD4_TCM_1</td>\n",
       "      <td>Batch1</td>\n",
       "      <td>P1</td>\n",
       "      <td>7</td>\n",
       "      <td>L1</td>\n",
       "      <td>G1</td>\n",
       "      <td>6013</td>\n",
       "      <td>209</td>\n",
       "      <td>5864</td>\n",
       "      <td>1617</td>\n",
       "    </tr>\n",
       "    <tr>\n",
       "      <th>L1_AAACCCACAACTGGTT</th>\n",
       "      <td>CD8_T</td>\n",
       "      <td>CD8_Naive</td>\n",
       "      <td>CD8_Naive</td>\n",
       "      <td>Batch1</td>\n",
       "      <td>P4</td>\n",
       "      <td>2</td>\n",
       "      <td>L1</td>\n",
       "      <td>S</td>\n",
       "      <td>6620</td>\n",
       "      <td>213</td>\n",
       "      <td>5067</td>\n",
       "      <td>1381</td>\n",
       "    </tr>\n",
       "    <tr>\n",
       "      <th>L1_AAACCCACACGTACTA</th>\n",
       "      <td>NK</td>\n",
       "      <td>NK</td>\n",
       "      <td>NK_2</td>\n",
       "      <td>Batch1</td>\n",
       "      <td>P3</td>\n",
       "      <td>7</td>\n",
       "      <td>L1</td>\n",
       "      <td>G1</td>\n",
       "      <td>3567</td>\n",
       "      <td>202</td>\n",
       "      <td>4786</td>\n",
       "      <td>1890</td>\n",
       "    </tr>\n",
       "    <tr>\n",
       "      <th>L1_AAACCCACAGCATACT</th>\n",
       "      <td>CD8_T</td>\n",
       "      <td>CD8_Naive</td>\n",
       "      <td>CD8_Naive</td>\n",
       "      <td>Batch1</td>\n",
       "      <td>P4</td>\n",
       "      <td>7</td>\n",
       "      <td>L1</td>\n",
       "      <td>G1</td>\n",
       "      <td>6402</td>\n",
       "      <td>215</td>\n",
       "      <td>6505</td>\n",
       "      <td>1621</td>\n",
       "    </tr>\n",
       "  </tbody>\n",
       "</table>\n",
       "</div>"
      ],
      "text/plain": [
       "                    celltype.l1 celltype.l2 celltype.l3   Batch donor  time  \\\n",
       "L1_AAACCCAAGAAACTCA        Mono   CD14_Mono   CD14_Mono  Batch1    P2     7   \n",
       "L1_AAACCCAAGACATACA       CD4_T     CD4_TCM   CD4_TCM_1  Batch1    P1     7   \n",
       "L1_AAACCCACAACTGGTT       CD8_T   CD8_Naive   CD8_Naive  Batch1    P4     2   \n",
       "L1_AAACCCACACGTACTA          NK          NK        NK_2  Batch1    P3     7   \n",
       "L1_AAACCCACAGCATACT       CD8_T   CD8_Naive   CD8_Naive  Batch1    P4     7   \n",
       "\n",
       "                    lane Phase  nCount_ADT  nFeature_ADT  nCount_RNA  \\\n",
       "L1_AAACCCAAGAAACTCA   L1    G1        7535           217       10823   \n",
       "L1_AAACCCAAGACATACA   L1    G1        6013           209        5864   \n",
       "L1_AAACCCACAACTGGTT   L1     S        6620           213        5067   \n",
       "L1_AAACCCACACGTACTA   L1    G1        3567           202        4786   \n",
       "L1_AAACCCACAGCATACT   L1    G1        6402           215        6505   \n",
       "\n",
       "                     nFeature_RNA  \n",
       "L1_AAACCCAAGAAACTCA          2915  \n",
       "L1_AAACCCAAGACATACA          1617  \n",
       "L1_AAACCCACAACTGGTT          1381  \n",
       "L1_AAACCCACACGTACTA          1890  \n",
       "L1_AAACCCACAGCATACT          1621  "
      ]
     },
     "execution_count": 11,
     "metadata": {},
     "output_type": "execute_result"
    }
   ],
   "source": [
    "adata.obs.head()"
   ]
  },
  {
   "cell_type": "code",
   "execution_count": 12,
   "metadata": {},
   "outputs": [
    {
     "name": "stdout",
     "output_type": "stream",
     "text": [
      "Row 0, Column 12, Value 1.0\n",
      "Row 0, Column 43, Value 2.0\n",
      "Row 0, Column 48, Value 2.0\n",
      "Row 0, Column 53, Value 2.0\n",
      "Row 0, Column 55, Value 5.0\n",
      "Row 0, Column 66, Value 1.0\n",
      "Row 0, Column 77, Value 2.0\n",
      "Row 0, Column 78, Value 5.0\n",
      "Row 0, Column 89, Value 2.0\n",
      "Row 0, Column 93, Value 3.0\n",
      "Row 0, Column 102, Value 2.0\n",
      "Row 0, Column 154, Value 17.0\n",
      "Row 0, Column 178, Value 2.0\n",
      "Row 0, Column 185, Value 1.0\n",
      "Row 0, Column 190, Value 1.0\n",
      "Row 0, Column 201, Value 8.0\n",
      "Row 0, Column 224, Value 2.0\n",
      "Row 0, Column 240, Value 1.0\n",
      "Row 0, Column 259, Value 1.0\n",
      "Row 0, Column 261, Value 6.0\n"
     ]
    }
   ],
   "source": [
    "# Briefly view adata.X (raw counts)\n",
    "rows, cols = adata.X[:5,:].nonzero()\n",
    "i = 0\n",
    "for row, col in zip(rows, cols):\n",
    "    if i == 20: break\n",
    "    print(f'Row {row}, Column {col}, Value {adata.X[row, col]}')\n",
    "    i += 1\n"
   ]
  },
  {
   "cell_type": "code",
   "execution_count": 13,
   "id": "9e2cd9b2",
   "metadata": {},
   "outputs": [],
   "source": [
    "output_h5ad_path = r\"C:\\Users\\evanlee\\Documents\\Research_datasets\\PBMC_Hao\\GSE164378_Hao\\Hao_PBMC_GSE164378_raw.h5ad\"\n",
    "adata.write(filename=output_h5ad_path)"
   ]
  },
  {
   "cell_type": "code",
   "execution_count": 14,
   "metadata": {},
   "outputs": [
    {
     "data": {
      "text/plain": [
       "(161764, 33538)"
      ]
     },
     "execution_count": 14,
     "metadata": {},
     "output_type": "execute_result"
    }
   ],
   "source": [
    "adata.shape"
   ]
  }
 ],
 "metadata": {
  "kernelspec": {
   "display_name": "base",
   "language": "python",
   "name": "python3"
  },
  "language_info": {
   "codemirror_mode": {
    "name": "ipython",
    "version": 3
   },
   "file_extension": ".py",
   "mimetype": "text/x-python",
   "name": "python",
   "nbconvert_exporter": "python",
   "pygments_lexer": "ipython3",
   "version": "3.9.12"
  }
 },
 "nbformat": 4,
 "nbformat_minor": 5
}

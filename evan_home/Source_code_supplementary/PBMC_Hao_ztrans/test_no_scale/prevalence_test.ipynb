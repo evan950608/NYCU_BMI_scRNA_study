{
 "cells": [
  {
   "cell_type": "code",
   "execution_count": 1,
   "metadata": {},
   "outputs": [],
   "source": [
    "import os\n",
    "import sys\n",
    "import numpy as np\n",
    "import pandas as pd\n",
    "import matplotlib.pyplot as plt\n",
    "import json\n",
    "# sys.path.append('/home/jovyan/work/GitHub/EvanPys/Progress')\n",
    "sys.path.append(r'C:\\Users\\evanlee\\Documents\\GitHub\\EvanPys\\Progress')\n",
    "# sys.path.append('/Users/evanli/Documents/EvanPys/Progress')\n",
    "from ADlasso2 import AD2_w_utils_lossdiff as ad\n",
    "\n",
    "import scanpy as sc"
   ]
  },
  {
   "cell_type": "code",
   "execution_count": 2,
   "metadata": {},
   "outputs": [
    {
     "name": "stdout",
     "output_type": "stream",
     "text": [
      "(59897, 27504)\n",
      "all cell types: ['B', 'CD4_T', 'CD8_T', 'DC', 'Mono', 'NK', 'other', 'other_T']\n"
     ]
    },
    {
     "data": {
      "text/html": [
       "<div>\n",
       "<style scoped>\n",
       "    .dataframe tbody tr th:only-of-type {\n",
       "        vertical-align: middle;\n",
       "    }\n",
       "\n",
       "    .dataframe tbody tr th {\n",
       "        vertical-align: top;\n",
       "    }\n",
       "\n",
       "    .dataframe thead th {\n",
       "        text-align: right;\n",
       "    }\n",
       "</style>\n",
       "<table border=\"1\" class=\"dataframe\">\n",
       "  <thead>\n",
       "    <tr style=\"text-align: right;\">\n",
       "      <th></th>\n",
       "      <th>celltype.l1</th>\n",
       "      <th>celltype.l2</th>\n",
       "      <th>celltype.l3</th>\n",
       "      <th>Batch</th>\n",
       "      <th>donor</th>\n",
       "      <th>time</th>\n",
       "      <th>lane</th>\n",
       "      <th>Phase</th>\n",
       "      <th>nCount_ADT</th>\n",
       "      <th>nFeature_ADT</th>\n",
       "      <th>nCount_RNA</th>\n",
       "      <th>nFeature_RNA</th>\n",
       "      <th>leiden</th>\n",
       "      <th>is_representative</th>\n",
       "      <th>cluster_representative</th>\n",
       "    </tr>\n",
       "  </thead>\n",
       "  <tbody>\n",
       "    <tr>\n",
       "      <th>L1_AAACCCACAACTGGTT</th>\n",
       "      <td>CD8_T</td>\n",
       "      <td>CD8_Naive</td>\n",
       "      <td>CD8_Naive</td>\n",
       "      <td>Batch1</td>\n",
       "      <td>P4</td>\n",
       "      <td>2</td>\n",
       "      <td>L1</td>\n",
       "      <td>S</td>\n",
       "      <td>6620</td>\n",
       "      <td>213</td>\n",
       "      <td>5067</td>\n",
       "      <td>1381</td>\n",
       "      <td>5</td>\n",
       "      <td>Yes</td>\n",
       "      <td>Yes_CD8_T</td>\n",
       "    </tr>\n",
       "    <tr>\n",
       "      <th>L1_AAACCCACATCAGTCA</th>\n",
       "      <td>CD8_T</td>\n",
       "      <td>CD8_TEM</td>\n",
       "      <td>CD8_TEM_1</td>\n",
       "      <td>Batch1</td>\n",
       "      <td>P3</td>\n",
       "      <td>2</td>\n",
       "      <td>L1</td>\n",
       "      <td>G1</td>\n",
       "      <td>5297</td>\n",
       "      <td>212</td>\n",
       "      <td>4332</td>\n",
       "      <td>1633</td>\n",
       "      <td>6</td>\n",
       "      <td>Yes</td>\n",
       "      <td>Yes_CD8_T</td>\n",
       "    </tr>\n",
       "    <tr>\n",
       "      <th>L1_AAACCCACATGGATCT</th>\n",
       "      <td>B</td>\n",
       "      <td>B_intermediate</td>\n",
       "      <td>B_intermediate_lambda</td>\n",
       "      <td>Batch1</td>\n",
       "      <td>P4</td>\n",
       "      <td>2</td>\n",
       "      <td>L1</td>\n",
       "      <td>G1</td>\n",
       "      <td>8210</td>\n",
       "      <td>222</td>\n",
       "      <td>3589</td>\n",
       "      <td>1122</td>\n",
       "      <td>10</td>\n",
       "      <td>Yes</td>\n",
       "      <td>Yes_B</td>\n",
       "    </tr>\n",
       "    <tr>\n",
       "      <th>L1_AAACCCAGTGGAACAC</th>\n",
       "      <td>NK</td>\n",
       "      <td>NK</td>\n",
       "      <td>NK_2</td>\n",
       "      <td>Batch1</td>\n",
       "      <td>P1</td>\n",
       "      <td>2</td>\n",
       "      <td>L1</td>\n",
       "      <td>G2M</td>\n",
       "      <td>2847</td>\n",
       "      <td>201</td>\n",
       "      <td>3251</td>\n",
       "      <td>1375</td>\n",
       "      <td>3</td>\n",
       "      <td>Yes</td>\n",
       "      <td>Yes_NK</td>\n",
       "    </tr>\n",
       "    <tr>\n",
       "      <th>L1_AAACGAAAGTTGAATG</th>\n",
       "      <td>other_T</td>\n",
       "      <td>MAIT</td>\n",
       "      <td>MAIT</td>\n",
       "      <td>Batch1</td>\n",
       "      <td>P3</td>\n",
       "      <td>7</td>\n",
       "      <td>L1</td>\n",
       "      <td>S</td>\n",
       "      <td>3978</td>\n",
       "      <td>210</td>\n",
       "      <td>3543</td>\n",
       "      <td>1255</td>\n",
       "      <td>7</td>\n",
       "      <td>Yes</td>\n",
       "      <td>Yes_other_T</td>\n",
       "    </tr>\n",
       "  </tbody>\n",
       "</table>\n",
       "</div>"
      ],
      "text/plain": [
       "                    celltype.l1     celltype.l2            celltype.l3  \\\n",
       "L1_AAACCCACAACTGGTT       CD8_T       CD8_Naive              CD8_Naive   \n",
       "L1_AAACCCACATCAGTCA       CD8_T         CD8_TEM              CD8_TEM_1   \n",
       "L1_AAACCCACATGGATCT           B  B_intermediate  B_intermediate_lambda   \n",
       "L1_AAACCCAGTGGAACAC          NK              NK                   NK_2   \n",
       "L1_AAACGAAAGTTGAATG     other_T            MAIT                   MAIT   \n",
       "\n",
       "                      Batch donor  time lane Phase  nCount_ADT  nFeature_ADT  \\\n",
       "L1_AAACCCACAACTGGTT  Batch1    P4     2   L1     S        6620           213   \n",
       "L1_AAACCCACATCAGTCA  Batch1    P3     2   L1    G1        5297           212   \n",
       "L1_AAACCCACATGGATCT  Batch1    P4     2   L1    G1        8210           222   \n",
       "L1_AAACCCAGTGGAACAC  Batch1    P1     2   L1   G2M        2847           201   \n",
       "L1_AAACGAAAGTTGAATG  Batch1    P3     7   L1     S        3978           210   \n",
       "\n",
       "                     nCount_RNA  nFeature_RNA leiden is_representative  \\\n",
       "L1_AAACCCACAACTGGTT        5067          1381      5               Yes   \n",
       "L1_AAACCCACATCAGTCA        4332          1633      6               Yes   \n",
       "L1_AAACCCACATGGATCT        3589          1122     10               Yes   \n",
       "L1_AAACCCAGTGGAACAC        3251          1375      3               Yes   \n",
       "L1_AAACGAAAGTTGAATG        3543          1255      7               Yes   \n",
       "\n",
       "                    cluster_representative  \n",
       "L1_AAACCCACAACTGGTT              Yes_CD8_T  \n",
       "L1_AAACCCACATCAGTCA              Yes_CD8_T  \n",
       "L1_AAACCCACATGGATCT                  Yes_B  \n",
       "L1_AAACCCAGTGGAACAC                 Yes_NK  \n",
       "L1_AAACGAAAGTTGAATG            Yes_other_T  "
      ]
     },
     "execution_count": 2,
     "metadata": {},
     "output_type": "execute_result"
    }
   ],
   "source": [
    "ztrans_L1 = sc.read_h5ad(r\"C:\\Users\\evanlee\\Documents\\Research_datasets\\PBMC_Hao\\GSE164378_Hao\\Harmony_and_ztrans\\Hao_L1_repcells_loginv_Harmony_ztrans.h5ad\")\n",
    "print(ztrans_L1.shape)\n",
    "label_z = ztrans_L1.obs['celltype.l1'].tolist()\n",
    "types = np.unique(label_z).tolist()\n",
    "print('all cell types:', types)\n",
    "ztrans_L1.obs.head()"
   ]
  },
  {
   "cell_type": "code",
   "execution_count": 3,
   "metadata": {},
   "outputs": [
    {
     "name": "stdout",
     "output_type": "stream",
     "text": [
      "(161764, 33538)\n",
      "(59897, 27504)\n"
     ]
    },
    {
     "data": {
      "text/html": [
       "<div>\n",
       "<style scoped>\n",
       "    .dataframe tbody tr th:only-of-type {\n",
       "        vertical-align: middle;\n",
       "    }\n",
       "\n",
       "    .dataframe tbody tr th {\n",
       "        vertical-align: top;\n",
       "    }\n",
       "\n",
       "    .dataframe thead th {\n",
       "        text-align: right;\n",
       "    }\n",
       "</style>\n",
       "<table border=\"1\" class=\"dataframe\">\n",
       "  <thead>\n",
       "    <tr style=\"text-align: right;\">\n",
       "      <th></th>\n",
       "      <th>celltype.l1</th>\n",
       "      <th>celltype.l2</th>\n",
       "      <th>celltype.l3</th>\n",
       "      <th>Batch</th>\n",
       "      <th>donor</th>\n",
       "      <th>time</th>\n",
       "      <th>lane</th>\n",
       "      <th>Phase</th>\n",
       "      <th>nCount_ADT</th>\n",
       "      <th>nFeature_ADT</th>\n",
       "      <th>nCount_RNA</th>\n",
       "      <th>nFeature_RNA</th>\n",
       "    </tr>\n",
       "  </thead>\n",
       "  <tbody>\n",
       "    <tr>\n",
       "      <th>L1_AAACCCACAACTGGTT</th>\n",
       "      <td>CD8_T</td>\n",
       "      <td>CD8_Naive</td>\n",
       "      <td>CD8_Naive</td>\n",
       "      <td>Batch1</td>\n",
       "      <td>P4</td>\n",
       "      <td>2</td>\n",
       "      <td>L1</td>\n",
       "      <td>S</td>\n",
       "      <td>6620</td>\n",
       "      <td>213</td>\n",
       "      <td>5067</td>\n",
       "      <td>1381</td>\n",
       "    </tr>\n",
       "    <tr>\n",
       "      <th>L1_AAACCCACATCAGTCA</th>\n",
       "      <td>CD8_T</td>\n",
       "      <td>CD8_TEM</td>\n",
       "      <td>CD8_TEM_1</td>\n",
       "      <td>Batch1</td>\n",
       "      <td>P3</td>\n",
       "      <td>2</td>\n",
       "      <td>L1</td>\n",
       "      <td>G1</td>\n",
       "      <td>5297</td>\n",
       "      <td>212</td>\n",
       "      <td>4332</td>\n",
       "      <td>1633</td>\n",
       "    </tr>\n",
       "    <tr>\n",
       "      <th>L1_AAACCCACATGGATCT</th>\n",
       "      <td>B</td>\n",
       "      <td>B_intermediate</td>\n",
       "      <td>B_intermediate_lambda</td>\n",
       "      <td>Batch1</td>\n",
       "      <td>P4</td>\n",
       "      <td>2</td>\n",
       "      <td>L1</td>\n",
       "      <td>G1</td>\n",
       "      <td>8210</td>\n",
       "      <td>222</td>\n",
       "      <td>3589</td>\n",
       "      <td>1122</td>\n",
       "    </tr>\n",
       "    <tr>\n",
       "      <th>L1_AAACCCAGTGGAACAC</th>\n",
       "      <td>NK</td>\n",
       "      <td>NK</td>\n",
       "      <td>NK_2</td>\n",
       "      <td>Batch1</td>\n",
       "      <td>P1</td>\n",
       "      <td>2</td>\n",
       "      <td>L1</td>\n",
       "      <td>G2M</td>\n",
       "      <td>2847</td>\n",
       "      <td>201</td>\n",
       "      <td>3251</td>\n",
       "      <td>1375</td>\n",
       "    </tr>\n",
       "    <tr>\n",
       "      <th>L1_AAACGAAAGTTGAATG</th>\n",
       "      <td>other_T</td>\n",
       "      <td>MAIT</td>\n",
       "      <td>MAIT</td>\n",
       "      <td>Batch1</td>\n",
       "      <td>P3</td>\n",
       "      <td>7</td>\n",
       "      <td>L1</td>\n",
       "      <td>S</td>\n",
       "      <td>3978</td>\n",
       "      <td>210</td>\n",
       "      <td>3543</td>\n",
       "      <td>1255</td>\n",
       "    </tr>\n",
       "  </tbody>\n",
       "</table>\n",
       "</div>"
      ],
      "text/plain": [
       "                    celltype.l1     celltype.l2            celltype.l3  \\\n",
       "L1_AAACCCACAACTGGTT       CD8_T       CD8_Naive              CD8_Naive   \n",
       "L1_AAACCCACATCAGTCA       CD8_T         CD8_TEM              CD8_TEM_1   \n",
       "L1_AAACCCACATGGATCT           B  B_intermediate  B_intermediate_lambda   \n",
       "L1_AAACCCAGTGGAACAC          NK              NK                   NK_2   \n",
       "L1_AAACGAAAGTTGAATG     other_T            MAIT                   MAIT   \n",
       "\n",
       "                      Batch donor  time lane Phase  nCount_ADT  nFeature_ADT  \\\n",
       "L1_AAACCCACAACTGGTT  Batch1    P4     2   L1     S        6620           213   \n",
       "L1_AAACCCACATCAGTCA  Batch1    P3     2   L1    G1        5297           212   \n",
       "L1_AAACCCACATGGATCT  Batch1    P4     2   L1    G1        8210           222   \n",
       "L1_AAACCCAGTGGAACAC  Batch1    P1     2   L1   G2M        2847           201   \n",
       "L1_AAACGAAAGTTGAATG  Batch1    P3     7   L1     S        3978           210   \n",
       "\n",
       "                     nCount_RNA  nFeature_RNA  \n",
       "L1_AAACCCACAACTGGTT        5067          1381  \n",
       "L1_AAACCCACATCAGTCA        4332          1633  \n",
       "L1_AAACCCACATGGATCT        3589          1122  \n",
       "L1_AAACCCAGTGGAACAC        3251          1375  \n",
       "L1_AAACGAAAGTTGAATG        3543          1255  "
      ]
     },
     "execution_count": 3,
     "metadata": {},
     "output_type": "execute_result"
    }
   ],
   "source": [
    "raw_count = sc.read_h5ad(r\"C:\\Users\\evanlee\\Documents\\Research_datasets\\PBMC_Hao\\GSE164378_Hao\\Hao_PBMC_GSE164378_raw.h5ad\")\n",
    "print(raw_count.shape)\n",
    "raw_L1 = raw_count[ztrans_L1.obs_names, ztrans_L1.var_names]\n",
    "print(raw_L1.shape)\n",
    "raw_L1.obs.head()"
   ]
  },
  {
   "cell_type": "code",
   "execution_count": 4,
   "metadata": {},
   "outputs": [
    {
     "data": {
      "text/plain": [
       "59897"
      ]
     },
     "execution_count": 4,
     "metadata": {},
     "output_type": "execute_result"
    }
   ],
   "source": [
    "sum(ztrans_L1.obs_names == raw_L1.obs_names)"
   ]
  },
  {
   "cell_type": "code",
   "execution_count": 5,
   "metadata": {},
   "outputs": [
    {
     "data": {
      "text/plain": [
       "27504"
      ]
     },
     "execution_count": 5,
     "metadata": {},
     "output_type": "execute_result"
    }
   ],
   "source": [
    "sum(ztrans_L1.var_names == raw_L1.var_names)"
   ]
  },
  {
   "cell_type": "code",
   "execution_count": 6,
   "metadata": {},
   "outputs": [
    {
     "name": "stdout",
     "output_type": "stream",
     "text": [
      "(59897, 27504)\n",
      "all cell types: ['B', 'CD4_T', 'CD8_T', 'DC', 'Mono', 'NK', 'other', 'other_T']\n"
     ]
    },
    {
     "data": {
      "text/html": [
       "<div>\n",
       "<style scoped>\n",
       "    .dataframe tbody tr th:only-of-type {\n",
       "        vertical-align: middle;\n",
       "    }\n",
       "\n",
       "    .dataframe tbody tr th {\n",
       "        vertical-align: top;\n",
       "    }\n",
       "\n",
       "    .dataframe thead th {\n",
       "        text-align: right;\n",
       "    }\n",
       "</style>\n",
       "<table border=\"1\" class=\"dataframe\">\n",
       "  <thead>\n",
       "    <tr style=\"text-align: right;\">\n",
       "      <th></th>\n",
       "      <th>celltype.l1</th>\n",
       "      <th>celltype.l2</th>\n",
       "      <th>celltype.l3</th>\n",
       "      <th>Batch</th>\n",
       "      <th>donor</th>\n",
       "      <th>time</th>\n",
       "      <th>lane</th>\n",
       "      <th>Phase</th>\n",
       "      <th>nCount_ADT</th>\n",
       "      <th>nFeature_ADT</th>\n",
       "      <th>nCount_RNA</th>\n",
       "      <th>nFeature_RNA</th>\n",
       "      <th>leiden</th>\n",
       "      <th>is_representative</th>\n",
       "      <th>cluster_representative</th>\n",
       "    </tr>\n",
       "  </thead>\n",
       "  <tbody>\n",
       "    <tr>\n",
       "      <th>L1_AAACCCACAACTGGTT</th>\n",
       "      <td>CD8_T</td>\n",
       "      <td>CD8_Naive</td>\n",
       "      <td>CD8_Naive</td>\n",
       "      <td>Batch1</td>\n",
       "      <td>P4</td>\n",
       "      <td>2</td>\n",
       "      <td>L1</td>\n",
       "      <td>S</td>\n",
       "      <td>6620</td>\n",
       "      <td>213</td>\n",
       "      <td>5067</td>\n",
       "      <td>1381</td>\n",
       "      <td>5</td>\n",
       "      <td>Yes</td>\n",
       "      <td>Yes_CD8_T</td>\n",
       "    </tr>\n",
       "    <tr>\n",
       "      <th>L1_AAACCCACATCAGTCA</th>\n",
       "      <td>CD8_T</td>\n",
       "      <td>CD8_TEM</td>\n",
       "      <td>CD8_TEM_1</td>\n",
       "      <td>Batch1</td>\n",
       "      <td>P3</td>\n",
       "      <td>2</td>\n",
       "      <td>L1</td>\n",
       "      <td>G1</td>\n",
       "      <td>5297</td>\n",
       "      <td>212</td>\n",
       "      <td>4332</td>\n",
       "      <td>1633</td>\n",
       "      <td>6</td>\n",
       "      <td>Yes</td>\n",
       "      <td>Yes_CD8_T</td>\n",
       "    </tr>\n",
       "    <tr>\n",
       "      <th>L1_AAACCCAGTGGAACAC</th>\n",
       "      <td>NK</td>\n",
       "      <td>NK</td>\n",
       "      <td>NK_2</td>\n",
       "      <td>Batch1</td>\n",
       "      <td>P1</td>\n",
       "      <td>2</td>\n",
       "      <td>L1</td>\n",
       "      <td>G2M</td>\n",
       "      <td>2847</td>\n",
       "      <td>201</td>\n",
       "      <td>3251</td>\n",
       "      <td>1375</td>\n",
       "      <td>3</td>\n",
       "      <td>Yes</td>\n",
       "      <td>Yes_NK</td>\n",
       "    </tr>\n",
       "    <tr>\n",
       "      <th>L1_AAACGAAAGGCCCAAA</th>\n",
       "      <td>Mono</td>\n",
       "      <td>CD14_Mono</td>\n",
       "      <td>CD14_Mono</td>\n",
       "      <td>Batch1</td>\n",
       "      <td>P4</td>\n",
       "      <td>0</td>\n",
       "      <td>L1</td>\n",
       "      <td>G1</td>\n",
       "      <td>8989</td>\n",
       "      <td>221</td>\n",
       "      <td>6866</td>\n",
       "      <td>2000</td>\n",
       "      <td>0</td>\n",
       "      <td>Yes</td>\n",
       "      <td>Yes_Mono</td>\n",
       "    </tr>\n",
       "    <tr>\n",
       "      <th>L1_AAACGAAAGTTGAATG</th>\n",
       "      <td>other_T</td>\n",
       "      <td>MAIT</td>\n",
       "      <td>MAIT</td>\n",
       "      <td>Batch1</td>\n",
       "      <td>P3</td>\n",
       "      <td>7</td>\n",
       "      <td>L1</td>\n",
       "      <td>S</td>\n",
       "      <td>3978</td>\n",
       "      <td>210</td>\n",
       "      <td>3543</td>\n",
       "      <td>1255</td>\n",
       "      <td>7</td>\n",
       "      <td>Yes</td>\n",
       "      <td>Yes_other_T</td>\n",
       "    </tr>\n",
       "  </tbody>\n",
       "</table>\n",
       "</div>"
      ],
      "text/plain": [
       "                    celltype.l1 celltype.l2 celltype.l3   Batch donor  time  \\\n",
       "L1_AAACCCACAACTGGTT       CD8_T   CD8_Naive   CD8_Naive  Batch1    P4     2   \n",
       "L1_AAACCCACATCAGTCA       CD8_T     CD8_TEM   CD8_TEM_1  Batch1    P3     2   \n",
       "L1_AAACCCAGTGGAACAC          NK          NK        NK_2  Batch1    P1     2   \n",
       "L1_AAACGAAAGGCCCAAA        Mono   CD14_Mono   CD14_Mono  Batch1    P4     0   \n",
       "L1_AAACGAAAGTTGAATG     other_T        MAIT        MAIT  Batch1    P3     7   \n",
       "\n",
       "                    lane Phase  nCount_ADT  nFeature_ADT  nCount_RNA  \\\n",
       "L1_AAACCCACAACTGGTT   L1     S        6620           213        5067   \n",
       "L1_AAACCCACATCAGTCA   L1    G1        5297           212        4332   \n",
       "L1_AAACCCAGTGGAACAC   L1   G2M        2847           201        3251   \n",
       "L1_AAACGAAAGGCCCAAA   L1    G1        8989           221        6866   \n",
       "L1_AAACGAAAGTTGAATG   L1     S        3978           210        3543   \n",
       "\n",
       "                     nFeature_RNA leiden is_representative  \\\n",
       "L1_AAACCCACAACTGGTT          1381      5               Yes   \n",
       "L1_AAACCCACATCAGTCA          1633      6               Yes   \n",
       "L1_AAACCCAGTGGAACAC          1375      3               Yes   \n",
       "L1_AAACGAAAGGCCCAAA          2000      0               Yes   \n",
       "L1_AAACGAAAGTTGAATG          1255      7               Yes   \n",
       "\n",
       "                    cluster_representative  \n",
       "L1_AAACCCACAACTGGTT              Yes_CD8_T  \n",
       "L1_AAACCCACATCAGTCA              Yes_CD8_T  \n",
       "L1_AAACCCAGTGGAACAC                 Yes_NK  \n",
       "L1_AAACGAAAGGCCCAAA               Yes_Mono  \n",
       "L1_AAACGAAAGTTGAATG            Yes_other_T  "
      ]
     },
     "execution_count": 6,
     "metadata": {},
     "output_type": "execute_result"
    }
   ],
   "source": [
    "no_scale_L1 = sc.read_h5ad(r\"C:\\Users\\evanlee\\Documents\\Research_datasets\\PBMC_Hao\\GSE164378_Hao\\Harmony_and_ztrans\\Hao_L1_repcells_test_no_scale.h5ad\")\n",
    "print(no_scale_L1.shape)\n",
    "label_no = no_scale_L1.obs['celltype.l1'].tolist()\n",
    "types = np.unique(label_no).tolist()\n",
    "print('all cell types:', types)\n",
    "no_scale_L1.obs.head()"
   ]
  },
  {
   "cell_type": "code",
   "execution_count": 7,
   "metadata": {},
   "outputs": [
    {
     "data": {
      "text/plain": [
       "array([0.        , 0.        , 0.00224215, ..., 0.00971599, 0.03998505,\n",
       "       0.        ])"
      ]
     },
     "execution_count": 7,
     "metadata": {},
     "output_type": "execute_result"
    }
   ],
   "source": [
    "# Prevalence for ztrans\n",
    "celltype = 'B'\n",
    "celltype_label = [1 if x == celltype else 0 for x in label_z]\n",
    "class_content = np.unique(celltype_label)\n",
    "y = np.array([0 if yi==class_content[0] else 1 for yi in celltype_label])\n",
    "celltype_indices_z = [idx for idx, label in enumerate(y) if label == 1]\n",
    "\n",
    "prevalence_z = ad.get_prevalence(raw_L1.X, celltype_indices_z)\n",
    "prevalence_z"
   ]
  },
  {
   "cell_type": "code",
   "execution_count": 17,
   "metadata": {},
   "outputs": [
    {
     "data": {
      "text/plain": [
       "array([0.        , 0.        , 0.00224215, ..., 0.00971599, 0.03998505,\n",
       "       0.        ])"
      ]
     },
     "execution_count": 17,
     "metadata": {},
     "output_type": "execute_result"
    }
   ],
   "source": [
    "label_raw = raw_L1.obs['celltype.l1'].tolist()\n",
    "\n",
    "celltype = 'B'\n",
    "celltype_label = [1 if x == celltype else 0 for x in label_raw]\n",
    "class_content = np.unique(celltype_label)\n",
    "y = np.array([0 if yi==class_content[0] else 1 for yi in celltype_label])\n",
    "celltype_indices_raw = [idx for idx, label in enumerate(y) if label == 1]\n",
    "\n",
    "prevalence_raw = ad.get_prevalence(raw_L1.X, celltype_indices_raw)\n",
    "prevalence_raw"
   ]
  },
  {
   "cell_type": "code",
   "execution_count": 8,
   "metadata": {},
   "outputs": [
    {
     "data": {
      "text/plain": [
       "celltype.l1\n",
       "CD4_T      10404\n",
       "CD8_T      10116\n",
       "Mono        9802\n",
       "NK          9161\n",
       "B           8028\n",
       "other_T     5400\n",
       "DC          3544\n",
       "other       3442\n",
       "Name: count, dtype: int64"
      ]
     },
     "execution_count": 8,
     "metadata": {},
     "output_type": "execute_result"
    }
   ],
   "source": [
    "ztrans_L1.obs['celltype.l1'].value_counts()"
   ]
  },
  {
   "cell_type": "code",
   "execution_count": 9,
   "metadata": {},
   "outputs": [
    {
     "data": {
      "text/plain": [
       "array([0.        , 0.        , 0.00224215, ..., 0.0093423 , 0.03998505,\n",
       "       0.        ])"
      ]
     },
     "execution_count": 9,
     "metadata": {},
     "output_type": "execute_result"
    }
   ],
   "source": [
    "# Prevalence for no scaled\n",
    "celltype = 'B'\n",
    "celltype_label = [1 if x == celltype else 0 for x in label_no]\n",
    "class_content = np.unique(celltype_label)\n",
    "y = np.array([0 if yi==class_content[0] else 1 for yi in celltype_label])\n",
    "celltype_indices_no = [idx for idx, label in enumerate(y) if label == 1]\n",
    "\n",
    "prevalence_no = ad.get_prevalence(no_scale_L1.X, celltype_indices_no)\n",
    "prevalence_no"
   ]
  },
  {
   "cell_type": "code",
   "execution_count": 10,
   "metadata": {},
   "outputs": [
    {
     "data": {
      "text/plain": [
       "anndata._core.views.SparseCSCView"
      ]
     },
     "execution_count": 10,
     "metadata": {},
     "output_type": "execute_result"
    }
   ],
   "source": [
    "type(raw_L1.X)"
   ]
  },
  {
   "cell_type": "code",
   "execution_count": 11,
   "metadata": {},
   "outputs": [
    {
     "data": {
      "text/plain": [
       "scipy.sparse._csc.csc_matrix"
      ]
     },
     "execution_count": 11,
     "metadata": {},
     "output_type": "execute_result"
    }
   ],
   "source": [
    "type(no_scale_L1.X)"
   ]
  },
  {
   "cell_type": "code",
   "execution_count": 12,
   "metadata": {},
   "outputs": [
    {
     "data": {
      "text/plain": [
       "True"
      ]
     },
     "execution_count": 12,
     "metadata": {},
     "output_type": "execute_result"
    }
   ],
   "source": [
    "from scipy.sparse import csc_matrix\n",
    "isinstance(no_scale_L1.X, csc_matrix)"
   ]
  },
  {
   "cell_type": "code",
   "execution_count": 13,
   "metadata": {},
   "outputs": [
    {
     "data": {
      "text/plain": [
       "False"
      ]
     },
     "execution_count": 13,
     "metadata": {},
     "output_type": "execute_result"
    }
   ],
   "source": [
    "# Are the prevalence the same between ztrans and no_scale?\n",
    "np.allclose(prevalence_z, prevalence_no)"
   ]
  },
  {
   "cell_type": "code",
   "execution_count": 15,
   "metadata": {},
   "outputs": [
    {
     "name": "stdout",
     "output_type": "stream",
     "text": [
      "[2, 17, 19, 21, 30, 32, 33, 38, 74, 78, 83, 86, 109, 126, 139, 142, 152, 157, 161, 168, 171, 177, 180, 184, 188, 204, 206, 231, 234, 236, 248, 254, 279, 287, 291, 316, 317, 329, 334, 349, 352, 356, 379, 394, 401, 405, 412, 417, 433, 457]\n"
     ]
    }
   ],
   "source": [
    "print(celltype_indices_z[:50])"
   ]
  },
  {
   "cell_type": "code",
   "execution_count": 18,
   "metadata": {},
   "outputs": [
    {
     "name": "stdout",
     "output_type": "stream",
     "text": [
      "[2, 17, 19, 21, 30, 32, 33, 38, 74, 78, 83, 86, 109, 126, 139, 142, 152, 157, 161, 168, 171, 177, 180, 184, 188, 204, 206, 231, 234, 236, 248, 254, 279, 287, 291, 316, 317, 329, 334, 349, 352, 356, 379, 394, 401, 405, 412, 417, 433, 457]\n"
     ]
    }
   ],
   "source": [
    "print(celltype_indices_raw[:50])"
   ]
  },
  {
   "cell_type": "code",
   "execution_count": 16,
   "metadata": {},
   "outputs": [
    {
     "name": "stdout",
     "output_type": "stream",
     "text": [
      "[14, 16, 18, 29, 31, 32, 37, 69, 73, 79, 82, 104, 121, 133, 143, 147, 150, 158, 161, 169, 172, 178, 182, 196, 198, 219, 222, 225, 227, 240, 248, 266, 272, 279, 283, 307, 308, 319, 324, 340, 343, 346, 368, 380, 387, 391, 397, 401, 420, 444]\n"
     ]
    }
   ],
   "source": [
    "print(celltype_indices_no[:50])"
   ]
  },
  {
   "cell_type": "code",
   "execution_count": 20,
   "metadata": {},
   "outputs": [
    {
     "data": {
      "text/plain": [
       "True"
      ]
     },
     "execution_count": 20,
     "metadata": {},
     "output_type": "execute_result"
    }
   ],
   "source": [
    "celltype_indices_z == celltype_indices_raw"
   ]
  },
  {
   "cell_type": "code",
   "execution_count": 24,
   "metadata": {},
   "outputs": [
    {
     "data": {
      "text/plain": [
       "1144"
      ]
     },
     "execution_count": 24,
     "metadata": {},
     "output_type": "execute_result"
    }
   ],
   "source": [
    "inter = list(set(celltype_indices_z) & set(celltype_indices_no))\n",
    "len(inter)"
   ]
  },
  {
   "cell_type": "code",
   "execution_count": 25,
   "metadata": {},
   "outputs": [
    {
     "data": {
      "text/plain": [
       "0.1425012456402591"
      ]
     },
     "execution_count": 25,
     "metadata": {},
     "output_type": "execute_result"
    }
   ],
   "source": [
    "1144/len(celltype_indices_z)"
   ]
  },
  {
   "cell_type": "code",
   "execution_count": 27,
   "metadata": {},
   "outputs": [
    {
     "data": {
      "text/plain": [
       "0.1425012456402591"
      ]
     },
     "execution_count": 27,
     "metadata": {},
     "output_type": "execute_result"
    }
   ],
   "source": [
    "1144/len(celltype_indices_no)"
   ]
  },
  {
   "cell_type": "code",
   "execution_count": 30,
   "metadata": {},
   "outputs": [
    {
     "data": {
      "text/plain": [
       "55785"
      ]
     },
     "execution_count": 30,
     "metadata": {},
     "output_type": "execute_result"
    }
   ],
   "source": [
    "len(set(ztrans_L1.obs_names.tolist()) & set(no_scale_L1.obs_names.tolist()))\n"
   ]
  },
  {
   "cell_type": "code",
   "execution_count": 31,
   "metadata": {},
   "outputs": [
    {
     "data": {
      "text/plain": [
       "(59897, 27504)"
      ]
     },
     "execution_count": 31,
     "metadata": {},
     "output_type": "execute_result"
    }
   ],
   "source": [
    "ztrans_L1.shape"
   ]
  },
  {
   "cell_type": "code",
   "execution_count": 22,
   "metadata": {},
   "outputs": [
    {
     "data": {
      "image/png": "[encoded data removed]",
      "text/plain": [
       "<Figure size 640x480 with 1 Axes>"
      ]
     },
     "metadata": {},
     "output_type": "display_data"
    }
   ],
   "source": [
    "import matplotlib.pyplot as plt\n",
    "\n",
    "plt.hist(prevalence_z, bins=50, edgecolor='black')\n",
    "plt.show()"
   ]
  },
  {
   "cell_type": "code",
   "execution_count": 23,
   "metadata": {},
   "outputs": [
    {
     "data": {
      "image/png": "[encoded data removed]",
      "text/plain": [
       "<Figure size 640x480 with 1 Axes>"
      ]
     },
     "metadata": {},
     "output_type": "display_data"
    }
   ],
   "source": [
    "plt.hist(prevalence_no, bins=50, edgecolor='black')\n",
    "plt.show()"
   ]
  },
  {
   "cell_type": "code",
   "execution_count": null,
   "metadata": {},
   "outputs": [],
   "source": [
    "diff = prevalence_no - prevalence_z\n",
    "print(len(diff))\n",
    "sum([abs(d) <= 0.001 for d in diff])"
   ]
  },
  {
   "cell_type": "code",
   "execution_count": 21,
   "metadata": {},
   "outputs": [
    {
     "data": {
      "text/plain": [
       "True"
      ]
     },
     "execution_count": 21,
     "metadata": {},
     "output_type": "execute_result"
    }
   ],
   "source": [
    "np.allclose(prevalence_z, prevalence_raw)"
   ]
  },
  {
   "cell_type": "code",
   "execution_count": null,
   "metadata": {},
   "outputs": [],
   "source": []
  }
 ],
 "metadata": {
  "kernelspec": {
   "display_name": "Python 3",
   "language": "python",
   "name": "python3"
  },
  "language_info": {
   "codemirror_mode": {
    "name": "ipython",
    "version": 3
   },
   "file_extension": ".py",
   "mimetype": "text/x-python",
   "name": "python",
   "nbconvert_exporter": "python",
   "pygments_lexer": "ipython3",
   "version": "3.9.12"
  }
 },
 "nbformat": 4,
 "nbformat_minor": 2
}

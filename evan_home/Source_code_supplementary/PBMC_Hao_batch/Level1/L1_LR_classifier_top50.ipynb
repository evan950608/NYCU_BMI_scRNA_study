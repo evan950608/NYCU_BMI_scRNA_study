{
 "cells": [
  {
   "cell_type": "code",
   "execution_count": 1,
   "metadata": {},
   "outputs": [
    {
     "name": "stderr",
     "output_type": "stream",
     "text": [
      "/opt/anaconda3/lib/python3.9/site-packages/scipy/__init__.py:146: UserWarning: A NumPy version >=1.16.5 and <1.23.0 is required for this version of SciPy (detected version 1.26.4\n",
      "  warnings.warn(f\"A NumPy version >={np_minversion} and <{np_maxversion}\"\n"
     ]
    }
   ],
   "source": [
    "import numpy as np\n",
    "import matplotlib.pyplot as plt\n",
    "import pandas as pd\n",
    "import time\n",
    "import scipy\n",
    "import sklearn\n",
    "import copy\n",
    "import importlib\n"
   ]
  },
  {
   "cell_type": "code",
   "execution_count": 2,
   "metadata": {},
   "outputs": [],
   "source": [
    "from sklearn.linear_model import LogisticRegression\n",
    "from sklearn.model_selection import train_test_split\n",
    "\n",
    "from sklearn.metrics import accuracy_score, precision_score, recall_score, f1_score\n",
    "from sklearn.metrics import roc_curve, roc_auc_score, auc, precision_recall_curve, average_precision_score\n",
    "from sklearn.model_selection import cross_val_score, cross_validate, KFold\n",
    "from sklearn.metrics import make_scorer, matthews_corrcoef\n"
   ]
  },
  {
   "cell_type": "code",
   "execution_count": 3,
   "metadata": {},
   "outputs": [
    {
     "name": "stdout",
     "output_type": "stream",
     "text": [
      "Original adata: (161764, 33538)\n",
      "all cell types: ['B', 'CD4_T', 'CD8_T', 'DC', 'Mono', 'NK', 'other', 'other_T']\n",
      "====================\n"
     ]
    }
   ],
   "source": [
    "import scanpy as sc\n",
    "\n",
    "adata = sc.read_h5ad('/Users/evanli/Documents/Research_datasets/PBMC_Hao/GSE164378_Hao/batch_corrected/Hao_PBMC_Harmony_unscaled.h5ad')\n",
    "print('Original adata:', adata.shape)\n",
    "adata.obs['celltype.l1'] = adata.obs['celltype.l1'].str.replace(' ', '_')\n",
    "label = adata.obs['celltype.l1'].tolist()\n",
    "types = np.unique(label).tolist()\n",
    "print('all cell types:', types)\n",
    "print('====================')\n",
    "# del adata\n"
   ]
  },
  {
   "cell_type": "code",
   "execution_count": 4,
   "metadata": {},
   "outputs": [
    {
     "data": {
      "text/html": [
       "<div>\n",
       "<style scoped>\n",
       "    .dataframe tbody tr th:only-of-type {\n",
       "        vertical-align: middle;\n",
       "    }\n",
       "\n",
       "    .dataframe tbody tr th {\n",
       "        vertical-align: top;\n",
       "    }\n",
       "\n",
       "    .dataframe thead th {\n",
       "        text-align: right;\n",
       "    }\n",
       "</style>\n",
       "<table border=\"1\" class=\"dataframe\">\n",
       "  <thead>\n",
       "    <tr style=\"text-align: right;\">\n",
       "      <th></th>\n",
       "      <th>celltype.l1</th>\n",
       "      <th>celltype.l2</th>\n",
       "      <th>celltype.l3</th>\n",
       "      <th>Batch</th>\n",
       "      <th>donor</th>\n",
       "      <th>time</th>\n",
       "      <th>lane</th>\n",
       "      <th>Phase</th>\n",
       "      <th>nCount_ADT</th>\n",
       "      <th>nFeature_ADT</th>\n",
       "      <th>nCount_RNA</th>\n",
       "      <th>nFeature_RNA</th>\n",
       "      <th>leiden</th>\n",
       "    </tr>\n",
       "  </thead>\n",
       "  <tbody>\n",
       "    <tr>\n",
       "      <th>L1_AAACCCAAGAAACTCA</th>\n",
       "      <td>Mono</td>\n",
       "      <td>CD14 Mono</td>\n",
       "      <td>CD14 Mono</td>\n",
       "      <td>Batch1</td>\n",
       "      <td>P2</td>\n",
       "      <td>7</td>\n",
       "      <td>L1</td>\n",
       "      <td>G1</td>\n",
       "      <td>7535</td>\n",
       "      <td>217</td>\n",
       "      <td>10823</td>\n",
       "      <td>2915</td>\n",
       "      <td>4</td>\n",
       "    </tr>\n",
       "    <tr>\n",
       "      <th>L1_AAACCCAAGACATACA</th>\n",
       "      <td>CD4_T</td>\n",
       "      <td>CD4 TCM</td>\n",
       "      <td>CD4 TCM_1</td>\n",
       "      <td>Batch1</td>\n",
       "      <td>P1</td>\n",
       "      <td>7</td>\n",
       "      <td>L1</td>\n",
       "      <td>G1</td>\n",
       "      <td>6013</td>\n",
       "      <td>209</td>\n",
       "      <td>5864</td>\n",
       "      <td>1617</td>\n",
       "      <td>2</td>\n",
       "    </tr>\n",
       "    <tr>\n",
       "      <th>L1_AAACCCACAACTGGTT</th>\n",
       "      <td>CD8_T</td>\n",
       "      <td>CD8 Naive</td>\n",
       "      <td>CD8 Naive</td>\n",
       "      <td>Batch1</td>\n",
       "      <td>P4</td>\n",
       "      <td>2</td>\n",
       "      <td>L1</td>\n",
       "      <td>S</td>\n",
       "      <td>6620</td>\n",
       "      <td>213</td>\n",
       "      <td>5067</td>\n",
       "      <td>1381</td>\n",
       "      <td>5</td>\n",
       "    </tr>\n",
       "    <tr>\n",
       "      <th>L1_AAACCCACACGTACTA</th>\n",
       "      <td>NK</td>\n",
       "      <td>NK</td>\n",
       "      <td>NK_2</td>\n",
       "      <td>Batch1</td>\n",
       "      <td>P3</td>\n",
       "      <td>7</td>\n",
       "      <td>L1</td>\n",
       "      <td>G1</td>\n",
       "      <td>3567</td>\n",
       "      <td>202</td>\n",
       "      <td>4786</td>\n",
       "      <td>1890</td>\n",
       "      <td>3</td>\n",
       "    </tr>\n",
       "    <tr>\n",
       "      <th>L1_AAACCCACAGCATACT</th>\n",
       "      <td>CD8_T</td>\n",
       "      <td>CD8 Naive</td>\n",
       "      <td>CD8 Naive</td>\n",
       "      <td>Batch1</td>\n",
       "      <td>P4</td>\n",
       "      <td>7</td>\n",
       "      <td>L1</td>\n",
       "      <td>G1</td>\n",
       "      <td>6402</td>\n",
       "      <td>215</td>\n",
       "      <td>6505</td>\n",
       "      <td>1621</td>\n",
       "      <td>5</td>\n",
       "    </tr>\n",
       "  </tbody>\n",
       "</table>\n",
       "</div>"
      ],
      "text/plain": [
       "                    celltype.l1 celltype.l2 celltype.l3   Batch donor  time  \\\n",
       "L1_AAACCCAAGAAACTCA        Mono   CD14 Mono   CD14 Mono  Batch1    P2     7   \n",
       "L1_AAACCCAAGACATACA       CD4_T     CD4 TCM   CD4 TCM_1  Batch1    P1     7   \n",
       "L1_AAACCCACAACTGGTT       CD8_T   CD8 Naive   CD8 Naive  Batch1    P4     2   \n",
       "L1_AAACCCACACGTACTA          NK          NK        NK_2  Batch1    P3     7   \n",
       "L1_AAACCCACAGCATACT       CD8_T   CD8 Naive   CD8 Naive  Batch1    P4     7   \n",
       "\n",
       "                    lane Phase  nCount_ADT  nFeature_ADT  nCount_RNA  \\\n",
       "L1_AAACCCAAGAAACTCA   L1    G1        7535           217       10823   \n",
       "L1_AAACCCAAGACATACA   L1    G1        6013           209        5864   \n",
       "L1_AAACCCACAACTGGTT   L1     S        6620           213        5067   \n",
       "L1_AAACCCACACGTACTA   L1    G1        3567           202        4786   \n",
       "L1_AAACCCACAGCATACT   L1    G1        6402           215        6505   \n",
       "\n",
       "                     nFeature_RNA leiden  \n",
       "L1_AAACCCAAGAAACTCA          2915      4  \n",
       "L1_AAACCCAAGACATACA          1617      2  \n",
       "L1_AAACCCACAACTGGTT          1381      5  \n",
       "L1_AAACCCACACGTACTA          1890      3  \n",
       "L1_AAACCCACAGCATACT          1621      5  "
      ]
     },
     "execution_count": 4,
     "metadata": {},
     "output_type": "execute_result"
    }
   ],
   "source": [
    "adata.obs.head()"
   ]
  },
  {
   "cell_type": "markdown",
   "metadata": {},
   "source": [
    "## Read features"
   ]
  },
  {
   "cell_type": "code",
   "execution_count": 5,
   "metadata": {},
   "outputs": [],
   "source": [
    "# Level 1 ADlasso features by loss difference convergence\n",
    "import os\n",
    "os.chdir('/Users/evanli/Documents/EvanPys/Progress/PBMC_Hao_batch/Level1/feature_selection')\n",
    "\n",
    "features_dict = {}\n",
    "# Read features for each celltype\n",
    "for celltype in types:\n",
    "    try:\n",
    "        feature_df = pd.read_csv(f'{celltype}_features.txt', names=['Gene', 'Weight', 'Tendency'], sep='\\t')\n",
    "        # sort by tendency and then by weight\n",
    "        feature_df['abs_weight'] = feature_df['Weight'].abs()\n",
    "        feature_df = feature_df.sort_values(by=['Tendency', 'abs_weight'], ascending=[False, False])\n",
    "        feature_df.drop(columns=['abs_weight'], inplace=True)\n",
    "        features_dict[celltype] = feature_df\n",
    "    except:\n",
    "        print('skipping:', celltype)\n",
    "        continue\n",
    "    # print(celltype, 'Feature count:', feature_df.shape[0])\n",
    "    # print(celltype, 'Positive feature count:', feature_df[feature_df['Tendency'] == 1].shape[0])\n",
    "    # print('------------------')"
   ]
  },
  {
   "cell_type": "code",
   "execution_count": 6,
   "metadata": {},
   "outputs": [
    {
     "data": {
      "text/plain": [
       "dict_keys(['B', 'CD4_T', 'CD8_T', 'DC', 'Mono', 'NK', 'other', 'other_T'])"
      ]
     },
     "execution_count": 6,
     "metadata": {},
     "output_type": "execute_result"
    }
   ],
   "source": [
    "features_dict.keys()"
   ]
  },
  {
   "cell_type": "code",
   "execution_count": 7,
   "metadata": {},
   "outputs": [
    {
     "data": {
      "text/html": [
       "<div>\n",
       "<style scoped>\n",
       "    .dataframe tbody tr th:only-of-type {\n",
       "        vertical-align: middle;\n",
       "    }\n",
       "\n",
       "    .dataframe tbody tr th {\n",
       "        vertical-align: top;\n",
       "    }\n",
       "\n",
       "    .dataframe thead th {\n",
       "        text-align: right;\n",
       "    }\n",
       "</style>\n",
       "<table border=\"1\" class=\"dataframe\">\n",
       "  <thead>\n",
       "    <tr style=\"text-align: right;\">\n",
       "      <th></th>\n",
       "      <th>Feature_count</th>\n",
       "      <th>Positive_feature_count</th>\n",
       "    </tr>\n",
       "  </thead>\n",
       "  <tbody>\n",
       "    <tr>\n",
       "      <th>B</th>\n",
       "      <td>11</td>\n",
       "      <td>6</td>\n",
       "    </tr>\n",
       "    <tr>\n",
       "      <th>CD4_T</th>\n",
       "      <td>346</td>\n",
       "      <td>197</td>\n",
       "    </tr>\n",
       "    <tr>\n",
       "      <th>CD8_T</th>\n",
       "      <td>22</td>\n",
       "      <td>7</td>\n",
       "    </tr>\n",
       "    <tr>\n",
       "      <th>DC</th>\n",
       "      <td>32</td>\n",
       "      <td>15</td>\n",
       "    </tr>\n",
       "    <tr>\n",
       "      <th>Mono</th>\n",
       "      <td>19</td>\n",
       "      <td>10</td>\n",
       "    </tr>\n",
       "    <tr>\n",
       "      <th>NK</th>\n",
       "      <td>33</td>\n",
       "      <td>17</td>\n",
       "    </tr>\n",
       "    <tr>\n",
       "      <th>other</th>\n",
       "      <td>4</td>\n",
       "      <td>2</td>\n",
       "    </tr>\n",
       "    <tr>\n",
       "      <th>other_T</th>\n",
       "      <td>59</td>\n",
       "      <td>25</td>\n",
       "    </tr>\n",
       "  </tbody>\n",
       "</table>\n",
       "</div>"
      ],
      "text/plain": [
       "         Feature_count  Positive_feature_count\n",
       "B                   11                       6\n",
       "CD4_T              346                     197\n",
       "CD8_T               22                       7\n",
       "DC                  32                      15\n",
       "Mono                19                      10\n",
       "NK                  33                      17\n",
       "other                4                       2\n",
       "other_T             59                      25"
      ]
     },
     "execution_count": 7,
     "metadata": {},
     "output_type": "execute_result"
    }
   ],
   "source": [
    "count_df = pd.DataFrame(columns=['Feature_count', 'Positive_feature_count'])\n",
    "for celltype in features_dict.keys():\n",
    "    feature_df = features_dict[celltype]\n",
    "    feature_count = feature_df.shape[0]\n",
    "    positive_count = feature_df[feature_df['Tendency'] == 1].shape[0]\n",
    "    count_df.loc[celltype] = [feature_count, positive_count]\n",
    "count_df"
   ]
  },
  {
   "cell_type": "code",
   "execution_count": 9,
   "metadata": {},
   "outputs": [
    {
     "name": "stdout",
     "output_type": "stream",
     "text": [
      "B Feature count: 11\n",
      "CD4_T Feature count: 50\n",
      "CD8_T Feature count: 22\n",
      "DC Feature count: 32\n",
      "Mono Feature count: 19\n",
      "NK Feature count: 33\n",
      "other Feature count: 4\n",
      "other_T Feature count: 50\n"
     ]
    }
   ],
   "source": [
    "# Get top 50 features for each celltype\n",
    "features_dict_top50 = {}\n",
    "for celltype in types:\n",
    "    feature_df = features_dict[celltype]\n",
    "    # sort by tendency and then by weight\n",
    "    feature_df['abs_weight'] = feature_df['Weight'].abs()\n",
    "    feature_df = feature_df.sort_values(by=['Tendency', 'abs_weight'], ascending=[False, False])\n",
    "    feature_df.drop(columns=['abs_weight'], inplace=True)\n",
    "    features_dict_top50[celltype] = feature_df.head(50)\n",
    "    print(celltype, 'Feature count:', features_dict_top50[celltype].shape[0])"
   ]
  },
  {
   "cell_type": "markdown",
   "metadata": {},
   "source": [
    "## Build classifiers (K-fold CV)"
   ]
  },
  {
   "cell_type": "code",
   "execution_count": 16,
   "metadata": {},
   "outputs": [],
   "source": [
    "import pickle\n",
    "\n",
    "def LR_kfold(data, all_features_dict, celltype, k=5):\n",
    "    # subset data to celltype features\n",
    "    features = all_features_dict[celltype]['Gene'].tolist()\n",
    "    X = data[:, features].X\n",
    "    # Binary label\n",
    "    y = [1 if i==celltype else 0 for i in data.obs['celltype.l1'].tolist()]\n",
    "\n",
    "    X_train, X_test, y_train, y_test = train_test_split(X, y, test_size=0.2, random_state=0, stratify=y)\n",
    "\n",
    "    clf = LogisticRegression(penalty='l2', solver='lbfgs', C=1.0, max_iter=1000)\n",
    "    clf.fit(X_train, y_train)\n",
    "\n",
    "    # Kfold cross validation\n",
    "    scoring = {\n",
    "        'accuracy': 'accuracy',\n",
    "        'precision': 'precision',\n",
    "        'recall': 'recall',\n",
    "        'f1_score': 'f1',\n",
    "        'roc_auc': 'roc_auc',\n",
    "        'average_precision': 'average_precision',  # PR AUC\n",
    "        'mcc': make_scorer(matthews_corrcoef)\n",
    "    }\n",
    "    cv_results = cross_validate(clf, X, y, cv=5, scoring=scoring)\n",
    "\n",
    "    mean_accuracy = np.mean(cv_results['test_accuracy'])\n",
    "    mean_precision = np.mean(cv_results['test_precision'])\n",
    "    mean_recall = np.mean(cv_results['test_recall'])\n",
    "    mean_f1 = np.mean(cv_results['test_f1_score'])\n",
    "    mean_auc = np.mean(cv_results['test_roc_auc'])\n",
    "    mean_pr_auc = np.mean(cv_results['test_average_precision'])\n",
    "    mean_mcc = np.mean(cv_results['test_mcc'])\n",
    "    mean_metrics = [mean_accuracy, mean_precision, mean_recall, mean_f1, mean_auc, mean_pr_auc, mean_mcc]\n",
    "\n",
    "    model_data = {'model': clf, 'feature_names': features}\n",
    "\n",
    "    return model_data, mean_metrics"
   ]
  },
  {
   "cell_type": "code",
   "execution_count": 17,
   "metadata": {},
   "outputs": [
    {
     "name": "stdout",
     "output_type": "stream",
     "text": [
      "====================\n",
      "K-fold CV for: B\n",
      "[0.9990603617142779, 0.9964339169746907, 0.992536231884058, 0.9944771291363208, 0.9999321223614764, 0.9994666262269855, 0.9939683746272415]\n",
      "====================\n",
      "K-fold CV for: CD4_T\n",
      "[0.9460943906659851, 0.9009890907047996, 0.8858803655711232, 0.8930704206174, 0.9841987537441718, 0.9598047194116068, 0.8573567718775067]\n",
      "====================\n",
      "K-fold CV for: CD8_T\n",
      "[0.9715264351888753, 0.935814650451657, 0.8794618139511255, 0.9067250752485257, 0.988620485073446, 0.9584248902273996, 0.8905673140216093]\n",
      "====================\n",
      "K-fold CV for: DC\n",
      "[0.9983989024479987, 0.9698379467841296, 0.9576481237592415, 0.9636947342121228, 0.9997920280405026, 0.9922085724031687, 0.9629014030520053]\n",
      "====================\n",
      "K-fold CV for: Mono\n",
      "[0.9922603266901533, 0.9793526232469034, 0.9954499081820037, 0.9873322307533771, 0.9981711397051873, 0.9932000918774836, 0.9818319701674177]\n",
      "====================\n",
      "K-fold CV for: NK\n",
      "[0.9925694191391372, 0.9694028646657692, 0.9662455076805492, 0.9677798715140149, 0.9986810632007075, 0.9940304537339552, 0.9636086624058503]\n",
      "====================\n",
      "K-fold CV for: other\n",
      "[0.9917287073438124, 0.9268729993508387, 0.6591255442670537, 0.7563113752975679, 0.9303432396319063, 0.7828263415054348, 0.7704120931817383]\n",
      "====================\n",
      "K-fold CV for: other_T\n",
      "[0.985676655100084, 0.8803019438089708, 0.7625513483242403, 0.8170096063640182, 0.9859244480540615, 0.8828824367056873, 0.8119635907329436]\n"
     ]
    }
   ],
   "source": [
    "os.chdir('/Users/evanli/Documents/EvanPys/Progress/PBMC_Hao_batch/Level1/LR_classifiers/top50')\n",
    "\n",
    "cols = ['Accuracy', 'Precision', 'Recall', 'F1-score', 'ROC-AUC', 'PR-AUC', 'MCC']\n",
    "all_metrics = pd.DataFrame(columns=cols)\n",
    "for celltype in types:\n",
    "    print('====================')\n",
    "    print('K-fold CV for:', celltype)\n",
    "    model_data, metrics = LR_kfold(adata, features_dict_top50, celltype, k=5)  # metrics is a list\n",
    "    print(metrics)\n",
    "    \n",
    "    # Append metrics to all_metrics\n",
    "    all_metrics.loc[celltype] = metrics\n",
    "\n",
    "    # output model_data as pickle\n",
    "    # model_data is a dict, contains LR model and feature_names\n",
    "    filename = f'LR_{celltype}_Harmony_l1_top50.pkl'\n",
    "    with open(filename, 'wb') as f:\n",
    "        pickle.dump(model_data, f)\n"
   ]
  },
  {
   "cell_type": "code",
   "execution_count": 18,
   "metadata": {},
   "outputs": [
    {
     "data": {
      "text/html": [
       "<div>\n",
       "<style scoped>\n",
       "    .dataframe tbody tr th:only-of-type {\n",
       "        vertical-align: middle;\n",
       "    }\n",
       "\n",
       "    .dataframe tbody tr th {\n",
       "        vertical-align: top;\n",
       "    }\n",
       "\n",
       "    .dataframe thead th {\n",
       "        text-align: right;\n",
       "    }\n",
       "</style>\n",
       "<table border=\"1\" class=\"dataframe\">\n",
       "  <thead>\n",
       "    <tr style=\"text-align: right;\">\n",
       "      <th></th>\n",
       "      <th>Accuracy</th>\n",
       "      <th>Precision</th>\n",
       "      <th>Recall</th>\n",
       "      <th>F1-score</th>\n",
       "      <th>ROC-AUC</th>\n",
       "      <th>PR-AUC</th>\n",
       "      <th>MCC</th>\n",
       "    </tr>\n",
       "  </thead>\n",
       "  <tbody>\n",
       "    <tr>\n",
       "      <th>B</th>\n",
       "      <td>0.999060</td>\n",
       "      <td>0.996434</td>\n",
       "      <td>0.992536</td>\n",
       "      <td>0.994477</td>\n",
       "      <td>0.999932</td>\n",
       "      <td>0.999467</td>\n",
       "      <td>0.993968</td>\n",
       "    </tr>\n",
       "    <tr>\n",
       "      <th>CD4_T</th>\n",
       "      <td>0.946094</td>\n",
       "      <td>0.900989</td>\n",
       "      <td>0.885880</td>\n",
       "      <td>0.893070</td>\n",
       "      <td>0.984199</td>\n",
       "      <td>0.959805</td>\n",
       "      <td>0.857357</td>\n",
       "    </tr>\n",
       "    <tr>\n",
       "      <th>CD8_T</th>\n",
       "      <td>0.971526</td>\n",
       "      <td>0.935815</td>\n",
       "      <td>0.879462</td>\n",
       "      <td>0.906725</td>\n",
       "      <td>0.988620</td>\n",
       "      <td>0.958425</td>\n",
       "      <td>0.890567</td>\n",
       "    </tr>\n",
       "    <tr>\n",
       "      <th>DC</th>\n",
       "      <td>0.998399</td>\n",
       "      <td>0.969838</td>\n",
       "      <td>0.957648</td>\n",
       "      <td>0.963695</td>\n",
       "      <td>0.999792</td>\n",
       "      <td>0.992209</td>\n",
       "      <td>0.962901</td>\n",
       "    </tr>\n",
       "    <tr>\n",
       "      <th>Mono</th>\n",
       "      <td>0.992260</td>\n",
       "      <td>0.979353</td>\n",
       "      <td>0.995450</td>\n",
       "      <td>0.987332</td>\n",
       "      <td>0.998171</td>\n",
       "      <td>0.993200</td>\n",
       "      <td>0.981832</td>\n",
       "    </tr>\n",
       "    <tr>\n",
       "      <th>NK</th>\n",
       "      <td>0.992569</td>\n",
       "      <td>0.969403</td>\n",
       "      <td>0.966246</td>\n",
       "      <td>0.967780</td>\n",
       "      <td>0.998681</td>\n",
       "      <td>0.994030</td>\n",
       "      <td>0.963609</td>\n",
       "    </tr>\n",
       "    <tr>\n",
       "      <th>other</th>\n",
       "      <td>0.991729</td>\n",
       "      <td>0.926873</td>\n",
       "      <td>0.659126</td>\n",
       "      <td>0.756311</td>\n",
       "      <td>0.930343</td>\n",
       "      <td>0.782826</td>\n",
       "      <td>0.770412</td>\n",
       "    </tr>\n",
       "    <tr>\n",
       "      <th>other_T</th>\n",
       "      <td>0.985677</td>\n",
       "      <td>0.880302</td>\n",
       "      <td>0.762551</td>\n",
       "      <td>0.817010</td>\n",
       "      <td>0.985924</td>\n",
       "      <td>0.882882</td>\n",
       "      <td>0.811964</td>\n",
       "    </tr>\n",
       "  </tbody>\n",
       "</table>\n",
       "</div>"
      ],
      "text/plain": [
       "         Accuracy  Precision    Recall  F1-score   ROC-AUC    PR-AUC       MCC\n",
       "B        0.999060   0.996434  0.992536  0.994477  0.999932  0.999467  0.993968\n",
       "CD4_T    0.946094   0.900989  0.885880  0.893070  0.984199  0.959805  0.857357\n",
       "CD8_T    0.971526   0.935815  0.879462  0.906725  0.988620  0.958425  0.890567\n",
       "DC       0.998399   0.969838  0.957648  0.963695  0.999792  0.992209  0.962901\n",
       "Mono     0.992260   0.979353  0.995450  0.987332  0.998171  0.993200  0.981832\n",
       "NK       0.992569   0.969403  0.966246  0.967780  0.998681  0.994030  0.963609\n",
       "other    0.991729   0.926873  0.659126  0.756311  0.930343  0.782826  0.770412\n",
       "other_T  0.985677   0.880302  0.762551  0.817010  0.985924  0.882882  0.811964"
      ]
     },
     "execution_count": 18,
     "metadata": {},
     "output_type": "execute_result"
    }
   ],
   "source": [
    "all_metrics"
   ]
  },
  {
   "cell_type": "code",
   "execution_count": 19,
   "metadata": {},
   "outputs": [],
   "source": [
    "# save metrics\n",
    "all_metrics.index = types\n",
    "all_metrics.to_csv('LR_metrics_l1_top50.csv')"
   ]
  },
  {
   "cell_type": "markdown",
   "metadata": {},
   "source": [
    "## Read saved .pkl"
   ]
  },
  {
   "cell_type": "markdown",
   "metadata": {
    "vscode": {
     "languageId": "plaintext"
    }
   },
   "source": [
    "## Plot classifier K-fold CV metrics"
   ]
  },
  {
   "cell_type": "code",
   "execution_count": 20,
   "metadata": {},
   "outputs": [
    {
     "data": {
      "text/plain": [
       "<matplotlib.legend.Legend at 0x30cff8d90>"
      ]
     },
     "execution_count": 20,
     "metadata": {},
     "output_type": "execute_result"
    },
    {
     "data": {
      "image/png": "[encoded data removed]",
      "text/plain": [
       "<Figure size 800x600 with 1 Axes>"
      ]
     },
     "metadata": {},
     "output_type": "display_data"
    }
   ],
   "source": [
    "cols = ['Precision', 'F1-score', 'ROC-AUC', 'PR-AUC', 'MCC']\n",
    "# Plot metrics for each celltype\n",
    "ax = all_metrics[cols].plot.bar(rot=0, figsize=(8,6), title='Logistic Regression using PreLect features')\n",
    "ax.legend(loc='center left', bbox_to_anchor=(1.0, 0.5))"
   ]
  },
  {
   "cell_type": "code",
   "execution_count": null,
   "metadata": {},
   "outputs": [],
   "source": []
  }
 ],
 "metadata": {
  "kernelspec": {
   "display_name": "Python 3",
   "language": "python",
   "name": "python3"
  },
  "language_info": {
   "codemirror_mode": {
    "name": "ipython",
    "version": 3
   },
   "file_extension": ".py",
   "mimetype": "text/x-python",
   "name": "python",
   "nbconvert_exporter": "python",
   "pygments_lexer": "ipython3",
   "version": "3.9.12"
  }
 },
 "nbformat": 4,
 "nbformat_minor": 2
}

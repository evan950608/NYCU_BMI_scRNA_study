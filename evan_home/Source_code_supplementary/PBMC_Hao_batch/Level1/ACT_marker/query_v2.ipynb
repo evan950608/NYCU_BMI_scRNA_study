{
 "cells": [
  {
   "cell_type": "code",
   "execution_count": 1,
   "metadata": {},
   "outputs": [
    {
     "name": "stderr",
     "output_type": "stream",
     "text": [
      "/opt/anaconda3/lib/python3.9/site-packages/scipy/__init__.py:146: UserWarning: A NumPy version >=1.16.5 and <1.23.0 is required for this version of SciPy (detected version 1.26.4\n",
      "  warnings.warn(f\"A NumPy version >={np_minversion} and <{np_maxversion}\"\n"
     ]
    }
   ],
   "source": [
    "import numpy as np\n",
    "import pandas as pd\n",
    "import matplotlib.pyplot as plt\n",
    "import scanpy as sc\n",
    "import os"
   ]
  },
  {
   "cell_type": "code",
   "execution_count": 2,
   "metadata": {},
   "outputs": [
    {
     "data": {
      "text/plain": [
       "['B', 'CD4_T', 'CD8_T', 'DC', 'Mono', 'NK', 'other', 'other_T']"
      ]
     },
     "execution_count": 2,
     "metadata": {},
     "output_type": "execute_result"
    }
   ],
   "source": [
    "adata = sc.read_h5ad('/Users/evanli/Documents/Research_datasets/PBMC_Hao/GSE164378_Hao/batch_corrected/Hao_PBMC_Harmony_unscaled.h5ad')\n",
    "adata.obs['celltype.l1'] = adata.obs['celltype.l1'].str.replace(' ', '_')\n",
    "labels = adata.obs['celltype.l1']\n",
    "types = np.unique(labels).tolist()\n",
    "types"
   ]
  },
  {
   "cell_type": "markdown",
   "metadata": {},
   "source": [
    "## Read PreLect features"
   ]
  },
  {
   "cell_type": "code",
   "execution_count": 7,
   "metadata": {},
   "outputs": [
    {
     "data": {
      "text/html": [
       "<div>\n",
       "<style scoped>\n",
       "    .dataframe tbody tr th:only-of-type {\n",
       "        vertical-align: middle;\n",
       "    }\n",
       "\n",
       "    .dataframe tbody tr th {\n",
       "        vertical-align: top;\n",
       "    }\n",
       "\n",
       "    .dataframe thead th {\n",
       "        text-align: right;\n",
       "    }\n",
       "</style>\n",
       "<table border=\"1\" class=\"dataframe\">\n",
       "  <thead>\n",
       "    <tr style=\"text-align: right;\">\n",
       "      <th></th>\n",
       "      <th>Feature_count</th>\n",
       "      <th>Positive_feature_count</th>\n",
       "    </tr>\n",
       "  </thead>\n",
       "  <tbody>\n",
       "    <tr>\n",
       "      <th>B</th>\n",
       "      <td>11</td>\n",
       "      <td>6</td>\n",
       "    </tr>\n",
       "    <tr>\n",
       "      <th>CD4_T</th>\n",
       "      <td>346</td>\n",
       "      <td>197</td>\n",
       "    </tr>\n",
       "    <tr>\n",
       "      <th>CD8_T</th>\n",
       "      <td>22</td>\n",
       "      <td>7</td>\n",
       "    </tr>\n",
       "    <tr>\n",
       "      <th>DC</th>\n",
       "      <td>32</td>\n",
       "      <td>15</td>\n",
       "    </tr>\n",
       "    <tr>\n",
       "      <th>Mono</th>\n",
       "      <td>19</td>\n",
       "      <td>10</td>\n",
       "    </tr>\n",
       "    <tr>\n",
       "      <th>NK</th>\n",
       "      <td>33</td>\n",
       "      <td>17</td>\n",
       "    </tr>\n",
       "    <tr>\n",
       "      <th>other</th>\n",
       "      <td>4</td>\n",
       "      <td>2</td>\n",
       "    </tr>\n",
       "    <tr>\n",
       "      <th>other_T</th>\n",
       "      <td>59</td>\n",
       "      <td>25</td>\n",
       "    </tr>\n",
       "  </tbody>\n",
       "</table>\n",
       "</div>"
      ],
      "text/plain": [
       "         Feature_count  Positive_feature_count\n",
       "B                   11                       6\n",
       "CD4_T              346                     197\n",
       "CD8_T               22                       7\n",
       "DC                  32                      15\n",
       "Mono                19                      10\n",
       "NK                  33                      17\n",
       "other                4                       2\n",
       "other_T             59                      25"
      ]
     },
     "execution_count": 7,
     "metadata": {},
     "output_type": "execute_result"
    }
   ],
   "source": [
    "os.chdir('/Users/evanli/Documents/EvanPys/Progress/PBMC_Hao_batch/Level1/feature_selection')\n",
    "\n",
    "features_dict = {}\n",
    "# Read features for each celltype\n",
    "for celltype in types:\n",
    "    try:\n",
    "        feature_df = pd.read_csv(f'{celltype}_features.txt', names=['Gene', 'Weight', 'Tendency'], sep='\\t')\n",
    "        feature_df['abs_weight'] = feature_df['Weight'].abs()\n",
    "        feature_df = feature_df.sort_values(by=['Tendency', 'abs_weight'], ascending=[False, False])\n",
    "        feature_df.drop(columns=['abs_weight'], inplace=True)\n",
    "        features_dict[celltype] = feature_df\n",
    "    except:\n",
    "        print('skipping:', celltype)\n",
    "        continue\n",
    "    # print(celltype, 'Feature count:', feature_df.shape[0])\n",
    "    # print(celltype, 'Positive feature count:', feature_df[feature_df['Tendency'] == 1].shape[0])\n",
    "    # print('------------------')\n",
    "\n",
    "count_df = pd.DataFrame(columns=['Feature_count', 'Positive_feature_count'])\n",
    "for celltype in features_dict.keys():\n",
    "    feature_df = features_dict[celltype]\n",
    "    feature_count = feature_df.shape[0]\n",
    "    positive_count = feature_df[feature_df['Tendency'] == 1].shape[0]\n",
    "    count_df.loc[celltype] = [feature_count, positive_count]\n",
    "count_df"
   ]
  },
  {
   "cell_type": "code",
   "execution_count": 10,
   "metadata": {},
   "outputs": [],
   "source": [
    "# write to query for ACT\n",
    "text = ''\n",
    "for celltype in types:\n",
    "    features = features_dict[celltype]['Gene'].tolist()\n",
    "    features = ', '.join(features)\n",
    "    # print(features)\n",
    "    text_celltype = f'{celltype}: {features}\\n'\n",
    "    text += text_celltype"
   ]
  },
  {
   "cell_type": "code",
   "execution_count": 11,
   "metadata": {},
   "outputs": [
    {
     "name": "stdout",
     "output_type": "stream",
     "text": [
      "B: CD79A, MS4A1, IGKC, HLA-DRA, CD74, IGHM, TMSB4X, B2M, MALAT1, ACTB, S100A4\n",
      "CD4_T: CD4, CD40LG, TRAT1, TOMM7, ITM2A, RNASET2, CD52, CD2, TRBC1, TMSB10, CD6, CORO1B, MAF, IL7R, IL6ST, TRAC, CD3G, ARID5B, GIMAP7, MAL, GAPDH, TRBC2, TSHZ2, IL32, LTB, RORA, CALM1, S100A4, CD247, ITGB1, ARL4C, FYB1, GPR183, ADD3, TPT1, ETS1, KLF3, CD3D, LIMS1, NSD3, PTPRC, RPL11, GSTK1, EML4, S100A11, SYNE2, SMCHD1, RPS20, CYLD, EMP3, IKZF1, HMGB2, INPP4B, AAK1, RPL24, TNFAIP3, H1FX, ANXA1, KLF2, CD3E, USP15, RPL36, GMFG, ANKRD12, AES, RPS27, EID1, TXN, RPL38, ATP5MC2, LDHB, FOXP1, LINC00861, SOD1, FHIT, JUND, RPL30, PBXIP1, AQP3, NOP53, OPTN, TUBA1B, BIRC3, FTH1, FXYD5, PRDX2, MZT2A, SUB1, MZT2B, NDUFA12, C12orf57, TNFAIP8, RPS25, NDUFS5, MALAT1, RPL3, PSIP1, STK17B, APRT, CD69, RPL39, PTGES3, ANP32B, CHD3, RPL36AL, BCL11B, RASGRP1, PFN1, KLRB1, H3F3B, NSA2, MT-CYB, RPS29, RPL34, RPS15A, RPS14, RPL37, RPL14, RPL9, RPL29, RPSA, RPL35, RPL23, MT-ATP6, B2M, TMSB4X, RPL10, RPS27A, RPL41, RPL32, RPL13, CDC42, EEF1A1, RPL35A, RPL13A, RPS28, RPS16, RPL18, RPS6, RPL18A, RPLP2, RPL19, RPL6, RPS18, IFITM2, RPS2, RPS23, RPS15, RPS3, RPS4X, RPL7, RPL27A, RPL22, RPS19, RPS7, PTMA, RPS21, EIF1, RPS3A, RPL7A, UBA52, RPS8, RPS26, FAU, RPS13, RPL8, RPL23A, RPL5, RPL31, RPS9, BTG1, NACA, MT-ND5, RPLP0, RPL10A, MYL6, EEF1D, NEAT1, RPL4, HMGB1, UBC, SRP14, ARL6IP5, TMA7, PNRC1, HNRNPDL, HINT1, COMMD6, MBNL1, TMEM123, PIK3R1, CYTH1, LDHA, LAMTOR4, SKAP1, JUN, UBALD2, CTSW, HCST, CCL5, MT-ND4, CD7, NUCB2, CD74, CYBA, FTL, ATM, HLA-DPB1, AIF1, MT-CO2, CD55, HSP90AB1, HLA-A, RPS4Y1, MT-CO1, HLA-DRA, GYPC, DUSP2, HLA-C, UBB, PRDX6, GUK1, H3F3A, OAZ1, GZMM, GNAS, PDCD4, SH3BGRL3, PIP4K2A, KLF13, CD63, NKG7, NAP1L4, BZW1, COTL1, TXNIP, DUSP1, CHCHD10, MT-CO3, RPL15, MT2A, RABAC1, RPS5, YBX1, TBCA, ID2, RAC2, MT-ND2, DDX5, ARPC1B, CALM2, HLA-F, CD27, ARPC3, PRMT2, SMAP2, ANKRD11, KIF2A, MT-ND3, ZFAS1, PNISR, GTF3A, SNHG8, DDX17, SRGN, FAM107B, SERBP1, PCM1, TSC22D3, NOSIP, RPS24, SERF2, UBTF, PRRC2C, LIMD2, EVI2B, RAP1B, BOD1L1, ACTB, S100A6, MT-ND1, RPLP1, SELENOH, SSR4, EIF3G, PNN, CCND3, UQCRB, EIF4A2, PDE3B, HNRNPU, HLA-B, GCC2, ISG20, ARGLU1, PAIP2, IKZF3, RPL21, CD96, TOB1, LITAF, ARPC2, TTC3, RBM25, SEPT7, RPS12, RIPOR2, RNF213, TAGLN2, PRKCB, UQCRH, SERP1, JUNB, AKAP9, C11orf58, MYL12A, ATP5MG, RPL28, SEMA4D, HSP90B1, MBP, DDX3X, STK17A, YWHAZ, CTSS, PARK7, SRSF3, ACTG1, LUC7L3, ATP5MPL, ACTR2, GTF2I, DRAP1, DDX24, NAP1L1, TNRC6B, ATP5MC3, RPL12, RPL26, SLFN5, UXT, MGAT4A, CLIC1, BTN3A2, SORL1, COX7C\n",
      "CD8_T: CD8B, CD8A, CD3D, TRAC, CD3G, CD3E, CCL5, FTH1, H3F3B, PTMA, B2M, TMSB4X, ACTB, H3F3A, S100A4, MALAT1, MT-CO1, CD74, ARL4C, MT-CO3, LTB, TPT1\n",
      "DC: CST3, FCER1A, PPP1R14B, CCDC88A, HLA-DQA1, HLA-DPB1, PLD4, HLA-DPA1, CCDC50, ARL4C, HLA-DRA, TXN, HERPUD1, CD74, SEC61B, FTL, CD52, MALAT1, NEAT1, BTG1, HLA-E, TXNIP, B2M, MT-ND3, MT-ND2, KLF2, HLA-C, MT-ATP6, MT-CO2, SAT1, PTPRC, TMSB4X\n",
      "Mono: CTSS, FCN1, AIF1, NEAT1, CFD, S100A9, S100A8, LST1, PSAP, SAT1, RPS27, B2M, MALAT1, RPS18, RPS29, RPL3, MT-ATP6, RPL13A, RPS3\n",
      "NK: KLRF1, GNLY, CD247, TYROBP, FCER1G, SPON2, IL2RB, CD7, KLRD1, KLRB1, PRF1, CLIC3, NKG7, CTSW, GZMB, HOPX, JAK1, CD52, MALAT1, FTL, S100A6, S100A4, B2M, MT-CYB, FTH1, IL32, RPS12, MT-ND2, TMSB4X, VIM, MT-ND1, MT-ND3, RPL39\n",
      "other: PPBP, NRGN, MALAT1, HLA-B\n",
      "other_T: TRDC, CD3D, CD3G, GZMK, TRGC1, TRGC2, KLRB1, NCR3, LYAR, PHACTR2, IL7R, CD3E, S100A6, DUSP2, KLRG1, MT2A, CXCR4, SPOCK2, ZFP36L2, ARL4C, LTB, HCST, PPP2R5C, SYNE2, IL32, TMSB10, B2M, KLRD1, NEAT1, FYB1, CD2, ITGB1, TMSB4X, IFITM2, KLF2, MALAT1, CMC1, RPS27, ARL6IP5, TXNIP, GAPDH, TYROBP, TRAC, PTPRC, FTH1, RPL41, TRBC1, CYBA, TSC22D3, JAK1, RPL13A, HINT1, CD74, CD7, S100A11, FXYD5, MYL6, RPLP1, RPS19\n",
      "\n"
     ]
    }
   ],
   "source": [
    "print(text)"
   ]
  },
  {
   "cell_type": "code",
   "execution_count": null,
   "metadata": {},
   "outputs": [],
   "source": []
  }
 ],
 "metadata": {
  "kernelspec": {
   "display_name": "base",
   "language": "python",
   "name": "python3"
  },
  "language_info": {
   "codemirror_mode": {
    "name": "ipython",
    "version": 3
   },
   "file_extension": ".py",
   "mimetype": "text/x-python",
   "name": "python",
   "nbconvert_exporter": "python",
   "pygments_lexer": "ipython3",
   "version": "3.9.12"
  }
 },
 "nbformat": 4,
 "nbformat_minor": 2
}

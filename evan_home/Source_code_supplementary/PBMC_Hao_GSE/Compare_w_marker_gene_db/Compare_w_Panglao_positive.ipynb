{
 "cells": [
  {
   "cell_type": "code",
   "execution_count": 1,
   "metadata": {},
   "outputs": [],
   "source": [
    "import numpy as np\n",
    "import matplotlib.pyplot as plt\n",
    "import pandas as pd"
   ]
  },
  {
   "cell_type": "code",
   "execution_count": 2,
   "metadata": {},
   "outputs": [
    {
     "data": {
      "text/html": [
       "<div>\n",
       "<style scoped>\n",
       "    .dataframe tbody tr th:only-of-type {\n",
       "        vertical-align: middle;\n",
       "    }\n",
       "\n",
       "    .dataframe tbody tr th {\n",
       "        vertical-align: top;\n",
       "    }\n",
       "\n",
       "    .dataframe thead th {\n",
       "        text-align: right;\n",
       "    }\n",
       "</style>\n",
       "<table border=\"1\" class=\"dataframe\">\n",
       "  <thead>\n",
       "    <tr style=\"text-align: right;\">\n",
       "      <th></th>\n",
       "      <th>species</th>\n",
       "      <th>official gene symbol</th>\n",
       "      <th>cell type</th>\n",
       "      <th>nicknames</th>\n",
       "      <th>ubiquitousness index</th>\n",
       "      <th>product description</th>\n",
       "      <th>gene type</th>\n",
       "      <th>canonical marker</th>\n",
       "      <th>germ layer</th>\n",
       "      <th>organ</th>\n",
       "      <th>sensitivity_human</th>\n",
       "      <th>sensitivity_mouse</th>\n",
       "      <th>specificity_human</th>\n",
       "      <th>specificity_mouse</th>\n",
       "    </tr>\n",
       "  </thead>\n",
       "  <tbody>\n",
       "    <tr>\n",
       "      <th>0</th>\n",
       "      <td>Mm Hs</td>\n",
       "      <td>CTRB1</td>\n",
       "      <td>Acinar cells</td>\n",
       "      <td>CTRB</td>\n",
       "      <td>0.017</td>\n",
       "      <td>chymotrypsinogen B1</td>\n",
       "      <td>protein-coding gene</td>\n",
       "      <td>1.0</td>\n",
       "      <td>Endoderm</td>\n",
       "      <td>Pancreas</td>\n",
       "      <td>1.000000</td>\n",
       "      <td>0.957143</td>\n",
       "      <td>0.000629</td>\n",
       "      <td>0.015920</td>\n",
       "    </tr>\n",
       "    <tr>\n",
       "      <th>1</th>\n",
       "      <td>Mm Hs</td>\n",
       "      <td>KLK1</td>\n",
       "      <td>Acinar cells</td>\n",
       "      <td>Klk6</td>\n",
       "      <td>0.013</td>\n",
       "      <td>kallikrein 1</td>\n",
       "      <td>protein-coding gene</td>\n",
       "      <td>1.0</td>\n",
       "      <td>Endoderm</td>\n",
       "      <td>Pancreas</td>\n",
       "      <td>0.833333</td>\n",
       "      <td>0.314286</td>\n",
       "      <td>0.005031</td>\n",
       "      <td>0.012826</td>\n",
       "    </tr>\n",
       "    <tr>\n",
       "      <th>2</th>\n",
       "      <td>Mm Hs</td>\n",
       "      <td>RBPJL</td>\n",
       "      <td>Acinar cells</td>\n",
       "      <td>RBP-L|SUHL|RBPSUHL</td>\n",
       "      <td>0.001</td>\n",
       "      <td>recombination signal binding protein for immun...</td>\n",
       "      <td>protein-coding gene</td>\n",
       "      <td>1.0</td>\n",
       "      <td>Endoderm</td>\n",
       "      <td>Pancreas</td>\n",
       "      <td>0.000000</td>\n",
       "      <td>0.000000</td>\n",
       "      <td>0.000000</td>\n",
       "      <td>0.000000</td>\n",
       "    </tr>\n",
       "    <tr>\n",
       "      <th>3</th>\n",
       "      <td>Mm Hs</td>\n",
       "      <td>PTF1A</td>\n",
       "      <td>Acinar cells</td>\n",
       "      <td>PTF1-p48|bHLHa29</td>\n",
       "      <td>0.001</td>\n",
       "      <td>pancreas associated transcription factor 1a</td>\n",
       "      <td>protein-coding gene</td>\n",
       "      <td>1.0</td>\n",
       "      <td>Endoderm</td>\n",
       "      <td>Pancreas</td>\n",
       "      <td>0.000000</td>\n",
       "      <td>0.157143</td>\n",
       "      <td>0.000629</td>\n",
       "      <td>0.000773</td>\n",
       "    </tr>\n",
       "    <tr>\n",
       "      <th>4</th>\n",
       "      <td>Mm</td>\n",
       "      <td>TRY4</td>\n",
       "      <td>Acinar cells</td>\n",
       "      <td>NaN</td>\n",
       "      <td>0.007</td>\n",
       "      <td>trypsin 4</td>\n",
       "      <td>protein coding gene</td>\n",
       "      <td>1.0</td>\n",
       "      <td>Endoderm</td>\n",
       "      <td>Pancreas</td>\n",
       "      <td>NaN</td>\n",
       "      <td>NaN</td>\n",
       "      <td>NaN</td>\n",
       "      <td>NaN</td>\n",
       "    </tr>\n",
       "  </tbody>\n",
       "</table>\n",
       "</div>"
      ],
      "text/plain": [
       "  species official gene symbol     cell type           nicknames  \\\n",
       "0   Mm Hs                CTRB1  Acinar cells                CTRB   \n",
       "1   Mm Hs                 KLK1  Acinar cells                Klk6   \n",
       "2   Mm Hs                RBPJL  Acinar cells  RBP-L|SUHL|RBPSUHL   \n",
       "3   Mm Hs                PTF1A  Acinar cells    PTF1-p48|bHLHa29   \n",
       "4      Mm                 TRY4  Acinar cells                 NaN   \n",
       "\n",
       "   ubiquitousness index                                product description  \\\n",
       "0                 0.017                                chymotrypsinogen B1   \n",
       "1                 0.013                                       kallikrein 1   \n",
       "2                 0.001  recombination signal binding protein for immun...   \n",
       "3                 0.001        pancreas associated transcription factor 1a   \n",
       "4                 0.007                                          trypsin 4   \n",
       "\n",
       "             gene type  canonical marker germ layer     organ  \\\n",
       "0  protein-coding gene               1.0   Endoderm  Pancreas   \n",
       "1  protein-coding gene               1.0   Endoderm  Pancreas   \n",
       "2  protein-coding gene               1.0   Endoderm  Pancreas   \n",
       "3  protein-coding gene               1.0   Endoderm  Pancreas   \n",
       "4  protein coding gene               1.0   Endoderm  Pancreas   \n",
       "\n",
       "   sensitivity_human  sensitivity_mouse  specificity_human  specificity_mouse  \n",
       "0           1.000000           0.957143           0.000629           0.015920  \n",
       "1           0.833333           0.314286           0.005031           0.012826  \n",
       "2           0.000000           0.000000           0.000000           0.000000  \n",
       "3           0.000000           0.157143           0.000629           0.000773  \n",
       "4                NaN                NaN                NaN                NaN  "
      ]
     },
     "execution_count": 2,
     "metadata": {},
     "output_type": "execute_result"
    }
   ],
   "source": [
    "df = pd.read_csv('PanglaoDB_markers_27_Mar_2020.tsv', sep='\\t')\n",
    "df.head()"
   ]
  },
  {
   "cell_type": "code",
   "execution_count": 3,
   "metadata": {},
   "outputs": [
    {
     "data": {
      "text/plain": [
       "30"
      ]
     },
     "execution_count": 3,
     "metadata": {},
     "output_type": "execute_result"
    }
   ],
   "source": [
    "interested_types = [\n",
    "    \"Platelets\",\n",
    "    \"Erythroblasts\",\n",
    "    \"Erythroid-like and erythroid precursor cells\",\n",
    "    'Hematopoietic stem cells',\n",
    "    \"B cells\",\n",
    "    \"B cells memory\",\n",
    "    \"B cells naive\",\n",
    "    \"Basophils\",\n",
    "    \"Dendritic cells\",\n",
    "    \"Eosinophils\",\n",
    "    \"Gamma delta T cells\",\n",
    "    \"Macrophages\",\n",
    "    \"Mast cells\",\n",
    "    \"Megakaryocytes\",\n",
    "    \"Monocytes\",\n",
    "    \"Myeloid-derived suppressor cells\",\n",
    "    \"Natural killer T cells\",\n",
    "    \"Neutrophils\",\n",
    "    \"NK cells\",\n",
    "    \"Nuocytes\",\n",
    "    \"Plasma cells\",\n",
    "    \"Plasmacytoid dendritic cells\",\n",
    "    \"Red pulp macrophages\",\n",
    "    \"T cells\",\n",
    "    \"T cells naive\",\n",
    "    \"T cytotoxic cells\",\n",
    "    \"T follicular helper cells\",\n",
    "    \"T helper cells\",\n",
    "    \"T memory cells\",\n",
    "    \"T regulatory cells\"\n",
    "]\n",
    "\n",
    "len(interested_types)"
   ]
  },
  {
   "cell_type": "code",
   "execution_count": 4,
   "metadata": {},
   "outputs": [
    {
     "data": {
      "text/plain": [
       "(1859, 14)"
      ]
     },
     "execution_count": 4,
     "metadata": {},
     "output_type": "execute_result"
    }
   ],
   "source": [
    "# Filter the dataframe for rows where the 'species' column includes 'Hs' and\n",
    "# the 'cell type' column is in the list of interested_types\n",
    "marker_genes = df[df['species'].str.contains('Hs') & df['cell type'].isin(interested_types)]\n",
    "marker_genes.shape"
   ]
  },
  {
   "cell_type": "code",
   "execution_count": 5,
   "metadata": {},
   "outputs": [
    {
     "data": {
      "text/plain": [
       "30"
      ]
     },
     "execution_count": 5,
     "metadata": {},
     "output_type": "execute_result"
    }
   ],
   "source": [
    "len(marker_genes['cell type'].unique())"
   ]
  },
  {
   "cell_type": "markdown",
   "metadata": {},
   "source": [
    "## Get subset of markers for each celltypes"
   ]
  },
  {
   "cell_type": "code",
   "execution_count": 6,
   "metadata": {},
   "outputs": [
    {
     "name": "stdout",
     "output_type": "stream",
     "text": [
      "B cells: (319, 14)\n",
      "CD4 T: (94, 14)\n",
      "CD8 T: (8, 14)\n",
      "DC: (176, 14)\n",
      "Mono: (99, 14)\n",
      "NK: (80, 14)\n",
      "other: (338, 14)\n",
      "other T: (154, 14)\n"
     ]
    }
   ],
   "source": [
    "# B cells\n",
    "marker_B = ['B cells', 'B cells memory', 'B cells naive', 'Plasma cells']\n",
    "df_marker_B = marker_genes[marker_genes['cell type'].isin(marker_B)]\n",
    "print('B cells:', df_marker_B.shape)\n",
    "\n",
    "# CD4 T\n",
    "marker_CD4T = ['T helper cells', 'T follicular helper cells', 'T regulatory cells']\n",
    "df_marker_CD4T = marker_genes[marker_genes['cell type'].isin(marker_CD4T)]\n",
    "print('CD4 T:', df_marker_CD4T.shape)\n",
    "\n",
    "# CD8 T\n",
    "marker_CD8T = ['T cytotoxic cells']\n",
    "df_marker_CD8T = marker_genes[marker_genes['cell type'].isin(marker_CD8T)]\n",
    "print('CD8 T:', df_marker_CD8T.shape)\n",
    "\n",
    "# DC\n",
    "marker_DC = ['Dendritic cells', 'Plasmacytoid dendritic cells']\n",
    "df_marker_DC = marker_genes[marker_genes['cell type'].isin(marker_DC)]\n",
    "print('DC:', df_marker_DC.shape)\n",
    "\n",
    "# Mono\n",
    "marker_Mono = ['Monocytes']\n",
    "df_marker_Mono = marker_genes[marker_genes['cell type'].isin(marker_Mono)]\n",
    "print('Mono:', df_marker_Mono.shape)\n",
    "\n",
    "# NK\n",
    "marker_NK = ['NK cells']\n",
    "df_marker_NK = marker_genes[marker_genes['cell type'].isin(marker_NK)]\n",
    "print('NK:', df_marker_NK.shape)\n",
    "\n",
    "# other\n",
    "marker_other = ['Platelets', 'Erythroblasts', 'Erythroid-like and erythroid precursor cells', 'Hematopoietic stem cells', 'Nuocytes', 'Red pulp macrophages']\n",
    "df_marker_other = marker_genes[marker_genes['cell type'].isin(marker_other)]\n",
    "print('other:', df_marker_other.shape)\n",
    "\n",
    "# other T\n",
    "marker_otherT = ['T cells', 'T cells naive', 'T memory cells']\n",
    "df_marker_otherT = marker_genes[marker_genes['cell type'].isin(marker_otherT)]\n",
    "print('other T:', df_marker_otherT.shape)"
   ]
  },
  {
   "cell_type": "markdown",
   "metadata": {},
   "source": [
    "## Read PreLect features"
   ]
  },
  {
   "cell_type": "code",
   "execution_count": 7,
   "metadata": {},
   "outputs": [
    {
     "name": "stdout",
     "output_type": "stream",
     "text": [
      "Original adata: (161764, 33538)\n",
      "all cell types: ['B', 'CD4_T', 'CD8_T', 'DC', 'Mono', 'NK', 'other', 'other_T']\n",
      "====================\n"
     ]
    }
   ],
   "source": [
    "import scanpy as sc\n",
    "\n",
    "adata = sc.read_h5ad('/Users/evanli/Documents/Research_datasets/PBMC_Hao/GSE164378_Hao/Hao_PBMC_GSE164378.h5ad')\n",
    "print('Original adata:', adata.shape)\n",
    "label = adata.obs['celltype.l1'].tolist()\n",
    "types = np.unique(label).tolist()\n",
    "types = [s.replace(' ', '_') for s in types]\n",
    "print('all cell types:', types)\n",
    "print('====================')\n"
   ]
  },
  {
   "cell_type": "code",
   "execution_count": 8,
   "metadata": {},
   "outputs": [],
   "source": [
    "import os\n",
    "os.chdir('/Users/evanli/Documents/EvanPys/Progress/PBMC_Hao_GSE/L1_by_lossdiff/feature_selection')\n",
    "\n",
    "features_dict = {}\n",
    "# Read features for each celltype\n",
    "for celltype in types:\n",
    "    try:\n",
    "        feature_df = pd.read_csv(f'{celltype}_features.txt', names=['Gene', 'Weight', 'Tendency'], sep='\\t')\n",
    "        features_dict[celltype] = feature_df\n",
    "    except:\n",
    "        print('skipping:', celltype)\n",
    "        continue\n",
    "    # print(celltype, 'Feature count:', feature_df.shape[0])\n",
    "    # print(celltype, 'Positive feature count:', feature_df[feature_df['Tendency'] == 1].shape[0])\n",
    "    # print('------------------')"
   ]
  },
  {
   "cell_type": "code",
   "execution_count": 9,
   "metadata": {},
   "outputs": [
    {
     "data": {
      "text/plain": [
       "['B', 'CD4_T', 'CD8_T', 'DC', 'Mono', 'NK', 'other', 'other_T']"
      ]
     },
     "execution_count": 9,
     "metadata": {},
     "output_type": "execute_result"
    }
   ],
   "source": [
    "types"
   ]
  },
  {
   "cell_type": "code",
   "execution_count": 35,
   "metadata": {},
   "outputs": [],
   "source": [
    "from matplotlib_venn import venn2\n",
    "\n",
    "def compare_positive_PreLect_w_marker(celltype, PreLect_dict, marker_df, name=''):\n",
    "    if name == '':\n",
    "        name = celltype\n",
    "    # Extracting the features and marker genes\n",
    "    feature_df = PreLect_dict[celltype]\n",
    "    features = feature_df['Gene'].tolist()\n",
    "    positve_features = feature_df[feature_df['Tendency'] == 1]['Gene'].tolist()\n",
    "    marker_genes = marker_df['official gene symbol'].tolist()\n",
    "\n",
    "    # Finding common elements\n",
    "    common = list(set(positve_features) & set(marker_genes))\n",
    "    print(celltype, 'common with markers:', len(common))\n",
    "    \n",
    "    # Preparing sets for Venn diagram\n",
    "    features_set = set(positve_features)\n",
    "    marker_genes_set = set(marker_genes)\n",
    "    \n",
    "    # Plotting Venn diagram\n",
    "    plt.figure(figsize=(8, 5))\n",
    "    v = venn2([features_set, marker_genes_set], set_labels=('PreLect', f'{name} Marker'), set_colors=('blue', 'green'))\n",
    "    plt.title(name, fontsize=16)\n",
    "\n",
    "    for text in v.set_labels:\n",
    "        text.set_fontsize(14)\n",
    "    for text in v.subset_labels:\n",
    "        text.set_fontsize(16)\n",
    "    plt.show()\n",
    "\n",
    "    return common\n"
   ]
  },
  {
   "cell_type": "markdown",
   "metadata": {},
   "source": [
    "## B"
   ]
  },
  {
   "cell_type": "code",
   "execution_count": 36,
   "metadata": {},
   "outputs": [
    {
     "name": "stdout",
     "output_type": "stream",
     "text": [
      "B common with markers: 7\n"
     ]
    },
    {
     "data": {
      "image/png": "[encoded data removed]",
      "text/plain": [
       "<Figure size 800x500 with 1 Axes>"
      ]
     },
     "metadata": {},
     "output_type": "display_data"
    },
    {
     "name": "stdout",
     "output_type": "stream",
     "text": [
      "B_common: ['MS4A1', 'IGLC2', 'HLA-DRA', 'IGHM', 'CD74', 'CD79A', 'IGKC']\n"
     ]
    }
   ],
   "source": [
    "# select only 'B cells' from the marker_genes DB\n",
    "b = marker_genes[marker_genes['cell type'].isin(['B cells'])]\n",
    "b.shape\n",
    "B_common = compare_positive_PreLect_w_marker('B', features_dict, b, name='B cells')\n",
    "print('B_common:', B_common)"
   ]
  },
  {
   "cell_type": "markdown",
   "metadata": {},
   "source": [
    "## DC"
   ]
  },
  {
   "cell_type": "code",
   "execution_count": 37,
   "metadata": {},
   "outputs": [
    {
     "name": "stdout",
     "output_type": "stream",
     "text": [
      "DC common with markers: 7\n"
     ]
    },
    {
     "data": {
      "image/png": "[encoded data removed]",
      "text/plain": [
       "<Figure size 800x500 with 1 Axes>"
      ]
     },
     "metadata": {},
     "output_type": "display_data"
    },
    {
     "name": "stdout",
     "output_type": "stream",
     "text": [
      "DC_common: ['IRF8', 'HLA-DQA1', 'HLA-DRA', 'HLA-DPA1', 'FCER1A', 'HLA-DPB1', 'TCF4']\n"
     ]
    }
   ],
   "source": [
    "DC_common = compare_positive_PreLect_w_marker('DC', features_dict, df_marker_DC, name='Dendritic cell')\n",
    "print('DC_common:', DC_common)"
   ]
  },
  {
   "cell_type": "markdown",
   "metadata": {},
   "source": [
    "## Mono"
   ]
  },
  {
   "cell_type": "code",
   "execution_count": 38,
   "metadata": {},
   "outputs": [
    {
     "name": "stdout",
     "output_type": "stream",
     "text": [
      "Mono common with markers: 6\n"
     ]
    },
    {
     "data": {
      "image/png": "[encoded data removed]",
      "text/plain": [
       "<Figure size 800x500 with 1 Axes>"
      ]
     },
     "metadata": {},
     "output_type": "display_data"
    },
    {
     "name": "stdout",
     "output_type": "stream",
     "text": [
      "Mono_common: ['LST1', 'S100A9', 'S100A8', 'SERPINA1', 'FCN1', 'LYZ']\n"
     ]
    }
   ],
   "source": [
    "Mono_common = compare_positive_PreLect_w_marker('Mono', features_dict, df_marker_Mono, name='Monocyte')\n",
    "print('Mono_common:', Mono_common)"
   ]
  },
  {
   "cell_type": "markdown",
   "metadata": {},
   "source": [
    "## NK"
   ]
  },
  {
   "cell_type": "code",
   "execution_count": 39,
   "metadata": {},
   "outputs": [
    {
     "name": "stdout",
     "output_type": "stream",
     "text": [
      "NK common with markers: 12\n"
     ]
    },
    {
     "data": {
      "image/png": "[encoded data removed]",
      "text/plain": [
       "<Figure size 800x500 with 1 Axes>"
      ]
     },
     "metadata": {},
     "output_type": "display_data"
    },
    {
     "name": "stdout",
     "output_type": "stream",
     "text": [
      "NK_common: ['CTSW', 'CD7', 'SPON2', 'CD247', 'KLRF1', 'GNLY', 'KLRB1', 'PRF1', 'IL2RB', 'NKG7', 'TRDC', 'KLRD1']\n"
     ]
    }
   ],
   "source": [
    "NK_common = compare_positive_PreLect_w_marker('NK', features_dict, df_marker_NK, name='NK cell')\n",
    "print('NK_common:', NK_common)"
   ]
  },
  {
   "cell_type": "markdown",
   "metadata": {},
   "source": [
    "## All T cells"
   ]
  },
  {
   "cell_type": "code",
   "execution_count": 40,
   "metadata": {},
   "outputs": [
    {
     "data": {
      "text/plain": [
       "['B', 'CD4_T', 'CD8_T', 'DC', 'Mono', 'NK', 'other', 'other_T']"
      ]
     },
     "execution_count": 40,
     "metadata": {},
     "output_type": "execute_result"
    }
   ],
   "source": [
    "types"
   ]
  },
  {
   "cell_type": "code",
   "execution_count": 29,
   "metadata": {},
   "outputs": [
    {
     "data": {
      "text/plain": [
       "105"
      ]
     },
     "execution_count": 29,
     "metadata": {},
     "output_type": "execute_result"
    }
   ],
   "source": [
    "# Get the positive features for each cell type\n",
    "CD4_T_positive = set(features_dict['CD4_T'][features_dict['CD4_T']['Tendency'] == 1]['Gene'])\n",
    "CD8_T_positive = set(features_dict['CD8_T'][features_dict['CD8_T']['Tendency'] == 1]['Gene'])\n",
    "other_T_positive = set(features_dict['other_T'][features_dict['other_T']['Tendency'] == 1]['Gene'])\n",
    "# CD4_T_features = set(features_dict['CD4_T']['Gene'])\n",
    "# CD8_T_features = set(features_dict['CD8_T']['Gene'])\n",
    "# other_T_features = set(features_dict['other_T']['Gene'])\n",
    "\n",
    "# Get the union of the features\n",
    "union_features = CD4_T_positive.union(CD8_T_positive, other_T_positive)\n",
    "len(union_features)\n"
   ]
  },
  {
   "cell_type": "code",
   "execution_count": 30,
   "metadata": {},
   "outputs": [
    {
     "name": "stdout",
     "output_type": "stream",
     "text": [
      "T cells markers: (256, 14)\n"
     ]
    }
   ],
   "source": [
    "# All T cells markers form DB\n",
    "marker_t_all = [\"T cells\", \"T cells naive\", \"T cytotoxic cells\", \n",
    "                'T helper cells', 'T follicular helper cells', 'T regulatory cells', \"T memory cells\"]\n",
    "df_marker_t_all = marker_genes[marker_genes['cell type'].isin(marker_t_all)]\n",
    "print('T cells markers:', df_marker_t_all.shape)"
   ]
  },
  {
   "cell_type": "code",
   "execution_count": 42,
   "metadata": {},
   "outputs": [
    {
     "name": "stdout",
     "output_type": "stream",
     "text": [
      "T cell common with markers: 27\n"
     ]
    },
    {
     "data": {
      "image/png": "[encoded data removed]",
      "text/plain": [
       "<Figure size 800x500 with 1 Axes>"
      ]
     },
     "metadata": {},
     "output_type": "display_data"
    },
    {
     "name": "stdout",
     "output_type": "stream",
     "text": [
      "All T cells common: ['CD3E', 'CD247', 'CD3D', 'CD52', 'DUSP2', 'KLRB1', 'LTB', 'TRAC', 'CD40LG', 'TNFAIP3', 'IKZF1', 'CD8B', 'GZMK', 'TRBC2', 'S100A4', 'IL7R', 'CCL5', 'RORA', 'MAF', 'CXCR4', 'CD3G', 'CD4', 'IL32', 'CD6', 'CD2', 'CD8A', 'TRDC']\n"
     ]
    }
   ],
   "source": [
    "# Preparing sets for Venn diagram\n",
    "features_set = set(union_features)\n",
    "marker_genes_set = set(df_marker_t_all['official gene symbol'].tolist())\n",
    "\n",
    "# Finding common elements\n",
    "common = list(features_set & marker_genes_set)\n",
    "print('T cell', 'common with markers:', len(common))\n",
    "\n",
    "\n",
    "# Plotting Venn diagram\n",
    "plt.figure(figsize=(8, 5))\n",
    "v = venn2([features_set, marker_genes_set], set_labels=('PreLect', 'T cell Markers'), set_colors=('blue', 'green'))\n",
    "plt.title('T cell', fontsize=16)\n",
    "\n",
    "for text in v.set_labels:\n",
    "    text.set_fontsize(14)\n",
    "for text in v.subset_labels:\n",
    "    text.set_fontsize(16)\n",
    "plt.show()\n",
    "\n",
    "print('All T cells common:', common)"
   ]
  },
  {
   "cell_type": "code",
   "execution_count": null,
   "metadata": {},
   "outputs": [],
   "source": []
  }
 ],
 "metadata": {
  "kernelspec": {
   "display_name": "base",
   "language": "python",
   "name": "python3"
  },
  "language_info": {
   "codemirror_mode": {
    "name": "ipython",
    "version": 3
   },
   "file_extension": ".py",
   "mimetype": "text/x-python",
   "name": "python",
   "nbconvert_exporter": "python",
   "pygments_lexer": "ipython3",
   "version": "3.9.12"
  }
 },
 "nbformat": 4,
 "nbformat_minor": 2
}

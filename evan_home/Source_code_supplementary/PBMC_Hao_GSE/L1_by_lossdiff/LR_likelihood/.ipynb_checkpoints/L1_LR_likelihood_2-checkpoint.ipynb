{
 "cells": [
  {
   "cell_type": "code",
   "execution_count": 1,
   "metadata": {
    "tags": []
   },
   "outputs": [],
   "source": [
    "import pandas as pd\n",
    "import numpy as np\n",
    "import matplotlib.pyplot as plt\n",
    "import pickle\n",
    "import os\n",
    "import sys\n",
    "\n",
    "from sklearn.linear_model import LogisticRegression\n",
    "from sklearn.model_selection import train_test_split"
   ]
  },
  {
   "cell_type": "code",
   "execution_count": 2,
   "metadata": {},
   "outputs": [
    {
     "data": {
      "text/plain": [
       "(161764, 33538)"
      ]
     },
     "execution_count": 2,
     "metadata": {},
     "output_type": "execute_result"
    }
   ],
   "source": [
    "import scanpy as sc\n",
    "# import scvelo as scv\n",
    "\n",
    "# read the full GSE dataset\n",
    "# data = sc.read_h5ad('/Users/evanli/Documents/Research_datasets/PBMC_Hao/GSE164378_Hao/Hao_PBMC_GSE164378.h5ad')\n",
    "data = sc.read_h5ad(r\"C:\\Users\\evanlee\\Documents\\Research_datasets\\GSE164378\\Hao_PBMC_GSE164378.h5ad\")\n",
    "data.shape"
   ]
  },
  {
   "cell_type": "code",
   "execution_count": 3,
   "metadata": {},
   "outputs": [],
   "source": [
    "### Raw counts were not normalizaed\n",
    "# CPM\n",
    "sc.pp.normalize_total(data, target_sum=1e6)\n",
    "\n",
    "# log1p\n",
    "sc.pp.log1p(data)"
   ]
  },
  {
   "cell_type": "code",
   "execution_count": 4,
   "metadata": {},
   "outputs": [
    {
     "name": "stdout",
     "output_type": "stream",
     "text": [
      "['B', 'CD4_T', 'CD8_T', 'DC', 'Mono', 'NK', 'other', 'other_T']\n"
     ]
    }
   ],
   "source": [
    "data.obs['celltype.l1'] = data.obs['celltype.l1'].str.replace(' ', '_')\n",
    "\n",
    "label = data.obs['celltype.l1'].tolist()\n",
    "types = np.unique(label).tolist()\n",
    "# types = [s.replace(' ', '_') for s in types]\n",
    "print(types)"
   ]
  },
  {
   "cell_type": "markdown",
   "metadata": {},
   "source": [
    "## Read features"
   ]
  },
  {
   "cell_type": "code",
   "execution_count": 5,
   "metadata": {},
   "outputs": [],
   "source": [
    "# Level 1 ADlasso features by loss difference convergence\n",
    "import os\n",
    "# os.chdir('/Users/evanli/Documents/EvanPys/Progress/PBMC_Hao_GSE/L1_by_lossdiff/feature_selection')\n",
    "os.chdir(r\"C:\\Users\\evanlee\\Documents\\GitHub\\EvanPys\\Progress\\PBMC_Hao_GSE\\L1_by_lossdiff\\feature_selection\")\n",
    "\n",
    "types = ['B', 'CD4_T', 'CD8_T', 'DC', 'Mono', 'NK', 'other', 'other_T']\n",
    "features_dict = {}\n",
    "# Read features for each celltype\n",
    "for celltype in types:\n",
    "    try:\n",
    "        feature_df = pd.read_csv(f'{celltype}_features.txt', names=['Gene', 'Weight', 'Tendency'], sep='\\t')\n",
    "        features_dict[celltype] = feature_df\n",
    "    except:\n",
    "        print('skipping:', celltype)\n",
    "        continue\n",
    "    # print(celltype, 'Feature count:', feature_df.shape[0])\n",
    "    # print(celltype, 'Positive feature count:', feature_df[feature_df['Tendency'] == 1].shape[0])\n",
    "    # print('------------------')"
   ]
  },
  {
   "cell_type": "code",
   "execution_count": 6,
   "metadata": {},
   "outputs": [
    {
     "data": {
      "text/html": [
       "<div>\n",
       "<style scoped>\n",
       "    .dataframe tbody tr th:only-of-type {\n",
       "        vertical-align: middle;\n",
       "    }\n",
       "\n",
       "    .dataframe tbody tr th {\n",
       "        vertical-align: top;\n",
       "    }\n",
       "\n",
       "    .dataframe thead th {\n",
       "        text-align: right;\n",
       "    }\n",
       "</style>\n",
       "<table border=\"1\" class=\"dataframe\">\n",
       "  <thead>\n",
       "    <tr style=\"text-align: right;\">\n",
       "      <th></th>\n",
       "      <th>Feature_count</th>\n",
       "      <th>Positive_feature_count</th>\n",
       "    </tr>\n",
       "  </thead>\n",
       "  <tbody>\n",
       "    <tr>\n",
       "      <th>B</th>\n",
       "      <td>13</td>\n",
       "      <td>7</td>\n",
       "    </tr>\n",
       "    <tr>\n",
       "      <th>CD4_T</th>\n",
       "      <td>200</td>\n",
       "      <td>83</td>\n",
       "    </tr>\n",
       "    <tr>\n",
       "      <th>CD8_T</th>\n",
       "      <td>25</td>\n",
       "      <td>6</td>\n",
       "    </tr>\n",
       "    <tr>\n",
       "      <th>DC</th>\n",
       "      <td>25</td>\n",
       "      <td>15</td>\n",
       "    </tr>\n",
       "    <tr>\n",
       "      <th>Mono</th>\n",
       "      <td>21</td>\n",
       "      <td>11</td>\n",
       "    </tr>\n",
       "    <tr>\n",
       "      <th>NK</th>\n",
       "      <td>28</td>\n",
       "      <td>14</td>\n",
       "    </tr>\n",
       "    <tr>\n",
       "      <th>other</th>\n",
       "      <td>42</td>\n",
       "      <td>27</td>\n",
       "    </tr>\n",
       "    <tr>\n",
       "      <th>other_T</th>\n",
       "      <td>61</td>\n",
       "      <td>26</td>\n",
       "    </tr>\n",
       "  </tbody>\n",
       "</table>\n",
       "</div>"
      ],
      "text/plain": [
       "         Feature_count  Positive_feature_count\n",
       "B                   13                       7\n",
       "CD4_T              200                      83\n",
       "CD8_T               25                       6\n",
       "DC                  25                      15\n",
       "Mono                21                      11\n",
       "NK                  28                      14\n",
       "other               42                      27\n",
       "other_T             61                      26"
      ]
     },
     "execution_count": 6,
     "metadata": {},
     "output_type": "execute_result"
    }
   ],
   "source": [
    "count_df = pd.DataFrame(columns=['Feature_count', 'Positive_feature_count'])\n",
    "for celltype in features_dict.keys():\n",
    "    feature_df = features_dict[celltype]\n",
    "    feature_count = feature_df.shape[0]\n",
    "    positive_count = feature_df[feature_df['Tendency'] == 1].shape[0]\n",
    "    count_df.loc[celltype] = [feature_count, positive_count]\n",
    "count_df"
   ]
  },
  {
   "cell_type": "markdown",
   "metadata": {},
   "source": [
    "## Get likelihood from LR model"
   ]
  },
  {
   "cell_type": "code",
   "execution_count": 10,
   "metadata": {},
   "outputs": [],
   "source": [
    "def LR_likelihood(data, all_features_dict, celltype):\n",
    "    print('====================')\n",
    "    print('Celltype:', celltype)\n",
    "    # subset data to celltype features\n",
    "    X = data[:, all_features_dict[celltype]['Gene'].tolist()].X\n",
    "    # Binary label\n",
    "    y = [1 if i==celltype else 0 for i in data.obs['celltype.l1'].tolist()]\n",
    "\n",
    "    X_train, X_test, y_train, y_test = train_test_split(X, y, test_size=0.2, random_state=0, stratify=y)\n",
    "\n",
    "    clf = LogisticRegression(penalty='l2', solver='lbfgs', C=1.0, max_iter=1000)\n",
    "    clf.fit(X_train, y_train)\n",
    "\n",
    "    decision_scores = clf.decision_function(X)  # >0: predict celltype, <0: predict not celltype\n",
    "    print('decision_scores > 0:', sum(decision_scores > 0))\n",
    "\n",
    "    # calculate the likelihood of the positive class for each observation in X based on the decision scores\n",
    "    likelihood = 1 / (1 + np.exp(-decision_scores))\n",
    "    print('likelihood > 0.5:', sum(likelihood > 0.5))  # >0.5: predict celltype, <0.5: predict not celltype\n",
    "\n",
    "    return likelihood\n"
   ]
  },
  {
   "cell_type": "code",
   "execution_count": 9,
   "metadata": {},
   "outputs": [
    {
     "name": "stdout",
     "output_type": "stream",
     "text": [
      "decision_scores > 0 13797\n",
      "likelihood > 0.5: 13797\n"
     ]
    },
    {
     "data": {
      "text/plain": [
       "(161764,)"
      ]
     },
     "execution_count": 9,
     "metadata": {},
     "output_type": "execute_result"
    }
   ],
   "source": [
    "celltype = 'B'\n",
    "B_likelihood = LR_likelihood(data, features_dict, celltype)\n",
    "B_likelihood.shape"
   ]
  },
  {
   "cell_type": "code",
   "execution_count": 11,
   "metadata": {},
   "outputs": [
    {
     "name": "stdout",
     "output_type": "stream",
     "text": [
      "====================\n",
      "Celltype: B\n",
      "decision_scores > 0: 13797\n",
      "likelihood > 0.5: 13797\n",
      "====================\n",
      "Celltype: CD4_T\n",
      "decision_scores > 0: 41021\n",
      "likelihood > 0.5: 41021\n",
      "====================\n",
      "Celltype: CD8_T\n",
      "decision_scores > 0: 24604\n",
      "likelihood > 0.5: 24604\n",
      "====================\n",
      "Celltype: DC\n",
      "decision_scores > 0: 3557\n",
      "likelihood > 0.5: 3557\n",
      "====================\n",
      "Celltype: Mono\n",
      "decision_scores > 0: 49941\n",
      "likelihood > 0.5: 49941\n",
      "====================\n",
      "Celltype: NK\n",
      "decision_scores > 0: 18711\n",
      "likelihood > 0.5: 18711\n",
      "====================\n",
      "Celltype: other\n",
      "decision_scores > 0: 2743\n",
      "likelihood > 0.5: 2743\n",
      "====================\n",
      "Celltype: other_T\n",
      "decision_scores > 0: 5700\n",
      "likelihood > 0.5: 5700\n"
     ]
    }
   ],
   "source": [
    "likelihood_dict = {}\n",
    "for celltype in types:\n",
    "    likelihood_dict[celltype] = LR_likelihood(data, features_dict, celltype)"
   ]
  },
  {
   "cell_type": "code",
   "execution_count": 12,
   "metadata": {},
   "outputs": [
    {
     "data": {
      "text/plain": [
       "celltype.l1\n",
       "Mono       49010\n",
       "CD4_T      41001\n",
       "CD8_T      25469\n",
       "NK         18664\n",
       "B          13800\n",
       "other_T     6789\n",
       "DC          3589\n",
       "other       3442\n",
       "Name: count, dtype: int64"
      ]
     },
     "execution_count": 12,
     "metadata": {},
     "output_type": "execute_result"
    }
   ],
   "source": [
    "data.obs['celltype.l1'].value_counts()"
   ]
  },
  {
   "cell_type": "code",
   "execution_count": 13,
   "metadata": {},
   "outputs": [
    {
     "data": {
      "text/html": [
       "<div>\n",
       "<style scoped>\n",
       "    .dataframe tbody tr th:only-of-type {\n",
       "        vertical-align: middle;\n",
       "    }\n",
       "\n",
       "    .dataframe tbody tr th {\n",
       "        vertical-align: top;\n",
       "    }\n",
       "\n",
       "    .dataframe thead th {\n",
       "        text-align: right;\n",
       "    }\n",
       "</style>\n",
       "<table border=\"1\" class=\"dataframe\">\n",
       "  <thead>\n",
       "    <tr style=\"text-align: right;\">\n",
       "      <th></th>\n",
       "      <th>B</th>\n",
       "      <th>CD4_T</th>\n",
       "      <th>CD8_T</th>\n",
       "      <th>DC</th>\n",
       "      <th>Mono</th>\n",
       "      <th>NK</th>\n",
       "      <th>other</th>\n",
       "      <th>other_T</th>\n",
       "    </tr>\n",
       "  </thead>\n",
       "  <tbody>\n",
       "    <tr>\n",
       "      <th>0</th>\n",
       "      <td>1.404770e-06</td>\n",
       "      <td>0.000095</td>\n",
       "      <td>0.000347</td>\n",
       "      <td>9.861753e-06</td>\n",
       "      <td>9.436343e-01</td>\n",
       "      <td>2.385146e-06</td>\n",
       "      <td>0.002143</td>\n",
       "      <td>0.000071</td>\n",
       "    </tr>\n",
       "    <tr>\n",
       "      <th>1</th>\n",
       "      <td>5.349328e-07</td>\n",
       "      <td>0.997527</td>\n",
       "      <td>0.013055</td>\n",
       "      <td>1.222594e-14</td>\n",
       "      <td>2.342952e-10</td>\n",
       "      <td>2.234398e-06</td>\n",
       "      <td>0.004022</td>\n",
       "      <td>0.001214</td>\n",
       "    </tr>\n",
       "    <tr>\n",
       "      <th>2</th>\n",
       "      <td>4.825896e-06</td>\n",
       "      <td>0.010334</td>\n",
       "      <td>0.998874</td>\n",
       "      <td>5.509071e-14</td>\n",
       "      <td>5.731363e-12</td>\n",
       "      <td>2.098368e-05</td>\n",
       "      <td>0.003307</td>\n",
       "      <td>0.008626</td>\n",
       "    </tr>\n",
       "    <tr>\n",
       "      <th>3</th>\n",
       "      <td>6.481929e-07</td>\n",
       "      <td>0.000123</td>\n",
       "      <td>0.010338</td>\n",
       "      <td>1.085362e-13</td>\n",
       "      <td>4.362391e-10</td>\n",
       "      <td>9.998705e-01</td>\n",
       "      <td>0.001026</td>\n",
       "      <td>0.008453</td>\n",
       "    </tr>\n",
       "    <tr>\n",
       "      <th>4</th>\n",
       "      <td>3.412856e-08</td>\n",
       "      <td>0.000912</td>\n",
       "      <td>0.994669</td>\n",
       "      <td>1.715550e-18</td>\n",
       "      <td>1.307734e-07</td>\n",
       "      <td>2.185635e-07</td>\n",
       "      <td>0.006052</td>\n",
       "      <td>0.005609</td>\n",
       "    </tr>\n",
       "  </tbody>\n",
       "</table>\n",
       "</div>"
      ],
      "text/plain": [
       "              B     CD4_T     CD8_T            DC          Mono            NK  \\\n",
       "0  1.404770e-06  0.000095  0.000347  9.861753e-06  9.436343e-01  2.385146e-06   \n",
       "1  5.349328e-07  0.997527  0.013055  1.222594e-14  2.342952e-10  2.234398e-06   \n",
       "2  4.825896e-06  0.010334  0.998874  5.509071e-14  5.731363e-12  2.098368e-05   \n",
       "3  6.481929e-07  0.000123  0.010338  1.085362e-13  4.362391e-10  9.998705e-01   \n",
       "4  3.412856e-08  0.000912  0.994669  1.715550e-18  1.307734e-07  2.185635e-07   \n",
       "\n",
       "      other   other_T  \n",
       "0  0.002143  0.000071  \n",
       "1  0.004022  0.001214  \n",
       "2  0.003307  0.008626  \n",
       "3  0.001026  0.008453  \n",
       "4  0.006052  0.005609  "
      ]
     },
     "execution_count": 13,
     "metadata": {},
     "output_type": "execute_result"
    }
   ],
   "source": [
    "# turn likelihood_dict into dataframe\n",
    "likelihood_df = pd.DataFrame(likelihood_dict)\n",
    "likelihood_df.head()"
   ]
  },
  {
   "cell_type": "code",
   "execution_count": 14,
   "metadata": {},
   "outputs": [
    {
     "data": {
      "text/plain": [
       "(161764, 8)"
      ]
     },
     "execution_count": 14,
     "metadata": {},
     "output_type": "execute_result"
    }
   ],
   "source": [
    "likelihood_df.shape"
   ]
  },
  {
   "cell_type": "code",
   "execution_count": 17,
   "metadata": {},
   "outputs": [],
   "source": [
    "os.chdir(r\"C:\\Users\\evanlee\\Documents\\GitHub\\EvanPys\\Progress\\PBMC_Hao_GSE\\L1_by_lossdiff\\LR_likelihood\")\n",
    "\n",
    "likelihood_df.to_csv('L1_likelihood_df.csv', index=False)"
   ]
  },
  {
   "cell_type": "markdown",
   "metadata": {},
   "source": [
    "## (1st_type / 2nd_type) >= 1.5"
   ]
  },
  {
   "cell_type": "code",
   "execution_count": 21,
   "metadata": {},
   "outputs": [
    {
     "data": {
      "text/plain": [
       "(161764, 6)"
      ]
     },
     "execution_count": 21,
     "metadata": {},
     "output_type": "execute_result"
    }
   ],
   "source": [
    "largest_values = []\n",
    "second_largest_values = []\n",
    "largest_columns = []\n",
    "second_largest_columns = []\n",
    "odds_ratio_list = []\n",
    "assignments = []\n",
    "\n",
    "for index, row in likelihood_df.iterrows():\n",
    "    # find 1st and 2nd largest values and their corresponding columns\n",
    "    largest_value = row.max()\n",
    "    largest_column = row.idxmax()\n",
    "    second_largest_value = row.nlargest(2).iloc[-1]\n",
    "    second_largest_column = row.nlargest(2).index[-1]\n",
    "    \n",
    "    largest_values.append(largest_value)\n",
    "    second_largest_values.append(second_largest_value)\n",
    "    largest_columns.append(largest_column)\n",
    "    second_largest_columns.append(second_largest_column)\n",
    "\n",
    "    # calculate odds ratio\n",
    "    odds_ratio = largest_value / second_largest_value\n",
    "    if odds_ratio >= 1.5:\n",
    "        assign = largest_column\n",
    "    else:\n",
    "        assign = 'Uncertain'\n",
    "    odds_ratio_list.append(odds_ratio)\n",
    "    assignments.append(assign)\n",
    "\n",
    "result_df = pd.DataFrame({'Largest Value': largest_values, 'Largest Column': largest_columns,\n",
    "                          'Second Largest Value': second_largest_values, 'Second Largest Column': second_largest_columns, \n",
    "                          'Odds Ratio': odds_ratio_list, 'Assignment': assignments})\n",
    "result_df.shape\n"
   ]
  },
  {
   "cell_type": "code",
   "execution_count": 22,
   "metadata": {},
   "outputs": [
    {
     "data": {
      "text/html": [
       "<div>\n",
       "<style scoped>\n",
       "    .dataframe tbody tr th:only-of-type {\n",
       "        vertical-align: middle;\n",
       "    }\n",
       "\n",
       "    .dataframe tbody tr th {\n",
       "        vertical-align: top;\n",
       "    }\n",
       "\n",
       "    .dataframe thead th {\n",
       "        text-align: right;\n",
       "    }\n",
       "</style>\n",
       "<table border=\"1\" class=\"dataframe\">\n",
       "  <thead>\n",
       "    <tr style=\"text-align: right;\">\n",
       "      <th></th>\n",
       "      <th>Largest Value</th>\n",
       "      <th>Largest Column</th>\n",
       "      <th>Second Largest Value</th>\n",
       "      <th>Second Largest Column</th>\n",
       "      <th>Odds Ratio</th>\n",
       "      <th>Assignment</th>\n",
       "    </tr>\n",
       "  </thead>\n",
       "  <tbody>\n",
       "    <tr>\n",
       "      <th>0</th>\n",
       "      <td>0.943634</td>\n",
       "      <td>Mono</td>\n",
       "      <td>0.002143</td>\n",
       "      <td>other</td>\n",
       "      <td>440.304924</td>\n",
       "      <td>Mono</td>\n",
       "    </tr>\n",
       "    <tr>\n",
       "      <th>1</th>\n",
       "      <td>0.997527</td>\n",
       "      <td>CD4_T</td>\n",
       "      <td>0.013055</td>\n",
       "      <td>CD8_T</td>\n",
       "      <td>76.408483</td>\n",
       "      <td>CD4_T</td>\n",
       "    </tr>\n",
       "    <tr>\n",
       "      <th>2</th>\n",
       "      <td>0.998874</td>\n",
       "      <td>CD8_T</td>\n",
       "      <td>0.010334</td>\n",
       "      <td>CD4_T</td>\n",
       "      <td>96.662313</td>\n",
       "      <td>CD8_T</td>\n",
       "    </tr>\n",
       "    <tr>\n",
       "      <th>3</th>\n",
       "      <td>0.999871</td>\n",
       "      <td>NK</td>\n",
       "      <td>0.010338</td>\n",
       "      <td>CD8_T</td>\n",
       "      <td>96.722184</td>\n",
       "      <td>NK</td>\n",
       "    </tr>\n",
       "    <tr>\n",
       "      <th>4</th>\n",
       "      <td>0.994669</td>\n",
       "      <td>CD8_T</td>\n",
       "      <td>0.006052</td>\n",
       "      <td>other</td>\n",
       "      <td>164.363004</td>\n",
       "      <td>CD8_T</td>\n",
       "    </tr>\n",
       "    <tr>\n",
       "      <th>5</th>\n",
       "      <td>0.546333</td>\n",
       "      <td>CD8_T</td>\n",
       "      <td>0.007233</td>\n",
       "      <td>other_T</td>\n",
       "      <td>75.538183</td>\n",
       "      <td>CD8_T</td>\n",
       "    </tr>\n",
       "    <tr>\n",
       "      <th>6</th>\n",
       "      <td>0.986612</td>\n",
       "      <td>Mono</td>\n",
       "      <td>0.001584</td>\n",
       "      <td>other</td>\n",
       "      <td>622.702626</td>\n",
       "      <td>Mono</td>\n",
       "    </tr>\n",
       "    <tr>\n",
       "      <th>7</th>\n",
       "      <td>0.998959</td>\n",
       "      <td>B</td>\n",
       "      <td>0.005803</td>\n",
       "      <td>other</td>\n",
       "      <td>172.149721</td>\n",
       "      <td>B</td>\n",
       "    </tr>\n",
       "    <tr>\n",
       "      <th>8</th>\n",
       "      <td>0.999251</td>\n",
       "      <td>NK</td>\n",
       "      <td>0.014307</td>\n",
       "      <td>other_T</td>\n",
       "      <td>69.845339</td>\n",
       "      <td>NK</td>\n",
       "    </tr>\n",
       "    <tr>\n",
       "      <th>9</th>\n",
       "      <td>0.998975</td>\n",
       "      <td>CD8_T</td>\n",
       "      <td>0.053109</td>\n",
       "      <td>CD4_T</td>\n",
       "      <td>18.809920</td>\n",
       "      <td>CD8_T</td>\n",
       "    </tr>\n",
       "    <tr>\n",
       "      <th>10</th>\n",
       "      <td>0.937174</td>\n",
       "      <td>CD4_T</td>\n",
       "      <td>0.067305</td>\n",
       "      <td>CD8_T</td>\n",
       "      <td>13.924229</td>\n",
       "      <td>CD4_T</td>\n",
       "    </tr>\n",
       "    <tr>\n",
       "      <th>11</th>\n",
       "      <td>0.831896</td>\n",
       "      <td>CD4_T</td>\n",
       "      <td>0.014403</td>\n",
       "      <td>CD8_T</td>\n",
       "      <td>57.757706</td>\n",
       "      <td>CD4_T</td>\n",
       "    </tr>\n",
       "    <tr>\n",
       "      <th>12</th>\n",
       "      <td>0.563848</td>\n",
       "      <td>CD4_T</td>\n",
       "      <td>0.040490</td>\n",
       "      <td>CD8_T</td>\n",
       "      <td>13.925466</td>\n",
       "      <td>CD4_T</td>\n",
       "    </tr>\n",
       "    <tr>\n",
       "      <th>13</th>\n",
       "      <td>0.999975</td>\n",
       "      <td>B</td>\n",
       "      <td>0.172083</td>\n",
       "      <td>CD8_T</td>\n",
       "      <td>5.810987</td>\n",
       "      <td>B</td>\n",
       "    </tr>\n",
       "    <tr>\n",
       "      <th>14</th>\n",
       "      <td>0.895347</td>\n",
       "      <td>Mono</td>\n",
       "      <td>0.003584</td>\n",
       "      <td>other</td>\n",
       "      <td>249.822383</td>\n",
       "      <td>Mono</td>\n",
       "    </tr>\n",
       "    <tr>\n",
       "      <th>15</th>\n",
       "      <td>0.997266</td>\n",
       "      <td>CD4_T</td>\n",
       "      <td>0.063749</td>\n",
       "      <td>other_T</td>\n",
       "      <td>15.643615</td>\n",
       "      <td>CD4_T</td>\n",
       "    </tr>\n",
       "    <tr>\n",
       "      <th>16</th>\n",
       "      <td>0.982404</td>\n",
       "      <td>other_T</td>\n",
       "      <td>0.078533</td>\n",
       "      <td>CD8_T</td>\n",
       "      <td>12.509398</td>\n",
       "      <td>other_T</td>\n",
       "    </tr>\n",
       "    <tr>\n",
       "      <th>17</th>\n",
       "      <td>0.995794</td>\n",
       "      <td>NK</td>\n",
       "      <td>0.000648</td>\n",
       "      <td>CD8_T</td>\n",
       "      <td>1536.343020</td>\n",
       "      <td>NK</td>\n",
       "    </tr>\n",
       "    <tr>\n",
       "      <th>18</th>\n",
       "      <td>0.756859</td>\n",
       "      <td>CD4_T</td>\n",
       "      <td>0.011818</td>\n",
       "      <td>CD8_T</td>\n",
       "      <td>64.043089</td>\n",
       "      <td>CD4_T</td>\n",
       "    </tr>\n",
       "    <tr>\n",
       "      <th>19</th>\n",
       "      <td>0.999322</td>\n",
       "      <td>NK</td>\n",
       "      <td>0.001460</td>\n",
       "      <td>other</td>\n",
       "      <td>684.660422</td>\n",
       "      <td>NK</td>\n",
       "    </tr>\n",
       "  </tbody>\n",
       "</table>\n",
       "</div>"
      ],
      "text/plain": [
       "    Largest Value Largest Column  Second Largest Value Second Largest Column  \\\n",
       "0        0.943634           Mono              0.002143                 other   \n",
       "1        0.997527          CD4_T              0.013055                 CD8_T   \n",
       "2        0.998874          CD8_T              0.010334                 CD4_T   \n",
       "3        0.999871             NK              0.010338                 CD8_T   \n",
       "4        0.994669          CD8_T              0.006052                 other   \n",
       "5        0.546333          CD8_T              0.007233               other_T   \n",
       "6        0.986612           Mono              0.001584                 other   \n",
       "7        0.998959              B              0.005803                 other   \n",
       "8        0.999251             NK              0.014307               other_T   \n",
       "9        0.998975          CD8_T              0.053109                 CD4_T   \n",
       "10       0.937174          CD4_T              0.067305                 CD8_T   \n",
       "11       0.831896          CD4_T              0.014403                 CD8_T   \n",
       "12       0.563848          CD4_T              0.040490                 CD8_T   \n",
       "13       0.999975              B              0.172083                 CD8_T   \n",
       "14       0.895347           Mono              0.003584                 other   \n",
       "15       0.997266          CD4_T              0.063749               other_T   \n",
       "16       0.982404        other_T              0.078533                 CD8_T   \n",
       "17       0.995794             NK              0.000648                 CD8_T   \n",
       "18       0.756859          CD4_T              0.011818                 CD8_T   \n",
       "19       0.999322             NK              0.001460                 other   \n",
       "\n",
       "     Odds Ratio Assignment  \n",
       "0    440.304924       Mono  \n",
       "1     76.408483      CD4_T  \n",
       "2     96.662313      CD8_T  \n",
       "3     96.722184         NK  \n",
       "4    164.363004      CD8_T  \n",
       "5     75.538183      CD8_T  \n",
       "6    622.702626       Mono  \n",
       "7    172.149721          B  \n",
       "8     69.845339         NK  \n",
       "9     18.809920      CD8_T  \n",
       "10    13.924229      CD4_T  \n",
       "11    57.757706      CD4_T  \n",
       "12    13.925466      CD4_T  \n",
       "13     5.810987          B  \n",
       "14   249.822383       Mono  \n",
       "15    15.643615      CD4_T  \n",
       "16    12.509398    other_T  \n",
       "17  1536.343020         NK  \n",
       "18    64.043089      CD4_T  \n",
       "19   684.660422         NK  "
      ]
     },
     "execution_count": 22,
     "metadata": {},
     "output_type": "execute_result"
    }
   ],
   "source": [
    "result_df.head(20)"
   ]
  },
  {
   "cell_type": "code",
   "execution_count": 26,
   "metadata": {},
   "outputs": [
    {
     "data": {
      "text/plain": [
       "5116"
      ]
     },
     "execution_count": 26,
     "metadata": {},
     "output_type": "execute_result"
    }
   ],
   "source": [
    "sum(result_df['Assignment'] == 'Uncertain')"
   ]
  },
  {
   "cell_type": "code",
   "execution_count": 27,
   "metadata": {},
   "outputs": [
    {
     "data": {
      "text/plain": [
       "0.03162631982394105"
      ]
     },
     "execution_count": 27,
     "metadata": {},
     "output_type": "execute_result"
    }
   ],
   "source": [
    "5116/len(result_df)"
   ]
  },
  {
   "cell_type": "markdown",
   "metadata": {},
   "source": [
    "## Confusion heatmap"
   ]
  },
  {
   "cell_type": "code",
   "execution_count": 42,
   "metadata": {},
   "outputs": [],
   "source": [
    "import pandas as pd\n",
    "\n",
    "# Get the true labels\n",
    "true_labels = data.obs['celltype.l1'].tolist()\n",
    "\n",
    "# Get the predicted labels\n",
    "predicted_labels = result_df['Assignment'].tolist()\n",
    "\n",
    "# Create the confusion matrix\n",
    "cm = pd.crosstab(true_labels, predicted_labels, rownames=['True'], colnames=['Predicted'], margins=False)\n",
    "\n",
    "# reorder columns\n",
    "cm = cm.reindex(types + ['Uncertain'], axis=1)"
   ]
  },
  {
   "cell_type": "code",
   "execution_count": 43,
   "metadata": {},
   "outputs": [
    {
     "data": {
      "text/plain": [
       "(8, 9)"
      ]
     },
     "execution_count": 43,
     "metadata": {},
     "output_type": "execute_result"
    }
   ],
   "source": [
    "cm.shape"
   ]
  },
  {
   "cell_type": "code",
   "execution_count": 4,
   "metadata": {
    "tags": []
   },
   "outputs": [
    {
     "data": {
      "text/html": [
       "<div>\n",
       "<style scoped>\n",
       "    .dataframe tbody tr th:only-of-type {\n",
       "        vertical-align: middle;\n",
       "    }\n",
       "\n",
       "    .dataframe tbody tr th {\n",
       "        vertical-align: top;\n",
       "    }\n",
       "\n",
       "    .dataframe thead th {\n",
       "        text-align: right;\n",
       "    }\n",
       "</style>\n",
       "<table border=\"1\" class=\"dataframe\">\n",
       "  <thead>\n",
       "    <tr style=\"text-align: right;\">\n",
       "      <th></th>\n",
       "      <th>B</th>\n",
       "      <th>CD4_T</th>\n",
       "      <th>CD8_T</th>\n",
       "      <th>DC</th>\n",
       "      <th>Mono</th>\n",
       "      <th>NK</th>\n",
       "      <th>other</th>\n",
       "      <th>other_T</th>\n",
       "      <th>Uncertain</th>\n",
       "    </tr>\n",
       "    <tr>\n",
       "      <th>True</th>\n",
       "      <th></th>\n",
       "      <th></th>\n",
       "      <th></th>\n",
       "      <th></th>\n",
       "      <th></th>\n",
       "      <th></th>\n",
       "      <th></th>\n",
       "      <th></th>\n",
       "      <th></th>\n",
       "    </tr>\n",
       "  </thead>\n",
       "  <tbody>\n",
       "    <tr>\n",
       "      <th>B</th>\n",
       "      <td>13704</td>\n",
       "      <td>2</td>\n",
       "      <td>2</td>\n",
       "      <td>0</td>\n",
       "      <td>3</td>\n",
       "      <td>2</td>\n",
       "      <td>5</td>\n",
       "      <td>0</td>\n",
       "      <td>82</td>\n",
       "    </tr>\n",
       "    <tr>\n",
       "      <th>CD4_T</th>\n",
       "      <td>1</td>\n",
       "      <td>39892</td>\n",
       "      <td>236</td>\n",
       "      <td>0</td>\n",
       "      <td>2</td>\n",
       "      <td>8</td>\n",
       "      <td>5</td>\n",
       "      <td>139</td>\n",
       "      <td>718</td>\n",
       "    </tr>\n",
       "    <tr>\n",
       "      <th>CD8_T</th>\n",
       "      <td>1</td>\n",
       "      <td>836</td>\n",
       "      <td>22238</td>\n",
       "      <td>0</td>\n",
       "      <td>2</td>\n",
       "      <td>68</td>\n",
       "      <td>0</td>\n",
       "      <td>262</td>\n",
       "      <td>2062</td>\n",
       "    </tr>\n",
       "    <tr>\n",
       "      <th>DC</th>\n",
       "      <td>0</td>\n",
       "      <td>2</td>\n",
       "      <td>1</td>\n",
       "      <td>3090</td>\n",
       "      <td>140</td>\n",
       "      <td>0</td>\n",
       "      <td>4</td>\n",
       "      <td>0</td>\n",
       "      <td>352</td>\n",
       "    </tr>\n",
       "    <tr>\n",
       "      <th>Mono</th>\n",
       "      <td>1</td>\n",
       "      <td>22</td>\n",
       "      <td>9</td>\n",
       "      <td>24</td>\n",
       "      <td>48679</td>\n",
       "      <td>5</td>\n",
       "      <td>31</td>\n",
       "      <td>1</td>\n",
       "      <td>238</td>\n",
       "    </tr>\n",
       "    <tr>\n",
       "      <th>NK</th>\n",
       "      <td>0</td>\n",
       "      <td>15</td>\n",
       "      <td>46</td>\n",
       "      <td>0</td>\n",
       "      <td>3</td>\n",
       "      <td>18312</td>\n",
       "      <td>2</td>\n",
       "      <td>32</td>\n",
       "      <td>254</td>\n",
       "    </tr>\n",
       "    <tr>\n",
       "      <th>other</th>\n",
       "      <td>9</td>\n",
       "      <td>140</td>\n",
       "      <td>28</td>\n",
       "      <td>1</td>\n",
       "      <td>535</td>\n",
       "      <td>23</td>\n",
       "      <td>2483</td>\n",
       "      <td>20</td>\n",
       "      <td>203</td>\n",
       "    </tr>\n",
       "    <tr>\n",
       "      <th>other_T</th>\n",
       "      <td>0</td>\n",
       "      <td>317</td>\n",
       "      <td>436</td>\n",
       "      <td>0</td>\n",
       "      <td>0</td>\n",
       "      <td>174</td>\n",
       "      <td>2</td>\n",
       "      <td>4653</td>\n",
       "      <td>1207</td>\n",
       "    </tr>\n",
       "  </tbody>\n",
       "</table>\n",
       "</div>"
      ],
      "text/plain": [
       "             B  CD4_T  CD8_T    DC   Mono     NK  other  other_T  Uncertain\n",
       "True                                                                       \n",
       "B        13704      2      2     0      3      2      5        0         82\n",
       "CD4_T        1  39892    236     0      2      8      5      139        718\n",
       "CD8_T        1    836  22238     0      2     68      0      262       2062\n",
       "DC           0      2      1  3090    140      0      4        0        352\n",
       "Mono         1     22      9    24  48679      5     31        1        238\n",
       "NK           0     15     46     0      3  18312      2       32        254\n",
       "other        9    140     28     1    535     23   2483       20        203\n",
       "other_T      0    317    436     0      0    174      2     4653       1207"
      ]
     },
     "execution_count": 4,
     "metadata": {},
     "output_type": "execute_result"
    }
   ],
   "source": [
    "cm = pd.read_csv('L1_LR_confusion_matrix.csv', index_col=0)\n",
    "cm"
   ]
  },
  {
   "cell_type": "code",
   "execution_count": 51,
   "metadata": {},
   "outputs": [],
   "source": [
    "# export confusion matrix\n",
    "# cm.to_csv('L1_LR_confusion_matrix.csv')"
   ]
  },
  {
   "cell_type": "code",
   "execution_count": 8,
   "metadata": {
    "tags": []
   },
   "outputs": [
    {
     "data": {
      "image/png": "[encoded data removed]",
      "text/plain": [
       "<Figure size 1000x700 with 2 Axes>"
      ]
     },
     "metadata": {},
     "output_type": "display_data"
    }
   ],
   "source": [
    "import seaborn as sns\n",
    "import matplotlib.pyplot as plt\n",
    "\n",
    "plt.figure(figsize=(10, 7))\n",
    "sns.heatmap(cm, annot=True, fmt='d', cmap='Blues')\n",
    "plt.title('LR Prediction Confusion Matrix')\n",
    "plt.xlabel('Predicted')\n",
    "plt.ylabel('True')\n",
    "plt.show()\n"
   ]
  },
  {
   "cell_type": "code",
   "execution_count": 6,
   "metadata": {
    "tags": []
   },
   "outputs": [
    {
     "data": {
      "text/plain": [
       "True\n",
       "B          13800\n",
       "CD4_T      41001\n",
       "CD8_T      25469\n",
       "DC          3589\n",
       "Mono       49010\n",
       "NK         18664\n",
       "other       3442\n",
       "other_T     6789\n",
       "dtype: int64"
      ]
     },
     "execution_count": 6,
     "metadata": {},
     "output_type": "execute_result"
    }
   ],
   "source": [
    "row_sum = cm.sum(axis=1)\n",
    "row_sum\n"
   ]
  },
  {
   "cell_type": "code",
   "execution_count": 9,
   "metadata": {
    "tags": []
   },
   "outputs": [
    {
     "data": {
      "image/png": "[encoded data removed]",
      "text/plain": [
       "<Figure size 1000x700 with 2 Axes>"
      ]
     },
     "metadata": {},
     "output_type": "display_data"
    }
   ],
   "source": [
    "cm_proportion = cm.div(row_sum, axis=0)\n",
    "cm_proportion *= 100\n",
    "plt.figure(figsize=(10, 7))\n",
    "sns.heatmap(cm_proportion, fmt=\".2f\", annot=True, cmap='Blues')\n",
    "plt.title('LR Prediction Confusion Matrix (Proportion %)')\n",
    "plt.show()"
   ]
  },
  {
   "cell_type": "code",
   "execution_count": null,
   "metadata": {},
   "outputs": [],
   "source": []
  }
 ],
 "metadata": {
  "kernelspec": {
   "display_name": "Python 3 (ipykernel)",
   "language": "python",
   "name": "python3"
  },
  "language_info": {
   "codemirror_mode": {
    "name": "ipython",
    "version": 3
   },
   "file_extension": ".py",
   "mimetype": "text/x-python",
   "name": "python",
   "nbconvert_exporter": "python",
   "pygments_lexer": "ipython3",
   "version": "3.10.10"
  }
 },
 "nbformat": 4,
 "nbformat_minor": 4
}

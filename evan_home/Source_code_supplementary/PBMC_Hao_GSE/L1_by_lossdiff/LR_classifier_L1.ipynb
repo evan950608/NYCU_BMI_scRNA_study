{
 "cells": [
  {
   "cell_type": "code",
   "execution_count": 1,
   "metadata": {},
   "outputs": [],
   "source": [
    "import numpy as np\n",
    "import matplotlib.pyplot as plt\n",
    "import pandas as pd\n",
    "import time\n",
    "import scipy\n",
    "import sklearn\n",
    "import copy\n",
    "import importlib\n"
   ]
  },
  {
   "cell_type": "code",
   "execution_count": 2,
   "metadata": {},
   "outputs": [],
   "source": [
    "from sklearn.linear_model import LogisticRegression\n",
    "from sklearn.model_selection import train_test_split\n",
    "\n",
    "from sklearn.metrics import accuracy_score, precision_score, recall_score, f1_score\n",
    "from sklearn.metrics import roc_curve, roc_auc_score, auc, precision_recall_curve, average_precision_score\n",
    "from sklearn.model_selection import cross_val_score, cross_validate, KFold\n",
    "from sklearn.metrics import make_scorer, matthews_corrcoef\n"
   ]
  },
  {
   "cell_type": "code",
   "execution_count": 3,
   "metadata": {},
   "outputs": [
    {
     "data": {
      "text/plain": [
       "(161764, 33538)"
      ]
     },
     "execution_count": 3,
     "metadata": {},
     "output_type": "execute_result"
    }
   ],
   "source": [
    "import scanpy as sc\n",
    "# import scvelo as scv\n",
    "\n",
    "# read the full GSE dataset\n",
    "data = sc.read_h5ad('/Users/evanli/Documents/Research_datasets/PBMC_Hao/GSE164378_Hao/Hao_PBMC_GSE164378.h5ad')\n",
    "data.shape"
   ]
  },
  {
   "cell_type": "code",
   "execution_count": 5,
   "metadata": {},
   "outputs": [],
   "source": [
    "### Raw counts were not normalizaed\n",
    "# CPM\n",
    "sc.pp.normalize_total(data, target_sum=1e6)\n",
    "\n",
    "# log1p\n",
    "sc.pp.log1p(data)"
   ]
  },
  {
   "cell_type": "code",
   "execution_count": 6,
   "metadata": {},
   "outputs": [
    {
     "name": "stdout",
     "output_type": "stream",
     "text": [
      "['B', 'CD4_T', 'CD8_T', 'DC', 'Mono', 'NK', 'other', 'other_T']\n"
     ]
    }
   ],
   "source": [
    "data.obs['celltype.l1'] = data.obs['celltype.l1'].str.replace(' ', '_')\n",
    "\n",
    "label = data.obs['celltype.l1'].tolist()\n",
    "types = np.unique(label).tolist()\n",
    "# types = [s.replace(' ', '_') for s in types]\n",
    "print(types)"
   ]
  },
  {
   "cell_type": "markdown",
   "metadata": {},
   "source": [
    "## Read features"
   ]
  },
  {
   "cell_type": "code",
   "execution_count": 7,
   "metadata": {},
   "outputs": [],
   "source": [
    "# Level 1 ADlasso features by loss difference convergence\n",
    "import os\n",
    "os.chdir('/Users/evanli/Documents/EvanPys/Progress/PBMC_Hao_GSE/L1_by_lossdiff/feature_selection')\n",
    "\n",
    "features_dict = {}\n",
    "# Read features for each celltype\n",
    "for celltype in types:\n",
    "    try:\n",
    "        feature_df = pd.read_csv(f'{celltype}_features.txt', names=['Gene', 'Weight', 'Tendency'], sep='\\t')\n",
    "        features_dict[celltype] = feature_df\n",
    "    except:\n",
    "        print('skipping:', celltype)\n",
    "        continue\n",
    "    # print(celltype, 'Feature count:', feature_df.shape[0])\n",
    "    # print(celltype, 'Positive feature count:', feature_df[feature_df['Tendency'] == 1].shape[0])\n",
    "    # print('------------------')"
   ]
  },
  {
   "cell_type": "code",
   "execution_count": 8,
   "metadata": {},
   "outputs": [
    {
     "data": {
      "text/html": [
       "<div>\n",
       "<style scoped>\n",
       "    .dataframe tbody tr th:only-of-type {\n",
       "        vertical-align: middle;\n",
       "    }\n",
       "\n",
       "    .dataframe tbody tr th {\n",
       "        vertical-align: top;\n",
       "    }\n",
       "\n",
       "    .dataframe thead th {\n",
       "        text-align: right;\n",
       "    }\n",
       "</style>\n",
       "<table border=\"1\" class=\"dataframe\">\n",
       "  <thead>\n",
       "    <tr style=\"text-align: right;\">\n",
       "      <th></th>\n",
       "      <th>Feature_count</th>\n",
       "      <th>Positive_feature_count</th>\n",
       "    </tr>\n",
       "  </thead>\n",
       "  <tbody>\n",
       "    <tr>\n",
       "      <th>B</th>\n",
       "      <td>13</td>\n",
       "      <td>7</td>\n",
       "    </tr>\n",
       "    <tr>\n",
       "      <th>CD4_T</th>\n",
       "      <td>200</td>\n",
       "      <td>83</td>\n",
       "    </tr>\n",
       "    <tr>\n",
       "      <th>CD8_T</th>\n",
       "      <td>25</td>\n",
       "      <td>6</td>\n",
       "    </tr>\n",
       "    <tr>\n",
       "      <th>DC</th>\n",
       "      <td>25</td>\n",
       "      <td>15</td>\n",
       "    </tr>\n",
       "    <tr>\n",
       "      <th>Mono</th>\n",
       "      <td>21</td>\n",
       "      <td>11</td>\n",
       "    </tr>\n",
       "    <tr>\n",
       "      <th>NK</th>\n",
       "      <td>28</td>\n",
       "      <td>14</td>\n",
       "    </tr>\n",
       "    <tr>\n",
       "      <th>other</th>\n",
       "      <td>42</td>\n",
       "      <td>27</td>\n",
       "    </tr>\n",
       "    <tr>\n",
       "      <th>other_T</th>\n",
       "      <td>61</td>\n",
       "      <td>26</td>\n",
       "    </tr>\n",
       "  </tbody>\n",
       "</table>\n",
       "</div>"
      ],
      "text/plain": [
       "         Feature_count  Positive_feature_count\n",
       "B                   13                       7\n",
       "CD4_T              200                      83\n",
       "CD8_T               25                       6\n",
       "DC                  25                      15\n",
       "Mono                21                      11\n",
       "NK                  28                      14\n",
       "other               42                      27\n",
       "other_T             61                      26"
      ]
     },
     "execution_count": 8,
     "metadata": {},
     "output_type": "execute_result"
    }
   ],
   "source": [
    "count_df = pd.DataFrame(columns=['Feature_count', 'Positive_feature_count'])\n",
    "for celltype in features_dict.keys():\n",
    "    feature_df = features_dict[celltype]\n",
    "    feature_count = feature_df.shape[0]\n",
    "    positive_count = feature_df[feature_df['Tendency'] == 1].shape[0]\n",
    "    count_df.loc[celltype] = [feature_count, positive_count]\n",
    "count_df"
   ]
  },
  {
   "cell_type": "code",
   "execution_count": 9,
   "metadata": {},
   "outputs": [
    {
     "data": {
      "image/png": "[encoded data removed]",
      "text/plain": [
       "<Figure size 1200x600 with 1 Axes>"
      ]
     },
     "metadata": {},
     "output_type": "display_data"
    }
   ],
   "source": [
    "# plot barplot\n",
    "fig, ax = plt.subplots(figsize=(12, 6))\n",
    "x = np.arange(len(count_df.index))\n",
    "bar_width = 0.4\n",
    "\n",
    "ax.bar(x - bar_width/2, count_df['Feature_count'], bar_width, label='Feature count')\n",
    "ax.bar(x + bar_width/2, count_df['Positive_feature_count'], bar_width, label='Positive feature count')\n",
    "\n",
    "# Add the values to each bar\n",
    "for i, v in enumerate(count_df['Feature_count']):\n",
    "    plt.text(i-0.5, v, str(v), fontsize=8)\n",
    "# for i, v in enumerate(count_df['Positive_feature_count']):\n",
    "#     plt.text(i, v, str(v), fontsize=8)\n",
    "\n",
    "ax.set_xticks(x)\n",
    "ax.set_xticklabels(count_df.index)\n",
    "plt.xticks(rotation=90)\n",
    "plt.title('Level 1 feature count for each celltype')\n",
    "ax.legend()\n",
    "# plt.savefig('L2_feature_count.png', dpi=300, bbox_inches='tight')\n",
    "plt.show()"
   ]
  },
  {
   "cell_type": "markdown",
   "metadata": {},
   "source": [
    "## Build classifiers (K-fold CV)"
   ]
  },
  {
   "cell_type": "code",
   "execution_count": 34,
   "metadata": {},
   "outputs": [],
   "source": [
    "import pickle\n",
    "\n",
    "def LR_kfold(data, all_features_dict, celltype, k=5):\n",
    "    # subset data to celltype features\n",
    "    X = data[:, all_features_dict[celltype]['Gene'].tolist()].X\n",
    "    # Binary label\n",
    "    y = [1 if i==celltype else 0 for i in data.obs['celltype.l1'].tolist()]\n",
    "\n",
    "    X_train, X_test, y_train, y_test = train_test_split(X, y, test_size=0.2, random_state=0, stratify=y)\n",
    "\n",
    "    clf = LogisticRegression(penalty='l2', solver='lbfgs', C=1.0, max_iter=1000)\n",
    "    clf.fit(X_train, y_train)\n",
    "\n",
    "    # Kfold cross validation\n",
    "    scoring = {\n",
    "        'accuracy': 'accuracy',\n",
    "        'precision': 'precision',\n",
    "        'recall': 'recall',\n",
    "        'f1_score': 'f1',\n",
    "        'roc_auc': 'roc_auc',\n",
    "        'average_precision': 'average_precision',  # PR AUC\n",
    "        'mcc': make_scorer(matthews_corrcoef)\n",
    "    }\n",
    "    cv_results = cross_validate(clf, X, y, cv=5, scoring=scoring)\n",
    "\n",
    "    mean_accuracy = np.mean(cv_results['test_accuracy'])\n",
    "    mean_precision = np.mean(cv_results['test_precision'])\n",
    "    mean_recall = np.mean(cv_results['test_recall'])\n",
    "    mean_f1 = np.mean(cv_results['test_f1_score'])\n",
    "    mean_auc = np.mean(cv_results['test_roc_auc'])\n",
    "    mean_pr_auc = np.mean(cv_results['test_average_precision'])\n",
    "    mean_mcc = np.mean(cv_results['test_mcc'])\n",
    "    mean_metrics = [mean_accuracy, mean_precision, mean_recall, mean_f1, mean_auc, mean_pr_auc, mean_mcc]\n",
    "\n",
    "    return clf, mean_metrics"
   ]
  },
  {
   "cell_type": "code",
   "execution_count": 33,
   "metadata": {},
   "outputs": [
    {
     "data": {
      "text/plain": [
       "[0.9706673260594072,\n",
       " 0.9209831403615681,\n",
       " 0.8900667451904201,\n",
       " 0.9052610562044524,\n",
       " 0.9884516012570196,\n",
       " 0.9585112851124526,\n",
       " 0.8880955201433167]"
      ]
     },
     "execution_count": 33,
     "metadata": {},
     "output_type": "execute_result"
    }
   ],
   "source": [
    "# do it the old way (without kfold)\n",
    "celltype = 'CD8_T'\n",
    "# subset data to celltype features\n",
    "X = data[:, features_dict[celltype]['Gene'].tolist()].X\n",
    "# Binary label\n",
    "y = [1 if i==celltype else 0 for i in data.obs['celltype.l1'].tolist()]\n",
    "\n",
    "X_train, X_test, y_train, y_test = train_test_split(X, y, test_size=0.2, random_state=0, stratify=y)\n",
    "\n",
    "clf = LogisticRegression(penalty='l2', solver='lbfgs', C=1.0, max_iter=1000)\n",
    "clf.fit(X_train, y_train)\n",
    "\n",
    "# Predictions on the test set\n",
    "y_pred = clf.predict(X_test)\n",
    "y_score = clf.predict_proba(X_test)[:, 1]  # Probability estimates of the positive class\n",
    "\n",
    "# Calculate metrics\n",
    "accuracy = accuracy_score(y_test, y_pred)\n",
    "precision = precision_score(y_test, y_pred)\n",
    "recall = recall_score(y_test, y_pred)\n",
    "f1 = f1_score(y_test, y_pred)\n",
    "roc_auc = roc_auc_score(y_test, y_score)\n",
    "average_precision = average_precision_score(y_test, y_score)\n",
    "mcc = matthews_corrcoef(y_test, y_pred)\n",
    "\n",
    "metrics = [accuracy, precision, recall, f1, roc_auc, average_precision, mcc]\n",
    "metrics"
   ]
  },
  {
   "cell_type": "code",
   "execution_count": 44,
   "metadata": {},
   "outputs": [
    {
     "name": "stdout",
     "output_type": "stream",
     "text": [
      "====================\n",
      "K-fold CV for: B\n",
      "[0.9988625406437756, 0.9937666255094845, 0.9928985507246377, 0.9933285095645898, 0.999919504432448, 0.9993583526125172, 0.9927092157642086]\n",
      "====================\n",
      "K-fold CV for: CD4_T\n"
     ]
    },
    {
     "name": "stderr",
     "output_type": "stream",
     "text": [
      "/opt/anaconda3/lib/python3.9/site-packages/sklearn/linear_model/_logistic.py:814: ConvergenceWarning: lbfgs failed to converge (status=1):\n",
      "STOP: TOTAL NO. of ITERATIONS REACHED LIMIT.\n",
      "\n",
      "Increase the number of iterations (max_iter) or scale the data as shown in:\n",
      "    https://scikit-learn.org/stable/modules/preprocessing.html\n",
      "Please also refer to the documentation for alternative solver options:\n",
      "    https://scikit-learn.org/stable/modules/linear_model.html#logistic-regression\n",
      "  n_iter_i = _check_optimize_result(\n",
      "/opt/anaconda3/lib/python3.9/site-packages/sklearn/linear_model/_logistic.py:814: ConvergenceWarning: lbfgs failed to converge (status=1):\n",
      "STOP: TOTAL NO. of ITERATIONS REACHED LIMIT.\n",
      "\n",
      "Increase the number of iterations (max_iter) or scale the data as shown in:\n",
      "    https://scikit-learn.org/stable/modules/preprocessing.html\n",
      "Please also refer to the documentation for alternative solver options:\n",
      "    https://scikit-learn.org/stable/modules/linear_model.html#logistic-regression\n",
      "  n_iter_i = _check_optimize_result(\n",
      "/opt/anaconda3/lib/python3.9/site-packages/sklearn/linear_model/_logistic.py:814: ConvergenceWarning: lbfgs failed to converge (status=1):\n",
      "STOP: TOTAL NO. of ITERATIONS REACHED LIMIT.\n",
      "\n",
      "Increase the number of iterations (max_iter) or scale the data as shown in:\n",
      "    https://scikit-learn.org/stable/modules/preprocessing.html\n",
      "Please also refer to the documentation for alternative solver options:\n",
      "    https://scikit-learn.org/stable/modules/linear_model.html#logistic-regression\n",
      "  n_iter_i = _check_optimize_result(\n",
      "/opt/anaconda3/lib/python3.9/site-packages/sklearn/linear_model/_logistic.py:814: ConvergenceWarning: lbfgs failed to converge (status=1):\n",
      "STOP: TOTAL NO. of ITERATIONS REACHED LIMIT.\n",
      "\n",
      "Increase the number of iterations (max_iter) or scale the data as shown in:\n",
      "    https://scikit-learn.org/stable/modules/preprocessing.html\n",
      "Please also refer to the documentation for alternative solver options:\n",
      "    https://scikit-learn.org/stable/modules/linear_model.html#logistic-regression\n",
      "  n_iter_i = _check_optimize_result(\n",
      "/opt/anaconda3/lib/python3.9/site-packages/sklearn/linear_model/_logistic.py:814: ConvergenceWarning: lbfgs failed to converge (status=1):\n",
      "STOP: TOTAL NO. of ITERATIONS REACHED LIMIT.\n",
      "\n",
      "Increase the number of iterations (max_iter) or scale the data as shown in:\n",
      "    https://scikit-learn.org/stable/modules/preprocessing.html\n",
      "Please also refer to the documentation for alternative solver options:\n",
      "    https://scikit-learn.org/stable/modules/linear_model.html#logistic-regression\n",
      "  n_iter_i = _check_optimize_result(\n"
     ]
    },
    {
     "name": "stdout",
     "output_type": "stream",
     "text": [
      "[0.9613387802787395, 0.9240500372818371, 0.9263435630990866, 0.9243333026026621, 0.9921661782663737, 0.9776802397434781, 0.8991531390782981]\n",
      "====================\n",
      "K-fold CV for: CD8_T\n",
      "[0.9702158890598618, 0.9201944619448981, 0.8878250562312868, 0.9036498620061524, 0.9882120034012172, 0.9569412018040568, 0.8862897029656078]\n",
      "====================\n",
      "K-fold CV for: DC\n",
      "[0.9980527197306003, 0.9613012422824829, 0.9506843354584056, 0.9558953821708848, 0.9994161216685921, 0.9884366474676443, 0.9549507095544323]\n",
      "====================\n",
      "K-fold CV for: Mono\n",
      "[0.9910486856506229, 0.9763821136988842, 0.9945317282187307, 0.985365647274166, 0.9978277665600755, 0.992105189081062, 0.9790131626004215]\n",
      "====================\n",
      "K-fold CV for: NK\n",
      "[0.9900966743881165, 0.9567391969325559, 0.9581015071109069, 0.9572181381329082, 0.9985509035875314, 0.990345530260823, 0.9517478623910485]\n",
      "====================\n",
      "K-fold CV for: other\n",
      "[0.9932803393576602, 0.9342127699296583, 0.7370173321632294, 0.8188540121320035, 0.9532999092184369, 0.8552128693076326, 0.8240488350240069]\n",
      "====================\n",
      "K-fold CV for: other_T\n",
      "[0.982152993232756, 0.8468223449764126, 0.7040734618836709, 0.7682682625474618, 0.9824649419146452, 0.840323211023701, 0.7628942830198433]\n"
     ]
    }
   ],
   "source": [
    "os.chdir('/Users/evanli/Documents/EvanPys/Progress/PBMC_Hao_GSE/L1_by_lossdiff/LR_classifiers_all')\n",
    "\n",
    "cols = ['Accuracy', 'Precision', 'Recall', 'F1-score', 'ROC-AUC', 'PR-AUC', 'MCC']\n",
    "all_metrics = pd.DataFrame(columns=cols)\n",
    "for celltype in types:\n",
    "    print('====================')\n",
    "    print('K-fold CV for:', celltype)\n",
    "    clf, metrics = LR_kfold(data, features_dict, celltype, k=5)  # metrics is a list\n",
    "    print(metrics)\n",
    "    \n",
    "    # Append metrics to all_metrics\n",
    "    all_metrics.loc[celltype] = metrics\n",
    "\n",
    "    # output LR model as pickle\n",
    "    filename = f'LR_{celltype}_loss_diff_l1.pkl'\n",
    "    with open(filename, 'wb') as f:\n",
    "        pickle.dump(clf, f)\n"
   ]
  },
  {
   "cell_type": "code",
   "execution_count": 45,
   "metadata": {},
   "outputs": [
    {
     "data": {
      "text/html": [
       "<div>\n",
       "<style scoped>\n",
       "    .dataframe tbody tr th:only-of-type {\n",
       "        vertical-align: middle;\n",
       "    }\n",
       "\n",
       "    .dataframe tbody tr th {\n",
       "        vertical-align: top;\n",
       "    }\n",
       "\n",
       "    .dataframe thead th {\n",
       "        text-align: right;\n",
       "    }\n",
       "</style>\n",
       "<table border=\"1\" class=\"dataframe\">\n",
       "  <thead>\n",
       "    <tr style=\"text-align: right;\">\n",
       "      <th></th>\n",
       "      <th>Accuracy</th>\n",
       "      <th>Precision</th>\n",
       "      <th>Recall</th>\n",
       "      <th>F1-score</th>\n",
       "      <th>ROC-AUC</th>\n",
       "      <th>PR-AUC</th>\n",
       "      <th>MCC</th>\n",
       "    </tr>\n",
       "  </thead>\n",
       "  <tbody>\n",
       "    <tr>\n",
       "      <th>B</th>\n",
       "      <td>0.998863</td>\n",
       "      <td>0.993767</td>\n",
       "      <td>0.992899</td>\n",
       "      <td>0.993329</td>\n",
       "      <td>0.999920</td>\n",
       "      <td>0.999358</td>\n",
       "      <td>0.992709</td>\n",
       "    </tr>\n",
       "    <tr>\n",
       "      <th>CD4_T</th>\n",
       "      <td>0.961339</td>\n",
       "      <td>0.924050</td>\n",
       "      <td>0.926344</td>\n",
       "      <td>0.924333</td>\n",
       "      <td>0.992166</td>\n",
       "      <td>0.977680</td>\n",
       "      <td>0.899153</td>\n",
       "    </tr>\n",
       "    <tr>\n",
       "      <th>CD8_T</th>\n",
       "      <td>0.970216</td>\n",
       "      <td>0.920194</td>\n",
       "      <td>0.887825</td>\n",
       "      <td>0.903650</td>\n",
       "      <td>0.988212</td>\n",
       "      <td>0.956941</td>\n",
       "      <td>0.886290</td>\n",
       "    </tr>\n",
       "    <tr>\n",
       "      <th>DC</th>\n",
       "      <td>0.998053</td>\n",
       "      <td>0.961301</td>\n",
       "      <td>0.950684</td>\n",
       "      <td>0.955895</td>\n",
       "      <td>0.999416</td>\n",
       "      <td>0.988437</td>\n",
       "      <td>0.954951</td>\n",
       "    </tr>\n",
       "    <tr>\n",
       "      <th>Mono</th>\n",
       "      <td>0.991049</td>\n",
       "      <td>0.976382</td>\n",
       "      <td>0.994532</td>\n",
       "      <td>0.985366</td>\n",
       "      <td>0.997828</td>\n",
       "      <td>0.992105</td>\n",
       "      <td>0.979013</td>\n",
       "    </tr>\n",
       "    <tr>\n",
       "      <th>NK</th>\n",
       "      <td>0.990097</td>\n",
       "      <td>0.956739</td>\n",
       "      <td>0.958102</td>\n",
       "      <td>0.957218</td>\n",
       "      <td>0.998551</td>\n",
       "      <td>0.990346</td>\n",
       "      <td>0.951748</td>\n",
       "    </tr>\n",
       "    <tr>\n",
       "      <th>other</th>\n",
       "      <td>0.993280</td>\n",
       "      <td>0.934213</td>\n",
       "      <td>0.737017</td>\n",
       "      <td>0.818854</td>\n",
       "      <td>0.953300</td>\n",
       "      <td>0.855213</td>\n",
       "      <td>0.824049</td>\n",
       "    </tr>\n",
       "    <tr>\n",
       "      <th>other_T</th>\n",
       "      <td>0.982153</td>\n",
       "      <td>0.846822</td>\n",
       "      <td>0.704073</td>\n",
       "      <td>0.768268</td>\n",
       "      <td>0.982465</td>\n",
       "      <td>0.840323</td>\n",
       "      <td>0.762894</td>\n",
       "    </tr>\n",
       "  </tbody>\n",
       "</table>\n",
       "</div>"
      ],
      "text/plain": [
       "         Accuracy  Precision    Recall  F1-score   ROC-AUC    PR-AUC       MCC\n",
       "B        0.998863   0.993767  0.992899  0.993329  0.999920  0.999358  0.992709\n",
       "CD4_T    0.961339   0.924050  0.926344  0.924333  0.992166  0.977680  0.899153\n",
       "CD8_T    0.970216   0.920194  0.887825  0.903650  0.988212  0.956941  0.886290\n",
       "DC       0.998053   0.961301  0.950684  0.955895  0.999416  0.988437  0.954951\n",
       "Mono     0.991049   0.976382  0.994532  0.985366  0.997828  0.992105  0.979013\n",
       "NK       0.990097   0.956739  0.958102  0.957218  0.998551  0.990346  0.951748\n",
       "other    0.993280   0.934213  0.737017  0.818854  0.953300  0.855213  0.824049\n",
       "other_T  0.982153   0.846822  0.704073  0.768268  0.982465  0.840323  0.762894"
      ]
     },
     "execution_count": 45,
     "metadata": {},
     "output_type": "execute_result"
    }
   ],
   "source": [
    "all_metrics"
   ]
  },
  {
   "cell_type": "code",
   "execution_count": 46,
   "metadata": {},
   "outputs": [],
   "source": [
    "# save metrics\n",
    "all_metrics.index = types\n",
    "all_metrics.to_csv('LR_metrics_loss_diff_l1_v2.csv')"
   ]
  },
  {
   "cell_type": "markdown",
   "metadata": {},
   "source": [
    "## Read saved .pkl"
   ]
  },
  {
   "cell_type": "code",
   "execution_count": 3,
   "metadata": {},
   "outputs": [],
   "source": [
    "all_metrics = pd.read_csv('./LR_classifiers_all/LR_metrics_loss_diff_l1_v2.csv', index_col=0)"
   ]
  },
  {
   "cell_type": "code",
   "execution_count": 4,
   "metadata": {},
   "outputs": [
    {
     "data": {
      "text/html": [
       "<div>\n",
       "<style scoped>\n",
       "    .dataframe tbody tr th:only-of-type {\n",
       "        vertical-align: middle;\n",
       "    }\n",
       "\n",
       "    .dataframe tbody tr th {\n",
       "        vertical-align: top;\n",
       "    }\n",
       "\n",
       "    .dataframe thead th {\n",
       "        text-align: right;\n",
       "    }\n",
       "</style>\n",
       "<table border=\"1\" class=\"dataframe\">\n",
       "  <thead>\n",
       "    <tr style=\"text-align: right;\">\n",
       "      <th></th>\n",
       "      <th>Accuracy</th>\n",
       "      <th>Precision</th>\n",
       "      <th>Recall</th>\n",
       "      <th>F1-score</th>\n",
       "      <th>ROC-AUC</th>\n",
       "      <th>PR-AUC</th>\n",
       "      <th>MCC</th>\n",
       "    </tr>\n",
       "  </thead>\n",
       "  <tbody>\n",
       "    <tr>\n",
       "      <th>B</th>\n",
       "      <td>0.998863</td>\n",
       "      <td>0.993767</td>\n",
       "      <td>0.992899</td>\n",
       "      <td>0.993329</td>\n",
       "      <td>0.999920</td>\n",
       "      <td>0.999358</td>\n",
       "      <td>0.992709</td>\n",
       "    </tr>\n",
       "    <tr>\n",
       "      <th>CD4_T</th>\n",
       "      <td>0.961339</td>\n",
       "      <td>0.924050</td>\n",
       "      <td>0.926344</td>\n",
       "      <td>0.924333</td>\n",
       "      <td>0.992166</td>\n",
       "      <td>0.977680</td>\n",
       "      <td>0.899153</td>\n",
       "    </tr>\n",
       "    <tr>\n",
       "      <th>CD8_T</th>\n",
       "      <td>0.970216</td>\n",
       "      <td>0.920194</td>\n",
       "      <td>0.887825</td>\n",
       "      <td>0.903650</td>\n",
       "      <td>0.988212</td>\n",
       "      <td>0.956941</td>\n",
       "      <td>0.886290</td>\n",
       "    </tr>\n",
       "    <tr>\n",
       "      <th>DC</th>\n",
       "      <td>0.998053</td>\n",
       "      <td>0.961301</td>\n",
       "      <td>0.950684</td>\n",
       "      <td>0.955895</td>\n",
       "      <td>0.999416</td>\n",
       "      <td>0.988437</td>\n",
       "      <td>0.954951</td>\n",
       "    </tr>\n",
       "    <tr>\n",
       "      <th>Mono</th>\n",
       "      <td>0.991049</td>\n",
       "      <td>0.976382</td>\n",
       "      <td>0.994532</td>\n",
       "      <td>0.985366</td>\n",
       "      <td>0.997828</td>\n",
       "      <td>0.992105</td>\n",
       "      <td>0.979013</td>\n",
       "    </tr>\n",
       "    <tr>\n",
       "      <th>NK</th>\n",
       "      <td>0.990097</td>\n",
       "      <td>0.956739</td>\n",
       "      <td>0.958102</td>\n",
       "      <td>0.957218</td>\n",
       "      <td>0.998551</td>\n",
       "      <td>0.990346</td>\n",
       "      <td>0.951748</td>\n",
       "    </tr>\n",
       "    <tr>\n",
       "      <th>other</th>\n",
       "      <td>0.993280</td>\n",
       "      <td>0.934213</td>\n",
       "      <td>0.737017</td>\n",
       "      <td>0.818854</td>\n",
       "      <td>0.953300</td>\n",
       "      <td>0.855213</td>\n",
       "      <td>0.824049</td>\n",
       "    </tr>\n",
       "    <tr>\n",
       "      <th>other_T</th>\n",
       "      <td>0.982153</td>\n",
       "      <td>0.846822</td>\n",
       "      <td>0.704073</td>\n",
       "      <td>0.768268</td>\n",
       "      <td>0.982465</td>\n",
       "      <td>0.840323</td>\n",
       "      <td>0.762894</td>\n",
       "    </tr>\n",
       "  </tbody>\n",
       "</table>\n",
       "</div>"
      ],
      "text/plain": [
       "         Accuracy  Precision    Recall  F1-score   ROC-AUC    PR-AUC       MCC\n",
       "B        0.998863   0.993767  0.992899  0.993329  0.999920  0.999358  0.992709\n",
       "CD4_T    0.961339   0.924050  0.926344  0.924333  0.992166  0.977680  0.899153\n",
       "CD8_T    0.970216   0.920194  0.887825  0.903650  0.988212  0.956941  0.886290\n",
       "DC       0.998053   0.961301  0.950684  0.955895  0.999416  0.988437  0.954951\n",
       "Mono     0.991049   0.976382  0.994532  0.985366  0.997828  0.992105  0.979013\n",
       "NK       0.990097   0.956739  0.958102  0.957218  0.998551  0.990346  0.951748\n",
       "other    0.993280   0.934213  0.737017  0.818854  0.953300  0.855213  0.824049\n",
       "other_T  0.982153   0.846822  0.704073  0.768268  0.982465  0.840323  0.762894"
      ]
     },
     "execution_count": 4,
     "metadata": {},
     "output_type": "execute_result"
    }
   ],
   "source": [
    "all_metrics"
   ]
  },
  {
   "cell_type": "markdown",
   "metadata": {
    "vscode": {
     "languageId": "plaintext"
    }
   },
   "source": [
    "## Plot classifier K-fold CV metrics"
   ]
  },
  {
   "cell_type": "code",
   "execution_count": 7,
   "metadata": {},
   "outputs": [
    {
     "data": {
      "text/plain": [
       "<matplotlib.legend.Legend at 0x1561475b0>"
      ]
     },
     "execution_count": 7,
     "metadata": {},
     "output_type": "execute_result"
    },
    {
     "data": {
      "image/png": "[encoded data removed]",
      "text/plain": [
       "<Figure size 800x600 with 1 Axes>"
      ]
     },
     "metadata": {},
     "output_type": "display_data"
    }
   ],
   "source": [
    "cols = ['Precision', 'F1-score', 'ROC-AUC', 'PR-AUC', 'MCC']\n",
    "# Plot metrics for each celltype\n",
    "ax = all_metrics[cols].plot.bar(rot=0, figsize=(8,6), title='Logistic Regression using PreLect features (Level 1)')\n",
    "ax.legend(loc='center left', bbox_to_anchor=(1.0, 0.5))"
   ]
  },
  {
   "cell_type": "markdown",
   "metadata": {},
   "source": [
    "## Evaluate by DEGn"
   ]
  },
  {
   "cell_type": "code",
   "execution_count": 59,
   "metadata": {},
   "outputs": [
    {
     "data": {
      "text/html": [
       "<div>\n",
       "<style scoped>\n",
       "    .dataframe tbody tr th:only-of-type {\n",
       "        vertical-align: middle;\n",
       "    }\n",
       "\n",
       "    .dataframe tbody tr th {\n",
       "        vertical-align: top;\n",
       "    }\n",
       "\n",
       "    .dataframe thead th {\n",
       "        text-align: right;\n",
       "    }\n",
       "</style>\n",
       "<table border=\"1\" class=\"dataframe\">\n",
       "  <thead>\n",
       "    <tr style=\"text-align: right;\">\n",
       "      <th></th>\n",
       "      <th>Feature_count</th>\n",
       "      <th>Positive_feature_count</th>\n",
       "    </tr>\n",
       "  </thead>\n",
       "  <tbody>\n",
       "    <tr>\n",
       "      <th>B</th>\n",
       "      <td>13</td>\n",
       "      <td>7</td>\n",
       "    </tr>\n",
       "    <tr>\n",
       "      <th>CD4_T</th>\n",
       "      <td>200</td>\n",
       "      <td>83</td>\n",
       "    </tr>\n",
       "    <tr>\n",
       "      <th>CD8_T</th>\n",
       "      <td>25</td>\n",
       "      <td>6</td>\n",
       "    </tr>\n",
       "    <tr>\n",
       "      <th>DC</th>\n",
       "      <td>25</td>\n",
       "      <td>15</td>\n",
       "    </tr>\n",
       "    <tr>\n",
       "      <th>Mono</th>\n",
       "      <td>21</td>\n",
       "      <td>11</td>\n",
       "    </tr>\n",
       "    <tr>\n",
       "      <th>NK</th>\n",
       "      <td>28</td>\n",
       "      <td>14</td>\n",
       "    </tr>\n",
       "    <tr>\n",
       "      <th>other</th>\n",
       "      <td>42</td>\n",
       "      <td>27</td>\n",
       "    </tr>\n",
       "    <tr>\n",
       "      <th>other_T</th>\n",
       "      <td>61</td>\n",
       "      <td>26</td>\n",
       "    </tr>\n",
       "  </tbody>\n",
       "</table>\n",
       "</div>"
      ],
      "text/plain": [
       "         Feature_count  Positive_feature_count\n",
       "B                   13                       7\n",
       "CD4_T              200                      83\n",
       "CD8_T               25                       6\n",
       "DC                  25                      15\n",
       "Mono                21                      11\n",
       "NK                  28                      14\n",
       "other               42                      27\n",
       "other_T             61                      26"
      ]
     },
     "execution_count": 59,
     "metadata": {},
     "output_type": "execute_result"
    }
   ],
   "source": [
    "count_df"
   ]
  },
  {
   "cell_type": "code",
   "execution_count": 58,
   "metadata": {},
   "outputs": [],
   "source": [
    "# Read DEG table\n",
    "os.chdir(\"/Users/evanli/Documents/EvanPys/Progress/PBMC_Hao_GSE/L1_by_lossdiff/L1_DEG/L1_DEG_table\")\n",
    "\n",
    "celltype = 'B'\n",
    "DEG_table = pd.read_csv(celltype + '_DEG2000.csv', index_col=0)\n",
    "n_features = count_df.loc[celltype, 'Feature_count']  # 3902\n",
    "DEGn = DEG_table['names'][:n_features].tolist()"
   ]
  },
  {
   "cell_type": "code",
   "execution_count": 60,
   "metadata": {},
   "outputs": [
    {
     "data": {
      "text/plain": [
       "13"
      ]
     },
     "execution_count": 60,
     "metadata": {},
     "output_type": "execute_result"
    }
   ],
   "source": [
    "n_features"
   ]
  },
  {
   "cell_type": "code",
   "execution_count": 61,
   "metadata": {},
   "outputs": [
    {
     "data": {
      "text/plain": [
       "['CD79A',\n",
       " 'MS4A1',\n",
       " 'RALGPS2',\n",
       " 'BANK1',\n",
       " 'CD79B',\n",
       " 'CD74',\n",
       " 'CD37',\n",
       " 'HLA-DRA',\n",
       " 'HLA-DQA1',\n",
       " 'TNFRSF13C',\n",
       " 'HLA-DPB1',\n",
       " 'LINC00926',\n",
       " 'IGHM']"
      ]
     },
     "execution_count": 61,
     "metadata": {},
     "output_type": "execute_result"
    }
   ],
   "source": [
    "DEGn"
   ]
  },
  {
   "cell_type": "code",
   "execution_count": 68,
   "metadata": {},
   "outputs": [],
   "source": [
    "def LR_classifier(data, DEGn, celltype):\n",
    "    # subset data to DEGs\n",
    "    X = data[:, DEGn].X\n",
    "    print(X.shape)\n",
    "    # Binary label\n",
    "    y = [1 if i==celltype else 0 for i in data.obs['celltype.l1'].tolist()]\n",
    "\n",
    "    X_train, X_test, y_train, y_test = train_test_split(X, y, test_size=0.2, random_state=0, stratify=y)\n",
    "    \n",
    "    # train classifier\n",
    "    clf = LogisticRegression(penalty='l2', solver='lbfgs', C=1.0, max_iter=1000)\n",
    "    clf.fit(X_train, y_train)\n",
    "\n",
    "    # evaluate classifier\n",
    "    y_pred = clf.predict(X_test)\n",
    "    y_score = clf.predict_proba(X_test)[:, 1]  # Probability estimates of the positive class\n",
    "\n",
    "    # Calculate metrics\n",
    "    accuracy = accuracy_score(y_test, y_pred)\n",
    "    # print(\"Accuracy: {:.2f}%\".format(accuracy * 100))\n",
    "    precision = precision_score(y_test, y_pred)\n",
    "    # print(\"Precision: {:.2f}%\".format(precision * 100))\n",
    "    recall = recall_score(y_test, y_pred)\n",
    "    f1 = f1_score(y_test, y_pred)\n",
    "    # print(\"F1: {:.2f}%\".format(f1 * 100))\n",
    "    roc_auc = roc_auc_score(y_test, y_score)\n",
    "    # print('ROC-AUC:', roc_auc)\n",
    "    average_precision = average_precision_score(y_test, y_score)  # PR-AUC\n",
    "    mcc = matthews_corrcoef(y_test, y_pred)\n",
    "\n",
    "    # model metrics\n",
    "    metrics = [accuracy, precision, recall, f1, roc_auc, average_precision, mcc]\n",
    "\n",
    "    return clf, metrics"
   ]
  },
  {
   "cell_type": "code",
   "execution_count": 63,
   "metadata": {},
   "outputs": [
    {
     "name": "stdout",
     "output_type": "stream",
     "text": [
      "/Users/evanli/Documents/EvanPys/Progress/PBMC_Hao_GSE/L1_by_lossdiff/L1_DEG/L1_DEG_table\n"
     ]
    }
   ],
   "source": [
    "!pwd"
   ]
  },
  {
   "cell_type": "code",
   "execution_count": 69,
   "metadata": {},
   "outputs": [
    {
     "name": "stdout",
     "output_type": "stream",
     "text": [
      "==================\n",
      "Constructing classifier for: B\n",
      "n: 13\n",
      "(161764, 13)\n",
      "==================\n",
      "Constructing classifier for: CD4_T\n",
      "n: 200\n",
      "(161764, 200)\n"
     ]
    },
    {
     "name": "stderr",
     "output_type": "stream",
     "text": [
      "/opt/anaconda3/lib/python3.9/site-packages/sklearn/linear_model/_logistic.py:814: ConvergenceWarning: lbfgs failed to converge (status=1):\n",
      "STOP: TOTAL NO. of ITERATIONS REACHED LIMIT.\n",
      "\n",
      "Increase the number of iterations (max_iter) or scale the data as shown in:\n",
      "    https://scikit-learn.org/stable/modules/preprocessing.html\n",
      "Please also refer to the documentation for alternative solver options:\n",
      "    https://scikit-learn.org/stable/modules/linear_model.html#logistic-regression\n",
      "  n_iter_i = _check_optimize_result(\n"
     ]
    },
    {
     "name": "stdout",
     "output_type": "stream",
     "text": [
      "==================\n",
      "Constructing classifier for: CD8_T\n",
      "n: 25\n",
      "(161764, 25)\n",
      "==================\n",
      "Constructing classifier for: DC\n",
      "n: 25\n",
      "(161764, 25)\n",
      "==================\n",
      "Constructing classifier for: Mono\n",
      "n: 21\n",
      "(161764, 21)\n",
      "==================\n",
      "Constructing classifier for: NK\n",
      "n: 28\n",
      "(161764, 28)\n",
      "==================\n",
      "Constructing classifier for: other\n",
      "n: 42\n",
      "(161764, 42)\n",
      "==================\n",
      "Constructing classifier for: other_T\n",
      "n: 61\n",
      "(161764, 61)\n"
     ]
    }
   ],
   "source": [
    "cols = ['Accuracy', 'Precision', 'Recall', 'F1-score', 'ROC-AUC', 'PR-AUC', 'MCC']\n",
    "all_metrics_DEG = pd.DataFrame(columns=cols)\n",
    "\n",
    "for celltype in types:\n",
    "    print('==================')\n",
    "    print('Constructing classifier for:', celltype)\n",
    "    n_features = count_df.loc[celltype, 'Feature_count']\n",
    "    print('n:', n_features)\n",
    "    DEG_table = pd.read_csv(celltype + '_DEG2000.csv', index_col=0)\n",
    "    DEGn = DEG_table['names'][:n_features].tolist()\n",
    "\n",
    "    clf, celltype_metrics = LR_classifier(data, DEGn, celltype)\n",
    "    all_metrics_DEG.loc[celltype] = celltype_metrics"
   ]
  },
  {
   "cell_type": "code",
   "execution_count": 70,
   "metadata": {},
   "outputs": [
    {
     "data": {
      "text/html": [
       "<div>\n",
       "<style scoped>\n",
       "    .dataframe tbody tr th:only-of-type {\n",
       "        vertical-align: middle;\n",
       "    }\n",
       "\n",
       "    .dataframe tbody tr th {\n",
       "        vertical-align: top;\n",
       "    }\n",
       "\n",
       "    .dataframe thead th {\n",
       "        text-align: right;\n",
       "    }\n",
       "</style>\n",
       "<table border=\"1\" class=\"dataframe\">\n",
       "  <thead>\n",
       "    <tr style=\"text-align: right;\">\n",
       "      <th></th>\n",
       "      <th>Accuracy</th>\n",
       "      <th>Precision</th>\n",
       "      <th>Recall</th>\n",
       "      <th>F1-score</th>\n",
       "      <th>ROC-AUC</th>\n",
       "      <th>PR-AUC</th>\n",
       "      <th>MCC</th>\n",
       "    </tr>\n",
       "  </thead>\n",
       "  <tbody>\n",
       "    <tr>\n",
       "      <th>B</th>\n",
       "      <td>0.998825</td>\n",
       "      <td>0.995269</td>\n",
       "      <td>0.990942</td>\n",
       "      <td>0.993101</td>\n",
       "      <td>0.999547</td>\n",
       "      <td>0.998740</td>\n",
       "      <td>0.992462</td>\n",
       "    </tr>\n",
       "    <tr>\n",
       "      <th>CD4_T</th>\n",
       "      <td>0.935276</td>\n",
       "      <td>0.872226</td>\n",
       "      <td>0.872439</td>\n",
       "      <td>0.872333</td>\n",
       "      <td>0.979447</td>\n",
       "      <td>0.941125</td>\n",
       "      <td>0.828982</td>\n",
       "    </tr>\n",
       "    <tr>\n",
       "      <th>CD8_T</th>\n",
       "      <td>0.969431</td>\n",
       "      <td>0.911735</td>\n",
       "      <td>0.892226</td>\n",
       "      <td>0.901875</td>\n",
       "      <td>0.986648</td>\n",
       "      <td>0.953562</td>\n",
       "      <td>0.883846</td>\n",
       "    </tr>\n",
       "    <tr>\n",
       "      <th>DC</th>\n",
       "      <td>0.996847</td>\n",
       "      <td>0.933803</td>\n",
       "      <td>0.923398</td>\n",
       "      <td>0.928571</td>\n",
       "      <td>0.998040</td>\n",
       "      <td>0.974410</td>\n",
       "      <td>0.926975</td>\n",
       "    </tr>\n",
       "    <tr>\n",
       "      <th>Mono</th>\n",
       "      <td>0.991593</td>\n",
       "      <td>0.977168</td>\n",
       "      <td>0.995511</td>\n",
       "      <td>0.986254</td>\n",
       "      <td>0.997475</td>\n",
       "      <td>0.989797</td>\n",
       "      <td>0.980288</td>\n",
       "    </tr>\n",
       "    <tr>\n",
       "      <th>NK</th>\n",
       "      <td>0.984947</td>\n",
       "      <td>0.931190</td>\n",
       "      <td>0.938923</td>\n",
       "      <td>0.935041</td>\n",
       "      <td>0.997317</td>\n",
       "      <td>0.980795</td>\n",
       "      <td>0.926538</td>\n",
       "    </tr>\n",
       "    <tr>\n",
       "      <th>other</th>\n",
       "      <td>0.991315</td>\n",
       "      <td>0.884688</td>\n",
       "      <td>0.680233</td>\n",
       "      <td>0.769104</td>\n",
       "      <td>0.931314</td>\n",
       "      <td>0.807368</td>\n",
       "      <td>0.771622</td>\n",
       "    </tr>\n",
       "    <tr>\n",
       "      <th>other_T</th>\n",
       "      <td>0.980064</td>\n",
       "      <td>0.824386</td>\n",
       "      <td>0.667158</td>\n",
       "      <td>0.737485</td>\n",
       "      <td>0.978793</td>\n",
       "      <td>0.819256</td>\n",
       "      <td>0.731644</td>\n",
       "    </tr>\n",
       "  </tbody>\n",
       "</table>\n",
       "</div>"
      ],
      "text/plain": [
       "         Accuracy  Precision    Recall  F1-score   ROC-AUC    PR-AUC       MCC\n",
       "B        0.998825   0.995269  0.990942  0.993101  0.999547  0.998740  0.992462\n",
       "CD4_T    0.935276   0.872226  0.872439  0.872333  0.979447  0.941125  0.828982\n",
       "CD8_T    0.969431   0.911735  0.892226  0.901875  0.986648  0.953562  0.883846\n",
       "DC       0.996847   0.933803  0.923398  0.928571  0.998040  0.974410  0.926975\n",
       "Mono     0.991593   0.977168  0.995511  0.986254  0.997475  0.989797  0.980288\n",
       "NK       0.984947   0.931190  0.938923  0.935041  0.997317  0.980795  0.926538\n",
       "other    0.991315   0.884688  0.680233  0.769104  0.931314  0.807368  0.771622\n",
       "other_T  0.980064   0.824386  0.667158  0.737485  0.978793  0.819256  0.731644"
      ]
     },
     "execution_count": 70,
     "metadata": {},
     "output_type": "execute_result"
    }
   ],
   "source": [
    "all_metrics_DEG"
   ]
  },
  {
   "cell_type": "code",
   "execution_count": 74,
   "metadata": {},
   "outputs": [],
   "source": [
    "os.chdir('/Users/evanli/Documents/EvanPys/Progress/PBMC_Hao_GSE/L1_by_lossdiff/L1_DEG/L1_DEG_table')\n",
    "all_metrics_DEG.to_csv('L1_loss_diff_DEGn_metrics.csv')"
   ]
  },
  {
   "cell_type": "code",
   "execution_count": 75,
   "metadata": {},
   "outputs": [
    {
     "data": {
      "image/png": "[encoded data removed]",
      "text/plain": [
       "<Figure size 800x600 with 1 Axes>"
      ]
     },
     "metadata": {},
     "output_type": "display_data"
    }
   ],
   "source": [
    "# line graph\n",
    "\n",
    "# Plot metrics for each celltype\n",
    "cols = ['Precision', 'F1-score', 'ROC-AUC', 'PR-AUC', 'MCC']\n",
    "ax = all_metrics_DEG[cols].plot.line(rot=0, figsize=(8, 6), title='One vs. Rest Logistic Regression using DEGn as features (Level 1)')\n",
    "ax.legend(loc='center left', bbox_to_anchor=(1.0, 0.5))\n",
    "\n",
    "# Generate x-ticks for every data point\n",
    "plt.xticks(np.arange(len(all_metrics.index)), all_metrics.index, rotation=90)\n",
    "ax.set_ylim(0, 1.1)\n",
    "\n",
    "plt.show()"
   ]
  },
  {
   "cell_type": "code",
   "execution_count": 76,
   "metadata": {},
   "outputs": [
    {
     "data": {
      "text/plain": [
       "<matplotlib.legend.Legend at 0x16a7991c0>"
      ]
     },
     "execution_count": 76,
     "metadata": {},
     "output_type": "execute_result"
    },
    {
     "data": {
      "image/png": "[encoded data removed]",
      "text/plain": [
       "<Figure size 800x600 with 1 Axes>"
      ]
     },
     "metadata": {},
     "output_type": "display_data"
    }
   ],
   "source": [
    "# Plot metrics for each celltype\n",
    "ax = all_metrics_DEG[cols].plot.bar(rot=0, figsize=(8,6), title='One vs. Rest Logistic Regression using DEGn as features (Level 1)')\n",
    "ax.legend(loc='center left', bbox_to_anchor=(1.0, 0.5))"
   ]
  },
  {
   "cell_type": "markdown",
   "metadata": {},
   "source": [
    "## Combine plots: ADlasso features vs. DEG"
   ]
  },
  {
   "cell_type": "code",
   "execution_count": 77,
   "metadata": {},
   "outputs": [
    {
     "data": {
      "text/html": [
       "<div>\n",
       "<style scoped>\n",
       "    .dataframe tbody tr th:only-of-type {\n",
       "        vertical-align: middle;\n",
       "    }\n",
       "\n",
       "    .dataframe tbody tr th {\n",
       "        vertical-align: top;\n",
       "    }\n",
       "\n",
       "    .dataframe thead th {\n",
       "        text-align: right;\n",
       "    }\n",
       "</style>\n",
       "<table border=\"1\" class=\"dataframe\">\n",
       "  <thead>\n",
       "    <tr style=\"text-align: right;\">\n",
       "      <th></th>\n",
       "      <th>Accuracy</th>\n",
       "      <th>Precision</th>\n",
       "      <th>Recall</th>\n",
       "      <th>F1-score</th>\n",
       "      <th>ROC-AUC</th>\n",
       "      <th>PR-AUC</th>\n",
       "      <th>MCC</th>\n",
       "    </tr>\n",
       "  </thead>\n",
       "  <tbody>\n",
       "    <tr>\n",
       "      <th>B</th>\n",
       "      <td>0.998863</td>\n",
       "      <td>0.993767</td>\n",
       "      <td>0.992899</td>\n",
       "      <td>0.993329</td>\n",
       "      <td>0.999920</td>\n",
       "      <td>0.999358</td>\n",
       "      <td>0.992709</td>\n",
       "    </tr>\n",
       "    <tr>\n",
       "      <th>CD4_T</th>\n",
       "      <td>0.961339</td>\n",
       "      <td>0.924050</td>\n",
       "      <td>0.926344</td>\n",
       "      <td>0.924333</td>\n",
       "      <td>0.992166</td>\n",
       "      <td>0.977680</td>\n",
       "      <td>0.899153</td>\n",
       "    </tr>\n",
       "    <tr>\n",
       "      <th>CD8_T</th>\n",
       "      <td>0.970216</td>\n",
       "      <td>0.920194</td>\n",
       "      <td>0.887825</td>\n",
       "      <td>0.903650</td>\n",
       "      <td>0.988212</td>\n",
       "      <td>0.956941</td>\n",
       "      <td>0.886290</td>\n",
       "    </tr>\n",
       "    <tr>\n",
       "      <th>DC</th>\n",
       "      <td>0.998053</td>\n",
       "      <td>0.961301</td>\n",
       "      <td>0.950684</td>\n",
       "      <td>0.955895</td>\n",
       "      <td>0.999416</td>\n",
       "      <td>0.988437</td>\n",
       "      <td>0.954951</td>\n",
       "    </tr>\n",
       "    <tr>\n",
       "      <th>Mono</th>\n",
       "      <td>0.991049</td>\n",
       "      <td>0.976382</td>\n",
       "      <td>0.994532</td>\n",
       "      <td>0.985366</td>\n",
       "      <td>0.997828</td>\n",
       "      <td>0.992105</td>\n",
       "      <td>0.979013</td>\n",
       "    </tr>\n",
       "    <tr>\n",
       "      <th>NK</th>\n",
       "      <td>0.990097</td>\n",
       "      <td>0.956739</td>\n",
       "      <td>0.958102</td>\n",
       "      <td>0.957218</td>\n",
       "      <td>0.998551</td>\n",
       "      <td>0.990346</td>\n",
       "      <td>0.951748</td>\n",
       "    </tr>\n",
       "    <tr>\n",
       "      <th>other</th>\n",
       "      <td>0.993280</td>\n",
       "      <td>0.934213</td>\n",
       "      <td>0.737017</td>\n",
       "      <td>0.818854</td>\n",
       "      <td>0.953300</td>\n",
       "      <td>0.855213</td>\n",
       "      <td>0.824049</td>\n",
       "    </tr>\n",
       "    <tr>\n",
       "      <th>other_T</th>\n",
       "      <td>0.982153</td>\n",
       "      <td>0.846822</td>\n",
       "      <td>0.704073</td>\n",
       "      <td>0.768268</td>\n",
       "      <td>0.982465</td>\n",
       "      <td>0.840323</td>\n",
       "      <td>0.762894</td>\n",
       "    </tr>\n",
       "  </tbody>\n",
       "</table>\n",
       "</div>"
      ],
      "text/plain": [
       "         Accuracy  Precision    Recall  F1-score   ROC-AUC    PR-AUC       MCC\n",
       "B        0.998863   0.993767  0.992899  0.993329  0.999920  0.999358  0.992709\n",
       "CD4_T    0.961339   0.924050  0.926344  0.924333  0.992166  0.977680  0.899153\n",
       "CD8_T    0.970216   0.920194  0.887825  0.903650  0.988212  0.956941  0.886290\n",
       "DC       0.998053   0.961301  0.950684  0.955895  0.999416  0.988437  0.954951\n",
       "Mono     0.991049   0.976382  0.994532  0.985366  0.997828  0.992105  0.979013\n",
       "NK       0.990097   0.956739  0.958102  0.957218  0.998551  0.990346  0.951748\n",
       "other    0.993280   0.934213  0.737017  0.818854  0.953300  0.855213  0.824049\n",
       "other_T  0.982153   0.846822  0.704073  0.768268  0.982465  0.840323  0.762894"
      ]
     },
     "execution_count": 77,
     "metadata": {},
     "output_type": "execute_result"
    }
   ],
   "source": [
    "all_metrics"
   ]
  },
  {
   "cell_type": "code",
   "execution_count": 78,
   "metadata": {},
   "outputs": [
    {
     "data": {
      "text/html": [
       "<div>\n",
       "<style scoped>\n",
       "    .dataframe tbody tr th:only-of-type {\n",
       "        vertical-align: middle;\n",
       "    }\n",
       "\n",
       "    .dataframe tbody tr th {\n",
       "        vertical-align: top;\n",
       "    }\n",
       "\n",
       "    .dataframe thead th {\n",
       "        text-align: right;\n",
       "    }\n",
       "</style>\n",
       "<table border=\"1\" class=\"dataframe\">\n",
       "  <thead>\n",
       "    <tr style=\"text-align: right;\">\n",
       "      <th></th>\n",
       "      <th>Accuracy</th>\n",
       "      <th>Precision</th>\n",
       "      <th>Recall</th>\n",
       "      <th>F1-score</th>\n",
       "      <th>ROC-AUC</th>\n",
       "      <th>PR-AUC</th>\n",
       "      <th>MCC</th>\n",
       "    </tr>\n",
       "  </thead>\n",
       "  <tbody>\n",
       "    <tr>\n",
       "      <th>B</th>\n",
       "      <td>0.998825</td>\n",
       "      <td>0.995269</td>\n",
       "      <td>0.990942</td>\n",
       "      <td>0.993101</td>\n",
       "      <td>0.999547</td>\n",
       "      <td>0.998740</td>\n",
       "      <td>0.992462</td>\n",
       "    </tr>\n",
       "    <tr>\n",
       "      <th>CD4_T</th>\n",
       "      <td>0.935276</td>\n",
       "      <td>0.872226</td>\n",
       "      <td>0.872439</td>\n",
       "      <td>0.872333</td>\n",
       "      <td>0.979447</td>\n",
       "      <td>0.941125</td>\n",
       "      <td>0.828982</td>\n",
       "    </tr>\n",
       "    <tr>\n",
       "      <th>CD8_T</th>\n",
       "      <td>0.969431</td>\n",
       "      <td>0.911735</td>\n",
       "      <td>0.892226</td>\n",
       "      <td>0.901875</td>\n",
       "      <td>0.986648</td>\n",
       "      <td>0.953562</td>\n",
       "      <td>0.883846</td>\n",
       "    </tr>\n",
       "    <tr>\n",
       "      <th>DC</th>\n",
       "      <td>0.996847</td>\n",
       "      <td>0.933803</td>\n",
       "      <td>0.923398</td>\n",
       "      <td>0.928571</td>\n",
       "      <td>0.998040</td>\n",
       "      <td>0.974410</td>\n",
       "      <td>0.926975</td>\n",
       "    </tr>\n",
       "    <tr>\n",
       "      <th>Mono</th>\n",
       "      <td>0.991593</td>\n",
       "      <td>0.977168</td>\n",
       "      <td>0.995511</td>\n",
       "      <td>0.986254</td>\n",
       "      <td>0.997475</td>\n",
       "      <td>0.989797</td>\n",
       "      <td>0.980288</td>\n",
       "    </tr>\n",
       "    <tr>\n",
       "      <th>NK</th>\n",
       "      <td>0.984947</td>\n",
       "      <td>0.931190</td>\n",
       "      <td>0.938923</td>\n",
       "      <td>0.935041</td>\n",
       "      <td>0.997317</td>\n",
       "      <td>0.980795</td>\n",
       "      <td>0.926538</td>\n",
       "    </tr>\n",
       "    <tr>\n",
       "      <th>other</th>\n",
       "      <td>0.991315</td>\n",
       "      <td>0.884688</td>\n",
       "      <td>0.680233</td>\n",
       "      <td>0.769104</td>\n",
       "      <td>0.931314</td>\n",
       "      <td>0.807368</td>\n",
       "      <td>0.771622</td>\n",
       "    </tr>\n",
       "    <tr>\n",
       "      <th>other_T</th>\n",
       "      <td>0.980064</td>\n",
       "      <td>0.824386</td>\n",
       "      <td>0.667158</td>\n",
       "      <td>0.737485</td>\n",
       "      <td>0.978793</td>\n",
       "      <td>0.819256</td>\n",
       "      <td>0.731644</td>\n",
       "    </tr>\n",
       "  </tbody>\n",
       "</table>\n",
       "</div>"
      ],
      "text/plain": [
       "         Accuracy  Precision    Recall  F1-score   ROC-AUC    PR-AUC       MCC\n",
       "B        0.998825   0.995269  0.990942  0.993101  0.999547  0.998740  0.992462\n",
       "CD4_T    0.935276   0.872226  0.872439  0.872333  0.979447  0.941125  0.828982\n",
       "CD8_T    0.969431   0.911735  0.892226  0.901875  0.986648  0.953562  0.883846\n",
       "DC       0.996847   0.933803  0.923398  0.928571  0.998040  0.974410  0.926975\n",
       "Mono     0.991593   0.977168  0.995511  0.986254  0.997475  0.989797  0.980288\n",
       "NK       0.984947   0.931190  0.938923  0.935041  0.997317  0.980795  0.926538\n",
       "other    0.991315   0.884688  0.680233  0.769104  0.931314  0.807368  0.771622\n",
       "other_T  0.980064   0.824386  0.667158  0.737485  0.978793  0.819256  0.731644"
      ]
     },
     "execution_count": 78,
     "metadata": {},
     "output_type": "execute_result"
    }
   ],
   "source": [
    "all_metrics_DEG"
   ]
  },
  {
   "cell_type": "code",
   "execution_count": 79,
   "metadata": {},
   "outputs": [
    {
     "data": {
      "text/html": [
       "<div>\n",
       "<style scoped>\n",
       "    .dataframe tbody tr th:only-of-type {\n",
       "        vertical-align: middle;\n",
       "    }\n",
       "\n",
       "    .dataframe tbody tr th {\n",
       "        vertical-align: top;\n",
       "    }\n",
       "\n",
       "    .dataframe thead th {\n",
       "        text-align: right;\n",
       "    }\n",
       "</style>\n",
       "<table border=\"1\" class=\"dataframe\">\n",
       "  <thead>\n",
       "    <tr style=\"text-align: right;\">\n",
       "      <th></th>\n",
       "      <th>Accuracy</th>\n",
       "      <th>Precision</th>\n",
       "      <th>Recall</th>\n",
       "      <th>F1-score</th>\n",
       "      <th>ROC-AUC</th>\n",
       "      <th>PR-AUC</th>\n",
       "      <th>MCC</th>\n",
       "    </tr>\n",
       "  </thead>\n",
       "  <tbody>\n",
       "    <tr>\n",
       "      <th>B</th>\n",
       "      <td>0.000037</td>\n",
       "      <td>-0.001503</td>\n",
       "      <td>0.001957</td>\n",
       "      <td>0.000228</td>\n",
       "      <td>0.000372</td>\n",
       "      <td>0.000619</td>\n",
       "      <td>0.000247</td>\n",
       "    </tr>\n",
       "    <tr>\n",
       "      <th>CD4_T</th>\n",
       "      <td>0.026062</td>\n",
       "      <td>0.051824</td>\n",
       "      <td>0.053905</td>\n",
       "      <td>0.052001</td>\n",
       "      <td>0.012719</td>\n",
       "      <td>0.036556</td>\n",
       "      <td>0.070171</td>\n",
       "    </tr>\n",
       "    <tr>\n",
       "      <th>CD8_T</th>\n",
       "      <td>0.000785</td>\n",
       "      <td>0.008459</td>\n",
       "      <td>-0.004401</td>\n",
       "      <td>0.001775</td>\n",
       "      <td>0.001564</td>\n",
       "      <td>0.003380</td>\n",
       "      <td>0.002444</td>\n",
       "    </tr>\n",
       "    <tr>\n",
       "      <th>DC</th>\n",
       "      <td>0.001205</td>\n",
       "      <td>0.027498</td>\n",
       "      <td>0.027286</td>\n",
       "      <td>0.027324</td>\n",
       "      <td>0.001376</td>\n",
       "      <td>0.014027</td>\n",
       "      <td>0.027976</td>\n",
       "    </tr>\n",
       "    <tr>\n",
       "      <th>Mono</th>\n",
       "      <td>-0.000544</td>\n",
       "      <td>-0.000786</td>\n",
       "      <td>-0.000979</td>\n",
       "      <td>-0.000889</td>\n",
       "      <td>0.000353</td>\n",
       "      <td>0.002308</td>\n",
       "      <td>-0.001274</td>\n",
       "    </tr>\n",
       "    <tr>\n",
       "      <th>NK</th>\n",
       "      <td>0.005149</td>\n",
       "      <td>0.025549</td>\n",
       "      <td>0.019178</td>\n",
       "      <td>0.022177</td>\n",
       "      <td>0.001234</td>\n",
       "      <td>0.009551</td>\n",
       "      <td>0.025210</td>\n",
       "    </tr>\n",
       "    <tr>\n",
       "      <th>other</th>\n",
       "      <td>0.001966</td>\n",
       "      <td>0.049525</td>\n",
       "      <td>0.056785</td>\n",
       "      <td>0.049750</td>\n",
       "      <td>0.021985</td>\n",
       "      <td>0.047844</td>\n",
       "      <td>0.052427</td>\n",
       "    </tr>\n",
       "    <tr>\n",
       "      <th>other_T</th>\n",
       "      <td>0.002089</td>\n",
       "      <td>0.022437</td>\n",
       "      <td>0.036916</td>\n",
       "      <td>0.030784</td>\n",
       "      <td>0.003672</td>\n",
       "      <td>0.021067</td>\n",
       "      <td>0.031250</td>\n",
       "    </tr>\n",
       "  </tbody>\n",
       "</table>\n",
       "</div>"
      ],
      "text/plain": [
       "         Accuracy  Precision    Recall  F1-score   ROC-AUC    PR-AUC       MCC\n",
       "B        0.000037  -0.001503  0.001957  0.000228  0.000372  0.000619  0.000247\n",
       "CD4_T    0.026062   0.051824  0.053905  0.052001  0.012719  0.036556  0.070171\n",
       "CD8_T    0.000785   0.008459 -0.004401  0.001775  0.001564  0.003380  0.002444\n",
       "DC       0.001205   0.027498  0.027286  0.027324  0.001376  0.014027  0.027976\n",
       "Mono    -0.000544  -0.000786 -0.000979 -0.000889  0.000353  0.002308 -0.001274\n",
       "NK       0.005149   0.025549  0.019178  0.022177  0.001234  0.009551  0.025210\n",
       "other    0.001966   0.049525  0.056785  0.049750  0.021985  0.047844  0.052427\n",
       "other_T  0.002089   0.022437  0.036916  0.030784  0.003672  0.021067  0.031250"
      ]
     },
     "execution_count": 79,
     "metadata": {},
     "output_type": "execute_result"
    }
   ],
   "source": [
    "AD_minus_DEG = all_metrics - all_metrics_DEG\n",
    "AD_minus_DEG"
   ]
  },
  {
   "cell_type": "code",
   "execution_count": 82,
   "metadata": {},
   "outputs": [
    {
     "data": {
      "text/plain": [
       "<matplotlib.lines.Line2D at 0x16b90b7c0>"
      ]
     },
     "execution_count": 82,
     "metadata": {},
     "output_type": "execute_result"
    },
    {
     "data": {
      "image/png": "[encoded data removed]",
      "text/plain": [
       "<Figure size 800x600 with 1 Axes>"
      ]
     },
     "metadata": {},
     "output_type": "display_data"
    }
   ],
   "source": [
    "# Plot metrics for each celltype\n",
    "cols = ['Precision', 'F1-score', 'ROC-AUC', 'PR-AUC', 'MCC']\n",
    "ax = AD_minus_DEG[cols].plot.bar(rot=0, figsize=(8,6), title='Logistic Regression metrics: ADlasso features minus DEGn as features')\n",
    "ax.legend(loc='center left', bbox_to_anchor=(1.0, 0.5))\n",
    "# Add vertical red dotted line at y = 0\n",
    "ax.axhline(y=0, color='red', linestyle='dotted')\n"
   ]
  },
  {
   "cell_type": "code",
   "execution_count": null,
   "metadata": {},
   "outputs": [],
   "source": []
  }
 ],
 "metadata": {
  "kernelspec": {
   "display_name": "Python 3",
   "language": "python",
   "name": "python3"
  },
  "language_info": {
   "codemirror_mode": {
    "name": "ipython",
    "version": 3
   },
   "file_extension": ".py",
   "mimetype": "text/x-python",
   "name": "python",
   "nbconvert_exporter": "python",
   "pygments_lexer": "ipython3",
   "version": "3.9.12"
  }
 },
 "nbformat": 4,
 "nbformat_minor": 2
}

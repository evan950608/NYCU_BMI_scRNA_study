{
 "cells": [
  {
   "cell_type": "code",
   "execution_count": 2,
   "metadata": {
    "tags": []
   },
   "outputs": [],
   "source": [
    "import numpy as np\n",
    "import matplotlib.pyplot as plt\n",
    "import pandas as pd\n",
    "\n",
    "from sklearn.svm import SVC\n",
    "from sklearn.model_selection import train_test_split\n",
    "from sklearn.metrics import accuracy_score, precision_score, recall_score, f1_score\n",
    "from sklearn.metrics import roc_curve, roc_auc_score, auc, precision_recall_curve, average_precision_score\n",
    "from sklearn.metrics import make_scorer, matthews_corrcoef\n",
    "from sklearn.model_selection import cross_val_score, cross_validate, KFold, StratifiedKFold\n"
   ]
  },
  {
   "cell_type": "code",
   "execution_count": 2,
   "metadata": {
    "tags": []
   },
   "outputs": [
    {
     "data": {
      "text/plain": [
       "(161764, 33538)"
      ]
     },
     "execution_count": 2,
     "metadata": {},
     "output_type": "execute_result"
    }
   ],
   "source": [
    "import scanpy as sc\n",
    "\n",
    "# read the full GSE dataset\n",
    "# data = sc.read_h5ad('/Users/evanli/Documents/Research_datasets/PBMC_Hao/GSE164378_Hao/Hao_PBMC_GSE164378.h5ad')\n",
    "# data = sc.read_h5ad(r\"C:\\Users\\evanlee\\Documents\\Research_datasets\\GSE164378\\Hao_PBMC_GSE164378.h5ad\")\n",
    "data = sc.read_h5ad('/ws/Research_datasets/GSE164378/Hao_PBMC_GSE164378.h5ad')\n",
    "data.shape"
   ]
  },
  {
   "cell_type": "code",
   "execution_count": 3,
   "metadata": {
    "tags": []
   },
   "outputs": [],
   "source": [
    "### Raw counts were not normalizaed\n",
    "# CPM\n",
    "sc.pp.normalize_total(data, target_sum=1e6)\n",
    "\n",
    "# log1p\n",
    "sc.pp.log1p(data)"
   ]
  },
  {
   "cell_type": "code",
   "execution_count": 4,
   "metadata": {
    "tags": []
   },
   "outputs": [
    {
     "name": "stdout",
     "output_type": "stream",
     "text": [
      "['B', 'CD4_T', 'CD8_T', 'DC', 'Mono', 'NK', 'other', 'other_T']\n"
     ]
    }
   ],
   "source": [
    "data.obs['celltype.l1'] = data.obs['celltype.l1'].str.replace(' ', '_')\n",
    "\n",
    "label = data.obs['celltype.l1'].tolist()\n",
    "types = np.unique(label).tolist()\n",
    "# types = [s.replace(' ', '_') for s in types]\n",
    "print(types)"
   ]
  },
  {
   "cell_type": "markdown",
   "metadata": {},
   "source": [
    "## Read features"
   ]
  },
  {
   "cell_type": "code",
   "execution_count": 5,
   "metadata": {
    "tags": []
   },
   "outputs": [],
   "source": [
    "# Level 1 ADlasso features by loss difference convergence\n",
    "import os\n",
    "# os.chdir('/Users/evanli/Documents/EvanPys/Progress/PBMC_Hao_GSE/L1_by_lossdiff/feature_selection')\n",
    "# os.chdir(r\"C:\\Users\\evanlee\\Documents\\GitHub\\EvanPys\\Progress\\PBMC_Hao_GSE\\L1_by_lossdiff\\feature_selection\")\n",
    "os.chdir('/ws/GitHub/EvanPys/Progress/PBMC_Hao_GSE/L1_by_lossdiff/feature_selection')\n",
    "\n",
    "features_dict = {}\n",
    "# Read features for each celltype\n",
    "for celltype in types:\n",
    "    try:\n",
    "        feature_df = pd.read_csv(f'{celltype}_features.txt', names=['Gene', 'Weight', 'Tendency'], sep='\\t')\n",
    "        features_dict[celltype] = feature_df\n",
    "    except:\n",
    "        print('skipping:', celltype)\n",
    "        continue\n",
    "    # print(celltype, 'Feature count:', feature_df.shape[0])\n",
    "    # print(celltype, 'Positive feature count:', feature_df[feature_df['Tendency'] == 1].shape[0])\n",
    "    # print('------------------')"
   ]
  },
  {
   "cell_type": "code",
   "execution_count": 6,
   "metadata": {
    "tags": []
   },
   "outputs": [
    {
     "data": {
      "text/html": [
       "<div>\n",
       "<style scoped>\n",
       "    .dataframe tbody tr th:only-of-type {\n",
       "        vertical-align: middle;\n",
       "    }\n",
       "\n",
       "    .dataframe tbody tr th {\n",
       "        vertical-align: top;\n",
       "    }\n",
       "\n",
       "    .dataframe thead th {\n",
       "        text-align: right;\n",
       "    }\n",
       "</style>\n",
       "<table border=\"1\" class=\"dataframe\">\n",
       "  <thead>\n",
       "    <tr style=\"text-align: right;\">\n",
       "      <th></th>\n",
       "      <th>Feature_count</th>\n",
       "      <th>Positive_feature_count</th>\n",
       "    </tr>\n",
       "  </thead>\n",
       "  <tbody>\n",
       "    <tr>\n",
       "      <th>B</th>\n",
       "      <td>13</td>\n",
       "      <td>7</td>\n",
       "    </tr>\n",
       "    <tr>\n",
       "      <th>CD4_T</th>\n",
       "      <td>200</td>\n",
       "      <td>83</td>\n",
       "    </tr>\n",
       "    <tr>\n",
       "      <th>CD8_T</th>\n",
       "      <td>25</td>\n",
       "      <td>6</td>\n",
       "    </tr>\n",
       "    <tr>\n",
       "      <th>DC</th>\n",
       "      <td>25</td>\n",
       "      <td>15</td>\n",
       "    </tr>\n",
       "    <tr>\n",
       "      <th>Mono</th>\n",
       "      <td>21</td>\n",
       "      <td>11</td>\n",
       "    </tr>\n",
       "    <tr>\n",
       "      <th>NK</th>\n",
       "      <td>28</td>\n",
       "      <td>14</td>\n",
       "    </tr>\n",
       "    <tr>\n",
       "      <th>other</th>\n",
       "      <td>42</td>\n",
       "      <td>27</td>\n",
       "    </tr>\n",
       "    <tr>\n",
       "      <th>other_T</th>\n",
       "      <td>61</td>\n",
       "      <td>26</td>\n",
       "    </tr>\n",
       "  </tbody>\n",
       "</table>\n",
       "</div>"
      ],
      "text/plain": [
       "         Feature_count  Positive_feature_count\n",
       "B                   13                       7\n",
       "CD4_T              200                      83\n",
       "CD8_T               25                       6\n",
       "DC                  25                      15\n",
       "Mono                21                      11\n",
       "NK                  28                      14\n",
       "other               42                      27\n",
       "other_T             61                      26"
      ]
     },
     "execution_count": 6,
     "metadata": {},
     "output_type": "execute_result"
    }
   ],
   "source": [
    "count_df = pd.DataFrame(columns=['Feature_count', 'Positive_feature_count'])\n",
    "for celltype in features_dict.keys():\n",
    "    feature_df = features_dict[celltype]\n",
    "    feature_count = feature_df.shape[0]\n",
    "    positive_count = feature_df[feature_df['Tendency'] == 1].shape[0]\n",
    "    count_df.loc[celltype] = [feature_count, positive_count]\n",
    "count_df"
   ]
  },
  {
   "cell_type": "markdown",
   "metadata": {},
   "source": [
    "## Stratified K-fold"
   ]
  },
  {
   "cell_type": "code",
   "execution_count": 7,
   "metadata": {
    "tags": []
   },
   "outputs": [],
   "source": [
    "import pickle\n",
    "import cupy as cp\n",
    "import cudf\n",
    "from cuml import train_test_split, SVC\n",
    "from cuml.model_selection import StratifiedKFold\n",
    "from cuml.model_selection import train_test_split\n",
    "from sklearn.metrics import accuracy_score, precision_score, recall_score, f1_score, roc_auc_score\n",
    "from sklearn.metrics import average_precision_score, matthews_corrcoef\n",
    "\n",
    "def SVM_strat_KFold_cuml(data, all_features_dict, celltype, k=5):\n",
    "    # X = cp.sparse.csc_matrix(data[:, all_features_dict[celltype]['Gene'].tolist()].X)\n",
    "    X = cudf.DataFrame(data[:, all_features_dict[celltype]['Gene'].tolist()].X.todense())\n",
    "    y = cudf.Series([1 if i==celltype else 0 for i in data.obs['celltype.l1'].tolist()])\n",
    "    # print(X.shape)\n",
    "    # print(y.shape)\n",
    "\n",
    "    X_train, X_test, y_train, y_test = train_test_split(X, y, test_size=0.2, random_state=0, stratify=y)\n",
    "\n",
    "    print('Fitting SVM model...')\n",
    "    svm_clf = SVC(kernel='rbf', max_iter=5000)\n",
    "    svm_clf.fit(X_train, y_train)\n",
    "\n",
    "    print('Cross validation...')\n",
    "    cv = StratifiedKFold(n_splits=k, shuffle=True, random_state=42)\n",
    "\n",
    "    metrics = {'accuracy': [], 'precision': [], 'recall': [], 'f1': [], 'roc_auc': [], 'pr_auc': [], 'mcc': []}\n",
    "    \n",
    "    kf_count = 1\n",
    "    # for train_index, test_index in cv.split(cp.asnumpy(X_train), cp.asnumpy(y_train)):\n",
    "    for train_index, test_index in cv.split(X_train, y_train):\n",
    "        print('KF:', kf_count)\n",
    "        # X_train_fold, X_test_fold = cp.asarray(X_train[train_index]), cp.asarray(X_train[test_index])\n",
    "        # y_train_fold, y_test_fold = cp.asarray(y_train[train_index]), cp.asarray(y_train[test_index])\n",
    "        X_train_fold, X_test_fold = X_train.iloc[train_index], X_train.iloc[test_index]\n",
    "        y_train_fold, y_test_fold = y_train[train_index], y_train[test_index]\n",
    "        svm_clf.fit(X_train_fold, y_train_fold)\n",
    "        y_pred = svm_clf.predict(X_test_fold)\n",
    "        \n",
    "        # Move y_test_fold and y_pred to CPU memory for sklearn metrics\n",
    "        y_test_fold_cpu = cp.asnumpy(y_test_fold)\n",
    "        y_pred_cpu = cp.asnumpy(y_pred)\n",
    "        metrics['accuracy'].append(accuracy_score(y_test_fold_cpu, y_pred_cpu))\n",
    "        metrics['precision'].append(precision_score(y_test_fold_cpu, y_pred_cpu))\n",
    "        metrics['recall'].append(recall_score(y_test_fold_cpu, y_pred_cpu))\n",
    "        metrics['f1'].append(f1_score(y_test_fold_cpu, y_pred_cpu))\n",
    "        metrics['roc_auc'].append(roc_auc_score(y_test_fold_cpu, y_pred_cpu))\n",
    "        metrics['pr_auc'].append(average_precision_score(y_test_fold_cpu, y_pred_cpu))\n",
    "        metrics['mcc'].append(matthews_corrcoef(y_test_fold_cpu, y_pred_cpu))\n",
    "        \n",
    "        kf_count += 1\n",
    "\n",
    "    mean_metrics = {metric: np.mean(values) for metric, values in metrics.items()}\n",
    "\n",
    "    return svm_clf, mean_metrics"
   ]
  },
  {
   "cell_type": "code",
   "execution_count": 8,
   "metadata": {
    "tags": []
   },
   "outputs": [
    {
     "name": "stdout",
     "output_type": "stream",
     "text": [
      "====================\n",
      "K-fold CV for: B\n",
      "X train type: <class 'cudf.core.dataframe.DataFrame'>\n",
      "Fitting SVM model...\n",
      "Cross validation...\n",
      "KF: 1\n",
      "KF: 2\n",
      "KF: 3\n",
      "KF: 4\n",
      "KF: 5\n",
      "{'accuracy': 0.9994513672012187, 'precision': 0.9973701057828166, 'recall': 0.996195652173913, 'f1': 0.9967823568098393, 'roc_auc': 0.9979753315088529, 'pr_auc': 0.9939010640766959, 'mcc': 0.9964827863535826}\n",
      "====================\n",
      "K-fold CV for: CD4_T\n",
      "X train type: <class 'cudf.core.dataframe.DataFrame'>\n",
      "Fitting SVM model...\n",
      "Cross validation...\n",
      "KF: 1\n",
      "KF: 2\n",
      "KF: 3\n",
      "KF: 4\n",
      "KF: 5\n",
      "{'accuracy': 0.9687664189618659, 'precision': 0.9356023821036608, 'recall': 0.9415871502336423, 'f1': 0.9385834449862713, 'roc_auc': 0.9597906863851107, 'pr_auc': 0.8957563663631326, 'mcc': 0.917651927992916}\n",
      "====================\n",
      "K-fold CV for: CD8_T\n",
      "X train type: <class 'cudf.core.dataframe.DataFrame'>\n",
      "Fitting SVM model...\n",
      "Cross validation...\n",
      "KF: 1\n",
      "KF: 2\n",
      "KF: 3\n",
      "KF: 4\n",
      "KF: 5\n",
      "{'accuracy': 0.973526414626759, 'precision': 0.9089073290797615, 'recall': 0.924515337423313, 'f1': 0.9166429229709211, 'roc_auc': 0.953600056187714, 'pr_auc': 0.8521857751576114, 'mcc': 0.9009562910555762}\n",
      "====================\n",
      "K-fold CV for: DC\n",
      "X train type: <class 'cudf.core.dataframe.DataFrame'>\n",
      "Fitting SVM model...\n",
      "Cross validation...\n",
      "KF: 1\n",
      "KF: 2\n",
      "KF: 3\n",
      "KF: 4\n",
      "KF: 5\n",
      "{'accuracy': 0.9983695435214092, 'precision': 0.9650539944995545, 'recall': 0.9613355552189062, 'f1': 0.9631869366648165, 'roc_auc': 0.9802726479772204, 'pr_auc': 0.9286124363721224, 'mcc': 0.9623573473738232}\n",
      "====================\n",
      "K-fold CV for: Mono\n",
      "X train type: <class 'cudf.core.dataframe.DataFrame'>\n",
      "Fitting SVM model...\n",
      "Cross validation...\n",
      "KF: 1\n",
      "KF: 2\n",
      "KF: 3\n",
      "KF: 4\n",
      "KF: 5\n",
      "{'accuracy': 0.9926513723925744, 'precision': 0.9787992947235867, 'recall': 0.9973474690368811, 'f1': 0.9879862769171485, 'roc_auc': 0.9939788193516936, 'pr_auc': 0.9770068544816827, 'mcc': 0.9827836448890632}\n",
      "====================\n",
      "K-fold CV for: NK\n",
      "X train type: <class 'cudf.core.dataframe.DataFrame'>\n",
      "Fitting SVM model...\n",
      "Cross validation...\n",
      "KF: 1\n",
      "KF: 2\n",
      "KF: 3\n",
      "KF: 4\n",
      "KF: 5\n",
      "{'accuracy': 0.9927440994374919, 'precision': 0.9663452924509899, 'recall': 0.9709328501201119, 'f1': 0.968630296248775, 'roc_auc': 0.9832608183166803, 'pr_auc': 0.9416101802290863, 'mcc': 0.9645335256695209}\n",
      "====================\n",
      "K-fold CV for: other\n",
      "X train type: <class 'cudf.core.dataframe.DataFrame'>\n",
      "Fitting SVM model...\n",
      "Cross validation...\n",
      "KF: 1\n",
      "KF: 2\n",
      "KF: 3\n",
      "KF: 4\n",
      "KF: 5\n",
      "{'accuracy': 0.9948459068728605, 'precision': 0.9824287764810602, 'recall': 0.7715921465104768, 'f1': 0.8641937294296806, 'roc_auc': 0.8856460628666504, 'pr_auc': 0.7628998710019943, 'mcc': 0.8682181418968773}\n",
      "====================\n",
      "K-fold CV for: other_T\n",
      "X train type: <class 'cudf.core.dataframe.DataFrame'>\n",
      "Fitting SVM model...\n",
      "Cross validation...\n",
      "KF: 1\n",
      "KF: 2\n",
      "KF: 3\n",
      "KF: 4\n",
      "KF: 5\n",
      "{'accuracy': 0.989081373566475, 'precision': 0.9052672669212571, 'recall': 0.8263648238600843, 'f1': 0.8639519386317437, 'roc_auc': 0.9112869597191967, 'pr_auc': 0.7553704885236445, 'mcc': 0.8592812667661123}\n"
     ]
    }
   ],
   "source": [
    "# os.chdir('/Users/evanli/Documents/EvanPys/Progress/PBMC_Hao_GSE/L1_by_lossdiff/SVM_classifiers_all')\n",
    "# os.chdir(r\"C:\\Users\\evanlee\\Documents\\GitHub\\EvanPys\\Progress\\PBMC_Hao_GSE\\L1_by_lossdiff\\SVM_classifiers_all\")\n",
    "os.chdir('/ws/GitHub/EvanPys/Progress/PBMC_Hao_GSE/L1_by_lossdiff/SVM_classifiers_rbf_cuda')\n",
    "\n",
    "all_metrics = []\n",
    "for celltype in types:\n",
    "    print('====================')\n",
    "    print('K-fold CV for:', celltype)\n",
    "    clf, metrics_dict = SVM_strat_KFold_cuml(data, features_dict, celltype, k=5)  # metrics is a list\n",
    "    print(metrics_dict)\n",
    "    \n",
    "    # Append metrics to all_metrics\n",
    "    all_metrics.append(metrics_dict)\n",
    "\n",
    "    # output SVM model as pickle\n",
    "    filename = f'SVM_{celltype}_loss_diff_l1.pkl'\n",
    "    with open(filename, 'wb') as f:\n",
    "        pickle.dump(clf, f)\n"
   ]
  },
  {
   "cell_type": "code",
   "execution_count": 9,
   "metadata": {
    "tags": []
   },
   "outputs": [
    {
     "data": {
      "text/html": [
       "<div>\n",
       "<style scoped>\n",
       "    .dataframe tbody tr th:only-of-type {\n",
       "        vertical-align: middle;\n",
       "    }\n",
       "\n",
       "    .dataframe tbody tr th {\n",
       "        vertical-align: top;\n",
       "    }\n",
       "\n",
       "    .dataframe thead th {\n",
       "        text-align: right;\n",
       "    }\n",
       "</style>\n",
       "<table border=\"1\" class=\"dataframe\">\n",
       "  <thead>\n",
       "    <tr style=\"text-align: right;\">\n",
       "      <th></th>\n",
       "      <th>accuracy</th>\n",
       "      <th>precision</th>\n",
       "      <th>recall</th>\n",
       "      <th>f1</th>\n",
       "      <th>roc_auc</th>\n",
       "      <th>pr_auc</th>\n",
       "      <th>mcc</th>\n",
       "    </tr>\n",
       "  </thead>\n",
       "  <tbody>\n",
       "    <tr>\n",
       "      <th>B</th>\n",
       "      <td>0.999451</td>\n",
       "      <td>0.997370</td>\n",
       "      <td>0.996196</td>\n",
       "      <td>0.996782</td>\n",
       "      <td>0.997975</td>\n",
       "      <td>0.993901</td>\n",
       "      <td>0.996483</td>\n",
       "    </tr>\n",
       "    <tr>\n",
       "      <th>CD4_T</th>\n",
       "      <td>0.968766</td>\n",
       "      <td>0.935602</td>\n",
       "      <td>0.941587</td>\n",
       "      <td>0.938583</td>\n",
       "      <td>0.959791</td>\n",
       "      <td>0.895756</td>\n",
       "      <td>0.917652</td>\n",
       "    </tr>\n",
       "    <tr>\n",
       "      <th>CD8_T</th>\n",
       "      <td>0.973526</td>\n",
       "      <td>0.908907</td>\n",
       "      <td>0.924515</td>\n",
       "      <td>0.916643</td>\n",
       "      <td>0.953600</td>\n",
       "      <td>0.852186</td>\n",
       "      <td>0.900956</td>\n",
       "    </tr>\n",
       "    <tr>\n",
       "      <th>DC</th>\n",
       "      <td>0.998370</td>\n",
       "      <td>0.965054</td>\n",
       "      <td>0.961336</td>\n",
       "      <td>0.963187</td>\n",
       "      <td>0.980273</td>\n",
       "      <td>0.928612</td>\n",
       "      <td>0.962357</td>\n",
       "    </tr>\n",
       "    <tr>\n",
       "      <th>Mono</th>\n",
       "      <td>0.992651</td>\n",
       "      <td>0.978799</td>\n",
       "      <td>0.997347</td>\n",
       "      <td>0.987986</td>\n",
       "      <td>0.993979</td>\n",
       "      <td>0.977007</td>\n",
       "      <td>0.982784</td>\n",
       "    </tr>\n",
       "    <tr>\n",
       "      <th>NK</th>\n",
       "      <td>0.992744</td>\n",
       "      <td>0.966345</td>\n",
       "      <td>0.970933</td>\n",
       "      <td>0.968630</td>\n",
       "      <td>0.983261</td>\n",
       "      <td>0.941610</td>\n",
       "      <td>0.964534</td>\n",
       "    </tr>\n",
       "    <tr>\n",
       "      <th>other</th>\n",
       "      <td>0.994846</td>\n",
       "      <td>0.982429</td>\n",
       "      <td>0.771592</td>\n",
       "      <td>0.864194</td>\n",
       "      <td>0.885646</td>\n",
       "      <td>0.762900</td>\n",
       "      <td>0.868218</td>\n",
       "    </tr>\n",
       "    <tr>\n",
       "      <th>other_T</th>\n",
       "      <td>0.989081</td>\n",
       "      <td>0.905267</td>\n",
       "      <td>0.826365</td>\n",
       "      <td>0.863952</td>\n",
       "      <td>0.911287</td>\n",
       "      <td>0.755370</td>\n",
       "      <td>0.859281</td>\n",
       "    </tr>\n",
       "  </tbody>\n",
       "</table>\n",
       "</div>"
      ],
      "text/plain": [
       "         accuracy  precision    recall        f1   roc_auc    pr_auc       mcc\n",
       "B        0.999451   0.997370  0.996196  0.996782  0.997975  0.993901  0.996483\n",
       "CD4_T    0.968766   0.935602  0.941587  0.938583  0.959791  0.895756  0.917652\n",
       "CD8_T    0.973526   0.908907  0.924515  0.916643  0.953600  0.852186  0.900956\n",
       "DC       0.998370   0.965054  0.961336  0.963187  0.980273  0.928612  0.962357\n",
       "Mono     0.992651   0.978799  0.997347  0.987986  0.993979  0.977007  0.982784\n",
       "NK       0.992744   0.966345  0.970933  0.968630  0.983261  0.941610  0.964534\n",
       "other    0.994846   0.982429  0.771592  0.864194  0.885646  0.762900  0.868218\n",
       "other_T  0.989081   0.905267  0.826365  0.863952  0.911287  0.755370  0.859281"
      ]
     },
     "execution_count": 9,
     "metadata": {},
     "output_type": "execute_result"
    }
   ],
   "source": [
    "all_metrics_df = pd.DataFrame(all_metrics)\n",
    "all_metrics_df.index = types\n",
    "all_metrics_df"
   ]
  },
  {
   "cell_type": "code",
   "execution_count": 10,
   "metadata": {
    "tags": []
   },
   "outputs": [
    {
     "name": "stdout",
     "output_type": "stream",
     "text": [
      "/ws/GitHub/EvanPys/Progress/PBMC_Hao_GSE/L1_by_lossdiff/SVM_classifiers_rbf_cuda\n"
     ]
    }
   ],
   "source": [
    "!pwd"
   ]
  },
  {
   "cell_type": "code",
   "execution_count": 11,
   "metadata": {
    "tags": []
   },
   "outputs": [],
   "source": [
    "all_metrics_df.to_csv('SVM_metrics_loss_diff_l1_AD_nostdscale_rbf_cuda.csv')"
   ]
  },
  {
   "cell_type": "code",
   "execution_count": 12,
   "metadata": {
    "tags": []
   },
   "outputs": [
    {
     "data": {
      "text/plain": [
       "Index(['accuracy', 'precision', 'recall', 'f1', 'roc_auc', 'pr_auc', 'mcc'], dtype='object')"
      ]
     },
     "execution_count": 12,
     "metadata": {},
     "output_type": "execute_result"
    }
   ],
   "source": [
    "all_metrics_df.columns"
   ]
  },
  {
   "cell_type": "code",
   "execution_count": 13,
   "metadata": {
    "tags": []
   },
   "outputs": [
    {
     "data": {
      "text/plain": [
       "<matplotlib.legend.Legend at 0x7fd91c296e60>"
      ]
     },
     "execution_count": 13,
     "metadata": {},
     "output_type": "execute_result"
    },
    {
     "data": {
      "image/png": "[encoded data removed]",
      "text/plain": [
       "<Figure size 800x600 with 1 Axes>"
      ]
     },
     "metadata": {},
     "output_type": "display_data"
    }
   ],
   "source": [
    "# Plot metrics for each celltype\n",
    "cols = ['precision', 'f1', 'roc_auc', 'pr_auc', 'mcc']\n",
    "ax = all_metrics_df[cols].plot.bar(rot=0, figsize=(8,6), title='One vs. Rest SVM using ADlasso features (kernel=rbf)')\n",
    "ax.legend(loc='center left', bbox_to_anchor=(1.0, 0.5))\n",
    "# plt.tight_layout()\n",
    "# plt.savefig('fig.png', bbox_inches='tight')"
   ]
  },
  {
   "cell_type": "markdown",
   "metadata": {},
   "source": [
    "## L1 SVM Compare metrics: ADlasso - DEGn"
   ]
  },
  {
   "cell_type": "code",
   "execution_count": 7,
   "metadata": {},
   "outputs": [],
   "source": [
    "# read metrics from ADlasso features\n",
    "ad_svm_metrics = pd.read_csv(r\"C:\\Users\\evanlee\\Documents\\GitHub\\EvanPys\\Progress\\PBMC_Hao_GSE\\L1_by_lossdiff\\SVM_classifiers_rbf_cuda\\SVM_metrics_loss_diff_l1_AD_nostdscale_rbf_cuda.csv\", index_col=0)\n",
    "\n",
    "# read metrics from DEGn\n",
    "deg_svm_metrics = pd.read_csv(r\"C:\\Users\\evanlee\\Documents\\GitHub\\EvanPys\\Progress\\PBMC_Hao_GSE\\L1_by_lossdiff\\L1_DEG\\L1_loss_diff_DEGn_SVM_rbf_metrics.csv\", index_col=0)\n",
    "\n",
    "ad_svm_metrics.columns = deg_svm_metrics.columns"
   ]
  },
  {
   "cell_type": "code",
   "execution_count": 8,
   "metadata": {},
   "outputs": [
    {
     "data": {
      "text/html": [
       "<div>\n",
       "<style scoped>\n",
       "    .dataframe tbody tr th:only-of-type {\n",
       "        vertical-align: middle;\n",
       "    }\n",
       "\n",
       "    .dataframe tbody tr th {\n",
       "        vertical-align: top;\n",
       "    }\n",
       "\n",
       "    .dataframe thead th {\n",
       "        text-align: right;\n",
       "    }\n",
       "</style>\n",
       "<table border=\"1\" class=\"dataframe\">\n",
       "  <thead>\n",
       "    <tr style=\"text-align: right;\">\n",
       "      <th></th>\n",
       "      <th>Accuracy</th>\n",
       "      <th>Precision</th>\n",
       "      <th>Recall</th>\n",
       "      <th>F1-score</th>\n",
       "      <th>ROC-AUC</th>\n",
       "      <th>PR-AUC</th>\n",
       "      <th>MCC</th>\n",
       "    </tr>\n",
       "  </thead>\n",
       "  <tbody>\n",
       "    <tr>\n",
       "      <th>B</th>\n",
       "      <td>0.999451</td>\n",
       "      <td>0.997370</td>\n",
       "      <td>0.996196</td>\n",
       "      <td>0.996782</td>\n",
       "      <td>0.997975</td>\n",
       "      <td>0.993901</td>\n",
       "      <td>0.996483</td>\n",
       "    </tr>\n",
       "    <tr>\n",
       "      <th>CD4_T</th>\n",
       "      <td>0.968766</td>\n",
       "      <td>0.935602</td>\n",
       "      <td>0.941587</td>\n",
       "      <td>0.938583</td>\n",
       "      <td>0.959791</td>\n",
       "      <td>0.895756</td>\n",
       "      <td>0.917652</td>\n",
       "    </tr>\n",
       "    <tr>\n",
       "      <th>CD8_T</th>\n",
       "      <td>0.973526</td>\n",
       "      <td>0.908907</td>\n",
       "      <td>0.924515</td>\n",
       "      <td>0.916643</td>\n",
       "      <td>0.953600</td>\n",
       "      <td>0.852186</td>\n",
       "      <td>0.900956</td>\n",
       "    </tr>\n",
       "    <tr>\n",
       "      <th>DC</th>\n",
       "      <td>0.998370</td>\n",
       "      <td>0.965054</td>\n",
       "      <td>0.961336</td>\n",
       "      <td>0.963187</td>\n",
       "      <td>0.980273</td>\n",
       "      <td>0.928612</td>\n",
       "      <td>0.962357</td>\n",
       "    </tr>\n",
       "    <tr>\n",
       "      <th>Mono</th>\n",
       "      <td>0.992651</td>\n",
       "      <td>0.978799</td>\n",
       "      <td>0.997347</td>\n",
       "      <td>0.987986</td>\n",
       "      <td>0.993979</td>\n",
       "      <td>0.977007</td>\n",
       "      <td>0.982784</td>\n",
       "    </tr>\n",
       "    <tr>\n",
       "      <th>NK</th>\n",
       "      <td>0.992744</td>\n",
       "      <td>0.966345</td>\n",
       "      <td>0.970933</td>\n",
       "      <td>0.968630</td>\n",
       "      <td>0.983261</td>\n",
       "      <td>0.941610</td>\n",
       "      <td>0.964534</td>\n",
       "    </tr>\n",
       "    <tr>\n",
       "      <th>other</th>\n",
       "      <td>0.994846</td>\n",
       "      <td>0.982429</td>\n",
       "      <td>0.771592</td>\n",
       "      <td>0.864194</td>\n",
       "      <td>0.885646</td>\n",
       "      <td>0.762900</td>\n",
       "      <td>0.868218</td>\n",
       "    </tr>\n",
       "    <tr>\n",
       "      <th>other_T</th>\n",
       "      <td>0.989081</td>\n",
       "      <td>0.905267</td>\n",
       "      <td>0.826365</td>\n",
       "      <td>0.863952</td>\n",
       "      <td>0.911287</td>\n",
       "      <td>0.755370</td>\n",
       "      <td>0.859281</td>\n",
       "    </tr>\n",
       "  </tbody>\n",
       "</table>\n",
       "</div>"
      ],
      "text/plain": [
       "         Accuracy  Precision    Recall  F1-score   ROC-AUC    PR-AUC       MCC\n",
       "B        0.999451   0.997370  0.996196  0.996782  0.997975  0.993901  0.996483\n",
       "CD4_T    0.968766   0.935602  0.941587  0.938583  0.959791  0.895756  0.917652\n",
       "CD8_T    0.973526   0.908907  0.924515  0.916643  0.953600  0.852186  0.900956\n",
       "DC       0.998370   0.965054  0.961336  0.963187  0.980273  0.928612  0.962357\n",
       "Mono     0.992651   0.978799  0.997347  0.987986  0.993979  0.977007  0.982784\n",
       "NK       0.992744   0.966345  0.970933  0.968630  0.983261  0.941610  0.964534\n",
       "other    0.994846   0.982429  0.771592  0.864194  0.885646  0.762900  0.868218\n",
       "other_T  0.989081   0.905267  0.826365  0.863952  0.911287  0.755370  0.859281"
      ]
     },
     "execution_count": 8,
     "metadata": {},
     "output_type": "execute_result"
    }
   ],
   "source": [
    "ad_svm_metrics"
   ]
  },
  {
   "cell_type": "code",
   "execution_count": 9,
   "metadata": {},
   "outputs": [
    {
     "data": {
      "text/html": [
       "<div>\n",
       "<style scoped>\n",
       "    .dataframe tbody tr th:only-of-type {\n",
       "        vertical-align: middle;\n",
       "    }\n",
       "\n",
       "    .dataframe tbody tr th {\n",
       "        vertical-align: top;\n",
       "    }\n",
       "\n",
       "    .dataframe thead th {\n",
       "        text-align: right;\n",
       "    }\n",
       "</style>\n",
       "<table border=\"1\" class=\"dataframe\">\n",
       "  <thead>\n",
       "    <tr style=\"text-align: right;\">\n",
       "      <th></th>\n",
       "      <th>Accuracy</th>\n",
       "      <th>Precision</th>\n",
       "      <th>Recall</th>\n",
       "      <th>F1-score</th>\n",
       "      <th>ROC-AUC</th>\n",
       "      <th>PR-AUC</th>\n",
       "      <th>MCC</th>\n",
       "    </tr>\n",
       "  </thead>\n",
       "  <tbody>\n",
       "    <tr>\n",
       "      <th>B</th>\n",
       "      <td>0.999135</td>\n",
       "      <td>0.997089</td>\n",
       "      <td>0.992754</td>\n",
       "      <td>0.994916</td>\n",
       "      <td>0.996242</td>\n",
       "      <td>0.990482</td>\n",
       "      <td>0.994446</td>\n",
       "    </tr>\n",
       "    <tr>\n",
       "      <th>CD4_T</th>\n",
       "      <td>0.942569</td>\n",
       "      <td>0.882417</td>\n",
       "      <td>0.892317</td>\n",
       "      <td>0.887339</td>\n",
       "      <td>0.925974</td>\n",
       "      <td>0.814689</td>\n",
       "      <td>0.848827</td>\n",
       "    </tr>\n",
       "    <tr>\n",
       "      <th>CD8_T</th>\n",
       "      <td>0.969708</td>\n",
       "      <td>0.882626</td>\n",
       "      <td>0.931488</td>\n",
       "      <td>0.906399</td>\n",
       "      <td>0.954169</td>\n",
       "      <td>0.832944</td>\n",
       "      <td>0.888804</td>\n",
       "    </tr>\n",
       "    <tr>\n",
       "      <th>DC</th>\n",
       "      <td>0.997125</td>\n",
       "      <td>0.943262</td>\n",
       "      <td>0.926184</td>\n",
       "      <td>0.934645</td>\n",
       "      <td>0.962460</td>\n",
       "      <td>0.875273</td>\n",
       "      <td>0.933216</td>\n",
       "    </tr>\n",
       "    <tr>\n",
       "      <th>Mono</th>\n",
       "      <td>0.992798</td>\n",
       "      <td>0.978977</td>\n",
       "      <td>0.997654</td>\n",
       "      <td>0.988227</td>\n",
       "      <td>0.994170</td>\n",
       "      <td>0.977391</td>\n",
       "      <td>0.983131</td>\n",
       "    </tr>\n",
       "    <tr>\n",
       "      <th>NK</th>\n",
       "      <td>0.990912</td>\n",
       "      <td>0.957679</td>\n",
       "      <td>0.963836</td>\n",
       "      <td>0.960748</td>\n",
       "      <td>0.979140</td>\n",
       "      <td>0.927218</td>\n",
       "      <td>0.955615</td>\n",
       "    </tr>\n",
       "    <tr>\n",
       "      <th>other</th>\n",
       "      <td>0.993447</td>\n",
       "      <td>0.961240</td>\n",
       "      <td>0.720930</td>\n",
       "      <td>0.823920</td>\n",
       "      <td>0.860149</td>\n",
       "      <td>0.698922</td>\n",
       "      <td>0.829479</td>\n",
       "    </tr>\n",
       "    <tr>\n",
       "      <th>other_T</th>\n",
       "      <td>0.989862</td>\n",
       "      <td>0.920752</td>\n",
       "      <td>0.829897</td>\n",
       "      <td>0.872967</td>\n",
       "      <td>0.913384</td>\n",
       "      <td>0.771269</td>\n",
       "      <td>0.868972</td>\n",
       "    </tr>\n",
       "  </tbody>\n",
       "</table>\n",
       "</div>"
      ],
      "text/plain": [
       "         Accuracy  Precision    Recall  F1-score   ROC-AUC    PR-AUC       MCC\n",
       "B        0.999135   0.997089  0.992754  0.994916  0.996242  0.990482  0.994446\n",
       "CD4_T    0.942569   0.882417  0.892317  0.887339  0.925974  0.814689  0.848827\n",
       "CD8_T    0.969708   0.882626  0.931488  0.906399  0.954169  0.832944  0.888804\n",
       "DC       0.997125   0.943262  0.926184  0.934645  0.962460  0.875273  0.933216\n",
       "Mono     0.992798   0.978977  0.997654  0.988227  0.994170  0.977391  0.983131\n",
       "NK       0.990912   0.957679  0.963836  0.960748  0.979140  0.927218  0.955615\n",
       "other    0.993447   0.961240  0.720930  0.823920  0.860149  0.698922  0.829479\n",
       "other_T  0.989862   0.920752  0.829897  0.872967  0.913384  0.771269  0.868972"
      ]
     },
     "execution_count": 9,
     "metadata": {},
     "output_type": "execute_result"
    }
   ],
   "source": [
    "deg_svm_metrics"
   ]
  },
  {
   "cell_type": "code",
   "execution_count": 10,
   "metadata": {},
   "outputs": [
    {
     "data": {
      "text/html": [
       "<div>\n",
       "<style scoped>\n",
       "    .dataframe tbody tr th:only-of-type {\n",
       "        vertical-align: middle;\n",
       "    }\n",
       "\n",
       "    .dataframe tbody tr th {\n",
       "        vertical-align: top;\n",
       "    }\n",
       "\n",
       "    .dataframe thead th {\n",
       "        text-align: right;\n",
       "    }\n",
       "</style>\n",
       "<table border=\"1\" class=\"dataframe\">\n",
       "  <thead>\n",
       "    <tr style=\"text-align: right;\">\n",
       "      <th></th>\n",
       "      <th>Accuracy</th>\n",
       "      <th>Precision</th>\n",
       "      <th>Recall</th>\n",
       "      <th>F1-score</th>\n",
       "      <th>ROC-AUC</th>\n",
       "      <th>PR-AUC</th>\n",
       "      <th>MCC</th>\n",
       "    </tr>\n",
       "  </thead>\n",
       "  <tbody>\n",
       "    <tr>\n",
       "      <th>B</th>\n",
       "      <td>0.000317</td>\n",
       "      <td>0.000281</td>\n",
       "      <td>0.003442</td>\n",
       "      <td>0.001866</td>\n",
       "      <td>0.001734</td>\n",
       "      <td>0.003419</td>\n",
       "      <td>0.002036</td>\n",
       "    </tr>\n",
       "    <tr>\n",
       "      <th>CD4_T</th>\n",
       "      <td>0.026197</td>\n",
       "      <td>0.053186</td>\n",
       "      <td>0.049270</td>\n",
       "      <td>0.051244</td>\n",
       "      <td>0.033817</td>\n",
       "      <td>0.081067</td>\n",
       "      <td>0.068825</td>\n",
       "    </tr>\n",
       "    <tr>\n",
       "      <th>CD8_T</th>\n",
       "      <td>0.003818</td>\n",
       "      <td>0.026281</td>\n",
       "      <td>-0.006973</td>\n",
       "      <td>0.010244</td>\n",
       "      <td>-0.000569</td>\n",
       "      <td>0.019242</td>\n",
       "      <td>0.012152</td>\n",
       "    </tr>\n",
       "    <tr>\n",
       "      <th>DC</th>\n",
       "      <td>0.001244</td>\n",
       "      <td>0.021792</td>\n",
       "      <td>0.035152</td>\n",
       "      <td>0.028542</td>\n",
       "      <td>0.017813</td>\n",
       "      <td>0.053340</td>\n",
       "      <td>0.029141</td>\n",
       "    </tr>\n",
       "    <tr>\n",
       "      <th>Mono</th>\n",
       "      <td>-0.000147</td>\n",
       "      <td>-0.000178</td>\n",
       "      <td>-0.000306</td>\n",
       "      <td>-0.000241</td>\n",
       "      <td>-0.000192</td>\n",
       "      <td>-0.000384</td>\n",
       "      <td>-0.000347</td>\n",
       "    </tr>\n",
       "    <tr>\n",
       "      <th>NK</th>\n",
       "      <td>0.001832</td>\n",
       "      <td>0.008666</td>\n",
       "      <td>0.007097</td>\n",
       "      <td>0.007883</td>\n",
       "      <td>0.004121</td>\n",
       "      <td>0.014392</td>\n",
       "      <td>0.008918</td>\n",
       "    </tr>\n",
       "    <tr>\n",
       "      <th>other</th>\n",
       "      <td>0.001399</td>\n",
       "      <td>0.021188</td>\n",
       "      <td>0.050662</td>\n",
       "      <td>0.040273</td>\n",
       "      <td>0.025497</td>\n",
       "      <td>0.063978</td>\n",
       "      <td>0.038739</td>\n",
       "    </tr>\n",
       "    <tr>\n",
       "      <th>other_T</th>\n",
       "      <td>-0.000780</td>\n",
       "      <td>-0.015484</td>\n",
       "      <td>-0.003532</td>\n",
       "      <td>-0.009015</td>\n",
       "      <td>-0.002097</td>\n",
       "      <td>-0.015899</td>\n",
       "      <td>-0.009690</td>\n",
       "    </tr>\n",
       "  </tbody>\n",
       "</table>\n",
       "</div>"
      ],
      "text/plain": [
       "         Accuracy  Precision    Recall  F1-score   ROC-AUC    PR-AUC       MCC\n",
       "B        0.000317   0.000281  0.003442  0.001866  0.001734  0.003419  0.002036\n",
       "CD4_T    0.026197   0.053186  0.049270  0.051244  0.033817  0.081067  0.068825\n",
       "CD8_T    0.003818   0.026281 -0.006973  0.010244 -0.000569  0.019242  0.012152\n",
       "DC       0.001244   0.021792  0.035152  0.028542  0.017813  0.053340  0.029141\n",
       "Mono    -0.000147  -0.000178 -0.000306 -0.000241 -0.000192 -0.000384 -0.000347\n",
       "NK       0.001832   0.008666  0.007097  0.007883  0.004121  0.014392  0.008918\n",
       "other    0.001399   0.021188  0.050662  0.040273  0.025497  0.063978  0.038739\n",
       "other_T -0.000780  -0.015484 -0.003532 -0.009015 -0.002097 -0.015899 -0.009690"
      ]
     },
     "execution_count": 10,
     "metadata": {},
     "output_type": "execute_result"
    }
   ],
   "source": [
    "metric_diff = ad_svm_metrics - deg_svm_metrics\n",
    "metric_diff"
   ]
  },
  {
   "cell_type": "code",
   "execution_count": 13,
   "metadata": {},
   "outputs": [
    {
     "data": {
      "text/plain": [
       "<matplotlib.lines.Line2D at 0x24ba28e5640>"
      ]
     },
     "execution_count": 13,
     "metadata": {},
     "output_type": "execute_result"
    },
    {
     "data": {
      "image/png": "[encoded data removed]",
      "text/plain": [
       "<Figure size 800x600 with 1 Axes>"
      ]
     },
     "metadata": {},
     "output_type": "display_data"
    }
   ],
   "source": [
    "cols = ['Precision', 'F1-score', 'ROC-AUC', 'PR-AUC', 'MCC']\n",
    "ax = metric_diff[cols].plot.bar(rot=0, figsize=(8,6), title='SVM metrics: ADlasso features minus DEGn as features (kernel=rbf)')\n",
    "ax.legend(loc='center left', bbox_to_anchor=(1.0, 0.5))\n",
    "\n",
    "# Add red dotted horizontal line at y = 0\n",
    "ax.axhline(y=0, color='red', linestyle='dotted')\n"
   ]
  },
  {
   "cell_type": "code",
   "execution_count": null,
   "metadata": {},
   "outputs": [],
   "source": []
  }
 ],
 "metadata": {
  "kernelspec": {
   "display_name": "Python 3 (ipykernel)",
   "language": "python",
   "name": "python3"
  },
  "language_info": {
   "codemirror_mode": {
    "name": "ipython",
    "version": 3
   },
   "file_extension": ".py",
   "mimetype": "text/x-python",
   "name": "python",
   "nbconvert_exporter": "python",
   "pygments_lexer": "ipython3",
   "version": "3.9.12"
  }
 },
 "nbformat": 4,
 "nbformat_minor": 4
}

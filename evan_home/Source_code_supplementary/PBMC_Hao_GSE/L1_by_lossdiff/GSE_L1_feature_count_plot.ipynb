{
 "cells": [
  {
   "cell_type": "code",
   "execution_count": 4,
   "metadata": {},
   "outputs": [],
   "source": [
    "import scanpy as sc\n",
    "import pandas as pd\n",
    "import numpy as np\n",
    "import matplotlib.pyplot as plt"
   ]
  },
  {
   "cell_type": "code",
   "execution_count": 7,
   "metadata": {},
   "outputs": [
    {
     "name": "stdout",
     "output_type": "stream",
     "text": [
      "Original adata: (32349, 33538)\n",
      "all cell types: ['B', 'CD4_T', 'CD8_T', 'DC', 'Mono', 'NK', 'other', 'other_T']\n",
      "====================\n"
     ]
    }
   ],
   "source": [
    "adata = sc.read_h5ad(r\"C:\\Users\\evanlee\\Documents\\Research_datasets\\GSE164378\\Hao_PBMC_GSE_level1_rep_cells_onlyLog1p.h5ad\")\n",
    "print('Original adata:', adata.shape)\n",
    "label = adata.obs['celltype.l1'].tolist()\n",
    "types = np.unique(label).tolist()\n",
    "print('all cell types:', types)\n",
    "print('====================')\n",
    "# del adata\n"
   ]
  },
  {
   "cell_type": "code",
   "execution_count": 8,
   "metadata": {},
   "outputs": [
    {
     "data": {
      "text/html": [
       "<div>\n",
       "<style scoped>\n",
       "    .dataframe tbody tr th:only-of-type {\n",
       "        vertical-align: middle;\n",
       "    }\n",
       "\n",
       "    .dataframe tbody tr th {\n",
       "        vertical-align: top;\n",
       "    }\n",
       "\n",
       "    .dataframe thead th {\n",
       "        text-align: right;\n",
       "    }\n",
       "</style>\n",
       "<table border=\"1\" class=\"dataframe\">\n",
       "  <thead>\n",
       "    <tr style=\"text-align: right;\">\n",
       "      <th></th>\n",
       "      <th>celltype.l1</th>\n",
       "      <th>celltype.l2</th>\n",
       "      <th>celltype.l3</th>\n",
       "      <th>Phase</th>\n",
       "      <th>Batch</th>\n",
       "      <th>donor</th>\n",
       "      <th>nCount_ADT</th>\n",
       "      <th>nFeature_ADT</th>\n",
       "      <th>nCount_RNA</th>\n",
       "      <th>nFeature_RNA</th>\n",
       "      <th>leiden</th>\n",
       "      <th>is_representative</th>\n",
       "      <th>cluster_representative</th>\n",
       "    </tr>\n",
       "  </thead>\n",
       "  <tbody>\n",
       "    <tr>\n",
       "      <th>L1_AAACCCACATCAGTCA</th>\n",
       "      <td>CD8_T</td>\n",
       "      <td>CD8_TEM</td>\n",
       "      <td>CD8 TEM_1</td>\n",
       "      <td>G1</td>\n",
       "      <td>Batch1</td>\n",
       "      <td>P3</td>\n",
       "      <td>5297</td>\n",
       "      <td>212</td>\n",
       "      <td>4332</td>\n",
       "      <td>1633</td>\n",
       "      <td>12</td>\n",
       "      <td>Yes</td>\n",
       "      <td>Yes_CD8 T</td>\n",
       "    </tr>\n",
       "    <tr>\n",
       "      <th>L1_AAACGAACAATGAGCG</th>\n",
       "      <td>CD4_T</td>\n",
       "      <td>CD4_TCM</td>\n",
       "      <td>CD4 TCM_2</td>\n",
       "      <td>G1</td>\n",
       "      <td>Batch1</td>\n",
       "      <td>P1</td>\n",
       "      <td>5465</td>\n",
       "      <td>211</td>\n",
       "      <td>7379</td>\n",
       "      <td>2315</td>\n",
       "      <td>27</td>\n",
       "      <td>Yes</td>\n",
       "      <td>Yes_CD4 T</td>\n",
       "    </tr>\n",
       "    <tr>\n",
       "      <th>L1_AAACGAACAGCTACTA</th>\n",
       "      <td>NK</td>\n",
       "      <td>NK</td>\n",
       "      <td>NK_2</td>\n",
       "      <td>G1</td>\n",
       "      <td>Batch1</td>\n",
       "      <td>P4</td>\n",
       "      <td>3161</td>\n",
       "      <td>211</td>\n",
       "      <td>1538</td>\n",
       "      <td>822</td>\n",
       "      <td>21</td>\n",
       "      <td>Yes</td>\n",
       "      <td>Yes_NK</td>\n",
       "    </tr>\n",
       "    <tr>\n",
       "      <th>L1_AAACGCTAGGTCGTCC</th>\n",
       "      <td>CD8_T</td>\n",
       "      <td>CD8_TEM</td>\n",
       "      <td>CD8 TEM_2</td>\n",
       "      <td>S</td>\n",
       "      <td>Batch1</td>\n",
       "      <td>P1</td>\n",
       "      <td>7332</td>\n",
       "      <td>208</td>\n",
       "      <td>5120</td>\n",
       "      <td>1688</td>\n",
       "      <td>12</td>\n",
       "      <td>Yes</td>\n",
       "      <td>Yes_CD8 T</td>\n",
       "    </tr>\n",
       "    <tr>\n",
       "      <th>L1_AAACGCTCAACGATCT</th>\n",
       "      <td>CD8_T</td>\n",
       "      <td>CD8_TCM</td>\n",
       "      <td>CD8 TCM_1</td>\n",
       "      <td>S</td>\n",
       "      <td>Batch1</td>\n",
       "      <td>P3</td>\n",
       "      <td>4665</td>\n",
       "      <td>205</td>\n",
       "      <td>4593</td>\n",
       "      <td>1435</td>\n",
       "      <td>0</td>\n",
       "      <td>Yes</td>\n",
       "      <td>Yes_CD8 T</td>\n",
       "    </tr>\n",
       "  </tbody>\n",
       "</table>\n",
       "</div>"
      ],
      "text/plain": [
       "                    celltype.l1 celltype.l2 celltype.l3 Phase   Batch donor  \\\n",
       "L1_AAACCCACATCAGTCA       CD8_T     CD8_TEM   CD8 TEM_1    G1  Batch1    P3   \n",
       "L1_AAACGAACAATGAGCG       CD4_T     CD4_TCM   CD4 TCM_2    G1  Batch1    P1   \n",
       "L1_AAACGAACAGCTACTA          NK          NK        NK_2    G1  Batch1    P4   \n",
       "L1_AAACGCTAGGTCGTCC       CD8_T     CD8_TEM   CD8 TEM_2     S  Batch1    P1   \n",
       "L1_AAACGCTCAACGATCT       CD8_T     CD8_TCM   CD8 TCM_1     S  Batch1    P3   \n",
       "\n",
       "                     nCount_ADT  nFeature_ADT  nCount_RNA  nFeature_RNA  \\\n",
       "L1_AAACCCACATCAGTCA        5297           212        4332          1633   \n",
       "L1_AAACGAACAATGAGCG        5465           211        7379          2315   \n",
       "L1_AAACGAACAGCTACTA        3161           211        1538           822   \n",
       "L1_AAACGCTAGGTCGTCC        7332           208        5120          1688   \n",
       "L1_AAACGCTCAACGATCT        4665           205        4593          1435   \n",
       "\n",
       "                    leiden is_representative cluster_representative  \n",
       "L1_AAACCCACATCAGTCA     12               Yes              Yes_CD8 T  \n",
       "L1_AAACGAACAATGAGCG     27               Yes              Yes_CD4 T  \n",
       "L1_AAACGAACAGCTACTA     21               Yes                 Yes_NK  \n",
       "L1_AAACGCTAGGTCGTCC     12               Yes              Yes_CD8 T  \n",
       "L1_AAACGCTCAACGATCT      0               Yes              Yes_CD8 T  "
      ]
     },
     "execution_count": 8,
     "metadata": {},
     "output_type": "execute_result"
    }
   ],
   "source": [
    "adata.obs.head()"
   ]
  },
  {
   "cell_type": "code",
   "execution_count": 9,
   "metadata": {},
   "outputs": [
    {
     "data": {
      "text/plain": [
       "Index(['MIR1302-2HG', 'FAM138A', 'OR4F5', 'AL627309.1', 'AL627309.3',\n",
       "       'AL627309.2', 'AL627309.4', 'AL732372.1', 'OR4F29', 'AC114498.1',\n",
       "       ...\n",
       "       'AC007325.2', 'BX072566.1', 'AL354822.1', 'AC023491.2', 'AC004556.1',\n",
       "       'AC233755.2', 'AC233755.1', 'AC240274.1', 'AC213203.1', 'FAM231C'],\n",
       "      dtype='object', length=33538)"
      ]
     },
     "execution_count": 9,
     "metadata": {},
     "output_type": "execute_result"
    }
   ],
   "source": [
    "adata.var_names"
   ]
  },
  {
   "cell_type": "markdown",
   "metadata": {},
   "source": [
    "## Read features"
   ]
  },
  {
   "cell_type": "code",
   "execution_count": 3,
   "metadata": {},
   "outputs": [],
   "source": [
    "import os\n",
    "os.chdir(r\"C:\\Users\\evanlee\\Documents\\GitHub\\EvanPys\\Progress\\PBMC_Hao_GSE\\L1_by_lossdiff\\feature_selection\")\n",
    "\n",
    "features_dict = {}\n",
    "# Read features for each celltype\n",
    "for celltype in types:\n",
    "    try:\n",
    "        feature_df = pd.read_csv(f'{celltype}_features.txt', names=['Gene', 'Weight', 'Tendency'], sep='\\t')\n",
    "        features_dict[celltype] = feature_df\n",
    "    except:\n",
    "        print('skipping:', celltype)\n",
    "        continue\n",
    "    # print(celltype, 'Feature count:', feature_df.shape[0])\n",
    "    # print(celltype, 'Positive feature count:', feature_df[feature_df['Tendency'] == 1].shape[0])\n",
    "    # print('------------------')"
   ]
  },
  {
   "cell_type": "code",
   "execution_count": 4,
   "metadata": {},
   "outputs": [
    {
     "data": {
      "text/html": [
       "<div>\n",
       "<style scoped>\n",
       "    .dataframe tbody tr th:only-of-type {\n",
       "        vertical-align: middle;\n",
       "    }\n",
       "\n",
       "    .dataframe tbody tr th {\n",
       "        vertical-align: top;\n",
       "    }\n",
       "\n",
       "    .dataframe thead th {\n",
       "        text-align: right;\n",
       "    }\n",
       "</style>\n",
       "<table border=\"1\" class=\"dataframe\">\n",
       "  <thead>\n",
       "    <tr style=\"text-align: right;\">\n",
       "      <th></th>\n",
       "      <th>Feature_count</th>\n",
       "      <th>Positive_feature_count</th>\n",
       "    </tr>\n",
       "  </thead>\n",
       "  <tbody>\n",
       "    <tr>\n",
       "      <th>B</th>\n",
       "      <td>13</td>\n",
       "      <td>7</td>\n",
       "    </tr>\n",
       "    <tr>\n",
       "      <th>CD4_T</th>\n",
       "      <td>200</td>\n",
       "      <td>83</td>\n",
       "    </tr>\n",
       "    <tr>\n",
       "      <th>CD8_T</th>\n",
       "      <td>25</td>\n",
       "      <td>6</td>\n",
       "    </tr>\n",
       "    <tr>\n",
       "      <th>DC</th>\n",
       "      <td>25</td>\n",
       "      <td>15</td>\n",
       "    </tr>\n",
       "    <tr>\n",
       "      <th>Mono</th>\n",
       "      <td>21</td>\n",
       "      <td>11</td>\n",
       "    </tr>\n",
       "    <tr>\n",
       "      <th>NK</th>\n",
       "      <td>28</td>\n",
       "      <td>14</td>\n",
       "    </tr>\n",
       "    <tr>\n",
       "      <th>other</th>\n",
       "      <td>42</td>\n",
       "      <td>27</td>\n",
       "    </tr>\n",
       "    <tr>\n",
       "      <th>other_T</th>\n",
       "      <td>61</td>\n",
       "      <td>26</td>\n",
       "    </tr>\n",
       "  </tbody>\n",
       "</table>\n",
       "</div>"
      ],
      "text/plain": [
       "         Feature_count  Positive_feature_count\n",
       "B                   13                       7\n",
       "CD4_T              200                      83\n",
       "CD8_T               25                       6\n",
       "DC                  25                      15\n",
       "Mono                21                      11\n",
       "NK                  28                      14\n",
       "other               42                      27\n",
       "other_T             61                      26"
      ]
     },
     "execution_count": 4,
     "metadata": {},
     "output_type": "execute_result"
    }
   ],
   "source": [
    "count_df = pd.DataFrame(columns=['Feature_count', 'Positive_feature_count'])\n",
    "for celltype in features_dict.keys():\n",
    "    feature_df = features_dict[celltype]\n",
    "    feature_count = feature_df.shape[0]\n",
    "    positive_count = feature_df[feature_df['Tendency'] == 1].shape[0]\n",
    "    count_df.loc[celltype] = [feature_count, positive_count]\n",
    "count_df"
   ]
  },
  {
   "cell_type": "code",
   "execution_count": 5,
   "metadata": {},
   "outputs": [
    {
     "data": {
      "image/png": "[encoded data removed]",
      "text/plain": [
       "<Figure size 800x600 with 1 Axes>"
      ]
     },
     "metadata": {},
     "output_type": "display_data"
    }
   ],
   "source": [
    "# Sort count_df by 'Feature_count' in descending order\n",
    "count_df = count_df.sort_values('Feature_count', ascending=False)\n",
    "\n",
    "# plot barplot\n",
    "fig, ax = plt.subplots(figsize=(8, 6))\n",
    "x = np.arange(len(count_df.index))\n",
    "bar_width = 0.4\n",
    "\n",
    "ax.bar(x - bar_width/2, count_df['Feature_count'], bar_width, label='Feature count')\n",
    "ax.bar(x + bar_width/2, count_df['Positive_feature_count'], bar_width, label='Positive feature count')\n",
    "\n",
    "# Add the values to each bar\n",
    "for i, v in enumerate(count_df['Feature_count']):\n",
    "    plt.text(i-0.3, v, str(v), fontsize=8)\n",
    "for i, v in enumerate(count_df['Positive_feature_count']):\n",
    "    plt.text(i+0.1, v, str(v), fontsize=8)\n",
    "\n",
    "ax.set_xticks(x)\n",
    "ax.set_xticklabels(count_df.index)\n",
    "plt.xticks(rotation=90)\n",
    "plt.title('Level1 feature count for each celltype')\n",
    "ax.legend()\n",
    "# plt.savefig('L2_feature_count.png', dpi=300, bbox_inches='tight')\n",
    "plt.show()"
   ]
  },
  {
   "cell_type": "markdown",
   "metadata": {},
   "source": [
    "## Plot cell number"
   ]
  },
  {
   "cell_type": "code",
   "execution_count": 6,
   "metadata": {},
   "outputs": [],
   "source": [
    "adata = sc.read_h5ad(r\"C:\\Users\\evanlee\\Documents\\Research_datasets\\GSE164378\\Hao_PBMC_GSE164378.h5ad\")\n",
    "adata.obs['celltype.l1'] = adata.obs['celltype.l1'].str.replace(' ', '_')"
   ]
  },
  {
   "cell_type": "code",
   "execution_count": 7,
   "metadata": {},
   "outputs": [
    {
     "data": {
      "text/plain": [
       "celltype.l1\n",
       "CD4_T      41001\n",
       "other_T     6789\n",
       "other       3442\n",
       "NK         18664\n",
       "CD8_T      25469\n",
       "DC          3589\n",
       "Mono       49010\n",
       "B          13800\n",
       "Name: count, dtype: int64"
      ]
     },
     "execution_count": 7,
     "metadata": {},
     "output_type": "execute_result"
    }
   ],
   "source": [
    "counts = adata.obs['celltype.l1'].value_counts()\n",
    "order = count_df.index.tolist()\n",
    "counts = counts[order]\n",
    "counts"
   ]
  },
  {
   "cell_type": "code",
   "execution_count": 8,
   "metadata": {},
   "outputs": [
    {
     "data": {
      "text/plain": [
       "161764"
      ]
     },
     "execution_count": 8,
     "metadata": {},
     "output_type": "execute_result"
    }
   ],
   "source": [
    "sum(counts)"
   ]
  },
  {
   "cell_type": "code",
   "execution_count": 9,
   "metadata": {},
   "outputs": [
    {
     "data": {
      "image/png": "[encoded data removed]",
      "text/plain": [
       "<Figure size 640x480 with 1 Axes>"
      ]
     },
     "metadata": {},
     "output_type": "display_data"
    }
   ],
   "source": [
    "counts.plot(kind='bar')\n",
    "plt.title('Level_1 cell type counts')\n",
    "plt.ylabel('Counts')\n",
    "plt.show()"
   ]
  },
  {
   "cell_type": "code",
   "execution_count": null,
   "metadata": {},
   "outputs": [],
   "source": []
  }
 ],
 "metadata": {
  "kernelspec": {
   "display_name": "Python 3",
   "language": "python",
   "name": "python3"
  },
  "language_info": {
   "codemirror_mode": {
    "name": "ipython",
    "version": 3
   },
   "file_extension": ".py",
   "mimetype": "text/x-python",
   "name": "python",
   "nbconvert_exporter": "python",
   "pygments_lexer": "ipython3",
   "version": "3.9.12"
  }
 },
 "nbformat": 4,
 "nbformat_minor": 2
}

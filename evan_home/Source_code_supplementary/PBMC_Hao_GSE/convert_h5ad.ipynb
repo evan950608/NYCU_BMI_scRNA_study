{
 "cells": [
  {
   "cell_type": "code",
   "execution_count": 1,
   "id": "89371395",
   "metadata": {},
   "outputs": [],
   "source": [
    "import logging\n",
    "import anndata\n",
    "import scanpy as sc\n",
    "import os\n",
    "import csv\n",
    "import gzip"
   ]
  },
  {
   "cell_type": "code",
   "execution_count": 9,
   "id": "e106e94a",
   "metadata": {},
   "outputs": [],
   "source": [
    "dataset_dir = \"C:\\Research_datasets\\GSE164378_Hao\\GSE164378_RAW\\GSM5008737_RNA_3P\"\n",
    "data_file = \"GSM5008737_RNA_3P-matrix.mtx\"\n",
    "var_names_file = \"GSM5008737_RNA_3P-features.tsv\"\n",
    "obs_names_file = \"GSM5008737_RNA_3P-barcodes.tsv\"\n",
    "output_h5ad_file = \"Hao_PBMC_GSE164378.h5ad\"\n",
    "\n",
    "data_path = os.path.join(dataset_dir,data_file)\n",
    "var_names_path = os.path.join(dataset_dir,var_names_file)\n",
    "obs_names_path = os.path.join(dataset_dir,obs_names_file)\n",
    "output_h5ad_path = os.path.join(dataset_dir,output_h5ad_file)"
   ]
  },
  {
   "cell_type": "code",
   "execution_count": 10,
   "id": "eeba932e",
   "metadata": {},
   "outputs": [],
   "source": [
    "with open(var_names_path, \"r\") as var_file:\n",
    "    var_read = csv.reader(var_file, delimiter='\\t')\n",
    "    var_names = []\n",
    "    for row in var_read:\n",
    "        var_names.append(row[1])"
   ]
  },
  {
   "cell_type": "code",
   "execution_count": 11,
   "id": "d6b9bbd9",
   "metadata": {},
   "outputs": [],
   "source": [
    "with open(obs_names_path, \"r\") as obs_file:\n",
    "    obs_read = csv.reader(obs_file, delimiter='\\t')\n",
    "    obs_names = []\n",
    "    for row in obs_read:\n",
    "        obs_names.append(row[0])"
   ]
  },
  {
   "cell_type": "code",
   "execution_count": 12,
   "id": "833e7b47",
   "metadata": {},
   "outputs": [],
   "source": [
    "andata = sc.read(data_path) \n",
    "andata = andata.transpose()"
   ]
  },
  {
   "cell_type": "code",
   "execution_count": 14,
   "id": "033d7217",
   "metadata": {},
   "outputs": [],
   "source": [
    "andata.var_names = var_names\n",
    "andata.var_names_make_unique()\n",
    "andata.obs_names = obs_names\n",
    "andata.obs_names_make_unique()"
   ]
  },
  {
   "cell_type": "code",
   "execution_count": 17,
   "metadata": {},
   "outputs": [
    {
     "data": {
      "text/plain": [
       "(161764, 33538)"
      ]
     },
     "execution_count": 17,
     "metadata": {},
     "output_type": "execute_result"
    }
   ],
   "source": [
    "andata.shape"
   ]
  },
  {
   "cell_type": "code",
   "execution_count": 35,
   "id": "b5fbeb11",
   "metadata": {},
   "outputs": [],
   "source": [
    "import pandas as pd\n",
    "# meta = pd.read_csv(\"/home/yincheng23/Hao_PBMC/GSE164378_sc.meta.data_3P.csv\", index_col=0)\n",
    "meta = pd.read_csv(\"C:\\Research_datasets\\GSE164378_Hao\\GSE164378_sc.meta.data_3P.csv\", index_col=0)\n",
    "andata.obs['celltype.l1'] = meta['celltype.l1'].tolist()\n",
    "andata.obs['celltype.l2'] = meta['celltype.l2'].tolist()\n",
    "andata.obs['celltype.l3'] = meta['celltype.l3'].tolist()\n",
    "andata.obs['Phase'] = meta['Phase'].tolist()\n",
    "andata.obs['Batch'] = meta['Batch'].tolist()\n",
    "andata.obs['donor'] = meta['donor'].tolist()\n",
    "andata.obs['nCount_ADT'] = meta['nCount_ADT'].tolist()\n",
    "andata.obs['nFeature_ADT'] = meta['nFeature_ADT'].tolist()\n",
    "andata.obs['nCount_RNA'] = meta['nCount_RNA'].tolist()\n",
    "andata.obs['nFeature_RNA'] = meta['nFeature_RNA'].tolist()"
   ]
  },
  {
   "cell_type": "code",
   "execution_count": 36,
   "metadata": {},
   "outputs": [
    {
     "data": {
      "text/html": [
       "<div>\n",
       "<style scoped>\n",
       "    .dataframe tbody tr th:only-of-type {\n",
       "        vertical-align: middle;\n",
       "    }\n",
       "\n",
       "    .dataframe tbody tr th {\n",
       "        vertical-align: top;\n",
       "    }\n",
       "\n",
       "    .dataframe thead th {\n",
       "        text-align: right;\n",
       "    }\n",
       "</style>\n",
       "<table border=\"1\" class=\"dataframe\">\n",
       "  <thead>\n",
       "    <tr style=\"text-align: right;\">\n",
       "      <th></th>\n",
       "      <th>Unnamed: 0</th>\n",
       "      <th>nCount_ADT</th>\n",
       "      <th>nFeature_ADT</th>\n",
       "      <th>nCount_RNA</th>\n",
       "      <th>nFeature_RNA</th>\n",
       "      <th>orig.ident</th>\n",
       "      <th>lane</th>\n",
       "      <th>donor</th>\n",
       "      <th>time</th>\n",
       "      <th>celltype.l1</th>\n",
       "      <th>celltype.l2</th>\n",
       "      <th>celltype.l3</th>\n",
       "      <th>Phase</th>\n",
       "      <th>Batch</th>\n",
       "    </tr>\n",
       "  </thead>\n",
       "  <tbody>\n",
       "    <tr>\n",
       "      <th>0</th>\n",
       "      <td>L1_AAACCCAAGAAACTCA</td>\n",
       "      <td>7535</td>\n",
       "      <td>217</td>\n",
       "      <td>10823</td>\n",
       "      <td>2915</td>\n",
       "      <td>SeuratProject</td>\n",
       "      <td>L1</td>\n",
       "      <td>P2</td>\n",
       "      <td>7</td>\n",
       "      <td>Mono</td>\n",
       "      <td>CD14 Mono</td>\n",
       "      <td>CD14 Mono</td>\n",
       "      <td>G1</td>\n",
       "      <td>Batch1</td>\n",
       "    </tr>\n",
       "    <tr>\n",
       "      <th>1</th>\n",
       "      <td>L1_AAACCCAAGACATACA</td>\n",
       "      <td>6013</td>\n",
       "      <td>209</td>\n",
       "      <td>5864</td>\n",
       "      <td>1617</td>\n",
       "      <td>SeuratProject</td>\n",
       "      <td>L1</td>\n",
       "      <td>P1</td>\n",
       "      <td>7</td>\n",
       "      <td>CD4 T</td>\n",
       "      <td>CD4 TCM</td>\n",
       "      <td>CD4 TCM_1</td>\n",
       "      <td>G1</td>\n",
       "      <td>Batch1</td>\n",
       "    </tr>\n",
       "    <tr>\n",
       "      <th>2</th>\n",
       "      <td>L1_AAACCCACAACTGGTT</td>\n",
       "      <td>6620</td>\n",
       "      <td>213</td>\n",
       "      <td>5067</td>\n",
       "      <td>1381</td>\n",
       "      <td>SeuratProject</td>\n",
       "      <td>L1</td>\n",
       "      <td>P4</td>\n",
       "      <td>2</td>\n",
       "      <td>CD8 T</td>\n",
       "      <td>CD8 Naive</td>\n",
       "      <td>CD8 Naive</td>\n",
       "      <td>S</td>\n",
       "      <td>Batch1</td>\n",
       "    </tr>\n",
       "    <tr>\n",
       "      <th>3</th>\n",
       "      <td>L1_AAACCCACACGTACTA</td>\n",
       "      <td>3567</td>\n",
       "      <td>202</td>\n",
       "      <td>4786</td>\n",
       "      <td>1890</td>\n",
       "      <td>SeuratProject</td>\n",
       "      <td>L1</td>\n",
       "      <td>P3</td>\n",
       "      <td>7</td>\n",
       "      <td>NK</td>\n",
       "      <td>NK</td>\n",
       "      <td>NK_2</td>\n",
       "      <td>G1</td>\n",
       "      <td>Batch1</td>\n",
       "    </tr>\n",
       "    <tr>\n",
       "      <th>4</th>\n",
       "      <td>L1_AAACCCACAGCATACT</td>\n",
       "      <td>6402</td>\n",
       "      <td>215</td>\n",
       "      <td>6505</td>\n",
       "      <td>1621</td>\n",
       "      <td>SeuratProject</td>\n",
       "      <td>L1</td>\n",
       "      <td>P4</td>\n",
       "      <td>7</td>\n",
       "      <td>CD8 T</td>\n",
       "      <td>CD8 Naive</td>\n",
       "      <td>CD8 Naive</td>\n",
       "      <td>G1</td>\n",
       "      <td>Batch1</td>\n",
       "    </tr>\n",
       "  </tbody>\n",
       "</table>\n",
       "</div>"
      ],
      "text/plain": [
       "            Unnamed: 0  nCount_ADT  nFeature_ADT  nCount_RNA  nFeature_RNA  \\\n",
       "0  L1_AAACCCAAGAAACTCA        7535           217       10823          2915   \n",
       "1  L1_AAACCCAAGACATACA        6013           209        5864          1617   \n",
       "2  L1_AAACCCACAACTGGTT        6620           213        5067          1381   \n",
       "3  L1_AAACCCACACGTACTA        3567           202        4786          1890   \n",
       "4  L1_AAACCCACAGCATACT        6402           215        6505          1621   \n",
       "\n",
       "      orig.ident lane donor  time celltype.l1 celltype.l2 celltype.l3 Phase  \\\n",
       "0  SeuratProject   L1    P2     7        Mono   CD14 Mono   CD14 Mono    G1   \n",
       "1  SeuratProject   L1    P1     7       CD4 T     CD4 TCM   CD4 TCM_1    G1   \n",
       "2  SeuratProject   L1    P4     2       CD8 T   CD8 Naive   CD8 Naive     S   \n",
       "3  SeuratProject   L1    P3     7          NK          NK        NK_2    G1   \n",
       "4  SeuratProject   L1    P4     7       CD8 T   CD8 Naive   CD8 Naive    G1   \n",
       "\n",
       "    Batch  \n",
       "0  Batch1  \n",
       "1  Batch1  \n",
       "2  Batch1  \n",
       "3  Batch1  \n",
       "4  Batch1  "
      ]
     },
     "execution_count": 36,
     "metadata": {},
     "output_type": "execute_result"
    }
   ],
   "source": [
    "meta.head()"
   ]
  },
  {
   "cell_type": "code",
   "execution_count": 37,
   "metadata": {},
   "outputs": [
    {
     "data": {
      "text/html": [
       "<div>\n",
       "<style scoped>\n",
       "    .dataframe tbody tr th:only-of-type {\n",
       "        vertical-align: middle;\n",
       "    }\n",
       "\n",
       "    .dataframe tbody tr th {\n",
       "        vertical-align: top;\n",
       "    }\n",
       "\n",
       "    .dataframe thead th {\n",
       "        text-align: right;\n",
       "    }\n",
       "</style>\n",
       "<table border=\"1\" class=\"dataframe\">\n",
       "  <thead>\n",
       "    <tr style=\"text-align: right;\">\n",
       "      <th></th>\n",
       "      <th>celltype.l1</th>\n",
       "      <th>celltype.l2</th>\n",
       "      <th>celltype.l3</th>\n",
       "      <th>Phase</th>\n",
       "      <th>Batch</th>\n",
       "      <th>donor</th>\n",
       "      <th>nCount_ADT</th>\n",
       "      <th>nFeature_ADT</th>\n",
       "      <th>nCount_RNA</th>\n",
       "      <th>nFeature_RNA</th>\n",
       "    </tr>\n",
       "  </thead>\n",
       "  <tbody>\n",
       "    <tr>\n",
       "      <th>L1_AAACCCAAGAAACTCA</th>\n",
       "      <td>Mono</td>\n",
       "      <td>CD14 Mono</td>\n",
       "      <td>CD14 Mono</td>\n",
       "      <td>G1</td>\n",
       "      <td>Batch1</td>\n",
       "      <td>P2</td>\n",
       "      <td>7535</td>\n",
       "      <td>217</td>\n",
       "      <td>10823</td>\n",
       "      <td>2915</td>\n",
       "    </tr>\n",
       "    <tr>\n",
       "      <th>L1_AAACCCAAGACATACA</th>\n",
       "      <td>CD4 T</td>\n",
       "      <td>CD4 TCM</td>\n",
       "      <td>CD4 TCM_1</td>\n",
       "      <td>G1</td>\n",
       "      <td>Batch1</td>\n",
       "      <td>P1</td>\n",
       "      <td>6013</td>\n",
       "      <td>209</td>\n",
       "      <td>5864</td>\n",
       "      <td>1617</td>\n",
       "    </tr>\n",
       "    <tr>\n",
       "      <th>L1_AAACCCACAACTGGTT</th>\n",
       "      <td>CD8 T</td>\n",
       "      <td>CD8 Naive</td>\n",
       "      <td>CD8 Naive</td>\n",
       "      <td>S</td>\n",
       "      <td>Batch1</td>\n",
       "      <td>P4</td>\n",
       "      <td>6620</td>\n",
       "      <td>213</td>\n",
       "      <td>5067</td>\n",
       "      <td>1381</td>\n",
       "    </tr>\n",
       "    <tr>\n",
       "      <th>L1_AAACCCACACGTACTA</th>\n",
       "      <td>NK</td>\n",
       "      <td>NK</td>\n",
       "      <td>NK_2</td>\n",
       "      <td>G1</td>\n",
       "      <td>Batch1</td>\n",
       "      <td>P3</td>\n",
       "      <td>3567</td>\n",
       "      <td>202</td>\n",
       "      <td>4786</td>\n",
       "      <td>1890</td>\n",
       "    </tr>\n",
       "    <tr>\n",
       "      <th>L1_AAACCCACAGCATACT</th>\n",
       "      <td>CD8 T</td>\n",
       "      <td>CD8 Naive</td>\n",
       "      <td>CD8 Naive</td>\n",
       "      <td>G1</td>\n",
       "      <td>Batch1</td>\n",
       "      <td>P4</td>\n",
       "      <td>6402</td>\n",
       "      <td>215</td>\n",
       "      <td>6505</td>\n",
       "      <td>1621</td>\n",
       "    </tr>\n",
       "  </tbody>\n",
       "</table>\n",
       "</div>"
      ],
      "text/plain": [
       "                    celltype.l1 celltype.l2 celltype.l3 Phase   Batch donor  \\\n",
       "L1_AAACCCAAGAAACTCA        Mono   CD14 Mono   CD14 Mono    G1  Batch1    P2   \n",
       "L1_AAACCCAAGACATACA       CD4 T     CD4 TCM   CD4 TCM_1    G1  Batch1    P1   \n",
       "L1_AAACCCACAACTGGTT       CD8 T   CD8 Naive   CD8 Naive     S  Batch1    P4   \n",
       "L1_AAACCCACACGTACTA          NK          NK        NK_2    G1  Batch1    P3   \n",
       "L1_AAACCCACAGCATACT       CD8 T   CD8 Naive   CD8 Naive    G1  Batch1    P4   \n",
       "\n",
       "                     nCount_ADT  nFeature_ADT  nCount_RNA  nFeature_RNA  \n",
       "L1_AAACCCAAGAAACTCA        7535           217       10823          2915  \n",
       "L1_AAACCCAAGACATACA        6013           209        5864          1617  \n",
       "L1_AAACCCACAACTGGTT        6620           213        5067          1381  \n",
       "L1_AAACCCACACGTACTA        3567           202        4786          1890  \n",
       "L1_AAACCCACAGCATACT        6402           215        6505          1621  "
      ]
     },
     "execution_count": 37,
     "metadata": {},
     "output_type": "execute_result"
    }
   ],
   "source": [
    "andata.obs.head()"
   ]
  },
  {
   "cell_type": "code",
   "execution_count": 39,
   "metadata": {},
   "outputs": [
    {
     "name": "stdout",
     "output_type": "stream",
     "text": [
      "Row 0, Column 12, Value 1.0\n",
      "Row 0, Column 43, Value 2.0\n",
      "Row 0, Column 48, Value 2.0\n",
      "Row 0, Column 53, Value 2.0\n",
      "Row 0, Column 55, Value 5.0\n",
      "Row 0, Column 66, Value 1.0\n",
      "Row 0, Column 77, Value 2.0\n",
      "Row 0, Column 78, Value 5.0\n",
      "Row 0, Column 89, Value 2.0\n",
      "Row 0, Column 93, Value 3.0\n",
      "Row 0, Column 102, Value 2.0\n",
      "Row 0, Column 154, Value 17.0\n",
      "Row 0, Column 178, Value 2.0\n",
      "Row 0, Column 185, Value 1.0\n",
      "Row 0, Column 190, Value 1.0\n",
      "Row 0, Column 201, Value 8.0\n",
      "Row 0, Column 224, Value 2.0\n",
      "Row 0, Column 240, Value 1.0\n",
      "Row 0, Column 259, Value 1.0\n",
      "Row 0, Column 261, Value 6.0\n"
     ]
    }
   ],
   "source": [
    "# Briefly view adata.X\n",
    "rows, cols = andata.X[:5,:].nonzero()\n",
    "i = 0\n",
    "for row, col in zip(rows, cols):\n",
    "    if i == 20: break\n",
    "    print(f'Row {row}, Column {col}, Value {andata.X[row, col]}')\n",
    "    i += 1\n"
   ]
  },
  {
   "cell_type": "code",
   "execution_count": 41,
   "id": "9e2cd9b2",
   "metadata": {},
   "outputs": [],
   "source": [
    "output_h5ad_path = \"C:\\Research_datasets\\Hao_PBMC_GSE164378.h5ad\"\n",
    "andata.write(filename=output_h5ad_path)"
   ]
  },
  {
   "cell_type": "code",
   "execution_count": 42,
   "metadata": {},
   "outputs": [
    {
     "data": {
      "text/plain": [
       "(161764, 33538)"
      ]
     },
     "execution_count": 42,
     "metadata": {},
     "output_type": "execute_result"
    }
   ],
   "source": [
    "andata.shape"
   ]
  },
  {
   "cell_type": "code",
   "execution_count": null,
   "metadata": {},
   "outputs": [],
   "source": []
  }
 ],
 "metadata": {
  "kernelspec": {
   "display_name": "Python 3 (ipykernel)",
   "language": "python",
   "name": "python3"
  },
  "language_info": {
   "codemirror_mode": {
    "name": "ipython",
    "version": 3
   },
   "file_extension": ".py",
   "mimetype": "text/x-python",
   "name": "python",
   "nbconvert_exporter": "python",
   "pygments_lexer": "ipython3",
   "version": "3.9.12"
  }
 },
 "nbformat": 4,
 "nbformat_minor": 5
}

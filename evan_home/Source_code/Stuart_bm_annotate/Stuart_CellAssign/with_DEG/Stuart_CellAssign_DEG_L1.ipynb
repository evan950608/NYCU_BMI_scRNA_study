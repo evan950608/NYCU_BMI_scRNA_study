{
 "cells": [
  {
   "cell_type": "code",
   "execution_count": 1,
   "metadata": {},
   "outputs": [
    {
     "name": "stdout",
     "output_type": "stream",
     "text": [
      "Home Path: c:\\Users\\evanlee\\Documents\\Bmi_NAS_evan\\evan_home\n"
     ]
    }
   ],
   "source": [
    "from pathlib import Path\n",
    "\n",
    "# Get the current working directory as a Path object\n",
    "current_path = Path.cwd()\n",
    "home_folder = 'evan_home'\n",
    "\n",
    "# Traverse up the directory tree until you find the target folder\n",
    "for parent in [current_path] + list(current_path.parents):\n",
    "    if parent.name == home_folder:\n",
    "        home_path = parent\n",
    "        break\n",
    "else:\n",
    "    raise ValueError(f\"Folder '{home_folder}' not found in the current working directory.\")\n",
    "\n",
    "print(\"Home Path:\", home_path)\n",
    "source_code_dir = home_path / 'Source_code'\n",
    "dataset_dir = home_path / 'Dataset'\n"
   ]
  },
  {
   "cell_type": "code",
   "execution_count": 2,
   "metadata": {},
   "outputs": [
    {
     "name": "stderr",
     "output_type": "stream",
     "text": [
      "c:\\Users\\evanlee\\AppData\\Local\\Programs\\Python\\Python39\\lib\\site-packages\\tqdm\\auto.py:21: TqdmWarning: IProgress not found. Please update jupyter and ipywidgets. See https://ipywidgets.readthedocs.io/en/stable/user_install.html\n",
      "  from .autonotebook import tqdm as notebook_tqdm\n"
     ]
    }
   ],
   "source": [
    "import numpy as np\n",
    "import pandas as pd\n",
    "import os\n",
    "import matplotlib.pyplot as plt\n",
    "import scanpy as sc\n",
    "import scvi\n",
    "import seaborn as sns\n",
    "from scvi.external import CellAssign"
   ]
  },
  {
   "cell_type": "markdown",
   "metadata": {},
   "source": [
    "## Read dataset (as Normalized and log1p)"
   ]
  },
  {
   "cell_type": "code",
   "execution_count": 3,
   "metadata": {},
   "outputs": [
    {
     "name": "stdout",
     "output_type": "stream",
     "text": [
      "all cell types: ['B cell', 'Mono/DC', 'NK', 'Progenitor cells', 'T cell']\n",
      "(30672, 17009)\n"
     ]
    }
   ],
   "source": [
    "# bmcite = sc.read_h5ad(r\"C:\\Users\\evanlee\\Documents\\Research_datasets\\Stuart_bm\\Stuart_bmcite_RNAassay_original.h5ad\")\n",
    "bmcite = sc.read_h5ad(dataset_dir / 'Stuart_bm/Stuart_bmcite_RNAassay_original.h5ad')\n",
    "label = bmcite.obs['celltype.l1'].tolist()\n",
    "types = np.unique(label).tolist()\n",
    "print('all cell types:', types)\n",
    "print(bmcite.shape)"
   ]
  },
  {
   "cell_type": "code",
   "execution_count": 40,
   "metadata": {},
   "outputs": [
    {
     "data": {
      "text/html": [
       "<div>\n",
       "<style scoped>\n",
       "    .dataframe tbody tr th:only-of-type {\n",
       "        vertical-align: middle;\n",
       "    }\n",
       "\n",
       "    .dataframe tbody tr th {\n",
       "        vertical-align: top;\n",
       "    }\n",
       "\n",
       "    .dataframe thead th {\n",
       "        text-align: right;\n",
       "    }\n",
       "</style>\n",
       "<table border=\"1\" class=\"dataframe\">\n",
       "  <thead>\n",
       "    <tr style=\"text-align: right;\">\n",
       "      <th></th>\n",
       "      <th>nCount_RNA</th>\n",
       "      <th>nFeature_RNA</th>\n",
       "      <th>nCount_ADT</th>\n",
       "      <th>nFeature_ADT</th>\n",
       "      <th>lane</th>\n",
       "      <th>donor</th>\n",
       "      <th>celltype.l1</th>\n",
       "      <th>celltype.l2</th>\n",
       "      <th>RNA.weight</th>\n",
       "    </tr>\n",
       "  </thead>\n",
       "  <tbody>\n",
       "    <tr>\n",
       "      <th>a_AAACCTGAGCTTATCG-1</th>\n",
       "      <td>7546.0</td>\n",
       "      <td>2136</td>\n",
       "      <td>1350.0</td>\n",
       "      <td>25</td>\n",
       "      <td>HumanHTO4</td>\n",
       "      <td>batch1</td>\n",
       "      <td>Progenitor cells</td>\n",
       "      <td>Prog_RBC</td>\n",
       "      <td>0.482701</td>\n",
       "    </tr>\n",
       "    <tr>\n",
       "      <th>a_AAACCTGAGGTGGGTT-1</th>\n",
       "      <td>1029.0</td>\n",
       "      <td>437</td>\n",
       "      <td>2970.0</td>\n",
       "      <td>25</td>\n",
       "      <td>HumanHTO1</td>\n",
       "      <td>batch1</td>\n",
       "      <td>T cell</td>\n",
       "      <td>gdT</td>\n",
       "      <td>0.241789</td>\n",
       "    </tr>\n",
       "    <tr>\n",
       "      <th>a_AAACCTGAGTACATGA-1</th>\n",
       "      <td>1111.0</td>\n",
       "      <td>429</td>\n",
       "      <td>2474.0</td>\n",
       "      <td>23</td>\n",
       "      <td>HumanHTO5</td>\n",
       "      <td>batch1</td>\n",
       "      <td>T cell</td>\n",
       "      <td>CD4 Naive</td>\n",
       "      <td>0.507714</td>\n",
       "    </tr>\n",
       "    <tr>\n",
       "      <th>a_AAACCTGCAAACCTAC-1</th>\n",
       "      <td>2741.0</td>\n",
       "      <td>851</td>\n",
       "      <td>4799.0</td>\n",
       "      <td>25</td>\n",
       "      <td>HumanHTO3</td>\n",
       "      <td>batch1</td>\n",
       "      <td>T cell</td>\n",
       "      <td>CD4 Memory</td>\n",
       "      <td>0.431308</td>\n",
       "    </tr>\n",
       "    <tr>\n",
       "      <th>a_AAACCTGCAAGGTGTG-1</th>\n",
       "      <td>2099.0</td>\n",
       "      <td>843</td>\n",
       "      <td>5434.0</td>\n",
       "      <td>25</td>\n",
       "      <td>HumanHTO2</td>\n",
       "      <td>batch1</td>\n",
       "      <td>Mono/DC</td>\n",
       "      <td>CD14 Mono</td>\n",
       "      <td>0.568508</td>\n",
       "    </tr>\n",
       "  </tbody>\n",
       "</table>\n",
       "</div>"
      ],
      "text/plain": [
       "                      nCount_RNA  nFeature_RNA  nCount_ADT  nFeature_ADT  \\\n",
       "a_AAACCTGAGCTTATCG-1      7546.0          2136      1350.0            25   \n",
       "a_AAACCTGAGGTGGGTT-1      1029.0           437      2970.0            25   \n",
       "a_AAACCTGAGTACATGA-1      1111.0           429      2474.0            23   \n",
       "a_AAACCTGCAAACCTAC-1      2741.0           851      4799.0            25   \n",
       "a_AAACCTGCAAGGTGTG-1      2099.0           843      5434.0            25   \n",
       "\n",
       "                           lane   donor       celltype.l1 celltype.l2  \\\n",
       "a_AAACCTGAGCTTATCG-1  HumanHTO4  batch1  Progenitor cells    Prog_RBC   \n",
       "a_AAACCTGAGGTGGGTT-1  HumanHTO1  batch1            T cell         gdT   \n",
       "a_AAACCTGAGTACATGA-1  HumanHTO5  batch1            T cell   CD4 Naive   \n",
       "a_AAACCTGCAAACCTAC-1  HumanHTO3  batch1            T cell  CD4 Memory   \n",
       "a_AAACCTGCAAGGTGTG-1  HumanHTO2  batch1           Mono/DC   CD14 Mono   \n",
       "\n",
       "                      RNA.weight  \n",
       "a_AAACCTGAGCTTATCG-1    0.482701  \n",
       "a_AAACCTGAGGTGGGTT-1    0.241789  \n",
       "a_AAACCTGAGTACATGA-1    0.507714  \n",
       "a_AAACCTGCAAACCTAC-1    0.431308  \n",
       "a_AAACCTGCAAGGTGTG-1    0.568508  "
      ]
     },
     "execution_count": 40,
     "metadata": {},
     "output_type": "execute_result"
    }
   ],
   "source": [
    "bmcite.obs.head()"
   ]
  },
  {
   "cell_type": "markdown",
   "metadata": {},
   "source": [
    "## Count number of PreLect features"
   ]
  },
  {
   "cell_type": "code",
   "execution_count": 4,
   "metadata": {},
   "outputs": [],
   "source": [
    "import os\n",
    "# os.chdir(r\"C:\\Users\\evanlee\\Documents\\GitHub\\EvanPys\\Progress\\PBMC_Hao_batch_noZ\\Level1\\feature_selection_k3\")\n",
    "# os.chdir('/Users/evanli/Documents/EvanPys/Progress/PBMC_Hao_batch_noZ/Level1/feature_selection_k3')\n",
    "os.chdir(source_code_dir / 'PBMC_Hao_batch_noZ/Level1/feature_selection_k3')\n",
    "\n",
    "features_dict = {}\n",
    "hao_l1 = ['B', 'CD4_T', 'CD8_T', 'DC', 'Mono', 'NK', 'other', 'other_T']\n",
    "# Read features for each celltype\n",
    "for celltype in hao_l1:\n",
    "    try:\n",
    "        feature_df = pd.read_csv(f'{celltype}_features.txt', names=['Gene', 'Weight', 'Tendency'], sep='\\t')\n",
    "        features_dict[celltype] = feature_df\n",
    "    except:\n",
    "        print('skipping:', celltype)\n",
    "        continue"
   ]
  },
  {
   "cell_type": "code",
   "execution_count": 5,
   "metadata": {},
   "outputs": [
    {
     "name": "stdout",
     "output_type": "stream",
     "text": [
      "Median feature number: 42\n",
      "Mean feature number: 79\n"
     ]
    },
    {
     "data": {
      "text/html": [
       "<div>\n",
       "<style scoped>\n",
       "    .dataframe tbody tr th:only-of-type {\n",
       "        vertical-align: middle;\n",
       "    }\n",
       "\n",
       "    .dataframe tbody tr th {\n",
       "        vertical-align: top;\n",
       "    }\n",
       "\n",
       "    .dataframe thead th {\n",
       "        text-align: right;\n",
       "    }\n",
       "</style>\n",
       "<table border=\"1\" class=\"dataframe\">\n",
       "  <thead>\n",
       "    <tr style=\"text-align: right;\">\n",
       "      <th></th>\n",
       "      <th>Feature_count</th>\n",
       "      <th>Positive_feature_count</th>\n",
       "    </tr>\n",
       "  </thead>\n",
       "  <tbody>\n",
       "    <tr>\n",
       "      <th>B</th>\n",
       "      <td>19</td>\n",
       "      <td>10</td>\n",
       "    </tr>\n",
       "    <tr>\n",
       "      <th>CD4_T</th>\n",
       "      <td>201</td>\n",
       "      <td>95</td>\n",
       "    </tr>\n",
       "    <tr>\n",
       "      <th>CD8_T</th>\n",
       "      <td>23</td>\n",
       "      <td>9</td>\n",
       "    </tr>\n",
       "    <tr>\n",
       "      <th>DC</th>\n",
       "      <td>50</td>\n",
       "      <td>23</td>\n",
       "    </tr>\n",
       "    <tr>\n",
       "      <th>Mono</th>\n",
       "      <td>50</td>\n",
       "      <td>20</td>\n",
       "    </tr>\n",
       "    <tr>\n",
       "      <th>NK</th>\n",
       "      <td>33</td>\n",
       "      <td>17</td>\n",
       "    </tr>\n",
       "    <tr>\n",
       "      <th>other</th>\n",
       "      <td>5</td>\n",
       "      <td>3</td>\n",
       "    </tr>\n",
       "    <tr>\n",
       "      <th>other_T</th>\n",
       "      <td>247</td>\n",
       "      <td>112</td>\n",
       "    </tr>\n",
       "  </tbody>\n",
       "</table>\n",
       "</div>"
      ],
      "text/plain": [
       "         Feature_count  Positive_feature_count\n",
       "B                   19                      10\n",
       "CD4_T              201                      95\n",
       "CD8_T               23                       9\n",
       "DC                  50                      23\n",
       "Mono                50                      20\n",
       "NK                  33                      17\n",
       "other                5                       3\n",
       "other_T            247                     112"
      ]
     },
     "execution_count": 5,
     "metadata": {},
     "output_type": "execute_result"
    }
   ],
   "source": [
    "count_df = pd.DataFrame(columns=['Feature_count', 'Positive_feature_count'])\n",
    "for celltype in features_dict.keys():\n",
    "    feature_df = features_dict[celltype]\n",
    "    feature_count = feature_df.shape[0]\n",
    "    positive_count = feature_df[feature_df['Tendency'] == 1].shape[0]\n",
    "    count_df.loc[celltype] = [feature_count, positive_count]\n",
    "\n",
    "median_feature_no = int(np.ceil(np.median(count_df['Feature_count'])))\n",
    "mean_feature_no = int(np.ceil(np.mean(count_df['Feature_count'])))\n",
    "print('Median feature number:', median_feature_no)\n",
    "print('Mean feature number:', mean_feature_no)\n",
    "count_df"
   ]
  },
  {
   "cell_type": "markdown",
   "metadata": {},
   "source": [
    "## Find top DEGs"
   ]
  },
  {
   "cell_type": "code",
   "execution_count": 43,
   "metadata": {},
   "outputs": [],
   "source": [
    "# Find marker genes\n",
    "def rank_genes(adata, all_types, n_genes):\n",
    "    sc.tl.rank_genes_groups(adata, groupby='celltype.l1', n_genes=n_genes, method='wilcoxon')\n",
    "\n",
    "    # Get the top ranked genes for each celltype\n",
    "    genes_dict = {}\n",
    "\n",
    "    for celltype in all_types:\n",
    "        genes_df = sc.get.rank_genes_groups_df(adata, group=celltype)\n",
    "        genes = genes_df['names'].tolist()\n",
    "        genes_dict[celltype] = genes\n",
    "    \n",
    "    return genes_dict\n",
    "    "
   ]
  },
  {
   "cell_type": "code",
   "execution_count": 44,
   "metadata": {},
   "outputs": [
    {
     "name": "stdout",
     "output_type": "stream",
     "text": [
      "Median feature number: 42\n"
     ]
    },
    {
     "name": "stderr",
     "output_type": "stream",
     "text": [
      "c:\\Users\\evanlee\\AppData\\Local\\Programs\\Python\\Python39\\lib\\site-packages\\numpy\\core\\fromnumeric.py:86: FutureWarning: The behavior of DataFrame.sum with axis=None is deprecated, in a future version this will reduce over both axes and return a scalar. To retain the old behavior, pass axis=0 (or do not pass axis)\n",
      "  return reduction(axis=axis, out=out, **passkwargs)\n"
     ]
    },
    {
     "data": {
      "text/plain": [
       "dict_keys(['B cell', 'Mono/DC', 'NK', 'Progenitor cells', 'T cell'])"
      ]
     },
     "execution_count": 44,
     "metadata": {},
     "output_type": "execute_result"
    }
   ],
   "source": [
    "print('Median feature number:', median_feature_no)\n",
    "DE_genes_dict = rank_genes(bmcite, types, n_genes=median_feature_no)\n",
    "DE_genes_dict.keys()"
   ]
  },
  {
   "cell_type": "code",
   "execution_count": 45,
   "metadata": {},
   "outputs": [
    {
     "data": {
      "text/plain": [
       "202"
      ]
     },
     "execution_count": 45,
     "metadata": {},
     "output_type": "execute_result"
    }
   ],
   "source": [
    "unique_genes = set()\n",
    "for gene_list in DE_genes_dict.values():\n",
    "    unique_genes.update(gene_list)\n",
    "len(unique_genes)"
   ]
  },
  {
   "cell_type": "code",
   "execution_count": 46,
   "metadata": {},
   "outputs": [
    {
     "data": {
      "text/html": [
       "<div>\n",
       "<style scoped>\n",
       "    .dataframe tbody tr th:only-of-type {\n",
       "        vertical-align: middle;\n",
       "    }\n",
       "\n",
       "    .dataframe tbody tr th {\n",
       "        vertical-align: top;\n",
       "    }\n",
       "\n",
       "    .dataframe thead th {\n",
       "        text-align: right;\n",
       "    }\n",
       "</style>\n",
       "<table border=\"1\" class=\"dataframe\">\n",
       "  <thead>\n",
       "    <tr style=\"text-align: right;\">\n",
       "      <th></th>\n",
       "      <th>B cell</th>\n",
       "      <th>Mono/DC</th>\n",
       "      <th>NK</th>\n",
       "      <th>Progenitor cells</th>\n",
       "      <th>T cell</th>\n",
       "    </tr>\n",
       "  </thead>\n",
       "  <tbody>\n",
       "    <tr>\n",
       "      <th>RPS25</th>\n",
       "      <td>0</td>\n",
       "      <td>0</td>\n",
       "      <td>0</td>\n",
       "      <td>0</td>\n",
       "      <td>1</td>\n",
       "    </tr>\n",
       "    <tr>\n",
       "      <th>MARCH1</th>\n",
       "      <td>1</td>\n",
       "      <td>0</td>\n",
       "      <td>0</td>\n",
       "      <td>0</td>\n",
       "      <td>0</td>\n",
       "    </tr>\n",
       "    <tr>\n",
       "      <th>TRBC2</th>\n",
       "      <td>0</td>\n",
       "      <td>0</td>\n",
       "      <td>0</td>\n",
       "      <td>0</td>\n",
       "      <td>1</td>\n",
       "    </tr>\n",
       "    <tr>\n",
       "      <th>H3F3B</th>\n",
       "      <td>0</td>\n",
       "      <td>0</td>\n",
       "      <td>1</td>\n",
       "      <td>0</td>\n",
       "      <td>0</td>\n",
       "    </tr>\n",
       "    <tr>\n",
       "      <th>SH3BGRL3</th>\n",
       "      <td>0</td>\n",
       "      <td>1</td>\n",
       "      <td>0</td>\n",
       "      <td>0</td>\n",
       "      <td>0</td>\n",
       "    </tr>\n",
       "    <tr>\n",
       "      <th>...</th>\n",
       "      <td>...</td>\n",
       "      <td>...</td>\n",
       "      <td>...</td>\n",
       "      <td>...</td>\n",
       "      <td>...</td>\n",
       "    </tr>\n",
       "    <tr>\n",
       "      <th>TNFRSF13C</th>\n",
       "      <td>1</td>\n",
       "      <td>0</td>\n",
       "      <td>0</td>\n",
       "      <td>0</td>\n",
       "      <td>0</td>\n",
       "    </tr>\n",
       "    <tr>\n",
       "      <th>HMGB2</th>\n",
       "      <td>0</td>\n",
       "      <td>0</td>\n",
       "      <td>0</td>\n",
       "      <td>1</td>\n",
       "      <td>0</td>\n",
       "    </tr>\n",
       "    <tr>\n",
       "      <th>IFITM2</th>\n",
       "      <td>0</td>\n",
       "      <td>0</td>\n",
       "      <td>1</td>\n",
       "      <td>0</td>\n",
       "      <td>0</td>\n",
       "    </tr>\n",
       "    <tr>\n",
       "      <th>B2M</th>\n",
       "      <td>0</td>\n",
       "      <td>0</td>\n",
       "      <td>1</td>\n",
       "      <td>0</td>\n",
       "      <td>0</td>\n",
       "    </tr>\n",
       "    <tr>\n",
       "      <th>VIM</th>\n",
       "      <td>0</td>\n",
       "      <td>1</td>\n",
       "      <td>0</td>\n",
       "      <td>0</td>\n",
       "      <td>0</td>\n",
       "    </tr>\n",
       "  </tbody>\n",
       "</table>\n",
       "<p>202 rows × 5 columns</p>\n",
       "</div>"
      ],
      "text/plain": [
       "           B cell  Mono/DC  NK  Progenitor cells  T cell\n",
       "RPS25           0        0   0                 0       1\n",
       "MARCH1          1        0   0                 0       0\n",
       "TRBC2           0        0   0                 0       1\n",
       "H3F3B           0        0   1                 0       0\n",
       "SH3BGRL3        0        1   0                 0       0\n",
       "...           ...      ...  ..               ...     ...\n",
       "TNFRSF13C       1        0   0                 0       0\n",
       "HMGB2           0        0   0                 1       0\n",
       "IFITM2          0        0   1                 0       0\n",
       "B2M             0        0   1                 0       0\n",
       "VIM             0        1   0                 0       0\n",
       "\n",
       "[202 rows x 5 columns]"
      ]
     },
     "execution_count": 46,
     "metadata": {},
     "output_type": "execute_result"
    }
   ],
   "source": [
    "# Create a new dataframe with genes as indexes and cell types as columns\n",
    "marker_gene_mat = pd.DataFrame(0, index=list(unique_genes), columns=types)\n",
    "\n",
    "# Iterate through the DEGs and update the new dataframe with 1 where there is a relationship\n",
    "for celltype, gene_list in DE_genes_dict.items():\n",
    "    for g in gene_list:\n",
    "        marker_gene_mat.loc[g, celltype] = 1\n",
    "marker_gene_mat\n"
   ]
  },
  {
   "cell_type": "markdown",
   "metadata": {},
   "source": [
    "## Turn dataset back to raw counts\n",
    "CellAssign takes raw counts matrix"
   ]
  },
  {
   "cell_type": "code",
   "execution_count": 47,
   "metadata": {},
   "outputs": [],
   "source": [
    "# Take raw counts from layers['counts']\n",
    "bmcite.X = bmcite.layers['counts']"
   ]
  },
  {
   "cell_type": "code",
   "execution_count": 48,
   "metadata": {},
   "outputs": [
    {
     "name": "stdout",
     "output_type": "stream",
     "text": [
      "Row 0, Column 23, Value 1.0\n",
      "Row 0, Column 31, Value 1.0\n",
      "Row 0, Column 49, Value 1.0\n",
      "Row 0, Column 50, Value 1.0\n",
      "Row 0, Column 58, Value 1.0\n",
      "Row 0, Column 59, Value 2.0\n",
      "Row 0, Column 75, Value 1.0\n",
      "Row 0, Column 77, Value 1.0\n",
      "Row 0, Column 78, Value 1.0\n",
      "Row 0, Column 84, Value 19.0\n",
      "Row 0, Column 88, Value 1.0\n",
      "Row 0, Column 94, Value 1.0\n",
      "Row 0, Column 101, Value 1.0\n",
      "Row 0, Column 106, Value 1.0\n",
      "Row 0, Column 108, Value 1.0\n",
      "Row 0, Column 110, Value 7.0\n",
      "Row 0, Column 136, Value 1.0\n",
      "Row 0, Column 138, Value 2.0\n",
      "Row 0, Column 147, Value 1.0\n",
      "Row 0, Column 162, Value 1.0\n"
     ]
    }
   ],
   "source": [
    "# Briefly view adata.X\n",
    "rows, cols = bmcite.X[:5,:].nonzero()\n",
    "i = 0\n",
    "for row, col in zip(rows, cols):\n",
    "    if i == 20: break\n",
    "    print(f'Row {row}, Column {col}, Value {bmcite.X[row, col]}')\n",
    "    i += 1\n"
   ]
  },
  {
   "cell_type": "code",
   "execution_count": 49,
   "metadata": {},
   "outputs": [],
   "source": [
    "# Set up size factor\n",
    "lib_size = bmcite.X.sum(1)\n",
    "bmcite.obs[\"size_factor\"] = lib_size / np.mean(lib_size)"
   ]
  },
  {
   "cell_type": "markdown",
   "metadata": {},
   "source": [
    "## Subset dataset to only the marker genes"
   ]
  },
  {
   "cell_type": "code",
   "execution_count": 50,
   "metadata": {},
   "outputs": [
    {
     "name": "stdout",
     "output_type": "stream",
     "text": [
      "Intersection: 202\n",
      "(30672, 202)\n"
     ]
    }
   ],
   "source": [
    "# It is critical that gene expression data containing only marker genes is used as input to cellassign.\n",
    "a = bmcite.var_names\n",
    "b = marker_gene_mat.index\n",
    "inter = a.intersection(b)\n",
    "print('Intersection:', len(inter))\n",
    "common_genes = [i in b for i in a]  # a list of bools\n",
    "bmcite_subset = bmcite[:, common_genes].copy()  # only select common_genes columns\n",
    "print(bmcite_subset.shape)"
   ]
  },
  {
   "cell_type": "code",
   "execution_count": 51,
   "metadata": {},
   "outputs": [
    {
     "name": "stderr",
     "output_type": "stream",
     "text": [
      "c:\\Users\\evanlee\\AppData\\Local\\Programs\\Python\\Python39\\lib\\site-packages\\scvi\\data\\fields\\_layer_field.py:116: UserWarning: Training will be faster when sparse matrix is formatted as CSR. It is safe to cast before model initialization.\n",
      "  _verify_and_correct_data_format(adata, self.attr_name, self.attr_key)\n"
     ]
    }
   ],
   "source": [
    "# Sets up the AnnData object for this model.\n",
    "scvi.external.CellAssign.setup_anndata(bmcite_subset, size_factor_key=\"size_factor\")"
   ]
  },
  {
   "cell_type": "code",
   "execution_count": 52,
   "metadata": {},
   "outputs": [
    {
     "name": "stderr",
     "output_type": "stream",
     "text": [
      "GPU available: True (cuda), used: True\n",
      "TPU available: False, using: 0 TPU cores\n",
      "HPU available: False, using: 0 HPUs\n",
      "LOCAL_RANK: 0 - CUDA_VISIBLE_DEVICES: [0]\n",
      "c:\\Users\\evanlee\\AppData\\Local\\Programs\\Python\\Python39\\lib\\site-packages\\lightning\\pytorch\\trainer\\connectors\\data_connector.py:424: The 'train_dataloader' does not have many workers which may be a bottleneck. Consider increasing the value of the `num_workers` argument` to `num_workers=63` in the `DataLoader` to improve performance.\n",
      "c:\\Users\\evanlee\\AppData\\Local\\Programs\\Python\\Python39\\lib\\site-packages\\lightning\\pytorch\\trainer\\connectors\\data_connector.py:424: The 'val_dataloader' does not have many workers which may be a bottleneck. Consider increasing the value of the `num_workers` argument` to `num_workers=63` in the `DataLoader` to improve performance.\n"
     ]
    },
    {
     "name": "stdout",
     "output_type": "stream",
     "text": [
      "Epoch 261/400:  65%|██████▌   | 261/400 [04:22<02:19,  1.00s/it, v_num=1, train_loss_step=353, train_loss_epoch=350]\n",
      "Monitored metric elbo_validation did not improve in the last 15 records. Best score: 348.334. Signaling Trainer to stop.\n"
     ]
    }
   ],
   "source": [
    "# Train CellAssign\n",
    "import torch\n",
    "torch.set_float32_matmul_precision('high')\n",
    "model = CellAssign(bmcite_subset, marker_gene_mat)\n",
    "model.train()"
   ]
  },
  {
   "cell_type": "code",
   "execution_count": 53,
   "metadata": {},
   "outputs": [
    {
     "data": {
      "text/plain": [
       "<Axes: xlabel='epoch'>"
      ]
     },
     "execution_count": 53,
     "metadata": {},
     "output_type": "execute_result"
    },
    {
     "data": {
      "image/png": "[encoded data removed]",
      "text/plain": [
       "<Figure size 640x480 with 1 Axes>"
      ]
     },
     "metadata": {},
     "output_type": "display_data"
    }
   ],
   "source": [
    "model.history[\"elbo_validation\"].plot()"
   ]
  },
  {
   "cell_type": "code",
   "execution_count": 54,
   "metadata": {},
   "outputs": [],
   "source": [
    "predictions = model.predict()"
   ]
  },
  {
   "cell_type": "code",
   "execution_count": null,
   "metadata": {},
   "outputs": [],
   "source": [
    "# os.chdir(r'C:\\Users\\evanlee\\Documents\\GitHub\\EvanPys\\Progress\\Stuart_bm_annotate\\Stuart_CellAssign\\with_DEG')\n",
    "os.chdir(source_code_dir / 'Stuart_bm_annotate/Stuart_CellAssign/with_DEG')\n",
    "predictions.index = bmcite.obs_names\n",
    "predictions.to_csv('CellAssign_DEGmedian_pred_Stuart_L1.csv')"
   ]
  },
  {
   "cell_type": "code",
   "execution_count": 56,
   "metadata": {},
   "outputs": [
    {
     "name": "stdout",
     "output_type": "stream",
     "text": [
      "B cell \t 3798\n",
      "Mono/DC \t 8241\n",
      "NK \t 3952\n",
      "Progenitor cells \t 1942\n",
      "T cell \t 12739\n"
     ]
    }
   ],
   "source": [
    "largest_values = []\n",
    "largest_columns = []\n",
    "assignments = []\n",
    "for index, row in predictions.iterrows():\n",
    "    # find largest value and their corresponding columns\n",
    "    largest_value = row.max()\n",
    "    largest_column = row.idxmax()\n",
    "    largest_values.append(largest_value)\n",
    "    largest_columns.append(largest_column)\n",
    "\n",
    "    assign = largest_column\n",
    "    assignments.append(assign)\n",
    "\n",
    "result_df = pd.DataFrame({'Largest Value': largest_values, 'Largest Column': largest_columns, 'Assignment': assignments})\n",
    "for celltype in types:\n",
    "    print(celltype, '\\t', sum(result_df['Assignment'] == celltype))\n"
   ]
  }
 ],
 "metadata": {
  "kernelspec": {
   "display_name": "Python 3",
   "language": "python",
   "name": "python3"
  },
  "language_info": {
   "codemirror_mode": {
    "name": "ipython",
    "version": 3
   },
   "file_extension": ".py",
   "mimetype": "text/x-python",
   "name": "python",
   "nbconvert_exporter": "python",
   "pygments_lexer": "ipython3",
   "version": "3.9.12"
  }
 },
 "nbformat": 4,
 "nbformat_minor": 2
}

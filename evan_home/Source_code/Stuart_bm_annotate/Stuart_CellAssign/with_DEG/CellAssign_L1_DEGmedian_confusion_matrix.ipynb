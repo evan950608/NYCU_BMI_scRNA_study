{
 "cells": [
  {
   "cell_type": "code",
   "execution_count": 1,
   "metadata": {},
   "outputs": [
    {
     "name": "stdout",
     "output_type": "stream",
     "text": [
      "Home Path: c:\\Users\\evanlee\\Documents\\Bmi_NAS_evan\\evan_home\n"
     ]
    }
   ],
   "source": [
    "from pathlib import Path\n",
    "\n",
    "# Get the current working directory as a Path object\n",
    "current_path = Path.cwd()\n",
    "home_folder = 'evan_home'\n",
    "\n",
    "# Traverse up the directory tree until you find the target folder\n",
    "for parent in [current_path] + list(current_path.parents):\n",
    "    if parent.name == home_folder:\n",
    "        home_path = parent\n",
    "        break\n",
    "else:\n",
    "    raise ValueError(f\"Folder '{home_folder}' not found in the current working directory.\")\n",
    "\n",
    "print(\"Home Path:\", home_path)\n",
    "source_code_dir = home_path / 'Source_code'\n",
    "dataset_dir = home_path / 'Dataset'\n"
   ]
  },
  {
   "cell_type": "code",
   "execution_count": 2,
   "metadata": {},
   "outputs": [],
   "source": [
    "import scanpy as sc\n",
    "import pandas as pd\n",
    "import numpy as np\n",
    "import matplotlib.pyplot as plt\n",
    "import os"
   ]
  },
  {
   "cell_type": "code",
   "execution_count": 4,
   "metadata": {},
   "outputs": [
    {
     "data": {
      "text/plain": [
       "(30672, 17009)"
      ]
     },
     "execution_count": 4,
     "metadata": {},
     "output_type": "execute_result"
    }
   ],
   "source": [
    "# adata = sc.read_h5ad(r\"C:\\Users\\evanlee\\Documents\\Research_datasets\\Stuart_bm\\Stuart_bmcite_RNAassay_original.h5ad\")\n",
    "# adata = sc.read_h5ad('/Users/evanli/Documents/Research_datasets/Stuart_bm/Stuart_bmcite_RNAassay_original.h5ad')\n",
    "adata = sc.read_h5ad(dataset_dir / 'Stuart_bm/Stuart_bmcite_RNAassay_original.h5ad')\n",
    "adata.shape"
   ]
  },
  {
   "cell_type": "code",
   "execution_count": 4,
   "metadata": {},
   "outputs": [
    {
     "data": {
      "text/html": [
       "<div>\n",
       "<style scoped>\n",
       "    .dataframe tbody tr th:only-of-type {\n",
       "        vertical-align: middle;\n",
       "    }\n",
       "\n",
       "    .dataframe tbody tr th {\n",
       "        vertical-align: top;\n",
       "    }\n",
       "\n",
       "    .dataframe thead th {\n",
       "        text-align: right;\n",
       "    }\n",
       "</style>\n",
       "<table border=\"1\" class=\"dataframe\">\n",
       "  <thead>\n",
       "    <tr style=\"text-align: right;\">\n",
       "      <th></th>\n",
       "      <th>nCount_RNA</th>\n",
       "      <th>nFeature_RNA</th>\n",
       "      <th>nCount_ADT</th>\n",
       "      <th>nFeature_ADT</th>\n",
       "      <th>lane</th>\n",
       "      <th>donor</th>\n",
       "      <th>celltype.l1</th>\n",
       "      <th>celltype.l2</th>\n",
       "      <th>RNA.weight</th>\n",
       "    </tr>\n",
       "  </thead>\n",
       "  <tbody>\n",
       "    <tr>\n",
       "      <th>a_AAACCTGAGCTTATCG-1</th>\n",
       "      <td>7546.0</td>\n",
       "      <td>2136</td>\n",
       "      <td>1350.0</td>\n",
       "      <td>25</td>\n",
       "      <td>HumanHTO4</td>\n",
       "      <td>batch1</td>\n",
       "      <td>Progenitor cells</td>\n",
       "      <td>Prog_RBC</td>\n",
       "      <td>0.482701</td>\n",
       "    </tr>\n",
       "    <tr>\n",
       "      <th>a_AAACCTGAGGTGGGTT-1</th>\n",
       "      <td>1029.0</td>\n",
       "      <td>437</td>\n",
       "      <td>2970.0</td>\n",
       "      <td>25</td>\n",
       "      <td>HumanHTO1</td>\n",
       "      <td>batch1</td>\n",
       "      <td>T cell</td>\n",
       "      <td>gdT</td>\n",
       "      <td>0.241789</td>\n",
       "    </tr>\n",
       "    <tr>\n",
       "      <th>a_AAACCTGAGTACATGA-1</th>\n",
       "      <td>1111.0</td>\n",
       "      <td>429</td>\n",
       "      <td>2474.0</td>\n",
       "      <td>23</td>\n",
       "      <td>HumanHTO5</td>\n",
       "      <td>batch1</td>\n",
       "      <td>T cell</td>\n",
       "      <td>CD4 Naive</td>\n",
       "      <td>0.507714</td>\n",
       "    </tr>\n",
       "    <tr>\n",
       "      <th>a_AAACCTGCAAACCTAC-1</th>\n",
       "      <td>2741.0</td>\n",
       "      <td>851</td>\n",
       "      <td>4799.0</td>\n",
       "      <td>25</td>\n",
       "      <td>HumanHTO3</td>\n",
       "      <td>batch1</td>\n",
       "      <td>T cell</td>\n",
       "      <td>CD4 Memory</td>\n",
       "      <td>0.431308</td>\n",
       "    </tr>\n",
       "    <tr>\n",
       "      <th>a_AAACCTGCAAGGTGTG-1</th>\n",
       "      <td>2099.0</td>\n",
       "      <td>843</td>\n",
       "      <td>5434.0</td>\n",
       "      <td>25</td>\n",
       "      <td>HumanHTO2</td>\n",
       "      <td>batch1</td>\n",
       "      <td>Mono/DC</td>\n",
       "      <td>CD14 Mono</td>\n",
       "      <td>0.568508</td>\n",
       "    </tr>\n",
       "  </tbody>\n",
       "</table>\n",
       "</div>"
      ],
      "text/plain": [
       "                      nCount_RNA  nFeature_RNA  nCount_ADT  nFeature_ADT  \\\n",
       "a_AAACCTGAGCTTATCG-1      7546.0          2136      1350.0            25   \n",
       "a_AAACCTGAGGTGGGTT-1      1029.0           437      2970.0            25   \n",
       "a_AAACCTGAGTACATGA-1      1111.0           429      2474.0            23   \n",
       "a_AAACCTGCAAACCTAC-1      2741.0           851      4799.0            25   \n",
       "a_AAACCTGCAAGGTGTG-1      2099.0           843      5434.0            25   \n",
       "\n",
       "                           lane   donor       celltype.l1 celltype.l2  \\\n",
       "a_AAACCTGAGCTTATCG-1  HumanHTO4  batch1  Progenitor cells    Prog_RBC   \n",
       "a_AAACCTGAGGTGGGTT-1  HumanHTO1  batch1            T cell         gdT   \n",
       "a_AAACCTGAGTACATGA-1  HumanHTO5  batch1            T cell   CD4 Naive   \n",
       "a_AAACCTGCAAACCTAC-1  HumanHTO3  batch1            T cell  CD4 Memory   \n",
       "a_AAACCTGCAAGGTGTG-1  HumanHTO2  batch1           Mono/DC   CD14 Mono   \n",
       "\n",
       "                      RNA.weight  \n",
       "a_AAACCTGAGCTTATCG-1    0.482701  \n",
       "a_AAACCTGAGGTGGGTT-1    0.241789  \n",
       "a_AAACCTGAGTACATGA-1    0.507714  \n",
       "a_AAACCTGCAAACCTAC-1    0.431308  \n",
       "a_AAACCTGCAAGGTGTG-1    0.568508  "
      ]
     },
     "execution_count": 4,
     "metadata": {},
     "output_type": "execute_result"
    }
   ],
   "source": [
    "adata.obs.head()"
   ]
  },
  {
   "cell_type": "code",
   "execution_count": 5,
   "metadata": {},
   "outputs": [
    {
     "data": {
      "text/plain": [
       "['B cell', 'Mono/DC', 'NK', 'Progenitor cells', 'T cell']"
      ]
     },
     "execution_count": 5,
     "metadata": {},
     "output_type": "execute_result"
    }
   ],
   "source": [
    "# Level1\n",
    "labels = adata.obs['celltype.l1'].tolist()\n",
    "types = np.unique(labels).tolist()\n",
    "types"
   ]
  },
  {
   "cell_type": "markdown",
   "metadata": {},
   "source": [
    "## Read annotation result from SingleR (Level: Main)"
   ]
  },
  {
   "cell_type": "code",
   "execution_count": 5,
   "metadata": {},
   "outputs": [
    {
     "data": {
      "text/html": [
       "<div>\n",
       "<style scoped>\n",
       "    .dataframe tbody tr th:only-of-type {\n",
       "        vertical-align: middle;\n",
       "    }\n",
       "\n",
       "    .dataframe tbody tr th {\n",
       "        vertical-align: top;\n",
       "    }\n",
       "\n",
       "    .dataframe thead th {\n",
       "        text-align: right;\n",
       "    }\n",
       "</style>\n",
       "<table border=\"1\" class=\"dataframe\">\n",
       "  <thead>\n",
       "    <tr style=\"text-align: right;\">\n",
       "      <th></th>\n",
       "      <th>B cell</th>\n",
       "      <th>Mono/DC</th>\n",
       "      <th>NK</th>\n",
       "      <th>Progenitor cells</th>\n",
       "      <th>T cell</th>\n",
       "    </tr>\n",
       "  </thead>\n",
       "  <tbody>\n",
       "    <tr>\n",
       "      <th>a_AAACCTGAGCTTATCG-1</th>\n",
       "      <td>5.037384e-58</td>\n",
       "      <td>1.912004e-56</td>\n",
       "      <td>6.160752e-61</td>\n",
       "      <td>1.000000e+00</td>\n",
       "      <td>4.880447e-37</td>\n",
       "    </tr>\n",
       "    <tr>\n",
       "      <th>a_AAACCTGAGGTGGGTT-1</th>\n",
       "      <td>8.313761e-20</td>\n",
       "      <td>1.702940e-18</td>\n",
       "      <td>3.258475e-16</td>\n",
       "      <td>3.468014e-12</td>\n",
       "      <td>1.000000e+00</td>\n",
       "    </tr>\n",
       "    <tr>\n",
       "      <th>a_AAACCTGAGTACATGA-1</th>\n",
       "      <td>6.823657e-23</td>\n",
       "      <td>3.713886e-27</td>\n",
       "      <td>1.982696e-18</td>\n",
       "      <td>4.385541e-21</td>\n",
       "      <td>1.000000e+00</td>\n",
       "    </tr>\n",
       "    <tr>\n",
       "      <th>a_AAACCTGCAAACCTAC-1</th>\n",
       "      <td>3.187130e-32</td>\n",
       "      <td>8.399880e-36</td>\n",
       "      <td>4.000401e-26</td>\n",
       "      <td>1.513906e-29</td>\n",
       "      <td>1.000000e+00</td>\n",
       "    </tr>\n",
       "    <tr>\n",
       "      <th>a_AAACCTGCAAGGTGTG-1</th>\n",
       "      <td>1.433982e-202</td>\n",
       "      <td>1.000000e+00</td>\n",
       "      <td>1.765108e-189</td>\n",
       "      <td>3.200239e-197</td>\n",
       "      <td>3.267115e-206</td>\n",
       "    </tr>\n",
       "  </tbody>\n",
       "</table>\n",
       "</div>"
      ],
      "text/plain": [
       "                             B cell       Mono/DC             NK  \\\n",
       "a_AAACCTGAGCTTATCG-1   5.037384e-58  1.912004e-56   6.160752e-61   \n",
       "a_AAACCTGAGGTGGGTT-1   8.313761e-20  1.702940e-18   3.258475e-16   \n",
       "a_AAACCTGAGTACATGA-1   6.823657e-23  3.713886e-27   1.982696e-18   \n",
       "a_AAACCTGCAAACCTAC-1   3.187130e-32  8.399880e-36   4.000401e-26   \n",
       "a_AAACCTGCAAGGTGTG-1  1.433982e-202  1.000000e+00  1.765108e-189   \n",
       "\n",
       "                      Progenitor cells         T cell  \n",
       "a_AAACCTGAGCTTATCG-1      1.000000e+00   4.880447e-37  \n",
       "a_AAACCTGAGGTGGGTT-1      3.468014e-12   1.000000e+00  \n",
       "a_AAACCTGAGTACATGA-1      4.385541e-21   1.000000e+00  \n",
       "a_AAACCTGCAAACCTAC-1      1.513906e-29   1.000000e+00  \n",
       "a_AAACCTGCAAGGTGTG-1     3.200239e-197  3.267115e-206  "
      ]
     },
     "execution_count": 5,
     "metadata": {},
     "output_type": "execute_result"
    }
   ],
   "source": [
    "pred_l1 = pd.read_csv('CellAssign_DEGmedian_pred_Stuart_L1.csv', index_col=0)\n",
    "pred_l1.head()"
   ]
  },
  {
   "cell_type": "code",
   "execution_count": 7,
   "metadata": {},
   "outputs": [
    {
     "data": {
      "text/html": [
       "<div>\n",
       "<style scoped>\n",
       "    .dataframe tbody tr th:only-of-type {\n",
       "        vertical-align: middle;\n",
       "    }\n",
       "\n",
       "    .dataframe tbody tr th {\n",
       "        vertical-align: top;\n",
       "    }\n",
       "\n",
       "    .dataframe thead th {\n",
       "        text-align: right;\n",
       "    }\n",
       "</style>\n",
       "<table border=\"1\" class=\"dataframe\">\n",
       "  <thead>\n",
       "    <tr style=\"text-align: right;\">\n",
       "      <th></th>\n",
       "      <th>B cell</th>\n",
       "      <th>Mono/DC</th>\n",
       "      <th>NK</th>\n",
       "      <th>Progenitor cells</th>\n",
       "      <th>T cell</th>\n",
       "      <th>Assignment</th>\n",
       "    </tr>\n",
       "  </thead>\n",
       "  <tbody>\n",
       "    <tr>\n",
       "      <th>a_AAACCTGAGCTTATCG-1</th>\n",
       "      <td>5.037384e-58</td>\n",
       "      <td>1.912004e-56</td>\n",
       "      <td>6.160752e-61</td>\n",
       "      <td>1.000000e+00</td>\n",
       "      <td>4.880447e-37</td>\n",
       "      <td>Progenitor cells</td>\n",
       "    </tr>\n",
       "    <tr>\n",
       "      <th>a_AAACCTGAGGTGGGTT-1</th>\n",
       "      <td>8.313761e-20</td>\n",
       "      <td>1.702940e-18</td>\n",
       "      <td>3.258475e-16</td>\n",
       "      <td>3.468014e-12</td>\n",
       "      <td>1.000000e+00</td>\n",
       "      <td>T cell</td>\n",
       "    </tr>\n",
       "    <tr>\n",
       "      <th>a_AAACCTGAGTACATGA-1</th>\n",
       "      <td>6.823657e-23</td>\n",
       "      <td>3.713886e-27</td>\n",
       "      <td>1.982696e-18</td>\n",
       "      <td>4.385541e-21</td>\n",
       "      <td>1.000000e+00</td>\n",
       "      <td>T cell</td>\n",
       "    </tr>\n",
       "    <tr>\n",
       "      <th>a_AAACCTGCAAACCTAC-1</th>\n",
       "      <td>3.187130e-32</td>\n",
       "      <td>8.399880e-36</td>\n",
       "      <td>4.000401e-26</td>\n",
       "      <td>1.513906e-29</td>\n",
       "      <td>1.000000e+00</td>\n",
       "      <td>T cell</td>\n",
       "    </tr>\n",
       "    <tr>\n",
       "      <th>a_AAACCTGCAAGGTGTG-1</th>\n",
       "      <td>1.433982e-202</td>\n",
       "      <td>1.000000e+00</td>\n",
       "      <td>1.765108e-189</td>\n",
       "      <td>3.200239e-197</td>\n",
       "      <td>3.267115e-206</td>\n",
       "      <td>Mono/DC</td>\n",
       "    </tr>\n",
       "  </tbody>\n",
       "</table>\n",
       "</div>"
      ],
      "text/plain": [
       "                             B cell       Mono/DC             NK  \\\n",
       "a_AAACCTGAGCTTATCG-1   5.037384e-58  1.912004e-56   6.160752e-61   \n",
       "a_AAACCTGAGGTGGGTT-1   8.313761e-20  1.702940e-18   3.258475e-16   \n",
       "a_AAACCTGAGTACATGA-1   6.823657e-23  3.713886e-27   1.982696e-18   \n",
       "a_AAACCTGCAAACCTAC-1   3.187130e-32  8.399880e-36   4.000401e-26   \n",
       "a_AAACCTGCAAGGTGTG-1  1.433982e-202  1.000000e+00  1.765108e-189   \n",
       "\n",
       "                      Progenitor cells         T cell        Assignment  \n",
       "a_AAACCTGAGCTTATCG-1      1.000000e+00   4.880447e-37  Progenitor cells  \n",
       "a_AAACCTGAGGTGGGTT-1      3.468014e-12   1.000000e+00            T cell  \n",
       "a_AAACCTGAGTACATGA-1      4.385541e-21   1.000000e+00            T cell  \n",
       "a_AAACCTGCAAACCTAC-1      1.513906e-29   1.000000e+00            T cell  \n",
       "a_AAACCTGCAAGGTGTG-1     3.200239e-197  3.267115e-206           Mono/DC  "
      ]
     },
     "execution_count": 7,
     "metadata": {},
     "output_type": "execute_result"
    }
   ],
   "source": [
    "# Assign prediction celltype by score\n",
    "largest_values = []\n",
    "largest_columns = []\n",
    "assignments = []\n",
    "for index, row in pred_l1.iterrows():\n",
    "    # find largest value and their corresponding columns\n",
    "    largest_value = row.max()\n",
    "    largest_column = row.idxmax()\n",
    "    largest_values.append(largest_value)\n",
    "    largest_columns.append(largest_column)\n",
    "\n",
    "    assign = largest_column\n",
    "    assignments.append(assign)\n",
    "\n",
    "# result_df = pd.DataFrame({'Largest Value': largest_values, 'Largest Column': largest_columns, 'Assignment': assignments})\n",
    "# result_df.shape\n",
    "pred_l1['Assignment'] = assignments\n",
    "pred_l1.head()\n"
   ]
  },
  {
   "cell_type": "code",
   "execution_count": 8,
   "metadata": {},
   "outputs": [
    {
     "data": {
      "text/plain": [
       "['B cell', 'Mono/DC', 'NK', 'Progenitor cells', 'T cell']"
      ]
     },
     "execution_count": 8,
     "metadata": {},
     "output_type": "execute_result"
    }
   ],
   "source": [
    "pred_types_l1 = np.unique(pred_l1['Assignment']).tolist()\n",
    "pred_types_l1"
   ]
  },
  {
   "cell_type": "code",
   "execution_count": 9,
   "metadata": {},
   "outputs": [
    {
     "data": {
      "text/html": [
       "<div>\n",
       "<style scoped>\n",
       "    .dataframe tbody tr th:only-of-type {\n",
       "        vertical-align: middle;\n",
       "    }\n",
       "\n",
       "    .dataframe tbody tr th {\n",
       "        vertical-align: top;\n",
       "    }\n",
       "\n",
       "    .dataframe thead th {\n",
       "        text-align: right;\n",
       "    }\n",
       "</style>\n",
       "<table border=\"1\" class=\"dataframe\">\n",
       "  <thead>\n",
       "    <tr style=\"text-align: right;\">\n",
       "      <th>CellAssign predicted</th>\n",
       "      <th>B cell</th>\n",
       "      <th>Mono/DC</th>\n",
       "      <th>NK</th>\n",
       "      <th>Progenitor cells</th>\n",
       "      <th>T cell</th>\n",
       "    </tr>\n",
       "    <tr>\n",
       "      <th>True</th>\n",
       "      <th></th>\n",
       "      <th></th>\n",
       "      <th></th>\n",
       "      <th></th>\n",
       "      <th></th>\n",
       "    </tr>\n",
       "  </thead>\n",
       "  <tbody>\n",
       "    <tr>\n",
       "      <th>B cell</th>\n",
       "      <td>3676</td>\n",
       "      <td>8</td>\n",
       "      <td>8</td>\n",
       "      <td>1</td>\n",
       "      <td>60</td>\n",
       "    </tr>\n",
       "    <tr>\n",
       "      <th>Mono/DC</th>\n",
       "      <td>49</td>\n",
       "      <td>7414</td>\n",
       "      <td>211</td>\n",
       "      <td>43</td>\n",
       "      <td>12</td>\n",
       "    </tr>\n",
       "    <tr>\n",
       "      <th>NK</th>\n",
       "      <td>0</td>\n",
       "      <td>11</td>\n",
       "      <td>1381</td>\n",
       "      <td>1</td>\n",
       "      <td>17</td>\n",
       "    </tr>\n",
       "    <tr>\n",
       "      <th>Progenitor cells</th>\n",
       "      <td>67</td>\n",
       "      <td>784</td>\n",
       "      <td>23</td>\n",
       "      <td>1871</td>\n",
       "      <td>134</td>\n",
       "    </tr>\n",
       "    <tr>\n",
       "      <th>T cell</th>\n",
       "      <td>6</td>\n",
       "      <td>24</td>\n",
       "      <td>2329</td>\n",
       "      <td>26</td>\n",
       "      <td>12516</td>\n",
       "    </tr>\n",
       "  </tbody>\n",
       "</table>\n",
       "</div>"
      ],
      "text/plain": [
       "CellAssign predicted  B cell  Mono/DC    NK  Progenitor cells  T cell\n",
       "True                                                                 \n",
       "B cell                  3676        8     8                 1      60\n",
       "Mono/DC                   49     7414   211                43      12\n",
       "NK                         0       11  1381                 1      17\n",
       "Progenitor cells          67      784    23              1871     134\n",
       "T cell                     6       24  2329                26   12516"
      ]
     },
     "execution_count": 9,
     "metadata": {},
     "output_type": "execute_result"
    }
   ],
   "source": [
    "true_labels = adata.obs['celltype.l1']\n",
    "predicted_labels = pred_l1['Assignment']\n",
    "\n",
    "cm = pd.crosstab(true_labels, predicted_labels, rownames=['True'], colnames=['CellAssign predicted'], margins=False)\n",
    "# col_order = cm.columns.tolist()\n",
    "# col_order.append(col_order.pop(col_order.index('Basophils')))\n",
    "# cm = cm.reindex(col_order, axis=1)\n",
    "cm"
   ]
  },
  {
   "cell_type": "code",
   "execution_count": 10,
   "metadata": {},
   "outputs": [
    {
     "data": {
      "image/png": "[encoded data removed]",
      "text/plain": [
       "<Figure size 1000x700 with 2 Axes>"
      ]
     },
     "metadata": {},
     "output_type": "display_data"
    }
   ],
   "source": [
    "import seaborn as sns\n",
    "import matplotlib.pyplot as plt\n",
    "%matplotlib inline\n",
    "\n",
    "plt.figure(figsize=(10, 7))\n",
    "sns.heatmap(cm, annot=True, fmt='d', cmap='Blues')\n",
    "plt.title('CellAssign Annotation Confusion Matrix')\n",
    "plt.show()"
   ]
  },
  {
   "cell_type": "code",
   "execution_count": 11,
   "metadata": {},
   "outputs": [
    {
     "name": "stdout",
     "output_type": "stream",
     "text": [
      "Accuracy: 0.8756520605112155\n",
      "micro Precision: 0.8756520605112155\n",
      "micro F1 Score: 0.8756520605112155\n",
      "macro Precision: 0.8325807410753633\n",
      "macro F1 Score: 0.8198149211975856\n",
      "weighted Precision: 0.9289396630004281\n",
      "weighted F1 Score: 0.8896173770163193\n"
     ]
    }
   ],
   "source": [
    "from sklearn.metrics import accuracy_score, precision_score, f1_score\n",
    "\n",
    "accuracy = accuracy_score(true_labels, predicted_labels)\n",
    "print(\"Accuracy:\", accuracy)\n",
    "\n",
    "method = ['micro', 'macro', 'weighted']\n",
    "for m in method:\n",
    "    precision = precision_score(true_labels, predicted_labels, average=m)\n",
    "    print(f\"{m} Precision:\", precision)\n",
    "    f1 = f1_score(true_labels, predicted_labels, average=m)\n",
    "    print(f\"{m} F1 Score:\", f1)"
   ]
  },
  {
   "cell_type": "code",
   "execution_count": 12,
   "metadata": {},
   "outputs": [
    {
     "data": {
      "image/png": "[encoded data removed]",
      "text/plain": [
       "<Figure size 1000x700 with 2 Axes>"
      ]
     },
     "metadata": {},
     "output_type": "display_data"
    }
   ],
   "source": [
    "row_sum = cm.sum(axis=1)\n",
    "cm_proportion = cm.div(row_sum, axis=0) * 100\n",
    "plt.figure(figsize=(10, 7))\n",
    "sns.heatmap(cm_proportion, annot=True, fmt='.1f', cmap='Blues')\n",
    "plt.title('CellAssign Annotation Confusion Matrix (Proportion)')\n",
    "plt.show()"
   ]
  }
 ],
 "metadata": {
  "kernelspec": {
   "display_name": "Python 3",
   "language": "python",
   "name": "python3"
  },
  "language_info": {
   "codemirror_mode": {
    "name": "ipython",
    "version": 3
   },
   "file_extension": ".py",
   "mimetype": "text/x-python",
   "name": "python",
   "nbconvert_exporter": "python",
   "pygments_lexer": "ipython3",
   "version": "3.9.12"
  }
 },
 "nbformat": 4,
 "nbformat_minor": 2
}

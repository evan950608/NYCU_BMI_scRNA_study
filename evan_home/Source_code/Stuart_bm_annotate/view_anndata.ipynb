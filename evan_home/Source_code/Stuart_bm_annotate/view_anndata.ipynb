{
 "cells": [
  {
   "cell_type": "code",
   "execution_count": 1,
   "metadata": {},
   "outputs": [
    {
     "name": "stdout",
     "output_type": "stream",
     "text": [
      "Home Path: c:\\Users\\evanlee\\Documents\\Bmi_NAS_evan\\evan_home\n"
     ]
    }
   ],
   "source": [
    "from pathlib import Path\n",
    "\n",
    "# Get the current working directory as a Path object\n",
    "current_path = Path.cwd()\n",
    "home_folder = 'evan_home'\n",
    "\n",
    "# Traverse up the directory tree until you find the target folder\n",
    "for parent in [current_path] + list(current_path.parents):\n",
    "    if parent.name == home_folder:\n",
    "        home_path = parent\n",
    "        break\n",
    "else:\n",
    "    raise ValueError(f\"Folder '{home_folder}' not found in the current working directory.\")\n",
    "\n",
    "print(\"Home Path:\", home_path)\n",
    "source_code_dir = home_path / 'Source_code'\n",
    "dataset_dir = home_path / 'Dataset'\n"
   ]
  },
  {
   "cell_type": "code",
   "execution_count": 2,
   "metadata": {},
   "outputs": [],
   "source": [
    "import scanpy as sc\n",
    "import os\n",
    "import pandas as pd\n",
    "import numpy as np"
   ]
  },
  {
   "cell_type": "code",
   "execution_count": 3,
   "metadata": {},
   "outputs": [],
   "source": [
    "# os.chdir(r'C:\\Users\\evanlee\\Documents\\Research_datasets\\Stuart_bm')\n",
    "os.chdir(dataset_dir / 'Stuart_bm')"
   ]
  },
  {
   "cell_type": "code",
   "execution_count": 3,
   "metadata": {},
   "outputs": [
    {
     "data": {
      "text/plain": [
       "(30011, 17009)"
      ]
     },
     "execution_count": 3,
     "metadata": {},
     "output_type": "execute_result"
    }
   ],
   "source": [
    "adata_1 = sc.read_h5ad('Stuart_bm.h5ad')\n",
    "adata_1.shape"
   ]
  },
  {
   "cell_type": "code",
   "execution_count": 4,
   "metadata": {},
   "outputs": [
    {
     "data": {
      "text/html": [
       "<div>\n",
       "<style scoped>\n",
       "    .dataframe tbody tr th:only-of-type {\n",
       "        vertical-align: middle;\n",
       "    }\n",
       "\n",
       "    .dataframe tbody tr th {\n",
       "        vertical-align: top;\n",
       "    }\n",
       "\n",
       "    .dataframe thead th {\n",
       "        text-align: right;\n",
       "    }\n",
       "</style>\n",
       "<table border=\"1\" class=\"dataframe\">\n",
       "  <thead>\n",
       "    <tr style=\"text-align: right;\">\n",
       "      <th></th>\n",
       "      <th>celltype.l1</th>\n",
       "      <th>celltype.l2</th>\n",
       "      <th>nCount_RNA</th>\n",
       "      <th>nFeature_RNA</th>\n",
       "      <th>nCount_ADT</th>\n",
       "      <th>nFeature_ADT</th>\n",
       "      <th>lane</th>\n",
       "      <th>donor</th>\n",
       "      <th>RNA.weight</th>\n",
       "    </tr>\n",
       "  </thead>\n",
       "  <tbody>\n",
       "    <tr>\n",
       "      <th>a_AAACCTGAGCTTATCG.1</th>\n",
       "      <td>Progenitor cells</td>\n",
       "      <td>Prog_RBC</td>\n",
       "      <td>7546</td>\n",
       "      <td>2136</td>\n",
       "      <td>1350</td>\n",
       "      <td>25</td>\n",
       "      <td>HumanHTO4</td>\n",
       "      <td>batch1</td>\n",
       "      <td>0.487299</td>\n",
       "    </tr>\n",
       "    <tr>\n",
       "      <th>a_AAACCTGAGGTGGGTT.1</th>\n",
       "      <td>T cell</td>\n",
       "      <td>gdT</td>\n",
       "      <td>1029</td>\n",
       "      <td>437</td>\n",
       "      <td>2970</td>\n",
       "      <td>25</td>\n",
       "      <td>HumanHTO1</td>\n",
       "      <td>batch1</td>\n",
       "      <td>0.245543</td>\n",
       "    </tr>\n",
       "    <tr>\n",
       "      <th>a_AAACCTGAGTACATGA.1</th>\n",
       "      <td>T cell</td>\n",
       "      <td>CD4 Naive</td>\n",
       "      <td>1111</td>\n",
       "      <td>429</td>\n",
       "      <td>2474</td>\n",
       "      <td>23</td>\n",
       "      <td>HumanHTO5</td>\n",
       "      <td>batch1</td>\n",
       "      <td>0.501680</td>\n",
       "    </tr>\n",
       "    <tr>\n",
       "      <th>a_AAACCTGCAAACCTAC.1</th>\n",
       "      <td>T cell</td>\n",
       "      <td>CD4 Memory</td>\n",
       "      <td>2741</td>\n",
       "      <td>851</td>\n",
       "      <td>4799</td>\n",
       "      <td>25</td>\n",
       "      <td>HumanHTO3</td>\n",
       "      <td>batch1</td>\n",
       "      <td>0.431308</td>\n",
       "    </tr>\n",
       "    <tr>\n",
       "      <th>a_AAACCTGCAAGGTGTG.1</th>\n",
       "      <td>Mono/DC</td>\n",
       "      <td>CD14 Mono</td>\n",
       "      <td>2099</td>\n",
       "      <td>843</td>\n",
       "      <td>5434</td>\n",
       "      <td>25</td>\n",
       "      <td>HumanHTO2</td>\n",
       "      <td>batch1</td>\n",
       "      <td>0.572097</td>\n",
       "    </tr>\n",
       "  </tbody>\n",
       "</table>\n",
       "</div>"
      ],
      "text/plain": [
       "                           celltype.l1 celltype.l2  nCount_RNA  nFeature_RNA  \\\n",
       "a_AAACCTGAGCTTATCG.1  Progenitor cells    Prog_RBC        7546          2136   \n",
       "a_AAACCTGAGGTGGGTT.1            T cell         gdT        1029           437   \n",
       "a_AAACCTGAGTACATGA.1            T cell   CD4 Naive        1111           429   \n",
       "a_AAACCTGCAAACCTAC.1            T cell  CD4 Memory        2741           851   \n",
       "a_AAACCTGCAAGGTGTG.1           Mono/DC   CD14 Mono        2099           843   \n",
       "\n",
       "                      nCount_ADT  nFeature_ADT       lane   donor  RNA.weight  \n",
       "a_AAACCTGAGCTTATCG.1        1350            25  HumanHTO4  batch1    0.487299  \n",
       "a_AAACCTGAGGTGGGTT.1        2970            25  HumanHTO1  batch1    0.245543  \n",
       "a_AAACCTGAGTACATGA.1        2474            23  HumanHTO5  batch1    0.501680  \n",
       "a_AAACCTGCAAACCTAC.1        4799            25  HumanHTO3  batch1    0.431308  \n",
       "a_AAACCTGCAAGGTGTG.1        5434            25  HumanHTO2  batch1    0.572097  "
      ]
     },
     "execution_count": 4,
     "metadata": {},
     "output_type": "execute_result"
    }
   ],
   "source": [
    "adata_1.obs.head()"
   ]
  },
  {
   "cell_type": "code",
   "execution_count": 11,
   "metadata": {},
   "outputs": [
    {
     "data": {
      "text/html": [
       "<div>\n",
       "<style scoped>\n",
       "    .dataframe tbody tr th:only-of-type {\n",
       "        vertical-align: middle;\n",
       "    }\n",
       "\n",
       "    .dataframe tbody tr th {\n",
       "        vertical-align: top;\n",
       "    }\n",
       "\n",
       "    .dataframe thead th {\n",
       "        text-align: right;\n",
       "    }\n",
       "</style>\n",
       "<table border=\"1\" class=\"dataframe\">\n",
       "  <thead>\n",
       "    <tr style=\"text-align: right;\">\n",
       "      <th></th>\n",
       "    </tr>\n",
       "  </thead>\n",
       "  <tbody>\n",
       "    <tr>\n",
       "      <th>FO538757.2</th>\n",
       "    </tr>\n",
       "    <tr>\n",
       "      <th>AP006222.2</th>\n",
       "    </tr>\n",
       "    <tr>\n",
       "      <th>RP4-669L17.10</th>\n",
       "    </tr>\n",
       "    <tr>\n",
       "      <th>RP11-206L10.9</th>\n",
       "    </tr>\n",
       "    <tr>\n",
       "      <th>LINC00115</th>\n",
       "    </tr>\n",
       "  </tbody>\n",
       "</table>\n",
       "</div>"
      ],
      "text/plain": [
       "Empty DataFrame\n",
       "Columns: []\n",
       "Index: [FO538757.2, AP006222.2, RP4-669L17.10, RP11-206L10.9, LINC00115]"
      ]
     },
     "execution_count": 11,
     "metadata": {},
     "output_type": "execute_result"
    }
   ],
   "source": [
    "adata_1.var.head()"
   ]
  },
  {
   "cell_type": "code",
   "execution_count": null,
   "metadata": {},
   "outputs": [
    {
     "data": {
      "text/plain": [
       "['Progenitor cells', 'T cell', 'Mono/DC', 'B cell', 'NK']\n",
       "Categories (5, object): ['B cell', 'Mono/DC', 'NK', 'Progenitor cells', 'T cell']"
      ]
     },
     "execution_count": 5,
     "metadata": {},
     "output_type": "execute_result"
    }
   ],
   "source": [
    "adata_1.obs['celltype.l1'].unique()"
   ]
  },
  {
   "cell_type": "code",
   "execution_count": 25,
   "metadata": {},
   "outputs": [
    {
     "name": "stdout",
     "output_type": "stream",
     "text": [
      "Row 0, Column 23, Value 1.0\n",
      "Row 0, Column 31, Value 1.0\n",
      "Row 0, Column 49, Value 1.0\n",
      "Row 0, Column 50, Value 1.0\n",
      "Row 0, Column 58, Value 1.0\n",
      "Row 0, Column 59, Value 2.0\n",
      "Row 0, Column 75, Value 1.0\n",
      "Row 0, Column 77, Value 1.0\n",
      "Row 0, Column 78, Value 1.0\n",
      "Row 0, Column 84, Value 19.0\n",
      "Row 0, Column 88, Value 1.0\n",
      "Row 0, Column 94, Value 1.0\n",
      "Row 0, Column 101, Value 1.0\n",
      "Row 0, Column 106, Value 1.0\n",
      "Row 0, Column 108, Value 1.0\n",
      "Row 0, Column 110, Value 7.0\n",
      "Row 0, Column 136, Value 1.0\n",
      "Row 0, Column 138, Value 2.0\n",
      "Row 0, Column 147, Value 1.0\n",
      "Row 0, Column 162, Value 1.0\n"
     ]
    }
   ],
   "source": [
    "# Briefly view adata.X\n",
    "rows, cols = adata_1.X[:5,:].nonzero()\n",
    "i = 0\n",
    "for row, col in zip(rows, cols):\n",
    "    if i == 20: break\n",
    "    print(f'Row {row}, Column {col}, Value {adata_1.X[row, col]}')\n",
    "    i += 1\n"
   ]
  },
  {
   "cell_type": "code",
   "execution_count": 7,
   "metadata": {},
   "outputs": [
    {
     "data": {
      "text/plain": [
       "(30011, 17009)"
      ]
     },
     "execution_count": 7,
     "metadata": {},
     "output_type": "execute_result"
    }
   ],
   "source": [
    "adata_2 = sc.read_h5ad('Stuart_bm_v2.h5ad')\n",
    "adata_2.shape"
   ]
  },
  {
   "cell_type": "code",
   "execution_count": 8,
   "metadata": {},
   "outputs": [
    {
     "data": {
      "text/html": [
       "<div>\n",
       "<style scoped>\n",
       "    .dataframe tbody tr th:only-of-type {\n",
       "        vertical-align: middle;\n",
       "    }\n",
       "\n",
       "    .dataframe tbody tr th {\n",
       "        vertical-align: top;\n",
       "    }\n",
       "\n",
       "    .dataframe thead th {\n",
       "        text-align: right;\n",
       "    }\n",
       "</style>\n",
       "<table border=\"1\" class=\"dataframe\">\n",
       "  <thead>\n",
       "    <tr style=\"text-align: right;\">\n",
       "      <th></th>\n",
       "      <th>celltype.l1</th>\n",
       "      <th>celltype.l2</th>\n",
       "      <th>nCount_RNA</th>\n",
       "      <th>nFeature_RNA</th>\n",
       "      <th>nCount_ADT</th>\n",
       "      <th>nFeature_ADT</th>\n",
       "      <th>lane</th>\n",
       "      <th>donor</th>\n",
       "      <th>RNA.weight</th>\n",
       "    </tr>\n",
       "  </thead>\n",
       "  <tbody>\n",
       "    <tr>\n",
       "      <th>a_AAACCTGAGCTTATCG.1</th>\n",
       "      <td>Progenitor_cells</td>\n",
       "      <td>Prog_RBC</td>\n",
       "      <td>7546</td>\n",
       "      <td>2136</td>\n",
       "      <td>1350</td>\n",
       "      <td>25</td>\n",
       "      <td>HumanHTO4</td>\n",
       "      <td>batch1</td>\n",
       "      <td>0.487299</td>\n",
       "    </tr>\n",
       "    <tr>\n",
       "      <th>a_AAACCTGAGGTGGGTT.1</th>\n",
       "      <td>T_cell</td>\n",
       "      <td>gdT</td>\n",
       "      <td>1029</td>\n",
       "      <td>437</td>\n",
       "      <td>2970</td>\n",
       "      <td>25</td>\n",
       "      <td>HumanHTO1</td>\n",
       "      <td>batch1</td>\n",
       "      <td>0.245543</td>\n",
       "    </tr>\n",
       "    <tr>\n",
       "      <th>a_AAACCTGAGTACATGA.1</th>\n",
       "      <td>T_cell</td>\n",
       "      <td>CD4_Naive</td>\n",
       "      <td>1111</td>\n",
       "      <td>429</td>\n",
       "      <td>2474</td>\n",
       "      <td>23</td>\n",
       "      <td>HumanHTO5</td>\n",
       "      <td>batch1</td>\n",
       "      <td>0.501680</td>\n",
       "    </tr>\n",
       "    <tr>\n",
       "      <th>a_AAACCTGCAAACCTAC.1</th>\n",
       "      <td>T_cell</td>\n",
       "      <td>CD4_Memory</td>\n",
       "      <td>2741</td>\n",
       "      <td>851</td>\n",
       "      <td>4799</td>\n",
       "      <td>25</td>\n",
       "      <td>HumanHTO3</td>\n",
       "      <td>batch1</td>\n",
       "      <td>0.431308</td>\n",
       "    </tr>\n",
       "    <tr>\n",
       "      <th>a_AAACCTGCAAGGTGTG.1</th>\n",
       "      <td>Mono&amp;DC</td>\n",
       "      <td>CD14_Mono</td>\n",
       "      <td>2099</td>\n",
       "      <td>843</td>\n",
       "      <td>5434</td>\n",
       "      <td>25</td>\n",
       "      <td>HumanHTO2</td>\n",
       "      <td>batch1</td>\n",
       "      <td>0.572097</td>\n",
       "    </tr>\n",
       "  </tbody>\n",
       "</table>\n",
       "</div>"
      ],
      "text/plain": [
       "                           celltype.l1 celltype.l2  nCount_RNA  nFeature_RNA  \\\n",
       "a_AAACCTGAGCTTATCG.1  Progenitor_cells    Prog_RBC        7546          2136   \n",
       "a_AAACCTGAGGTGGGTT.1            T_cell         gdT        1029           437   \n",
       "a_AAACCTGAGTACATGA.1            T_cell   CD4_Naive        1111           429   \n",
       "a_AAACCTGCAAACCTAC.1            T_cell  CD4_Memory        2741           851   \n",
       "a_AAACCTGCAAGGTGTG.1           Mono&DC   CD14_Mono        2099           843   \n",
       "\n",
       "                      nCount_ADT  nFeature_ADT       lane   donor  RNA.weight  \n",
       "a_AAACCTGAGCTTATCG.1        1350            25  HumanHTO4  batch1    0.487299  \n",
       "a_AAACCTGAGGTGGGTT.1        2970            25  HumanHTO1  batch1    0.245543  \n",
       "a_AAACCTGAGTACATGA.1        2474            23  HumanHTO5  batch1    0.501680  \n",
       "a_AAACCTGCAAACCTAC.1        4799            25  HumanHTO3  batch1    0.431308  \n",
       "a_AAACCTGCAAGGTGTG.1        5434            25  HumanHTO2  batch1    0.572097  "
      ]
     },
     "execution_count": 8,
     "metadata": {},
     "output_type": "execute_result"
    }
   ],
   "source": [
    "adata_2.obs.head()"
   ]
  },
  {
   "cell_type": "code",
   "execution_count": 10,
   "metadata": {},
   "outputs": [
    {
     "data": {
      "text/html": [
       "<div>\n",
       "<style scoped>\n",
       "    .dataframe tbody tr th:only-of-type {\n",
       "        vertical-align: middle;\n",
       "    }\n",
       "\n",
       "    .dataframe tbody tr th {\n",
       "        vertical-align: top;\n",
       "    }\n",
       "\n",
       "    .dataframe thead th {\n",
       "        text-align: right;\n",
       "    }\n",
       "</style>\n",
       "<table border=\"1\" class=\"dataframe\">\n",
       "  <thead>\n",
       "    <tr style=\"text-align: right;\">\n",
       "      <th></th>\n",
       "    </tr>\n",
       "  </thead>\n",
       "  <tbody>\n",
       "    <tr>\n",
       "      <th>FO538757.2</th>\n",
       "    </tr>\n",
       "    <tr>\n",
       "      <th>AP006222.2</th>\n",
       "    </tr>\n",
       "    <tr>\n",
       "      <th>RP4-669L17.10</th>\n",
       "    </tr>\n",
       "    <tr>\n",
       "      <th>RP11-206L10.9</th>\n",
       "    </tr>\n",
       "    <tr>\n",
       "      <th>LINC00115</th>\n",
       "    </tr>\n",
       "  </tbody>\n",
       "</table>\n",
       "</div>"
      ],
      "text/plain": [
       "Empty DataFrame\n",
       "Columns: []\n",
       "Index: [FO538757.2, AP006222.2, RP4-669L17.10, RP11-206L10.9, LINC00115]"
      ]
     },
     "execution_count": 10,
     "metadata": {},
     "output_type": "execute_result"
    }
   ],
   "source": [
    "adata_2.var.head()"
   ]
  },
  {
   "cell_type": "markdown",
   "metadata": {},
   "source": [
    "## Converted from Seurat (Stuart_bmcite_RNAassay)"
   ]
  },
  {
   "cell_type": "code",
   "execution_count": 4,
   "metadata": {},
   "outputs": [
    {
     "data": {
      "text/plain": [
       "(30672, 17009)"
      ]
     },
     "execution_count": 4,
     "metadata": {},
     "output_type": "execute_result"
    }
   ],
   "source": [
    "# adata_3 = sc.read_h5ad(r\"C:\\Users\\evanlee\\Documents\\Research_datasets\\Stuart_bm\\Stuart_bmcite_RNAassay.h5ad\")\n",
    "adata_3 = sc.read_h5ad(dataset_dir / 'Stuart_bm/Stuart_bmcite_RNAassay.h5ad')\n",
    "adata_3.shape"
   ]
  },
  {
   "cell_type": "code",
   "execution_count": 12,
   "metadata": {},
   "outputs": [
    {
     "data": {
      "text/html": [
       "<div>\n",
       "<style scoped>\n",
       "    .dataframe tbody tr th:only-of-type {\n",
       "        vertical-align: middle;\n",
       "    }\n",
       "\n",
       "    .dataframe tbody tr th {\n",
       "        vertical-align: top;\n",
       "    }\n",
       "\n",
       "    .dataframe thead th {\n",
       "        text-align: right;\n",
       "    }\n",
       "</style>\n",
       "<table border=\"1\" class=\"dataframe\">\n",
       "  <thead>\n",
       "    <tr style=\"text-align: right;\">\n",
       "      <th></th>\n",
       "      <th>nCount_RNA</th>\n",
       "      <th>nFeature_RNA</th>\n",
       "      <th>nCount_ADT</th>\n",
       "      <th>nFeature_ADT</th>\n",
       "      <th>lane</th>\n",
       "      <th>donor</th>\n",
       "      <th>celltype.l1</th>\n",
       "      <th>celltype.l2</th>\n",
       "      <th>RNA.weight</th>\n",
       "      <th>ADT.weight</th>\n",
       "      <th>wsnn_res.2</th>\n",
       "      <th>seurat_clusters</th>\n",
       "    </tr>\n",
       "  </thead>\n",
       "  <tbody>\n",
       "    <tr>\n",
       "      <th>a_AAACCTGAGCTTATCG-1</th>\n",
       "      <td>7546.0</td>\n",
       "      <td>2136</td>\n",
       "      <td>1350.0</td>\n",
       "      <td>25</td>\n",
       "      <td>HumanHTO4</td>\n",
       "      <td>batch1</td>\n",
       "      <td>Progenitor cells</td>\n",
       "      <td>Prog_RBC</td>\n",
       "      <td>0.487299</td>\n",
       "      <td>0.512701</td>\n",
       "      <td>19</td>\n",
       "      <td>19</td>\n",
       "    </tr>\n",
       "    <tr>\n",
       "      <th>a_AAACCTGAGGTGGGTT-1</th>\n",
       "      <td>1029.0</td>\n",
       "      <td>437</td>\n",
       "      <td>2970.0</td>\n",
       "      <td>25</td>\n",
       "      <td>HumanHTO1</td>\n",
       "      <td>batch1</td>\n",
       "      <td>T cell</td>\n",
       "      <td>gdT</td>\n",
       "      <td>0.245543</td>\n",
       "      <td>0.754457</td>\n",
       "      <td>10</td>\n",
       "      <td>10</td>\n",
       "    </tr>\n",
       "    <tr>\n",
       "      <th>a_AAACCTGAGTACATGA-1</th>\n",
       "      <td>1111.0</td>\n",
       "      <td>429</td>\n",
       "      <td>2474.0</td>\n",
       "      <td>23</td>\n",
       "      <td>HumanHTO5</td>\n",
       "      <td>batch1</td>\n",
       "      <td>T cell</td>\n",
       "      <td>CD4 Naive</td>\n",
       "      <td>0.501680</td>\n",
       "      <td>0.498320</td>\n",
       "      <td>1</td>\n",
       "      <td>1</td>\n",
       "    </tr>\n",
       "    <tr>\n",
       "      <th>a_AAACCTGCAAACCTAC-1</th>\n",
       "      <td>2741.0</td>\n",
       "      <td>851</td>\n",
       "      <td>4799.0</td>\n",
       "      <td>25</td>\n",
       "      <td>HumanHTO3</td>\n",
       "      <td>batch1</td>\n",
       "      <td>T cell</td>\n",
       "      <td>CD4 Memory</td>\n",
       "      <td>0.431308</td>\n",
       "      <td>0.568692</td>\n",
       "      <td>4</td>\n",
       "      <td>4</td>\n",
       "    </tr>\n",
       "    <tr>\n",
       "      <th>a_AAACCTGCAAGGTGTG-1</th>\n",
       "      <td>2099.0</td>\n",
       "      <td>843</td>\n",
       "      <td>5434.0</td>\n",
       "      <td>25</td>\n",
       "      <td>HumanHTO2</td>\n",
       "      <td>batch1</td>\n",
       "      <td>Mono/DC</td>\n",
       "      <td>CD14 Mono</td>\n",
       "      <td>0.572097</td>\n",
       "      <td>0.427903</td>\n",
       "      <td>2</td>\n",
       "      <td>2</td>\n",
       "    </tr>\n",
       "  </tbody>\n",
       "</table>\n",
       "</div>"
      ],
      "text/plain": [
       "                      nCount_RNA  nFeature_RNA  nCount_ADT  nFeature_ADT  \\\n",
       "a_AAACCTGAGCTTATCG-1      7546.0          2136      1350.0            25   \n",
       "a_AAACCTGAGGTGGGTT-1      1029.0           437      2970.0            25   \n",
       "a_AAACCTGAGTACATGA-1      1111.0           429      2474.0            23   \n",
       "a_AAACCTGCAAACCTAC-1      2741.0           851      4799.0            25   \n",
       "a_AAACCTGCAAGGTGTG-1      2099.0           843      5434.0            25   \n",
       "\n",
       "                           lane   donor       celltype.l1 celltype.l2  \\\n",
       "a_AAACCTGAGCTTATCG-1  HumanHTO4  batch1  Progenitor cells    Prog_RBC   \n",
       "a_AAACCTGAGGTGGGTT-1  HumanHTO1  batch1            T cell         gdT   \n",
       "a_AAACCTGAGTACATGA-1  HumanHTO5  batch1            T cell   CD4 Naive   \n",
       "a_AAACCTGCAAACCTAC-1  HumanHTO3  batch1            T cell  CD4 Memory   \n",
       "a_AAACCTGCAAGGTGTG-1  HumanHTO2  batch1           Mono/DC   CD14 Mono   \n",
       "\n",
       "                      RNA.weight  ADT.weight wsnn_res.2 seurat_clusters  \n",
       "a_AAACCTGAGCTTATCG-1    0.487299    0.512701         19              19  \n",
       "a_AAACCTGAGGTGGGTT-1    0.245543    0.754457         10              10  \n",
       "a_AAACCTGAGTACATGA-1    0.501680    0.498320          1               1  \n",
       "a_AAACCTGCAAACCTAC-1    0.431308    0.568692          4               4  \n",
       "a_AAACCTGCAAGGTGTG-1    0.572097    0.427903          2               2  "
      ]
     },
     "execution_count": 12,
     "metadata": {},
     "output_type": "execute_result"
    }
   ],
   "source": [
    "adata_3.obs.head()"
   ]
  },
  {
   "cell_type": "code",
   "execution_count": 13,
   "metadata": {},
   "outputs": [
    {
     "data": {
      "text/html": [
       "<div>\n",
       "<style scoped>\n",
       "    .dataframe tbody tr th:only-of-type {\n",
       "        vertical-align: middle;\n",
       "    }\n",
       "\n",
       "    .dataframe tbody tr th {\n",
       "        vertical-align: top;\n",
       "    }\n",
       "\n",
       "    .dataframe thead th {\n",
       "        text-align: right;\n",
       "    }\n",
       "</style>\n",
       "<table border=\"1\" class=\"dataframe\">\n",
       "  <thead>\n",
       "    <tr style=\"text-align: right;\">\n",
       "      <th></th>\n",
       "      <th>vst.mean</th>\n",
       "      <th>vst.variance</th>\n",
       "      <th>vst.variance.expected</th>\n",
       "      <th>vst.variance.standardized</th>\n",
       "      <th>vst.variable</th>\n",
       "      <th>vf_vst_counts_mean</th>\n",
       "      <th>vf_vst_counts_variance</th>\n",
       "      <th>vf_vst_counts_variance.expected</th>\n",
       "      <th>vf_vst_counts_variance.standardized</th>\n",
       "      <th>vf_vst_counts_variable</th>\n",
       "      <th>vf_vst_counts_rank</th>\n",
       "      <th>var.features</th>\n",
       "      <th>var.features.rank</th>\n",
       "    </tr>\n",
       "  </thead>\n",
       "  <tbody>\n",
       "    <tr>\n",
       "      <th>0</th>\n",
       "      <td>0.079649</td>\n",
       "      <td>0.085175</td>\n",
       "      <td>0.104525</td>\n",
       "      <td>0.814878</td>\n",
       "      <td>False</td>\n",
       "      <td>0.079649</td>\n",
       "      <td>0.085175</td>\n",
       "      <td>0.104525</td>\n",
       "      <td>0.814878</td>\n",
       "      <td>False</td>\n",
       "      <td>-2147483648</td>\n",
       "      <td>NaN</td>\n",
       "      <td>-2147483648</td>\n",
       "    </tr>\n",
       "    <tr>\n",
       "      <th>1</th>\n",
       "      <td>0.019334</td>\n",
       "      <td>0.020460</td>\n",
       "      <td>0.021929</td>\n",
       "      <td>0.933021</td>\n",
       "      <td>False</td>\n",
       "      <td>0.019334</td>\n",
       "      <td>0.020460</td>\n",
       "      <td>0.021929</td>\n",
       "      <td>0.933021</td>\n",
       "      <td>False</td>\n",
       "      <td>-2147483648</td>\n",
       "      <td>NaN</td>\n",
       "      <td>-2147483648</td>\n",
       "    </tr>\n",
       "    <tr>\n",
       "      <th>2</th>\n",
       "      <td>0.000945</td>\n",
       "      <td>0.000945</td>\n",
       "      <td>0.001012</td>\n",
       "      <td>0.933808</td>\n",
       "      <td>False</td>\n",
       "      <td>0.000945</td>\n",
       "      <td>0.000945</td>\n",
       "      <td>0.001012</td>\n",
       "      <td>0.933808</td>\n",
       "      <td>False</td>\n",
       "      <td>-2147483648</td>\n",
       "      <td>NaN</td>\n",
       "      <td>-2147483648</td>\n",
       "    </tr>\n",
       "    <tr>\n",
       "      <th>3</th>\n",
       "      <td>0.015682</td>\n",
       "      <td>0.015632</td>\n",
       "      <td>0.017621</td>\n",
       "      <td>0.887135</td>\n",
       "      <td>False</td>\n",
       "      <td>0.015682</td>\n",
       "      <td>0.015632</td>\n",
       "      <td>0.017621</td>\n",
       "      <td>0.887135</td>\n",
       "      <td>False</td>\n",
       "      <td>-2147483648</td>\n",
       "      <td>NaN</td>\n",
       "      <td>-2147483648</td>\n",
       "    </tr>\n",
       "    <tr>\n",
       "      <th>4</th>\n",
       "      <td>0.004727</td>\n",
       "      <td>0.004836</td>\n",
       "      <td>0.005287</td>\n",
       "      <td>0.914594</td>\n",
       "      <td>False</td>\n",
       "      <td>0.004727</td>\n",
       "      <td>0.004836</td>\n",
       "      <td>0.005287</td>\n",
       "      <td>0.914594</td>\n",
       "      <td>False</td>\n",
       "      <td>-2147483648</td>\n",
       "      <td>NaN</td>\n",
       "      <td>-2147483648</td>\n",
       "    </tr>\n",
       "  </tbody>\n",
       "</table>\n",
       "</div>"
      ],
      "text/plain": [
       "   vst.mean  vst.variance  vst.variance.expected  vst.variance.standardized  \\\n",
       "0  0.079649      0.085175               0.104525                   0.814878   \n",
       "1  0.019334      0.020460               0.021929                   0.933021   \n",
       "2  0.000945      0.000945               0.001012                   0.933808   \n",
       "3  0.015682      0.015632               0.017621                   0.887135   \n",
       "4  0.004727      0.004836               0.005287                   0.914594   \n",
       "\n",
       "   vst.variable  vf_vst_counts_mean  vf_vst_counts_variance  \\\n",
       "0         False            0.079649                0.085175   \n",
       "1         False            0.019334                0.020460   \n",
       "2         False            0.000945                0.000945   \n",
       "3         False            0.015682                0.015632   \n",
       "4         False            0.004727                0.004836   \n",
       "\n",
       "   vf_vst_counts_variance.expected  vf_vst_counts_variance.standardized  \\\n",
       "0                         0.104525                             0.814878   \n",
       "1                         0.021929                             0.933021   \n",
       "2                         0.001012                             0.933808   \n",
       "3                         0.017621                             0.887135   \n",
       "4                         0.005287                             0.914594   \n",
       "\n",
       "   vf_vst_counts_variable  vf_vst_counts_rank var.features  var.features.rank  \n",
       "0                   False         -2147483648          NaN        -2147483648  \n",
       "1                   False         -2147483648          NaN        -2147483648  \n",
       "2                   False         -2147483648          NaN        -2147483648  \n",
       "3                   False         -2147483648          NaN        -2147483648  \n",
       "4                   False         -2147483648          NaN        -2147483648  "
      ]
     },
     "execution_count": 13,
     "metadata": {},
     "output_type": "execute_result"
    }
   ],
   "source": [
    "adata_3.var.head()"
   ]
  },
  {
   "cell_type": "code",
   "execution_count": 16,
   "metadata": {},
   "outputs": [
    {
     "data": {
      "text/plain": [
       "AxisArrays with keys: X_adt.umap, X_apca, X_pca, X_rna.umap, X_spca, X_wnn.umap"
      ]
     },
     "execution_count": 16,
     "metadata": {},
     "output_type": "execute_result"
    }
   ],
   "source": [
    "adata_3.obsm"
   ]
  },
  {
   "cell_type": "code",
   "execution_count": 24,
   "metadata": {},
   "outputs": [
    {
     "data": {
      "text/plain": [
       "<30672x17009 sparse matrix of type '<class 'numpy.float64'>'\n",
       "\twith 27198017 stored elements in Compressed Sparse Column format>"
      ]
     },
     "execution_count": 24,
     "metadata": {},
     "output_type": "execute_result"
    }
   ],
   "source": [
    "adata_3.layers['counts']"
   ]
  },
  {
   "cell_type": "code",
   "execution_count": 26,
   "metadata": {},
   "outputs": [
    {
     "name": "stdout",
     "output_type": "stream",
     "text": [
      "Row 0, Column 23, Value 0.8438083821640734\n",
      "Row 0, Column 31, Value 0.8438083821640734\n",
      "Row 0, Column 49, Value 0.8438083821640734\n",
      "Row 0, Column 50, Value 0.8438083821640734\n",
      "Row 0, Column 58, Value 0.8438083821640734\n",
      "Row 0, Column 59, Value 1.2948397129530214\n",
      "Row 0, Column 75, Value 0.8438083821640734\n",
      "Row 0, Column 77, Value 0.8438083821640734\n",
      "Row 0, Column 78, Value 0.8438083821640734\n",
      "Row 0, Column 84, Value 3.2649538470718156\n",
      "Row 0, Column 88, Value 0.8438083821640734\n",
      "Row 0, Column 94, Value 0.8438083821640734\n",
      "Row 0, Column 101, Value 0.8438083821640734\n",
      "Row 0, Column 106, Value 0.8438083821640734\n",
      "Row 0, Column 108, Value 0.8438083821640734\n",
      "Row 0, Column 110, Value 2.329853687124107\n",
      "Row 0, Column 136, Value 0.8438083821640734\n",
      "Row 0, Column 138, Value 1.2948397129530214\n",
      "Row 0, Column 147, Value 0.8438083821640734\n",
      "Row 0, Column 162, Value 0.8438083821640734\n"
     ]
    }
   ],
   "source": [
    "# Briefly view adata.X\n",
    "rows, cols = adata_3.X[:5,:].nonzero()\n",
    "i = 0\n",
    "for row, col in zip(rows, cols):\n",
    "    if i == 20: break\n",
    "    print(f'Row {row}, Column {col}, Value {adata_3.X[row, col]}')\n",
    "    i += 1\n"
   ]
  },
  {
   "cell_type": "code",
   "execution_count": 29,
   "metadata": {},
   "outputs": [
    {
     "name": "stdout",
     "output_type": "stream",
     "text": [
      "Row 0, Column 23, Value 1.0\n",
      "Row 0, Column 31, Value 1.0\n",
      "Row 0, Column 49, Value 1.0\n",
      "Row 0, Column 50, Value 1.0\n",
      "Row 0, Column 58, Value 1.0\n",
      "Row 0, Column 59, Value 2.0\n",
      "Row 0, Column 75, Value 1.0\n",
      "Row 0, Column 77, Value 1.0\n",
      "Row 0, Column 78, Value 1.0\n",
      "Row 0, Column 84, Value 19.0\n",
      "Row 0, Column 88, Value 1.0\n",
      "Row 0, Column 94, Value 1.0\n",
      "Row 0, Column 101, Value 1.0\n",
      "Row 0, Column 106, Value 1.0\n",
      "Row 0, Column 108, Value 1.0\n",
      "Row 0, Column 110, Value 7.0\n",
      "Row 0, Column 136, Value 1.0\n",
      "Row 0, Column 138, Value 2.0\n",
      "Row 0, Column 147, Value 1.0\n",
      "Row 0, Column 162, Value 1.0\n"
     ]
    }
   ],
   "source": [
    "# Briefly view adata.X\n",
    "rows, cols = adata_3.layers['counts'][:5,:].nonzero()\n",
    "i = 0\n",
    "for row, col in zip(rows, cols):\n",
    "    if i == 20: break\n",
    "    print(f'Row {row}, Column {col}, Value {adata_3.layers[\"counts\"][row, col]}')\n",
    "    i += 1\n"
   ]
  },
  {
   "cell_type": "markdown",
   "metadata": {},
   "source": [
    "## Converted from Seurat (Stuart_bmcite_RNAassay_original)"
   ]
  },
  {
   "cell_type": "code",
   "execution_count": 5,
   "metadata": {},
   "outputs": [
    {
     "data": {
      "text/plain": [
       "(30672, 17009)"
      ]
     },
     "execution_count": 5,
     "metadata": {},
     "output_type": "execute_result"
    }
   ],
   "source": [
    "# adata_4 = sc.read_h5ad(r\"C:\\Users\\evanlee\\Documents\\Research_datasets\\Stuart_bm\\Stuart_bmcite_RNAassay_original.h5ad\")\n",
    "adata_4 = sc.read_h5ad(dataset_dir / 'Stuart_bm/Stuart_bmcite_RNAassay_original.h5ad')\n",
    "adata_4.shape"
   ]
  },
  {
   "cell_type": "code",
   "execution_count": 3,
   "metadata": {},
   "outputs": [
    {
     "data": {
      "text/html": [
       "<div>\n",
       "<style scoped>\n",
       "    .dataframe tbody tr th:only-of-type {\n",
       "        vertical-align: middle;\n",
       "    }\n",
       "\n",
       "    .dataframe tbody tr th {\n",
       "        vertical-align: top;\n",
       "    }\n",
       "\n",
       "    .dataframe thead th {\n",
       "        text-align: right;\n",
       "    }\n",
       "</style>\n",
       "<table border=\"1\" class=\"dataframe\">\n",
       "  <thead>\n",
       "    <tr style=\"text-align: right;\">\n",
       "      <th></th>\n",
       "      <th>nCount_RNA</th>\n",
       "      <th>nFeature_RNA</th>\n",
       "      <th>nCount_ADT</th>\n",
       "      <th>nFeature_ADT</th>\n",
       "      <th>lane</th>\n",
       "      <th>donor</th>\n",
       "      <th>celltype.l1</th>\n",
       "      <th>celltype.l2</th>\n",
       "      <th>RNA.weight</th>\n",
       "    </tr>\n",
       "  </thead>\n",
       "  <tbody>\n",
       "    <tr>\n",
       "      <th>a_AAACCTGAGCTTATCG-1</th>\n",
       "      <td>7546.0</td>\n",
       "      <td>2136</td>\n",
       "      <td>1350.0</td>\n",
       "      <td>25</td>\n",
       "      <td>HumanHTO4</td>\n",
       "      <td>batch1</td>\n",
       "      <td>Progenitor cells</td>\n",
       "      <td>Prog_RBC</td>\n",
       "      <td>0.482701</td>\n",
       "    </tr>\n",
       "    <tr>\n",
       "      <th>a_AAACCTGAGGTGGGTT-1</th>\n",
       "      <td>1029.0</td>\n",
       "      <td>437</td>\n",
       "      <td>2970.0</td>\n",
       "      <td>25</td>\n",
       "      <td>HumanHTO1</td>\n",
       "      <td>batch1</td>\n",
       "      <td>T cell</td>\n",
       "      <td>gdT</td>\n",
       "      <td>0.241789</td>\n",
       "    </tr>\n",
       "    <tr>\n",
       "      <th>a_AAACCTGAGTACATGA-1</th>\n",
       "      <td>1111.0</td>\n",
       "      <td>429</td>\n",
       "      <td>2474.0</td>\n",
       "      <td>23</td>\n",
       "      <td>HumanHTO5</td>\n",
       "      <td>batch1</td>\n",
       "      <td>T cell</td>\n",
       "      <td>CD4 Naive</td>\n",
       "      <td>0.507714</td>\n",
       "    </tr>\n",
       "    <tr>\n",
       "      <th>a_AAACCTGCAAACCTAC-1</th>\n",
       "      <td>2741.0</td>\n",
       "      <td>851</td>\n",
       "      <td>4799.0</td>\n",
       "      <td>25</td>\n",
       "      <td>HumanHTO3</td>\n",
       "      <td>batch1</td>\n",
       "      <td>T cell</td>\n",
       "      <td>CD4 Memory</td>\n",
       "      <td>0.431308</td>\n",
       "    </tr>\n",
       "    <tr>\n",
       "      <th>a_AAACCTGCAAGGTGTG-1</th>\n",
       "      <td>2099.0</td>\n",
       "      <td>843</td>\n",
       "      <td>5434.0</td>\n",
       "      <td>25</td>\n",
       "      <td>HumanHTO2</td>\n",
       "      <td>batch1</td>\n",
       "      <td>Mono/DC</td>\n",
       "      <td>CD14 Mono</td>\n",
       "      <td>0.568508</td>\n",
       "    </tr>\n",
       "  </tbody>\n",
       "</table>\n",
       "</div>"
      ],
      "text/plain": [
       "                      nCount_RNA  nFeature_RNA  nCount_ADT  nFeature_ADT  \\\n",
       "a_AAACCTGAGCTTATCG-1      7546.0          2136      1350.0            25   \n",
       "a_AAACCTGAGGTGGGTT-1      1029.0           437      2970.0            25   \n",
       "a_AAACCTGAGTACATGA-1      1111.0           429      2474.0            23   \n",
       "a_AAACCTGCAAACCTAC-1      2741.0           851      4799.0            25   \n",
       "a_AAACCTGCAAGGTGTG-1      2099.0           843      5434.0            25   \n",
       "\n",
       "                           lane   donor       celltype.l1 celltype.l2  \\\n",
       "a_AAACCTGAGCTTATCG-1  HumanHTO4  batch1  Progenitor cells    Prog_RBC   \n",
       "a_AAACCTGAGGTGGGTT-1  HumanHTO1  batch1            T cell         gdT   \n",
       "a_AAACCTGAGTACATGA-1  HumanHTO5  batch1            T cell   CD4 Naive   \n",
       "a_AAACCTGCAAACCTAC-1  HumanHTO3  batch1            T cell  CD4 Memory   \n",
       "a_AAACCTGCAAGGTGTG-1  HumanHTO2  batch1           Mono/DC   CD14 Mono   \n",
       "\n",
       "                      RNA.weight  \n",
       "a_AAACCTGAGCTTATCG-1    0.482701  \n",
       "a_AAACCTGAGGTGGGTT-1    0.241789  \n",
       "a_AAACCTGAGTACATGA-1    0.507714  \n",
       "a_AAACCTGCAAACCTAC-1    0.431308  \n",
       "a_AAACCTGCAAGGTGTG-1    0.568508  "
      ]
     },
     "execution_count": 3,
     "metadata": {},
     "output_type": "execute_result"
    }
   ],
   "source": [
    "adata_4.obs.head()"
   ]
  },
  {
   "cell_type": "code",
   "execution_count": 4,
   "metadata": {},
   "outputs": [
    {
     "data": {
      "text/html": [
       "<div>\n",
       "<style scoped>\n",
       "    .dataframe tbody tr th:only-of-type {\n",
       "        vertical-align: middle;\n",
       "    }\n",
       "\n",
       "    .dataframe tbody tr th {\n",
       "        vertical-align: top;\n",
       "    }\n",
       "\n",
       "    .dataframe thead th {\n",
       "        text-align: right;\n",
       "    }\n",
       "</style>\n",
       "<table border=\"1\" class=\"dataframe\">\n",
       "  <thead>\n",
       "    <tr style=\"text-align: right;\">\n",
       "      <th></th>\n",
       "      <th>vst.mean</th>\n",
       "      <th>vst.variance</th>\n",
       "      <th>vst.variance.expected</th>\n",
       "      <th>vst.variance.standardized</th>\n",
       "      <th>vst.variable</th>\n",
       "      <th>var.features</th>\n",
       "      <th>var.features.rank</th>\n",
       "    </tr>\n",
       "  </thead>\n",
       "  <tbody>\n",
       "    <tr>\n",
       "      <th>FO538757.2</th>\n",
       "      <td>0.079649</td>\n",
       "      <td>0.085175</td>\n",
       "      <td>0.104525</td>\n",
       "      <td>0.814878</td>\n",
       "      <td>False</td>\n",
       "      <td>NaN</td>\n",
       "      <td>-2147483648</td>\n",
       "    </tr>\n",
       "    <tr>\n",
       "      <th>AP006222.2</th>\n",
       "      <td>0.019334</td>\n",
       "      <td>0.020460</td>\n",
       "      <td>0.021929</td>\n",
       "      <td>0.933021</td>\n",
       "      <td>False</td>\n",
       "      <td>NaN</td>\n",
       "      <td>-2147483648</td>\n",
       "    </tr>\n",
       "    <tr>\n",
       "      <th>RP4-669L17.10</th>\n",
       "      <td>0.000945</td>\n",
       "      <td>0.000945</td>\n",
       "      <td>0.001012</td>\n",
       "      <td>0.933808</td>\n",
       "      <td>False</td>\n",
       "      <td>NaN</td>\n",
       "      <td>-2147483648</td>\n",
       "    </tr>\n",
       "    <tr>\n",
       "      <th>RP11-206L10.9</th>\n",
       "      <td>0.015682</td>\n",
       "      <td>0.015632</td>\n",
       "      <td>0.017621</td>\n",
       "      <td>0.887135</td>\n",
       "      <td>False</td>\n",
       "      <td>NaN</td>\n",
       "      <td>-2147483648</td>\n",
       "    </tr>\n",
       "    <tr>\n",
       "      <th>LINC00115</th>\n",
       "      <td>0.004727</td>\n",
       "      <td>0.004836</td>\n",
       "      <td>0.005287</td>\n",
       "      <td>0.914594</td>\n",
       "      <td>False</td>\n",
       "      <td>NaN</td>\n",
       "      <td>-2147483648</td>\n",
       "    </tr>\n",
       "  </tbody>\n",
       "</table>\n",
       "</div>"
      ],
      "text/plain": [
       "               vst.mean  vst.variance  vst.variance.expected  \\\n",
       "FO538757.2     0.079649      0.085175               0.104525   \n",
       "AP006222.2     0.019334      0.020460               0.021929   \n",
       "RP4-669L17.10  0.000945      0.000945               0.001012   \n",
       "RP11-206L10.9  0.015682      0.015632               0.017621   \n",
       "LINC00115      0.004727      0.004836               0.005287   \n",
       "\n",
       "               vst.variance.standardized  vst.variable var.features  \\\n",
       "FO538757.2                      0.814878         False          NaN   \n",
       "AP006222.2                      0.933021         False          NaN   \n",
       "RP4-669L17.10                   0.933808         False          NaN   \n",
       "RP11-206L10.9                   0.887135         False          NaN   \n",
       "LINC00115                       0.914594         False          NaN   \n",
       "\n",
       "               var.features.rank  \n",
       "FO538757.2           -2147483648  \n",
       "AP006222.2           -2147483648  \n",
       "RP4-669L17.10        -2147483648  \n",
       "RP11-206L10.9        -2147483648  \n",
       "LINC00115            -2147483648  "
      ]
     },
     "execution_count": 4,
     "metadata": {},
     "output_type": "execute_result"
    }
   ],
   "source": [
    "adata_4.var.head()"
   ]
  },
  {
   "cell_type": "code",
   "execution_count": 5,
   "metadata": {},
   "outputs": [
    {
     "data": {
      "text/plain": [
       "AxisArrays with keys: X_spca"
      ]
     },
     "execution_count": 5,
     "metadata": {},
     "output_type": "execute_result"
    }
   ],
   "source": [
    "adata_4.obsm"
   ]
  },
  {
   "cell_type": "code",
   "execution_count": 6,
   "metadata": {},
   "outputs": [
    {
     "data": {
      "text/plain": [
       "<30672x17009 sparse matrix of type '<class 'numpy.float64'>'\n",
       "\twith 27198017 stored elements in Compressed Sparse Column format>"
      ]
     },
     "execution_count": 6,
     "metadata": {},
     "output_type": "execute_result"
    }
   ],
   "source": [
    "adata_4.layers['counts']"
   ]
  },
  {
   "cell_type": "code",
   "execution_count": 7,
   "metadata": {},
   "outputs": [
    {
     "data": {
      "text/plain": [
       "['Progenitor cells', 'T cell', 'Mono/DC', 'B cell', 'NK']\n",
       "Categories (5, object): ['B cell', 'Mono/DC', 'NK', 'Progenitor cells', 'T cell']"
      ]
     },
     "execution_count": 7,
     "metadata": {},
     "output_type": "execute_result"
    }
   ],
   "source": [
    "adata_4.obs['celltype.l1'].unique()"
   ]
  },
  {
   "cell_type": "code",
   "execution_count": 8,
   "metadata": {},
   "outputs": [
    {
     "name": "stdout",
     "output_type": "stream",
     "text": [
      "Prog_RBC\n",
      "gdT\n",
      "CD4 Naive\n",
      "CD4 Memory\n",
      "CD14 Mono\n",
      "Naive B\n",
      "CD8 Naive\n",
      "Treg\n",
      "CD8 Effector_2\n",
      "NK\n",
      "GMP\n",
      "CD8 Effector_1\n",
      "CD16 Mono\n",
      "pDC\n",
      "CD8 Memory_1\n",
      "MAIT\n",
      "Memory B\n",
      "cDC2\n",
      "CD56 bright NK\n",
      "Prog_B 2\n",
      "Prog_Mk\n",
      "CD8 Memory_2\n",
      "Plasmablast\n",
      "HSC\n",
      "LMPP\n",
      "Prog_DC\n",
      "Prog_B 1\n"
     ]
    }
   ],
   "source": [
    "for celltype in adata_4.obs['celltype.l2'].unique():\n",
    "    print(celltype)"
   ]
  },
  {
   "cell_type": "code",
   "execution_count": 9,
   "metadata": {},
   "outputs": [
    {
     "name": "stdout",
     "output_type": "stream",
     "text": [
      "Row 0, Column 23, Value 0.8438083821640734\n",
      "Row 0, Column 31, Value 0.8438083821640734\n",
      "Row 0, Column 49, Value 0.8438083821640734\n",
      "Row 0, Column 50, Value 0.8438083821640734\n",
      "Row 0, Column 58, Value 0.8438083821640734\n",
      "Row 0, Column 59, Value 1.2948397129530214\n",
      "Row 0, Column 75, Value 0.8438083821640734\n",
      "Row 0, Column 77, Value 0.8438083821640734\n",
      "Row 0, Column 78, Value 0.8438083821640734\n",
      "Row 0, Column 84, Value 3.2649538470718156\n",
      "Row 0, Column 88, Value 0.8438083821640734\n",
      "Row 0, Column 94, Value 0.8438083821640734\n",
      "Row 0, Column 101, Value 0.8438083821640734\n",
      "Row 0, Column 106, Value 0.8438083821640734\n",
      "Row 0, Column 108, Value 0.8438083821640734\n",
      "Row 0, Column 110, Value 2.329853687124107\n",
      "Row 0, Column 136, Value 0.8438083821640734\n",
      "Row 0, Column 138, Value 1.2948397129530214\n",
      "Row 0, Column 147, Value 0.8438083821640734\n",
      "Row 0, Column 162, Value 0.8438083821640734\n"
     ]
    }
   ],
   "source": [
    "# Briefly view adata.X\n",
    "rows, cols = adata_4.X[:5,:].nonzero()\n",
    "i = 0\n",
    "for row, col in zip(rows, cols):\n",
    "    if i == 20: break\n",
    "    print(f'Row {row}, Column {col}, Value {adata_4.X[row, col]}')\n",
    "    i += 1\n"
   ]
  },
  {
   "cell_type": "code",
   "execution_count": 10,
   "metadata": {},
   "outputs": [
    {
     "name": "stdout",
     "output_type": "stream",
     "text": [
      "Row 0, Column 23, Value 1.0\n",
      "Row 0, Column 31, Value 1.0\n",
      "Row 0, Column 49, Value 1.0\n",
      "Row 0, Column 50, Value 1.0\n",
      "Row 0, Column 58, Value 1.0\n",
      "Row 0, Column 59, Value 2.0\n",
      "Row 0, Column 75, Value 1.0\n",
      "Row 0, Column 77, Value 1.0\n",
      "Row 0, Column 78, Value 1.0\n",
      "Row 0, Column 84, Value 19.0\n",
      "Row 0, Column 88, Value 1.0\n",
      "Row 0, Column 94, Value 1.0\n",
      "Row 0, Column 101, Value 1.0\n",
      "Row 0, Column 106, Value 1.0\n",
      "Row 0, Column 108, Value 1.0\n",
      "Row 0, Column 110, Value 7.0\n",
      "Row 0, Column 136, Value 1.0\n",
      "Row 0, Column 138, Value 2.0\n",
      "Row 0, Column 147, Value 1.0\n",
      "Row 0, Column 162, Value 1.0\n"
     ]
    }
   ],
   "source": [
    "# Briefly view adata.X\n",
    "rows, cols = adata_4.layers['counts'][:5,:].nonzero()\n",
    "i = 0\n",
    "for row, col in zip(rows, cols):\n",
    "    if i == 20: break\n",
    "    print(f'Row {row}, Column {col}, Value {adata_4.layers[\"counts\"][row, col]}')\n",
    "    i += 1\n"
   ]
  },
  {
   "cell_type": "markdown",
   "metadata": {},
   "source": [
    "## Plot L1 & L2 cell counts"
   ]
  },
  {
   "cell_type": "code",
   "execution_count": 18,
   "metadata": {},
   "outputs": [
    {
     "data": {
      "image/png": "[encoded data removed]",
      "text/plain": [
       "<Figure size 800x500 with 1 Axes>"
      ]
     },
     "metadata": {},
     "output_type": "display_data"
    }
   ],
   "source": [
    "import matplotlib.pyplot as plt\n",
    "\n",
    "valuecounts_l1 = adata_4.obs['celltype.l1'].value_counts()\n",
    "# Plot the occurrences\n",
    "plt.figure(figsize=(8, 5))\n",
    "valuecounts_l1.plot(kind='bar')\n",
    "plt.title('Stuart PBMC cell counts')\n",
    "plt.xlabel('L1 cell types')\n",
    "plt.ylabel('Count')\n",
    "plt.xticks(rotation=0)\n",
    "plt.show()"
   ]
  },
  {
   "cell_type": "code",
   "execution_count": 20,
   "metadata": {},
   "outputs": [
    {
     "data": {
      "image/png": "[encoded data removed]",
      "text/plain": [
       "<Figure size 800x500 with 1 Axes>"
      ]
     },
     "metadata": {},
     "output_type": "display_data"
    }
   ],
   "source": [
    "valuecounts_l2 = adata_4.obs['celltype.l2'].value_counts()\n",
    "# Plot the occurrences\n",
    "plt.figure(figsize=(8, 5))\n",
    "valuecounts_l2.plot(kind='bar')\n",
    "plt.title('Stuart PBMC cell counts')\n",
    "plt.xlabel('L2 cell types')\n",
    "plt.ylabel('Count')\n",
    "plt.xticks(rotation=90)\n",
    "plt.show()"
   ]
  }
 ],
 "metadata": {
  "kernelspec": {
   "display_name": "Python 3",
   "language": "python",
   "name": "python3"
  },
  "language_info": {
   "codemirror_mode": {
    "name": "ipython",
    "version": 3
   },
   "file_extension": ".py",
   "mimetype": "text/x-python",
   "name": "python",
   "nbconvert_exporter": "python",
   "pygments_lexer": "ipython3",
   "version": "3.9.12"
  }
 },
 "nbformat": 4,
 "nbformat_minor": 2
}

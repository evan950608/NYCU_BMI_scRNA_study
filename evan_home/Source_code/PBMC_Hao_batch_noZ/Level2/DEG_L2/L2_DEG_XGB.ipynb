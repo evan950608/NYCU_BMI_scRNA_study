{
 "cells": [
  {
   "cell_type": "code",
   "execution_count": 1,
   "metadata": {},
   "outputs": [
    {
     "name": "stdout",
     "output_type": "stream",
     "text": [
      "Home Path: c:\\Users\\evanlee\\Documents\\Bmi_NAS_evan\\evan_home\n"
     ]
    }
   ],
   "source": [
    "from pathlib import Path\n",
    "\n",
    "# Get the current working directory as a Path object\n",
    "current_path = Path.cwd()\n",
    "home_folder = 'evan_home'\n",
    "\n",
    "# Traverse up the directory tree until you find the target folder\n",
    "for parent in [current_path] + list(current_path.parents):\n",
    "    if parent.name == home_folder:\n",
    "        home_path = parent\n",
    "        break\n",
    "else:\n",
    "    raise ValueError(f\"Folder '{home_folder}' not found in the current working directory.\")\n",
    "\n",
    "print(\"Home Path:\", home_path)\n",
    "source_code_dir = home_path / 'Source_code'\n",
    "dataset_dir = home_path / 'Dataset'\n"
   ]
  },
  {
   "cell_type": "code",
   "execution_count": 2,
   "metadata": {},
   "outputs": [],
   "source": [
    "import numpy as np\n",
    "import matplotlib.pyplot as plt\n",
    "import pandas as pd\n",
    "import json\n",
    "import pickle\n",
    "import xgboost as xgb"
   ]
  },
  {
   "cell_type": "code",
   "execution_count": 3,
   "metadata": {},
   "outputs": [
    {
     "name": "stdout",
     "output_type": "stream",
     "text": [
      "Original adata: (161764, 33538)\n",
      "all cell types: ['ASDC', 'B_intermediate', 'B_memory', 'B_naive', 'CD14_Mono', 'CD16_Mono', 'CD4_CTL', 'CD4_Naive', 'CD4_Proliferating', 'CD4_TCM', 'CD4_TEM', 'CD8_Naive', 'CD8_Proliferating', 'CD8_TCM', 'CD8_TEM', 'Doublet', 'Eryth', 'HSPC', 'ILC', 'MAIT', 'NK', 'NK_CD56bright', 'NK_Proliferating', 'Plasmablast', 'Platelet', 'Treg', 'cDC1', 'cDC2', 'dnT', 'gdT', 'pDC']\n",
      "====================\n"
     ]
    }
   ],
   "source": [
    "import scanpy as sc\n",
    "\n",
    "# adata = sc.read_h5ad(r\"C:\\Users\\evanlee\\Documents\\Research_datasets\\PBMC_Hao\\GSE164378_Hao\\Harmony_noZ\\Hao_Harmony_test_no_scale.h5ad\")\n",
    "# adata = sc.read_h5ad('/Users/evanli/Documents/Research_datasets/PBMC_Hao/GSE164378_Hao/Harmony_noZ/Hao_Harmony_test_no_scale.h5ad')\n",
    "adata = sc.read_h5ad(dataset_dir / 'PBMC_Hao/GSE164378_Hao/Harmony_noZ/Hao_Harmony_test_no_scale.h5ad')\n",
    "print('Original adata:', adata.shape)\n",
    "adata.obs['celltype.l2'] = adata.obs['celltype.l2'].str.replace(' ', '_')\n",
    "label = adata.obs['celltype.l2'].tolist()\n",
    "types = np.unique(label).tolist()\n",
    "print('all cell types:', types)\n",
    "print('====================')\n",
    "# del adata\n"
   ]
  },
  {
   "cell_type": "code",
   "execution_count": 3,
   "metadata": {},
   "outputs": [
    {
     "data": {
      "text/html": [
       "<div>\n",
       "<style scoped>\n",
       "    .dataframe tbody tr th:only-of-type {\n",
       "        vertical-align: middle;\n",
       "    }\n",
       "\n",
       "    .dataframe tbody tr th {\n",
       "        vertical-align: top;\n",
       "    }\n",
       "\n",
       "    .dataframe thead th {\n",
       "        text-align: right;\n",
       "    }\n",
       "</style>\n",
       "<table border=\"1\" class=\"dataframe\">\n",
       "  <thead>\n",
       "    <tr style=\"text-align: right;\">\n",
       "      <th></th>\n",
       "      <th>celltype.l1</th>\n",
       "      <th>celltype.l2</th>\n",
       "      <th>celltype.l3</th>\n",
       "      <th>Batch</th>\n",
       "      <th>donor</th>\n",
       "      <th>time</th>\n",
       "      <th>lane</th>\n",
       "      <th>Phase</th>\n",
       "      <th>nCount_ADT</th>\n",
       "      <th>nFeature_ADT</th>\n",
       "      <th>nCount_RNA</th>\n",
       "      <th>nFeature_RNA</th>\n",
       "      <th>leiden</th>\n",
       "    </tr>\n",
       "  </thead>\n",
       "  <tbody>\n",
       "    <tr>\n",
       "      <th>L1_AAACCCAAGAAACTCA</th>\n",
       "      <td>Mono</td>\n",
       "      <td>CD14_Mono</td>\n",
       "      <td>CD14 Mono</td>\n",
       "      <td>Batch1</td>\n",
       "      <td>P2</td>\n",
       "      <td>7</td>\n",
       "      <td>L1</td>\n",
       "      <td>G1</td>\n",
       "      <td>7535</td>\n",
       "      <td>217</td>\n",
       "      <td>10823</td>\n",
       "      <td>2915</td>\n",
       "      <td>4</td>\n",
       "    </tr>\n",
       "    <tr>\n",
       "      <th>L1_AAACCCAAGACATACA</th>\n",
       "      <td>CD4 T</td>\n",
       "      <td>CD4_TCM</td>\n",
       "      <td>CD4 TCM_1</td>\n",
       "      <td>Batch1</td>\n",
       "      <td>P1</td>\n",
       "      <td>7</td>\n",
       "      <td>L1</td>\n",
       "      <td>G1</td>\n",
       "      <td>6013</td>\n",
       "      <td>209</td>\n",
       "      <td>5864</td>\n",
       "      <td>1617</td>\n",
       "      <td>2</td>\n",
       "    </tr>\n",
       "    <tr>\n",
       "      <th>L1_AAACCCACAACTGGTT</th>\n",
       "      <td>CD8 T</td>\n",
       "      <td>CD8_Naive</td>\n",
       "      <td>CD8 Naive</td>\n",
       "      <td>Batch1</td>\n",
       "      <td>P4</td>\n",
       "      <td>2</td>\n",
       "      <td>L1</td>\n",
       "      <td>S</td>\n",
       "      <td>6620</td>\n",
       "      <td>213</td>\n",
       "      <td>5067</td>\n",
       "      <td>1381</td>\n",
       "      <td>5</td>\n",
       "    </tr>\n",
       "    <tr>\n",
       "      <th>L1_AAACCCACACGTACTA</th>\n",
       "      <td>NK</td>\n",
       "      <td>NK</td>\n",
       "      <td>NK_2</td>\n",
       "      <td>Batch1</td>\n",
       "      <td>P3</td>\n",
       "      <td>7</td>\n",
       "      <td>L1</td>\n",
       "      <td>G1</td>\n",
       "      <td>3567</td>\n",
       "      <td>202</td>\n",
       "      <td>4786</td>\n",
       "      <td>1890</td>\n",
       "      <td>3</td>\n",
       "    </tr>\n",
       "    <tr>\n",
       "      <th>L1_AAACCCACAGCATACT</th>\n",
       "      <td>CD8 T</td>\n",
       "      <td>CD8_Naive</td>\n",
       "      <td>CD8 Naive</td>\n",
       "      <td>Batch1</td>\n",
       "      <td>P4</td>\n",
       "      <td>7</td>\n",
       "      <td>L1</td>\n",
       "      <td>G1</td>\n",
       "      <td>6402</td>\n",
       "      <td>215</td>\n",
       "      <td>6505</td>\n",
       "      <td>1621</td>\n",
       "      <td>5</td>\n",
       "    </tr>\n",
       "  </tbody>\n",
       "</table>\n",
       "</div>"
      ],
      "text/plain": [
       "                    celltype.l1 celltype.l2 celltype.l3   Batch donor  time  \\\n",
       "L1_AAACCCAAGAAACTCA        Mono   CD14_Mono   CD14 Mono  Batch1    P2     7   \n",
       "L1_AAACCCAAGACATACA       CD4 T     CD4_TCM   CD4 TCM_1  Batch1    P1     7   \n",
       "L1_AAACCCACAACTGGTT       CD8 T   CD8_Naive   CD8 Naive  Batch1    P4     2   \n",
       "L1_AAACCCACACGTACTA          NK          NK        NK_2  Batch1    P3     7   \n",
       "L1_AAACCCACAGCATACT       CD8 T   CD8_Naive   CD8 Naive  Batch1    P4     7   \n",
       "\n",
       "                    lane Phase  nCount_ADT  nFeature_ADT  nCount_RNA  \\\n",
       "L1_AAACCCAAGAAACTCA   L1    G1        7535           217       10823   \n",
       "L1_AAACCCAAGACATACA   L1    G1        6013           209        5864   \n",
       "L1_AAACCCACAACTGGTT   L1     S        6620           213        5067   \n",
       "L1_AAACCCACACGTACTA   L1    G1        3567           202        4786   \n",
       "L1_AAACCCACAGCATACT   L1    G1        6402           215        6505   \n",
       "\n",
       "                     nFeature_RNA leiden  \n",
       "L1_AAACCCAAGAAACTCA          2915      4  \n",
       "L1_AAACCCAAGACATACA          1617      2  \n",
       "L1_AAACCCACAACTGGTT          1381      5  \n",
       "L1_AAACCCACACGTACTA          1890      3  \n",
       "L1_AAACCCACAGCATACT          1621      5  "
      ]
     },
     "execution_count": 3,
     "metadata": {},
     "output_type": "execute_result"
    }
   ],
   "source": [
    "adata.obs.head()"
   ]
  },
  {
   "cell_type": "markdown",
   "metadata": {},
   "source": [
    "## Read features"
   ]
  },
  {
   "cell_type": "code",
   "execution_count": 4,
   "metadata": {},
   "outputs": [],
   "source": [
    "import os\n",
    "# os.chdir(r\"C:\\Users\\evanlee\\Documents\\GitHub\\EvanPys\\Progress\\PBMC_Hao_batch_noZ\\Level2\\feature_selection_k3\")\n",
    "# os.chdir('/Users/evanli/Documents/EvanPys/Progress/PBMC_Hao_batch_noZ/Level1/feature_selection_k3')\n",
    "os.chdir(source_code_dir / 'PBMC_Hao_batch_noZ/Level2/feature_selection_k3')\n",
    "\n",
    "features_dict = {}\n",
    "# Read features for each celltype\n",
    "for celltype in types:\n",
    "    try:\n",
    "        feature_df = pd.read_csv(f'{celltype}_features.txt', names=['Gene', 'Weight', 'Tendency'], sep='\\t')\n",
    "        features_dict[celltype] = feature_df\n",
    "    except:\n",
    "        print('skipping:', celltype)\n",
    "        continue"
   ]
  },
  {
   "cell_type": "code",
   "execution_count": 5,
   "metadata": {},
   "outputs": [
    {
     "data": {
      "text/plain": [
       "dict_keys(['ASDC', 'B_intermediate', 'B_memory', 'B_naive', 'CD14_Mono', 'CD16_Mono', 'CD4_CTL', 'CD4_Naive', 'CD4_Proliferating', 'CD4_TCM', 'CD4_TEM', 'CD8_Naive', 'CD8_Proliferating', 'CD8_TCM', 'CD8_TEM', 'Doublet', 'Eryth', 'HSPC', 'ILC', 'MAIT', 'NK', 'NK_CD56bright', 'NK_Proliferating', 'Plasmablast', 'Platelet', 'Treg', 'cDC1', 'cDC2', 'dnT', 'gdT', 'pDC'])"
      ]
     },
     "execution_count": 5,
     "metadata": {},
     "output_type": "execute_result"
    }
   ],
   "source": [
    "features_dict.keys()"
   ]
  },
  {
   "cell_type": "code",
   "execution_count": 6,
   "metadata": {},
   "outputs": [
    {
     "data": {
      "text/html": [
       "<div>\n",
       "<style scoped>\n",
       "    .dataframe tbody tr th:only-of-type {\n",
       "        vertical-align: middle;\n",
       "    }\n",
       "\n",
       "    .dataframe tbody tr th {\n",
       "        vertical-align: top;\n",
       "    }\n",
       "\n",
       "    .dataframe thead th {\n",
       "        text-align: right;\n",
       "    }\n",
       "</style>\n",
       "<table border=\"1\" class=\"dataframe\">\n",
       "  <thead>\n",
       "    <tr style=\"text-align: right;\">\n",
       "      <th></th>\n",
       "      <th>Feature_count</th>\n",
       "      <th>Positive_feature_count</th>\n",
       "    </tr>\n",
       "  </thead>\n",
       "  <tbody>\n",
       "    <tr>\n",
       "      <th>ASDC</th>\n",
       "      <td>47</td>\n",
       "      <td>25</td>\n",
       "    </tr>\n",
       "    <tr>\n",
       "      <th>B_intermediate</th>\n",
       "      <td>96</td>\n",
       "      <td>49</td>\n",
       "    </tr>\n",
       "    <tr>\n",
       "      <th>B_memory</th>\n",
       "      <td>170</td>\n",
       "      <td>90</td>\n",
       "    </tr>\n",
       "    <tr>\n",
       "      <th>B_naive</th>\n",
       "      <td>9</td>\n",
       "      <td>6</td>\n",
       "    </tr>\n",
       "    <tr>\n",
       "      <th>CD14_Mono</th>\n",
       "      <td>29</td>\n",
       "      <td>16</td>\n",
       "    </tr>\n",
       "    <tr>\n",
       "      <th>CD16_Mono</th>\n",
       "      <td>37</td>\n",
       "      <td>17</td>\n",
       "    </tr>\n",
       "    <tr>\n",
       "      <th>CD4_CTL</th>\n",
       "      <td>122</td>\n",
       "      <td>45</td>\n",
       "    </tr>\n",
       "    <tr>\n",
       "      <th>CD4_Naive</th>\n",
       "      <td>730</td>\n",
       "      <td>393</td>\n",
       "    </tr>\n",
       "    <tr>\n",
       "      <th>CD4_Proliferating</th>\n",
       "      <td>70</td>\n",
       "      <td>35</td>\n",
       "    </tr>\n",
       "    <tr>\n",
       "      <th>CD4_TCM</th>\n",
       "      <td>247</td>\n",
       "      <td>133</td>\n",
       "    </tr>\n",
       "    <tr>\n",
       "      <th>CD4_TEM</th>\n",
       "      <td>214</td>\n",
       "      <td>112</td>\n",
       "    </tr>\n",
       "    <tr>\n",
       "      <th>CD8_Naive</th>\n",
       "      <td>271</td>\n",
       "      <td>169</td>\n",
       "    </tr>\n",
       "    <tr>\n",
       "      <th>CD8_Proliferating</th>\n",
       "      <td>94</td>\n",
       "      <td>37</td>\n",
       "    </tr>\n",
       "    <tr>\n",
       "      <th>CD8_TCM</th>\n",
       "      <td>313</td>\n",
       "      <td>120</td>\n",
       "    </tr>\n",
       "    <tr>\n",
       "      <th>CD8_TEM</th>\n",
       "      <td>108</td>\n",
       "      <td>41</td>\n",
       "    </tr>\n",
       "    <tr>\n",
       "      <th>Doublet</th>\n",
       "      <td>28</td>\n",
       "      <td>13</td>\n",
       "    </tr>\n",
       "    <tr>\n",
       "      <th>Eryth</th>\n",
       "      <td>6</td>\n",
       "      <td>2</td>\n",
       "    </tr>\n",
       "    <tr>\n",
       "      <th>HSPC</th>\n",
       "      <td>20</td>\n",
       "      <td>12</td>\n",
       "    </tr>\n",
       "    <tr>\n",
       "      <th>ILC</th>\n",
       "      <td>76</td>\n",
       "      <td>30</td>\n",
       "    </tr>\n",
       "    <tr>\n",
       "      <th>MAIT</th>\n",
       "      <td>88</td>\n",
       "      <td>44</td>\n",
       "    </tr>\n",
       "    <tr>\n",
       "      <th>NK</th>\n",
       "      <td>30</td>\n",
       "      <td>15</td>\n",
       "    </tr>\n",
       "    <tr>\n",
       "      <th>NK_CD56bright</th>\n",
       "      <td>100</td>\n",
       "      <td>59</td>\n",
       "    </tr>\n",
       "    <tr>\n",
       "      <th>NK_Proliferating</th>\n",
       "      <td>59</td>\n",
       "      <td>28</td>\n",
       "    </tr>\n",
       "    <tr>\n",
       "      <th>Plasmablast</th>\n",
       "      <td>15</td>\n",
       "      <td>7</td>\n",
       "    </tr>\n",
       "    <tr>\n",
       "      <th>Platelet</th>\n",
       "      <td>4</td>\n",
       "      <td>3</td>\n",
       "    </tr>\n",
       "    <tr>\n",
       "      <th>Treg</th>\n",
       "      <td>168</td>\n",
       "      <td>78</td>\n",
       "    </tr>\n",
       "    <tr>\n",
       "      <th>cDC1</th>\n",
       "      <td>37</td>\n",
       "      <td>17</td>\n",
       "    </tr>\n",
       "    <tr>\n",
       "      <th>cDC2</th>\n",
       "      <td>12</td>\n",
       "      <td>9</td>\n",
       "    </tr>\n",
       "    <tr>\n",
       "      <th>dnT</th>\n",
       "      <td>45</td>\n",
       "      <td>15</td>\n",
       "    </tr>\n",
       "    <tr>\n",
       "      <th>gdT</th>\n",
       "      <td>22</td>\n",
       "      <td>10</td>\n",
       "    </tr>\n",
       "    <tr>\n",
       "      <th>pDC</th>\n",
       "      <td>18</td>\n",
       "      <td>8</td>\n",
       "    </tr>\n",
       "  </tbody>\n",
       "</table>\n",
       "</div>"
      ],
      "text/plain": [
       "                   Feature_count  Positive_feature_count\n",
       "ASDC                          47                      25\n",
       "B_intermediate                96                      49\n",
       "B_memory                     170                      90\n",
       "B_naive                        9                       6\n",
       "CD14_Mono                     29                      16\n",
       "CD16_Mono                     37                      17\n",
       "CD4_CTL                      122                      45\n",
       "CD4_Naive                    730                     393\n",
       "CD4_Proliferating             70                      35\n",
       "CD4_TCM                      247                     133\n",
       "CD4_TEM                      214                     112\n",
       "CD8_Naive                    271                     169\n",
       "CD8_Proliferating             94                      37\n",
       "CD8_TCM                      313                     120\n",
       "CD8_TEM                      108                      41\n",
       "Doublet                       28                      13\n",
       "Eryth                          6                       2\n",
       "HSPC                          20                      12\n",
       "ILC                           76                      30\n",
       "MAIT                          88                      44\n",
       "NK                            30                      15\n",
       "NK_CD56bright                100                      59\n",
       "NK_Proliferating              59                      28\n",
       "Plasmablast                   15                       7\n",
       "Platelet                       4                       3\n",
       "Treg                         168                      78\n",
       "cDC1                          37                      17\n",
       "cDC2                          12                       9\n",
       "dnT                           45                      15\n",
       "gdT                           22                      10\n",
       "pDC                           18                       8"
      ]
     },
     "execution_count": 6,
     "metadata": {},
     "output_type": "execute_result"
    }
   ],
   "source": [
    "count_df = pd.DataFrame(columns=['Feature_count', 'Positive_feature_count'])\n",
    "for celltype in features_dict.keys():\n",
    "    feature_df = features_dict[celltype]\n",
    "    feature_count = feature_df.shape[0]\n",
    "    positive_count = feature_df[feature_df['Tendency'] == 1].shape[0]\n",
    "    count_df.loc[celltype] = [feature_count, positive_count]\n",
    "count_df"
   ]
  },
  {
   "cell_type": "code",
   "execution_count": 7,
   "metadata": {},
   "outputs": [],
   "source": [
    "# os.chdir(r\"C:\\Users\\evanlee\\Documents\\GitHub\\EvanPys\\Progress\\PBMC_Hao_batch_noZ\\Level2\\DEG_L2\\L2_DEG_table\")\n",
    "os.chdir(source_code_dir / 'PBMC_Hao_batch_noZ/Level2/DEG_L2/L2_DEG_table')\n",
    "deg_dict = {}\n",
    "for celltype in types:\n",
    "    DEG_table = pd.read_csv(celltype + '_DEG1000.csv', index_col=0)\n",
    "    n_features = count_df.loc[celltype, 'Feature_count']\n",
    "    DEGn = DEG_table['names'][:n_features].tolist()\n",
    "\n",
    "    deg_dict[celltype] = DEGn"
   ]
  },
  {
   "cell_type": "code",
   "execution_count": 9,
   "metadata": {},
   "outputs": [
    {
     "data": {
      "text/plain": [
       "['IGHM', 'IGHD', 'CD79A', 'CD37', 'MS4A1', 'CD74', 'TCL1A', 'CD79B', 'RALGPS2']"
      ]
     },
     "execution_count": 9,
     "metadata": {},
     "output_type": "execute_result"
    }
   ],
   "source": [
    "deg_dict['B_naive']"
   ]
  },
  {
   "cell_type": "markdown",
   "metadata": {},
   "source": [
    "## XGBoost"
   ]
  },
  {
   "cell_type": "code",
   "execution_count": 8,
   "metadata": {},
   "outputs": [
    {
     "data": {
      "text/plain": [
       "<module 'evan_library.evan_models' from 'c:\\\\Users\\\\evanlee\\\\Documents\\\\Bmi_NAS_evan\\\\evan_home\\\\Source_code\\\\evan_library\\\\evan_models.py'>"
      ]
     },
     "execution_count": 8,
     "metadata": {},
     "output_type": "execute_result"
    }
   ],
   "source": [
    "import os\n",
    "import sys\n",
    "import importlib\n",
    "# sys.path.append('/Users/evanli/Documents/EvanPys/Progress')\n",
    "# sys.path.append('/home/jovyan/work/GitHub/EvanPys/Progress')\n",
    "# sys.path.append(r'C:\\Users\\evanlee\\Documents\\GitHub\\EvanPys\\Progress')\n",
    "sys.path.append(str(source_code_dir))\n",
    "from evan_library import evan_models as emd\n",
    "importlib.reload(emd)\n"
   ]
  },
  {
   "cell_type": "code",
   "execution_count": 9,
   "metadata": {},
   "outputs": [],
   "source": [
    "# initialize\n",
    "evan_xgb = emd.EvanModels(adata, deg_dict, level='l2')"
   ]
  },
  {
   "cell_type": "code",
   "execution_count": null,
   "metadata": {},
   "outputs": [
    {
     "name": "stdout",
     "output_type": "stream",
     "text": [
      "====================\n",
      "K-fold CV for: ASDC\n"
     ]
    },
    {
     "name": "stderr",
     "output_type": "stream",
     "text": [
      "c:\\Users\\evanlee\\AppData\\Local\\Programs\\Python\\Python39\\lib\\site-packages\\xgboost\\core.py:158: UserWarning: [13:14:04] WARNING: C:\\buildkite-agent\\builds\\buildkite-windows-cpu-autoscaling-group-i-0ed59c031377d09b8-1\\xgboost\\xgboost-ci-windows\\src\\learner.cc:740: \n",
      "Parameters: { \"verbose\" } are not used.\n",
      "\n",
      "  warnings.warn(smsg, UserWarning)\n"
     ]
    },
    {
     "name": "stdout",
     "output_type": "stream",
     "text": [
      "Cross-validation...\n",
      "likelihood > 0.5: 74\n",
      "[0.9998299988759879, 0.9345959595959595, 0.6871794871794872, 0.7904761904761906, 0.9999539115696828, 0.9272519378769379, 0.8005238730292911]\n",
      "====================\n",
      "K-fold CV for: B_intermediate\n"
     ]
    },
    {
     "name": "stderr",
     "output_type": "stream",
     "text": [
      "c:\\Users\\evanlee\\AppData\\Local\\Programs\\Python\\Python39\\lib\\site-packages\\xgboost\\core.py:158: UserWarning: [13:14:33] WARNING: C:\\buildkite-agent\\builds\\buildkite-windows-cpu-autoscaling-group-i-0ed59c031377d09b8-1\\xgboost\\xgboost-ci-windows\\src\\learner.cc:740: \n",
      "Parameters: { \"verbose\" } are not used.\n",
      "\n",
      "  warnings.warn(smsg, UserWarning)\n"
     ]
    },
    {
     "name": "stdout",
     "output_type": "stream",
     "text": [
      "Cross-validation...\n",
      "likelihood > 0.5: 2375\n",
      "[0.9944286012908548, 0.8658326126320018, 0.7460154241645245, 0.8008491697932213, 0.9974285857313803, 0.894495538513308, 0.8006352856105343]\n",
      "====================\n",
      "K-fold CV for: B_memory\n"
     ]
    },
    {
     "name": "stderr",
     "output_type": "stream",
     "text": [
      "c:\\Users\\evanlee\\AppData\\Local\\Programs\\Python\\Python39\\lib\\site-packages\\xgboost\\core.py:158: UserWarning: [13:15:26] WARNING: C:\\buildkite-agent\\builds\\buildkite-windows-cpu-autoscaling-group-i-0ed59c031377d09b8-1\\xgboost\\xgboost-ci-windows\\src\\learner.cc:740: \n",
      "Parameters: { \"verbose\" } are not used.\n",
      "\n",
      "  warnings.warn(smsg, UserWarning)\n"
     ]
    },
    {
     "name": "stdout",
     "output_type": "stream",
     "text": [
      "Cross-validation...\n",
      "likelihood > 0.5: 3289\n",
      "[0.9964454329432486, 0.9157828571028592, 0.9086844106463878, 0.912144249657714, 0.9994134444226208, 0.9721057569164854, 0.9103768973504336]\n",
      "====================\n",
      "K-fold CV for: B_naive\n"
     ]
    },
    {
     "name": "stderr",
     "output_type": "stream",
     "text": [
      "c:\\Users\\evanlee\\AppData\\Local\\Programs\\Python\\Python39\\lib\\site-packages\\xgboost\\core.py:158: UserWarning: [13:16:17] WARNING: C:\\buildkite-agent\\builds\\buildkite-windows-cpu-autoscaling-group-i-0ed59c031377d09b8-1\\xgboost\\xgboost-ci-windows\\src\\learner.cc:740: \n",
      "Parameters: { \"verbose\" } are not used.\n",
      "\n",
      "  warnings.warn(smsg, UserWarning)\n"
     ]
    },
    {
     "name": "stdout",
     "output_type": "stream",
     "text": [
      "Cross-validation...\n",
      "likelihood > 0.5: 7730\n",
      "[0.9947531505739795, 0.9418269894955541, 0.9486539937926102, 0.9452170139486272, 0.9991046435012976, 0.9797762469413609, 0.9424746291845205]\n",
      "====================\n",
      "K-fold CV for: CD14_Mono\n"
     ]
    },
    {
     "name": "stderr",
     "output_type": "stream",
     "text": [
      "c:\\Users\\evanlee\\AppData\\Local\\Programs\\Python\\Python39\\lib\\site-packages\\xgboost\\core.py:158: UserWarning: [13:16:58] WARNING: C:\\buildkite-agent\\builds\\buildkite-windows-cpu-autoscaling-group-i-0ed59c031377d09b8-1\\xgboost\\xgboost-ci-windows\\src\\learner.cc:740: \n",
      "Parameters: { \"verbose\" } are not used.\n",
      "\n",
      "  warnings.warn(smsg, UserWarning)\n"
     ]
    },
    {
     "name": "stdout",
     "output_type": "stream",
     "text": [
      "Cross-validation...\n",
      "likelihood > 0.5: 42739\n",
      "[0.9911444960502284, 0.9788775761983015, 0.9877606201853448, 0.9832980496868091, 0.9988296995163377, 0.9947052143089463, 0.9772925920664151]\n",
      "====================\n",
      "K-fold CV for: CD16_Mono\n"
     ]
    },
    {
     "name": "stderr",
     "output_type": "stream",
     "text": [
      "c:\\Users\\evanlee\\AppData\\Local\\Programs\\Python\\Python39\\lib\\site-packages\\xgboost\\core.py:158: UserWarning: [13:17:35] WARNING: C:\\buildkite-agent\\builds\\buildkite-windows-cpu-autoscaling-group-i-0ed59c031377d09b8-1\\xgboost\\xgboost-ci-windows\\src\\learner.cc:740: \n",
      "Parameters: { \"verbose\" } are not used.\n",
      "\n",
      "  warnings.warn(smsg, UserWarning)\n"
     ]
    },
    {
     "name": "stdout",
     "output_type": "stream",
     "text": [
      "Cross-validation...\n",
      "likelihood > 0.5: 6343\n",
      "[0.99379497031847, 0.9039346002596826, 0.9414546705605924, 0.9222535128298942, 0.998567026368763, 0.9550002663170352, 0.9192622176756634]\n",
      "====================\n",
      "K-fold CV for: CD4_CTL\n"
     ]
    },
    {
     "name": "stderr",
     "output_type": "stream",
     "text": [
      "c:\\Users\\evanlee\\AppData\\Local\\Programs\\Python\\Python39\\lib\\site-packages\\xgboost\\core.py:158: UserWarning: [13:18:14] WARNING: C:\\buildkite-agent\\builds\\buildkite-windows-cpu-autoscaling-group-i-0ed59c031377d09b8-1\\xgboost\\xgboost-ci-windows\\src\\learner.cc:740: \n",
      "Parameters: { \"verbose\" } are not used.\n",
      "\n",
      "  warnings.warn(smsg, UserWarning)\n"
     ]
    },
    {
     "name": "stdout",
     "output_type": "stream",
     "text": [
      "Cross-validation...\n",
      "likelihood > 0.5: 1652\n",
      "[0.9940576925159311, 0.8203295500242695, 0.5716255876165494, 0.6736323956372331, 0.99556361406145, 0.7940351588293095, 0.681964423024727]\n",
      "====================\n",
      "K-fold CV for: CD4_Naive\n"
     ]
    },
    {
     "name": "stderr",
     "output_type": "stream",
     "text": [
      "c:\\Users\\evanlee\\AppData\\Local\\Programs\\Python\\Python39\\lib\\site-packages\\xgboost\\core.py:158: UserWarning: [13:18:40] WARNING: C:\\buildkite-agent\\builds\\buildkite-windows-cpu-autoscaling-group-i-0ed59c031377d09b8-1\\xgboost\\xgboost-ci-windows\\src\\learner.cc:740: \n",
      "Parameters: { \"verbose\" } are not used.\n",
      "\n",
      "  warnings.warn(smsg, UserWarning)\n"
     ]
    },
    {
     "name": "stdout",
     "output_type": "stream",
     "text": [
      "Cross-validation...\n",
      "likelihood > 0.5: 17465\n",
      "[0.9784871447647813, 0.9056423266394178, 0.8940850430898013, 0.8998136734079993, 0.9952222965930814, 0.9611071072120421, 0.8877951513991663]\n",
      "====================\n",
      "K-fold CV for: CD4_Proliferating\n"
     ]
    },
    {
     "name": "stderr",
     "output_type": "stream",
     "text": [
      "c:\\Users\\evanlee\\AppData\\Local\\Programs\\Python\\Python39\\lib\\site-packages\\xgboost\\core.py:158: UserWarning: [13:19:44] WARNING: C:\\buildkite-agent\\builds\\buildkite-windows-cpu-autoscaling-group-i-0ed59c031377d09b8-1\\xgboost\\xgboost-ci-windows\\src\\learner.cc:740: \n",
      "Parameters: { \"verbose\" } are not used.\n",
      "\n",
      "  warnings.warn(smsg, UserWarning)\n"
     ]
    },
    {
     "name": "stdout",
     "output_type": "stream",
     "text": [
      "Cross-validation...\n",
      "likelihood > 0.5: 106\n",
      "[0.9995595427323188, 0.7236308789249966, 0.5588235294117647, 0.6253354100260793, 0.9973760690564003, 0.6989604419680988, 0.6329773642273968]\n",
      "====================\n",
      "K-fold CV for: CD4_TCM\n"
     ]
    },
    {
     "name": "stderr",
     "output_type": "stream",
     "text": [
      "c:\\Users\\evanlee\\AppData\\Local\\Programs\\Python\\Python39\\lib\\site-packages\\xgboost\\core.py:158: UserWarning: [13:19:58] WARNING: C:\\buildkite-agent\\builds\\buildkite-windows-cpu-autoscaling-group-i-0ed59c031377d09b8-1\\xgboost\\xgboost-ci-windows\\src\\learner.cc:740: \n",
      "Parameters: { \"verbose\" } are not used.\n",
      "\n",
      "  warnings.warn(smsg, UserWarning)\n"
     ]
    },
    {
     "name": "stdout",
     "output_type": "stream",
     "text": [
      "Cross-validation...\n",
      "likelihood > 0.5: 14786\n",
      "[0.9665870756375432, 0.8332844336430766, 0.796322432229693, 0.8143595022932884, 0.988879556084688, 0.8948238476552367, 0.796273641545036]\n",
      "====================\n",
      "K-fold CV for: CD4_TEM\n"
     ]
    },
    {
     "name": "stderr",
     "output_type": "stream",
     "text": [
      "c:\\Users\\evanlee\\AppData\\Local\\Programs\\Python\\Python39\\lib\\site-packages\\xgboost\\core.py:158: UserWarning: [13:20:40] WARNING: C:\\buildkite-agent\\builds\\buildkite-windows-cpu-autoscaling-group-i-0ed59c031377d09b8-1\\xgboost\\xgboost-ci-windows\\src\\learner.cc:740: \n",
      "Parameters: { \"verbose\" } are not used.\n",
      "\n",
      "  warnings.warn(smsg, UserWarning)\n"
     ]
    },
    {
     "name": "stdout",
     "output_type": "stream",
     "text": [
      "Cross-validation...\n",
      "likelihood > 0.5: 4014\n",
      "[0.98402763903688, 0.7907127940845448, 0.5394079717392692, 0.6412551595578008, 0.9864222018342073, 0.7389410347540156, 0.6455658131567021]\n",
      "====================\n",
      "K-fold CV for: CD8_Naive\n"
     ]
    },
    {
     "name": "stderr",
     "output_type": "stream",
     "text": [
      "c:\\Users\\evanlee\\AppData\\Local\\Programs\\Python\\Python39\\lib\\site-packages\\xgboost\\core.py:158: UserWarning: [13:21:18] WARNING: C:\\buildkite-agent\\builds\\buildkite-windows-cpu-autoscaling-group-i-0ed59c031377d09b8-1\\xgboost\\xgboost-ci-windows\\src\\learner.cc:740: \n",
      "Parameters: { \"verbose\" } are not used.\n",
      "\n",
      "  warnings.warn(smsg, UserWarning)\n"
     ]
    },
    {
     "name": "stdout",
     "output_type": "stream",
     "text": [
      "Cross-validation...\n",
      "likelihood > 0.5: 10695\n",
      "[0.9939649624859722, 0.9619455079720511, 0.9468297671120315, 0.9543044876039737, 0.998759066216385, 0.9890130051498387, 0.9511213890763409]\n",
      "====================\n",
      "K-fold CV for: CD8_Proliferating\n"
     ]
    },
    {
     "name": "stderr",
     "output_type": "stream",
     "text": [
      "c:\\Users\\evanlee\\AppData\\Local\\Programs\\Python\\Python39\\lib\\site-packages\\xgboost\\core.py:158: UserWarning: [13:21:51] WARNING: C:\\buildkite-agent\\builds\\buildkite-windows-cpu-autoscaling-group-i-0ed59c031377d09b8-1\\xgboost\\xgboost-ci-windows\\src\\learner.cc:740: \n",
      "Parameters: { \"verbose\" } are not used.\n",
      "\n",
      "  warnings.warn(smsg, UserWarning)\n"
     ]
    },
    {
     "name": "stdout",
     "output_type": "stream",
     "text": [
      "Cross-validation...\n",
      "likelihood > 0.5: 85\n",
      "[0.9995981790257211, 0.7319696969696969, 0.4523809523809524, 0.5530578117534639, 0.9993950141562431, 0.6942790966289827, 0.5718223554517123]\n",
      "====================\n",
      "K-fold CV for: CD8_TCM\n"
     ]
    },
    {
     "name": "stderr",
     "output_type": "stream",
     "text": [
      "c:\\Users\\evanlee\\AppData\\Local\\Programs\\Python\\Python39\\lib\\site-packages\\xgboost\\core.py:158: UserWarning: [13:22:03] WARNING: C:\\buildkite-agent\\builds\\buildkite-windows-cpu-autoscaling-group-i-0ed59c031377d09b8-1\\xgboost\\xgboost-ci-windows\\src\\learner.cc:740: \n",
      "Parameters: { \"verbose\" } are not used.\n",
      "\n",
      "  warnings.warn(smsg, UserWarning)\n"
     ]
    },
    {
     "name": "stdout",
     "output_type": "stream",
     "text": [
      "Cross-validation...\n",
      "likelihood > 0.5: 2743\n",
      "[0.991445858123696, 0.855123556525071, 0.6270605027654919, 0.7232611922756627, 0.9924919530843151, 0.8291869802678693, 0.7281039869763083]\n",
      "====================\n",
      "K-fold CV for: CD8_TEM\n"
     ]
    },
    {
     "name": "stderr",
     "output_type": "stream",
     "text": [
      "c:\\Users\\evanlee\\AppData\\Local\\Programs\\Python\\Python39\\lib\\site-packages\\xgboost\\core.py:158: UserWarning: [13:22:39] WARNING: C:\\buildkite-agent\\builds\\buildkite-windows-cpu-autoscaling-group-i-0ed59c031377d09b8-1\\xgboost\\xgboost-ci-windows\\src\\learner.cc:740: \n",
      "Parameters: { \"verbose\" } are not used.\n",
      "\n",
      "  warnings.warn(smsg, UserWarning)\n"
     ]
    },
    {
     "name": "stdout",
     "output_type": "stream",
     "text": [
      "Cross-validation...\n",
      "likelihood > 0.5: 11683\n",
      "[0.9897226677347761, 0.9387648509750992, 0.9181407635693214, 0.9283346281644663, 0.9978731702988635, 0.9777668773392669, 0.922867946815248]\n",
      "====================\n",
      "K-fold CV for: Doublet\n"
     ]
    },
    {
     "name": "stderr",
     "output_type": "stream",
     "text": [
      "c:\\Users\\evanlee\\AppData\\Local\\Programs\\Python\\Python39\\lib\\site-packages\\xgboost\\core.py:158: UserWarning: [13:23:04] WARNING: C:\\buildkite-agent\\builds\\buildkite-windows-cpu-autoscaling-group-i-0ed59c031377d09b8-1\\xgboost\\xgboost-ci-windows\\src\\learner.cc:740: \n",
      "Parameters: { \"verbose\" } are not used.\n",
      "\n",
      "  warnings.warn(smsg, UserWarning)\n"
     ]
    },
    {
     "name": "stdout",
     "output_type": "stream",
     "text": [
      "Cross-validation...\n",
      "likelihood > 0.5: 526\n",
      "[0.9971022511252906, 0.7716135477837606, 0.3139390034364261, 0.4442867348359866, 0.857687363438786, 0.389237259255959, 0.48975417275051514]\n",
      "====================\n",
      "K-fold CV for: Eryth\n"
     ]
    },
    {
     "name": "stderr",
     "output_type": "stream",
     "text": [
      "c:\\Users\\evanlee\\AppData\\Local\\Programs\\Python\\Python39\\lib\\site-packages\\xgboost\\core.py:158: UserWarning: [13:23:25] WARNING: C:\\buildkite-agent\\builds\\buildkite-windows-cpu-autoscaling-group-i-0ed59c031377d09b8-1\\xgboost\\xgboost-ci-windows\\src\\learner.cc:740: \n",
      "Parameters: { \"verbose\" } are not used.\n",
      "\n",
      "  warnings.warn(smsg, UserWarning)\n"
     ]
    },
    {
     "name": "stdout",
     "output_type": "stream",
     "text": [
      "Cross-validation...\n",
      "likelihood > 0.5: 86\n",
      "[0.9998377265526388, 0.8664102564102565, 0.8032967032967033, 0.8319395515917256, 0.9819012021261818, 0.8587087350168121, 0.8333116478962161]\n",
      "====================\n",
      "K-fold CV for: HSPC\n"
     ]
    },
    {
     "name": "stderr",
     "output_type": "stream",
     "text": [
      "c:\\Users\\evanlee\\AppData\\Local\\Programs\\Python\\Python39\\lib\\site-packages\\xgboost\\core.py:158: UserWarning: [13:23:37] WARNING: C:\\buildkite-agent\\builds\\buildkite-windows-cpu-autoscaling-group-i-0ed59c031377d09b8-1\\xgboost\\xgboost-ci-windows\\src\\learner.cc:740: \n",
      "Parameters: { \"verbose\" } are not used.\n",
      "\n",
      "  warnings.warn(smsg, UserWarning)\n"
     ]
    },
    {
     "name": "stdout",
     "output_type": "stream",
     "text": [
      "Cross-validation...\n",
      "likelihood > 0.5: 326\n",
      "[0.9998609080898401, 0.9959183673469388, 0.9354136429608128, 0.964625965737636, 0.9999653974088037, 0.9910209618301387, 0.9650781936619758]\n",
      "====================\n",
      "K-fold CV for: ILC\n"
     ]
    },
    {
     "name": "stderr",
     "output_type": "stream",
     "text": [
      "c:\\Users\\evanlee\\AppData\\Local\\Programs\\Python\\Python39\\lib\\site-packages\\xgboost\\core.py:158: UserWarning: [13:23:48] WARNING: C:\\buildkite-agent\\builds\\buildkite-windows-cpu-autoscaling-group-i-0ed59c031377d09b8-1\\xgboost\\xgboost-ci-windows\\src\\learner.cc:740: \n",
      "Parameters: { \"verbose\" } are not used.\n",
      "\n",
      "  warnings.warn(smsg, UserWarning)\n"
     ]
    },
    {
     "name": "stdout",
     "output_type": "stream",
     "text": [
      "Cross-validation...\n",
      "likelihood > 0.5: 127\n",
      "[0.9995904528418219, 0.9549450549450549, 0.5285714285714286, 0.6717857142857143, 0.9993113031355947, 0.8349432800317608, 0.7050884960321799]\n",
      "====================\n",
      "K-fold CV for: MAIT\n"
     ]
    },
    {
     "name": "stderr",
     "output_type": "stream",
     "text": [
      "c:\\Users\\evanlee\\AppData\\Local\\Programs\\Python\\Python39\\lib\\site-packages\\xgboost\\core.py:158: UserWarning: [13:24:00] WARNING: C:\\buildkite-agent\\builds\\buildkite-windows-cpu-autoscaling-group-i-0ed59c031377d09b8-1\\xgboost\\xgboost-ci-windows\\src\\learner.cc:740: \n",
      "Parameters: { \"verbose\" } are not used.\n",
      "\n",
      "  warnings.warn(smsg, UserWarning)\n"
     ]
    },
    {
     "name": "stdout",
     "output_type": "stream",
     "text": [
      "Cross-validation...\n",
      "likelihood > 0.5: 2791\n",
      "[0.9968704333648762, 0.9102860982434408, 0.9075054164357332, 0.9088431686569383, 0.9993810876141751, 0.9625817698778809, 0.9072783212928167]\n",
      "====================\n",
      "K-fold CV for: NK\n"
     ]
    },
    {
     "name": "stderr",
     "output_type": "stream",
     "text": [
      "c:\\Users\\evanlee\\AppData\\Local\\Programs\\Python\\Python39\\lib\\site-packages\\xgboost\\core.py:158: UserWarning: [13:24:18] WARNING: C:\\buildkite-agent\\builds\\buildkite-windows-cpu-autoscaling-group-i-0ed59c031377d09b8-1\\xgboost\\xgboost-ci-windows\\src\\learner.cc:740: \n",
      "Parameters: { \"verbose\" } are not used.\n",
      "\n",
      "  warnings.warn(smsg, UserWarning)\n"
     ]
    },
    {
     "name": "stdout",
     "output_type": "stream",
     "text": [
      "Cross-validation...\n",
      "likelihood > 0.5: 17234\n",
      "[0.989034941234533, 0.9392780348169489, 0.9587274777460021, 0.9488865318740203, 0.9985474049914048, 0.986434237054198, 0.9428186008819888]\n",
      "====================\n",
      "K-fold CV for: NK_CD56bright\n"
     ]
    },
    {
     "name": "stderr",
     "output_type": "stream",
     "text": [
      "c:\\Users\\evanlee\\AppData\\Local\\Programs\\Python\\Python39\\lib\\site-packages\\xgboost\\core.py:158: UserWarning: [13:24:39] WARNING: C:\\buildkite-agent\\builds\\buildkite-windows-cpu-autoscaling-group-i-0ed59c031377d09b8-1\\xgboost\\xgboost-ci-windows\\src\\learner.cc:740: \n",
      "Parameters: { \"verbose\" } are not used.\n",
      "\n",
      "  warnings.warn(smsg, UserWarning)\n"
     ]
    },
    {
     "name": "stdout",
     "output_type": "stream",
     "text": [
      "Cross-validation...\n",
      "likelihood > 0.5: 928\n",
      "[0.9984622645956426, 0.898779274386194, 0.8328388520971302, 0.8634011754527412, 0.9996341581008006, 0.9467417736326054, 0.8638435171030876]\n",
      "====================\n",
      "K-fold CV for: NK_Proliferating\n"
     ]
    },
    {
     "name": "stderr",
     "output_type": "stream",
     "text": [
      "c:\\Users\\evanlee\\AppData\\Local\\Programs\\Python\\Python39\\lib\\site-packages\\xgboost\\core.py:158: UserWarning: [13:24:55] WARNING: C:\\buildkite-agent\\builds\\buildkite-windows-cpu-autoscaling-group-i-0ed59c031377d09b8-1\\xgboost\\xgboost-ci-windows\\src\\learner.cc:740: \n",
      "Parameters: { \"verbose\" } are not used.\n",
      "\n",
      "  warnings.warn(smsg, UserWarning)\n"
     ]
    },
    {
     "name": "stdout",
     "output_type": "stream",
     "text": [
      "Cross-validation...\n",
      "likelihood > 0.5: 540\n",
      "[0.9989568105245248, 0.8763539802183417, 0.8058254963427377, 0.8394396089695573, 0.9997397270591014, 0.931713279140822, 0.839746644373675]\n",
      "====================\n",
      "K-fold CV for: Plasmablast\n"
     ]
    },
    {
     "name": "stderr",
     "output_type": "stream",
     "text": [
      "c:\\Users\\evanlee\\AppData\\Local\\Programs\\Python\\Python39\\lib\\site-packages\\xgboost\\core.py:158: UserWarning: [13:25:10] WARNING: C:\\buildkite-agent\\builds\\buildkite-windows-cpu-autoscaling-group-i-0ed59c031377d09b8-1\\xgboost\\xgboost-ci-windows\\src\\learner.cc:740: \n",
      "Parameters: { \"verbose\" } are not used.\n",
      "\n",
      "  warnings.warn(smsg, UserWarning)\n"
     ]
    },
    {
     "name": "stdout",
     "output_type": "stream",
     "text": [
      "Cross-validation...\n",
      "likelihood > 0.5: 362\n",
      "[0.9998995443832424, 0.9932203389830508, 0.9625365283459966, 0.9774186860685716, 0.9999848646807772, 0.9867578100186588, 0.9775992044776249]\n",
      "====================\n",
      "K-fold CV for: Platelet\n"
     ]
    },
    {
     "name": "stderr",
     "output_type": "stream",
     "text": [
      "c:\\Users\\evanlee\\AppData\\Local\\Programs\\Python\\Python39\\lib\\site-packages\\xgboost\\core.py:158: UserWarning: [13:25:20] WARNING: C:\\buildkite-agent\\builds\\buildkite-windows-cpu-autoscaling-group-i-0ed59c031377d09b8-1\\xgboost\\xgboost-ci-windows\\src\\learner.cc:740: \n",
      "Parameters: { \"verbose\" } are not used.\n",
      "\n",
      "  warnings.warn(smsg, UserWarning)\n"
     ]
    },
    {
     "name": "stdout",
     "output_type": "stream",
     "text": [
      "Cross-validation...\n",
      "likelihood > 0.5: 2197\n",
      "[0.9986708996246545, 0.9770275618194162, 0.9280177483956464, 0.9518720180163115, 0.9771532772238795, 0.951677541060341, 0.9515328172442568]\n",
      "====================\n",
      "K-fold CV for: Treg\n"
     ]
    },
    {
     "name": "stderr",
     "output_type": "stream",
     "text": [
      "c:\\Users\\evanlee\\AppData\\Local\\Programs\\Python\\Python39\\lib\\site-packages\\xgboost\\core.py:158: UserWarning: [13:25:44] WARNING: C:\\buildkite-agent\\builds\\buildkite-windows-cpu-autoscaling-group-i-0ed59c031377d09b8-1\\xgboost\\xgboost-ci-windows\\src\\learner.cc:740: \n",
      "Parameters: { \"verbose\" } are not used.\n",
      "\n",
      "  warnings.warn(smsg, UserWarning)\n"
     ]
    },
    {
     "name": "stdout",
     "output_type": "stream",
     "text": [
      "Cross-validation...\n",
      "likelihood > 0.5: 2378\n",
      "[0.9934704159599892, 0.888400587418962, 0.662014118931527, 0.7586402543016576, 0.994430433992472, 0.8562505851156743, 0.7638307302660037]\n",
      "====================\n",
      "K-fold CV for: cDC1\n"
     ]
    },
    {
     "name": "stderr",
     "output_type": "stream",
     "text": [
      "c:\\Users\\evanlee\\AppData\\Local\\Programs\\Python\\Python39\\lib\\site-packages\\xgboost\\core.py:158: UserWarning: [13:26:11] WARNING: C:\\buildkite-agent\\builds\\buildkite-windows-cpu-autoscaling-group-i-0ed59c031377d09b8-1\\xgboost\\xgboost-ci-windows\\src\\learner.cc:740: \n",
      "Parameters: { \"verbose\" } are not used.\n",
      "\n",
      "  warnings.warn(smsg, UserWarning)\n"
     ]
    },
    {
     "name": "stdout",
     "output_type": "stream",
     "text": [
      "Cross-validation...\n",
      "likelihood > 0.5: 150\n",
      "[0.9999304538956448, 0.9833043478260869, 0.942, 0.9614821247647996, 0.9995502681310748, 0.9757020445955945, 0.9620329296151826]\n",
      "====================\n",
      "K-fold CV for: cDC2\n"
     ]
    },
    {
     "name": "stderr",
     "output_type": "stream",
     "text": [
      "c:\\Users\\evanlee\\AppData\\Local\\Programs\\Python\\Python39\\lib\\site-packages\\xgboost\\core.py:158: UserWarning: [13:26:21] WARNING: C:\\buildkite-agent\\builds\\buildkite-windows-cpu-autoscaling-group-i-0ed59c031377d09b8-1\\xgboost\\xgboost-ci-windows\\src\\learner.cc:740: \n",
      "Parameters: { \"verbose\" } are not used.\n",
      "\n",
      "  warnings.warn(smsg, UserWarning)\n"
     ]
    },
    {
     "name": "stdout",
     "output_type": "stream",
     "text": [
      "Cross-validation...\n",
      "likelihood > 0.5: 2486\n",
      "[0.9976740759105345, 0.9311795683936873, 0.9175461346633416, 0.9242253510754097, 0.9988502252384499, 0.9662674217477052, 0.9231152253596997]\n",
      "====================\n",
      "K-fold CV for: dnT\n"
     ]
    },
    {
     "name": "stderr",
     "output_type": "stream",
     "text": [
      "c:\\Users\\evanlee\\AppData\\Local\\Programs\\Python\\Python39\\lib\\site-packages\\xgboost\\core.py:158: UserWarning: [13:26:39] WARNING: C:\\buildkite-agent\\builds\\buildkite-windows-cpu-autoscaling-group-i-0ed59c031377d09b8-1\\xgboost\\xgboost-ci-windows\\src\\learner.cc:740: \n",
      "Parameters: { \"verbose\" } are not used.\n",
      "\n",
      "  warnings.warn(smsg, UserWarning)\n"
     ]
    },
    {
     "name": "stdout",
     "output_type": "stream",
     "text": [
      "Cross-validation...\n",
      "likelihood > 0.5: 321\n",
      "[0.9985704457991986, 0.8622712842712843, 0.4175438596491228, 0.561344537815126, 0.9737477680257755, 0.6198232142727552, 0.5987059310071907]\n",
      "====================\n",
      "K-fold CV for: gdT\n"
     ]
    },
    {
     "name": "stderr",
     "output_type": "stream",
     "text": [
      "c:\\Users\\evanlee\\AppData\\Local\\Programs\\Python\\Python39\\lib\\site-packages\\xgboost\\core.py:158: UserWarning: [13:26:55] WARNING: C:\\buildkite-agent\\builds\\buildkite-windows-cpu-autoscaling-group-i-0ed59c031377d09b8-1\\xgboost\\xgboost-ci-windows\\src\\learner.cc:740: \n",
      "Parameters: { \"verbose\" } are not used.\n",
      "\n",
      "  warnings.warn(smsg, UserWarning)\n"
     ]
    },
    {
     "name": "stdout",
     "output_type": "stream",
     "text": [
      "Cross-validation...\n",
      "likelihood > 0.5: 3586\n",
      "[0.994042239551032, 0.8976003266389402, 0.8307655255057684, 0.8628537875041431, 0.9906157264010578, 0.9019616595391229, 0.8605050995454698]\n",
      "====================\n",
      "K-fold CV for: pDC\n"
     ]
    },
    {
     "name": "stderr",
     "output_type": "stream",
     "text": [
      "c:\\Users\\evanlee\\AppData\\Local\\Programs\\Python\\Python39\\lib\\site-packages\\xgboost\\core.py:158: UserWarning: [13:27:20] WARNING: C:\\buildkite-agent\\builds\\buildkite-windows-cpu-autoscaling-group-i-0ed59c031377d09b8-1\\xgboost\\xgboost-ci-windows\\src\\learner.cc:740: \n",
      "Parameters: { \"verbose\" } are not used.\n",
      "\n",
      "  warnings.warn(smsg, UserWarning)\n"
     ]
    },
    {
     "name": "stdout",
     "output_type": "stream",
     "text": [
      "Cross-validation...\n",
      "likelihood > 0.5: 859\n",
      "[0.9998686360650414, 0.9841619375307207, 0.9913043478260869, 0.9877151110207281, 0.9999907105677407, 0.998094228691279, 0.9876581895869647]\n"
     ]
    }
   ],
   "source": [
    "# os.chdir(r\"C:\\Users\\evanlee\\Documents\\GitHub\\EvanPys\\Progress\\PBMC_Hao_batch_noZ\\Level2\\DEG_L2\")\n",
    "os.chdir(source_code_dir / 'PBMC_Hao_batch_noZ/Level2/DEG_L2')\n",
    "all_metrics_df, cv_results_dict, likelihood_dict = evan_xgb.run_XGB_kfold_for_types(save_path='./')"
   ]
  },
  {
   "cell_type": "code",
   "execution_count": 13,
   "metadata": {},
   "outputs": [
    {
     "data": {
      "text/html": [
       "<div>\n",
       "<style scoped>\n",
       "    .dataframe tbody tr th:only-of-type {\n",
       "        vertical-align: middle;\n",
       "    }\n",
       "\n",
       "    .dataframe tbody tr th {\n",
       "        vertical-align: top;\n",
       "    }\n",
       "\n",
       "    .dataframe thead th {\n",
       "        text-align: right;\n",
       "    }\n",
       "</style>\n",
       "<table border=\"1\" class=\"dataframe\">\n",
       "  <thead>\n",
       "    <tr style=\"text-align: right;\">\n",
       "      <th></th>\n",
       "      <th>Accuracy</th>\n",
       "      <th>Precision</th>\n",
       "      <th>Recall</th>\n",
       "      <th>F1-score</th>\n",
       "      <th>ROC-AUC</th>\n",
       "      <th>PR-AUC</th>\n",
       "      <th>MCC</th>\n",
       "    </tr>\n",
       "  </thead>\n",
       "  <tbody>\n",
       "    <tr>\n",
       "      <th>ASDC</th>\n",
       "      <td>0.999830</td>\n",
       "      <td>0.934596</td>\n",
       "      <td>0.687179</td>\n",
       "      <td>0.790476</td>\n",
       "      <td>0.999954</td>\n",
       "      <td>0.927252</td>\n",
       "      <td>0.800524</td>\n",
       "    </tr>\n",
       "    <tr>\n",
       "      <th>B_intermediate</th>\n",
       "      <td>0.994429</td>\n",
       "      <td>0.865833</td>\n",
       "      <td>0.746015</td>\n",
       "      <td>0.800849</td>\n",
       "      <td>0.997429</td>\n",
       "      <td>0.894496</td>\n",
       "      <td>0.800635</td>\n",
       "    </tr>\n",
       "    <tr>\n",
       "      <th>B_memory</th>\n",
       "      <td>0.996445</td>\n",
       "      <td>0.915783</td>\n",
       "      <td>0.908684</td>\n",
       "      <td>0.912144</td>\n",
       "      <td>0.999413</td>\n",
       "      <td>0.972106</td>\n",
       "      <td>0.910377</td>\n",
       "    </tr>\n",
       "    <tr>\n",
       "      <th>B_naive</th>\n",
       "      <td>0.994753</td>\n",
       "      <td>0.941827</td>\n",
       "      <td>0.948654</td>\n",
       "      <td>0.945217</td>\n",
       "      <td>0.999105</td>\n",
       "      <td>0.979776</td>\n",
       "      <td>0.942475</td>\n",
       "    </tr>\n",
       "    <tr>\n",
       "      <th>CD14_Mono</th>\n",
       "      <td>0.991144</td>\n",
       "      <td>0.978878</td>\n",
       "      <td>0.987761</td>\n",
       "      <td>0.983298</td>\n",
       "      <td>0.998830</td>\n",
       "      <td>0.994705</td>\n",
       "      <td>0.977293</td>\n",
       "    </tr>\n",
       "    <tr>\n",
       "      <th>CD16_Mono</th>\n",
       "      <td>0.993795</td>\n",
       "      <td>0.903935</td>\n",
       "      <td>0.941455</td>\n",
       "      <td>0.922254</td>\n",
       "      <td>0.998567</td>\n",
       "      <td>0.955000</td>\n",
       "      <td>0.919262</td>\n",
       "    </tr>\n",
       "    <tr>\n",
       "      <th>CD4_CTL</th>\n",
       "      <td>0.994058</td>\n",
       "      <td>0.820330</td>\n",
       "      <td>0.571626</td>\n",
       "      <td>0.673632</td>\n",
       "      <td>0.995564</td>\n",
       "      <td>0.794035</td>\n",
       "      <td>0.681964</td>\n",
       "    </tr>\n",
       "    <tr>\n",
       "      <th>CD4_Naive</th>\n",
       "      <td>0.978487</td>\n",
       "      <td>0.905642</td>\n",
       "      <td>0.894085</td>\n",
       "      <td>0.899814</td>\n",
       "      <td>0.995222</td>\n",
       "      <td>0.961107</td>\n",
       "      <td>0.887795</td>\n",
       "    </tr>\n",
       "    <tr>\n",
       "      <th>CD4_Proliferating</th>\n",
       "      <td>0.999560</td>\n",
       "      <td>0.723631</td>\n",
       "      <td>0.558824</td>\n",
       "      <td>0.625335</td>\n",
       "      <td>0.997376</td>\n",
       "      <td>0.698960</td>\n",
       "      <td>0.632977</td>\n",
       "    </tr>\n",
       "    <tr>\n",
       "      <th>CD4_TCM</th>\n",
       "      <td>0.966587</td>\n",
       "      <td>0.833284</td>\n",
       "      <td>0.796322</td>\n",
       "      <td>0.814360</td>\n",
       "      <td>0.988880</td>\n",
       "      <td>0.894824</td>\n",
       "      <td>0.796274</td>\n",
       "    </tr>\n",
       "    <tr>\n",
       "      <th>CD4_TEM</th>\n",
       "      <td>0.984028</td>\n",
       "      <td>0.790713</td>\n",
       "      <td>0.539408</td>\n",
       "      <td>0.641255</td>\n",
       "      <td>0.986422</td>\n",
       "      <td>0.738941</td>\n",
       "      <td>0.645566</td>\n",
       "    </tr>\n",
       "    <tr>\n",
       "      <th>CD8_Naive</th>\n",
       "      <td>0.993965</td>\n",
       "      <td>0.961946</td>\n",
       "      <td>0.946830</td>\n",
       "      <td>0.954304</td>\n",
       "      <td>0.998759</td>\n",
       "      <td>0.989013</td>\n",
       "      <td>0.951121</td>\n",
       "    </tr>\n",
       "    <tr>\n",
       "      <th>CD8_Proliferating</th>\n",
       "      <td>0.999598</td>\n",
       "      <td>0.731970</td>\n",
       "      <td>0.452381</td>\n",
       "      <td>0.553058</td>\n",
       "      <td>0.999395</td>\n",
       "      <td>0.694279</td>\n",
       "      <td>0.571822</td>\n",
       "    </tr>\n",
       "    <tr>\n",
       "      <th>CD8_TCM</th>\n",
       "      <td>0.991446</td>\n",
       "      <td>0.855124</td>\n",
       "      <td>0.627061</td>\n",
       "      <td>0.723261</td>\n",
       "      <td>0.992492</td>\n",
       "      <td>0.829187</td>\n",
       "      <td>0.728104</td>\n",
       "    </tr>\n",
       "    <tr>\n",
       "      <th>CD8_TEM</th>\n",
       "      <td>0.989723</td>\n",
       "      <td>0.938765</td>\n",
       "      <td>0.918141</td>\n",
       "      <td>0.928335</td>\n",
       "      <td>0.997873</td>\n",
       "      <td>0.977767</td>\n",
       "      <td>0.922868</td>\n",
       "    </tr>\n",
       "    <tr>\n",
       "      <th>Doublet</th>\n",
       "      <td>0.997102</td>\n",
       "      <td>0.771614</td>\n",
       "      <td>0.313939</td>\n",
       "      <td>0.444287</td>\n",
       "      <td>0.857687</td>\n",
       "      <td>0.389237</td>\n",
       "      <td>0.489754</td>\n",
       "    </tr>\n",
       "    <tr>\n",
       "      <th>Eryth</th>\n",
       "      <td>0.999838</td>\n",
       "      <td>0.866410</td>\n",
       "      <td>0.803297</td>\n",
       "      <td>0.831940</td>\n",
       "      <td>0.981901</td>\n",
       "      <td>0.858709</td>\n",
       "      <td>0.833312</td>\n",
       "    </tr>\n",
       "    <tr>\n",
       "      <th>HSPC</th>\n",
       "      <td>0.999861</td>\n",
       "      <td>0.995918</td>\n",
       "      <td>0.935414</td>\n",
       "      <td>0.964626</td>\n",
       "      <td>0.999965</td>\n",
       "      <td>0.991021</td>\n",
       "      <td>0.965078</td>\n",
       "    </tr>\n",
       "    <tr>\n",
       "      <th>ILC</th>\n",
       "      <td>0.999590</td>\n",
       "      <td>0.954945</td>\n",
       "      <td>0.528571</td>\n",
       "      <td>0.671786</td>\n",
       "      <td>0.999311</td>\n",
       "      <td>0.834943</td>\n",
       "      <td>0.705088</td>\n",
       "    </tr>\n",
       "    <tr>\n",
       "      <th>MAIT</th>\n",
       "      <td>0.996870</td>\n",
       "      <td>0.910286</td>\n",
       "      <td>0.907505</td>\n",
       "      <td>0.908843</td>\n",
       "      <td>0.999381</td>\n",
       "      <td>0.962582</td>\n",
       "      <td>0.907278</td>\n",
       "    </tr>\n",
       "    <tr>\n",
       "      <th>NK</th>\n",
       "      <td>0.989035</td>\n",
       "      <td>0.939278</td>\n",
       "      <td>0.958727</td>\n",
       "      <td>0.948887</td>\n",
       "      <td>0.998547</td>\n",
       "      <td>0.986434</td>\n",
       "      <td>0.942819</td>\n",
       "    </tr>\n",
       "    <tr>\n",
       "      <th>NK_CD56bright</th>\n",
       "      <td>0.998462</td>\n",
       "      <td>0.898779</td>\n",
       "      <td>0.832839</td>\n",
       "      <td>0.863401</td>\n",
       "      <td>0.999634</td>\n",
       "      <td>0.946742</td>\n",
       "      <td>0.863844</td>\n",
       "    </tr>\n",
       "    <tr>\n",
       "      <th>NK_Proliferating</th>\n",
       "      <td>0.998957</td>\n",
       "      <td>0.876354</td>\n",
       "      <td>0.805825</td>\n",
       "      <td>0.839440</td>\n",
       "      <td>0.999740</td>\n",
       "      <td>0.931713</td>\n",
       "      <td>0.839747</td>\n",
       "    </tr>\n",
       "    <tr>\n",
       "      <th>Plasmablast</th>\n",
       "      <td>0.999900</td>\n",
       "      <td>0.993220</td>\n",
       "      <td>0.962537</td>\n",
       "      <td>0.977419</td>\n",
       "      <td>0.999985</td>\n",
       "      <td>0.986758</td>\n",
       "      <td>0.977599</td>\n",
       "    </tr>\n",
       "    <tr>\n",
       "      <th>Platelet</th>\n",
       "      <td>0.998671</td>\n",
       "      <td>0.977028</td>\n",
       "      <td>0.928018</td>\n",
       "      <td>0.951872</td>\n",
       "      <td>0.977153</td>\n",
       "      <td>0.951678</td>\n",
       "      <td>0.951533</td>\n",
       "    </tr>\n",
       "    <tr>\n",
       "      <th>Treg</th>\n",
       "      <td>0.993470</td>\n",
       "      <td>0.888401</td>\n",
       "      <td>0.662014</td>\n",
       "      <td>0.758640</td>\n",
       "      <td>0.994430</td>\n",
       "      <td>0.856251</td>\n",
       "      <td>0.763831</td>\n",
       "    </tr>\n",
       "    <tr>\n",
       "      <th>cDC1</th>\n",
       "      <td>0.999930</td>\n",
       "      <td>0.983304</td>\n",
       "      <td>0.942000</td>\n",
       "      <td>0.961482</td>\n",
       "      <td>0.999550</td>\n",
       "      <td>0.975702</td>\n",
       "      <td>0.962033</td>\n",
       "    </tr>\n",
       "    <tr>\n",
       "      <th>cDC2</th>\n",
       "      <td>0.997674</td>\n",
       "      <td>0.931180</td>\n",
       "      <td>0.917546</td>\n",
       "      <td>0.924225</td>\n",
       "      <td>0.998850</td>\n",
       "      <td>0.966267</td>\n",
       "      <td>0.923115</td>\n",
       "    </tr>\n",
       "    <tr>\n",
       "      <th>dnT</th>\n",
       "      <td>0.998570</td>\n",
       "      <td>0.862271</td>\n",
       "      <td>0.417544</td>\n",
       "      <td>0.561345</td>\n",
       "      <td>0.973748</td>\n",
       "      <td>0.619823</td>\n",
       "      <td>0.598706</td>\n",
       "    </tr>\n",
       "    <tr>\n",
       "      <th>gdT</th>\n",
       "      <td>0.994042</td>\n",
       "      <td>0.897600</td>\n",
       "      <td>0.830766</td>\n",
       "      <td>0.862854</td>\n",
       "      <td>0.990616</td>\n",
       "      <td>0.901962</td>\n",
       "      <td>0.860505</td>\n",
       "    </tr>\n",
       "    <tr>\n",
       "      <th>pDC</th>\n",
       "      <td>0.999869</td>\n",
       "      <td>0.984162</td>\n",
       "      <td>0.991304</td>\n",
       "      <td>0.987715</td>\n",
       "      <td>0.999991</td>\n",
       "      <td>0.998094</td>\n",
       "      <td>0.987658</td>\n",
       "    </tr>\n",
       "  </tbody>\n",
       "</table>\n",
       "</div>"
      ],
      "text/plain": [
       "                   Accuracy  Precision    Recall  F1-score   ROC-AUC  \\\n",
       "ASDC               0.999830   0.934596  0.687179  0.790476  0.999954   \n",
       "B_intermediate     0.994429   0.865833  0.746015  0.800849  0.997429   \n",
       "B_memory           0.996445   0.915783  0.908684  0.912144  0.999413   \n",
       "B_naive            0.994753   0.941827  0.948654  0.945217  0.999105   \n",
       "CD14_Mono          0.991144   0.978878  0.987761  0.983298  0.998830   \n",
       "CD16_Mono          0.993795   0.903935  0.941455  0.922254  0.998567   \n",
       "CD4_CTL            0.994058   0.820330  0.571626  0.673632  0.995564   \n",
       "CD4_Naive          0.978487   0.905642  0.894085  0.899814  0.995222   \n",
       "CD4_Proliferating  0.999560   0.723631  0.558824  0.625335  0.997376   \n",
       "CD4_TCM            0.966587   0.833284  0.796322  0.814360  0.988880   \n",
       "CD4_TEM            0.984028   0.790713  0.539408  0.641255  0.986422   \n",
       "CD8_Naive          0.993965   0.961946  0.946830  0.954304  0.998759   \n",
       "CD8_Proliferating  0.999598   0.731970  0.452381  0.553058  0.999395   \n",
       "CD8_TCM            0.991446   0.855124  0.627061  0.723261  0.992492   \n",
       "CD8_TEM            0.989723   0.938765  0.918141  0.928335  0.997873   \n",
       "Doublet            0.997102   0.771614  0.313939  0.444287  0.857687   \n",
       "Eryth              0.999838   0.866410  0.803297  0.831940  0.981901   \n",
       "HSPC               0.999861   0.995918  0.935414  0.964626  0.999965   \n",
       "ILC                0.999590   0.954945  0.528571  0.671786  0.999311   \n",
       "MAIT               0.996870   0.910286  0.907505  0.908843  0.999381   \n",
       "NK                 0.989035   0.939278  0.958727  0.948887  0.998547   \n",
       "NK_CD56bright      0.998462   0.898779  0.832839  0.863401  0.999634   \n",
       "NK_Proliferating   0.998957   0.876354  0.805825  0.839440  0.999740   \n",
       "Plasmablast        0.999900   0.993220  0.962537  0.977419  0.999985   \n",
       "Platelet           0.998671   0.977028  0.928018  0.951872  0.977153   \n",
       "Treg               0.993470   0.888401  0.662014  0.758640  0.994430   \n",
       "cDC1               0.999930   0.983304  0.942000  0.961482  0.999550   \n",
       "cDC2               0.997674   0.931180  0.917546  0.924225  0.998850   \n",
       "dnT                0.998570   0.862271  0.417544  0.561345  0.973748   \n",
       "gdT                0.994042   0.897600  0.830766  0.862854  0.990616   \n",
       "pDC                0.999869   0.984162  0.991304  0.987715  0.999991   \n",
       "\n",
       "                     PR-AUC       MCC  \n",
       "ASDC               0.927252  0.800524  \n",
       "B_intermediate     0.894496  0.800635  \n",
       "B_memory           0.972106  0.910377  \n",
       "B_naive            0.979776  0.942475  \n",
       "CD14_Mono          0.994705  0.977293  \n",
       "CD16_Mono          0.955000  0.919262  \n",
       "CD4_CTL            0.794035  0.681964  \n",
       "CD4_Naive          0.961107  0.887795  \n",
       "CD4_Proliferating  0.698960  0.632977  \n",
       "CD4_TCM            0.894824  0.796274  \n",
       "CD4_TEM            0.738941  0.645566  \n",
       "CD8_Naive          0.989013  0.951121  \n",
       "CD8_Proliferating  0.694279  0.571822  \n",
       "CD8_TCM            0.829187  0.728104  \n",
       "CD8_TEM            0.977767  0.922868  \n",
       "Doublet            0.389237  0.489754  \n",
       "Eryth              0.858709  0.833312  \n",
       "HSPC               0.991021  0.965078  \n",
       "ILC                0.834943  0.705088  \n",
       "MAIT               0.962582  0.907278  \n",
       "NK                 0.986434  0.942819  \n",
       "NK_CD56bright      0.946742  0.863844  \n",
       "NK_Proliferating   0.931713  0.839747  \n",
       "Plasmablast        0.986758  0.977599  \n",
       "Platelet           0.951678  0.951533  \n",
       "Treg               0.856251  0.763831  \n",
       "cDC1               0.975702  0.962033  \n",
       "cDC2               0.966267  0.923115  \n",
       "dnT                0.619823  0.598706  \n",
       "gdT                0.901962  0.860505  \n",
       "pDC                0.998094  0.987658  "
      ]
     },
     "execution_count": 13,
     "metadata": {},
     "output_type": "execute_result"
    }
   ],
   "source": [
    "all_metrics_df"
   ]
  },
  {
   "cell_type": "code",
   "execution_count": null,
   "metadata": {},
   "outputs": [],
   "source": [
    "cv_results_dict"
   ]
  },
  {
   "cell_type": "code",
   "execution_count": 14,
   "metadata": {},
   "outputs": [
    {
     "name": "stdout",
     "output_type": "stream",
     "text": [
      "C:\\Users\\evanlee\\Documents\\GitHub\\EvanPys\\Progress\\PBMC_Hao_batch_noZ\\Level2\\DEG_L2\n"
     ]
    }
   ],
   "source": [
    "!cd"
   ]
  },
  {
   "cell_type": "code",
   "execution_count": 15,
   "metadata": {},
   "outputs": [],
   "source": [
    "all_metrics_df.to_csv('XGBclassifier_DEG_binary_metrics_l2.csv')"
   ]
  },
  {
   "cell_type": "code",
   "execution_count": null,
   "metadata": {},
   "outputs": [],
   "source": []
  }
 ],
 "metadata": {
  "kernelspec": {
   "display_name": "Python 3",
   "language": "python",
   "name": "python3"
  },
  "language_info": {
   "codemirror_mode": {
    "name": "ipython",
    "version": 3
   },
   "file_extension": ".py",
   "mimetype": "text/x-python",
   "name": "python",
   "nbconvert_exporter": "python",
   "pygments_lexer": "ipython3",
   "version": "3.9.12"
  }
 },
 "nbformat": 4,
 "nbformat_minor": 2
}

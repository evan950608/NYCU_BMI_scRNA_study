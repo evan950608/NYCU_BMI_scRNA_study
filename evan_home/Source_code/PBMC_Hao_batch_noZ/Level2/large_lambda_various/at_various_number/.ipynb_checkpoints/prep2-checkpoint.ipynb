{
 "cells": [
  {
   "cell_type": "code",
   "execution_count": 1,
   "metadata": {},
   "outputs": [],
   "source": [
    "import numpy as np\n",
    "import pandas as pd\n",
    "import os"
   ]
  },
  {
   "cell_type": "code",
   "execution_count": 2,
   "metadata": {},
   "outputs": [],
   "source": [
    "selection_idx_dict = {\n",
    "    'ASDC': [8, 10, 12, 14],\n",
    "    'B_intermediate': [11, 12, 13, 14, 15, 17],\n",
    "    'B_memory': [9, 10, 11, 12, 13, 14, 15, 16, 17],\n",
    "    'B_naive': [18],\n",
    "    'CD14_Mono': [15, 17, 20, 22],\n",
    "    'CD16_Mono': [14, 16, 18],\n",
    "    'CD4_CTL': [10, 11, 12, 13, 14, 15, 17, 19],\n",
    "    'CD4_Naive': [8, 10, 12, 14, 16, 17, 18, 19, 21],\n",
    "    'CD4_Proliferating': [8, 9, 10, 11, 13],\n",
    "    'CD4_TCM': [11, 12, 14, 16, 17, 18, 19, 20],\n",
    "    'CD4_TEM': [11, 12, 14, 15, 16, 18],\n",
    "    'CD8_Naive': [10, 11, 13, 14, 15, 16, 18, 19],\n",
    "    'CD8_Proliferating': [7, 8, 9, 10, 11, 12],\n",
    "    'CD8_TCM': [10, 11, 12, 13, 14, 15, 16, 18],\n",
    "    'CD8_TEM': [12, 13, 14, 15, 16, 18, 20],\n",
    "    'HSPC': [12, 14],\n",
    "    'ILC': [7, 8, 9, 11, 12, 13, 14],\n",
    "    'MAIT': [11, 12, 13, 14, 16, 17],\n",
    "    'NK': [17, 19, 21, 23],\n",
    "    'NK_CD56bright': [9, 11, 12, 14, 16, 18],\n",
    "    'NK_Proliferating': [10, 11, 13, 15, 18],\n",
    "    'Plasmablast': [12, 14, 16],\n",
    "    'Treg': [10, 12, 13, 14, 15, 16, 17],\n",
    "    'cDC1': [8, 10, 12, 14],\n",
    "    'cDC2': [15],\n",
    "    'dnT': [11, 13, 14, 17],\n",
    "    'gdT': [15, 17],\n",
    "    'pDC': [14, 18]\n",
    "}\n",
    "queue_filtered = ['B_memory',\n",
    "                  'B_naive',  # previous result single\n",
    "                    'CD14_Mono',\n",
    "                    'CD16_Mono',\n",
    "                    'CD4_Naive',\n",
    "                    'CD4_TCM',\n",
    "                    'CD4_TEM',\n",
    "                    'CD8_Naive',\n",
    "                    'CD8_TCM',\n",
    "                    'CD8_TEM',\n",
    "                    'HSPC',\n",
    "                    'MAIT',\n",
    "                    'NK',\n",
    "                    'NK_CD56bright',\n",
    "                    'Plasmablast',\n",
    "                    'Treg',\n",
    "                    'cDC1',\n",
    "                    'cDC2',   # previous result single\n",
    "                    'gdT',\n",
    "                    'pDC']"
   ]
  },
  {
   "cell_type": "code",
   "execution_count": 3,
   "metadata": {},
   "outputs": [
    {
     "data": {
      "text/plain": [
       "dict_keys(['B_memory', 'B_naive', 'CD14_Mono', 'CD16_Mono', 'CD4_Naive', 'CD4_TCM', 'CD4_TEM', 'CD8_Naive', 'CD8_TCM', 'CD8_TEM', 'HSPC', 'MAIT', 'NK', 'NK_CD56bright', 'Plasmablast', 'Treg', 'cDC1', 'cDC2', 'gdT', 'pDC'])"
      ]
     },
     "execution_count": 3,
     "metadata": {},
     "output_type": "execute_result"
    }
   ],
   "source": [
    "selection_idx_dict = {key: value for key, value in selection_idx_dict.items() if key in queue_filtered}\n",
    "selection_idx_dict.keys()"
   ]
  },
  {
   "cell_type": "code",
   "execution_count": 4,
   "metadata": {},
   "outputs": [
    {
     "data": {
      "text/plain": [
       "{'B_memory': [8, 18, 20],\n",
       " 'B_naive': [8, 10, 12, 14, 16, 20],\n",
       " 'CD14_Mono': [8, 10, 12, 14, 16, 18],\n",
       " 'CD16_Mono': [8, 10, 12, 20],\n",
       " 'CD4_Naive': [20],\n",
       " 'CD4_TCM': [8, 10],\n",
       " 'CD4_TEM': [8, 10, 20],\n",
       " 'CD8_Naive': [8, 12, 20],\n",
       " 'CD8_TCM': [8, 20],\n",
       " 'CD8_TEM': [8, 10],\n",
       " 'HSPC': [8, 10, 16, 18, 20],\n",
       " 'MAIT': [8, 10, 18, 20],\n",
       " 'NK': [8, 10, 12, 14, 16, 18, 20],\n",
       " 'NK_CD56bright': [8, 10, 20],\n",
       " 'Plasmablast': [8, 10, 18, 20],\n",
       " 'Treg': [8, 18, 20],\n",
       " 'cDC1': [16, 18, 20],\n",
       " 'cDC2': [8, 10, 12, 14, 16, 18, 20],\n",
       " 'gdT': [8, 10, 12, 14, 16, 18, 20],\n",
       " 'pDC': [8, 10, 12, 16, 20]}"
      ]
     },
     "execution_count": 4,
     "metadata": {},
     "output_type": "execute_result"
    }
   ],
   "source": [
    "master_indices = [8, 10, 12, 14, 16, 18, 20]\n",
    "new_idx_dict = {}\n",
    "\n",
    "for k, v in selection_idx_dict.items():\n",
    "    new_idx = []\n",
    "    for m in master_indices:\n",
    "        if m not in v:\n",
    "            new_idx.append(m)\n",
    "    new_idx_dict[k] = new_idx\n",
    "\n",
    "new_idx_dict"
   ]
  },
  {
   "cell_type": "code",
   "execution_count": 5,
   "metadata": {},
   "outputs": [
    {
     "data": {
      "text/plain": [
       "80"
      ]
     },
     "execution_count": 5,
     "metadata": {},
     "output_type": "execute_result"
    }
   ],
   "source": [
    "count = 0\n",
    "for v in new_idx_dict.values():\n",
    "    count += len(v)\n",
    "count"
   ]
  },
  {
   "cell_type": "code",
   "execution_count": 6,
   "metadata": {},
   "outputs": [
    {
     "data": {
      "text/plain": [
       "10.666666666666666"
      ]
     },
     "execution_count": 6,
     "metadata": {},
     "output_type": "execute_result"
    }
   ],
   "source": [
    "80*8/60"
   ]
  }
 ],
 "metadata": {
  "kernelspec": {
   "display_name": "Python 3",
   "language": "python",
   "name": "python3"
  },
  "language_info": {
   "codemirror_mode": {
    "name": "ipython",
    "version": 3
   },
   "file_extension": ".py",
   "mimetype": "text/x-python",
   "name": "python",
   "nbconvert_exporter": "python",
   "pygments_lexer": "ipython3",
   "version": "3.9.12"
  }
 },
 "nbformat": 4,
 "nbformat_minor": 2
}

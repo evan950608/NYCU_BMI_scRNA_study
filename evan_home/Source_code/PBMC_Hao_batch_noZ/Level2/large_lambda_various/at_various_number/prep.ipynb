{
 "cells": [
  {
   "cell_type": "code",
   "execution_count": 1,
   "metadata": {},
   "outputs": [],
   "source": [
    "import pandas as pd\n",
    "import numpy as np\n",
    "import os\n",
    "import json\n"
   ]
  },
  {
   "cell_type": "code",
   "execution_count": null,
   "metadata": {},
   "outputs": [],
   "source": [
    "with open('/Users/evanli/Documents/EvanPys/Progress/PBMC_Hao_batch_noZ/Level2/L2c_k3_opt_lmbd.json', 'r') as f:\n",
    "    opt_lmbd_dict = json.load(f)\n",
    "opt_lmbd_dict"
   ]
  },
  {
   "cell_type": "code",
   "execution_count": 5,
   "metadata": {},
   "outputs": [
    {
     "name": "stdout",
     "output_type": "stream",
     "text": [
      "ASDC 46 0.0002154434690031884\n",
      "B_intermediate 95 0.0006812920690579617\n",
      "B_memory 141 0.00031622776601683783\n",
      "B_naive 6 0.010000000000000005\n",
      "CD14_Mono 30 0.003162277660168382\n",
      "CD16_Mono 42 0.0021544346900318843\n",
      "CD4_CTL 117 0.00046415888336127795\n",
      "CD4_Naive 622 0.0002154434690031884\n",
      "CD4_Proliferating 73 0.0002154434690031884\n",
      "CD4_TCM 368 0.0006812920690579617\n",
      "CD4_TEM 175 0.0006812920690579617\n",
      "CD8_Naive 305 0.00046415888336127795\n",
      "CD8_Proliferating 102 0.00014677992676220703\n",
      "CD8_TCM 346 0.00046415888336127795\n",
      "CD8_TEM 99 0.0010000000000000002\n",
      "Doublet 37 0.0014677992676220694\n",
      "Eryth 5 0.0021544346900318843\n",
      "HSPC 17 0.0010000000000000002\n",
      "ILC 78 0.00014677992676220703\n",
      "MAIT 59 0.0006812920690579617\n",
      "NK 31 0.006812920690579613\n",
      "NK_CD56bright 85 0.00031622776601683783\n",
      "NK_Proliferating 61 0.00046415888336127795\n",
      "Plasmablast 17 0.0010000000000000002\n",
      "Platelet 5 0.010000000000000005\n",
      "Treg 148 0.00046415888336127795\n",
      "cDC1 33 0.0002154434690031884\n",
      "cDC2 12 0.003162277660168382\n",
      "dnT 47 0.0006812920690579617\n",
      "gdT 25 0.003162277660168382\n",
      "pDC 20 0.0021544346900318843\n"
     ]
    }
   ],
   "source": [
    "types = ['ASDC', 'B_intermediate', 'B_memory', 'B_naive', 'CD14_Mono', 'CD16_Mono', 'CD4_CTL', 'CD4_Naive', 'CD4_Proliferating', 'CD4_TCM', 'CD4_TEM', 'CD8_Naive', 'CD8_Proliferating', 'CD8_TCM', 'CD8_TEM', 'Doublet', 'Eryth', 'HSPC', 'ILC', 'MAIT', 'NK', 'NK_CD56bright', 'NK_Proliferating', 'Plasmablast', 'Platelet', 'Treg', 'cDC1', 'cDC2', 'dnT', 'gdT', 'pDC']\n",
    "os.chdir('/Users/evanli/Documents/EvanPys/Progress/PBMC_Hao_batch_noZ/Level2/tuning_result')\n",
    "\n",
    "opt_idx_dict = {}\n",
    "for celltype in types:\n",
    "    with open(f'{celltype}_tuning.json', 'r') as f:\n",
    "        tuning = json.load(f)\n",
    "    opt_lmbd = opt_lmbd_dict[celltype]\n",
    "    lmbd_range = np.exp(tuning['log_lambda_range'])\n",
    "    opt_idx = np.where(lmbd_range == opt_lmbd)[0][0]\n",
    "    opt_idx_dict[celltype] = opt_idx\n",
    "    feature_no_celltype = int(tuning['Feature_number'][opt_idx])\n",
    "    print(celltype, feature_no_celltype, opt_lmbd)"
   ]
  },
  {
   "cell_type": "code",
   "execution_count": 6,
   "metadata": {},
   "outputs": [
    {
     "data": {
      "text/plain": [
       "{'ASDC': 8,\n",
       " 'B_intermediate': 11,\n",
       " 'B_memory': 9,\n",
       " 'B_naive': 18,\n",
       " 'CD14_Mono': 15,\n",
       " 'CD16_Mono': 14,\n",
       " 'CD4_CTL': 10,\n",
       " 'CD4_Naive': 8,\n",
       " 'CD4_Proliferating': 8,\n",
       " 'CD4_TCM': 11,\n",
       " 'CD4_TEM': 11,\n",
       " 'CD8_Naive': 10,\n",
       " 'CD8_Proliferating': 7,\n",
       " 'CD8_TCM': 10,\n",
       " 'CD8_TEM': 12,\n",
       " 'Doublet': 13,\n",
       " 'Eryth': 14,\n",
       " 'HSPC': 12,\n",
       " 'ILC': 7,\n",
       " 'MAIT': 11,\n",
       " 'NK': 17,\n",
       " 'NK_CD56bright': 9,\n",
       " 'NK_Proliferating': 10,\n",
       " 'Plasmablast': 12,\n",
       " 'Platelet': 18,\n",
       " 'Treg': 10,\n",
       " 'cDC1': 8,\n",
       " 'cDC2': 15,\n",
       " 'dnT': 11,\n",
       " 'gdT': 15,\n",
       " 'pDC': 14}"
      ]
     },
     "execution_count": 6,
     "metadata": {},
     "output_type": "execute_result"
    }
   ],
   "source": [
    "opt_idx_dict"
   ]
  },
  {
   "cell_type": "code",
   "execution_count": 2,
   "metadata": {},
   "outputs": [],
   "source": [
    "selection_idx_dict = {\n",
    "    'ASDC': [8, 10, 12, 14],\n",
    "    'B_intermediate': [11, 12, 13, 14, 15, 17],\n",
    "    'B_memory': [9, 10, 11, 12, 13, 14, 15, 16, 17],\n",
    "    'B_naive': [18],\n",
    "    'CD14_Mono': [15, 17, 20, 22],\n",
    "    'CD16_Mono': [14, 16, 18],\n",
    "    'CD4_CTL': [10, 11, 12, 13, 14, 15, 17, 19],\n",
    "    'CD4_Naive': [8, 10, 12, 14, 16, 17, 18, 19, 21],\n",
    "    'CD4_Proliferating': [8, 9, 10, 11, 13],\n",
    "    'CD4_TCM': [11, 12, 14, 16, 17, 18, 19, 20],\n",
    "    'CD4_TEM': [11, 12, 14, 15, 16, 18],\n",
    "    'CD8_Naive': [10, 11, 13, 14, 15, 16, 18, 19],\n",
    "    'CD8_Proliferating': [7, 8, 9, 10, 11, 12],\n",
    "    'CD8_TCM': [10, 11, 12, 13, 14, 15, 16, 18],\n",
    "    'CD8_TEM': [12, 13, 14, 15, 16, 18, 20],\n",
    "    'HSPC': [12, 14],\n",
    "    'ILC': [7, 8, 9, 11, 12, 13, 14],\n",
    "    'MAIT': [11, 12, 13, 14, 16, 17],\n",
    "    'NK': [17, 19, 21, 23],\n",
    "    'NK_CD56bright': [9, 11, 12, 14, 16, 18],\n",
    "    'NK_Proliferating': [10, 11, 13, 15, 18],\n",
    "    'Plasmablast': [12, 14, 16],\n",
    "    'Treg': [10, 12, 13, 14, 15, 16, 17],\n",
    "    'cDC1': [8, 10, 12, 14],\n",
    "    'cDC2': [15],\n",
    "    'dnT': [11, 13, 14, 17],\n",
    "    'gdT': [15, 17],\n",
    "    'pDC': [14, 18]\n",
    "}"
   ]
  },
  {
   "cell_type": "code",
   "execution_count": 4,
   "metadata": {},
   "outputs": [],
   "source": [
    "def get_lambdas_for_celltype(idx, tuning_filename):\n",
    "    def convert_lists_to_arrays(dictionary):\n",
    "        for key in dictionary:\n",
    "            dictionary[key] = np.array(dictionary[key])\n",
    "        return dictionary\n",
    "\n",
    "    with open(tuning_filename) as f:\n",
    "        tuning = json.load(f)\n",
    "    tuning = convert_lists_to_arrays(tuning)\n",
    "\n",
    "    queue_lambda = tuning['log_lambda_range'][idx]\n",
    "    queue_lambda = np.exp(queue_lambda)\n",
    "    return queue_lambda\n"
   ]
  },
  {
   "cell_type": "code",
   "execution_count": 5,
   "metadata": {},
   "outputs": [
    {
     "data": {
      "text/plain": [
       "{'ASDC': array([0.00021544, 0.00046416, 0.001     , 0.00215443]),\n",
       " 'B_intermediate': array([0.00068129, 0.001     , 0.0014678 , 0.00215443, 0.00316228,\n",
       "        0.00681292]),\n",
       " 'B_memory': array([0.00031623, 0.00046416, 0.00068129, 0.001     , 0.0014678 ,\n",
       "        0.00215443, 0.00316228, 0.00464159, 0.00681292]),\n",
       " 'B_naive': array([0.01]),\n",
       " 'CD14_Mono': array([0.00316228, 0.00681292, 0.02154435, 0.04641589]),\n",
       " 'CD16_Mono': array([0.00215443, 0.00464159, 0.01      ]),\n",
       " 'CD4_CTL': array([0.00046416, 0.00068129, 0.001     , 0.0014678 , 0.00215443,\n",
       "        0.00316228, 0.00681292, 0.01467799]),\n",
       " 'CD4_Naive': array([0.00021544, 0.00046416, 0.001     , 0.00215443, 0.00464159,\n",
       "        0.00681292, 0.01      , 0.01467799, 0.03162278]),\n",
       " 'CD4_Proliferating': array([0.00021544, 0.00031623, 0.00046416, 0.00068129, 0.0014678 ]),\n",
       " 'CD4_TCM': array([0.00068129, 0.001     , 0.00215443, 0.00464159, 0.00681292,\n",
       "        0.01      , 0.01467799, 0.02154435]),\n",
       " 'CD4_TEM': array([0.00068129, 0.001     , 0.00215443, 0.00316228, 0.00464159,\n",
       "        0.01      ]),\n",
       " 'CD8_Naive': array([0.00046416, 0.00068129, 0.0014678 , 0.00215443, 0.00316228,\n",
       "        0.00464159, 0.01      , 0.01467799]),\n",
       " 'CD8_Proliferating': array([0.00014678, 0.00021544, 0.00031623, 0.00046416, 0.00068129,\n",
       "        0.001     ]),\n",
       " 'CD8_TCM': array([0.00046416, 0.00068129, 0.001     , 0.0014678 , 0.00215443,\n",
       "        0.00316228, 0.00464159, 0.01      ]),\n",
       " 'CD8_TEM': array([0.001     , 0.0014678 , 0.00215443, 0.00316228, 0.00464159,\n",
       "        0.01      , 0.02154435]),\n",
       " 'HSPC': array([0.001     , 0.00215443]),\n",
       " 'ILC': array([0.00014678, 0.00021544, 0.00031623, 0.00068129, 0.001     ,\n",
       "        0.0014678 , 0.00215443]),\n",
       " 'MAIT': array([0.00068129, 0.001     , 0.0014678 , 0.00215443, 0.00464159,\n",
       "        0.00681292]),\n",
       " 'NK': array([0.00681292, 0.01467799, 0.03162278, 0.06812921]),\n",
       " 'NK_CD56bright': array([0.00031623, 0.00068129, 0.001     , 0.00215443, 0.00464159,\n",
       "        0.01      ]),\n",
       " 'NK_Proliferating': array([0.00046416, 0.00068129, 0.0014678 , 0.00316228, 0.01      ]),\n",
       " 'Plasmablast': array([0.001     , 0.00215443, 0.00464159]),\n",
       " 'Treg': array([0.00046416, 0.001     , 0.0014678 , 0.00215443, 0.00316228,\n",
       "        0.00464159, 0.00681292]),\n",
       " 'cDC1': array([0.00021544, 0.00046416, 0.001     , 0.00215443]),\n",
       " 'cDC2': array([0.00316228]),\n",
       " 'dnT': array([0.00068129, 0.0014678 , 0.00215443, 0.00681292]),\n",
       " 'gdT': array([0.00316228, 0.00681292]),\n",
       " 'pDC': array([0.00215443, 0.01      ])}"
      ]
     },
     "execution_count": 5,
     "metadata": {},
     "output_type": "execute_result"
    }
   ],
   "source": [
    "lambda_dict = {}\n",
    "for celltype, indices in selection_idx_dict.items():\n",
    "    tuning_filename = os.path.join('/Users/evanli/Documents/EvanPys/Progress/PBMC_Hao_batch_noZ/Level2/tuning_result', f'{celltype}_tuning.json')\n",
    "    lambda_dict[celltype] = get_lambdas_for_celltype(indices, tuning_filename)\n",
    "lambda_dict"
   ]
  },
  {
   "cell_type": "code",
   "execution_count": null,
   "metadata": {},
   "outputs": [],
   "source": []
  }
 ],
 "metadata": {
  "kernelspec": {
   "display_name": "base",
   "language": "python",
   "name": "python3"
  },
  "language_info": {
   "codemirror_mode": {
    "name": "ipython",
    "version": 3
   },
   "file_extension": ".py",
   "mimetype": "text/x-python",
   "name": "python",
   "nbconvert_exporter": "python",
   "pygments_lexer": "ipython3",
   "version": "3.9.12"
  }
 },
 "nbformat": 4,
 "nbformat_minor": 2
}

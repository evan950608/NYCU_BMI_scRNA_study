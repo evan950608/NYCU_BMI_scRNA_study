{
 "cells": [
  {
   "cell_type": "code",
   "execution_count": 1,
   "metadata": {},
   "outputs": [
    {
     "name": "stdout",
     "output_type": "stream",
     "text": [
      "Home Path: c:\\Users\\evanlee\\Documents\\Bmi_NAS_evan\\evan_home\n"
     ]
    }
   ],
   "source": [
    "from pathlib import Path\n",
    "\n",
    "# Get the current working directory as a Path object\n",
    "current_path = Path.cwd()\n",
    "home_folder = 'evan_home'\n",
    "\n",
    "# Traverse up the directory tree until you find the target folder\n",
    "for parent in [current_path] + list(current_path.parents):\n",
    "    if parent.name == home_folder:\n",
    "        home_path = parent\n",
    "        break\n",
    "else:\n",
    "    raise ValueError(f\"Folder '{home_folder}' not found in the current working directory.\")\n",
    "\n",
    "print(\"Home Path:\", home_path)\n",
    "source_code_dir = home_path / 'Source_code'\n",
    "dataset_dir = home_path / 'Dataset'\n"
   ]
  },
  {
   "cell_type": "code",
   "execution_count": 2,
   "metadata": {},
   "outputs": [],
   "source": [
    "import numpy as np\n",
    "import pandas as pd\n",
    "import matplotlib.pyplot as plt\n",
    "import json\n",
    "import os"
   ]
  },
  {
   "cell_type": "code",
   "execution_count": 3,
   "metadata": {},
   "outputs": [
    {
     "data": {
      "text/plain": [
       "18"
      ]
     },
     "execution_count": 3,
     "metadata": {},
     "output_type": "execute_result"
    }
   ],
   "source": [
    "queue = ['ASDC', 'B_intermediate', 'B_memory', 'CD4_CTL', 'CD4_Naive', 'CD4_Proliferating', 'CD4_TCM', 'CD4_TEM', 'CD8_Naive', 'CD8_Proliferating', 'CD8_TCM', 'CD8_TEM', 'ILC', 'MAIT', 'NK_CD56bright', 'NK_Proliferating', 'Treg', 'dnT']\n",
    "len(queue)"
   ]
  },
  {
   "cell_type": "code",
   "execution_count": 4,
   "metadata": {},
   "outputs": [
    {
     "data": {
      "text/plain": [
       "dict_keys(['Percentage', 'Prevalence', 'Other_prevalence', 'Feature_number', 'AUC', 'AUPR', 'MCC', 'Precision', 'F1 score', 'loss_history', 'error_history', 'log_lambda_range'])"
      ]
     },
     "execution_count": 4,
     "metadata": {},
     "output_type": "execute_result"
    }
   ],
   "source": [
    "# os.chdir(r'C:\\Users\\evanlee\\Documents\\GitHub\\EvanPys\\Progress\\PBMC_Hao_batch_noZ\\Level2\\tuning_result')\n",
    "os.chdir(source_code_dir / 'PBMC_Hao_batch_noZ/Level2/tuning_result')\n",
    "celltype = 'NK_CD56bright'\n",
    "with open(f'{celltype}_tuning.json') as f:\n",
    "    tuning = json.load(f)\n",
    "tuning.keys()"
   ]
  },
  {
   "cell_type": "code",
   "execution_count": 5,
   "metadata": {},
   "outputs": [
    {
     "name": "stdout",
     "output_type": "stream",
     "text": [
      "12\n"
     ]
    }
   ],
   "source": [
    "# Find the index when 'Feature number' start to fall below 40\n",
    "idx_40 = 0\n",
    "for feature_no in tuning['Feature_number']:\n",
    "    if feature_no < 40:\n",
    "        # Get the previous index\n",
    "        # idx_30 -= 1\n",
    "        print(idx_40)\n",
    "        break\n",
    "    idx_40 += 1"
   ]
  },
  {
   "cell_type": "code",
   "execution_count": 41,
   "metadata": {},
   "outputs": [
    {
     "data": {
      "text/plain": [
       "[1736.0,\n",
       " 1865.0,\n",
       " 946.0,\n",
       " 867.0,\n",
       " 656.0,\n",
       " 546.0,\n",
       " 253.0,\n",
       " 181.0,\n",
       " 128.0,\n",
       " 85.0,\n",
       " 68.0,\n",
       " 55.0,\n",
       " 38.0,\n",
       " 35.0,\n",
       " 26.0,\n",
       " 25.0,\n",
       " 15.0,\n",
       " 10.0,\n",
       " 11.0,\n",
       " 7.0,\n",
       " 5.0,\n",
       " 5.0,\n",
       " 1.0,\n",
       " 3.0,\n",
       " 1.0]"
      ]
     },
     "execution_count": 41,
     "metadata": {},
     "output_type": "execute_result"
    }
   ],
   "source": [
    "tuning['Feature_number']"
   ]
  },
  {
   "cell_type": "code",
   "execution_count": 21,
   "metadata": {},
   "outputs": [
    {
     "data": {
      "text/plain": [
       "0.00046415888336127795"
      ]
     },
     "execution_count": 21,
     "metadata": {},
     "output_type": "execute_result"
    }
   ],
   "source": [
    "lmbd_40_features = np.exp(tuning['log_lambda_range'][idx_40])\n",
    "lmbd_40_features"
   ]
  },
  {
   "cell_type": "code",
   "execution_count": 6,
   "metadata": {},
   "outputs": [
    {
     "name": "stdout",
     "output_type": "stream",
     "text": [
      "ASDC\n",
      "10\n",
      "New number of features (<40): 25.0\n",
      "B_intermediate\n",
      "14\n",
      "New number of features (<40): 34.0\n",
      "B_memory\n",
      "14\n",
      "New number of features (<40): 31.0\n",
      "CD4_CTL\n",
      "15\n",
      "New number of features (<40): 35.0\n",
      "CD4_Naive\n",
      "18\n",
      "New number of features (<40): 37.0\n",
      "CD4_Proliferating\n",
      "9\n",
      "New number of features (<40): 38.0\n",
      "CD4_TCM\n",
      "17\n",
      "New number of features (<40): 36.0\n",
      "CD4_TEM\n",
      "15\n",
      "New number of features (<40): 34.0\n",
      "CD8_Naive\n",
      "16\n",
      "New number of features (<40): 37.0\n",
      "CD8_Proliferating\n",
      "9\n",
      "New number of features (<40): 39.0\n",
      "CD8_TCM\n",
      "15\n",
      "New number of features (<40): 35.0\n",
      "CD8_TEM\n",
      "16\n",
      "New number of features (<40): 30.0\n",
      "ILC\n",
      "11\n",
      "New number of features (<40): 32.0\n",
      "MAIT\n",
      "13\n",
      "New number of features (<40): 31.0\n",
      "NK_CD56bright\n",
      "12\n",
      "New number of features (<40): 38.0\n",
      "NK_Proliferating\n",
      "12\n",
      "New number of features (<40): 32.0\n",
      "Treg\n",
      "16\n",
      "New number of features (<40): 26.0\n",
      "dnT\n",
      "12\n",
      "New number of features (<40): 38.0\n"
     ]
    }
   ],
   "source": [
    "# os.chdir(r'C:\\Users\\evanlee\\Documents\\GitHub\\EvanPys\\Progress\\PBMC_Hao_batch_noZ\\Level2\\tuning_result')\n",
    "os.chdir(source_code_dir / 'PBMC_Hao_batch_noZ/Level2/tuning_result')\n",
    "lmbd_40_features_dict = {}\n",
    "for celltype in queue:\n",
    "    print(celltype)\n",
    "    with open(f'{celltype}_tuning.json') as f:\n",
    "        tuning = json.load(f)\n",
    "    \n",
    "    # Find the index when 'Feature number' start to fall below 40\n",
    "    idx_40 = 0\n",
    "    for feature_no in tuning['Feature_number']:\n",
    "        if feature_no < 40:\n",
    "            # Get the previous index\n",
    "            # idx_30 -= 1\n",
    "            print(idx_40)\n",
    "            break\n",
    "        idx_40 += 1\n",
    "    print('New number of features (<40):', tuning['Feature_number'][idx_40])\n",
    "\n",
    "    lmbd_40_features = np.exp(tuning['log_lambda_range'][idx_40])\n",
    "    lmbd_40_features_dict[celltype] = lmbd_40_features\n"
   ]
  },
  {
   "cell_type": "code",
   "execution_count": 23,
   "metadata": {},
   "outputs": [
    {
     "data": {
      "text/plain": [
       "{'ASDC': 0.00046415888336127795,\n",
       " 'B_intermediate': 0.0021544346900318843,\n",
       " 'B_memory': 0.0021544346900318843,\n",
       " 'CD4_CTL': 0.003162277660168382,\n",
       " 'CD4_Naive': 0.010000000000000004,\n",
       " 'CD4_Proliferating': 0.00031622776601683783,\n",
       " 'CD4_TCM': 0.006812920690579613,\n",
       " 'CD4_TEM': 0.003162277660168382,\n",
       " 'CD8_Naive': 0.004641588833612781,\n",
       " 'CD8_Proliferating': 0.00031622776601683783,\n",
       " 'CD8_TCM': 0.003162277660168382,\n",
       " 'CD8_TEM': 0.004641588833612781,\n",
       " 'ILC': 0.0006812920690579617,\n",
       " 'MAIT': 0.0014677992676220694,\n",
       " 'NK_CD56bright': 0.0010000000000000002,\n",
       " 'NK_Proliferating': 0.0010000000000000002,\n",
       " 'Treg': 0.004641588833612781,\n",
       " 'dnT': 0.0010000000000000002}"
      ]
     },
     "execution_count": 23,
     "metadata": {},
     "output_type": "execute_result"
    }
   ],
   "source": [
    "lmbd_40_features_dict"
   ]
  },
  {
   "cell_type": "code",
   "execution_count": null,
   "metadata": {},
   "outputs": [],
   "source": [
    "# write to json\n",
    "# os.chdir(r\"C:\\Users\\evanlee\\Documents\\GitHub\\EvanPys\\Progress\\PBMC_Hao_batch_noZ\\Level2\\large_lambda\")\n",
    "os.chdir(source_code_dir / 'PBMC_Hao_batch_noZ/Level2/large_lambda')\n",
    "with open('lambda_at_40_features.json', 'w') as f:\n",
    "    json.dump(lmbd_40_features_dict, f)"
   ]
  }
 ],
 "metadata": {
  "kernelspec": {
   "display_name": "Python 3",
   "language": "python",
   "name": "python3"
  },
  "language_info": {
   "codemirror_mode": {
    "name": "ipython",
    "version": 3
   },
   "file_extension": ".py",
   "mimetype": "text/x-python",
   "name": "python",
   "nbconvert_exporter": "python",
   "pygments_lexer": "ipython3",
   "version": "3.9.12"
  }
 },
 "nbformat": 4,
 "nbformat_minor": 2
}

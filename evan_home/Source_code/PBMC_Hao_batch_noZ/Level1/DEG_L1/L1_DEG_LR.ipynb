{
 "cells": [
  {
   "cell_type": "code",
   "execution_count": 1,
   "metadata": {},
   "outputs": [
    {
     "name": "stdout",
     "output_type": "stream",
     "text": [
      "Home Path: c:\\Users\\evanlee\\Documents\\Bmi_NAS_evan\\evan_home\n"
     ]
    }
   ],
   "source": [
    "from pathlib import Path\n",
    "\n",
    "# Get the current working directory as a Path object\n",
    "current_path = Path.cwd()\n",
    "home_folder = 'evan_home'\n",
    "\n",
    "# Traverse up the directory tree until you find the target folder\n",
    "for parent in [current_path] + list(current_path.parents):\n",
    "    if parent.name == home_folder:\n",
    "        home_path = parent\n",
    "        break\n",
    "else:\n",
    "    raise ValueError(f\"Folder '{home_folder}' not found in the current working directory.\")\n",
    "\n",
    "print(\"Home Path:\", home_path)\n",
    "source_code_dir = home_path / 'Source_code'\n",
    "dataset_dir = home_path / 'Dataset'\n"
   ]
  },
  {
   "cell_type": "code",
   "execution_count": 2,
   "metadata": {},
   "outputs": [],
   "source": [
    "import numpy as np\n",
    "import matplotlib.pyplot as plt\n",
    "import pandas as pd\n",
    "import json\n",
    "import pickle\n",
    "import xgboost as xgb"
   ]
  },
  {
   "cell_type": "code",
   "execution_count": 3,
   "metadata": {},
   "outputs": [
    {
     "name": "stdout",
     "output_type": "stream",
     "text": [
      "Original adata: (161764, 33538)\n",
      "all cell types: ['B', 'CD4_T', 'CD8_T', 'DC', 'Mono', 'NK', 'other', 'other_T']\n",
      "====================\n"
     ]
    }
   ],
   "source": [
    "import scanpy as sc\n",
    "\n",
    "# adata = sc.read_h5ad(r\"C:\\Users\\evanlee\\Documents\\Research_datasets\\PBMC_Hao\\GSE164378_Hao\\Harmony_noZ\\Hao_Harmony_test_no_scale.h5ad\")\n",
    "# adata = sc.read_h5ad('/Users/evanli/Documents/Research_datasets/PBMC_Hao/GSE164378_Hao/Harmony_noZ/Hao_Harmony_test_no_scale.h5ad')\n",
    "adata = sc.read_h5ad(dataset_dir / 'PBMC_Hao/GSE164378_Hao/Harmony_noZ/Hao_Harmony_test_no_scale.h5ad')\n",
    "\n",
    "print('Original adata:', adata.shape)\n",
    "adata.obs['celltype.l1'] = adata.obs['celltype.l1'].str.replace(' ', '_')\n",
    "label = adata.obs['celltype.l1'].tolist()\n",
    "types = np.unique(label).tolist()\n",
    "print('all cell types:', types)\n",
    "print('====================')\n",
    "# del adata\n"
   ]
  },
  {
   "cell_type": "code",
   "execution_count": 3,
   "metadata": {},
   "outputs": [
    {
     "data": {
      "text/html": [
       "<div>\n",
       "<style scoped>\n",
       "    .dataframe tbody tr th:only-of-type {\n",
       "        vertical-align: middle;\n",
       "    }\n",
       "\n",
       "    .dataframe tbody tr th {\n",
       "        vertical-align: top;\n",
       "    }\n",
       "\n",
       "    .dataframe thead th {\n",
       "        text-align: right;\n",
       "    }\n",
       "</style>\n",
       "<table border=\"1\" class=\"dataframe\">\n",
       "  <thead>\n",
       "    <tr style=\"text-align: right;\">\n",
       "      <th></th>\n",
       "      <th>celltype.l1</th>\n",
       "      <th>celltype.l2</th>\n",
       "      <th>celltype.l3</th>\n",
       "      <th>Batch</th>\n",
       "      <th>donor</th>\n",
       "      <th>time</th>\n",
       "      <th>lane</th>\n",
       "      <th>Phase</th>\n",
       "      <th>nCount_ADT</th>\n",
       "      <th>nFeature_ADT</th>\n",
       "      <th>nCount_RNA</th>\n",
       "      <th>nFeature_RNA</th>\n",
       "      <th>leiden</th>\n",
       "    </tr>\n",
       "  </thead>\n",
       "  <tbody>\n",
       "    <tr>\n",
       "      <th>L1_AAACCCAAGAAACTCA</th>\n",
       "      <td>Mono</td>\n",
       "      <td>CD14 Mono</td>\n",
       "      <td>CD14 Mono</td>\n",
       "      <td>Batch1</td>\n",
       "      <td>P2</td>\n",
       "      <td>7</td>\n",
       "      <td>L1</td>\n",
       "      <td>G1</td>\n",
       "      <td>7535</td>\n",
       "      <td>217</td>\n",
       "      <td>10823</td>\n",
       "      <td>2915</td>\n",
       "      <td>4</td>\n",
       "    </tr>\n",
       "    <tr>\n",
       "      <th>L1_AAACCCAAGACATACA</th>\n",
       "      <td>CD4_T</td>\n",
       "      <td>CD4 TCM</td>\n",
       "      <td>CD4 TCM_1</td>\n",
       "      <td>Batch1</td>\n",
       "      <td>P1</td>\n",
       "      <td>7</td>\n",
       "      <td>L1</td>\n",
       "      <td>G1</td>\n",
       "      <td>6013</td>\n",
       "      <td>209</td>\n",
       "      <td>5864</td>\n",
       "      <td>1617</td>\n",
       "      <td>2</td>\n",
       "    </tr>\n",
       "    <tr>\n",
       "      <th>L1_AAACCCACAACTGGTT</th>\n",
       "      <td>CD8_T</td>\n",
       "      <td>CD8 Naive</td>\n",
       "      <td>CD8 Naive</td>\n",
       "      <td>Batch1</td>\n",
       "      <td>P4</td>\n",
       "      <td>2</td>\n",
       "      <td>L1</td>\n",
       "      <td>S</td>\n",
       "      <td>6620</td>\n",
       "      <td>213</td>\n",
       "      <td>5067</td>\n",
       "      <td>1381</td>\n",
       "      <td>5</td>\n",
       "    </tr>\n",
       "    <tr>\n",
       "      <th>L1_AAACCCACACGTACTA</th>\n",
       "      <td>NK</td>\n",
       "      <td>NK</td>\n",
       "      <td>NK_2</td>\n",
       "      <td>Batch1</td>\n",
       "      <td>P3</td>\n",
       "      <td>7</td>\n",
       "      <td>L1</td>\n",
       "      <td>G1</td>\n",
       "      <td>3567</td>\n",
       "      <td>202</td>\n",
       "      <td>4786</td>\n",
       "      <td>1890</td>\n",
       "      <td>3</td>\n",
       "    </tr>\n",
       "    <tr>\n",
       "      <th>L1_AAACCCACAGCATACT</th>\n",
       "      <td>CD8_T</td>\n",
       "      <td>CD8 Naive</td>\n",
       "      <td>CD8 Naive</td>\n",
       "      <td>Batch1</td>\n",
       "      <td>P4</td>\n",
       "      <td>7</td>\n",
       "      <td>L1</td>\n",
       "      <td>G1</td>\n",
       "      <td>6402</td>\n",
       "      <td>215</td>\n",
       "      <td>6505</td>\n",
       "      <td>1621</td>\n",
       "      <td>5</td>\n",
       "    </tr>\n",
       "  </tbody>\n",
       "</table>\n",
       "</div>"
      ],
      "text/plain": [
       "                    celltype.l1 celltype.l2 celltype.l3   Batch donor  time  \\\n",
       "L1_AAACCCAAGAAACTCA        Mono   CD14 Mono   CD14 Mono  Batch1    P2     7   \n",
       "L1_AAACCCAAGACATACA       CD4_T     CD4 TCM   CD4 TCM_1  Batch1    P1     7   \n",
       "L1_AAACCCACAACTGGTT       CD8_T   CD8 Naive   CD8 Naive  Batch1    P4     2   \n",
       "L1_AAACCCACACGTACTA          NK          NK        NK_2  Batch1    P3     7   \n",
       "L1_AAACCCACAGCATACT       CD8_T   CD8 Naive   CD8 Naive  Batch1    P4     7   \n",
       "\n",
       "                    lane Phase  nCount_ADT  nFeature_ADT  nCount_RNA  \\\n",
       "L1_AAACCCAAGAAACTCA   L1    G1        7535           217       10823   \n",
       "L1_AAACCCAAGACATACA   L1    G1        6013           209        5864   \n",
       "L1_AAACCCACAACTGGTT   L1     S        6620           213        5067   \n",
       "L1_AAACCCACACGTACTA   L1    G1        3567           202        4786   \n",
       "L1_AAACCCACAGCATACT   L1    G1        6402           215        6505   \n",
       "\n",
       "                     nFeature_RNA leiden  \n",
       "L1_AAACCCAAGAAACTCA          2915      4  \n",
       "L1_AAACCCAAGACATACA          1617      2  \n",
       "L1_AAACCCACAACTGGTT          1381      5  \n",
       "L1_AAACCCACACGTACTA          1890      3  \n",
       "L1_AAACCCACAGCATACT          1621      5  "
      ]
     },
     "execution_count": 3,
     "metadata": {},
     "output_type": "execute_result"
    }
   ],
   "source": [
    "adata.obs.head()"
   ]
  },
  {
   "cell_type": "markdown",
   "metadata": {},
   "source": [
    "## Read features"
   ]
  },
  {
   "cell_type": "code",
   "execution_count": 4,
   "metadata": {},
   "outputs": [],
   "source": [
    "import os\n",
    "# os.chdir(r\"C:\\Users\\evanlee\\Documents\\GitHub\\EvanPys\\Progress\\PBMC_Hao_batch_noZ\\Level1\\feature_selection_k3\")\n",
    "# os.chdir('/Users/evanli/Documents/EvanPys/Progress/PBMC_Hao_batch_noZ/Level1/feature_selection_k3')\n",
    "os.chdir(source_code_dir / 'PBMC_Hao_batch_noZ/Level1/feature_selection_k3')\n",
    "\n",
    "features_dict = {}\n",
    "# Read features for each celltype\n",
    "for celltype in types:\n",
    "    try:\n",
    "        feature_df = pd.read_csv(f'{celltype}_features.txt', names=['Gene', 'Weight', 'Tendency'], sep='\\t')\n",
    "        features_dict[celltype] = feature_df\n",
    "    except:\n",
    "        print('skipping:', celltype)\n",
    "        continue"
   ]
  },
  {
   "cell_type": "code",
   "execution_count": 5,
   "metadata": {},
   "outputs": [
    {
     "data": {
      "text/plain": [
       "dict_keys(['B', 'CD4_T', 'CD8_T', 'DC', 'Mono', 'NK', 'other', 'other_T'])"
      ]
     },
     "execution_count": 5,
     "metadata": {},
     "output_type": "execute_result"
    }
   ],
   "source": [
    "features_dict.keys()"
   ]
  },
  {
   "cell_type": "code",
   "execution_count": 6,
   "metadata": {},
   "outputs": [
    {
     "data": {
      "text/html": [
       "<div>\n",
       "<style scoped>\n",
       "    .dataframe tbody tr th:only-of-type {\n",
       "        vertical-align: middle;\n",
       "    }\n",
       "\n",
       "    .dataframe tbody tr th {\n",
       "        vertical-align: top;\n",
       "    }\n",
       "\n",
       "    .dataframe thead th {\n",
       "        text-align: right;\n",
       "    }\n",
       "</style>\n",
       "<table border=\"1\" class=\"dataframe\">\n",
       "  <thead>\n",
       "    <tr style=\"text-align: right;\">\n",
       "      <th></th>\n",
       "      <th>Feature_count</th>\n",
       "      <th>Positive_feature_count</th>\n",
       "    </tr>\n",
       "  </thead>\n",
       "  <tbody>\n",
       "    <tr>\n",
       "      <th>B</th>\n",
       "      <td>19</td>\n",
       "      <td>10</td>\n",
       "    </tr>\n",
       "    <tr>\n",
       "      <th>CD4_T</th>\n",
       "      <td>201</td>\n",
       "      <td>95</td>\n",
       "    </tr>\n",
       "    <tr>\n",
       "      <th>CD8_T</th>\n",
       "      <td>23</td>\n",
       "      <td>9</td>\n",
       "    </tr>\n",
       "    <tr>\n",
       "      <th>DC</th>\n",
       "      <td>50</td>\n",
       "      <td>23</td>\n",
       "    </tr>\n",
       "    <tr>\n",
       "      <th>Mono</th>\n",
       "      <td>50</td>\n",
       "      <td>20</td>\n",
       "    </tr>\n",
       "    <tr>\n",
       "      <th>NK</th>\n",
       "      <td>33</td>\n",
       "      <td>17</td>\n",
       "    </tr>\n",
       "    <tr>\n",
       "      <th>other</th>\n",
       "      <td>5</td>\n",
       "      <td>3</td>\n",
       "    </tr>\n",
       "    <tr>\n",
       "      <th>other_T</th>\n",
       "      <td>247</td>\n",
       "      <td>112</td>\n",
       "    </tr>\n",
       "  </tbody>\n",
       "</table>\n",
       "</div>"
      ],
      "text/plain": [
       "         Feature_count  Positive_feature_count\n",
       "B                   19                      10\n",
       "CD4_T              201                      95\n",
       "CD8_T               23                       9\n",
       "DC                  50                      23\n",
       "Mono                50                      20\n",
       "NK                  33                      17\n",
       "other                5                       3\n",
       "other_T            247                     112"
      ]
     },
     "execution_count": 6,
     "metadata": {},
     "output_type": "execute_result"
    }
   ],
   "source": [
    "count_df = pd.DataFrame(columns=['Feature_count', 'Positive_feature_count'])\n",
    "for celltype in features_dict.keys():\n",
    "    feature_df = features_dict[celltype]\n",
    "    feature_count = feature_df.shape[0]\n",
    "    positive_count = feature_df[feature_df['Tendency'] == 1].shape[0]\n",
    "    count_df.loc[celltype] = [feature_count, positive_count]\n",
    "count_df"
   ]
  },
  {
   "cell_type": "code",
   "execution_count": null,
   "metadata": {},
   "outputs": [],
   "source": [
    "# os.chdir(r\"C:\\Users\\evanlee\\Documents\\GitHub\\EvanPys\\Progress\\PBMC_Hao_batch_noZ\\Level1\\DEG_L1\\L1_DEG_table\")\n",
    "os.chdir(source_code_dir / 'PBMC_Hao_batch_noZ/Level1/DEG_L1/L1_DEG_table')\n",
    "deg_dict = {}\n",
    "for celltype in types:\n",
    "    DEG_table = pd.read_csv(celltype + '_DEG1000.csv', index_col=0)\n",
    "    n_features = count_df.loc[celltype, 'Feature_count']\n",
    "    DEGn = DEG_table['names'][:n_features].tolist()\n",
    "\n",
    "    deg_dict[celltype] = DEGn"
   ]
  },
  {
   "cell_type": "code",
   "execution_count": 8,
   "metadata": {},
   "outputs": [
    {
     "data": {
      "text/plain": [
       "True"
      ]
     },
     "execution_count": 8,
     "metadata": {},
     "output_type": "execute_result"
    }
   ],
   "source": [
    "isinstance(deg_dict['B'], list)"
   ]
  },
  {
   "cell_type": "markdown",
   "metadata": {},
   "source": [
    "## LR"
   ]
  },
  {
   "cell_type": "code",
   "execution_count": 6,
   "metadata": {},
   "outputs": [
    {
     "data": {
      "text/plain": [
       "<module 'evan_library.evan_models' from 'c:\\\\Users\\\\evanlee\\\\Documents\\\\Bmi_NAS_evan\\\\evan_home\\\\Source_code\\\\evan_library\\\\evan_models.py'>"
      ]
     },
     "execution_count": 6,
     "metadata": {},
     "output_type": "execute_result"
    }
   ],
   "source": [
    "import os\n",
    "import sys\n",
    "import importlib\n",
    "# sys.path.append('/Users/evanli/Documents/EvanPys/Progress')\n",
    "# sys.path.append('/home/jovyan/work/GitHub/EvanPys/Progress')\n",
    "# sys.path.append(r'C:\\Users\\evanlee\\Documents\\GitHub\\EvanPys\\Progress')\n",
    "sys.path.append(str(source_code_dir))\n",
    "from evan_library import evan_models as emd\n",
    "importlib.reload(emd)\n"
   ]
  },
  {
   "cell_type": "code",
   "execution_count": 10,
   "metadata": {},
   "outputs": [],
   "source": [
    "# initialize\n",
    "evan_lr = emd.EvanModels(adata, deg_dict, level='l1')"
   ]
  },
  {
   "cell_type": "code",
   "execution_count": null,
   "metadata": {},
   "outputs": [
    {
     "name": "stdout",
     "output_type": "stream",
     "text": [
      "====================\n",
      "K-fold CV for: B\n",
      "is a list\n",
      "Cross-validation...\n",
      "likelihood > 0.5: 13721\n",
      "[0.9987713564356134, 0.9957196316903023, 0.9898550724637681, 0.9927772907378845, 0.9998379273063407, 0.9990056473767369, 0.992111873004848]\n",
      "====================\n",
      "K-fold CV for: CD4_T\n",
      "is a list\n",
      "Cross-validation...\n",
      "likelihood > 0.5: 40807\n",
      "[0.941743738353981, 0.886658606997365, 0.8830522656049606, 0.8848431557951564, 0.9827622180849811, 0.9516339803698866, 0.8458636853078574]\n",
      "====================\n",
      "K-fold CV for: CD8_T\n",
      "is a list\n",
      "Cross-validation...\n",
      "likelihood > 0.5: 23939\n",
      "[0.9712930077008698, 0.9349500528103596, 0.8788220858895706, 0.9060040133519885, 0.987791715480385, 0.956705794391388, 0.8896855820917511]\n",
      "====================\n",
      "K-fold CV for: DC\n",
      "is a list\n",
      "Cross-validation...\n",
      "likelihood > 0.5: 3520\n",
      "[0.9982922598890266, 0.9679229635612614, 0.9547177700348431, 0.9612570197092432, 0.9996514769818894, 0.9906748822546982, 0.9604170446639145]\n",
      "====================\n",
      "K-fold CV for: Mono\n",
      "is a list\n",
      "Cross-validation...\n",
      "likelihood > 0.5: 49728\n",
      "[0.9930222277316038, 0.9815451494356002, 0.9956896636123703, 0.9885667466081189, 0.9984846071301036, 0.994586708283073, 0.983598231639589]\n",
      "====================\n",
      "K-fold CV for: NK\n",
      "is a list\n",
      "Cross-validation...\n",
      "likelihood > 0.5: 18682\n",
      "[0.9901013149341622, 0.956220562535542, 0.9580742718334484, 0.9571398774679762, 0.9986757577231739, 0.9914543087359154, 0.9515492255538648]\n",
      "====================\n",
      "K-fold CV for: other\n",
      "is a list\n",
      "Cross-validation...\n",
      "likelihood > 0.5: 2408\n",
      "[0.9918167707797737, 0.9401013365035622, 0.657583897046692, 0.7737243913146703, 0.9127419929246198, 0.7707696349813282, 0.7825386221329905]\n",
      "====================\n",
      "K-fold CV for: other_T\n",
      "is a list\n",
      "Cross-validation...\n",
      "likelihood > 0.5: 6040\n",
      "[0.9874972010533704, 0.8941460956817592, 0.7963562341484242, 0.842406173717816, 0.9888984561073034, 0.9027994984931389, 0.8374484815868378]\n"
     ]
    }
   ],
   "source": [
    "# os.chdir(r\"C:\\Users\\evanlee\\Documents\\GitHub\\EvanPys\\Progress\\PBMC_Hao_batch_noZ\\Level1\\DEG_L1\")\n",
    "os.chdir(source_code_dir / 'PBMC_Hao_batch_noZ/Level1/DEG_L1')\n",
    "all_metrics_df, cv_results_dict, likelihood_dict = evan_lr.run_LR_kfold_for_types()"
   ]
  },
  {
   "cell_type": "code",
   "execution_count": 12,
   "metadata": {},
   "outputs": [
    {
     "data": {
      "text/html": [
       "<div>\n",
       "<style scoped>\n",
       "    .dataframe tbody tr th:only-of-type {\n",
       "        vertical-align: middle;\n",
       "    }\n",
       "\n",
       "    .dataframe tbody tr th {\n",
       "        vertical-align: top;\n",
       "    }\n",
       "\n",
       "    .dataframe thead th {\n",
       "        text-align: right;\n",
       "    }\n",
       "</style>\n",
       "<table border=\"1\" class=\"dataframe\">\n",
       "  <thead>\n",
       "    <tr style=\"text-align: right;\">\n",
       "      <th></th>\n",
       "      <th>Accuracy</th>\n",
       "      <th>Precision</th>\n",
       "      <th>Recall</th>\n",
       "      <th>F1-score</th>\n",
       "      <th>ROC-AUC</th>\n",
       "      <th>PR-AUC</th>\n",
       "      <th>MCC</th>\n",
       "    </tr>\n",
       "  </thead>\n",
       "  <tbody>\n",
       "    <tr>\n",
       "      <th>B</th>\n",
       "      <td>0.998771</td>\n",
       "      <td>0.995720</td>\n",
       "      <td>0.989855</td>\n",
       "      <td>0.992777</td>\n",
       "      <td>0.999838</td>\n",
       "      <td>0.999006</td>\n",
       "      <td>0.992112</td>\n",
       "    </tr>\n",
       "    <tr>\n",
       "      <th>CD4_T</th>\n",
       "      <td>0.941744</td>\n",
       "      <td>0.886659</td>\n",
       "      <td>0.883052</td>\n",
       "      <td>0.884843</td>\n",
       "      <td>0.982762</td>\n",
       "      <td>0.951634</td>\n",
       "      <td>0.845864</td>\n",
       "    </tr>\n",
       "    <tr>\n",
       "      <th>CD8_T</th>\n",
       "      <td>0.971293</td>\n",
       "      <td>0.934950</td>\n",
       "      <td>0.878822</td>\n",
       "      <td>0.906004</td>\n",
       "      <td>0.987792</td>\n",
       "      <td>0.956706</td>\n",
       "      <td>0.889686</td>\n",
       "    </tr>\n",
       "    <tr>\n",
       "      <th>DC</th>\n",
       "      <td>0.998292</td>\n",
       "      <td>0.967923</td>\n",
       "      <td>0.954718</td>\n",
       "      <td>0.961257</td>\n",
       "      <td>0.999651</td>\n",
       "      <td>0.990675</td>\n",
       "      <td>0.960417</td>\n",
       "    </tr>\n",
       "    <tr>\n",
       "      <th>Mono</th>\n",
       "      <td>0.993022</td>\n",
       "      <td>0.981545</td>\n",
       "      <td>0.995690</td>\n",
       "      <td>0.988567</td>\n",
       "      <td>0.998485</td>\n",
       "      <td>0.994587</td>\n",
       "      <td>0.983598</td>\n",
       "    </tr>\n",
       "    <tr>\n",
       "      <th>NK</th>\n",
       "      <td>0.990101</td>\n",
       "      <td>0.956221</td>\n",
       "      <td>0.958074</td>\n",
       "      <td>0.957140</td>\n",
       "      <td>0.998676</td>\n",
       "      <td>0.991454</td>\n",
       "      <td>0.951549</td>\n",
       "    </tr>\n",
       "    <tr>\n",
       "      <th>other</th>\n",
       "      <td>0.991817</td>\n",
       "      <td>0.940101</td>\n",
       "      <td>0.657584</td>\n",
       "      <td>0.773724</td>\n",
       "      <td>0.912742</td>\n",
       "      <td>0.770770</td>\n",
       "      <td>0.782539</td>\n",
       "    </tr>\n",
       "    <tr>\n",
       "      <th>other_T</th>\n",
       "      <td>0.987497</td>\n",
       "      <td>0.894146</td>\n",
       "      <td>0.796356</td>\n",
       "      <td>0.842406</td>\n",
       "      <td>0.988898</td>\n",
       "      <td>0.902799</td>\n",
       "      <td>0.837448</td>\n",
       "    </tr>\n",
       "  </tbody>\n",
       "</table>\n",
       "</div>"
      ],
      "text/plain": [
       "         Accuracy  Precision    Recall  F1-score   ROC-AUC    PR-AUC       MCC\n",
       "B        0.998771   0.995720  0.989855  0.992777  0.999838  0.999006  0.992112\n",
       "CD4_T    0.941744   0.886659  0.883052  0.884843  0.982762  0.951634  0.845864\n",
       "CD8_T    0.971293   0.934950  0.878822  0.906004  0.987792  0.956706  0.889686\n",
       "DC       0.998292   0.967923  0.954718  0.961257  0.999651  0.990675  0.960417\n",
       "Mono     0.993022   0.981545  0.995690  0.988567  0.998485  0.994587  0.983598\n",
       "NK       0.990101   0.956221  0.958074  0.957140  0.998676  0.991454  0.951549\n",
       "other    0.991817   0.940101  0.657584  0.773724  0.912742  0.770770  0.782539\n",
       "other_T  0.987497   0.894146  0.796356  0.842406  0.988898  0.902799  0.837448"
      ]
     },
     "execution_count": 12,
     "metadata": {},
     "output_type": "execute_result"
    }
   ],
   "source": [
    "all_metrics_df"
   ]
  },
  {
   "cell_type": "code",
   "execution_count": 13,
   "metadata": {},
   "outputs": [
    {
     "name": "stdout",
     "output_type": "stream",
     "text": [
      "C:\\Users\\evanlee\\Documents\\GitHub\\EvanPys\\Progress\\PBMC_Hao_batch_noZ\\Level1\\DEG_L1\n"
     ]
    }
   ],
   "source": [
    "!cd"
   ]
  },
  {
   "cell_type": "code",
   "execution_count": 14,
   "metadata": {},
   "outputs": [],
   "source": [
    "all_metrics_df.to_csv('LR_DEG_metrics_l1.csv')"
   ]
  },
  {
   "cell_type": "code",
   "execution_count": null,
   "metadata": {},
   "outputs": [],
   "source": []
  }
 ],
 "metadata": {
  "kernelspec": {
   "display_name": "Python 3",
   "language": "python",
   "name": "python3"
  },
  "language_info": {
   "codemirror_mode": {
    "name": "ipython",
    "version": 3
   },
   "file_extension": ".py",
   "mimetype": "text/x-python",
   "name": "python",
   "nbconvert_exporter": "python",
   "pygments_lexer": "ipython3",
   "version": "3.9.12"
  }
 },
 "nbformat": 4,
 "nbformat_minor": 2
}

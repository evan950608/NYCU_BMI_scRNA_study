{
 "cells": [
  {
   "cell_type": "code",
   "execution_count": 1,
   "metadata": {},
   "outputs": [
    {
     "name": "stdout",
     "output_type": "stream",
     "text": [
      "Home Path: c:\\Users\\evanlee\\Documents\\Bmi_NAS_evan\\evan_home\n"
     ]
    }
   ],
   "source": [
    "from pathlib import Path\n",
    "\n",
    "# Get the current working directory as a Path object\n",
    "current_path = Path.cwd()\n",
    "home_folder = 'evan_home'\n",
    "\n",
    "# Traverse up the directory tree until you find the target folder\n",
    "for parent in [current_path] + list(current_path.parents):\n",
    "    if parent.name == home_folder:\n",
    "        home_path = parent\n",
    "        break\n",
    "else:\n",
    "    raise ValueError(f\"Folder '{home_folder}' not found in the current working directory.\")\n",
    "\n",
    "print(\"Home Path:\", home_path)\n",
    "source_code_dir = home_path / 'Source_code'\n",
    "dataset_dir = home_path / 'Dataset'\n"
   ]
  },
  {
   "cell_type": "code",
   "execution_count": 2,
   "metadata": {},
   "outputs": [],
   "source": [
    "import numpy as np\n",
    "import matplotlib.pyplot as plt\n",
    "import pandas as pd\n",
    "\n",
    "from sklearn.svm import SVC\n",
    "from sklearn.model_selection import train_test_split\n",
    "from sklearn.metrics import accuracy_score, precision_score, recall_score, f1_score\n",
    "from sklearn.metrics import roc_curve, roc_auc_score, auc, precision_recall_curve, average_precision_score\n",
    "from sklearn.metrics import make_scorer, matthews_corrcoef\n",
    "from sklearn.model_selection import cross_val_score, cross_validate, KFold, StratifiedKFold\n"
   ]
  },
  {
   "cell_type": "code",
   "execution_count": 3,
   "metadata": {},
   "outputs": [
    {
     "name": "stdout",
     "output_type": "stream",
     "text": [
      "Original adata: (161764, 33538)\n",
      "all cell types: ['B', 'CD4_T', 'CD8_T', 'DC', 'Mono', 'NK', 'other', 'other_T']\n",
      "====================\n"
     ]
    }
   ],
   "source": [
    "import scanpy as sc\n",
    "\n",
    "# adata = sc.read_h5ad(r\"C:\\Users\\evanlee\\Documents\\Research_datasets\\PBMC_Hao\\GSE164378_Hao\\Harmony_noZ\\Hao_Harmony_test_no_scale.h5ad\")\n",
    "adata = sc.read_h5ad(dataset_dir / 'PBMC_Hao/GSE164378_Hao/Harmony_noZ/Hao_Harmony_test_no_scale.h5ad')\n",
    "print('Original adata:', adata.shape)\n",
    "adata.obs['celltype.l1'] = adata.obs['celltype.l1'].str.replace(' ', '_')\n",
    "label = adata.obs['celltype.l1'].tolist()\n",
    "types = np.unique(label).tolist()\n",
    "print('all cell types:', types)\n",
    "print('====================')\n",
    "# del adata\n"
   ]
  },
  {
   "cell_type": "markdown",
   "metadata": {},
   "source": [
    "## Read features"
   ]
  },
  {
   "cell_type": "code",
   "execution_count": 4,
   "metadata": {},
   "outputs": [],
   "source": [
    "import os\n",
    "# os.chdir(r\"C:\\Users\\evanlee\\Documents\\GitHub\\EvanPys\\Progress\\PBMC_Hao_batch_noZ\\Level1\\feature_selection_k3\")\n",
    "os.chdir(source_code_dir / 'PBMC_Hao_batch_noZ/Level1/feature_selection_k3')\n",
    "\n",
    "features_dict = {}\n",
    "# Read features for each celltype\n",
    "for celltype in types:\n",
    "    try:\n",
    "        feature_df = pd.read_csv(f'{celltype}_features.txt', names=['Gene', 'Weight', 'Tendency'], sep='\\t')\n",
    "        features_dict[celltype] = feature_df\n",
    "    except:\n",
    "        print('skipping:', celltype)\n",
    "        continue"
   ]
  },
  {
   "cell_type": "code",
   "execution_count": 5,
   "metadata": {},
   "outputs": [
    {
     "data": {
      "text/html": [
       "<div>\n",
       "<style scoped>\n",
       "    .dataframe tbody tr th:only-of-type {\n",
       "        vertical-align: middle;\n",
       "    }\n",
       "\n",
       "    .dataframe tbody tr th {\n",
       "        vertical-align: top;\n",
       "    }\n",
       "\n",
       "    .dataframe thead th {\n",
       "        text-align: right;\n",
       "    }\n",
       "</style>\n",
       "<table border=\"1\" class=\"dataframe\">\n",
       "  <thead>\n",
       "    <tr style=\"text-align: right;\">\n",
       "      <th></th>\n",
       "      <th>Feature_count</th>\n",
       "      <th>Positive_feature_count</th>\n",
       "    </tr>\n",
       "  </thead>\n",
       "  <tbody>\n",
       "    <tr>\n",
       "      <th>B</th>\n",
       "      <td>19</td>\n",
       "      <td>10</td>\n",
       "    </tr>\n",
       "    <tr>\n",
       "      <th>CD4_T</th>\n",
       "      <td>201</td>\n",
       "      <td>95</td>\n",
       "    </tr>\n",
       "    <tr>\n",
       "      <th>CD8_T</th>\n",
       "      <td>23</td>\n",
       "      <td>9</td>\n",
       "    </tr>\n",
       "    <tr>\n",
       "      <th>DC</th>\n",
       "      <td>50</td>\n",
       "      <td>23</td>\n",
       "    </tr>\n",
       "    <tr>\n",
       "      <th>Mono</th>\n",
       "      <td>50</td>\n",
       "      <td>20</td>\n",
       "    </tr>\n",
       "    <tr>\n",
       "      <th>NK</th>\n",
       "      <td>33</td>\n",
       "      <td>17</td>\n",
       "    </tr>\n",
       "    <tr>\n",
       "      <th>other</th>\n",
       "      <td>5</td>\n",
       "      <td>3</td>\n",
       "    </tr>\n",
       "    <tr>\n",
       "      <th>other_T</th>\n",
       "      <td>247</td>\n",
       "      <td>112</td>\n",
       "    </tr>\n",
       "  </tbody>\n",
       "</table>\n",
       "</div>"
      ],
      "text/plain": [
       "         Feature_count  Positive_feature_count\n",
       "B                   19                      10\n",
       "CD4_T              201                      95\n",
       "CD8_T               23                       9\n",
       "DC                  50                      23\n",
       "Mono                50                      20\n",
       "NK                  33                      17\n",
       "other                5                       3\n",
       "other_T            247                     112"
      ]
     },
     "execution_count": 5,
     "metadata": {},
     "output_type": "execute_result"
    }
   ],
   "source": [
    "count_df = pd.DataFrame(columns=['Feature_count', 'Positive_feature_count'])\n",
    "for celltype in features_dict.keys():\n",
    "    feature_df = features_dict[celltype]\n",
    "    feature_count = feature_df.shape[0]\n",
    "    positive_count = feature_df[feature_df['Tendency'] == 1].shape[0]\n",
    "    count_df.loc[celltype] = [feature_count, positive_count]\n",
    "count_df"
   ]
  },
  {
   "cell_type": "markdown",
   "metadata": {},
   "source": [
    "## SVM (test)"
   ]
  },
  {
   "cell_type": "code",
   "execution_count": 5,
   "metadata": {},
   "outputs": [
    {
     "data": {
      "text/plain": [
       "[0.9996909096528915,\n",
       " 0.9967485549132948,\n",
       " 0.9996376811594203,\n",
       " 0.9981910274963821,\n",
       " 0.9996667775918414,\n",
       " 0.99641832316724,\n",
       " 0.998023295629676]"
      ]
     },
     "execution_count": 5,
     "metadata": {},
     "output_type": "execute_result"
    }
   ],
   "source": [
    "celltype = 'B'\n",
    "# subset data to celltype features\n",
    "X = adata[:, features_dict[celltype]['Gene'].tolist()].X\n",
    "# Binary label\n",
    "y = [1 if i==celltype else 0 for i in adata.obs['celltype.l1'].tolist()]\n",
    "\n",
    "X_train, X_test, y_train, y_test = train_test_split(X, y, test_size=0.2, random_state=0, stratify=y)\n",
    "\n",
    "svm_clf = SVC(kernel='rbf', decision_function_shape='ovr', class_weight='balanced', max_iter=5000)\n",
    "# OvR (one-vs-rest) decision function\n",
    "# class_weight='balanced': Useful for imbalanced datasets, as it gives higher penalties to the minority class. Avoid bias toward the majority class\n",
    "svm_clf.fit(X_train, y_train)\n",
    "\n",
    "# Predictions on the test set\n",
    "y_pred = svm_clf.predict(X_test)\n",
    "# y_score = svm_clf.predict_proba(X_test)[:, 1]  # Probability estimates of the positive class\n",
    "\n",
    "# Calculate metrics\n",
    "accuracy = accuracy_score(y_test, y_pred)\n",
    "precision = precision_score(y_test, y_pred)\n",
    "recall = recall_score(y_test, y_pred)\n",
    "f1 = f1_score(y_test, y_pred)\n",
    "roc_auc = roc_auc_score(y_test, y_pred)\n",
    "pr_auc = average_precision_score(y_test, y_pred)\n",
    "mcc = matthews_corrcoef(y_test, y_pred)\n",
    "\n",
    "metrics = [accuracy, precision, recall, f1, roc_auc, pr_auc, mcc]\n",
    "metrics"
   ]
  },
  {
   "cell_type": "markdown",
   "metadata": {},
   "source": [
    "## Stratified K-fold"
   ]
  },
  {
   "cell_type": "code",
   "execution_count": 6,
   "metadata": {},
   "outputs": [],
   "source": [
    "import pickle\n",
    "\n",
    "def SVM_strat_KFold(data, all_features_dict, celltype, k=5):\n",
    "    # subset data to celltype features\n",
    "    X = data[:, all_features_dict[celltype]['Gene'].tolist()].X\n",
    "    # Binary label\n",
    "    y = [1 if i==celltype else 0 for i in data.obs['celltype.l1'].tolist()]\n",
    "\n",
    "    X_train, X_test, y_train, y_test = train_test_split(X, y, test_size=0.2, random_state=0, stratify=y)\n",
    "\n",
    "    print('Fitting SVM model...')\n",
    "    svm_clf = SVC(kernel='rbf', decision_function_shape='ovr', class_weight='balanced', max_iter=5000)\n",
    "    # OvR (one-vs-rest) decision function\n",
    "    # class_weight='balanced': Useful for imbalanced datasets, as it gives higher penalties to the minority class. Avoid bias toward the majority class\n",
    "    svm_clf.fit(X_train, y_train)\n",
    "\n",
    "    scoring = {\n",
    "    'accuracy': make_scorer(accuracy_score),\n",
    "    'precision': make_scorer(precision_score),\n",
    "    'recall': make_scorer(recall_score),\n",
    "    'f1': make_scorer(f1_score),\n",
    "    'roc_auc': make_scorer(roc_auc_score),\n",
    "    'pr_auc': make_scorer(average_precision_score),\n",
    "    'mcc': make_scorer(matthews_corrcoef)\n",
    "    }\n",
    "\n",
    "    print('Cross validation...')\n",
    "    cv = StratifiedKFold(n_splits=k, shuffle=True, random_state=42)\n",
    "    cv_results = cross_validate(svm_clf, X_train, y_train, cv=cv, scoring=scoring, n_jobs=32)\n",
    "    # return cv_results\n",
    "\n",
    "    mean_accuracy = np.mean(cv_results['test_accuracy'])\n",
    "    mean_precision = np.mean(cv_results['test_precision'])\n",
    "    mean_recall = np.mean(cv_results['test_recall'])\n",
    "    mean_f1 = np.mean(cv_results['test_f1'])\n",
    "    mean_auc = np.mean(cv_results['test_roc_auc'])\n",
    "    mean_pr_auc = np.mean(cv_results['test_pr_auc'])\n",
    "    mean_mcc = np.mean(cv_results['test_mcc'])\n",
    "    mean_metrics = [mean_accuracy, mean_precision, mean_recall, mean_f1, mean_auc, mean_pr_auc, mean_mcc]\n",
    "\n",
    "    return svm_clf, mean_metrics\n",
    "\n",
    "\n"
   ]
  },
  {
   "cell_type": "code",
   "execution_count": null,
   "metadata": {},
   "outputs": [
    {
     "name": "stdout",
     "output_type": "stream",
     "text": [
      "====================\n",
      "K-fold CV for: B\n",
      "Fitting SVM model...\n",
      "Cross validation...\n",
      "[0.9996677242344253, 0.9969282239941556, 0.9991847826086957, 0.9980549222963685, 0.9994487745473764, 0.9961850086647631, 0.9978742138206307]\n",
      "====================\n",
      "K-fold CV for: CD4_T\n",
      "Fitting SVM model...\n"
     ]
    },
    {
     "name": "stderr",
     "output_type": "stream",
     "text": [
      "c:\\Users\\evanlee\\AppData\\Local\\Programs\\Python\\Python39\\lib\\site-packages\\sklearn\\svm\\_base.py:297: ConvergenceWarning: Solver terminated early (max_iter=5000).  Consider pre-processing your data with StandardScaler or MinMaxScaler.\n",
      "  warnings.warn(\n"
     ]
    },
    {
     "name": "stdout",
     "output_type": "stream",
     "text": [
      "Cross validation...\n",
      "[0.8271013140056708, 0.5947918959043361, 0.9991463693443519, 0.745616401589202, 0.8839174554515983, 0.5945000003641568, 0.6755811205274408]\n",
      "====================\n",
      "K-fold CV for: CD8_T\n",
      "Fitting SVM model...\n"
     ]
    },
    {
     "name": "stderr",
     "output_type": "stream",
     "text": [
      "c:\\Users\\evanlee\\AppData\\Local\\Programs\\Python\\Python39\\lib\\site-packages\\sklearn\\svm\\_base.py:297: ConvergenceWarning: Solver terminated early (max_iter=5000).  Consider pre-processing your data with StandardScaler or MinMaxScaler.\n",
      "  warnings.warn(\n"
     ]
    },
    {
     "name": "stdout",
     "output_type": "stream",
     "text": [
      "Cross validation...\n",
      "[0.7074360353761, 0.35004642898292737, 0.9990184049079754, 0.5183581399541456, 0.8259839713454644, 0.34985513155522774, 0.4775306719380046]\n",
      "====================\n",
      "K-fold CV for: DC\n",
      "Fitting SVM model...\n",
      "Cross validation...\n",
      "[0.9958581596713604, 0.845158868489893, 0.9958206332373883, 0.9143127804458018, 0.9958398250745185, 0.8417230561326576, 0.9154353584444117]\n",
      "====================\n",
      "K-fold CV for: Mono\n",
      "Fitting SVM model...\n",
      "Cross validation...\n",
      "[0.9932695050250245, 0.9792246247902547, 0.9989798195524731, 0.9890035362754521, 0.9948836310991016, 0.9785348657167035, 0.9842569164771279]\n",
      "====================\n",
      "K-fold CV for: NK\n",
      "Fitting SVM model...\n",
      "Cross validation...\n",
      "[0.9896299502439309, 0.9228814860990766, 0.9931687905908859, 0.9567252133490914, 0.9911686021438009, 0.9173748765446247, 0.9516770185915002]\n",
      "====================\n",
      "K-fold CV for: other\n",
      "Fitting SVM model...\n"
     ]
    },
    {
     "name": "stderr",
     "output_type": "stream",
     "text": [
      "c:\\Users\\evanlee\\AppData\\Local\\Programs\\Python\\Python39\\lib\\site-packages\\sklearn\\svm\\_base.py:297: ConvergenceWarning: Solver terminated early (max_iter=5000).  Consider pre-processing your data with StandardScaler or MinMaxScaler.\n",
      "  warnings.warn(\n"
     ]
    },
    {
     "name": "stdout",
     "output_type": "stream",
     "text": [
      "Cross validation...\n",
      "[0.044656436240638406, 0.009414627270589978, 0.4330183138096023, 0.01842776801332843, 0.23461740293780897, 0.017922261192430507, -0.48960207926596]\n",
      "====================\n",
      "K-fold CV for: other_T\n",
      "Fitting SVM model...\n"
     ]
    },
    {
     "name": "stderr",
     "output_type": "stream",
     "text": [
      "c:\\Users\\evanlee\\AppData\\Local\\Programs\\Python\\Python39\\lib\\site-packages\\sklearn\\svm\\_base.py:297: ConvergenceWarning: Solver terminated early (max_iter=5000).  Consider pre-processing your data with StandardScaler or MinMaxScaler.\n",
      "  warnings.warn(\n"
     ]
    },
    {
     "name": "stdout",
     "output_type": "stream",
     "text": [
      "Cross validation...\n",
      "[0.9454141856301082, 0.434701577316215, 0.9874795210769838, 0.603428327839973, 0.9655255324371852, 0.429765777642355, 0.6356418830997457]\n"
     ]
    }
   ],
   "source": [
    "# os.chdir(r'C:\\Users\\evanlee\\Documents\\GitHub\\EvanPys\\Progress\\PBMC_Hao_batch_noZ\\Level1\\SVM_model')\n",
    "os.chdir(source_code_dir / 'PBMC_Hao_batch_noZ/Level1/SVM_model')\n",
    "\n",
    "cols = ['Accuracy', 'Precision', 'Recall', 'F1-score', 'ROC-AUC', 'PR-AUC', 'MCC']\n",
    "all_metrics = pd.DataFrame(columns=cols)\n",
    "# likelihood_dict = {}\n",
    "for celltype in types:\n",
    "    print('====================')\n",
    "    print('K-fold CV for:', celltype)\n",
    "    clf, metrics = SVM_strat_KFold(adata, features_dict, celltype, k=5)  # metrics is a list\n",
    "    print(metrics)\n",
    "    \n",
    "    # Append metrics to all_metrics\n",
    "    all_metrics.loc[celltype] = metrics\n",
    "\n",
    "    # output SVM model as pickle\n",
    "    filename = f'SVM_{celltype}_rbf_l1.pkl'\n",
    "    with open(filename, 'wb') as f:\n",
    "        pickle.dump(clf, f)\n",
    "\n",
    "    # likelihood of the positive class for each observation\n",
    "    # likelihood = clf.predict_proba(X)[:, 1]  # >0.5: predict celltype, <0.5: predict not celltype\n",
    "    # print('likelihood > 0.5:', sum(likelihood > 0.5))  # decision_scores > 0 的有幾個\n",
    "    # likelihood_dict[celltype] = likelihood\n"
   ]
  },
  {
   "cell_type": "code",
   "execution_count": 8,
   "metadata": {},
   "outputs": [
    {
     "data": {
      "text/html": [
       "<div>\n",
       "<style scoped>\n",
       "    .dataframe tbody tr th:only-of-type {\n",
       "        vertical-align: middle;\n",
       "    }\n",
       "\n",
       "    .dataframe tbody tr th {\n",
       "        vertical-align: top;\n",
       "    }\n",
       "\n",
       "    .dataframe thead th {\n",
       "        text-align: right;\n",
       "    }\n",
       "</style>\n",
       "<table border=\"1\" class=\"dataframe\">\n",
       "  <thead>\n",
       "    <tr style=\"text-align: right;\">\n",
       "      <th></th>\n",
       "      <th>Accuracy</th>\n",
       "      <th>Precision</th>\n",
       "      <th>Recall</th>\n",
       "      <th>F1-score</th>\n",
       "      <th>ROC-AUC</th>\n",
       "      <th>PR-AUC</th>\n",
       "      <th>MCC</th>\n",
       "    </tr>\n",
       "  </thead>\n",
       "  <tbody>\n",
       "    <tr>\n",
       "      <th>B</th>\n",
       "      <td>0.999668</td>\n",
       "      <td>0.996928</td>\n",
       "      <td>0.999185</td>\n",
       "      <td>0.998055</td>\n",
       "      <td>0.999449</td>\n",
       "      <td>0.996185</td>\n",
       "      <td>0.997874</td>\n",
       "    </tr>\n",
       "    <tr>\n",
       "      <th>CD4_T</th>\n",
       "      <td>0.827101</td>\n",
       "      <td>0.594792</td>\n",
       "      <td>0.999146</td>\n",
       "      <td>0.745616</td>\n",
       "      <td>0.883917</td>\n",
       "      <td>0.594500</td>\n",
       "      <td>0.675581</td>\n",
       "    </tr>\n",
       "    <tr>\n",
       "      <th>CD8_T</th>\n",
       "      <td>0.707436</td>\n",
       "      <td>0.350046</td>\n",
       "      <td>0.999018</td>\n",
       "      <td>0.518358</td>\n",
       "      <td>0.825984</td>\n",
       "      <td>0.349855</td>\n",
       "      <td>0.477531</td>\n",
       "    </tr>\n",
       "    <tr>\n",
       "      <th>DC</th>\n",
       "      <td>0.995858</td>\n",
       "      <td>0.845159</td>\n",
       "      <td>0.995821</td>\n",
       "      <td>0.914313</td>\n",
       "      <td>0.995840</td>\n",
       "      <td>0.841723</td>\n",
       "      <td>0.915435</td>\n",
       "    </tr>\n",
       "    <tr>\n",
       "      <th>Mono</th>\n",
       "      <td>0.993270</td>\n",
       "      <td>0.979225</td>\n",
       "      <td>0.998980</td>\n",
       "      <td>0.989004</td>\n",
       "      <td>0.994884</td>\n",
       "      <td>0.978535</td>\n",
       "      <td>0.984257</td>\n",
       "    </tr>\n",
       "    <tr>\n",
       "      <th>NK</th>\n",
       "      <td>0.989630</td>\n",
       "      <td>0.922881</td>\n",
       "      <td>0.993169</td>\n",
       "      <td>0.956725</td>\n",
       "      <td>0.991169</td>\n",
       "      <td>0.917375</td>\n",
       "      <td>0.951677</td>\n",
       "    </tr>\n",
       "    <tr>\n",
       "      <th>other</th>\n",
       "      <td>0.044656</td>\n",
       "      <td>0.009415</td>\n",
       "      <td>0.433018</td>\n",
       "      <td>0.018428</td>\n",
       "      <td>0.234617</td>\n",
       "      <td>0.017922</td>\n",
       "      <td>-0.489602</td>\n",
       "    </tr>\n",
       "    <tr>\n",
       "      <th>other_T</th>\n",
       "      <td>0.945414</td>\n",
       "      <td>0.434702</td>\n",
       "      <td>0.987480</td>\n",
       "      <td>0.603428</td>\n",
       "      <td>0.965526</td>\n",
       "      <td>0.429766</td>\n",
       "      <td>0.635642</td>\n",
       "    </tr>\n",
       "  </tbody>\n",
       "</table>\n",
       "</div>"
      ],
      "text/plain": [
       "         Accuracy  Precision    Recall  F1-score   ROC-AUC    PR-AUC       MCC\n",
       "B        0.999668   0.996928  0.999185  0.998055  0.999449  0.996185  0.997874\n",
       "CD4_T    0.827101   0.594792  0.999146  0.745616  0.883917  0.594500  0.675581\n",
       "CD8_T    0.707436   0.350046  0.999018  0.518358  0.825984  0.349855  0.477531\n",
       "DC       0.995858   0.845159  0.995821  0.914313  0.995840  0.841723  0.915435\n",
       "Mono     0.993270   0.979225  0.998980  0.989004  0.994884  0.978535  0.984257\n",
       "NK       0.989630   0.922881  0.993169  0.956725  0.991169  0.917375  0.951677\n",
       "other    0.044656   0.009415  0.433018  0.018428  0.234617  0.017922 -0.489602\n",
       "other_T  0.945414   0.434702  0.987480  0.603428  0.965526  0.429766  0.635642"
      ]
     },
     "execution_count": 8,
     "metadata": {},
     "output_type": "execute_result"
    }
   ],
   "source": [
    "all_metrics"
   ]
  },
  {
   "cell_type": "code",
   "execution_count": 10,
   "metadata": {},
   "outputs": [],
   "source": [
    "all_metrics.to_csv('SVM_metrics_rbf_l1.csv')"
   ]
  },
  {
   "cell_type": "code",
   "execution_count": 17,
   "metadata": {},
   "outputs": [
    {
     "data": {
      "text/plain": [
       "<matplotlib.legend.Legend at 0x2465e912eb0>"
      ]
     },
     "execution_count": 17,
     "metadata": {},
     "output_type": "execute_result"
    },
    {
     "data": {
      "image/png": "[encoded data removed]",
      "text/plain": [
       "<Figure size 800x600 with 1 Axes>"
      ]
     },
     "metadata": {},
     "output_type": "display_data"
    }
   ],
   "source": [
    "# Plot metrics for each celltype\n",
    "cols = ['Accuracy', 'Precision', 'F1-score', 'ROC-AUC', 'PR-AUC']\n",
    "ax = all_metrics[cols].plot.bar(rot=0, figsize=(8,6), title='One vs. Rest SVM using PreLect features (Kernel=rbf)')\n",
    "ax.legend(loc='center left', bbox_to_anchor=(1.0, 0.5))"
   ]
  },
  {
   "cell_type": "code",
   "execution_count": null,
   "metadata": {},
   "outputs": [],
   "source": [
    "# turn likelihood_dict into dataframe\n",
    "# likelihood_df = pd.DataFrame(likelihood_dict)\n",
    "# likelihood_df.head()"
   ]
  },
  {
   "cell_type": "code",
   "execution_count": 16,
   "metadata": {},
   "outputs": [
    {
     "name": "stdout",
     "output_type": "stream",
     "text": [
      "B\n",
      "[0.9996909096528915, 0.9967485549132948, 0.9996376811594203, 0.9981910274963821, 0.9996667775918414, 0.99641832316724, 0.998023295629676]\n",
      "CD4_T\n",
      "[0.5758971347324823, 0.37404754300314824, 0.9997560975609756, 0.5444101338114686, 0.7158760614497215, 0.3740181299645204, 0.40176246454844244]\n",
      "CD8_T\n",
      "[0.5905480171854233, 0.2776899165621421, 0.9996073812328229, 0.4346378729034185, 0.7568564071504001, 0.2776427083588656, 0.3775970931706553]\n",
      "DC\n",
      "[0.9959200074181683, 0.8479809976247031, 0.9944289693593314, 0.9153846153846154, 0.9951914089723796, 0.8433805056430745, 0.9163515106090654]\n",
      "Mono\n",
      "[0.9936018298148549, 0.9803744868328828, 0.9988777800448888, 0.9895396432361412, 0.9950931847322134, 0.9796142904020962, 0.9850210466859044]\n",
      "NK\n",
      "[0.9893672920594689, 0.923519120219945, 0.989820519689258, 0.9555210757693302, 0.9895643478949434, 0.9152927188380844, 0.950227210690505]\n",
      "other\n",
      "[0.008190894198374184, 0.008083719764381502, 0.375, 0.015826278984173724, 0.18761053213327017, 0.016322279837306837, -0.7808460138400607]\n",
      "other_T\n",
      "[0.8018730875034773, 0.1745684102035558, 0.9977908689248896, 0.2971491228070175, 0.8955400545624608, 0.17427549280797502, 0.3714849774911073]\n"
     ]
    }
   ],
   "source": [
    "# read SVM models\n",
    "for celltype in types:\n",
    "    print(celltype)\n",
    "    with open(f'SVM_{celltype}_rbf_l1.pkl', 'rb') as f:\n",
    "        svm_clf = pickle.load(f)\n",
    "\n",
    "    # subset data to celltype features\n",
    "    X = adata[:, features_dict[celltype]['Gene'].tolist()].X\n",
    "    # Binary label\n",
    "    y = [1 if i==celltype else 0 for i in adata.obs['celltype.l1'].tolist()]\n",
    "\n",
    "    X_train, X_test, y_train, y_test = train_test_split(X, y, test_size=0.2, random_state=0, stratify=y)\n",
    "\n",
    "    # Predictions on the test set\n",
    "    y_pred = svm_clf.predict(X_test)\n",
    "    # y_score = svm_clf.predict_proba(X_test)[:, 1]  # Probability estimates of the positive class\n",
    "\n",
    "    # Calculate metrics\n",
    "    accuracy = accuracy_score(y_test, y_pred)\n",
    "    precision = precision_score(y_test, y_pred)\n",
    "    recall = recall_score(y_test, y_pred)\n",
    "    f1 = f1_score(y_test, y_pred)\n",
    "    roc_auc = roc_auc_score(y_test, y_pred)\n",
    "    pr_auc = average_precision_score(y_test, y_pred)\n",
    "    mcc = matthews_corrcoef(y_test, y_pred)\n",
    "\n",
    "    metrics = [accuracy, precision, recall, f1, roc_auc, pr_auc, mcc]\n",
    "    print(metrics)"
   ]
  },
  {
   "cell_type": "markdown",
   "metadata": {},
   "source": [
    "## Evaluate by DEGn"
   ]
  },
  {
   "cell_type": "code",
   "execution_count": 6,
   "metadata": {},
   "outputs": [
    {
     "data": {
      "text/plain": [
       "WindowsPath('c:/Users/evanlee/Documents/Bmi_NAS_evan/evan_home')"
      ]
     },
     "execution_count": 6,
     "metadata": {},
     "output_type": "execute_result"
    }
   ],
   "source": [
    "home_path"
   ]
  },
  {
   "cell_type": "code",
   "execution_count": 7,
   "metadata": {},
   "outputs": [],
   "source": [
    "# Read DEG table\n",
    "# os.chdir(\"/Users/evanli/Documents/EvanPys/Progress/PBMC_Hao_GSE/L1_by_lossdiff/L1_DEG/L1_DEG_table\")\n",
    "# os.chdir(r\"C:\\Users\\evanlee\\Documents\\GitHub\\EvanPys\\Progress\\PBMC_Hao_GSE\\L1_by_lossdiff\\L1_DEG\\L1_DEG_table\")\n",
    "os.chdir(home_path / 'Source_code_supplementary/PBMC_Hao_GSE/L1_by_lossdiff/L1_DEG/L1_DEG_table')\n",
    "\n",
    "# celltype = 'B'\n",
    "DEG_table = pd.read_csv(celltype + '_DEG2000.csv', index_col=0)\n",
    "# n_features = count_df.loc[celltype, 'Feature_count']  # 3902\n",
    "# DEGn = DEG_table['names'][:n_features].tolist()"
   ]
  },
  {
   "cell_type": "code",
   "execution_count": 9,
   "metadata": {},
   "outputs": [],
   "source": [
    "def SVM_classifier_DEG(data, DEGn, celltype):\n",
    "    # subset data to celltype features\n",
    "    X = data[:, DEGn].X\n",
    "    # Binary label\n",
    "    y = [1 if i==celltype else 0 for i in data.obs['celltype.l1'].tolist()]\n",
    "\n",
    "    X_train, X_test, y_train, y_test = train_test_split(X, y, test_size=0.2, random_state=0, stratify=y)\n",
    "\n",
    "    svm_clf = SVC(kernel='linear', decision_function_shape='ovr', class_weight='balanced')\n",
    "    svm_clf.fit(X_train, y_train)\n",
    "\n",
    "    # Predictions on the test set\n",
    "    y_pred = svm_clf.predict(X_test)\n",
    "    # y_score = svm_clf.predict_proba(X_test)[:, 1]  # Probability estimates of the positive class\n",
    "\n",
    "    # Calculate metrics\n",
    "    accuracy = accuracy_score(y_test, y_pred)\n",
    "    precision = precision_score(y_test, y_pred)\n",
    "    recall = recall_score(y_test, y_pred)\n",
    "    f1 = f1_score(y_test, y_pred)\n",
    "    roc_auc = roc_auc_score(y_test, y_pred)\n",
    "    pr_auc = average_precision_score(y_test, y_pred)\n",
    "    mcc = matthews_corrcoef(y_test, y_pred)\n",
    "\n",
    "    metrics = [accuracy, precision, recall, f1, roc_auc, pr_auc, mcc]\n",
    "    return svm_clf, metrics"
   ]
  },
  {
   "cell_type": "code",
   "execution_count": null,
   "metadata": {},
   "outputs": [],
   "source": [
    "cols = ['Accuracy', 'Precision', 'Recall', 'F1-score', 'ROC-AUC', 'PR-AUC', 'MCC']\n",
    "all_metrics_DEG = pd.DataFrame(columns=cols)\n",
    "\n",
    "for celltype in types:\n",
    "    print('==================')\n",
    "    print('Constructing classifier for:', celltype)\n",
    "    n_features = count_df.loc[celltype, 'Feature_count']\n",
    "    print('n:', n_features)\n",
    "    DEG_table = pd.read_csv(celltype + '_DEG2000.csv', index_col=0)\n",
    "    DEGn = DEG_table['names'][:n_features].tolist() \n",
    "    clf, celltype_metrics = SVM_classifier_DEG(data, DEGn, celltype)\n",
    "    all_metrics_DEG.loc[celltype] = celltype_metrics"
   ]
  },
  {
   "cell_type": "code",
   "execution_count": null,
   "metadata": {},
   "outputs": [],
   "source": []
  }
 ],
 "metadata": {
  "kernelspec": {
   "display_name": "Python 3",
   "language": "python",
   "name": "python3"
  },
  "language_info": {
   "codemirror_mode": {
    "name": "ipython",
    "version": 3
   },
   "file_extension": ".py",
   "mimetype": "text/x-python",
   "name": "python",
   "nbconvert_exporter": "python",
   "pygments_lexer": "ipython3",
   "version": "3.9.12"
  }
 },
 "nbformat": 4,
 "nbformat_minor": 2
}

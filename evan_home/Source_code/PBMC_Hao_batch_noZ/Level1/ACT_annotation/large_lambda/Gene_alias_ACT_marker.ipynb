{
 "cells": [
  {
   "cell_type": "code",
   "execution_count": 1,
   "metadata": {},
   "outputs": [
    {
     "name": "stdout",
     "output_type": "stream",
     "text": [
      "Home Path: c:\\Users\\evanlee\\Documents\\Bmi_NAS_evan\\evan_home\n"
     ]
    }
   ],
   "source": [
    "from pathlib import Path\n",
    "\n",
    "# Get the current working directory as a Path object\n",
    "current_path = Path.cwd()\n",
    "home_folder = 'evan_home'\n",
    "\n",
    "# Traverse up the directory tree until you find the target folder\n",
    "for parent in [current_path] + list(current_path.parents):\n",
    "    if parent.name == home_folder:\n",
    "        home_path = parent\n",
    "        break\n",
    "else:\n",
    "    raise ValueError(f\"Folder '{home_folder}' not found in the current working directory.\")\n",
    "\n",
    "print(\"Home Path:\", home_path)\n",
    "source_code_dir = home_path / 'Source_code'\n",
    "dataset_dir = home_path / 'Dataset'"
   ]
  },
  {
   "cell_type": "code",
   "execution_count": 2,
   "metadata": {},
   "outputs": [],
   "source": [
    "import numpy as np\n",
    "import pandas as pd\n",
    "import scanpy as sc\n",
    "import json\n",
    "import os\n",
    "import matplotlib.pyplot as plt\n",
    "from matplotlib_venn import venn2"
   ]
  },
  {
   "cell_type": "code",
   "execution_count": 3,
   "metadata": {},
   "outputs": [
    {
     "name": "stdout",
     "output_type": "stream",
     "text": [
      "Original adata: (59897, 27504)\n",
      "all cell types: ['B', 'CD4_T', 'CD8_T', 'DC', 'Mono', 'NK', 'other', 'other_T']\n"
     ]
    }
   ],
   "source": [
    "### Read representative cells\n",
    "# types = ['B', 'CD4_T', 'CD8_T', 'DC', 'Mono', 'NK', 'other', 'other_T']\n",
    "# adata = sc.read_h5ad('/home/jovyan/work/Research_datasets/PBMC_Hao/GSE164378_Hao/Harmony_noZ/Hao_L1_repcells_loginv_Harmony_noZ.h5ad')\n",
    "# adata = sc.read_h5ad('/Users/evanli/Documents/Research_datasets/PBMC_Hao/GSE164378_Hao/Harmony_noZ/Hao_L1_repcells_loginv_Harmony_noZ.h5ad')\n",
    "adata = sc.read_h5ad(dataset_dir / 'PBMC_Hao/GSE164378_Hao/Harmony_noZ/Hao_L1_repcells_loginv_Harmony_noZ.h5ad')\n",
    "print('Original adata:', adata.shape)\n",
    "label = adata.obs['celltype.l1'].tolist()\n",
    "types = np.unique(label).tolist()\n",
    "print('all cell types:', types)"
   ]
  },
  {
   "cell_type": "markdown",
   "metadata": {},
   "source": [
    "## Read PreLect features"
   ]
  },
  {
   "cell_type": "code",
   "execution_count": 3,
   "metadata": {},
   "outputs": [],
   "source": [
    "# types = ['B', 'CD4_T', 'CD8_T', 'DC', 'Mono', 'NK', 'other', 'other_T']"
   ]
  },
  {
   "cell_type": "code",
   "execution_count": 4,
   "metadata": {},
   "outputs": [
    {
     "data": {
      "text/html": [
       "<div>\n",
       "<style scoped>\n",
       "    .dataframe tbody tr th:only-of-type {\n",
       "        vertical-align: middle;\n",
       "    }\n",
       "\n",
       "    .dataframe tbody tr th {\n",
       "        vertical-align: top;\n",
       "    }\n",
       "\n",
       "    .dataframe thead th {\n",
       "        text-align: right;\n",
       "    }\n",
       "</style>\n",
       "<table border=\"1\" class=\"dataframe\">\n",
       "  <thead>\n",
       "    <tr style=\"text-align: right;\">\n",
       "      <th></th>\n",
       "      <th>Feature_count</th>\n",
       "      <th>Positive_feature_count</th>\n",
       "    </tr>\n",
       "  </thead>\n",
       "  <tbody>\n",
       "    <tr>\n",
       "      <th>B</th>\n",
       "      <td>19</td>\n",
       "      <td>10</td>\n",
       "    </tr>\n",
       "    <tr>\n",
       "      <th>CD4_T</th>\n",
       "      <td>201</td>\n",
       "      <td>95</td>\n",
       "    </tr>\n",
       "    <tr>\n",
       "      <th>CD8_T</th>\n",
       "      <td>23</td>\n",
       "      <td>9</td>\n",
       "    </tr>\n",
       "    <tr>\n",
       "      <th>DC</th>\n",
       "      <td>50</td>\n",
       "      <td>23</td>\n",
       "    </tr>\n",
       "    <tr>\n",
       "      <th>Mono</th>\n",
       "      <td>50</td>\n",
       "      <td>20</td>\n",
       "    </tr>\n",
       "    <tr>\n",
       "      <th>NK</th>\n",
       "      <td>33</td>\n",
       "      <td>17</td>\n",
       "    </tr>\n",
       "    <tr>\n",
       "      <th>other</th>\n",
       "      <td>5</td>\n",
       "      <td>3</td>\n",
       "    </tr>\n",
       "    <tr>\n",
       "      <th>other_T</th>\n",
       "      <td>247</td>\n",
       "      <td>112</td>\n",
       "    </tr>\n",
       "  </tbody>\n",
       "</table>\n",
       "</div>"
      ],
      "text/plain": [
       "         Feature_count  Positive_feature_count\n",
       "B                   19                      10\n",
       "CD4_T              201                      95\n",
       "CD8_T               23                       9\n",
       "DC                  50                      23\n",
       "Mono                50                      20\n",
       "NK                  33                      17\n",
       "other                5                       3\n",
       "other_T            247                     112"
      ]
     },
     "execution_count": 4,
     "metadata": {},
     "output_type": "execute_result"
    }
   ],
   "source": [
    "# os.chdir('/Users/evanli/Documents/EvanPys/Progress/PBMC_Hao_batch_noZ/Level1/feature_selection_k3')\n",
    "os.chdir(source_code_dir / 'PBMC_Hao_batch_noZ/Level1/feature_selection_k3')\n",
    "\n",
    "features_dict = {}\n",
    "# Read features for each celltype\n",
    "for celltype in types:\n",
    "    try:\n",
    "        feature_df_k3 = pd.read_csv(f'{celltype}_features.txt', names=['Gene', 'Weight', 'Tendency'], sep='\\t')\n",
    "        features_dict[celltype] = feature_df_k3\n",
    "    except:\n",
    "        print('skipping:', celltype)\n",
    "        continue\n",
    "\n",
    "count_df_k3 = pd.DataFrame(columns=['Feature_count', 'Positive_feature_count'])\n",
    "for celltype in features_dict.keys():\n",
    "    feature_df_k3 = features_dict[celltype]\n",
    "    feature_count = feature_df_k3.shape[0]\n",
    "    positive_count = feature_df_k3[feature_df_k3['Tendency'] == 1].shape[0]\n",
    "    count_df_k3.loc[celltype] = [feature_count, positive_count]\n",
    "count_df_k3"
   ]
  },
  {
   "cell_type": "markdown",
   "metadata": {},
   "source": [
    "## Read ACT markers"
   ]
  },
  {
   "cell_type": "code",
   "execution_count": 5,
   "metadata": {},
   "outputs": [
    {
     "name": "stdout",
     "output_type": "stream",
     "text": [
      "(147, 6)\n"
     ]
    },
    {
     "data": {
      "text/html": [
       "<div>\n",
       "<style scoped>\n",
       "    .dataframe tbody tr th:only-of-type {\n",
       "        vertical-align: middle;\n",
       "    }\n",
       "\n",
       "    .dataframe tbody tr th {\n",
       "        vertical-align: top;\n",
       "    }\n",
       "\n",
       "    .dataframe thead th {\n",
       "        text-align: right;\n",
       "    }\n",
       "</style>\n",
       "<table border=\"1\" class=\"dataframe\">\n",
       "  <thead>\n",
       "    <tr style=\"text-align: right;\">\n",
       "      <th></th>\n",
       "      <th>Species</th>\n",
       "      <th>Tissue</th>\n",
       "      <th>super_type</th>\n",
       "      <th>CellType</th>\n",
       "      <th>Marker</th>\n",
       "      <th>Resource</th>\n",
       "    </tr>\n",
       "  </thead>\n",
       "  <tbody>\n",
       "    <tr>\n",
       "      <th>0</th>\n",
       "      <td>Human</td>\n",
       "      <td>Blood</td>\n",
       "      <td>B</td>\n",
       "      <td>Activated B cell</td>\n",
       "      <td>CD5, MIR155HG, TAGLN2</td>\n",
       "      <td>35025971, 28910360, 2474446</td>\n",
       "    </tr>\n",
       "    <tr>\n",
       "      <th>1</th>\n",
       "      <td>Human</td>\n",
       "      <td>Blood</td>\n",
       "      <td>T_CD4</td>\n",
       "      <td>Activated CD4-positive, alpha-beta T cell</td>\n",
       "      <td>CD4, CCR6, CD14, CD19, CD38, CD3D, CD3G, CD69,...</td>\n",
       "      <td>35381424, 32783921, 35831277, 34529726, 103413...</td>\n",
       "    </tr>\n",
       "    <tr>\n",
       "      <th>2</th>\n",
       "      <td>Human</td>\n",
       "      <td>Blood</td>\n",
       "      <td>T_CD4</td>\n",
       "      <td>Activated CD4-positive, CD25-positive, CCR4-po...</td>\n",
       "      <td>CD3D, CD3E, CD3G, CD4, FOXP3</td>\n",
       "      <td>30977974</td>\n",
       "    </tr>\n",
       "    <tr>\n",
       "      <th>3</th>\n",
       "      <td>Human</td>\n",
       "      <td>Blood</td>\n",
       "      <td>NaN</td>\n",
       "      <td>Adult endothelial progenitor cell</td>\n",
       "      <td>KDR, PROM1, CD34, PTPRC, PECAM1, CD14</td>\n",
       "      <td>27561827, 29391882, 24641802, 29147957, 267700...</td>\n",
       "    </tr>\n",
       "    <tr>\n",
       "      <th>4</th>\n",
       "      <td>Human</td>\n",
       "      <td>Blood</td>\n",
       "      <td>T</td>\n",
       "      <td>Alpha-beta T cell</td>\n",
       "      <td>CD3D, CD3E, CD3G, IL7R</td>\n",
       "      <td>34284174, 28777444</td>\n",
       "    </tr>\n",
       "  </tbody>\n",
       "</table>\n",
       "</div>"
      ],
      "text/plain": [
       "  Species Tissue super_type  \\\n",
       "0   Human  Blood          B   \n",
       "1   Human  Blood      T_CD4   \n",
       "2   Human  Blood      T_CD4   \n",
       "3   Human  Blood        NaN   \n",
       "4   Human  Blood          T   \n",
       "\n",
       "                                            CellType  \\\n",
       "0                                   Activated B cell   \n",
       "1          Activated CD4-positive, alpha-beta T cell   \n",
       "2  Activated CD4-positive, CD25-positive, CCR4-po...   \n",
       "3                  Adult endothelial progenitor cell   \n",
       "4                                  Alpha-beta T cell   \n",
       "\n",
       "                                              Marker  \\\n",
       "0                              CD5, MIR155HG, TAGLN2   \n",
       "1  CD4, CCR6, CD14, CD19, CD38, CD3D, CD3G, CD69,...   \n",
       "2                       CD3D, CD3E, CD3G, CD4, FOXP3   \n",
       "3              KDR, PROM1, CD34, PTPRC, PECAM1, CD14   \n",
       "4                             CD3D, CD3E, CD3G, IL7R   \n",
       "\n",
       "                                            Resource  \n",
       "0                        35025971, 28910360, 2474446  \n",
       "1  35381424, 32783921, 35831277, 34529726, 103413...  \n",
       "2                                           30977974  \n",
       "3  27561827, 29391882, 24641802, 29147957, 267700...  \n",
       "4                                 34284174, 28777444  "
      ]
     },
     "execution_count": 5,
     "metadata": {},
     "output_type": "execute_result"
    }
   ],
   "source": [
    "# marker_df = pd.read_csv('/Users/evanli/Documents/EvanPys/Progress/PBMC_Hao_batch_noZ/Level1/ACT_annotation/Human_blood_marker_processed.csv')\n",
    "marker_df = pd.read_csv(source_code_dir / 'PBMC_Hao_batch_noZ/Level1/ACT_annotation/Human_blood_marker_processed.csv')\n",
    "print(marker_df.shape)\n",
    "marker_df.head()"
   ]
  },
  {
   "cell_type": "code",
   "execution_count": 6,
   "metadata": {},
   "outputs": [],
   "source": [
    "def get_celltype_marker(name, marker_df):\n",
    "    string = marker_df[marker_df['CellType'] == name]['Marker'].tolist()[0]\n",
    "    marker_set = set(string.split(', '))\n",
    "    return marker_set"
   ]
  },
  {
   "cell_type": "markdown",
   "metadata": {},
   "source": [
    "## Check if all_genes include ACT markers"
   ]
  },
  {
   "cell_type": "code",
   "execution_count": 7,
   "metadata": {},
   "outputs": [
    {
     "name": "stdout",
     "output_type": "stream",
     "text": [
      "<class 'set'>\n",
      "27504\n"
     ]
    }
   ],
   "source": [
    "all_genes = set(adata.var_names.tolist())\n",
    "print(type(all_genes))\n",
    "print(len(all_genes))"
   ]
  },
  {
   "cell_type": "code",
   "execution_count": 8,
   "metadata": {},
   "outputs": [
    {
     "data": {
      "text/plain": [
       "{'B': 'B cell',\n",
       " 'CD4_T': 'CD4-positive, alpha-beta T cell',\n",
       " 'CD8_T': 'CD8-positive, alpha-beta T cell',\n",
       " 'DC': 'Dendritic cell',\n",
       " 'Mono': 'Monocyte',\n",
       " 'NK': 'Natural killer cell'}"
      ]
     },
     "execution_count": 8,
     "metadata": {},
     "output_type": "execute_result"
    }
   ],
   "source": [
    "ACT_name = ['B cell', 'CD4-positive, alpha-beta T cell', 'CD8-positive, alpha-beta T cell', 'Dendritic cell', 'Monocyte', 'Natural killer cell']\n",
    "cluster_2_ACT_name = dict(zip(types, ACT_name))\n",
    "cluster_2_ACT_name"
   ]
  },
  {
   "cell_type": "code",
   "execution_count": null,
   "metadata": {},
   "outputs": [
    {
     "data": {
      "text/plain": [
       "False"
      ]
     },
     "execution_count": 9,
     "metadata": {},
     "output_type": "execute_result"
    }
   ],
   "source": [
    "# is in Hao all genes?\n",
    "'SIGLEC2' in all_genes"
   ]
  },
  {
   "cell_type": "code",
   "execution_count": null,
   "metadata": {},
   "outputs": [
    {
     "data": {
      "text/plain": [
       "True"
      ]
     },
     "execution_count": 10,
     "metadata": {},
     "output_type": "execute_result"
    }
   ],
   "source": [
    "# is in Hao all genes?\n",
    "'CD22' in all_genes"
   ]
  },
  {
   "cell_type": "code",
   "execution_count": 14,
   "metadata": {},
   "outputs": [
    {
     "data": {
      "text/plain": [
       "True"
      ]
     },
     "execution_count": 14,
     "metadata": {},
     "output_type": "execute_result"
    }
   ],
   "source": [
    "# is in ACT markers?\n",
    "'SIGLEC2' in get_celltype_marker('Dendritic cell', marker_df)"
   ]
  },
  {
   "cell_type": "code",
   "execution_count": null,
   "metadata": {},
   "outputs": [
    {
     "data": {
      "text/plain": [
       "True"
      ]
     },
     "execution_count": 11,
     "metadata": {},
     "output_type": "execute_result"
    }
   ],
   "source": [
    "# is in ACT markers?\n",
    "'CD22' in get_celltype_marker('Dendritic cell', marker_df)"
   ]
  },
  {
   "cell_type": "code",
   "execution_count": 12,
   "metadata": {},
   "outputs": [
    {
     "name": "stdout",
     "output_type": "stream",
     "text": [
      "B cell\n",
      "Marker num: 59\n",
      "Excluded num: 1\n",
      "{'IgD family'}\n",
      "CD4-positive, alpha-beta T cell\n",
      "Marker num: 41\n",
      "Excluded num: 0\n",
      "set()\n",
      "CD8-positive, alpha-beta T cell\n",
      "Marker num: 26\n",
      "Excluded num: 0\n",
      "set()\n",
      "Dendritic cell\n",
      "Marker num: 49\n",
      "Excluded num: 2\n",
      "{'MHC class II', 'SIGLEC2'}\n",
      "Monocyte\n",
      "Marker num: 113\n",
      "Excluded num: 9\n",
      "{'TRB', 'FCGR2C', 'H1-3', 'COX2', 'HLA-DR family', 'TRA', 'IgG family', 'HLA-DRB3', 'HLA-DRB4'}\n",
      "Natural killer cell\n",
      "Marker num: 74\n",
      "Excluded num: 1\n",
      "{'CCL3L3'}\n"
     ]
    }
   ],
   "source": [
    "# print genes that are in ACT markers but not in Hao all genes\n",
    "for name in ACT_name:\n",
    "    print(name)\n",
    "    marker_set = get_celltype_marker(name, marker_df)\n",
    "    print('Marker num:', len(marker_set))\n",
    "    not_in_allgenes = marker_set - all_genes\n",
    "    print('Excluded num:', len(not_in_allgenes))\n",
    "    print(not_in_allgenes)\n"
   ]
  },
  {
   "cell_type": "markdown",
   "metadata": {},
   "source": [
    "## Alias dictionary"
   ]
  },
  {
   "cell_type": "code",
   "execution_count": null,
   "metadata": {},
   "outputs": [
    {
     "data": {
      "text/plain": [
       "{'SIGLEC2': ['CD22'],\n",
       " 'IgD family': ['IGHD'],\n",
       " 'MHC class II': ['HLA-DRB1',\n",
       "  'HLA-DQA1',\n",
       "  'HLA-DQA2',\n",
       "  'HLA-DRA',\n",
       "  'HLA-DQB2',\n",
       "  'HLA-DMB',\n",
       "  'HLA-DOB',\n",
       "  'HLA-DQB1',\n",
       "  'HLA-DPA1',\n",
       "  'HLA-DPB1',\n",
       "  'HLA-DMA',\n",
       "  'HLA-DRB5',\n",
       "  'HLA-DQB1-AS1',\n",
       "  'HLA-DOA'],\n",
       " 'HLA-DR family': ['HLA-DRB1', 'HLA-DRA', 'HLA-DRB5'],\n",
       " 'COX2': ['PTGS2'],\n",
       " 'H1-3': ['HIST1H1D'],\n",
       " 'EMR1': ['ADGRE1'],\n",
       " 'MMUT': ['MUT'],\n",
       " 'IGJ': ['JCHAIN']}"
      ]
     },
     "execution_count": 13,
     "metadata": {},
     "output_type": "execute_result"
    }
   ],
   "source": [
    "# {ACT_marker_alias: Hao_all_genes_alias}\n",
    "alias_dict = {'SIGLEC2': ['CD22'], \n",
    "             'IgD family': ['IGHD'], \n",
    "             'MHC class II': [g for g in all_genes if g.startswith('HLA-D')], \n",
    "             'HLA-DR family': ['HLA-DRB1', 'HLA-DRA', 'HLA-DRB5'], \n",
    "             'COX2': ['PTGS2'], \n",
    "             'H1-3': ['HIST1H1D'], \n",
    "             'EMR1': ['ADGRE1'], \n",
    "             'MMUT': ['MUT'], \n",
    "             'IGJ': ['JCHAIN'], \n",
    "             }\n",
    "alias_dict"
   ]
  }
 ],
 "metadata": {
  "kernelspec": {
   "display_name": "Python 3",
   "language": "python",
   "name": "python3"
  },
  "language_info": {
   "codemirror_mode": {
    "name": "ipython",
    "version": 3
   },
   "file_extension": ".py",
   "mimetype": "text/x-python",
   "name": "python",
   "nbconvert_exporter": "python",
   "pygments_lexer": "ipython3",
   "version": "3.9.12"
  }
 },
 "nbformat": 4,
 "nbformat_minor": 2
}

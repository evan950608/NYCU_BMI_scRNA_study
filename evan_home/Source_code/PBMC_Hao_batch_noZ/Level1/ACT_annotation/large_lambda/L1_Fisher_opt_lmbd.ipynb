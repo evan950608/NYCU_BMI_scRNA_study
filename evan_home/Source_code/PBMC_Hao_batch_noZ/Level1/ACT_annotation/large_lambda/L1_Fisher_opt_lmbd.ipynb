{
 "cells": [
  {
   "cell_type": "code",
   "execution_count": 1,
   "metadata": {},
   "outputs": [
    {
     "name": "stdout",
     "output_type": "stream",
     "text": [
      "Home Path: c:\\Users\\evanlee\\Documents\\Bmi_NAS_evan\\evan_home\n"
     ]
    }
   ],
   "source": [
    "from pathlib import Path\n",
    "\n",
    "# Get the current working directory as a Path object\n",
    "current_path = Path.cwd()\n",
    "home_folder = 'evan_home'\n",
    "\n",
    "# Traverse up the directory tree until you find the target folder\n",
    "for parent in [current_path] + list(current_path.parents):\n",
    "    if parent.name == home_folder:\n",
    "        home_path = parent\n",
    "        break\n",
    "else:\n",
    "    raise ValueError(f\"Folder '{home_folder}' not found in the current working directory.\")\n",
    "\n",
    "print(\"Home Path:\", home_path)\n",
    "source_code_dir = home_path / 'Source_code'\n",
    "dataset_dir = home_path / 'Dataset'"
   ]
  },
  {
   "cell_type": "code",
   "execution_count": 2,
   "metadata": {},
   "outputs": [],
   "source": [
    "import numpy as np\n",
    "import pandas as pd\n",
    "import scanpy as sc\n",
    "import json\n",
    "import os\n",
    "import matplotlib.pyplot as plt\n",
    "from matplotlib_venn import venn2"
   ]
  },
  {
   "cell_type": "code",
   "execution_count": 3,
   "metadata": {},
   "outputs": [
    {
     "name": "stdout",
     "output_type": "stream",
     "text": [
      "Original adata: (59897, 27504)\n",
      "all cell types: ['B', 'CD4_T', 'CD8_T', 'DC', 'Mono', 'NK', 'other', 'other_T']\n"
     ]
    }
   ],
   "source": [
    "### Read representative cells\n",
    "# types = ['B', 'CD4_T', 'CD8_T', 'DC', 'Mono', 'NK', 'other', 'other_T']\n",
    "# adata = sc.read_h5ad('/home/jovyan/work/Research_datasets/PBMC_Hao/GSE164378_Hao/Harmony_noZ/Hao_L1_repcells_loginv_Harmony_noZ.h5ad')\n",
    "# adata = sc.read_h5ad('/Users/evanli/Documents/Research_datasets/PBMC_Hao/GSE164378_Hao/Harmony_noZ/Hao_L1_repcells_loginv_Harmony_noZ.h5ad')\n",
    "adata = sc.read_h5ad(dataset_dir / 'PBMC_Hao/GSE164378_Hao/Harmony_noZ/Hao_L1_repcells_loginv_Harmony_noZ.h5ad')\n",
    "print('Original adata:', adata.shape)\n",
    "label = adata.obs['celltype.l1'].tolist()\n",
    "types = np.unique(label).tolist()\n",
    "print('all cell types:', types)"
   ]
  },
  {
   "cell_type": "markdown",
   "metadata": {},
   "source": [
    "## Read PreLect features"
   ]
  },
  {
   "cell_type": "code",
   "execution_count": 3,
   "metadata": {},
   "outputs": [],
   "source": [
    "# types = ['B', 'CD4_T', 'CD8_T', 'DC', 'Mono', 'NK', 'other', 'other_T']"
   ]
  },
  {
   "cell_type": "code",
   "execution_count": 4,
   "metadata": {},
   "outputs": [
    {
     "data": {
      "text/html": [
       "<div>\n",
       "<style scoped>\n",
       "    .dataframe tbody tr th:only-of-type {\n",
       "        vertical-align: middle;\n",
       "    }\n",
       "\n",
       "    .dataframe tbody tr th {\n",
       "        vertical-align: top;\n",
       "    }\n",
       "\n",
       "    .dataframe thead th {\n",
       "        text-align: right;\n",
       "    }\n",
       "</style>\n",
       "<table border=\"1\" class=\"dataframe\">\n",
       "  <thead>\n",
       "    <tr style=\"text-align: right;\">\n",
       "      <th></th>\n",
       "      <th>Feature_count</th>\n",
       "      <th>Positive_feature_count</th>\n",
       "    </tr>\n",
       "  </thead>\n",
       "  <tbody>\n",
       "    <tr>\n",
       "      <th>B</th>\n",
       "      <td>19</td>\n",
       "      <td>10</td>\n",
       "    </tr>\n",
       "    <tr>\n",
       "      <th>CD4_T</th>\n",
       "      <td>201</td>\n",
       "      <td>95</td>\n",
       "    </tr>\n",
       "    <tr>\n",
       "      <th>CD8_T</th>\n",
       "      <td>23</td>\n",
       "      <td>9</td>\n",
       "    </tr>\n",
       "    <tr>\n",
       "      <th>DC</th>\n",
       "      <td>50</td>\n",
       "      <td>23</td>\n",
       "    </tr>\n",
       "    <tr>\n",
       "      <th>Mono</th>\n",
       "      <td>50</td>\n",
       "      <td>20</td>\n",
       "    </tr>\n",
       "    <tr>\n",
       "      <th>NK</th>\n",
       "      <td>33</td>\n",
       "      <td>17</td>\n",
       "    </tr>\n",
       "    <tr>\n",
       "      <th>other</th>\n",
       "      <td>5</td>\n",
       "      <td>3</td>\n",
       "    </tr>\n",
       "    <tr>\n",
       "      <th>other_T</th>\n",
       "      <td>247</td>\n",
       "      <td>112</td>\n",
       "    </tr>\n",
       "  </tbody>\n",
       "</table>\n",
       "</div>"
      ],
      "text/plain": [
       "         Feature_count  Positive_feature_count\n",
       "B                   19                      10\n",
       "CD4_T              201                      95\n",
       "CD8_T               23                       9\n",
       "DC                  50                      23\n",
       "Mono                50                      20\n",
       "NK                  33                      17\n",
       "other                5                       3\n",
       "other_T            247                     112"
      ]
     },
     "execution_count": 4,
     "metadata": {},
     "output_type": "execute_result"
    }
   ],
   "source": [
    "# os.chdir('/Users/evanli/Documents/EvanPys/Progress/PBMC_Hao_batch_noZ/Level1/feature_selection_k3')\n",
    "os.chdir(source_code_dir / 'PBMC_Hao_batch_noZ/Level1/feature_selection_k3')\n",
    "\n",
    "features_dict = {}\n",
    "# Read features for each celltype\n",
    "for celltype in types:\n",
    "    try:\n",
    "        feature_df_k3 = pd.read_csv(f'{celltype}_features.txt', names=['Gene', 'Weight', 'Tendency'], sep='\\t')\n",
    "        features_dict[celltype] = feature_df_k3\n",
    "    except:\n",
    "        print('skipping:', celltype)\n",
    "        continue\n",
    "\n",
    "count_df_k3 = pd.DataFrame(columns=['Feature_count', 'Positive_feature_count'])\n",
    "for celltype in features_dict.keys():\n",
    "    feature_df_k3 = features_dict[celltype]\n",
    "    feature_count = feature_df_k3.shape[0]\n",
    "    positive_count = feature_df_k3[feature_df_k3['Tendency'] == 1].shape[0]\n",
    "    count_df_k3.loc[celltype] = [feature_count, positive_count]\n",
    "count_df_k3"
   ]
  },
  {
   "cell_type": "markdown",
   "metadata": {},
   "source": [
    "## Read ACT markers"
   ]
  },
  {
   "cell_type": "code",
   "execution_count": 5,
   "metadata": {},
   "outputs": [
    {
     "name": "stdout",
     "output_type": "stream",
     "text": [
      "(147, 6)\n"
     ]
    },
    {
     "data": {
      "text/html": [
       "<div>\n",
       "<style scoped>\n",
       "    .dataframe tbody tr th:only-of-type {\n",
       "        vertical-align: middle;\n",
       "    }\n",
       "\n",
       "    .dataframe tbody tr th {\n",
       "        vertical-align: top;\n",
       "    }\n",
       "\n",
       "    .dataframe thead th {\n",
       "        text-align: right;\n",
       "    }\n",
       "</style>\n",
       "<table border=\"1\" class=\"dataframe\">\n",
       "  <thead>\n",
       "    <tr style=\"text-align: right;\">\n",
       "      <th></th>\n",
       "      <th>Species</th>\n",
       "      <th>Tissue</th>\n",
       "      <th>super_type</th>\n",
       "      <th>CellType</th>\n",
       "      <th>Marker</th>\n",
       "      <th>Resource</th>\n",
       "    </tr>\n",
       "  </thead>\n",
       "  <tbody>\n",
       "    <tr>\n",
       "      <th>0</th>\n",
       "      <td>Human</td>\n",
       "      <td>Blood</td>\n",
       "      <td>B</td>\n",
       "      <td>Activated B cell</td>\n",
       "      <td>CD5, MIR155HG, TAGLN2</td>\n",
       "      <td>35025971, 28910360, 2474446</td>\n",
       "    </tr>\n",
       "    <tr>\n",
       "      <th>1</th>\n",
       "      <td>Human</td>\n",
       "      <td>Blood</td>\n",
       "      <td>T_CD4</td>\n",
       "      <td>Activated CD4-positive, alpha-beta T cell</td>\n",
       "      <td>CD4, CCR6, CD14, CD19, CD38, CD3D, CD3G, CD69,...</td>\n",
       "      <td>35381424, 32783921, 35831277, 34529726, 103413...</td>\n",
       "    </tr>\n",
       "    <tr>\n",
       "      <th>2</th>\n",
       "      <td>Human</td>\n",
       "      <td>Blood</td>\n",
       "      <td>T_CD4</td>\n",
       "      <td>Activated CD4-positive, CD25-positive, CCR4-po...</td>\n",
       "      <td>CD3D, CD3E, CD3G, CD4, FOXP3</td>\n",
       "      <td>30977974</td>\n",
       "    </tr>\n",
       "    <tr>\n",
       "      <th>3</th>\n",
       "      <td>Human</td>\n",
       "      <td>Blood</td>\n",
       "      <td>NaN</td>\n",
       "      <td>Adult endothelial progenitor cell</td>\n",
       "      <td>KDR, PROM1, CD34, PTPRC, PECAM1, CD14</td>\n",
       "      <td>27561827, 29391882, 24641802, 29147957, 267700...</td>\n",
       "    </tr>\n",
       "    <tr>\n",
       "      <th>4</th>\n",
       "      <td>Human</td>\n",
       "      <td>Blood</td>\n",
       "      <td>T</td>\n",
       "      <td>Alpha-beta T cell</td>\n",
       "      <td>CD3D, CD3E, CD3G, IL7R</td>\n",
       "      <td>34284174, 28777444</td>\n",
       "    </tr>\n",
       "  </tbody>\n",
       "</table>\n",
       "</div>"
      ],
      "text/plain": [
       "  Species Tissue super_type  \\\n",
       "0   Human  Blood          B   \n",
       "1   Human  Blood      T_CD4   \n",
       "2   Human  Blood      T_CD4   \n",
       "3   Human  Blood        NaN   \n",
       "4   Human  Blood          T   \n",
       "\n",
       "                                            CellType  \\\n",
       "0                                   Activated B cell   \n",
       "1          Activated CD4-positive, alpha-beta T cell   \n",
       "2  Activated CD4-positive, CD25-positive, CCR4-po...   \n",
       "3                  Adult endothelial progenitor cell   \n",
       "4                                  Alpha-beta T cell   \n",
       "\n",
       "                                              Marker  \\\n",
       "0                              CD5, MIR155HG, TAGLN2   \n",
       "1  CD4, CCR6, CD14, CD19, CD38, CD3D, CD3G, CD69,...   \n",
       "2                       CD3D, CD3E, CD3G, CD4, FOXP3   \n",
       "3              KDR, PROM1, CD34, PTPRC, PECAM1, CD14   \n",
       "4                             CD3D, CD3E, CD3G, IL7R   \n",
       "\n",
       "                                            Resource  \n",
       "0                        35025971, 28910360, 2474446  \n",
       "1  35381424, 32783921, 35831277, 34529726, 103413...  \n",
       "2                                           30977974  \n",
       "3  27561827, 29391882, 24641802, 29147957, 267700...  \n",
       "4                                 34284174, 28777444  "
      ]
     },
     "execution_count": 5,
     "metadata": {},
     "output_type": "execute_result"
    }
   ],
   "source": [
    "# marker_df = pd.read_csv('/Users/evanli/Documents/EvanPys/Progress/PBMC_Hao_batch_noZ/Level1/ACT_annotation/Human_blood_marker_processed.csv')\n",
    "marker_df = pd.read_csv(source_code_dir / 'PBMC_Hao_batch_noZ/Level1/ACT_annotation/Human_blood_marker_processed.csv')\n",
    "print(marker_df.shape)\n",
    "marker_df.head()"
   ]
  },
  {
   "cell_type": "code",
   "execution_count": 6,
   "metadata": {},
   "outputs": [],
   "source": [
    "def get_celltype_marker(name, marker_df):\n",
    "    string = marker_df[marker_df['CellType'] == name]['Marker'].tolist()[0]\n",
    "    marker_set = set(string.split(', '))\n",
    "    return marker_set"
   ]
  },
  {
   "cell_type": "code",
   "execution_count": 7,
   "metadata": {},
   "outputs": [
    {
     "data": {
      "text/plain": [
       "{'B': 'B cell',\n",
       " 'CD4_T': 'CD4-positive, alpha-beta T cell',\n",
       " 'CD8_T': 'CD8-positive, alpha-beta T cell',\n",
       " 'DC': 'Dendritic cell',\n",
       " 'Mono': 'Monocyte',\n",
       " 'NK': 'Natural killer cell'}"
      ]
     },
     "execution_count": 7,
     "metadata": {},
     "output_type": "execute_result"
    }
   ],
   "source": [
    "ACT_name = ['B cell', 'CD4-positive, alpha-beta T cell', 'CD8-positive, alpha-beta T cell', 'Dendritic cell', 'Monocyte', 'Natural killer cell']\n",
    "cluster_2_ACT_name = dict(zip(types, ACT_name))\n",
    "cluster_2_ACT_name"
   ]
  },
  {
   "cell_type": "markdown",
   "metadata": {},
   "source": [
    "## Fisher exact test"
   ]
  },
  {
   "cell_type": "code",
   "execution_count": null,
   "metadata": {},
   "outputs": [],
   "source": [
    "import scipy.stats as stats\n",
    "\n",
    "def perform_fisher_test(PreLect_genes, ACT_genes, Hao_genes):\n",
    "    \"\"\"\n",
    "    Performs Fisher's exact test on the provided gene sets.\n",
    "\n",
    "    Parameters:\n",
    "    - PreLect_genes: Set of genes in PreLect_genes.\n",
    "    - ACT_genes: Set of genes in ACT_genes.\n",
    "    - Hao_genes: Set of all genes in Hao_genes (background population).\n",
    "\n",
    "    Returns:\n",
    "    - oddsratio: The odds ratio calculated from the contingency table.\n",
    "    - p_value: The p-value from Fisher's exact test.\n",
    "    \"\"\"\n",
    "    # Ensure the inputs are sets\n",
    "    PreLect_genes = set(PreLect_genes)\n",
    "    ACT_genes = set(ACT_genes)\n",
    "    Hao_genes = set(Hao_genes)\n",
    "\n",
    "    # Calculate the counts for the contingency table\n",
    "    a = len(PreLect_genes & ACT_genes)                   # Genes in both PreLect_genes and ACT_genes\n",
    "    b = len(PreLect_genes - ACT_genes)                   # Genes in PreLect_genes but not in ACT_genes\n",
    "    c = len(ACT_genes - PreLect_genes)                   # Genes in ACT_genes but not in PreLect_genes\n",
    "    d = len(Hao_genes - (PreLect_genes | ACT_genes))     # Genes in neither gene set\n",
    "\n",
    "    # Construct the contingency table\n",
    "    contingency_table = [[a, b],\n",
    "                         [c, d]]\n",
    "\n",
    "    # Perform Fisher's exact test\n",
    "    oddsratio, p_value = stats.fisher_exact(contingency_table)\n",
    "\n",
    "    # Output the results\n",
    "    print(\"Contingency Table:\")\n",
    "    print(f\"                   In ACT_genes    Not in ACT_genes\")\n",
    "    print(f\"In PreLect_genes       {a}               {b}\")\n",
    "    print(f\"Not in PreLect_genes   {c}            {d}\")\n",
    "    print(f\"\\nOdds Ratio: {oddsratio}\")\n",
    "    print(f\"P-value: {p_value}\")\n",
    "\n",
    "    return oddsratio, p_value\n",
    "\n",
    "# OR > 1: \n",
    "#   Indicates a positive association between being in PreLect_genes and being in ACT_genes\n",
    "#   Genes in PreLect_genes are more likely to be in ACT_genes compared to genes not in PreLect_genes\n",
    "#   The higher the OR, the stronger the positive association between PreLect_genes and ACT_genes\n"
   ]
  },
  {
   "cell_type": "markdown",
   "metadata": {},
   "source": [
    "## B"
   ]
  },
  {
   "cell_type": "code",
   "execution_count": 20,
   "metadata": {},
   "outputs": [],
   "source": [
    "PreLect_genes = set(features_dict['B']['Gene'].tolist())\n",
    "ACT_genes = set(get_celltype_marker(cluster_2_ACT_name['B'], marker_df))\n",
    "Hao_genes = set(adata.var_names.tolist())\n",
    "\n",
    "# ACT_genes: remove any that are not part of Hao_genes\n",
    "ACT_genes = ACT_genes.intersection(Hao_genes)"
   ]
  },
  {
   "cell_type": "code",
   "execution_count": 21,
   "metadata": {},
   "outputs": [
    {
     "data": {
      "text/plain": [
       "19"
      ]
     },
     "execution_count": 21,
     "metadata": {},
     "output_type": "execute_result"
    }
   ],
   "source": [
    "len(PreLect_genes)"
   ]
  },
  {
   "cell_type": "code",
   "execution_count": 22,
   "metadata": {},
   "outputs": [
    {
     "data": {
      "text/plain": [
       "58"
      ]
     },
     "execution_count": 22,
     "metadata": {},
     "output_type": "execute_result"
    }
   ],
   "source": [
    "len(ACT_genes)"
   ]
  },
  {
   "cell_type": "code",
   "execution_count": 23,
   "metadata": {},
   "outputs": [
    {
     "data": {
      "text/plain": [
       "27504"
      ]
     },
     "execution_count": 23,
     "metadata": {},
     "output_type": "execute_result"
    }
   ],
   "source": [
    "len(Hao_genes)"
   ]
  },
  {
   "cell_type": "code",
   "execution_count": 25,
   "metadata": {},
   "outputs": [
    {
     "data": {
      "text/plain": [
       "8"
      ]
     },
     "execution_count": 25,
     "metadata": {},
     "output_type": "execute_result"
    }
   ],
   "source": [
    "len(PreLect_genes.intersection(ACT_genes))"
   ]
  },
  {
   "cell_type": "code",
   "execution_count": 26,
   "metadata": {},
   "outputs": [
    {
     "data": {
      "text/plain": [
       "19"
      ]
     },
     "execution_count": 26,
     "metadata": {},
     "output_type": "execute_result"
    }
   ],
   "source": [
    "len(PreLect_genes.intersection(Hao_genes))"
   ]
  },
  {
   "cell_type": "code",
   "execution_count": 27,
   "metadata": {},
   "outputs": [
    {
     "data": {
      "text/plain": [
       "58"
      ]
     },
     "execution_count": 27,
     "metadata": {},
     "output_type": "execute_result"
    }
   ],
   "source": [
    "len(ACT_genes.intersection(Hao_genes))"
   ]
  },
  {
   "cell_type": "code",
   "execution_count": 38,
   "metadata": {},
   "outputs": [
    {
     "name": "stdout",
     "output_type": "stream",
     "text": [
      "Contingency Table:\n",
      "                   In ACT_genes    Not in ACT_genes\n",
      "In PreLect_genes       8               11\n",
      "Not in PreLect_genes   50            27435\n",
      "\n",
      "Odds Ratio: 399.05454545454546\n",
      "P-value: 1.7541298652423053e-17\n"
     ]
    },
    {
     "data": {
      "text/plain": [
       "(399.05454545454546, 1.7541298652423053e-17)"
      ]
     },
     "execution_count": 38,
     "metadata": {},
     "output_type": "execute_result"
    }
   ],
   "source": [
    "perform_fisher_test(PreLect_genes, ACT_genes, Hao_genes)"
   ]
  },
  {
   "cell_type": "markdown",
   "metadata": {},
   "source": [
    "## all types"
   ]
  },
  {
   "cell_type": "code",
   "execution_count": 39,
   "metadata": {},
   "outputs": [
    {
     "data": {
      "text/plain": [
       "{'B': 'B cell',\n",
       " 'CD4_T': 'CD4-positive, alpha-beta T cell',\n",
       " 'CD8_T': 'CD8-positive, alpha-beta T cell',\n",
       " 'DC': 'Dendritic cell',\n",
       " 'Mono': 'Monocyte',\n",
       " 'NK': 'Natural killer cell'}"
      ]
     },
     "execution_count": 39,
     "metadata": {},
     "output_type": "execute_result"
    }
   ],
   "source": [
    "cluster_2_ACT_name"
   ]
  },
  {
   "cell_type": "code",
   "execution_count": 42,
   "metadata": {},
   "outputs": [
    {
     "name": "stdout",
     "output_type": "stream",
     "text": [
      "=====\n",
      "B\n",
      "Contingency Table:\n",
      "                   In ACT_genes    Not in ACT_genes\n",
      "In PreLect_genes       8               11\n",
      "Not in PreLect_genes   50            27435\n",
      "\n",
      "Odds Ratio: 399.05454545454546\n",
      "P-value: 1.7541298652423053e-17\n",
      "=====\n",
      "CD4_T\n",
      "Contingency Table:\n",
      "                   In ACT_genes    Not in ACT_genes\n",
      "In PreLect_genes       13               188\n",
      "Not in PreLect_genes   28            27275\n",
      "\n",
      "Odds Ratio: 67.3584726443769\n",
      "P-value: 1.6866982166477405e-18\n",
      "=====\n",
      "CD8_T\n",
      "Contingency Table:\n",
      "                   In ACT_genes    Not in ACT_genes\n",
      "In PreLect_genes       8               15\n",
      "Not in PreLect_genes   18            27463\n",
      "\n",
      "Odds Ratio: 813.7185185185185\n",
      "P-value: 9.359120855294212e-20\n",
      "=====\n",
      "DC\n",
      "Contingency Table:\n",
      "                   In ACT_genes    Not in ACT_genes\n",
      "In PreLect_genes       9               41\n",
      "Not in PreLect_genes   38            27416\n",
      "\n",
      "Odds Ratio: 158.37227214377407\n",
      "P-value: 1.3087738378567983e-16\n",
      "=====\n",
      "Mono\n",
      "Contingency Table:\n",
      "                   In ACT_genes    Not in ACT_genes\n",
      "In PreLect_genes       11               39\n",
      "Not in PreLect_genes   93            27361\n",
      "\n",
      "Odds Ratio: 82.98070030328095\n",
      "P-value: 4.332944662161612e-17\n",
      "=====\n",
      "NK\n",
      "Contingency Table:\n",
      "                   In ACT_genes    Not in ACT_genes\n",
      "In PreLect_genes       10               23\n",
      "Not in PreLect_genes   63            27408\n",
      "\n",
      "Odds Ratio: 189.15113871635612\n",
      "P-value: 8.043205021777255e-19\n"
     ]
    }
   ],
   "source": [
    "for clus, name in cluster_2_ACT_name.items():\n",
    "    print('=====')\n",
    "    print(clus)\n",
    "    PreLect_genes = features_dict[clus]['Gene'].tolist()\n",
    "    ACT_genes = get_celltype_marker(name, marker_df)\n",
    "    Hao_genes = adata.var_names.tolist()\n",
    "    # ACT_genes: remove any that are not part of Hao_genes\n",
    "    ACT_genes = ACT_genes.intersection(Hao_genes)\n",
    "\n",
    "    perform_fisher_test(PreLect_genes, ACT_genes, Hao_genes)"
   ]
  }
 ],
 "metadata": {
  "kernelspec": {
   "display_name": "Python 3",
   "language": "python",
   "name": "python3"
  },
  "language_info": {
   "codemirror_mode": {
    "name": "ipython",
    "version": 3
   },
   "file_extension": ".py",
   "mimetype": "text/x-python",
   "name": "python",
   "nbconvert_exporter": "python",
   "pygments_lexer": "ipython3",
   "version": "3.9.12"
  }
 },
 "nbformat": 4,
 "nbformat_minor": 2
}

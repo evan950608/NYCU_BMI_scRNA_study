{
 "cells": [
  {
   "cell_type": "code",
   "execution_count": 1,
   "metadata": {},
   "outputs": [
    {
     "name": "stdout",
     "output_type": "stream",
     "text": [
      "Home Path: c:\\Users\\evanlee\\Documents\\Bmi_NAS_evan\\evan_home\n"
     ]
    }
   ],
   "source": [
    "from pathlib import Path\n",
    "\n",
    "# Get the current working directory as a Path object\n",
    "current_path = Path.cwd()\n",
    "home_folder = 'evan_home'\n",
    "\n",
    "# Traverse up the directory tree until you find the target folder\n",
    "for parent in [current_path] + list(current_path.parents):\n",
    "    if parent.name == home_folder:\n",
    "        home_path = parent\n",
    "        break\n",
    "else:\n",
    "    raise ValueError(f\"Folder '{home_folder}' not found in the current working directory.\")\n",
    "\n",
    "print(\"Home Path:\", home_path)\n",
    "source_code_dir = home_path / 'Source_code'\n",
    "dataset_dir = home_path / 'Dataset'\n"
   ]
  },
  {
   "cell_type": "code",
   "execution_count": 2,
   "metadata": {},
   "outputs": [],
   "source": [
    "import numpy as np\n",
    "import pandas as pd\n",
    "import matplotlib.pyplot as plt\n",
    "import scanpy as sc\n",
    "import os"
   ]
  },
  {
   "cell_type": "code",
   "execution_count": 3,
   "metadata": {},
   "outputs": [
    {
     "data": {
      "text/plain": [
       "['B', 'CD4_T', 'CD8_T', 'DC', 'Mono', 'NK', 'other', 'other_T']"
      ]
     },
     "execution_count": 3,
     "metadata": {},
     "output_type": "execute_result"
    }
   ],
   "source": [
    "# adata = sc.read_h5ad('/Users/evanli/Documents/Research_datasets/PBMC_Hao/GSE164378_Hao/Harmony_noZ/Hao_Harmony_test_no_scale.h5ad')\n",
    "adata = sc.read_h5ad(dataset_dir / 'PBMC_Hao/GSE164378_Hao/Harmony_noZ/Hao_Harmony_test_no_scale.h5ad')\n",
    "\n",
    "adata.obs['celltype.l1'] = adata.obs['celltype.l1'].str.replace(' ', '_')\n",
    "labels = adata.obs['celltype.l1']\n",
    "types = np.unique(labels).tolist()\n",
    "types"
   ]
  },
  {
   "cell_type": "markdown",
   "metadata": {},
   "source": [
    "## Read PreLect features"
   ]
  },
  {
   "cell_type": "code",
   "execution_count": 4,
   "metadata": {},
   "outputs": [
    {
     "data": {
      "text/html": [
       "<div>\n",
       "<style scoped>\n",
       "    .dataframe tbody tr th:only-of-type {\n",
       "        vertical-align: middle;\n",
       "    }\n",
       "\n",
       "    .dataframe tbody tr th {\n",
       "        vertical-align: top;\n",
       "    }\n",
       "\n",
       "    .dataframe thead th {\n",
       "        text-align: right;\n",
       "    }\n",
       "</style>\n",
       "<table border=\"1\" class=\"dataframe\">\n",
       "  <thead>\n",
       "    <tr style=\"text-align: right;\">\n",
       "      <th></th>\n",
       "      <th>Feature_count</th>\n",
       "      <th>Positive_feature_count</th>\n",
       "    </tr>\n",
       "  </thead>\n",
       "  <tbody>\n",
       "    <tr>\n",
       "      <th>B</th>\n",
       "      <td>19</td>\n",
       "      <td>10</td>\n",
       "    </tr>\n",
       "    <tr>\n",
       "      <th>CD4_T</th>\n",
       "      <td>201</td>\n",
       "      <td>95</td>\n",
       "    </tr>\n",
       "    <tr>\n",
       "      <th>CD8_T</th>\n",
       "      <td>23</td>\n",
       "      <td>9</td>\n",
       "    </tr>\n",
       "    <tr>\n",
       "      <th>DC</th>\n",
       "      <td>50</td>\n",
       "      <td>23</td>\n",
       "    </tr>\n",
       "    <tr>\n",
       "      <th>Mono</th>\n",
       "      <td>50</td>\n",
       "      <td>20</td>\n",
       "    </tr>\n",
       "    <tr>\n",
       "      <th>NK</th>\n",
       "      <td>33</td>\n",
       "      <td>17</td>\n",
       "    </tr>\n",
       "    <tr>\n",
       "      <th>other</th>\n",
       "      <td>5</td>\n",
       "      <td>3</td>\n",
       "    </tr>\n",
       "    <tr>\n",
       "      <th>other_T</th>\n",
       "      <td>247</td>\n",
       "      <td>112</td>\n",
       "    </tr>\n",
       "  </tbody>\n",
       "</table>\n",
       "</div>"
      ],
      "text/plain": [
       "         Feature_count  Positive_feature_count\n",
       "B                   19                      10\n",
       "CD4_T              201                      95\n",
       "CD8_T               23                       9\n",
       "DC                  50                      23\n",
       "Mono                50                      20\n",
       "NK                  33                      17\n",
       "other                5                       3\n",
       "other_T            247                     112"
      ]
     },
     "execution_count": 4,
     "metadata": {},
     "output_type": "execute_result"
    }
   ],
   "source": [
    "# os.chdir('/Users/evanli/Documents/EvanPys/Progress/PBMC_Hao_batch_noZ/Level1/feature_selection_k3')\n",
    "os.chdir(source_code_dir / 'PBMC_Hao_batch_noZ/Level1/feature_selection_k3')\n",
    "\n",
    "features_dict = {}\n",
    "# Read features for each celltype\n",
    "for celltype in types:\n",
    "    try:\n",
    "        feature_df = pd.read_csv(f'{celltype}_features.txt', names=['Gene', 'Weight', 'Tendency'], sep='\\t')\n",
    "        feature_df['abs_weight'] = feature_df['Weight'].abs()\n",
    "        feature_df = feature_df.sort_values(by=['Tendency', 'abs_weight'], ascending=[False, False])\n",
    "        feature_df.drop(columns=['abs_weight'], inplace=True)\n",
    "        features_dict[celltype] = feature_df\n",
    "    except:\n",
    "        print('skipping:', celltype)\n",
    "        continue\n",
    "    # print(celltype, 'Feature count:', feature_df.shape[0])\n",
    "    # print(celltype, 'Positive feature count:', feature_df[feature_df['Tendency'] == 1].shape[0])\n",
    "    # print('------------------')\n",
    "\n",
    "count_df = pd.DataFrame(columns=['Feature_count', 'Positive_feature_count'])\n",
    "for celltype in features_dict.keys():\n",
    "    feature_df = features_dict[celltype]\n",
    "    feature_count = feature_df.shape[0]\n",
    "    positive_count = feature_df[feature_df['Tendency'] == 1].shape[0]\n",
    "    count_df.loc[celltype] = [feature_count, positive_count]\n",
    "count_df"
   ]
  },
  {
   "cell_type": "code",
   "execution_count": 5,
   "metadata": {},
   "outputs": [],
   "source": [
    "# write to query for ACT\n",
    "text = ''\n",
    "for celltype in types:\n",
    "    features = features_dict[celltype]['Gene'].tolist()\n",
    "    features = ', '.join(features)\n",
    "    # print(features)\n",
    "    text_celltype = f'{celltype}: {features}\\n'\n",
    "    text += text_celltype"
   ]
  },
  {
   "cell_type": "code",
   "execution_count": 6,
   "metadata": {},
   "outputs": [
    {
     "name": "stdout",
     "output_type": "stream",
     "text": [
      "B: CD79A, MS4A1, IGKC, BANK1, IGLC2, RALGPS2, CD79B, CD74, IGHM, HLA-DRA, TMSB4X, B2M, PTPRC, MALAT1, FTH1, ACTB, S100A4, MYL12A, ITM2B\n",
      "CD4_T: CD4, TRAT1, TOMM7, CD40LG, CD52, RNASET2, ITM2A, CD2, TRBC1, IL7R, TRAC, TMSB10, IL32, CD3G, CD6, ITGB1, GIMAP7, TRBC2, ARID5B, LTB, RORA, CORO1B, MAF, FYB1, S100A4, MAL, GAPDH, IL6ST, GSTK1, CD3D, CD247, ARL4C, CALM1, ETS1, NSD3, CD3E, GPR183, S100A11, ADD3, RPS20, SMCHD1, RPL38, KLF3, TPT1, CYLD, ANKRD12, RPL36, KLF2, ANXA1, EML4, RPL11, HMGB2, EMP3, LDHB, AAK1, SYNE2, H1FX, INPP4B, AES, FXYD5, LIMS1, TNFAIP3, FOXP1, RPL24, IKZF1, NOP53, PTPRC, MZT2B, ATP5MC2, SOD1, RPS25, GMFG, JUND, RPL39, MALAT1, EID1, NDUFS5, RPS27, RPL30, RPS29, FTH1, MT-CYB, RPL34, RPL14, RPL9, RPL3, RPL37, RPS15A, RPS26, PFN1, RPSA, RPL23, RPL35, RPL36AL, C12orf57, HCST, CCL5, CTSW, CD7, MT-ND4, CD74, FTL, NUCB2, CYBA, ATM, HSP90AB1, MT-CO2, DUSP2, H3F3A, HLA-DPB1, HLA-A, RPS4Y1, HLA-DRA, AIF1, HLA-C, UBB, OAZ1, PDCD4, NKG7, MT-CO1, MT-CO3, GNAS, GUK1, GYPC, KLF13, TXNIP, GZMM, MT-ND2, YBX1, ARPC3, DUSP1, PIP4K2A, COTL1, MT-ND3, PRDX6, CALM2, SH3BGRL3, BZW1, SMAP2, PRRC2C, CD55, CD63, SERBP1, ID2, HLA-B, RAC2, RPL15, ZFAS1, MT2A, SRGN, PRMT2, ARPC2, GTF3A, HLA-F, ANKRD11, NAP1L4, LIMD2, PNN, ARPC1B, CD27, ACTB, SEPT7, SSR4, DDX5, EVI2B, UQCRB, MT-ND1, HNRNPU, BOD1L1, SNHG8, KIF2A, TBCA, RAP1B, SERF2, RPS24, PNISR, EIF4A2, DDX17, TSC22D3, ARGLU1, RABAC1, RNF213, RPS5, ISG20, CTSS, PAIP2, RBM25, RIPOR2, S100A6, YWHAZ, ACTR2, ACTG1, S100A9, HNRNPC, UQCRH, HNRNPA2B1, SERP1, EIF3G, NOSIP, RPL28, RPL21\n",
      "CD8_T: CD8B, CD8A, CD3D, TRAC, CD3G, CCL5, CD3E, TRBC2, IL32, FTH1, B2M, KLRB1, H3F3B, PTMA, ACTB, TMSB4X, S100A4, H3F3A, CD74, ARL4C, LTB, MT-CO1, MT-CO3\n",
      "DC: CST3, FCER1A, HLA-DQA1, PPP1R14B, CCDC88A, PLD4, HLA-DPB1, ARL4C, CLEC10A, HERPUD1, CCDC50, SAMHD1, HLA-DPA1, TXN, SEC61B, HLA-DRA, JAML, HLA-DQB1, VIM, IRF8, PTPRE, CD74, TCF4, FTL, HLA-E, CD52, NEAT1, KLF2, MALAT1, CTSS, HLA-C, B2M, BTG1, TXNIP, HLA-A, SAT1, MT-ND2, S100A8, HLA-B, MT-ND3, MT-CO2, MT-ATP6, DUSP1, S100A9, MT-CO3, PTPRC, MT-CO1, MT-ND1, TMSB4X, CD37\n",
      "Mono: CTSS, NEAT1, PSAP, CFD, S100A8, AIF1, SERPINA1, FTL, CYBB, LST1, FCN1, CD14, SAT1, S100A9, CCL3, TYMP, NFKBIA, DUSP1, SOD2, MARCKS, B2M, HLA-DPB1, MYL12A, RPS18, MALAT1, NRGN, RPS27, RPS29, MT-ATP6, TAGLN2, OST4, TMSB4X, HLA-A, MT-CYB, RPS15A, RPS5, GNAS, RPL3, TXNIP, RPL13A, HINT1, RPS3, RPL35, RPS3A, RPL37, RPSA, RPL10, RPL13, RPL21, RPL30\n",
      "NK: KLRF1, GNLY, CD247, FCER1G, TYROBP, CD7, SPON2, KLRD1, IL2RB, PRF1, NKG7, KLRB1, CTSW, CLIC3, JAK1, GZMB, HOPX, CD52, MALAT1, B2M, FTL, S100A6, S100A4, FTH1, MT-CYB, IL32, TMSB4X, MT-ND2, MT-ND1, RPS12, VIM, MT-ND3, RPL39\n",
      "other: PPBP, NRGN, PF4, MALAT1, HLA-B\n",
      "other_T: TRDC, CD3D, TRGC1, IKZF2, GZMK, CD3G, TRGC2, NCR3, KLRB1, PHACTR2, MT2A, SLC4A10, S100A6, KLRG1, LYAR, CD3E, NKG7, HCST, GYPC, NUCB2, SPOCK2, SYNE2, CXCR4, DUSP2, RPS13, IL7R, NOSIP, ARL4C, ODF2L, PPP2R5C, TOB1, CD27, GLRX, RPL5, LCK, HSP90AB1, S100A10, LINC01871, ISG20, ZFP36L2, MT-ND3, NAP1L1, ACTG1, CD81, ZFAS1, SRSF3, BCL11B, CD48, PAK2, PRR5, EZR, NPM1, ZBTB7A, PRF1, GTF3A, SRSF5, RPL7, LTB, DUSP1, UQCRB, IL32, KLF13, GZMA, MGAT4A, UXT, RPL4, BTG1, ETS1, CD52, NRIP1, BTF3, RPL22, RACK1, EIF4A1, DNAJB1, RPS24, BOD1L1, C12orf57, KIF2A, FMNL1, JUNB, CNN2, RPL17, COMMD6, KHDRBS1, SLFN5, MT-CYB, FLNA, PSMB8, RPS4X, HSP90B1, SNRPD2, CDKN1B, RPS5, RPL14, ERN1, RPS8, LITAF, EEF1A1, RPL28, RPL12, PRRC2C, NACA, ARGLU1, CCL5, GOLGA4, HNRNPC, ACTB, RPL10A, TMEM258, RPL26, PTMA, TMSB10, B2M, CD8A, IL2RB, KLRD1, ITGB1, CMC1, NEAT1, TYROBP, FYB1, TRAC, CD2, FTH1, S100A11, PTPRC, KLF2, RPS19, RPL13A, TRBC1, FXYD5, HOPX, COTL1, ARL6IP5, IFITM2, GAPDH, CD7, RPL41, CLIC3, CYBA, ITM2A, HINT1, PIK3R1, ITGA4, STK17A, TSC22D3, GSTP1, GSTK1, TXNIP, MALAT1, HMGB2, CD74, LY6E, KLRF1, CLIC1, PLAC8, CD8B, EMP3, HMGB1, RPS27, MBNL1, SPON2, MYL6, GZMM, TOMM7, EIF3G, JUND, CD247, ITM2B, MT-CO3, RPL35, JAK1, PSME2, STK17B, ANXA6, LCP1, TNFAIP3, TIMP1, TLN1, TMSB4X, MZT2B, TRBC2, PNRC1, DBI, TAGLN2, RPLP1, GZMB, CEBPB, HLA-F, EIF1, FCER1G, MAP3K8, CYLD, MSN, IFI16, TMEM123, STK4, CLEC2B, UBA52, ADD3, CD63, RBM3, RAP1B, PSMB9, BST2, GIMAP7, TAPBP, ATP6V0E1, RPL27A, SAMHD1, VIM, TPI1, PDIA3, JUN, TCF25, PTP4A2, LDHA, RPS11, PFDN5, UBB, DAD1, VAMP8, RPS28, ITGB2, ZRANB2, UQCR11, DEK, TSPO, FAU, GNAI2, FGFBP2, PYHIN1, ARPC1B, LGALS1, PSMA7, C1orf56, RPS9, CTSS, NDUFA4, SAT1, IRF1, PFN1, HLA-A, HSP90AA1, KIAA1551, MACF1\n",
      "\n"
     ]
    }
   ],
   "source": [
    "print(text)"
   ]
  },
  {
   "cell_type": "markdown",
   "metadata": {},
   "source": [
    "## Read PreLect features (large lambda, <40 features)"
   ]
  },
  {
   "cell_type": "code",
   "execution_count": 7,
   "metadata": {},
   "outputs": [
    {
     "ename": "FileNotFoundError",
     "evalue": "[WinError 3] The system cannot find the path specified: 'c:\\\\Users\\\\evanlee\\\\Documents\\\\Bmi_NAS_evan\\\\evan_home\\\\Source_code\\\\PBMC_Hao_batch_noZ\\\\Level1\\\\large_lambda\\\\features'",
     "output_type": "error",
     "traceback": [
      "\u001b[1;31m---------------------------------------------------------------------------\u001b[0m",
      "\u001b[1;31mFileNotFoundError\u001b[0m                         Traceback (most recent call last)",
      "Cell \u001b[1;32mIn[7], line 2\u001b[0m\n\u001b[0;32m      1\u001b[0m \u001b[38;5;66;03m# os.chdir('/Users/evanli/Documents/EvanPys/Progress/PBMC_Hao_batch_noZ/Level1/large_lambda/features')\u001b[39;00m\n\u001b[1;32m----> 2\u001b[0m \u001b[43mos\u001b[49m\u001b[38;5;241;43m.\u001b[39;49m\u001b[43mchdir\u001b[49m\u001b[43m(\u001b[49m\u001b[43msource_code_dir\u001b[49m\u001b[43m \u001b[49m\u001b[38;5;241;43m/\u001b[39;49m\u001b[43m \u001b[49m\u001b[38;5;124;43m'\u001b[39;49m\u001b[38;5;124;43mPBMC_Hao_batch_noZ/Level1/large_lambda/features\u001b[39;49m\u001b[38;5;124;43m'\u001b[39;49m\u001b[43m)\u001b[49m\n\u001b[0;32m      4\u001b[0m features_dict \u001b[38;5;241m=\u001b[39m {}\n\u001b[0;32m      5\u001b[0m \u001b[38;5;66;03m# Read features for each celltype\u001b[39;00m\n",
      "\u001b[1;31mFileNotFoundError\u001b[0m: [WinError 3] The system cannot find the path specified: 'c:\\\\Users\\\\evanlee\\\\Documents\\\\Bmi_NAS_evan\\\\evan_home\\\\Source_code\\\\PBMC_Hao_batch_noZ\\\\Level1\\\\large_lambda\\\\features'"
     ]
    }
   ],
   "source": [
    "# os.chdir('/Users/evanli/Documents/EvanPys/Progress/PBMC_Hao_batch_noZ/Level1/large_lambda/features')\n",
    "os.chdir(source_code_dir / 'PBMC_Hao_batch_noZ/Level1/large_lambda/features')\n",
    "\n",
    "features_dict = {}\n",
    "# Read features for each celltype\n",
    "for celltype in types:\n",
    "    try:\n",
    "        feature_df = pd.read_csv(f'{celltype}_features.txt', names=['Gene', 'Weight', 'Tendency'], sep='\\t')\n",
    "        feature_df['abs_weight'] = feature_df['Weight'].abs()\n",
    "        feature_df = feature_df.sort_values(by=['Tendency', 'abs_weight'], ascending=[False, False])\n",
    "        feature_df.drop(columns=['abs_weight'], inplace=True)\n",
    "        features_dict[celltype] = feature_df\n",
    "    except:\n",
    "        print('skipping:', celltype)\n",
    "        continue\n",
    "    # print(celltype, 'Feature count:', feature_df.shape[0])\n",
    "    # print(celltype, 'Positive feature count:', feature_df[feature_df['Tendency'] == 1].shape[0])\n",
    "    # print('------------------')\n",
    "\n",
    "count_df = pd.DataFrame(columns=['Feature_count', 'Positive_feature_count'])\n",
    "for celltype in features_dict.keys():\n",
    "    feature_df = features_dict[celltype]\n",
    "    feature_count = feature_df.shape[0]\n",
    "    positive_count = feature_df[feature_df['Tendency'] == 1].shape[0]\n",
    "    count_df.loc[celltype] = [feature_count, positive_count]\n",
    "count_df"
   ]
  },
  {
   "cell_type": "code",
   "execution_count": 4,
   "metadata": {},
   "outputs": [
    {
     "data": {
      "text/plain": [
       "dict_keys(['CD4_T', 'DC', 'Mono', 'other_T'])"
      ]
     },
     "execution_count": 4,
     "metadata": {},
     "output_type": "execute_result"
    }
   ],
   "source": [
    "features_dict.keys()"
   ]
  },
  {
   "cell_type": "code",
   "execution_count": 5,
   "metadata": {},
   "outputs": [
    {
     "name": "stdout",
     "output_type": "stream",
     "text": [
      "Skipping B\n",
      "Skipping CD8_T\n",
      "Skipping NK\n",
      "Skipping other\n"
     ]
    }
   ],
   "source": [
    "# write to query for ACT\n",
    "text = ''\n",
    "for celltype in types:\n",
    "    if celltype not in features_dict.keys():\n",
    "        print('Skipping', celltype)\n",
    "        continue\n",
    "    features = features_dict[celltype]['Gene'].tolist()\n",
    "    features = ', '.join(features)\n",
    "    # print(features)\n",
    "    text_celltype = f'{celltype}: {features}\\n'\n",
    "    text += text_celltype"
   ]
  },
  {
   "cell_type": "code",
   "execution_count": 6,
   "metadata": {},
   "outputs": [
    {
     "name": "stdout",
     "output_type": "stream",
     "text": [
      "CD4_T: IL7R, TRAC, LTB, FYB1, CD2, IL32, CD52, CD3G, LDHB, TRBC1, ITGB1, CD3D, TOMM7, GIMAP7, TRBC2, S100A4, GSTK1, TMSB10, RNASET2, RPS26, HCST, CCL5, CD74, MT-ND4, MT-CO1, FTL, CYBA, MT-CO2, HLA-B, MT-ND2, MT-ND1, MT-ND3, NKG7, MT-CO3, OAZ1, HSP90AB1\n",
      "DC: CST3, FCER1A, PPP1R14B, CCDC88A, HLA-DQA1, HLA-DPB1, ARL4C, PLD4, CCDC50, HLA-DPA1, HERPUD1, HLA-DRA, TXN, SEC61B, SAMHD1, CD74, FTL, MALAT1, CD52, NEAT1, HLA-E, KLF2, BTG1, TXNIP, B2M, HLA-C, MT-ND2, MT-ND3, MT-ATP6, SAT1, MT-CO2, CTSS, PTPRC, S100A9, HLA-A, MT-CO3, S100A8\n",
      "Mono: CTSS, NEAT1, PSAP, CFD, S100A8, AIF1, SERPINA1, CYBB, FCN1, LST1, S100A9, SAT1, FTL, NFKBIA, MARCKS, CCL3, DUSP1, CD14, B2M, RPS18, RPS27, MYL12A, HLA-DPB1, MT-ATP6, MALAT1, RPS29, TMSB4X, RPL3, TAGLN2, RPS15A, MT-CYB, RPL13A, OST4, RPS3, RPS5, RPSA, RPS3A, TXNIP, GNAS\n",
      "other_T: TRDC, CD3D, KLRB1, GZMK, CD3G, TRGC2, TRGC1, IL7R, DUSP2, NCR3, LYAR, CD3E, S100A6, CXCR4, PHACTR2, IL32, MT2A, ARL4C, KLRG1, ZFP36L2, SPOCK2, SYNE2, PPP2R5C, TMSB10, B2M, NEAT1, MALAT1, FYB1, TMSB4X, RPS27, KLF2, ITGB1, CD2, IFITM2, RPLP1, KLRD1, FTH1, RPL13A, GAPDH\n",
      "\n"
     ]
    }
   ],
   "source": [
    "print(text)"
   ]
  }
 ],
 "metadata": {
  "kernelspec": {
   "display_name": "Python 3",
   "language": "python",
   "name": "python3"
  },
  "language_info": {
   "codemirror_mode": {
    "name": "ipython",
    "version": 3
   },
   "file_extension": ".py",
   "mimetype": "text/x-python",
   "name": "python",
   "nbconvert_exporter": "python",
   "pygments_lexer": "ipython3",
   "version": "3.9.12"
  }
 },
 "nbformat": 4,
 "nbformat_minor": 2
}

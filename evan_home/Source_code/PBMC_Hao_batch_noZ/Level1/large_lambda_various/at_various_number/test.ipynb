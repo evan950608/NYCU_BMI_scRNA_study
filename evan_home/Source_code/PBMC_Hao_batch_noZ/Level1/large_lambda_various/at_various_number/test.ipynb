{
 "cells": [
  {
   "cell_type": "code",
   "execution_count": 1,
   "metadata": {},
   "outputs": [],
   "source": [
    "import numpy as np\n",
    "import pandas as pd\n",
    "import matplotlib.pyplot as plt\n",
    "import json\n",
    "import os"
   ]
  },
  {
   "cell_type": "code",
   "execution_count": 2,
   "metadata": {},
   "outputs": [
    {
     "data": {
      "text/plain": [
       "6"
      ]
     },
     "execution_count": 2,
     "metadata": {},
     "output_type": "execute_result"
    }
   ],
   "source": [
    "queue = ['CD4_T', 'DC', 'Mono', 'NK', 'CD8_T', 'B']\n",
    "len(queue)"
   ]
  },
  {
   "cell_type": "code",
   "execution_count": 6,
   "metadata": {},
   "outputs": [],
   "source": [
    "idx_dict = {'CD4_T': [15,16,17,20,21], \n",
    "            'DC': [16,19,21], \n",
    "            'Mono': [17,19,22], \n",
    "            'NK': [20,23], \n",
    "            'CD8_T': [21], \n",
    "            'B': [19]}"
   ]
  },
  {
   "cell_type": "code",
   "execution_count": 10,
   "metadata": {},
   "outputs": [],
   "source": [
    "def convert_lists_to_arrays(dictionary):\n",
    "    for key in dictionary:\n",
    "        dictionary[key] = np.array(dictionary[key])\n",
    "    return dictionary"
   ]
  },
  {
   "cell_type": "code",
   "execution_count": 36,
   "metadata": {},
   "outputs": [
    {
     "data": {
      "text/plain": [
       "dict_keys(['Percentage', 'Prevalence', 'Feature_number', 'AUC', 'AUPR', 'MCC', 'Precision', 'F1 score', 'loss_history', 'error_history', 'log_lambda_range'])"
      ]
     },
     "execution_count": 36,
     "metadata": {},
     "output_type": "execute_result"
    }
   ],
   "source": [
    "# os.chdir('/home/jovyan/work/GitHub/EvanPys/Progress/PBMC_Hao_batch_noZ/Level1/tuning_result_cuda')\n",
    "os.chdir(r\"C:\\Users\\evanlee\\Documents\\GitHub\\EvanPys\\Progress\\PBMC_Hao_batch_noZ\\Level1\\tuning_result_cuda\")\n",
    "# /Users/evanli/Documents/EvanPys/Progress/PBMC_Hao_batch_noZ/Level1/tuning_result_cuda\n",
    "celltype = queue[0]\n",
    "with open(f'{celltype}_tuning.json') as f:\n",
    "    tuning = json.load(f)\n",
    "\n",
    "tuning = convert_lists_to_arrays(tuning)\n",
    "tuning.keys()"
   ]
  },
  {
   "cell_type": "code",
   "execution_count": 37,
   "metadata": {},
   "outputs": [
    {
     "data": {
      "text/plain": [
       "array([121.,  64.,  50.,  20.,  14.])"
      ]
     },
     "execution_count": 37,
     "metadata": {},
     "output_type": "execute_result"
    }
   ],
   "source": [
    "idx = idx_dict[celltype]\n",
    "tuning['Feature_number'][idx]"
   ]
  },
  {
   "cell_type": "code",
   "execution_count": 38,
   "metadata": {},
   "outputs": [
    {
     "data": {
      "text/plain": [
       "array([0.00316228, 0.00464159, 0.00681292, 0.02154435, 0.03162278])"
      ]
     },
     "execution_count": 38,
     "metadata": {},
     "output_type": "execute_result"
    }
   ],
   "source": [
    "queue_lambda = tuning['log_lambda_range'][idx]\n",
    "queue_lambda = np.exp(queue_lambda)\n",
    "queue_lambda"
   ]
  },
  {
   "cell_type": "code",
   "execution_count": 17,
   "metadata": {},
   "outputs": [],
   "source": [
    "def get_lambdas_for_celltype(idx, tuning_filename):\n",
    "    def convert_lists_to_arrays(dictionary):\n",
    "        for key in dictionary:\n",
    "            dictionary[key] = np.array(dictionary[key])\n",
    "        return dictionary\n",
    "\n",
    "    with open(tuning_filename) as f:\n",
    "        tuning = json.load(f)\n",
    "    tuning = convert_lists_to_arrays(tuning)\n",
    "\n",
    "    queue_lambda = tuning['log_lambda_range'][idx]\n",
    "    queue_lambda = np.exp(queue_lambda)\n",
    "    return queue_lambda\n"
   ]
  },
  {
   "cell_type": "code",
   "execution_count": 19,
   "metadata": {},
   "outputs": [
    {
     "data": {
      "text/plain": [
       "{'CD4_T': array([0.00316228, 0.00464159, 0.00681292, 0.02154435, 0.03162278]),\n",
       " 'DC': array([0.00464159, 0.01467799, 0.03162278]),\n",
       " 'Mono': array([0.00681292, 0.01467799, 0.04641589]),\n",
       " 'NK': array([0.02154435, 0.06812921]),\n",
       " 'CD8_T': array([0.03162278]),\n",
       " 'B': array([0.01467799])}"
      ]
     },
     "execution_count": 19,
     "metadata": {},
     "output_type": "execute_result"
    }
   ],
   "source": [
    "lambda_dict = {}\n",
    "for celltype, indices in idx_dict.items():\n",
    "    tuning_filename = os.path.join(r\"C:\\Users\\evanlee\\Documents\\GitHub\\EvanPys\\Progress\\PBMC_Hao_batch_noZ\\Level1\\tuning_result_cuda\", f'{celltype}_tuning.json')\n",
    "    lambda_dict[celltype] = get_lambdas_for_celltype(indices, tuning_filename)\n",
    "lambda_dict"
   ]
  },
  {
   "cell_type": "code",
   "execution_count": 39,
   "metadata": {},
   "outputs": [
    {
     "data": {
      "text/plain": [
       "array([0.00316228, 0.00464159, 0.00681292, 0.02154435, 0.03162278])"
      ]
     },
     "execution_count": 39,
     "metadata": {},
     "output_type": "execute_result"
    }
   ],
   "source": [
    "lambda_dict[celltype]"
   ]
  },
  {
   "cell_type": "code",
   "execution_count": null,
   "metadata": {},
   "outputs": [],
   "source": []
  }
 ],
 "metadata": {
  "kernelspec": {
   "display_name": "Python 3",
   "language": "python",
   "name": "python3"
  },
  "language_info": {
   "codemirror_mode": {
    "name": "ipython",
    "version": 3
   },
   "file_extension": ".py",
   "mimetype": "text/x-python",
   "name": "python",
   "nbconvert_exporter": "python",
   "pygments_lexer": "ipython3",
   "version": "3.9.12"
  }
 },
 "nbformat": 4,
 "nbformat_minor": 2
}

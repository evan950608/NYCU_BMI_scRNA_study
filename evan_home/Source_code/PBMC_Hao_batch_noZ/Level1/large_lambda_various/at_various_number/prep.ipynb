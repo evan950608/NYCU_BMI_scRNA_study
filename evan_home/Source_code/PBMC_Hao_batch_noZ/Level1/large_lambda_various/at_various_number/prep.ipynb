{
 "cells": [
  {
   "cell_type": "code",
   "execution_count": 2,
   "id": "08d76638-1230-4f4c-97bc-ff6720e441ec",
   "metadata": {
    "tags": []
   },
   "outputs": [],
   "source": [
    "import numpy as np\n",
    "import pandas as pd\n",
    "import os"
   ]
  },
  {
   "cell_type": "code",
   "execution_count": 3,
   "id": "3bd9c603-9246-48c0-b093-a81a4a752bcd",
   "metadata": {
    "tags": []
   },
   "outputs": [],
   "source": [
    "idx_dict = {'CD4_T': [13, 15,16,17,20,21], \n",
    "            'DC': [12, 16,19,21], \n",
    "            'Mono': [15, 17,19,22], \n",
    "            'NK': [17, 20,23], \n",
    "            'CD8_T': [21], \n",
    "            'B': [15, 19]}\n",
    "queue = ['CD4_T', 'DC', 'Mono', 'NK', 'CD8_T', 'B']"
   ]
  },
  {
   "cell_type": "code",
   "execution_count": 4,
   "id": "a1db25cd-af18-48ac-b911-0594c719e354",
   "metadata": {
    "tags": []
   },
   "outputs": [
    {
     "data": {
      "text/plain": [
       "{'CD4_T': [9, 11, 19],\n",
       " 'DC': [9, 11, 13, 15, 17],\n",
       " 'Mono': [9, 11, 13, 21],\n",
       " 'NK': [9, 11, 13, 15, 19, 21],\n",
       " 'CD8_T': [9, 11, 13, 15, 17, 19],\n",
       " 'B': [9, 11, 13, 17, 21]}"
      ]
     },
     "execution_count": 4,
     "metadata": {},
     "output_type": "execute_result"
    }
   ],
   "source": [
    "master_indices = [9, 11, 13, 15, 17, 19, 21]\n",
    "new_idx_dict = {}\n",
    "\n",
    "for k, v in idx_dict.items():\n",
    "    new_idx = []\n",
    "    for m in master_indices:\n",
    "        if m not in v:\n",
    "            new_idx.append(m)\n",
    "    new_idx_dict[k] = new_idx\n",
    "\n",
    "new_idx_dict"
   ]
  },
  {
   "cell_type": "code",
   "execution_count": 5,
   "id": "6e4ac4cc-37a0-4025-9cdf-2375fb737637",
   "metadata": {
    "tags": []
   },
   "outputs": [
    {
     "data": {
      "text/plain": [
       "29"
      ]
     },
     "execution_count": 5,
     "metadata": {},
     "output_type": "execute_result"
    }
   ],
   "source": [
    "count = 0\n",
    "for v in new_idx_dict.values():\n",
    "    count += len(v)\n",
    "count"
   ]
  },
  {
   "cell_type": "code",
   "execution_count": null,
   "id": "333fbbc6",
   "metadata": {},
   "outputs": [],
   "source": []
  }
 ],
 "metadata": {
  "kernelspec": {
   "display_name": "Python 3",
   "language": "python",
   "name": "python3"
  },
  "language_info": {
   "codemirror_mode": {
    "name": "ipython",
    "version": 3
   },
   "file_extension": ".py",
   "mimetype": "text/x-python",
   "name": "python",
   "nbconvert_exporter": "python",
   "pygments_lexer": "ipython3",
   "version": "3.9.12"
  }
 },
 "nbformat": 4,
 "nbformat_minor": 5
}

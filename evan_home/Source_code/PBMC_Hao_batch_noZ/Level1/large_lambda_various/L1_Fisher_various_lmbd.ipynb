{
 "cells": [
  {
   "cell_type": "code",
   "execution_count": 1,
   "metadata": {},
   "outputs": [
    {
     "name": "stdout",
     "output_type": "stream",
     "text": [
      "Home Path: c:\\Users\\evanlee\\Documents\\Bmi_NAS_evan\\evan_home\n"
     ]
    }
   ],
   "source": [
    "from pathlib import Path\n",
    "\n",
    "# Get the current working directory as a Path object\n",
    "current_path = Path.cwd()\n",
    "home_folder = 'evan_home'\n",
    "\n",
    "# Traverse up the directory tree until you find the target folder\n",
    "for parent in [current_path] + list(current_path.parents):\n",
    "    if parent.name == home_folder:\n",
    "        home_path = parent\n",
    "        break\n",
    "else:\n",
    "    raise ValueError(f\"Folder '{home_folder}' not found in the current working directory.\")\n",
    "\n",
    "print(\"Home Path:\", home_path)\n",
    "source_code_dir = home_path / 'Source_code'\n",
    "dataset_dir = home_path / 'Dataset'\n"
   ]
  },
  {
   "cell_type": "code",
   "execution_count": 2,
   "metadata": {},
   "outputs": [],
   "source": [
    "import numpy as np\n",
    "import pandas as pd\n",
    "import scanpy as sc\n",
    "import json\n",
    "import os\n",
    "import re\n",
    "import matplotlib.pyplot as plt\n",
    "from matplotlib_venn import venn2"
   ]
  },
  {
   "cell_type": "code",
   "execution_count": 3,
   "metadata": {},
   "outputs": [
    {
     "name": "stdout",
     "output_type": "stream",
     "text": [
      "Original adata: (59897, 27504)\n",
      "all cell types: ['B', 'CD4_T', 'CD8_T', 'DC', 'Mono', 'NK', 'other', 'other_T']\n"
     ]
    }
   ],
   "source": [
    "### Read representative cells\n",
    "# types = ['B', 'CD4_T', 'CD8_T', 'DC', 'Mono', 'NK', 'other', 'other_T']\n",
    "# adata = sc.read_h5ad('/home/jovyan/work/Research_datasets/PBMC_Hao/GSE164378_Hao/Harmony_noZ/Hao_L1_repcells_loginv_Harmony_noZ.h5ad')\n",
    "# adata = sc.read_h5ad('/Users/evanli/Documents/Research_datasets/PBMC_Hao/GSE164378_Hao/Harmony_noZ/Hao_L1_repcells_loginv_Harmony_noZ.h5ad')\n",
    "adata = sc.read_h5ad(dataset_dir / 'PBMC_Hao/GSE164378_Hao/Harmony_noZ/Hao_L1_repcells_loginv_Harmony_noZ.h5ad')\n",
    "\n",
    "print('Original adata:', adata.shape)\n",
    "label = adata.obs['celltype.l1'].tolist()\n",
    "types = np.unique(label).tolist()\n",
    "print('all cell types:', types)"
   ]
  },
  {
   "cell_type": "code",
   "execution_count": 15,
   "metadata": {},
   "outputs": [
    {
     "data": {
      "text/plain": [
       "27504"
      ]
     },
     "execution_count": 15,
     "metadata": {},
     "output_type": "execute_result"
    }
   ],
   "source": [
    "Hao_genes = adata.var_names.tolist()\n",
    "len(Hao_genes)"
   ]
  },
  {
   "cell_type": "markdown",
   "metadata": {},
   "source": [
    "## Fisher exact test"
   ]
  },
  {
   "cell_type": "code",
   "execution_count": 14,
   "metadata": {},
   "outputs": [],
   "source": [
    "import scipy.stats as stats\n",
    "\n",
    "def perform_fisher_test(PreLect_genes, ACT_genes, Hao_genes):\n",
    "    \"\"\"\n",
    "    Performs Fisher's exact test on the provided gene sets.\n",
    "\n",
    "    Parameters:\n",
    "    - PreLect_genes: Set of genes in PreLect_genes.\n",
    "    - ACT_genes: Set of genes in ACT_genes.\n",
    "    - Hao_genes: Set of all genes in Hao_genes (background population).\n",
    "\n",
    "    Returns:\n",
    "    - oddsratio: The odds ratio calculated from the contingency table.\n",
    "    - p_value: The p-value from Fisher's exact test.\n",
    "    \"\"\"\n",
    "    # Ensure the inputs are sets\n",
    "    PreLect_genes = set(PreLect_genes)\n",
    "    ACT_genes = set(ACT_genes)\n",
    "    Hao_genes = set(Hao_genes)\n",
    "\n",
    "    # Calculate the counts for the contingency table\n",
    "    a = len(PreLect_genes & ACT_genes)                   # Genes in both PreLect_genes and ACT_genes\n",
    "    b = len(PreLect_genes - ACT_genes)                   # Genes in PreLect_genes but not in ACT_genes\n",
    "    c = len(ACT_genes - PreLect_genes)                   # Genes in ACT_genes but not in PreLect_genes\n",
    "    d = len(Hao_genes - (PreLect_genes | ACT_genes))     # Genes in neither gene set\n",
    "\n",
    "    # Construct the contingency table\n",
    "    contingency_table = [[a, b],\n",
    "                         [c, d]]\n",
    "\n",
    "    # Perform Fisher's exact test\n",
    "    oddsratio, p_value = stats.fisher_exact(contingency_table)\n",
    "\n",
    "    # Output the results\n",
    "    print(\"Contingency Table:\")\n",
    "    print(f\"                   In ACT_genes    Not in ACT_genes\")\n",
    "    print(f\"In PreLect_genes       {a}               {b}\")\n",
    "    print(f\"Not in PreLect_genes   {c}            {d}\")\n",
    "    print(f\"\\nOdds Ratio: {oddsratio}\")\n",
    "    print(f\"P-value: {p_value}\")\n",
    "\n",
    "    return oddsratio, p_value\n",
    "\n",
    "# OR > 1: \n",
    "#   Indicates a positive association between being in PreLect_genes and being in ACT_genes\n",
    "#   Genes in PreLect_genes are more likely to be in ACT_genes compared to genes not in PreLect_genes\n",
    "#   The higher the OR, the stronger the positive association between PreLect_genes and ACT_genes\n"
   ]
  },
  {
   "cell_type": "markdown",
   "metadata": {},
   "source": [
    "## Read ACT markers"
   ]
  },
  {
   "cell_type": "code",
   "execution_count": 4,
   "metadata": {},
   "outputs": [
    {
     "name": "stdout",
     "output_type": "stream",
     "text": [
      "(147, 6)\n"
     ]
    },
    {
     "data": {
      "text/html": [
       "<div>\n",
       "<style scoped>\n",
       "    .dataframe tbody tr th:only-of-type {\n",
       "        vertical-align: middle;\n",
       "    }\n",
       "\n",
       "    .dataframe tbody tr th {\n",
       "        vertical-align: top;\n",
       "    }\n",
       "\n",
       "    .dataframe thead th {\n",
       "        text-align: right;\n",
       "    }\n",
       "</style>\n",
       "<table border=\"1\" class=\"dataframe\">\n",
       "  <thead>\n",
       "    <tr style=\"text-align: right;\">\n",
       "      <th></th>\n",
       "      <th>Species</th>\n",
       "      <th>Tissue</th>\n",
       "      <th>super_type</th>\n",
       "      <th>CellType</th>\n",
       "      <th>Marker</th>\n",
       "      <th>Resource</th>\n",
       "    </tr>\n",
       "  </thead>\n",
       "  <tbody>\n",
       "    <tr>\n",
       "      <th>0</th>\n",
       "      <td>Human</td>\n",
       "      <td>Blood</td>\n",
       "      <td>B</td>\n",
       "      <td>Activated B cell</td>\n",
       "      <td>CD5, MIR155HG, TAGLN2</td>\n",
       "      <td>35025971, 28910360, 2474446</td>\n",
       "    </tr>\n",
       "    <tr>\n",
       "      <th>1</th>\n",
       "      <td>Human</td>\n",
       "      <td>Blood</td>\n",
       "      <td>T_CD4</td>\n",
       "      <td>Activated CD4-positive, alpha-beta T cell</td>\n",
       "      <td>CD4, CCR6, CD14, CD19, CD38, CD3D, CD3G, CD69,...</td>\n",
       "      <td>35381424, 32783921, 35831277, 34529726, 103413...</td>\n",
       "    </tr>\n",
       "    <tr>\n",
       "      <th>2</th>\n",
       "      <td>Human</td>\n",
       "      <td>Blood</td>\n",
       "      <td>T_CD4</td>\n",
       "      <td>Activated CD4-positive, CD25-positive, CCR4-po...</td>\n",
       "      <td>CD3D, CD3E, CD3G, CD4, FOXP3</td>\n",
       "      <td>30977974</td>\n",
       "    </tr>\n",
       "    <tr>\n",
       "      <th>3</th>\n",
       "      <td>Human</td>\n",
       "      <td>Blood</td>\n",
       "      <td>NaN</td>\n",
       "      <td>Adult endothelial progenitor cell</td>\n",
       "      <td>KDR, PROM1, CD34, PTPRC, PECAM1, CD14</td>\n",
       "      <td>27561827, 29391882, 24641802, 29147957, 267700...</td>\n",
       "    </tr>\n",
       "    <tr>\n",
       "      <th>4</th>\n",
       "      <td>Human</td>\n",
       "      <td>Blood</td>\n",
       "      <td>T</td>\n",
       "      <td>Alpha-beta T cell</td>\n",
       "      <td>CD3D, CD3E, CD3G, IL7R</td>\n",
       "      <td>34284174, 28777444</td>\n",
       "    </tr>\n",
       "  </tbody>\n",
       "</table>\n",
       "</div>"
      ],
      "text/plain": [
       "  Species Tissue super_type  \\\n",
       "0   Human  Blood          B   \n",
       "1   Human  Blood      T_CD4   \n",
       "2   Human  Blood      T_CD4   \n",
       "3   Human  Blood        NaN   \n",
       "4   Human  Blood          T   \n",
       "\n",
       "                                            CellType  \\\n",
       "0                                   Activated B cell   \n",
       "1          Activated CD4-positive, alpha-beta T cell   \n",
       "2  Activated CD4-positive, CD25-positive, CCR4-po...   \n",
       "3                  Adult endothelial progenitor cell   \n",
       "4                                  Alpha-beta T cell   \n",
       "\n",
       "                                              Marker  \\\n",
       "0                              CD5, MIR155HG, TAGLN2   \n",
       "1  CD4, CCR6, CD14, CD19, CD38, CD3D, CD3G, CD69,...   \n",
       "2                       CD3D, CD3E, CD3G, CD4, FOXP3   \n",
       "3              KDR, PROM1, CD34, PTPRC, PECAM1, CD14   \n",
       "4                             CD3D, CD3E, CD3G, IL7R   \n",
       "\n",
       "                                            Resource  \n",
       "0                        35025971, 28910360, 2474446  \n",
       "1  35381424, 32783921, 35831277, 34529726, 103413...  \n",
       "2                                           30977974  \n",
       "3  27561827, 29391882, 24641802, 29147957, 267700...  \n",
       "4                                 34284174, 28777444  "
      ]
     },
     "execution_count": 4,
     "metadata": {},
     "output_type": "execute_result"
    }
   ],
   "source": [
    "# marker_df = pd.read_csv('/Users/evanli/Documents/EvanPys/Progress/PBMC_Hao_batch_noZ/Level1/ACT_annotation/Human_blood_marker_processed.csv')\n",
    "marker_df = pd.read_csv(source_code_dir / 'PBMC_Hao_batch_noZ/Level1/ACT_annotation/Human_blood_marker_processed.csv')\n",
    "print(marker_df.shape)\n",
    "marker_df.head()"
   ]
  },
  {
   "cell_type": "code",
   "execution_count": 4,
   "metadata": {},
   "outputs": [],
   "source": [
    "def get_celltype_marker(name, marker_df):\n",
    "    string = marker_df[marker_df['CellType'] == name]['Marker'].tolist()[0]\n",
    "    marker_set = set(string.split(', '))\n",
    "    return marker_set"
   ]
  },
  {
   "cell_type": "code",
   "execution_count": 5,
   "metadata": {},
   "outputs": [
    {
     "data": {
      "text/plain": [
       "{'B': 'B cell',\n",
       " 'CD4_T': 'CD4-positive, alpha-beta T cell',\n",
       " 'CD8_T': 'CD8-positive, alpha-beta T cell',\n",
       " 'DC': 'Dendritic cell',\n",
       " 'Mono': 'Monocyte',\n",
       " 'NK': 'Natural killer cell'}"
      ]
     },
     "execution_count": 5,
     "metadata": {},
     "output_type": "execute_result"
    }
   ],
   "source": [
    "ACT_name = ['B cell', 'CD4-positive, alpha-beta T cell', 'CD8-positive, alpha-beta T cell', 'Dendritic cell', 'Monocyte', 'Natural killer cell']\n",
    "cluster_2_ACT_name = dict(zip(types, ACT_name))\n",
    "cluster_2_ACT_name"
   ]
  },
  {
   "cell_type": "markdown",
   "metadata": {},
   "source": [
    "## B: Read PreLect features at various lambdas"
   ]
  },
  {
   "cell_type": "code",
   "execution_count": 5,
   "metadata": {},
   "outputs": [
    {
     "data": {
      "text/plain": [
       "['B_0.00031622776601683783_features.txt',\n",
       " 'B_0.0006812920690579617_features.txt',\n",
       " 'B_0.0014677992676220694_features.txt',\n",
       " 'B_0.003162277660168382_features.txt',\n",
       " 'B_0.006812920690579613_features.txt',\n",
       " 'B_0.014677992676220709_features.txt',\n",
       " 'B_0.0316227766016838_features.txt']"
      ]
     },
     "execution_count": 5,
     "metadata": {},
     "output_type": "execute_result"
    }
   ],
   "source": [
    "# os.chdir('/Users/evanli/Documents/EvanPys/Progress/PBMC_Hao_batch_noZ/Level1/large_lambda_various/at_various_number/features_at_various_no')\n",
    "os.chdir(source_code_dir / 'PBMC_Hao_batch_noZ/Level1/large_lambda_various/at_various_number/features_at_various_no')\n",
    "\n",
    "celltype = 'B'\n",
    "# Define the regular expression pattern using the celltype variable\n",
    "pattern = re.compile(r'^{}_([0-9\\.eE+-]+)_features\\.txt$'.format(celltype))\n",
    "# start with B_, followed by a number (which can include digits, decimal points, signs, and exponential notation), and end with _features.txt\n",
    "\n",
    "# Get files with matching pattern\n",
    "filenames = os.listdir()\n",
    "matching_files = [filename for filename in filenames if pattern.match(filename)]\n",
    "matching_files"
   ]
  },
  {
   "cell_type": "code",
   "execution_count": 12,
   "metadata": {},
   "outputs": [
    {
     "data": {
      "text/plain": [
       "0.003162277660168382"
      ]
     },
     "execution_count": 12,
     "metadata": {},
     "output_type": "execute_result"
    }
   ],
   "source": [
    "float(matching_files[0].split('_')[1])"
   ]
  },
  {
   "cell_type": "code",
   "execution_count": 19,
   "metadata": {},
   "outputs": [
    {
     "data": {
      "text/plain": [
       "58"
      ]
     },
     "execution_count": 19,
     "metadata": {},
     "output_type": "execute_result"
    }
   ],
   "source": [
    "ACT_genes_celltype = get_celltype_marker(cluster_2_ACT_name[celltype], marker_df)\n",
    "len(ACT_genes_celltype)\n",
    "# ACT_genes: remove any that are not part of Hao_genes\n",
    "ACT_genes_celltype = set(ACT_genes_celltype).intersection(set(Hao_genes))\n",
    "len(ACT_genes_celltype)"
   ]
  },
  {
   "cell_type": "code",
   "execution_count": 24,
   "metadata": {},
   "outputs": [
    {
     "name": "stdout",
     "output_type": "stream",
     "text": [
      "=====\n",
      "0.003162277660168382\n",
      "['S100A4', 'RALGPS2', 'PTPRC', 'IGKC', 'BANK1', 'CD74', 'HLA-DRA', 'ACTB', 'TMSB4X', 'MS4A1', 'FTH1', 'MALAT1', 'ITM2B', 'IGHM', 'B2M', 'CD79B', 'MYL12A', 'CD79A', 'IGLC2']\n",
      "19\n",
      "Contingency Table:\n",
      "                   In ACT_genes    Not in ACT_genes\n",
      "In PreLect_genes       8               11\n",
      "Not in PreLect_genes   50            27435\n",
      "\n",
      "Odds Ratio: 399.05454545454546\n",
      "P-value: 1.7541298652423053e-17\n",
      "=====\n",
      "0.014677992676220709\n",
      "['S100A4', 'IGKC', 'CD74', 'HLA-DRA', 'ACTB', 'TMSB4X', 'MS4A1', 'MALAT1', 'B2M', 'CD79A']\n",
      "10\n",
      "Contingency Table:\n",
      "                   In ACT_genes    Not in ACT_genes\n",
      "In PreLect_genes       5               5\n",
      "Not in PreLect_genes   53            27441\n",
      "\n",
      "Odds Ratio: 517.7547169811321\n",
      "P-value: 8.736472962701588e-12\n"
     ]
    }
   ],
   "source": [
    "profile_B = pd.DataFrame(columns=['Lambda', 'Odds_ratio', 'P-value'])\n",
    "\n",
    "for file in matching_files:\n",
    "    print('=====')\n",
    "    lmbd = float(file.split('_')[1])\n",
    "    print(lmbd)\n",
    "    # feature_dict_at_lmbd = {}\n",
    "    try:\n",
    "        feature_df = pd.read_csv(file, names=['Gene', 'Weight', 'Tendency'], sep='\\t')\n",
    "        PreLect_genes_at_lmbd = feature_df['Gene'].tolist()\n",
    "    except:\n",
    "        print('skipping:', file)\n",
    "        continue\n",
    "    print(PreLect_genes_at_lmbd)\n",
    "    print(len(PreLect_genes_at_lmbd))\n",
    "    OR, p_v = perform_fisher_test(PreLect_genes_at_lmbd, ACT_genes_celltype, Hao_genes)\n",
    "    profile_B = pd.concat([profile_B, pd.DataFrame({'Lambda': [lmbd], 'Odds_ratio': [OR], 'P-value': [p_v]})])\n"
   ]
  },
  {
   "cell_type": "code",
   "execution_count": 25,
   "metadata": {},
   "outputs": [
    {
     "data": {
      "text/html": [
       "<div>\n",
       "<style scoped>\n",
       "    .dataframe tbody tr th:only-of-type {\n",
       "        vertical-align: middle;\n",
       "    }\n",
       "\n",
       "    .dataframe tbody tr th {\n",
       "        vertical-align: top;\n",
       "    }\n",
       "\n",
       "    .dataframe thead th {\n",
       "        text-align: right;\n",
       "    }\n",
       "</style>\n",
       "<table border=\"1\" class=\"dataframe\">\n",
       "  <thead>\n",
       "    <tr style=\"text-align: right;\">\n",
       "      <th></th>\n",
       "      <th>Lambda</th>\n",
       "      <th>Odds_ratio</th>\n",
       "      <th>P-value</th>\n",
       "    </tr>\n",
       "  </thead>\n",
       "  <tbody>\n",
       "    <tr>\n",
       "      <th>0</th>\n",
       "      <td>0.003162</td>\n",
       "      <td>399.054545</td>\n",
       "      <td>1.754130e-17</td>\n",
       "    </tr>\n",
       "    <tr>\n",
       "      <th>0</th>\n",
       "      <td>0.014678</td>\n",
       "      <td>517.754717</td>\n",
       "      <td>8.736473e-12</td>\n",
       "    </tr>\n",
       "  </tbody>\n",
       "</table>\n",
       "</div>"
      ],
      "text/plain": [
       "     Lambda  Odds_ratio       P-value\n",
       "0  0.003162  399.054545  1.754130e-17\n",
       "0  0.014678  517.754717  8.736473e-12"
      ]
     },
     "execution_count": 25,
     "metadata": {},
     "output_type": "execute_result"
    }
   ],
   "source": [
    "profile_B"
   ]
  },
  {
   "cell_type": "markdown",
   "metadata": {},
   "source": [
    "## For all types"
   ]
  },
  {
   "cell_type": "code",
   "execution_count": 30,
   "metadata": {},
   "outputs": [],
   "source": [
    "def various_lmbd_PreLect_vs_ACT_fisher(celltype, ACT_genes, Hao_genes):\n",
    "    # Define the regular expression pattern using the celltype variable\n",
    "    pattern = re.compile(r'^{}_([0-9\\.eE+-]+)_features\\.txt$'.format(celltype))\n",
    "    # start with B_, followed by a number (which can include digits, decimal points, signs, and exponential notation), and end with _features.txt\n",
    "\n",
    "    # Get files with matching pattern\n",
    "    filenames = os.listdir()\n",
    "    matching_files = [filename for filename in filenames if pattern.match(filename)]\n",
    "\n",
    "    fisher_result = pd.DataFrame(columns=['Lambda', 'Feature_no', 'Odds_ratio', 'P-value'])\n",
    "    \n",
    "    for file in matching_files:\n",
    "        print('=====')\n",
    "        lmbd = float(file.split('_')[-2])\n",
    "        print(lmbd)\n",
    "        try:\n",
    "            feature_df = pd.read_csv(file, names=['Gene', 'Weight', 'Tendency'], sep='\\t')\n",
    "            PreLect_genes_at_lmbd = feature_df['Gene'].tolist()\n",
    "        except:\n",
    "            print('skipping:', file)\n",
    "            continue\n",
    "        print('PreLect feature no:', len(PreLect_genes_at_lmbd))\n",
    "        OR, p_v = perform_fisher_test(PreLect_genes_at_lmbd, ACT_genes, Hao_genes)\n",
    "        fisher_result = pd.concat([fisher_result, pd.DataFrame({'Lambda': [lmbd], \n",
    "                                                                'Feature_no': [len(PreLect_genes_at_lmbd)], \n",
    "                                                                'Odds_ratio': [OR], \n",
    "                                                                'P-value': [p_v]})])\n",
    "    \n",
    "    return fisher_result"
   ]
  },
  {
   "cell_type": "code",
   "execution_count": null,
   "metadata": {},
   "outputs": [
    {
     "name": "stdout",
     "output_type": "stream",
     "text": [
      "==========\n",
      "B, ACT markers no: 58\n",
      "=====\n",
      "0.003162277660168382\n",
      "PreLect feature no: 19\n",
      "Contingency Table:\n",
      "                   In ACT_genes    Not in ACT_genes\n",
      "In PreLect_genes       8               11\n",
      "Not in PreLect_genes   50            27435\n",
      "\n",
      "Odds Ratio: 399.05454545454546\n",
      "P-value: 1.7541298652423053e-17\n",
      "=====\n",
      "0.014677992676220709\n",
      "PreLect feature no: 10\n",
      "Contingency Table:\n",
      "                   In ACT_genes    Not in ACT_genes\n",
      "In PreLect_genes       5               5\n",
      "Not in PreLect_genes   53            27441\n",
      "\n",
      "Odds Ratio: 517.7547169811321\n",
      "P-value: 8.736472962701588e-12\n",
      "     Lambda Feature_no  Odds_ratio       P-value\n",
      "0  0.014678         10  517.754717  8.736473e-12\n",
      "0  0.003162         19  399.054545  1.754130e-17\n",
      "==========\n",
      "CD4_T, ACT markers no: 41\n",
      "=====\n",
      "0.02154434690031885\n",
      "PreLect feature no: 20\n",
      "Contingency Table:\n",
      "                   In ACT_genes    Not in ACT_genes\n",
      "In PreLect_genes       7               13\n",
      "Not in PreLect_genes   34            27450\n",
      "\n",
      "Odds Ratio: 434.72850678733033\n",
      "P-value: 7.279916582948583e-16\n",
      "=====\n",
      "0.010000000000000004\n",
      "PreLect feature no: 36\n",
      "Contingency Table:\n",
      "                   In ACT_genes    Not in ACT_genes\n",
      "In PreLect_genes       8               28\n",
      "Not in PreLect_genes   33            27435\n",
      "\n",
      "Odds Ratio: 237.53246753246754\n",
      "P-value: 3.4586705753594565e-16\n",
      "=====\n",
      "0.0316227766016838\n",
      "PreLect feature no: 14\n",
      "Contingency Table:\n",
      "                   In ACT_genes    Not in ACT_genes\n",
      "In PreLect_genes       6               8\n",
      "Not in PreLect_genes   35            27455\n",
      "\n",
      "Odds Ratio: 588.3214285714286\n",
      "P-value: 2.2275150678578324e-14\n",
      "=====\n",
      "0.006812920690579613\n",
      "PreLect feature no: 50\n",
      "Contingency Table:\n",
      "                   In ACT_genes    Not in ACT_genes\n",
      "In PreLect_genes       9               41\n",
      "Not in PreLect_genes   32            27422\n",
      "\n",
      "Odds Ratio: 188.10823170731706\n",
      "P-value: 3.392161336738245e-17\n",
      "=====\n",
      "0.003162277660168382\n",
      "PreLect feature no: 105\n",
      "Contingency Table:\n",
      "                   In ACT_genes    Not in ACT_genes\n",
      "In PreLect_genes       10               95\n",
      "Not in PreLect_genes   31            27368\n",
      "\n",
      "Odds Ratio: 92.93039049235993\n",
      "P-value: 4.304480226477162e-16\n",
      "=====\n",
      "0.004641588833612781\n",
      "PreLect feature no: 71\n",
      "Contingency Table:\n",
      "                   In ACT_genes    Not in ACT_genes\n",
      "In PreLect_genes       10               61\n",
      "Not in PreLect_genes   31            27402\n",
      "\n",
      "Odds Ratio: 144.9074563722898\n",
      "P-value: 7.134540818807793e-18\n",
      "=====\n",
      "0.0014677992676220694\n",
      "PreLect feature no: 201\n",
      "Contingency Table:\n",
      "                   In ACT_genes    Not in ACT_genes\n",
      "In PreLect_genes       13               188\n",
      "Not in PreLect_genes   28            27275\n",
      "\n",
      "Odds Ratio: 67.3584726443769\n",
      "P-value: 1.6866982166477405e-18\n",
      "     Lambda Feature_no  Odds_ratio       P-value\n",
      "0  0.031623         14  588.321429  2.227515e-14\n",
      "0  0.021544         20  434.728507  7.279917e-16\n",
      "0  0.010000         36  237.532468  3.458671e-16\n",
      "0  0.006813         50  188.108232  3.392161e-17\n",
      "0  0.004642         71  144.907456  7.134541e-18\n",
      "0  0.003162        105   92.930390  4.304480e-16\n",
      "0  0.001468        201   67.358473  1.686698e-18\n",
      "==========\n",
      "CD8_T, ACT markers no: 26\n",
      "=====\n",
      "0.006812920690579613\n",
      "PreLect feature no: 23\n",
      "Contingency Table:\n",
      "                   In ACT_genes    Not in ACT_genes\n",
      "In PreLect_genes       8               15\n",
      "Not in PreLect_genes   18            27463\n",
      "\n",
      "Odds Ratio: 813.7185185185185\n",
      "P-value: 9.359120855294212e-20\n",
      "=====\n",
      "0.0316227766016838\n",
      "PreLect feature no: 13\n",
      "Contingency Table:\n",
      "                   In ACT_genes    Not in ACT_genes\n",
      "In PreLect_genes       4               9\n",
      "Not in PreLect_genes   22            27469\n",
      "\n",
      "Odds Ratio: 554.929292929293\n",
      "P-value: 4.458280723331458e-10\n",
      "     Lambda Feature_no  Odds_ratio       P-value\n",
      "0  0.031623         13  554.929293  4.458281e-10\n",
      "0  0.006813         23  813.718519  9.359121e-20\n",
      "==========\n",
      "DC, ACT markers no: 47\n",
      "=====\n",
      "0.004641588833612781\n",
      "PreLect feature no: 33\n",
      "Contingency Table:\n",
      "                   In ACT_genes    Not in ACT_genes\n",
      "In PreLect_genes       6               27\n",
      "Not in PreLect_genes   41            27430\n",
      "\n",
      "Odds Ratio: 148.6720867208672\n",
      "P-value: 1.9119398335606632e-11\n",
      "=====\n",
      "0.0021544346900318843\n",
      "PreLect feature no: 37\n",
      "Contingency Table:\n",
      "                   In ACT_genes    Not in ACT_genes\n",
      "In PreLect_genes       7               30\n",
      "Not in PreLect_genes   40            27427\n",
      "\n",
      "Odds Ratio: 159.99083333333334\n",
      "P-value: 2.6401702076171134e-13\n",
      "=====\n",
      "0.0010000000000000002\n",
      "PreLect feature no: 50\n",
      "Contingency Table:\n",
      "                   In ACT_genes    Not in ACT_genes\n",
      "In PreLect_genes       9               41\n",
      "Not in PreLect_genes   38            27416\n",
      "\n",
      "Odds Ratio: 158.37227214377407\n",
      "P-value: 1.3087738378567983e-16\n",
      "=====\n",
      "0.014677992676220709\n",
      "PreLect feature no: 21\n",
      "Contingency Table:\n",
      "                   In ACT_genes    Not in ACT_genes\n",
      "In PreLect_genes       6               15\n",
      "Not in PreLect_genes   41            27442\n",
      "\n",
      "Odds Ratio: 267.7268292682927\n",
      "P-value: 9.512200521279287e-13\n",
      "=====\n",
      "0.0316227766016838\n",
      "PreLect feature no: 11\n",
      "Contingency Table:\n",
      "                   In ACT_genes    Not in ACT_genes\n",
      "In PreLect_genes       5               6\n",
      "Not in PreLect_genes   42            27451\n",
      "\n",
      "Odds Ratio: 544.6626984126984\n",
      "P-value: 5.3640313248087925e-12\n",
      "     Lambda Feature_no  Odds_ratio       P-value\n",
      "0  0.031623         11  544.662698  5.364031e-12\n",
      "0  0.014678         21  267.726829  9.512201e-13\n",
      "0  0.004642         33  148.672087  1.911940e-11\n",
      "0  0.002154         37  159.990833  2.640170e-13\n",
      "0  0.001000         50  158.372272  1.308774e-16\n",
      "==========\n",
      "Mono, ACT markers no: 104\n",
      "=====\n",
      "0.004641588833612781\n",
      "PreLect feature no: 39\n",
      "Contingency Table:\n",
      "                   In ACT_genes    Not in ACT_genes\n",
      "In PreLect_genes       11               28\n",
      "Not in PreLect_genes   93            27372\n",
      "\n",
      "Odds Ratio: 115.62672811059907\n",
      "P-value: 2.011775602367885e-18\n",
      "=====\n",
      "0.04641588833612786\n",
      "PreLect feature no: 11\n",
      "Contingency Table:\n",
      "                   In ACT_genes    Not in ACT_genes\n",
      "In PreLect_genes       7               4\n",
      "Not in PreLect_genes   97            27396\n",
      "\n",
      "Odds Ratio: 494.25773195876286\n",
      "P-value: 2.9333076900104697e-15\n",
      "=====\n",
      "0.003162277660168382\n",
      "PreLect feature no: 50\n",
      "Contingency Table:\n",
      "                   In ACT_genes    Not in ACT_genes\n",
      "In PreLect_genes       11               39\n",
      "Not in PreLect_genes   93            27361\n",
      "\n",
      "Odds Ratio: 82.98070030328095\n",
      "P-value: 4.332944662161612e-17\n",
      "=====\n",
      "0.006812920690579613\n",
      "PreLect feature no: 29\n",
      "Contingency Table:\n",
      "                   In ACT_genes    Not in ACT_genes\n",
      "In PreLect_genes       10               19\n",
      "Not in PreLect_genes   94            27381\n",
      "\n",
      "Odds Ratio: 153.3090705487122\n",
      "P-value: 7.23043835738485e-18\n",
      "=====\n",
      "0.014677992676220709\n",
      "PreLect feature no: 19\n",
      "Contingency Table:\n",
      "                   In ACT_genes    Not in ACT_genes\n",
      "In PreLect_genes       9               10\n",
      "Not in PreLect_genes   95            27390\n",
      "\n",
      "Odds Ratio: 259.4842105263158\n",
      "P-value: 9.925319064778677e-18\n",
      "     Lambda Feature_no  Odds_ratio       P-value\n",
      "0  0.046416         11  494.257732  2.933308e-15\n",
      "0  0.014678         19  259.484211  9.925319e-18\n",
      "0  0.006813         29  153.309071  7.230438e-18\n",
      "0  0.004642         39  115.626728  2.011776e-18\n",
      "0  0.003162         50   82.980700  4.332945e-17\n",
      "==========\n",
      "NK, ACT markers no: 73\n",
      "=====\n",
      "0.0681292069057962\n",
      "PreLect feature no: 9\n",
      "Contingency Table:\n",
      "                   In ACT_genes    Not in ACT_genes\n",
      "In PreLect_genes       3               6\n",
      "Not in PreLect_genes   70            27425\n",
      "\n",
      "Odds Ratio: 195.89285714285714\n",
      "P-value: 1.489617596835049e-06\n",
      "=====\n",
      "0.02154434690031885\n",
      "PreLect feature no: 22\n",
      "Contingency Table:\n",
      "                   In ACT_genes    Not in ACT_genes\n",
      "In PreLect_genes       8               14\n",
      "Not in PreLect_genes   65            27417\n",
      "\n",
      "Odds Ratio: 241.02857142857144\n",
      "P-value: 5.14412208102345e-16\n",
      "=====\n",
      "0.006812920690579613\n",
      "PreLect feature no: 33\n",
      "Contingency Table:\n",
      "                   In ACT_genes    Not in ACT_genes\n",
      "In PreLect_genes       10               23\n",
      "Not in PreLect_genes   63            27408\n",
      "\n",
      "Odds Ratio: 189.15113871635612\n",
      "P-value: 8.043205021777255e-19\n",
      "     Lambda Feature_no  Odds_ratio       P-value\n",
      "0  0.068129          9  195.892857  1.489618e-06\n",
      "0  0.021544         22  241.028571  5.144122e-16\n",
      "0  0.006813         33  189.151139  8.043205e-19\n"
     ]
    }
   ],
   "source": [
    "# output_path = '/Users/evanli/Documents/EvanPys/Progress/PBMC_Hao_batch_noZ/Level1/large_lambda_various/L1_Fisher_result'\n",
    "output_path = source_code_dir / 'PBMC_Hao_batch_noZ/Level1/large_lambda_various/L1_Fisher_result'\n",
    "for clus, name in cluster_2_ACT_name.items():\n",
    "    ACT_genes_celltype = get_celltype_marker(name, marker_df)\n",
    "    # ACT_genes: remove any that are not part of Hao_genes\n",
    "    ACT_genes_celltype = set(ACT_genes_celltype).intersection(set(Hao_genes))\n",
    "    print('==========')\n",
    "    print(f'{clus}, ACT markers no:', len(ACT_genes_celltype))\n",
    "\n",
    "    fisher_result = various_lmbd_PreLect_vs_ACT_fisher(clus, ACT_genes_celltype, Hao_genes)\n",
    "    fisher_result = fisher_result.sort_values('Feature_no')\n",
    "    print(fisher_result)\n",
    "    fisher_result.to_csv(os.path.join(output_path, f'{clus}_fisher_result.csv'))"
   ]
  },
  {
   "cell_type": "code",
   "execution_count": 6,
   "metadata": {},
   "outputs": [],
   "source": [
    "# os.chdir('/Users/evanli/Documents/EvanPys/Progress/PBMC_Hao_batch_noZ/Level1/large_lambda_various/L1_Fisher_result')\n",
    "# os.chdir(r\"C:\\Users\\evanlee\\Documents\\GitHub\\EvanPys\\Progress\\PBMC_Hao_batch_noZ\\Level1\\large_lambda_various\\L1_Fisher_result\")\n",
    "os.chdir(source_code_dir / 'PBMC_Hao_batch_noZ/Level1/large_lambda_various/L1_Fisher_result')"
   ]
  },
  {
   "cell_type": "code",
   "execution_count": 5,
   "metadata": {},
   "outputs": [],
   "source": [
    "types = ['B', 'CD4_T', 'CD8_T', 'DC', 'Mono', 'NK', 'other', 'other_T']"
   ]
  },
  {
   "cell_type": "code",
   "execution_count": 6,
   "metadata": {},
   "outputs": [
    {
     "name": "stdout",
     "output_type": "stream",
     "text": [
      "Skipping other\n",
      "Skipping other_T\n"
     ]
    },
    {
     "data": {
      "image/png": "[encoded data removed]",
      "text/plain": [
       "<Figure size 800x600 with 1 Axes>"
      ]
     },
     "metadata": {},
     "output_type": "display_data"
    }
   ],
   "source": [
    "plt.figure(figsize=(8, 6))\n",
    "for celltype in types:\n",
    "    try:\n",
    "        fisher_result = pd.read_csv(f'{celltype}_fisher_result.csv', index_col=0)\n",
    "    except:\n",
    "        print('Skipping', celltype)\n",
    "        continue\n",
    "    \n",
    "    plt.plot(fisher_result['Feature_no'], fisher_result['Odds_ratio'], marker='o', label=celltype)\n",
    "\n",
    "plt.xlabel('Feature Number', fontsize=14)\n",
    "plt.ylabel('Odds Ratio', fontsize=14)\n",
    "plt.xscale('log')\n",
    "plt.yscale('log')\n",
    "plt.title('Fisher Test Odds Ratio by PreLect Feature Number', fontsize=16)\n",
    "plt.legend(title='Cell Types')\n",
    "plt.show()"
   ]
  },
  {
   "cell_type": "code",
   "execution_count": 7,
   "metadata": {},
   "outputs": [
    {
     "name": "stdout",
     "output_type": "stream",
     "text": [
      "Skipping other\n",
      "Skipping other_T\n"
     ]
    },
    {
     "data": {
      "image/png": "[encoded data removed]",
      "text/plain": [
       "<Figure size 800x600 with 1 Axes>"
      ]
     },
     "metadata": {},
     "output_type": "display_data"
    }
   ],
   "source": [
    "plt.figure(figsize=(8, 6))\n",
    "for celltype in types:\n",
    "    try:\n",
    "        fisher_result = pd.read_csv(f'{celltype}_fisher_result.csv', index_col=0)\n",
    "    except:\n",
    "        print('Skipping', celltype)\n",
    "        continue\n",
    "    \n",
    "    plt.plot(fisher_result['Lambda'], fisher_result['Odds_ratio'], marker='o', label=celltype)\n",
    "\n",
    "plt.xlabel('Lambda', fontsize=14)\n",
    "plt.xscale('log')\n",
    "plt.yscale('log')\n",
    "plt.ylabel('Odds Ratio', fontsize=14)\n",
    "plt.title('Fisher Test Odds Ratio by PreLect Lambda', fontsize=16)\n",
    "plt.legend(title='Cell Types')\n",
    "plt.show()"
   ]
  },
  {
   "cell_type": "code",
   "execution_count": null,
   "metadata": {},
   "outputs": [],
   "source": []
  }
 ],
 "metadata": {
  "kernelspec": {
   "display_name": "Python 3",
   "language": "python",
   "name": "python3"
  },
  "language_info": {
   "codemirror_mode": {
    "name": "ipython",
    "version": 3
   },
   "file_extension": ".py",
   "mimetype": "text/x-python",
   "name": "python",
   "nbconvert_exporter": "python",
   "pygments_lexer": "ipython3",
   "version": "3.9.12"
  }
 },
 "nbformat": 4,
 "nbformat_minor": 2
}

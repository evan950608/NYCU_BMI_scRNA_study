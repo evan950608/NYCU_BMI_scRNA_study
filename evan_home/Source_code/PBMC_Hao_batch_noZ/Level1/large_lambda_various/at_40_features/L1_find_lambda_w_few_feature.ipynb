{
 "cells": [
  {
   "cell_type": "code",
   "execution_count": 1,
   "metadata": {},
   "outputs": [
    {
     "name": "stdout",
     "output_type": "stream",
     "text": [
      "Home Path: c:\\Users\\evanlee\\Documents\\Bmi_NAS_evan\\evan_home\n"
     ]
    }
   ],
   "source": [
    "from pathlib import Path\n",
    "\n",
    "# Get the current working directory as a Path object\n",
    "current_path = Path.cwd()\n",
    "home_folder = 'evan_home'\n",
    "\n",
    "# Traverse up the directory tree until you find the target folder\n",
    "for parent in [current_path] + list(current_path.parents):\n",
    "    if parent.name == home_folder:\n",
    "        home_path = parent\n",
    "        break\n",
    "else:\n",
    "    raise ValueError(f\"Folder '{home_folder}' not found in the current working directory.\")\n",
    "\n",
    "print(\"Home Path:\", home_path)\n",
    "source_code_dir = home_path / 'Source_code'\n",
    "dataset_dir = home_path / 'Dataset'\n"
   ]
  },
  {
   "cell_type": "code",
   "execution_count": 2,
   "metadata": {
    "tags": []
   },
   "outputs": [],
   "source": [
    "import numpy as np\n",
    "import pandas as pd\n",
    "import matplotlib.pyplot as plt\n",
    "import json\n",
    "import os"
   ]
  },
  {
   "cell_type": "code",
   "execution_count": 3,
   "metadata": {
    "tags": []
   },
   "outputs": [
    {
     "data": {
      "text/plain": [
       "4"
      ]
     },
     "execution_count": 3,
     "metadata": {},
     "output_type": "execute_result"
    }
   ],
   "source": [
    "queue = ['CD4_T', 'DC', 'Mono', 'other_T']\n",
    "len(queue)"
   ]
  },
  {
   "cell_type": "code",
   "execution_count": 4,
   "metadata": {
    "tags": []
   },
   "outputs": [
    {
     "data": {
      "text/plain": [
       "dict_keys(['Percentage', 'Prevalence', 'Feature_number', 'AUC', 'AUPR', 'MCC', 'Precision', 'F1 score', 'loss_history', 'error_history', 'log_lambda_range'])"
      ]
     },
     "execution_count": 4,
     "metadata": {},
     "output_type": "execute_result"
    }
   ],
   "source": [
    "# os.chdir('/home/jovyan/work/GitHub/EvanPys/Progress/PBMC_Hao_batch_noZ/Level1/tuning_result_cuda')\n",
    "os.chdir(source_code_dir / 'PBMC_Hao_batch_noZ/Level1/tuning_result_cuda')\n",
    "\n",
    "celltype = 'CD4_T'\n",
    "with open(f'{celltype}_tuning.json') as f:\n",
    "    tuning = json.load(f)\n",
    "tuning.keys()"
   ]
  },
  {
   "cell_type": "code",
   "execution_count": 5,
   "metadata": {
    "tags": []
   },
   "outputs": [
    {
     "name": "stdout",
     "output_type": "stream",
     "text": [
      "18\n"
     ]
    }
   ],
   "source": [
    "# Find the index when 'Feature number' start to fall below 40\n",
    "idx_40 = 0\n",
    "for feature_no in tuning['Feature_number']:\n",
    "    if feature_no < 40:\n",
    "        print(idx_40)\n",
    "        break\n",
    "    idx_40 += 1"
   ]
  },
  {
   "cell_type": "code",
   "execution_count": 6,
   "metadata": {
    "tags": []
   },
   "outputs": [
    {
     "data": {
      "text/plain": [
       "[3287.0,\n",
       " 2948.0,\n",
       " 2613.0,\n",
       " 2149.0,\n",
       " 1568.0,\n",
       " 1399.0,\n",
       " 1343.0,\n",
       " 917.0,\n",
       " 805.0,\n",
       " 706.0,\n",
       " 444.0,\n",
       " 504.0,\n",
       " 277.0,\n",
       " 191.0,\n",
       " 138.0,\n",
       " 121.0,\n",
       " 64.0,\n",
       " 50.0,\n",
       " 35.0,\n",
       " 24.0,\n",
       " 20.0,\n",
       " 14.0,\n",
       " 8.0,\n",
       " 4.0,\n",
       " 5.0]"
      ]
     },
     "execution_count": 6,
     "metadata": {},
     "output_type": "execute_result"
    }
   ],
   "source": [
    "tuning['Feature_number']"
   ]
  },
  {
   "cell_type": "code",
   "execution_count": 7,
   "metadata": {
    "tags": []
   },
   "outputs": [
    {
     "data": {
      "text/plain": [
       "0.010000000000000004"
      ]
     },
     "execution_count": 7,
     "metadata": {},
     "output_type": "execute_result"
    }
   ],
   "source": [
    "lmbd_40_features = np.exp(tuning['log_lambda_range'][idx_40])\n",
    "lmbd_40_features"
   ]
  },
  {
   "cell_type": "code",
   "execution_count": null,
   "metadata": {},
   "outputs": [],
   "source": []
  },
  {
   "cell_type": "code",
   "execution_count": 5,
   "metadata": {
    "tags": []
   },
   "outputs": [
    {
     "name": "stdout",
     "output_type": "stream",
     "text": [
      "CD4_T\n",
      "18\n",
      "New number of features (<40): 35.0\n",
      "DC\n",
      "14\n",
      "New number of features (<40): 37.0\n",
      "Mono\n",
      "16\n",
      "New number of features (<40): 39.0\n",
      "other_T\n",
      "16\n",
      "New number of features (<40): 37.0\n"
     ]
    }
   ],
   "source": [
    "# os.chdir('/home/jovyan/work/GitHub/EvanPys/Progress/PBMC_Hao_batch_noZ/Level1/tuning_result_cuda')\n",
    "os.chdir(source_code_dir / 'PBMC_Hao_batch_noZ/Level1/tuning_result_cuda')\n",
    "\n",
    "lmbd_40_features_dict = {}\n",
    "for celltype in queue:\n",
    "    print(celltype)\n",
    "    with open(f'{celltype}_tuning.json') as f:\n",
    "        tuning = json.load(f)\n",
    "    \n",
    "    # Find the index when 'Feature number' start to fall below 40\n",
    "    idx_40 = 0\n",
    "    for feature_no in tuning['Feature_number']:\n",
    "        if feature_no < 40:\n",
    "            # Get the previous index\n",
    "            # idx_30 -= 1\n",
    "            print(idx_40)\n",
    "            break\n",
    "        idx_40 += 1\n",
    "    print('New number of features (<40):', tuning['Feature_number'][idx_40])\n",
    "\n",
    "    lmbd_40_features = np.exp(tuning['log_lambda_range'][idx_40])\n",
    "    lmbd_40_features_dict[celltype] = lmbd_40_features\n"
   ]
  },
  {
   "cell_type": "code",
   "execution_count": 10,
   "metadata": {
    "tags": []
   },
   "outputs": [
    {
     "data": {
      "text/plain": [
       "{'CD4_T': 0.010000000000000004,\n",
       " 'DC': 0.0021544346900318843,\n",
       " 'Mono': 0.004641588833612781,\n",
       " 'other_T': 0.004641588833612781}"
      ]
     },
     "execution_count": 10,
     "metadata": {},
     "output_type": "execute_result"
    }
   ],
   "source": [
    "lmbd_40_features_dict"
   ]
  },
  {
   "cell_type": "code",
   "execution_count": null,
   "metadata": {
    "tags": []
   },
   "outputs": [],
   "source": [
    "# write to json\n",
    "# os.chdir('/home/jovyan/work/GitHub/EvanPys/Progress/PBMC_Hao_batch_noZ/Level1/large_lambda')\n",
    "os.chdir(source_code_dir / 'PBMC_Hao_batch_noZ/Level1/large_lambda')\n",
    "with open('L1_lambda_at_40_features.json', 'w') as f:\n",
    "    json.dump(lmbd_40_features_dict, f)"
   ]
  }
 ],
 "metadata": {
  "kernelspec": {
   "display_name": "Python 3",
   "language": "python",
   "name": "python3"
  },
  "language_info": {
   "codemirror_mode": {
    "name": "ipython",
    "version": 3
   },
   "file_extension": ".py",
   "mimetype": "text/x-python",
   "name": "python",
   "nbconvert_exporter": "python",
   "pygments_lexer": "ipython3",
   "version": "3.9.12"
  }
 },
 "nbformat": 4,
 "nbformat_minor": 4
}

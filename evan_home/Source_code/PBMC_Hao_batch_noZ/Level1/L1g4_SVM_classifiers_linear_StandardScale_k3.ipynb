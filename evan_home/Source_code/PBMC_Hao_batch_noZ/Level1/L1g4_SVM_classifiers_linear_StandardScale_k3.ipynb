{
 "cells": [
  {
   "cell_type": "code",
   "execution_count": 1,
   "metadata": {},
   "outputs": [
    {
     "name": "stdout",
     "output_type": "stream",
     "text": [
      "Home Path: c:\\Users\\evanlee\\Documents\\Bmi_NAS_evan\\evan_home\n"
     ]
    }
   ],
   "source": [
    "from pathlib import Path\n",
    "\n",
    "# Get the current working directory as a Path object\n",
    "current_path = Path.cwd()\n",
    "home_folder = 'evan_home'\n",
    "\n",
    "# Traverse up the directory tree until you find the target folder\n",
    "for parent in [current_path] + list(current_path.parents):\n",
    "    if parent.name == home_folder:\n",
    "        home_path = parent\n",
    "        break\n",
    "else:\n",
    "    raise ValueError(f\"Folder '{home_folder}' not found in the current working directory.\")\n",
    "\n",
    "print(\"Home Path:\", home_path)\n",
    "source_code_dir = home_path / 'Source_code'\n",
    "dataset_dir = home_path / 'Dataset'\n"
   ]
  },
  {
   "cell_type": "code",
   "execution_count": 2,
   "metadata": {},
   "outputs": [],
   "source": [
    "import numpy as np\n",
    "import matplotlib.pyplot as plt\n",
    "import pandas as pd\n",
    "\n",
    "from sklearn.svm import SVC\n",
    "from sklearn.model_selection import train_test_split\n",
    "from sklearn.metrics import accuracy_score, precision_score, recall_score, f1_score\n",
    "from sklearn.metrics import roc_curve, roc_auc_score, auc, precision_recall_curve, average_precision_score\n",
    "from sklearn.metrics import make_scorer, matthews_corrcoef\n",
    "from sklearn.model_selection import cross_val_score, cross_validate, KFold, StratifiedKFold\n",
    "from sklearn.preprocessing import StandardScaler\n"
   ]
  },
  {
   "cell_type": "code",
   "execution_count": 3,
   "metadata": {},
   "outputs": [
    {
     "name": "stdout",
     "output_type": "stream",
     "text": [
      "Original adata: (161764, 33538)\n",
      "all cell types: ['B', 'CD4_T', 'CD8_T', 'DC', 'Mono', 'NK', 'other', 'other_T']\n",
      "====================\n"
     ]
    }
   ],
   "source": [
    "import scanpy as sc\n",
    "\n",
    "# adata = sc.read_h5ad(r\"C:\\Users\\evanlee\\Documents\\Research_datasets\\PBMC_Hao\\GSE164378_Hao\\Harmony_noZ\\Hao_Harmony_test_no_scale.h5ad\")\n",
    "adata = sc.read_h5ad(dataset_dir / 'PBMC_Hao/GSE164378_Hao/Harmony_noZ/Hao_Harmony_test_no_scale.h5ad')\n",
    "print('Original adata:', adata.shape)\n",
    "adata.obs['celltype.l1'] = adata.obs['celltype.l1'].str.replace(' ', '_')\n",
    "label = adata.obs['celltype.l1'].tolist()\n",
    "types = np.unique(label).tolist()\n",
    "print('all cell types:', types)\n",
    "print('====================')\n",
    "# del adata\n"
   ]
  },
  {
   "cell_type": "markdown",
   "metadata": {},
   "source": [
    "# Z-transform adata"
   ]
  },
  {
   "cell_type": "code",
   "execution_count": 3,
   "metadata": {},
   "outputs": [],
   "source": [
    "sc.pp.scale(adata, max_value=10)"
   ]
  },
  {
   "cell_type": "markdown",
   "metadata": {},
   "source": [
    "## Read features"
   ]
  },
  {
   "cell_type": "code",
   "execution_count": 4,
   "metadata": {},
   "outputs": [],
   "source": [
    "import os\n",
    "# os.chdir(r\"C:\\Users\\evanlee\\Documents\\GitHub\\EvanPys\\Progress\\PBMC_Hao_batch_noZ\\Level1\\feature_selection_k3\")\n",
    "os.chdir(source_code_dir / 'PBMC_Hao_batch_noZ/Level1/feature_selection_k3')\n",
    "\n",
    "features_dict = {}\n",
    "# Read features for each celltype\n",
    "for celltype in types:\n",
    "    try:\n",
    "        feature_df = pd.read_csv(f'{celltype}_features.txt', names=['Gene', 'Weight', 'Tendency'], sep='\\t')\n",
    "        features_dict[celltype] = feature_df\n",
    "    except:\n",
    "        print('skipping:', celltype)\n",
    "        continue"
   ]
  },
  {
   "cell_type": "code",
   "execution_count": 5,
   "metadata": {},
   "outputs": [
    {
     "data": {
      "text/html": [
       "<div>\n",
       "<style scoped>\n",
       "    .dataframe tbody tr th:only-of-type {\n",
       "        vertical-align: middle;\n",
       "    }\n",
       "\n",
       "    .dataframe tbody tr th {\n",
       "        vertical-align: top;\n",
       "    }\n",
       "\n",
       "    .dataframe thead th {\n",
       "        text-align: right;\n",
       "    }\n",
       "</style>\n",
       "<table border=\"1\" class=\"dataframe\">\n",
       "  <thead>\n",
       "    <tr style=\"text-align: right;\">\n",
       "      <th></th>\n",
       "      <th>Feature_count</th>\n",
       "      <th>Positive_feature_count</th>\n",
       "    </tr>\n",
       "  </thead>\n",
       "  <tbody>\n",
       "    <tr>\n",
       "      <th>B</th>\n",
       "      <td>19</td>\n",
       "      <td>10</td>\n",
       "    </tr>\n",
       "    <tr>\n",
       "      <th>CD4_T</th>\n",
       "      <td>201</td>\n",
       "      <td>95</td>\n",
       "    </tr>\n",
       "    <tr>\n",
       "      <th>CD8_T</th>\n",
       "      <td>23</td>\n",
       "      <td>9</td>\n",
       "    </tr>\n",
       "    <tr>\n",
       "      <th>DC</th>\n",
       "      <td>50</td>\n",
       "      <td>23</td>\n",
       "    </tr>\n",
       "    <tr>\n",
       "      <th>Mono</th>\n",
       "      <td>50</td>\n",
       "      <td>20</td>\n",
       "    </tr>\n",
       "    <tr>\n",
       "      <th>NK</th>\n",
       "      <td>33</td>\n",
       "      <td>17</td>\n",
       "    </tr>\n",
       "    <tr>\n",
       "      <th>other</th>\n",
       "      <td>5</td>\n",
       "      <td>3</td>\n",
       "    </tr>\n",
       "    <tr>\n",
       "      <th>other_T</th>\n",
       "      <td>247</td>\n",
       "      <td>112</td>\n",
       "    </tr>\n",
       "  </tbody>\n",
       "</table>\n",
       "</div>"
      ],
      "text/plain": [
       "         Feature_count  Positive_feature_count\n",
       "B                   19                      10\n",
       "CD4_T              201                      95\n",
       "CD8_T               23                       9\n",
       "DC                  50                      23\n",
       "Mono                50                      20\n",
       "NK                  33                      17\n",
       "other                5                       3\n",
       "other_T            247                     112"
      ]
     },
     "execution_count": 5,
     "metadata": {},
     "output_type": "execute_result"
    }
   ],
   "source": [
    "count_df = pd.DataFrame(columns=['Feature_count', 'Positive_feature_count'])\n",
    "for celltype in features_dict.keys():\n",
    "    feature_df = features_dict[celltype]\n",
    "    feature_count = feature_df.shape[0]\n",
    "    positive_count = feature_df[feature_df['Tendency'] == 1].shape[0]\n",
    "    count_df.loc[celltype] = [feature_count, positive_count]\n",
    "count_df"
   ]
  },
  {
   "cell_type": "markdown",
   "metadata": {},
   "source": [
    "## SVM (test)"
   ]
  },
  {
   "cell_type": "code",
   "execution_count": 6,
   "metadata": {},
   "outputs": [
    {
     "name": "stderr",
     "output_type": "stream",
     "text": [
      "c:\\Users\\evanlee\\AppData\\Local\\Programs\\Python\\Python39\\lib\\site-packages\\sklearn\\svm\\_base.py:297: ConvergenceWarning: Solver terminated early (max_iter=5000).  Consider pre-processing your data with StandardScaler or MinMaxScaler.\n",
      "  warnings.warn(\n"
     ]
    },
    {
     "data": {
      "text/plain": [
       "[0.9993509102710723,\n",
       " 0.9931580842635938,\n",
       " 0.9992753623188406,\n",
       " 0.9962073324905184,\n",
       " 0.9993166592961419,\n",
       " 0.99250022256181,\n",
       " 0.9958580338565541]"
      ]
     },
     "execution_count": 6,
     "metadata": {},
     "output_type": "execute_result"
    }
   ],
   "source": [
    "celltype = 'B'\n",
    "# subset data to celltype features\n",
    "X = adata[:, features_dict[celltype]['Gene'].tolist()].X\n",
    "# Binary label\n",
    "y = [1 if i==celltype else 0 for i in adata.obs['celltype.l1'].tolist()]\n",
    "\n",
    "X_train, X_test, y_train, y_test = train_test_split(X, y, test_size=0.2, random_state=0, stratify=y)\n",
    "\n",
    "svm_clf = SVC(kernel='linear', decision_function_shape='ovr', class_weight='balanced', max_iter=5000)\n",
    "# OvR (one-vs-rest) decision function\n",
    "# class_weight='balanced': Useful for imbalanced datasets, as it gives higher penalties to the minority class. Avoid bias toward the majority class\n",
    "svm_clf.fit(X_train, y_train)\n",
    "\n",
    "# Predictions on the test set\n",
    "y_pred = svm_clf.predict(X_test)\n",
    "# y_score = svm_clf.predict_proba(X_test)[:, 1]  # Probability estimates of the positive class\n",
    "\n",
    "# Calculate metrics\n",
    "accuracy = accuracy_score(y_test, y_pred)\n",
    "precision = precision_score(y_test, y_pred)\n",
    "recall = recall_score(y_test, y_pred)\n",
    "f1 = f1_score(y_test, y_pred)\n",
    "roc_auc = roc_auc_score(y_test, y_pred)\n",
    "pr_auc = average_precision_score(y_test, y_pred)\n",
    "mcc = matthews_corrcoef(y_test, y_pred)\n",
    "\n",
    "metrics = [accuracy, precision, recall, f1, roc_auc, pr_auc, mcc]\n",
    "metrics"
   ]
  },
  {
   "cell_type": "markdown",
   "metadata": {},
   "source": [
    "## Stratified K-fold"
   ]
  },
  {
   "cell_type": "code",
   "execution_count": 7,
   "metadata": {},
   "outputs": [],
   "source": [
    "import pickle\n",
    "\n",
    "def SVM_strat_KFold(data, all_features_dict, celltype, k=5):\n",
    "    # subset data to celltype features\n",
    "    X = data[:, all_features_dict[celltype]['Gene'].tolist()].X\n",
    "    # Binary label\n",
    "    y = [1 if i==celltype else 0 for i in data.obs['celltype.l1'].tolist()]\n",
    "\n",
    "    X_train, X_test, y_train, y_test = train_test_split(X, y, test_size=0.2, random_state=0, stratify=y)\n",
    "\n",
    "    print('Fitting SVM model...')\n",
    "    svm_clf = SVC(kernel='linear', decision_function_shape='ovr', class_weight='balanced', max_iter=10000)\n",
    "    # OvR (one-vs-rest) decision function\n",
    "    # class_weight='balanced': Useful for imbalanced datasets, as it gives higher penalties to the minority class. Avoid bias toward the majority class\n",
    "    svm_clf.fit(X_train, y_train)\n",
    "\n",
    "    scoring = {\n",
    "    'accuracy': make_scorer(accuracy_score),\n",
    "    'precision': make_scorer(precision_score),\n",
    "    'recall': make_scorer(recall_score),\n",
    "    'f1': make_scorer(f1_score),\n",
    "    'roc_auc': make_scorer(roc_auc_score),\n",
    "    'pr_auc': make_scorer(average_precision_score),\n",
    "    'mcc': make_scorer(matthews_corrcoef)\n",
    "    }\n",
    "\n",
    "    print('Cross validation...')\n",
    "    cv = StratifiedKFold(n_splits=k, shuffle=True, random_state=42)\n",
    "    cv_results = cross_validate(svm_clf, X_train, y_train, cv=cv, scoring=scoring, n_jobs=32)\n",
    "    # return cv_results\n",
    "\n",
    "    mean_accuracy = np.mean(cv_results['test_accuracy'])\n",
    "    mean_precision = np.mean(cv_results['test_precision'])\n",
    "    mean_recall = np.mean(cv_results['test_recall'])\n",
    "    mean_f1 = np.mean(cv_results['test_f1'])\n",
    "    mean_auc = np.mean(cv_results['test_roc_auc'])\n",
    "    mean_pr_auc = np.mean(cv_results['test_pr_auc'])\n",
    "    mean_mcc = np.mean(cv_results['test_mcc'])\n",
    "    mean_metrics = [mean_accuracy, mean_precision, mean_recall, mean_f1, mean_auc, mean_pr_auc, mean_mcc]\n",
    "\n",
    "    return svm_clf, mean_metrics, cv_results\n",
    "\n",
    "\n"
   ]
  },
  {
   "cell_type": "code",
   "execution_count": null,
   "metadata": {},
   "outputs": [
    {
     "name": "stdout",
     "output_type": "stream",
     "text": [
      "====================\n",
      "K-fold CV for: B\n",
      "Fitting SVM model...\n"
     ]
    },
    {
     "name": "stderr",
     "output_type": "stream",
     "text": [
      "c:\\Users\\evanlee\\AppData\\Local\\Programs\\Python\\Python39\\lib\\site-packages\\sklearn\\svm\\_base.py:297: ConvergenceWarning: Solver terminated early (max_iter=10000).  Consider pre-processing your data with StandardScaler or MinMaxScaler.\n",
      "  warnings.warn(\n"
     ]
    },
    {
     "name": "stdout",
     "output_type": "stream",
     "text": [
      "Cross validation...\n",
      "[0.9994204505236086, 0.9945896991988828, 0.9986413043478262, 0.9966104315894961, 0.9990672111844218, 0.9933535364356884, 0.9962966005956014]\n",
      "====================\n",
      "K-fold CV for: CD4_T\n",
      "Fitting SVM model...\n"
     ]
    },
    {
     "name": "stderr",
     "output_type": "stream",
     "text": [
      "c:\\Users\\evanlee\\AppData\\Local\\Programs\\Python\\Python39\\lib\\site-packages\\sklearn\\svm\\_base.py:297: ConvergenceWarning: Solver terminated early (max_iter=10000).  Consider pre-processing your data with StandardScaler or MinMaxScaler.\n",
      "  warnings.warn(\n"
     ]
    },
    {
     "name": "stdout",
     "output_type": "stream",
     "text": [
      "Cross validation...\n",
      "[0.7193193029866143, 0.5111295396984468, 0.7154613644558943, 0.5903346372588953, 0.7180453494466615, 0.4590606880395984, 0.4053896263876524]\n",
      "====================\n",
      "K-fold CV for: CD8_T\n",
      "Fitting SVM model...\n"
     ]
    },
    {
     "name": "stderr",
     "output_type": "stream",
     "text": [
      "c:\\Users\\evanlee\\AppData\\Local\\Programs\\Python\\Python39\\lib\\site-packages\\sklearn\\svm\\_base.py:297: ConvergenceWarning: Solver terminated early (max_iter=10000).  Consider pre-processing your data with StandardScaler or MinMaxScaler.\n",
      "  warnings.warn(\n"
     ]
    },
    {
     "name": "stdout",
     "output_type": "stream",
     "text": [
      "Cross validation...\n",
      "[0.7688142942122649, 0.3929691206300655, 0.8287116564417178, 0.5320333304622017, 0.7931666853379256, 0.3529447761138479, 0.45446560717629725]\n",
      "====================\n",
      "K-fold CV for: DC\n",
      "Fitting SVM model...\n"
     ]
    },
    {
     "name": "stderr",
     "output_type": "stream",
     "text": [
      "c:\\Users\\evanlee\\AppData\\Local\\Programs\\Python\\Python39\\lib\\site-packages\\sklearn\\svm\\_base.py:297: ConvergenceWarning: Solver terminated early (max_iter=10000).  Consider pre-processing your data with StandardScaler or MinMaxScaler.\n",
      "  warnings.warn(\n"
     ]
    },
    {
     "name": "stdout",
     "output_type": "stream",
     "text": [
      "Cross validation...\n",
      "[0.995464063089679, 0.834457974071755, 0.9926847447356459, 0.906683748121992, 0.994105925394534, 0.8285340293281556, 0.907978435064756]\n",
      "====================\n",
      "K-fold CV for: Mono\n",
      "Fitting SVM model...\n"
     ]
    },
    {
     "name": "stderr",
     "output_type": "stream",
     "text": [
      "c:\\Users\\evanlee\\AppData\\Local\\Programs\\Python\\Python39\\lib\\site-packages\\sklearn\\svm\\_base.py:297: ConvergenceWarning: Solver terminated early (max_iter=10000).  Consider pre-processing your data with StandardScaler or MinMaxScaler.\n",
      "  warnings.warn(\n"
     ]
    },
    {
     "name": "stdout",
     "output_type": "stream",
     "text": [
      "Cross validation...\n",
      "[0.9915308533117961, 0.9750729574526374, 0.9975515278946412, 0.9861834835953374, 0.9932327006046586, 0.973429043090509, 0.9802116929008537]\n",
      "====================\n",
      "K-fold CV for: NK\n",
      "Fitting SVM model...\n"
     ]
    },
    {
     "name": "stderr",
     "output_type": "stream",
     "text": [
      "c:\\Users\\evanlee\\AppData\\Local\\Programs\\Python\\Python39\\lib\\site-packages\\sklearn\\svm\\_base.py:297: ConvergenceWarning: Solver terminated early (max_iter=10000).  Consider pre-processing your data with StandardScaler or MinMaxScaler.\n",
      "  warnings.warn(\n",
      "c:\\Users\\evanlee\\AppData\\Local\\Programs\\Python\\Python39\\lib\\site-packages\\joblib\\externals\\loky\\process_executor.py:752: UserWarning: A worker stopped while some jobs were given to the executor. This can be caused by a too short worker timeout or by a memory leak.\n",
      "  warnings.warn(\n"
     ]
    },
    {
     "name": "stdout",
     "output_type": "stream",
     "text": [
      "Cross validation...\n",
      "[0.9795998863156182, 0.8613422777533721, 0.9817168883872982, 0.917468093611677, 0.9805203938791838, 0.8476448930169926, 0.9084978377142467]\n",
      "====================\n",
      "K-fold CV for: other\n",
      "Fitting SVM model...\n"
     ]
    },
    {
     "name": "stderr",
     "output_type": "stream",
     "text": [
      "c:\\Users\\evanlee\\AppData\\Local\\Programs\\Python\\Python39\\lib\\site-packages\\sklearn\\svm\\_base.py:297: ConvergenceWarning: Solver terminated early (max_iter=10000).  Consider pre-processing your data with StandardScaler or MinMaxScaler.\n",
      "  warnings.warn(\n"
     ]
    },
    {
     "name": "stdout",
     "output_type": "stream",
     "text": [
      "Cross validation...\n",
      "[0.015663322563657746, 0.008183111118922577, 0.3755202111862729, 0.016017140649828725, 0.19168006168273688, 0.016562543228014672, -0.679606752022707]\n",
      "====================\n",
      "K-fold CV for: other_T\n",
      "Fitting SVM model...\n"
     ]
    },
    {
     "name": "stderr",
     "output_type": "stream",
     "text": [
      "c:\\Users\\evanlee\\AppData\\Local\\Programs\\Python\\Python39\\lib\\site-packages\\sklearn\\svm\\_base.py:297: ConvergenceWarning: Solver terminated early (max_iter=10000).  Consider pre-processing your data with StandardScaler or MinMaxScaler.\n",
      "  warnings.warn(\n"
     ]
    },
    {
     "name": "stdout",
     "output_type": "stream",
     "text": [
      "Cross validation...\n",
      "[0.9313350176726717, 0.277580526720081, 0.28540646956073873, 0.2717182488594552, 0.622518527569529, 0.11153654474293395, 0.24176486597044006]\n"
     ]
    }
   ],
   "source": [
    "# os.chdir(r'C:\\Users\\evanlee\\Documents\\GitHub\\EvanPys\\Progress\\PBMC_Hao_batch_noZ\\Level1\\SVM_model')\n",
    "os.chdir(source_code_dir / 'PBMC_Hao_batch_noZ/Level1/SVM_model')\n",
    "\n",
    "cols = ['Accuracy', 'Precision', 'Recall', 'F1-score', 'ROC-AUC', 'PR-AUC', 'MCC']\n",
    "all_metrics = pd.DataFrame(columns=cols)\n",
    "cv_results_dict = {}\n",
    "# likelihood_dict = {}\n",
    "for celltype in types:\n",
    "    print('====================')\n",
    "    print('K-fold CV for:', celltype)\n",
    "    clf, metrics, cv_results = SVM_strat_KFold(adata, features_dict, celltype, k=5)  # metrics is a list\n",
    "    print(metrics)\n",
    "    \n",
    "    # Record CV results fold-by-fold\n",
    "    cv_results_dict[celltype] = cv_results\n",
    "\n",
    "    # Append metrics to all_metrics\n",
    "    all_metrics.loc[celltype] = metrics\n",
    "\n",
    "    # output SVM model as pickle\n",
    "    filename = f'SVM_{celltype}_linear_StardardScale_l1.pkl'\n",
    "    with open(filename, 'wb') as f:\n",
    "        pickle.dump(clf, f)\n",
    "\n",
    "    # likelihood of the positive class for each observation\n",
    "    # likelihood = clf.predict_proba(X)[:, 1]  # >0.5: predict celltype, <0.5: predict not celltype\n",
    "    # print('likelihood > 0.5:', sum(likelihood > 0.5))  # decision_scores > 0 的有幾個\n",
    "    # likelihood_dict[celltype] = likelihood\n"
   ]
  },
  {
   "cell_type": "code",
   "execution_count": 9,
   "metadata": {},
   "outputs": [
    {
     "data": {
      "text/html": [
       "<div>\n",
       "<style scoped>\n",
       "    .dataframe tbody tr th:only-of-type {\n",
       "        vertical-align: middle;\n",
       "    }\n",
       "\n",
       "    .dataframe tbody tr th {\n",
       "        vertical-align: top;\n",
       "    }\n",
       "\n",
       "    .dataframe thead th {\n",
       "        text-align: right;\n",
       "    }\n",
       "</style>\n",
       "<table border=\"1\" class=\"dataframe\">\n",
       "  <thead>\n",
       "    <tr style=\"text-align: right;\">\n",
       "      <th></th>\n",
       "      <th>Accuracy</th>\n",
       "      <th>Precision</th>\n",
       "      <th>Recall</th>\n",
       "      <th>F1-score</th>\n",
       "      <th>ROC-AUC</th>\n",
       "      <th>PR-AUC</th>\n",
       "      <th>MCC</th>\n",
       "    </tr>\n",
       "  </thead>\n",
       "  <tbody>\n",
       "    <tr>\n",
       "      <th>B</th>\n",
       "      <td>0.999420</td>\n",
       "      <td>0.994590</td>\n",
       "      <td>0.998641</td>\n",
       "      <td>0.996610</td>\n",
       "      <td>0.999067</td>\n",
       "      <td>0.993354</td>\n",
       "      <td>0.996297</td>\n",
       "    </tr>\n",
       "    <tr>\n",
       "      <th>CD4_T</th>\n",
       "      <td>0.719319</td>\n",
       "      <td>0.511130</td>\n",
       "      <td>0.715461</td>\n",
       "      <td>0.590335</td>\n",
       "      <td>0.718045</td>\n",
       "      <td>0.459061</td>\n",
       "      <td>0.405390</td>\n",
       "    </tr>\n",
       "    <tr>\n",
       "      <th>CD8_T</th>\n",
       "      <td>0.768814</td>\n",
       "      <td>0.392969</td>\n",
       "      <td>0.828712</td>\n",
       "      <td>0.532033</td>\n",
       "      <td>0.793167</td>\n",
       "      <td>0.352945</td>\n",
       "      <td>0.454466</td>\n",
       "    </tr>\n",
       "    <tr>\n",
       "      <th>DC</th>\n",
       "      <td>0.995464</td>\n",
       "      <td>0.834458</td>\n",
       "      <td>0.992685</td>\n",
       "      <td>0.906684</td>\n",
       "      <td>0.994106</td>\n",
       "      <td>0.828534</td>\n",
       "      <td>0.907978</td>\n",
       "    </tr>\n",
       "    <tr>\n",
       "      <th>Mono</th>\n",
       "      <td>0.991531</td>\n",
       "      <td>0.975073</td>\n",
       "      <td>0.997552</td>\n",
       "      <td>0.986183</td>\n",
       "      <td>0.993233</td>\n",
       "      <td>0.973429</td>\n",
       "      <td>0.980212</td>\n",
       "    </tr>\n",
       "    <tr>\n",
       "      <th>NK</th>\n",
       "      <td>0.979600</td>\n",
       "      <td>0.861342</td>\n",
       "      <td>0.981717</td>\n",
       "      <td>0.917468</td>\n",
       "      <td>0.980520</td>\n",
       "      <td>0.847645</td>\n",
       "      <td>0.908498</td>\n",
       "    </tr>\n",
       "    <tr>\n",
       "      <th>other</th>\n",
       "      <td>0.015663</td>\n",
       "      <td>0.008183</td>\n",
       "      <td>0.375520</td>\n",
       "      <td>0.016017</td>\n",
       "      <td>0.191680</td>\n",
       "      <td>0.016563</td>\n",
       "      <td>-0.679607</td>\n",
       "    </tr>\n",
       "    <tr>\n",
       "      <th>other_T</th>\n",
       "      <td>0.931335</td>\n",
       "      <td>0.277581</td>\n",
       "      <td>0.285406</td>\n",
       "      <td>0.271718</td>\n",
       "      <td>0.622519</td>\n",
       "      <td>0.111537</td>\n",
       "      <td>0.241765</td>\n",
       "    </tr>\n",
       "  </tbody>\n",
       "</table>\n",
       "</div>"
      ],
      "text/plain": [
       "         Accuracy  Precision    Recall  F1-score   ROC-AUC    PR-AUC       MCC\n",
       "B        0.999420   0.994590  0.998641  0.996610  0.999067  0.993354  0.996297\n",
       "CD4_T    0.719319   0.511130  0.715461  0.590335  0.718045  0.459061  0.405390\n",
       "CD8_T    0.768814   0.392969  0.828712  0.532033  0.793167  0.352945  0.454466\n",
       "DC       0.995464   0.834458  0.992685  0.906684  0.994106  0.828534  0.907978\n",
       "Mono     0.991531   0.975073  0.997552  0.986183  0.993233  0.973429  0.980212\n",
       "NK       0.979600   0.861342  0.981717  0.917468  0.980520  0.847645  0.908498\n",
       "other    0.015663   0.008183  0.375520  0.016017  0.191680  0.016563 -0.679607\n",
       "other_T  0.931335   0.277581  0.285406  0.271718  0.622519  0.111537  0.241765"
      ]
     },
     "execution_count": 9,
     "metadata": {},
     "output_type": "execute_result"
    }
   ],
   "source": [
    "all_metrics"
   ]
  },
  {
   "cell_type": "code",
   "execution_count": 10,
   "metadata": {},
   "outputs": [
    {
     "name": "stdout",
     "output_type": "stream",
     "text": [
      "C:\\Users\\evanlee\\Documents\\GitHub\\EvanPys\\Progress\\PBMC_Hao_batch_noZ\\Level1\\SVM_model\n"
     ]
    }
   ],
   "source": [
    "!cd"
   ]
  },
  {
   "cell_type": "code",
   "execution_count": 11,
   "metadata": {},
   "outputs": [],
   "source": [
    "all_metrics.to_csv('SVM_metrics_linear_StandardScale_l1.csv')"
   ]
  },
  {
   "cell_type": "code",
   "execution_count": 13,
   "metadata": {},
   "outputs": [
    {
     "data": {
      "text/plain": [
       "<matplotlib.legend.Legend at 0x2197638f850>"
      ]
     },
     "execution_count": 13,
     "metadata": {},
     "output_type": "execute_result"
    },
    {
     "data": {
      "image/png": "[encoded data removed]",
      "text/plain": [
       "<Figure size 800x600 with 1 Axes>"
      ]
     },
     "metadata": {},
     "output_type": "display_data"
    }
   ],
   "source": [
    "# Plot metrics for each celltype\n",
    "cols = ['Accuracy', 'Precision', 'F1-score', 'ROC-AUC', 'PR-AUC']\n",
    "ax = all_metrics[cols].plot.bar(rot=0, figsize=(8,6), title='One vs. Rest SVM using PreLect features (Kernel=rbf)')\n",
    "ax.legend(loc='center left', bbox_to_anchor=(1.0, 0.5))"
   ]
  },
  {
   "cell_type": "code",
   "execution_count": 17,
   "metadata": {},
   "outputs": [
    {
     "data": {
      "text/plain": [
       "{'B': {'fit_time': [1.5630090236663818,\n",
       "   1.4978959560394287,\n",
       "   1.5670104026794434,\n",
       "   1.6266050338745117,\n",
       "   1.5058956146240234],\n",
       "  'score_time': [0.12714004516601562,\n",
       "   0.11970901489257812,\n",
       "   0.12714004516601562,\n",
       "   0.13212847709655762,\n",
       "   0.12170863151550293],\n",
       "  'test_accuracy': [0.9994977398292315,\n",
       "   0.9993818097519511,\n",
       "   0.9995363573139634,\n",
       "   0.9993431728614481,\n",
       "   0.9993431728614481],\n",
       "  'test_precision': [0.9959331224582015,\n",
       "   0.9954792043399638,\n",
       "   0.9954873646209387,\n",
       "   0.9928025191183086,\n",
       "   0.9932462854570013],\n",
       "  'test_recall': [0.9981884057971014,\n",
       "   0.9972826086956522,\n",
       "   0.9990942028985508,\n",
       "   0.9995471014492754,\n",
       "   0.9990942028985508],\n",
       "  'test_f1': [0.9970594888034382,\n",
       "   0.9963800904977376,\n",
       "   0.9972875226039785,\n",
       "   0.9961633942676598,\n",
       "   0.996161661774667],\n",
       "  'test_roc_auc': [0.9989041289809161,\n",
       "   0.998430102185116,\n",
       "   0.9993358992865652,\n",
       "   0.9994356272643015,\n",
       "   0.9992302982052101],\n",
       "  'test_pr_auc': [0.9942834373780873,\n",
       "   0.9930059191494497,\n",
       "   0.9946629288325418,\n",
       "   0.9923915171867473,\n",
       "   0.9924238796316153],\n",
       "  'test_mcc': [0.9967856710780681,\n",
       "   0.9960426263732354,\n",
       "   0.997035987166739,\n",
       "   0.995811065547308,\n",
       "   0.9958076528126565]},\n",
       " 'CD4_T': {'fit_time': [527.73961186409,\n",
       "   527.1124510765076,\n",
       "   529.0693583488464,\n",
       "   530.0129299163818,\n",
       "   539.1684308052063],\n",
       "  'score_time': [35.15749263763428,\n",
       "   33.6708550453186,\n",
       "   33.41308236122131,\n",
       "   33.0379683971405,\n",
       "   26.198492765426636],\n",
       "  'test_accuracy': [0.8890005022601708,\n",
       "   0.40421914844293333,\n",
       "   0.7485897534966386,\n",
       "   0.8176725137160962,\n",
       "   0.737114597017232],\n",
       "  'test_precision': [0.7397295891835673,\n",
       "   0.20916491596638656,\n",
       "   0.5027909426013691,\n",
       "   0.6160342871549225,\n",
       "   0.4879279635859885],\n",
       "  'test_recall': [0.8672458466697149,\n",
       "   0.48567073170731706,\n",
       "   0.7277439024390244,\n",
       "   0.744969512195122,\n",
       "   0.7516768292682927],\n",
       "  'test_f1': [0.798428401038378,\n",
       "   0.2924008810572687,\n",
       "   0.5947056991591404,\n",
       "   0.6743945352929,\n",
       "   0.5917436697467898],\n",
       "  'test_roc_auc': [0.8818166920958552,\n",
       "   0.4311181523146874,\n",
       "   0.7417055088222448,\n",
       "   0.7936626879886697,\n",
       "   0.7419237060118505],\n",
       "  'test_pr_auc': [0.67517884531963,\n",
       "   0.23194614634219296,\n",
       "   0.43490852911816735,\n",
       "   0.5235662802088789,\n",
       "   0.429703639209123],\n",
       "  'test_mcc': [0.7268554304802499,\n",
       "   -0.1217753742456102,\n",
       "   0.4363121345331655,\n",
       "   0.5541379172030098,\n",
       "   0.4314180239674471]},\n",
       " 'CD8_T': {'fit_time': [58.90320181846619,\n",
       "   59.95542120933533,\n",
       "   59.414517641067505,\n",
       "   57.84961771965027,\n",
       "   60.07509922981262],\n",
       "  'score_time': [2.30593204498291,\n",
       "   2.320319652557373,\n",
       "   2.3244216442108154,\n",
       "   2.3535890579223633,\n",
       "   2.3086142539978027],\n",
       "  'test_accuracy': [0.7421859908047753,\n",
       "   0.7500193184452515,\n",
       "   0.7405919171625067,\n",
       "   0.8107951472065528,\n",
       "   0.8004790974422379],\n",
       "  'test_precision': [0.367069177241097,\n",
       "   0.36810221390020925,\n",
       "   0.3521237252045276,\n",
       "   0.44454937938478145,\n",
       "   0.4330011074197121],\n",
       "  'test_recall': [0.8802453987730061,\n",
       "   0.8201226993865031,\n",
       "   0.771042944785276,\n",
       "   0.8085889570552147,\n",
       "   0.863558282208589],\n",
       "  'test_f1': [0.5180905611323752,\n",
       "   0.5081344077847042,\n",
       "   0.4834589936913371,\n",
       "   0.5736919996517803,\n",
       "   0.5767906900508114],\n",
       "  'test_roc_auc': [0.7983169400321377,\n",
       "   0.778521018606903,\n",
       "   0.7529722909371421,\n",
       "   0.8098981837598722,\n",
       "   0.8261249933535724],\n",
       "  'test_pr_auc': [0.3419650284005616,\n",
       "   0.3302098220527249,\n",
       "   0.3075507328498081,\n",
       "   0.3895944936286642,\n",
       "   0.3954038036374804],\n",
       "  'test_mcc': [0.4482565653103475,\n",
       "   0.4251452361348835,\n",
       "   0.38771191804904204,\n",
       "   0.4993552749276831,\n",
       "   0.5118590414595303]},\n",
       " 'DC': {'fit_time': [14.154293298721313,\n",
       "   12.646585464477539,\n",
       "   14.369183778762817,\n",
       "   12.357901334762573,\n",
       "   13.602285861968994],\n",
       "  'score_time': [0.39733004570007324,\n",
       "   0.4097912311553955,\n",
       "   0.4243772029876709,\n",
       "   0.40720248222351074,\n",
       "   0.4474930763244629],\n",
       "  'test_accuracy': [0.9955955646563381,\n",
       "   0.9948999304535971,\n",
       "   0.9960976740591917,\n",
       "   0.9955181207016459,\n",
       "   0.9952090255776215],\n",
       "  'test_precision': [0.8374816983894583,\n",
       "   0.8184438040345822,\n",
       "   0.8535127055306427,\n",
       "   0.836764705882353,\n",
       "   0.8260869565217391],\n",
       "  'test_recall': [0.9947826086956522,\n",
       "   0.9895470383275261,\n",
       "   0.9947735191637631,\n",
       "   0.9912891986062717,\n",
       "   0.9930313588850174],\n",
       "  'test_f1': [0.9093799682034975,\n",
       "   0.8958990536277602,\n",
       "   0.918744971842317,\n",
       "   0.9074960127591707,\n",
       "   0.9018987341772151],\n",
       "  'test_roc_auc': [0.9951983218916857,\n",
       "   0.9922841877270632,\n",
       "   0.9954506129088926,\n",
       "   0.9934516168469955,\n",
       "   0.9941448875980328],\n",
       "  'test_pr_auc': [0.833228134851985,\n",
       "   0.8101204636629533,\n",
       "   0.8491677484032113,\n",
       "   0.8296689991686456,\n",
       "   0.820484800553983],\n",
       "  'test_mcc': [0.9106707192792366,\n",
       "   0.8975407254352304,\n",
       "   0.9195808189349175,\n",
       "   0.9086308356434956,\n",
       "   0.9034690760308989]},\n",
       " 'Mono': {'fit_time': [83.55543684959412,\n",
       "   83.37984251976013,\n",
       "   81.61294436454773,\n",
       "   81.86028552055359,\n",
       "   81.14599919319153],\n",
       "  'score_time': [1.1008973121643066,\n",
       "   1.109867811203003,\n",
       "   1.119185447692871,\n",
       "   1.0934700965881348,\n",
       "   1.1278162002563477],\n",
       "  'test_accuracy': [0.992272920449716,\n",
       "   0.9930453597094506,\n",
       "   0.9907271462792674,\n",
       "   0.9908430569507766,\n",
       "   0.9907657831697705],\n",
       "  'test_precision': [0.9772670497127155,\n",
       "   0.9780356920004992,\n",
       "   0.9740551328427093,\n",
       "   0.973359890451886,\n",
       "   0.9726470222553774],\n",
       "  'test_recall': [0.9977046671767407,\n",
       "   0.999489860987119,\n",
       "   0.9959188878969519,\n",
       "   0.9970670747258352,\n",
       "   0.9975771486865596],\n",
       "  'test_f1': [0.9873801110550227,\n",
       "   0.9886463983852656,\n",
       "   0.9848656829360575,\n",
       "   0.9850708661417323,\n",
       "   0.9849543594586088],\n",
       "  'test_roc_auc': [0.9938082672949277,\n",
       "   0.9948671520999006,\n",
       "   0.99219479675597,\n",
       "   0.9926022735048244,\n",
       "   0.9926910133676701],\n",
       "  'test_pr_auc': [0.9757193337359457,\n",
       "   0.9776913054000319,\n",
       "   0.9713162851471264,\n",
       "   0.9713937471098916,\n",
       "   0.97102454405955],\n",
       "  'test_mcc': [0.9819219344352415,\n",
       "   0.9837550110327183,\n",
       "   0.9783079709149984,\n",
       "   0.9786158937965743,\n",
       "   0.9784576543247362]},\n",
       " 'NK': {'fit_time': [47.387476205825806,\n",
       "   49.21814441680908,\n",
       "   48.301355600357056,\n",
       "   49.25483417510986,\n",
       "   48.64715552330017],\n",
       "  'score_time': [1.3378822803497314,\n",
       "   1.4136219024658203,\n",
       "   1.3801462650299072,\n",
       "   1.4021108150482178,\n",
       "   1.3968732357025146],\n",
       "  'test_accuracy': [0.9787118958389677,\n",
       "   0.9769337763696778,\n",
       "   0.982999768178657,\n",
       "   0.9778996986322541,\n",
       "   0.9814542925585349],\n",
       "  'test_precision': [0.8646706586826347,\n",
       "   0.8400227725590663,\n",
       "   0.8855239248940037,\n",
       "   0.8464408725602756,\n",
       "   0.8700531600708801],\n",
       "  'test_recall': [0.9668563776364245,\n",
       "   0.9882786336235767,\n",
       "   0.9792364367046216,\n",
       "   0.9876088412592097,\n",
       "   0.9866041527126591],\n",
       "  'test_f1': [0.9129129129129129,\n",
       "   0.9081397138021234,\n",
       "   0.9300254452926209,\n",
       "   0.9115919629057189,\n",
       "   0.9246704331450094],\n",
       "  'test_roc_auc': [0.973557469041832,\n",
       "   0.9818664307181476,\n",
       "   0.9813635013711787,\n",
       "   0.9821211571774735,\n",
       "   0.9836934110872869],\n",
       "  'test_pr_auc': [0.839837245279784,\n",
       "   0.8315288490449695,\n",
       "   0.8695327800410843,\n",
       "   0.8373820542923011,\n",
       "   0.8599435364268243],\n",
       "  'test_mcc': [0.902653388974011,\n",
       "   0.8989158085278044,\n",
       "   0.9218862973588832,\n",
       "   0.9025415458704317,\n",
       "   0.9164921478401034]},\n",
       " 'other': {'fit_time': [15.99280858039856,\n",
       "   15.982808828353882,\n",
       "   15.910237550735474,\n",
       "   16.080326795578003,\n",
       "   15.942238092422485],\n",
       "  'score_time': [2.543322801589966,\n",
       "   2.5253233909606934,\n",
       "   2.5223755836486816,\n",
       "   2.5368893146514893,\n",
       "   2.532381296157837],\n",
       "  'test_accuracy': [0.009427037051346444,\n",
       "   0.04427787651649795,\n",
       "   0.008075110115137934,\n",
       "   0.008229657677150143,\n",
       "   0.008306931458156247],\n",
       "  'test_precision': [0.006801918691515294,\n",
       "   0.012379032258064516,\n",
       "   0.0069090052602653685,\n",
       "   0.006948806532663316,\n",
       "   0.007876792852104396],\n",
       "  'test_recall': [0.3139745916515426,\n",
       "   0.5581818181818182,\n",
       "   0.3194192377495463,\n",
       "   0.32123411978221417,\n",
       "   0.3647912885662432],\n",
       "  'test_f1': [0.013315374254377526,\n",
       "   0.024220907297830375,\n",
       "   0.013525456292026897,\n",
       "   0.013603350881912153,\n",
       "   0.01542061452299666],\n",
       "  'test_roc_auc': [0.15838868537258954,\n",
       "   0.2956509912004938,\n",
       "   0.16036099465938486,\n",
       "   0.16132765165613805,\n",
       "   0.18267198552507813],\n",
       "  'test_pr_auc': [0.016739809993652217,\n",
       "   0.01629851512537954,\n",
       "   0.016695703132486188,\n",
       "   0.016682390798198568,\n",
       "   0.016396297090356848],\n",
       "  'test_mcc': [-0.7553396409101854,\n",
       "   -0.29449582670378655,\n",
       "   -0.7871742320015,\n",
       "   -0.7830477577675972,\n",
       "   -0.7779763027304657]},\n",
       " 'other_T': {'fit_time': [467.931086063385,\n",
       "   460.247109413147,\n",
       "   460.6456525325775,\n",
       "   468.1293292045593,\n",
       "   465.99146342277527],\n",
       "  'score_time': [20.076065063476562,\n",
       "   8.572319984436035,\n",
       "   13.1763756275177,\n",
       "   18.359267473220825,\n",
       "   19.226602792739868],\n",
       "  'test_accuracy': [0.9353629795618746,\n",
       "   0.9501584112510625,\n",
       "   0.9080442006027355,\n",
       "   0.9082760219457539,\n",
       "   0.9548334750019318],\n",
       "  'test_precision': [0.236983842010772,\n",
       "   0.3924050632911392,\n",
       "   0.15947368421052632,\n",
       "   0.15708200212992546,\n",
       "   0.44195804195804195],\n",
       "  'test_recall': [0.24287028518859247,\n",
       "   0.3425414364640884,\n",
       "   0.27900552486187846,\n",
       "   0.2716390423572744,\n",
       "   0.29097605893186],\n",
       "  'test_f1': [0.23989095865515672,\n",
       "   0.3657817109144543,\n",
       "   0.20294708640321502,\n",
       "   0.199055330634278,\n",
       "   0.3509161576901721],\n",
       "  'test_roc_auc': [0.6042952813263498,\n",
       "   0.659655941655177,\n",
       "   0.6072999877898682,\n",
       "   0.6038990501349204,\n",
       "   0.6374423769413292],\n",
       "  'test_pr_auc': [0.08935326564366307,\n",
       "   0.16200173387470773,\n",
       "   0.07474672422870532,\n",
       "   0.07323138501805067,\n",
       "   0.15834961494954297],\n",
       "  'test_mcc': [0.20615952716087696,\n",
       "   0.340816538712145,\n",
       "   0.16497414827647203,\n",
       "   0.16060449505152252,\n",
       "   0.3362696206511839]}}"
      ]
     },
     "execution_count": 17,
     "metadata": {},
     "output_type": "execute_result"
    }
   ],
   "source": [
    "# Recursive function to convert np.array to list\n",
    "def convert_arrays_to_lists(data):\n",
    "    if isinstance(data, dict):\n",
    "        return {key: convert_arrays_to_lists(value) for key, value in data.items()}\n",
    "    elif isinstance(data, np.ndarray):\n",
    "        return data.tolist()\n",
    "    else:\n",
    "        return data\n",
    "\n",
    "# Convert all np.array elements in the dictionary to lists\n",
    "dict_converted = convert_arrays_to_lists(cv_results_dict)\n",
    "dict_converted"
   ]
  },
  {
   "cell_type": "code",
   "execution_count": 18,
   "metadata": {},
   "outputs": [],
   "source": [
    "import json\n",
    "with open('SVM_KFold_linear_l1.json', 'w') as f:\n",
    "    json.dump(dict_converted, f)"
   ]
  },
  {
   "cell_type": "code",
   "execution_count": null,
   "metadata": {},
   "outputs": [],
   "source": [
    "# turn likelihood_dict into dataframe\n",
    "# likelihood_df = pd.DataFrame(likelihood_dict)\n",
    "# likelihood_df.head()"
   ]
  },
  {
   "cell_type": "markdown",
   "metadata": {},
   "source": [
    "## Evaluate by DEGn"
   ]
  },
  {
   "cell_type": "code",
   "execution_count": null,
   "metadata": {},
   "outputs": [],
   "source": [
    "count_df"
   ]
  },
  {
   "cell_type": "code",
   "execution_count": 6,
   "metadata": {},
   "outputs": [],
   "source": [
    "# Read DEG table\n",
    "# os.chdir(\"/Users/evanli/Documents/EvanPys/Progress/PBMC_Hao_GSE/L1_by_lossdiff/L1_DEG/L1_DEG_table\")\n",
    "# os.chdir(r\"C:\\Users\\evanlee\\Documents\\GitHub\\EvanPys\\Progress\\PBMC_Hao_GSE\\L1_by_lossdiff\\L1_DEG\\L1_DEG_table\")\n",
    "os.chdir(home_path / 'Source_code_supplementary/PBMC_Hao_GSE/L1_by_lossdiff/L1_DEG/L1_DEG_table')\n",
    "\n",
    "# celltype = 'B'\n",
    "DEG_table = pd.read_csv(celltype + '_DEG2000.csv', index_col=0)\n",
    "# n_features = count_df.loc[celltype, 'Feature_count']  # 3902\n",
    "# DEGn = DEG_table['names'][:n_features].tolist()"
   ]
  },
  {
   "cell_type": "code",
   "execution_count": 9,
   "metadata": {},
   "outputs": [],
   "source": [
    "def SVM_classifier_DEG(data, DEGn, celltype):\n",
    "    # subset data to celltype features\n",
    "    X = data[:, DEGn].X\n",
    "    # Binary label\n",
    "    y = [1 if i==celltype else 0 for i in data.obs['celltype.l1'].tolist()]\n",
    "\n",
    "    X_train, X_test, y_train, y_test = train_test_split(X, y, test_size=0.2, random_state=0, stratify=y)\n",
    "\n",
    "    svm_clf = SVC(kernel='linear', decision_function_shape='ovr', class_weight='balanced')\n",
    "    svm_clf.fit(X_train, y_train)\n",
    "\n",
    "    # Predictions on the test set\n",
    "    y_pred = svm_clf.predict(X_test)\n",
    "    # y_score = svm_clf.predict_proba(X_test)[:, 1]  # Probability estimates of the positive class\n",
    "\n",
    "    # Calculate metrics\n",
    "    accuracy = accuracy_score(y_test, y_pred)\n",
    "    precision = precision_score(y_test, y_pred)\n",
    "    recall = recall_score(y_test, y_pred)\n",
    "    f1 = f1_score(y_test, y_pred)\n",
    "    roc_auc = roc_auc_score(y_test, y_pred)\n",
    "    pr_auc = average_precision_score(y_test, y_pred)\n",
    "    mcc = matthews_corrcoef(y_test, y_pred)\n",
    "\n",
    "    metrics = [accuracy, precision, recall, f1, roc_auc, pr_auc, mcc]\n",
    "    return svm_clf, metrics"
   ]
  },
  {
   "cell_type": "code",
   "execution_count": null,
   "metadata": {},
   "outputs": [],
   "source": [
    "cols = ['Accuracy', 'Precision', 'Recall', 'F1-score', 'ROC-AUC', 'PR-AUC', 'MCC']\n",
    "all_metrics_DEG = pd.DataFrame(columns=cols)\n",
    "\n",
    "for celltype in types:\n",
    "    print('==================')\n",
    "    print('Constructing classifier for:', celltype)\n",
    "    n_features = count_df.loc[celltype, 'Feature_count']\n",
    "    print('n:', n_features)\n",
    "    DEG_table = pd.read_csv(celltype + '_DEG2000.csv', index_col=0)\n",
    "    DEGn = DEG_table['names'][:n_features].tolist() \n",
    "    clf, celltype_metrics = SVM_classifier_DEG(data, DEGn, celltype)\n",
    "    all_metrics_DEG.loc[celltype] = celltype_metrics"
   ]
  },
  {
   "cell_type": "code",
   "execution_count": null,
   "metadata": {},
   "outputs": [],
   "source": []
  }
 ],
 "metadata": {
  "kernelspec": {
   "display_name": "Python 3",
   "language": "python",
   "name": "python3"
  },
  "language_info": {
   "codemirror_mode": {
    "name": "ipython",
    "version": 3
   },
   "file_extension": ".py",
   "mimetype": "text/x-python",
   "name": "python",
   "nbconvert_exporter": "python",
   "pygments_lexer": "ipython3",
   "version": "3.9.12"
  }
 },
 "nbformat": 4,
 "nbformat_minor": 2
}

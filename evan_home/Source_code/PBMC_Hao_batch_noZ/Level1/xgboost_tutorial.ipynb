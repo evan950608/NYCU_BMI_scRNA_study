{
 "cells": [
  {
   "cell_type": "code",
   "execution_count": 1,
   "metadata": {},
   "outputs": [
    {
     "data": {
      "text/html": [
       "<div>\n",
       "<style scoped>\n",
       "    .dataframe tbody tr th:only-of-type {\n",
       "        vertical-align: middle;\n",
       "    }\n",
       "\n",
       "    .dataframe tbody tr th {\n",
       "        vertical-align: top;\n",
       "    }\n",
       "\n",
       "    .dataframe thead th {\n",
       "        text-align: right;\n",
       "    }\n",
       "</style>\n",
       "<table border=\"1\" class=\"dataframe\">\n",
       "  <thead>\n",
       "    <tr style=\"text-align: right;\">\n",
       "      <th></th>\n",
       "      <th>carat</th>\n",
       "      <th>cut</th>\n",
       "      <th>color</th>\n",
       "      <th>clarity</th>\n",
       "      <th>depth</th>\n",
       "      <th>table</th>\n",
       "      <th>price</th>\n",
       "      <th>x</th>\n",
       "      <th>y</th>\n",
       "      <th>z</th>\n",
       "    </tr>\n",
       "  </thead>\n",
       "  <tbody>\n",
       "    <tr>\n",
       "      <th>0</th>\n",
       "      <td>0.23</td>\n",
       "      <td>Ideal</td>\n",
       "      <td>E</td>\n",
       "      <td>SI2</td>\n",
       "      <td>61.5</td>\n",
       "      <td>55.0</td>\n",
       "      <td>326</td>\n",
       "      <td>3.95</td>\n",
       "      <td>3.98</td>\n",
       "      <td>2.43</td>\n",
       "    </tr>\n",
       "    <tr>\n",
       "      <th>1</th>\n",
       "      <td>0.21</td>\n",
       "      <td>Premium</td>\n",
       "      <td>E</td>\n",
       "      <td>SI1</td>\n",
       "      <td>59.8</td>\n",
       "      <td>61.0</td>\n",
       "      <td>326</td>\n",
       "      <td>3.89</td>\n",
       "      <td>3.84</td>\n",
       "      <td>2.31</td>\n",
       "    </tr>\n",
       "    <tr>\n",
       "      <th>2</th>\n",
       "      <td>0.23</td>\n",
       "      <td>Good</td>\n",
       "      <td>E</td>\n",
       "      <td>VS1</td>\n",
       "      <td>56.9</td>\n",
       "      <td>65.0</td>\n",
       "      <td>327</td>\n",
       "      <td>4.05</td>\n",
       "      <td>4.07</td>\n",
       "      <td>2.31</td>\n",
       "    </tr>\n",
       "    <tr>\n",
       "      <th>3</th>\n",
       "      <td>0.29</td>\n",
       "      <td>Premium</td>\n",
       "      <td>I</td>\n",
       "      <td>VS2</td>\n",
       "      <td>62.4</td>\n",
       "      <td>58.0</td>\n",
       "      <td>334</td>\n",
       "      <td>4.20</td>\n",
       "      <td>4.23</td>\n",
       "      <td>2.63</td>\n",
       "    </tr>\n",
       "    <tr>\n",
       "      <th>4</th>\n",
       "      <td>0.31</td>\n",
       "      <td>Good</td>\n",
       "      <td>J</td>\n",
       "      <td>SI2</td>\n",
       "      <td>63.3</td>\n",
       "      <td>58.0</td>\n",
       "      <td>335</td>\n",
       "      <td>4.34</td>\n",
       "      <td>4.35</td>\n",
       "      <td>2.75</td>\n",
       "    </tr>\n",
       "  </tbody>\n",
       "</table>\n",
       "</div>"
      ],
      "text/plain": [
       "   carat      cut color clarity  depth  table  price     x     y     z\n",
       "0   0.23    Ideal     E     SI2   61.5   55.0    326  3.95  3.98  2.43\n",
       "1   0.21  Premium     E     SI1   59.8   61.0    326  3.89  3.84  2.31\n",
       "2   0.23     Good     E     VS1   56.9   65.0    327  4.05  4.07  2.31\n",
       "3   0.29  Premium     I     VS2   62.4   58.0    334  4.20  4.23  2.63\n",
       "4   0.31     Good     J     SI2   63.3   58.0    335  4.34  4.35  2.75"
      ]
     },
     "execution_count": 1,
     "metadata": {},
     "output_type": "execute_result"
    }
   ],
   "source": [
    "import seaborn as sns\n",
    "import pandas as pd\n",
    "import numpy as np\n",
    "import matplotlib.pyplot as plt\n",
    "import warnings\n",
    "\n",
    "warnings.filterwarnings(\"ignore\")\n",
    "diamonds = sns.load_dataset(\"diamonds\")\n",
    "diamonds.head()"
   ]
  },
  {
   "cell_type": "code",
   "execution_count": 3,
   "metadata": {},
   "outputs": [
    {
     "data": {
      "text/plain": [
       "(53940, 10)"
      ]
     },
     "execution_count": 3,
     "metadata": {},
     "output_type": "execute_result"
    }
   ],
   "source": [
    "diamonds.shape"
   ]
  },
  {
   "cell_type": "code",
   "execution_count": 4,
   "metadata": {},
   "outputs": [
    {
     "data": {
      "text/plain": [
       "carat       float64\n",
       "cut        category\n",
       "color      category\n",
       "clarity    category\n",
       "depth       float64\n",
       "table       float64\n",
       "x           float64\n",
       "y           float64\n",
       "z           float64\n",
       "dtype: object"
      ]
     },
     "execution_count": 4,
     "metadata": {},
     "output_type": "execute_result"
    }
   ],
   "source": [
    "from sklearn.model_selection import train_test_split\n",
    "\n",
    "# Extract feature and target arrays\n",
    "X = diamonds.drop('price', axis=1)\n",
    "y = diamonds[['price']]\n",
    "\n",
    "# Extract text features (categorical features)\n",
    "cats = X.select_dtypes(exclude=np.number).columns.tolist()\n",
    "\n",
    "# Convert to Pandas category\n",
    "for col in cats:\n",
    "   X[col] = X[col].astype('category')\n",
    "\n",
    "X.dtypes"
   ]
  },
  {
   "cell_type": "markdown",
   "metadata": {},
   "source": [
    "## XGBoost regression"
   ]
  },
  {
   "cell_type": "code",
   "execution_count": 5,
   "metadata": {},
   "outputs": [],
   "source": [
    "# Split the data\n",
    "X_train, X_test, y_train, y_test = train_test_split(X, y, random_state=1)"
   ]
  },
  {
   "cell_type": "code",
   "execution_count": 6,
   "metadata": {},
   "outputs": [],
   "source": [
    "import xgboost as xgb\n",
    "\n",
    "# Create regression matrices for native XGBoost API\n",
    "dtrain_reg = xgb.DMatrix(X_train, y_train, enable_categorical=True)\n",
    "dtest_reg = xgb.DMatrix(X_test, y_test, enable_categorical=True)"
   ]
  },
  {
   "cell_type": "code",
   "execution_count": 7,
   "metadata": {},
   "outputs": [],
   "source": [
    "## Training\n",
    "# Define hyperparameters\n",
    "params = {\"objective\": \"reg:squarederror\", \"tree_method\": \"gpu_hist\"}\n",
    "# enables GPU acceleratrion\n",
    "\n",
    "n = 100\n",
    "model = xgb.train(\n",
    "   params=params,\n",
    "   dtrain=dtrain_reg,\n",
    "   num_boost_round=n,\n",
    ")"
   ]
  },
  {
   "cell_type": "code",
   "execution_count": 8,
   "metadata": {},
   "outputs": [],
   "source": [
    "from sklearn.metrics import mean_squared_error\n",
    "\n",
    "# Prediction\n",
    "preds = model.predict(dtest_reg)"
   ]
  },
  {
   "cell_type": "code",
   "execution_count": 9,
   "metadata": {},
   "outputs": [
    {
     "name": "stdout",
     "output_type": "stream",
     "text": [
      "RMSE of the base model: 555.607\n"
     ]
    }
   ],
   "source": [
    "# Evaluation\n",
    "rmse = mean_squared_error(y_test, preds, squared=False)\n",
    "\n",
    "print(f\"RMSE of the base model: {rmse:.3f}\")"
   ]
  },
  {
   "cell_type": "code",
   "execution_count": 10,
   "metadata": {},
   "outputs": [
    {
     "name": "stdout",
     "output_type": "stream",
     "text": [
      "[0]\ttrain-rmse:2874.29379\tvalidation-rmse:2817.38773\n",
      "[1]\ttrain-rmse:2092.07711\tvalidation-rmse:2054.73630\n",
      "[2]\ttrain-rmse:1549.52687\tvalidation-rmse:1526.30592\n",
      "[1]\ttrain-rmse:2092.07711\tvalidation-rmse:2054.73630\n",
      "[2]\ttrain-rmse:1549.52687\tvalidation-rmse:1526.30592\n",
      "[3]\ttrain-rmse:1184.46798\tvalidation-rmse:1174.90119\n",
      "[4]\ttrain-rmse:941.09127\tvalidation-rmse:943.28272\n",
      "[5]\ttrain-rmse:784.58014\tvalidation-rmse:796.09651\n",
      "[6]\ttrain-rmse:685.75110\tvalidation-rmse:705.22245\n",
      "[7]\ttrain-rmse:624.67281\tvalidation-rmse:653.32563\n",
      "[8]\ttrain-rmse:584.19599\tvalidation-rmse:620.30404\n",
      "[9]\ttrain-rmse:558.77667\tvalidation-rmse:599.24504\n",
      "[10]\ttrain-rmse:543.85303\tvalidation-rmse:586.99790\n",
      "[11]\ttrain-rmse:531.92694\tvalidation-rmse:578.68120\n",
      "[12]\ttrain-rmse:523.08456\tvalidation-rmse:571.73527\n",
      "[13]\ttrain-rmse:515.67753\tvalidation-rmse:567.19913\n",
      "[14]\ttrain-rmse:510.77594\tvalidation-rmse:564.66402\n",
      "[15]\ttrain-rmse:506.68519\tvalidation-rmse:563.21547\n",
      "[16]\ttrain-rmse:502.96796\tvalidation-rmse:561.80880\n",
      "[17]\ttrain-rmse:498.90184\tvalidation-rmse:560.36561\n",
      "[18]\ttrain-rmse:492.74859\tvalidation-rmse:558.46274\n",
      "[19]\ttrain-rmse:490.30278\tvalidation-rmse:556.87216\n",
      "[20]\ttrain-rmse:487.42071\tvalidation-rmse:556.44229\n",
      "[21]\ttrain-rmse:484.74496\tvalidation-rmse:556.55429\n",
      "[22]\ttrain-rmse:480.95735\tvalidation-rmse:557.84139\n",
      "[23]\ttrain-rmse:478.48520\tvalidation-rmse:557.89540\n",
      "[24]\ttrain-rmse:475.23956\tvalidation-rmse:557.37962\n",
      "[25]\ttrain-rmse:471.61791\tvalidation-rmse:556.87508\n",
      "[26]\ttrain-rmse:469.65231\tvalidation-rmse:556.70128\n",
      "[27]\ttrain-rmse:466.45165\tvalidation-rmse:555.73740\n",
      "[28]\ttrain-rmse:464.66200\tvalidation-rmse:555.11206\n",
      "[29]\ttrain-rmse:463.36324\tvalidation-rmse:555.09142\n",
      "[30]\ttrain-rmse:460.86396\tvalidation-rmse:554.68339\n",
      "[31]\ttrain-rmse:459.68274\tvalidation-rmse:554.79977\n",
      "[32]\ttrain-rmse:457.48581\tvalidation-rmse:554.57599\n",
      "[33]\ttrain-rmse:455.07939\tvalidation-rmse:555.65575\n",
      "[34]\ttrain-rmse:454.03028\tvalidation-rmse:555.26394\n",
      "[35]\ttrain-rmse:452.35989\tvalidation-rmse:554.62246\n",
      "[36]\ttrain-rmse:449.38579\tvalidation-rmse:553.35840\n",
      "[37]\ttrain-rmse:448.64842\tvalidation-rmse:553.45248\n",
      "[38]\ttrain-rmse:448.47633\tvalidation-rmse:553.35233\n",
      "[39]\ttrain-rmse:445.58979\tvalidation-rmse:553.05158\n",
      "[40]\ttrain-rmse:444.03762\tvalidation-rmse:552.62130\n",
      "[41]\ttrain-rmse:442.01167\tvalidation-rmse:552.97558\n",
      "[42]\ttrain-rmse:441.35357\tvalidation-rmse:553.23244\n",
      "[43]\ttrain-rmse:440.74163\tvalidation-rmse:553.14153\n",
      "[44]\ttrain-rmse:440.60815\tvalidation-rmse:553.05782\n",
      "[45]\ttrain-rmse:439.48758\tvalidation-rmse:553.30981\n",
      "[46]\ttrain-rmse:438.70697\tvalidation-rmse:553.22313\n",
      "[47]\ttrain-rmse:435.38239\tvalidation-rmse:553.74845\n",
      "[48]\ttrain-rmse:434.17988\tvalidation-rmse:553.24786\n",
      "[49]\ttrain-rmse:432.53983\tvalidation-rmse:553.43480\n",
      "[50]\ttrain-rmse:430.07110\tvalidation-rmse:553.50718\n",
      "[51]\ttrain-rmse:429.02843\tvalidation-rmse:553.68181\n",
      "[52]\ttrain-rmse:428.82789\tvalidation-rmse:553.55179\n",
      "[53]\ttrain-rmse:426.65097\tvalidation-rmse:554.33720\n",
      "[54]\ttrain-rmse:425.35817\tvalidation-rmse:555.00412\n",
      "[55]\ttrain-rmse:424.43950\tvalidation-rmse:555.04530\n",
      "[56]\ttrain-rmse:423.98886\tvalidation-rmse:555.23862\n",
      "[57]\ttrain-rmse:423.37385\tvalidation-rmse:555.01524\n",
      "[58]\ttrain-rmse:422.89152\tvalidation-rmse:554.73559\n",
      "[59]\ttrain-rmse:420.17877\tvalidation-rmse:555.28689\n",
      "[60]\ttrain-rmse:418.57995\tvalidation-rmse:555.44368\n",
      "[61]\ttrain-rmse:416.15098\tvalidation-rmse:556.22395\n",
      "[62]\ttrain-rmse:415.20122\tvalidation-rmse:556.03493\n",
      "[63]\ttrain-rmse:413.94128\tvalidation-rmse:555.89869\n",
      "[64]\ttrain-rmse:412.14760\tvalidation-rmse:555.56320\n",
      "[65]\ttrain-rmse:412.07284\tvalidation-rmse:555.51809\n",
      "[66]\ttrain-rmse:411.12288\tvalidation-rmse:556.53856\n",
      "[67]\ttrain-rmse:409.86233\tvalidation-rmse:556.02134\n",
      "[68]\ttrain-rmse:408.98845\tvalidation-rmse:555.64995\n",
      "[69]\ttrain-rmse:407.60369\tvalidation-rmse:555.40507\n",
      "[70]\ttrain-rmse:406.77489\tvalidation-rmse:555.06703\n",
      "[71]\ttrain-rmse:405.55576\tvalidation-rmse:554.85987\n",
      "[72]\ttrain-rmse:404.01644\tvalidation-rmse:554.78435\n",
      "[73]\ttrain-rmse:402.82464\tvalidation-rmse:554.70160\n",
      "[74]\ttrain-rmse:401.31075\tvalidation-rmse:554.40804\n",
      "[75]\ttrain-rmse:399.88578\tvalidation-rmse:554.56453\n",
      "[76]\ttrain-rmse:399.46555\tvalidation-rmse:554.83544\n",
      "[77]\ttrain-rmse:398.97065\tvalidation-rmse:554.83387\n",
      "[78]\ttrain-rmse:398.50360\tvalidation-rmse:554.66181\n",
      "[79]\ttrain-rmse:396.24144\tvalidation-rmse:555.31061\n",
      "[80]\ttrain-rmse:394.18070\tvalidation-rmse:555.00800\n",
      "[81]\ttrain-rmse:392.71336\tvalidation-rmse:555.25449\n",
      "[82]\ttrain-rmse:392.14361\tvalidation-rmse:555.18259\n",
      "[83]\ttrain-rmse:390.73064\tvalidation-rmse:555.24386\n",
      "[84]\ttrain-rmse:390.32572\tvalidation-rmse:555.02768\n",
      "[85]\ttrain-rmse:388.65251\tvalidation-rmse:555.33841\n",
      "[86]\ttrain-rmse:387.44200\tvalidation-rmse:555.24404\n",
      "[87]\ttrain-rmse:386.96057\tvalidation-rmse:555.09808\n",
      "[88]\ttrain-rmse:385.78554\tvalidation-rmse:554.95239\n",
      "[89]\ttrain-rmse:384.05170\tvalidation-rmse:555.95636\n",
      "[90]\ttrain-rmse:382.65353\tvalidation-rmse:555.74725\n",
      "[91]\ttrain-rmse:381.97534\tvalidation-rmse:555.69323\n",
      "[92]\ttrain-rmse:380.47646\tvalidation-rmse:555.26134\n",
      "[93]\ttrain-rmse:379.11827\tvalidation-rmse:554.93934\n",
      "[94]\ttrain-rmse:377.82598\tvalidation-rmse:555.07593\n",
      "[95]\ttrain-rmse:376.66849\tvalidation-rmse:555.53397\n",
      "[96]\ttrain-rmse:374.97521\tvalidation-rmse:555.60914\n",
      "[97]\ttrain-rmse:374.61227\tvalidation-rmse:555.61898\n",
      "[98]\ttrain-rmse:373.84881\tvalidation-rmse:555.65889\n",
      "[99]\ttrain-rmse:373.74308\tvalidation-rmse:555.60692\n"
     ]
    }
   ],
   "source": [
    "# Using Validation Sets During Training\n",
    "params = {\"objective\": \"reg:squarederror\", \"tree_method\": \"gpu_hist\"}\n",
    "n = 100\n",
    "\n",
    "# The first element is the array for the model to evaluate, and the second is the array’s name.\n",
    "evals = [(dtrain_reg, \"train\"), (dtest_reg, \"validation\")]\n",
    "\n",
    "model = xgb.train(\n",
    "   params=params,\n",
    "   dtrain=dtrain_reg,\n",
    "   num_boost_round=n,\n",
    "   evals=evals,\n",
    ")"
   ]
  },
  {
   "cell_type": "markdown",
   "metadata": {},
   "source": [
    "### Early stopping"
   ]
  },
  {
   "cell_type": "code",
   "execution_count": 11,
   "metadata": {},
   "outputs": [
    {
     "name": "stdout",
     "output_type": "stream",
     "text": [
      "[0]\ttrain-rmse:2874.29379\tvalidation-rmse:2817.38773\n",
      "\n",
      "[50]\ttrain-rmse:430.07110\tvalidation-rmse:553.50718\n",
      "[90]\ttrain-rmse:382.65353\tvalidation-rmse:555.74725\n"
     ]
    }
   ],
   "source": [
    "# XGBoost early stopping, stop when validation loss doesn't improve for 50 consecutive rounds.\n",
    "n = 10000\n",
    "\n",
    "model = xgb.train(\n",
    "   params=params,\n",
    "   dtrain=dtrain_reg,\n",
    "   num_boost_round=n,\n",
    "   evals=evals,\n",
    "   verbose_eval=50,  # print loss every 50 iters\n",
    "   # Activate early stopping\n",
    "   early_stopping_rounds=50\n",
    ")"
   ]
  },
  {
   "cell_type": "markdown",
   "metadata": {},
   "source": [
    "### Cross validation"
   ]
  },
  {
   "cell_type": "code",
   "execution_count": 12,
   "metadata": {},
   "outputs": [
    {
     "data": {
      "text/html": [
       "<div>\n",
       "<style scoped>\n",
       "    .dataframe tbody tr th:only-of-type {\n",
       "        vertical-align: middle;\n",
       "    }\n",
       "\n",
       "    .dataframe tbody tr th {\n",
       "        vertical-align: top;\n",
       "    }\n",
       "\n",
       "    .dataframe thead th {\n",
       "        text-align: right;\n",
       "    }\n",
       "</style>\n",
       "<table border=\"1\" class=\"dataframe\">\n",
       "  <thead>\n",
       "    <tr style=\"text-align: right;\">\n",
       "      <th></th>\n",
       "      <th>train-rmse-mean</th>\n",
       "      <th>train-rmse-std</th>\n",
       "      <th>test-rmse-mean</th>\n",
       "      <th>test-rmse-std</th>\n",
       "    </tr>\n",
       "  </thead>\n",
       "  <tbody>\n",
       "    <tr>\n",
       "      <th>0</th>\n",
       "      <td>2874.530912</td>\n",
       "      <td>9.576510</td>\n",
       "      <td>2877.437274</td>\n",
       "      <td>37.093540</td>\n",
       "    </tr>\n",
       "    <tr>\n",
       "      <th>1</th>\n",
       "      <td>2089.327469</td>\n",
       "      <td>8.317290</td>\n",
       "      <td>2094.021636</td>\n",
       "      <td>24.828795</td>\n",
       "    </tr>\n",
       "    <tr>\n",
       "      <th>2</th>\n",
       "      <td>1550.617973</td>\n",
       "      <td>5.223297</td>\n",
       "      <td>1558.386252</td>\n",
       "      <td>18.540267</td>\n",
       "    </tr>\n",
       "    <tr>\n",
       "      <th>3</th>\n",
       "      <td>1183.812759</td>\n",
       "      <td>5.193420</td>\n",
       "      <td>1195.032441</td>\n",
       "      <td>13.471580</td>\n",
       "    </tr>\n",
       "    <tr>\n",
       "      <th>4</th>\n",
       "      <td>941.203113</td>\n",
       "      <td>4.539805</td>\n",
       "      <td>958.728828</td>\n",
       "      <td>9.479449</td>\n",
       "    </tr>\n",
       "  </tbody>\n",
       "</table>\n",
       "</div>"
      ],
      "text/plain": [
       "   train-rmse-mean  train-rmse-std  test-rmse-mean  test-rmse-std\n",
       "0      2874.530912        9.576510     2877.437274      37.093540\n",
       "1      2089.327469        8.317290     2094.021636      24.828795\n",
       "2      1550.617973        5.223297     1558.386252      18.540267\n",
       "3      1183.812759        5.193420     1195.032441      13.471580\n",
       "4       941.203113        4.539805      958.728828       9.479449"
      ]
     },
     "execution_count": 12,
     "metadata": {},
     "output_type": "execute_result"
    }
   ],
   "source": [
    "params = {\"objective\": \"reg:squarederror\", \"tree_method\": \"gpu_hist\"}\n",
    "n = 1000\n",
    "\n",
    "results = xgb.cv(\n",
    "   params, dtrain_reg,\n",
    "   num_boost_round=n,\n",
    "   nfold=5,\n",
    "   early_stopping_rounds=20\n",
    ")\n",
    "results.head()"
   ]
  },
  {
   "cell_type": "code",
   "execution_count": 13,
   "metadata": {},
   "outputs": [
    {
     "data": {
      "text/plain": [
       "549.311480649509"
      ]
     },
     "execution_count": 13,
     "metadata": {},
     "output_type": "execute_result"
    }
   ],
   "source": [
    "best_rmse = results['test-rmse-mean'].min()\n",
    "best_rmse"
   ]
  },
  {
   "cell_type": "markdown",
   "metadata": {},
   "source": [
    "## XGBoost Classification"
   ]
  },
  {
   "cell_type": "code",
   "execution_count": 14,
   "metadata": {},
   "outputs": [
    {
     "data": {
      "text/html": [
       "<div>\n",
       "<style scoped>\n",
       "    .dataframe tbody tr th:only-of-type {\n",
       "        vertical-align: middle;\n",
       "    }\n",
       "\n",
       "    .dataframe tbody tr th {\n",
       "        vertical-align: top;\n",
       "    }\n",
       "\n",
       "    .dataframe thead th {\n",
       "        text-align: right;\n",
       "    }\n",
       "</style>\n",
       "<table border=\"1\" class=\"dataframe\">\n",
       "  <thead>\n",
       "    <tr style=\"text-align: right;\">\n",
       "      <th></th>\n",
       "      <th>carat</th>\n",
       "      <th>cut</th>\n",
       "      <th>color</th>\n",
       "      <th>clarity</th>\n",
       "      <th>depth</th>\n",
       "      <th>table</th>\n",
       "      <th>price</th>\n",
       "      <th>x</th>\n",
       "      <th>y</th>\n",
       "      <th>z</th>\n",
       "    </tr>\n",
       "  </thead>\n",
       "  <tbody>\n",
       "    <tr>\n",
       "      <th>0</th>\n",
       "      <td>0.23</td>\n",
       "      <td>Ideal</td>\n",
       "      <td>E</td>\n",
       "      <td>SI2</td>\n",
       "      <td>61.5</td>\n",
       "      <td>55.0</td>\n",
       "      <td>326</td>\n",
       "      <td>3.95</td>\n",
       "      <td>3.98</td>\n",
       "      <td>2.43</td>\n",
       "    </tr>\n",
       "    <tr>\n",
       "      <th>1</th>\n",
       "      <td>0.21</td>\n",
       "      <td>Premium</td>\n",
       "      <td>E</td>\n",
       "      <td>SI1</td>\n",
       "      <td>59.8</td>\n",
       "      <td>61.0</td>\n",
       "      <td>326</td>\n",
       "      <td>3.89</td>\n",
       "      <td>3.84</td>\n",
       "      <td>2.31</td>\n",
       "    </tr>\n",
       "    <tr>\n",
       "      <th>2</th>\n",
       "      <td>0.23</td>\n",
       "      <td>Good</td>\n",
       "      <td>E</td>\n",
       "      <td>VS1</td>\n",
       "      <td>56.9</td>\n",
       "      <td>65.0</td>\n",
       "      <td>327</td>\n",
       "      <td>4.05</td>\n",
       "      <td>4.07</td>\n",
       "      <td>2.31</td>\n",
       "    </tr>\n",
       "    <tr>\n",
       "      <th>3</th>\n",
       "      <td>0.29</td>\n",
       "      <td>Premium</td>\n",
       "      <td>I</td>\n",
       "      <td>VS2</td>\n",
       "      <td>62.4</td>\n",
       "      <td>58.0</td>\n",
       "      <td>334</td>\n",
       "      <td>4.20</td>\n",
       "      <td>4.23</td>\n",
       "      <td>2.63</td>\n",
       "    </tr>\n",
       "    <tr>\n",
       "      <th>4</th>\n",
       "      <td>0.31</td>\n",
       "      <td>Good</td>\n",
       "      <td>J</td>\n",
       "      <td>SI2</td>\n",
       "      <td>63.3</td>\n",
       "      <td>58.0</td>\n",
       "      <td>335</td>\n",
       "      <td>4.34</td>\n",
       "      <td>4.35</td>\n",
       "      <td>2.75</td>\n",
       "    </tr>\n",
       "  </tbody>\n",
       "</table>\n",
       "</div>"
      ],
      "text/plain": [
       "   carat      cut color clarity  depth  table  price     x     y     z\n",
       "0   0.23    Ideal     E     SI2   61.5   55.0    326  3.95  3.98  2.43\n",
       "1   0.21  Premium     E     SI1   59.8   61.0    326  3.89  3.84  2.31\n",
       "2   0.23     Good     E     VS1   56.9   65.0    327  4.05  4.07  2.31\n",
       "3   0.29  Premium     I     VS2   62.4   58.0    334  4.20  4.23  2.63\n",
       "4   0.31     Good     J     SI2   63.3   58.0    335  4.34  4.35  2.75"
      ]
     },
     "execution_count": 14,
     "metadata": {},
     "output_type": "execute_result"
    }
   ],
   "source": [
    "diamonds.head()"
   ]
  },
  {
   "cell_type": "code",
   "execution_count": 21,
   "metadata": {},
   "outputs": [
    {
     "data": {
      "text/plain": [
       "['Ideal', 'Premium', 'Good', 'Very Good', 'Fair']\n",
       "Categories (5, object): ['Ideal', 'Premium', 'Very Good', 'Good', 'Fair']"
      ]
     },
     "execution_count": 21,
     "metadata": {},
     "output_type": "execute_result"
    }
   ],
   "source": [
    "diamonds['cut'].unique()"
   ]
  },
  {
   "cell_type": "code",
   "execution_count": 15,
   "metadata": {},
   "outputs": [],
   "source": [
    "from sklearn.preprocessing import OrdinalEncoder\n",
    "\n",
    "X = diamonds.drop(\"cut\", axis=1)\n",
    "y = diamonds[['cut']]\n",
    "\n",
    "# Encode y to numeric\n",
    "y_encoded = OrdinalEncoder().fit_transform(y)\n",
    "\n",
    "# Extract text features (categorical features)\n",
    "cats = X.select_dtypes(exclude=np.number).columns.tolist()\n",
    "\n",
    "# Convert to pd.Categorical\n",
    "for col in cats:\n",
    "   X[col] = X[col].astype('category')\n",
    "\n",
    "# Split the data\n",
    "X_train, X_test, y_train, y_test = train_test_split(X, y_encoded, random_state=1, stratify=y_encoded)"
   ]
  },
  {
   "cell_type": "code",
   "execution_count": 20,
   "metadata": {},
   "outputs": [],
   "source": [
    "# Create classification matrices\n",
    "dtrain_clf = xgb.DMatrix(X_train, y_train, enable_categorical=True)\n",
    "dtest_clf = xgb.DMatrix(X_test, y_test, enable_categorical=True)"
   ]
  },
  {
   "cell_type": "code",
   "execution_count": 22,
   "metadata": {},
   "outputs": [],
   "source": [
    "# classification objectives:\n",
    "# binary:logistic - binary classification\n",
    "# multi:softprob - multi-class classification\n",
    "params = {\"objective\": \"multi:softprob\", \"tree_method\": \"gpu_hist\", \"num_class\": 5}\n",
    "n = 1000\n",
    "\n",
    "results = xgb.cv(\n",
    "   params, dtrain_clf,\n",
    "   num_boost_round=n,\n",
    "   nfold=5,\n",
    "   metrics=[\"mlogloss\", \"auc\", \"merror\"],\n",
    ")"
   ]
  },
  {
   "cell_type": "code",
   "execution_count": 24,
   "metadata": {},
   "outputs": [
    {
     "data": {
      "text/plain": [
       "Index(['train-mlogloss-mean', 'train-mlogloss-std', 'train-auc-mean',\n",
       "       'train-auc-std', 'train-merror-mean', 'train-merror-std',\n",
       "       'test-mlogloss-mean', 'test-mlogloss-std', 'test-auc-mean',\n",
       "       'test-auc-std', 'test-merror-mean', 'test-merror-std'],\n",
       "      dtype='object')"
      ]
     },
     "execution_count": 24,
     "metadata": {},
     "output_type": "execute_result"
    }
   ],
   "source": [
    "results.keys()"
   ]
  },
  {
   "cell_type": "code",
   "execution_count": 25,
   "metadata": {},
   "outputs": [
    {
     "data": {
      "text/html": [
       "<div>\n",
       "<style scoped>\n",
       "    .dataframe tbody tr th:only-of-type {\n",
       "        vertical-align: middle;\n",
       "    }\n",
       "\n",
       "    .dataframe tbody tr th {\n",
       "        vertical-align: top;\n",
       "    }\n",
       "\n",
       "    .dataframe thead th {\n",
       "        text-align: right;\n",
       "    }\n",
       "</style>\n",
       "<table border=\"1\" class=\"dataframe\">\n",
       "  <thead>\n",
       "    <tr style=\"text-align: right;\">\n",
       "      <th></th>\n",
       "      <th>train-mlogloss-mean</th>\n",
       "      <th>train-mlogloss-std</th>\n",
       "      <th>train-auc-mean</th>\n",
       "      <th>train-auc-std</th>\n",
       "      <th>train-merror-mean</th>\n",
       "      <th>train-merror-std</th>\n",
       "      <th>test-mlogloss-mean</th>\n",
       "      <th>test-mlogloss-std</th>\n",
       "      <th>test-auc-mean</th>\n",
       "      <th>test-auc-std</th>\n",
       "      <th>test-merror-mean</th>\n",
       "      <th>test-merror-std</th>\n",
       "    </tr>\n",
       "  </thead>\n",
       "  <tbody>\n",
       "    <tr>\n",
       "      <th>0</th>\n",
       "      <td>1.257409</td>\n",
       "      <td>0.000782</td>\n",
       "      <td>0.892285</td>\n",
       "      <td>0.000563</td>\n",
       "      <td>0.255710</td>\n",
       "      <td>0.000651</td>\n",
       "      <td>1.260793</td>\n",
       "      <td>0.001452</td>\n",
       "      <td>0.887334</td>\n",
       "      <td>0.001921</td>\n",
       "      <td>0.259523</td>\n",
       "      <td>0.002094</td>\n",
       "    </tr>\n",
       "    <tr>\n",
       "      <th>1</th>\n",
       "      <td>1.073167</td>\n",
       "      <td>0.001003</td>\n",
       "      <td>0.897218</td>\n",
       "      <td>0.000160</td>\n",
       "      <td>0.253504</td>\n",
       "      <td>0.000926</td>\n",
       "      <td>1.079268</td>\n",
       "      <td>0.002086</td>\n",
       "      <td>0.891691</td>\n",
       "      <td>0.001992</td>\n",
       "      <td>0.256878</td>\n",
       "      <td>0.002851</td>\n",
       "    </tr>\n",
       "    <tr>\n",
       "      <th>2</th>\n",
       "      <td>0.954967</td>\n",
       "      <td>0.001302</td>\n",
       "      <td>0.900405</td>\n",
       "      <td>0.000719</td>\n",
       "      <td>0.251619</td>\n",
       "      <td>0.001775</td>\n",
       "      <td>0.964115</td>\n",
       "      <td>0.002876</td>\n",
       "      <td>0.894420</td>\n",
       "      <td>0.001655</td>\n",
       "      <td>0.255395</td>\n",
       "      <td>0.002223</td>\n",
       "    </tr>\n",
       "    <tr>\n",
       "      <th>3</th>\n",
       "      <td>0.874072</td>\n",
       "      <td>0.001335</td>\n",
       "      <td>0.903007</td>\n",
       "      <td>0.000390</td>\n",
       "      <td>0.250031</td>\n",
       "      <td>0.001914</td>\n",
       "      <td>0.886048</td>\n",
       "      <td>0.003267</td>\n",
       "      <td>0.896543</td>\n",
       "      <td>0.001724</td>\n",
       "      <td>0.254554</td>\n",
       "      <td>0.002085</td>\n",
       "    </tr>\n",
       "    <tr>\n",
       "      <th>4</th>\n",
       "      <td>0.815379</td>\n",
       "      <td>0.001882</td>\n",
       "      <td>0.905992</td>\n",
       "      <td>0.001058</td>\n",
       "      <td>0.248492</td>\n",
       "      <td>0.001517</td>\n",
       "      <td>0.830267</td>\n",
       "      <td>0.003249</td>\n",
       "      <td>0.898867</td>\n",
       "      <td>0.001481</td>\n",
       "      <td>0.253590</td>\n",
       "      <td>0.002531</td>\n",
       "    </tr>\n",
       "  </tbody>\n",
       "</table>\n",
       "</div>"
      ],
      "text/plain": [
       "   train-mlogloss-mean  train-mlogloss-std  train-auc-mean  train-auc-std  \\\n",
       "0             1.257409            0.000782        0.892285       0.000563   \n",
       "1             1.073167            0.001003        0.897218       0.000160   \n",
       "2             0.954967            0.001302        0.900405       0.000719   \n",
       "3             0.874072            0.001335        0.903007       0.000390   \n",
       "4             0.815379            0.001882        0.905992       0.001058   \n",
       "\n",
       "   train-merror-mean  train-merror-std  test-mlogloss-mean  test-mlogloss-std  \\\n",
       "0           0.255710          0.000651            1.260793           0.001452   \n",
       "1           0.253504          0.000926            1.079268           0.002086   \n",
       "2           0.251619          0.001775            0.964115           0.002876   \n",
       "3           0.250031          0.001914            0.886048           0.003267   \n",
       "4           0.248492          0.001517            0.830267           0.003249   \n",
       "\n",
       "   test-auc-mean  test-auc-std  test-merror-mean  test-merror-std  \n",
       "0       0.887334      0.001921          0.259523         0.002094  \n",
       "1       0.891691      0.001992          0.256878         0.002851  \n",
       "2       0.894420      0.001655          0.255395         0.002223  \n",
       "3       0.896543      0.001724          0.254554         0.002085  \n",
       "4       0.898867      0.001481          0.253590         0.002531  "
      ]
     },
     "execution_count": 25,
     "metadata": {},
     "output_type": "execute_result"
    }
   ],
   "source": [
    "results.head()"
   ]
  },
  {
   "cell_type": "code",
   "execution_count": 26,
   "metadata": {},
   "outputs": [
    {
     "data": {
      "text/plain": [
       "0.9402233623451636"
      ]
     },
     "execution_count": 26,
     "metadata": {},
     "output_type": "execute_result"
    }
   ],
   "source": [
    "results['test-auc-mean'].max()"
   ]
  }
 ],
 "metadata": {
  "kernelspec": {
   "display_name": "Python 3",
   "language": "python",
   "name": "python3"
  },
  "language_info": {
   "codemirror_mode": {
    "name": "ipython",
    "version": 3
   },
   "file_extension": ".py",
   "mimetype": "text/x-python",
   "name": "python",
   "nbconvert_exporter": "python",
   "pygments_lexer": "ipython3",
   "version": "3.9.12"
  }
 },
 "nbformat": 4,
 "nbformat_minor": 2
}

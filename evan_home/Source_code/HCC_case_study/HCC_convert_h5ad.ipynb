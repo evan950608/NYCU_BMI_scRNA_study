{
 "cells": [
  {
   "cell_type": "code",
   "execution_count": 1,
   "metadata": {},
   "outputs": [
    {
     "name": "stdout",
     "output_type": "stream",
     "text": [
      "Home Path: c:\\Users\\evanlee\\Documents\\Bmi_NAS_evan\\evan_home\n"
     ]
    }
   ],
   "source": [
    "from pathlib import Path\n",
    "\n",
    "# Get the current working directory as a Path object\n",
    "current_path = Path.cwd()\n",
    "home_folder = 'evan_home'\n",
    "\n",
    "# Traverse up the directory tree until you find the target folder\n",
    "for parent in [current_path] + list(current_path.parents):\n",
    "    if parent.name == home_folder:\n",
    "        home_path = parent\n",
    "        break\n",
    "else:\n",
    "    raise ValueError(f\"Folder '{home_folder}' not found in the current working directory.\")\n",
    "\n",
    "print(\"Home Path:\", home_path)\n",
    "source_code_dir = home_path / 'Source_code'\n",
    "dataset_dir = home_path / 'Dataset'\n"
   ]
  },
  {
   "cell_type": "code",
   "execution_count": 2,
   "metadata": {},
   "outputs": [],
   "source": [
    "import numpy as np\n",
    "import pandas as pd\n",
    "import matplotlib.pyplot as plt\n",
    "import scanpy as sc\n",
    "import os\n",
    "import csv"
   ]
  },
  {
   "cell_type": "code",
   "execution_count": 3,
   "metadata": {},
   "outputs": [],
   "source": [
    "# HCC_dataset_dir = '/Users/evanli/Documents/Research_datasets/HCC_Lu'\n",
    "# HCC_dataset_dir = r'C:\\Users\\evanlee\\Documents\\Research_datasets\\HCC_Lu'\n",
    "HCC_dataset_dir = dataset_dir / 'HCC_Lu'\n",
    "data_file = \"GSE149614_HCC.scRNAseq.S71915.count.txt.gz\"\n",
    "var_names_file = ''\n",
    "obs_names_file = ''\n",
    "output_h5ad_file = \"HCC_Lu_GSE149614_raw.h5ad\"\n",
    "metadata_file = 'GSE149614_HCC.metadata.updated.txt'\n",
    "\n",
    "data_path = os.path.join(HCC_dataset_dir,data_file)\n",
    "var_names_path = os.path.join(HCC_dataset_dir,var_names_file)\n",
    "obs_names_path = os.path.join(HCC_dataset_dir,obs_names_file)\n",
    "metadata_path = os.path.join(HCC_dataset_dir, metadata_file)\n",
    "output_h5ad_path = os.path.join(HCC_dataset_dir,output_h5ad_file)"
   ]
  },
  {
   "cell_type": "code",
   "execution_count": null,
   "metadata": {},
   "outputs": [],
   "source": [
    "with open(var_names_path, \"r\") as var_file:\n",
    "    var_read = csv.reader(var_file, delimiter='\\t')\n",
    "    var_names = []\n",
    "    for row in var_read:\n",
    "        var_names.append(row[1])"
   ]
  },
  {
   "cell_type": "code",
   "execution_count": null,
   "metadata": {},
   "outputs": [],
   "source": [
    "with open(obs_names_path, \"r\") as obs_file:\n",
    "    obs_read = csv.reader(obs_file, delimiter='\\t')\n",
    "    obs_names = []\n",
    "    for row in obs_read:\n",
    "        obs_names.append(row[0])"
   ]
  },
  {
   "cell_type": "code",
   "execution_count": 4,
   "metadata": {},
   "outputs": [
    {
     "name": "stdout",
     "output_type": "stream",
     "text": [
      "WARNING: Your filename has more than two extensions: ['.scRNAseq', '.S71915', '.count', '.txt', '.gz'].\n",
      "Only considering the two last: ['.txt', '.gz'].\n",
      "WARNING: Your filename has more than two extensions: ['.scRNAseq', '.S71915', '.count', '.txt', '.gz'].\n",
      "Only considering the two last: ['.txt', '.gz'].\n",
      "WARNING: Your filename has more than two extensions: ['.scRNAseq', '.S71915', '.count', '.txt', '.gz'].\n",
      "Only considering the two last: ['.txt', '.gz'].\n"
     ]
    }
   ],
   "source": [
    "adata = sc.read(data_path) \n",
    "adata = adata.transpose()"
   ]
  },
  {
   "cell_type": "code",
   "execution_count": 5,
   "metadata": {},
   "outputs": [
    {
     "data": {
      "text/plain": [
       "(71915, 25712)"
      ]
     },
     "execution_count": 5,
     "metadata": {},
     "output_type": "execute_result"
    }
   ],
   "source": [
    "# adata.var_names = var_names\n",
    "adata.var_names_make_unique()\n",
    "# adata.obs_names = obs_names\n",
    "adata.obs_names_make_unique()\n",
    "adata.shape"
   ]
  },
  {
   "cell_type": "code",
   "execution_count": 6,
   "metadata": {},
   "outputs": [
    {
     "data": {
      "text/plain": [
       "numpy.ndarray"
      ]
     },
     "execution_count": 6,
     "metadata": {},
     "output_type": "execute_result"
    }
   ],
   "source": [
    "type(adata.X)"
   ]
  },
  {
   "cell_type": "code",
   "execution_count": 7,
   "metadata": {},
   "outputs": [
    {
     "data": {
      "text/plain": [
       "scipy.sparse._csc.csc_matrix"
      ]
     },
     "execution_count": 7,
     "metadata": {},
     "output_type": "execute_result"
    }
   ],
   "source": [
    "# turn dense to sparse matrix\n",
    "from scipy.sparse import csc_matrix\n",
    "\n",
    "sparse_matrix = csc_matrix(adata.X)\n",
    "type(sparse_matrix)\n"
   ]
  },
  {
   "cell_type": "code",
   "execution_count": 8,
   "metadata": {},
   "outputs": [
    {
     "data": {
      "text/plain": [
       "scipy.sparse._csc.csc_matrix"
      ]
     },
     "execution_count": 8,
     "metadata": {},
     "output_type": "execute_result"
    }
   ],
   "source": [
    "adata.X = sparse_matrix\n",
    "type(adata.X)"
   ]
  },
  {
   "cell_type": "code",
   "execution_count": 9,
   "metadata": {},
   "outputs": [
    {
     "data": {
      "text/html": [
       "<div>\n",
       "<style scoped>\n",
       "    .dataframe tbody tr th:only-of-type {\n",
       "        vertical-align: middle;\n",
       "    }\n",
       "\n",
       "    .dataframe tbody tr th {\n",
       "        vertical-align: top;\n",
       "    }\n",
       "\n",
       "    .dataframe thead th {\n",
       "        text-align: right;\n",
       "    }\n",
       "</style>\n",
       "<table border=\"1\" class=\"dataframe\">\n",
       "  <thead>\n",
       "    <tr style=\"text-align: right;\">\n",
       "      <th></th>\n",
       "      <th>Cell</th>\n",
       "      <th>sample</th>\n",
       "      <th>res.3</th>\n",
       "      <th>site</th>\n",
       "      <th>patient</th>\n",
       "      <th>stage</th>\n",
       "      <th>virus</th>\n",
       "      <th>celltype</th>\n",
       "    </tr>\n",
       "  </thead>\n",
       "  <tbody>\n",
       "    <tr>\n",
       "      <th>0</th>\n",
       "      <td>HCC01T_AAACCTGAGGGCATGT</td>\n",
       "      <td>HCC01T</td>\n",
       "      <td>13</td>\n",
       "      <td>Tumor</td>\n",
       "      <td>HCC01</td>\n",
       "      <td>I</td>\n",
       "      <td>HBV</td>\n",
       "      <td>T/NK</td>\n",
       "    </tr>\n",
       "    <tr>\n",
       "      <th>1</th>\n",
       "      <td>HCC01T_AAACCTGAGTCGCCGT</td>\n",
       "      <td>HCC01T</td>\n",
       "      <td>16</td>\n",
       "      <td>Tumor</td>\n",
       "      <td>HCC01</td>\n",
       "      <td>I</td>\n",
       "      <td>HBV</td>\n",
       "      <td>Myeloid</td>\n",
       "    </tr>\n",
       "    <tr>\n",
       "      <th>2</th>\n",
       "      <td>HCC01T_AAACCTGCATTACCTT</td>\n",
       "      <td>HCC01T</td>\n",
       "      <td>25</td>\n",
       "      <td>Tumor</td>\n",
       "      <td>HCC01</td>\n",
       "      <td>I</td>\n",
       "      <td>HBV</td>\n",
       "      <td>T/NK</td>\n",
       "    </tr>\n",
       "    <tr>\n",
       "      <th>3</th>\n",
       "      <td>HCC01T_AAACCTGGTCACACGC</td>\n",
       "      <td>HCC01T</td>\n",
       "      <td>2</td>\n",
       "      <td>Tumor</td>\n",
       "      <td>HCC01</td>\n",
       "      <td>I</td>\n",
       "      <td>HBV</td>\n",
       "      <td>T/NK</td>\n",
       "    </tr>\n",
       "    <tr>\n",
       "      <th>4</th>\n",
       "      <td>HCC01T_AAACCTGTCCAGTATG</td>\n",
       "      <td>HCC01T</td>\n",
       "      <td>2</td>\n",
       "      <td>Tumor</td>\n",
       "      <td>HCC01</td>\n",
       "      <td>I</td>\n",
       "      <td>HBV</td>\n",
       "      <td>T/NK</td>\n",
       "    </tr>\n",
       "  </tbody>\n",
       "</table>\n",
       "</div>"
      ],
      "text/plain": [
       "                      Cell  sample  res.3   site patient stage virus celltype\n",
       "0  HCC01T_AAACCTGAGGGCATGT  HCC01T     13  Tumor   HCC01     I   HBV     T/NK\n",
       "1  HCC01T_AAACCTGAGTCGCCGT  HCC01T     16  Tumor   HCC01     I   HBV  Myeloid\n",
       "2  HCC01T_AAACCTGCATTACCTT  HCC01T     25  Tumor   HCC01     I   HBV     T/NK\n",
       "3  HCC01T_AAACCTGGTCACACGC  HCC01T      2  Tumor   HCC01     I   HBV     T/NK\n",
       "4  HCC01T_AAACCTGTCCAGTATG  HCC01T      2  Tumor   HCC01     I   HBV     T/NK"
      ]
     },
     "execution_count": 9,
     "metadata": {},
     "output_type": "execute_result"
    }
   ],
   "source": [
    "metadata = pd.read_csv(metadata_path, sep='\\t')\n",
    "metadata.head()"
   ]
  },
  {
   "cell_type": "code",
   "execution_count": 10,
   "metadata": {},
   "outputs": [
    {
     "data": {
      "text/html": [
       "<div>\n",
       "<style scoped>\n",
       "    .dataframe tbody tr th:only-of-type {\n",
       "        vertical-align: middle;\n",
       "    }\n",
       "\n",
       "    .dataframe tbody tr th {\n",
       "        vertical-align: top;\n",
       "    }\n",
       "\n",
       "    .dataframe thead th {\n",
       "        text-align: right;\n",
       "    }\n",
       "</style>\n",
       "<table border=\"1\" class=\"dataframe\">\n",
       "  <thead>\n",
       "    <tr style=\"text-align: right;\">\n",
       "      <th></th>\n",
       "      <th>celltype</th>\n",
       "      <th>res_3_clus</th>\n",
       "      <th>sample</th>\n",
       "      <th>site</th>\n",
       "      <th>patient</th>\n",
       "      <th>stage</th>\n",
       "      <th>virus</th>\n",
       "    </tr>\n",
       "  </thead>\n",
       "  <tbody>\n",
       "    <tr>\n",
       "      <th>HCC01T_AAACCTGAGGGCATGT</th>\n",
       "      <td>T/NK</td>\n",
       "      <td>13</td>\n",
       "      <td>HCC01T</td>\n",
       "      <td>Tumor</td>\n",
       "      <td>HCC01</td>\n",
       "      <td>I</td>\n",
       "      <td>HBV</td>\n",
       "    </tr>\n",
       "    <tr>\n",
       "      <th>HCC01T_AAACCTGAGTCGCCGT</th>\n",
       "      <td>Myeloid</td>\n",
       "      <td>16</td>\n",
       "      <td>HCC01T</td>\n",
       "      <td>Tumor</td>\n",
       "      <td>HCC01</td>\n",
       "      <td>I</td>\n",
       "      <td>HBV</td>\n",
       "    </tr>\n",
       "    <tr>\n",
       "      <th>HCC01T_AAACCTGCATTACCTT</th>\n",
       "      <td>T/NK</td>\n",
       "      <td>25</td>\n",
       "      <td>HCC01T</td>\n",
       "      <td>Tumor</td>\n",
       "      <td>HCC01</td>\n",
       "      <td>I</td>\n",
       "      <td>HBV</td>\n",
       "    </tr>\n",
       "    <tr>\n",
       "      <th>HCC01T_AAACCTGGTCACACGC</th>\n",
       "      <td>T/NK</td>\n",
       "      <td>2</td>\n",
       "      <td>HCC01T</td>\n",
       "      <td>Tumor</td>\n",
       "      <td>HCC01</td>\n",
       "      <td>I</td>\n",
       "      <td>HBV</td>\n",
       "    </tr>\n",
       "    <tr>\n",
       "      <th>HCC01T_AAACCTGTCCAGTATG</th>\n",
       "      <td>T/NK</td>\n",
       "      <td>2</td>\n",
       "      <td>HCC01T</td>\n",
       "      <td>Tumor</td>\n",
       "      <td>HCC01</td>\n",
       "      <td>I</td>\n",
       "      <td>HBV</td>\n",
       "    </tr>\n",
       "  </tbody>\n",
       "</table>\n",
       "</div>"
      ],
      "text/plain": [
       "                        celltype  res_3_clus  sample   site patient stage  \\\n",
       "HCC01T_AAACCTGAGGGCATGT     T/NK          13  HCC01T  Tumor   HCC01     I   \n",
       "HCC01T_AAACCTGAGTCGCCGT  Myeloid          16  HCC01T  Tumor   HCC01     I   \n",
       "HCC01T_AAACCTGCATTACCTT     T/NK          25  HCC01T  Tumor   HCC01     I   \n",
       "HCC01T_AAACCTGGTCACACGC     T/NK           2  HCC01T  Tumor   HCC01     I   \n",
       "HCC01T_AAACCTGTCCAGTATG     T/NK           2  HCC01T  Tumor   HCC01     I   \n",
       "\n",
       "                        virus  \n",
       "HCC01T_AAACCTGAGGGCATGT   HBV  \n",
       "HCC01T_AAACCTGAGTCGCCGT   HBV  \n",
       "HCC01T_AAACCTGCATTACCTT   HBV  \n",
       "HCC01T_AAACCTGGTCACACGC   HBV  \n",
       "HCC01T_AAACCTGTCCAGTATG   HBV  "
      ]
     },
     "execution_count": 10,
     "metadata": {},
     "output_type": "execute_result"
    }
   ],
   "source": [
    "adata.obs['celltype'] = metadata['celltype'].tolist()\n",
    "adata.obs['res_3_clus'] = metadata['res.3'].tolist()\n",
    "adata.obs['sample'] = metadata['sample'].tolist()\n",
    "adata.obs['site'] = metadata['site'].tolist()\n",
    "adata.obs['patient'] = metadata['patient'].tolist()\n",
    "adata.obs['stage'] = metadata['stage'].tolist()\n",
    "adata.obs['virus'] = metadata['virus'].tolist()\n",
    "\n",
    "adata.obs.head()"
   ]
  },
  {
   "cell_type": "code",
   "execution_count": 11,
   "metadata": {},
   "outputs": [
    {
     "name": "stdout",
     "output_type": "stream",
     "text": [
      "Row 0, Column 2, Value 1.0\n",
      "Row 0, Column 10, Value 1.0\n",
      "Row 0, Column 18, Value 1.0\n",
      "Row 0, Column 20, Value 2.0\n",
      "Row 0, Column 21, Value 1.0\n",
      "Row 0, Column 22, Value 2.0\n",
      "Row 0, Column 43, Value 3.0\n",
      "Row 0, Column 68, Value 1.0\n",
      "Row 0, Column 92, Value 1.0\n",
      "Row 0, Column 99, Value 8.0\n",
      "Row 0, Column 109, Value 1.0\n",
      "Row 0, Column 125, Value 1.0\n",
      "Row 0, Column 150, Value 1.0\n",
      "Row 0, Column 168, Value 1.0\n",
      "Row 0, Column 181, Value 1.0\n",
      "Row 0, Column 183, Value 2.0\n",
      "Row 0, Column 185, Value 1.0\n",
      "Row 0, Column 196, Value 1.0\n",
      "Row 0, Column 220, Value 1.0\n",
      "Row 0, Column 222, Value 2.0\n"
     ]
    }
   ],
   "source": [
    "# Briefly view adata.X (raw counts)\n",
    "rows, cols = adata.X[:5,:].nonzero()\n",
    "i = 0\n",
    "for row, col in zip(rows, cols):\n",
    "    if i == 20: break\n",
    "    print(f'Row {row}, Column {col}, Value {adata.X[row, col]}')\n",
    "    i += 1\n"
   ]
  },
  {
   "cell_type": "markdown",
   "metadata": {},
   "source": [
    "## Write as .h5ad"
   ]
  },
  {
   "cell_type": "code",
   "execution_count": 12,
   "metadata": {},
   "outputs": [
    {
     "data": {
      "text/plain": [
       "'c:\\\\Users\\\\evanlee\\\\Documents\\\\Bmi_NAS_evan\\\\evan_home\\\\Dataset\\\\HCC_Lu\\\\HCC_Lu_GSE149614_raw.h5ad'"
      ]
     },
     "execution_count": 12,
     "metadata": {},
     "output_type": "execute_result"
    }
   ],
   "source": [
    "output_h5ad_path"
   ]
  },
  {
   "cell_type": "code",
   "execution_count": 12,
   "metadata": {},
   "outputs": [
    {
     "data": {
      "text/plain": [
       "(71915, 25712)"
      ]
     },
     "execution_count": 12,
     "metadata": {},
     "output_type": "execute_result"
    }
   ],
   "source": [
    "adata.shape"
   ]
  },
  {
   "cell_type": "code",
   "execution_count": 13,
   "metadata": {},
   "outputs": [],
   "source": [
    "adata.write(filename=output_h5ad_path)"
   ]
  },
  {
   "cell_type": "code",
   "execution_count": null,
   "metadata": {},
   "outputs": [],
   "source": []
  }
 ],
 "metadata": {
  "kernelspec": {
   "display_name": "Python 3",
   "language": "python",
   "name": "python3"
  },
  "language_info": {
   "codemirror_mode": {
    "name": "ipython",
    "version": 3
   },
   "file_extension": ".py",
   "mimetype": "text/x-python",
   "name": "python",
   "nbconvert_exporter": "python",
   "pygments_lexer": "ipython3",
   "version": "3.9.12"
  }
 },
 "nbformat": 4,
 "nbformat_minor": 2
}
